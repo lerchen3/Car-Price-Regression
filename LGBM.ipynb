{
 "cells": [
  {
   "cell_type": "code",
   "execution_count": 55,
   "metadata": {},
   "outputs": [],
   "source": [
    "import lightgbm as lgb\n",
    "from lightgbm import early_stopping, log_evaluation\n",
    "from sklearn.metrics import mean_squared_error\n",
    "from sklearn.model_selection import cross_val_score\n",
    "import pandas as pd\n",
    "import numpy as np\n",
    "import optuna\n",
    "from optuna.samplers import TPESampler\n",
    "from sklearn.model_selection import StratifiedKFold\n",
    "\n",
    "\n",
    "X_data = pd.read_csv('X_data.csv')\n",
    "y_data = pd.read_csv('y_data.csv')"
   ]
  },
  {
   "cell_type": "code",
   "execution_count": 56,
   "metadata": {},
   "outputs": [],
   "source": [
    "fold_number = 5"
   ]
  },
  {
   "cell_type": "code",
   "execution_count": 58,
   "metadata": {},
   "outputs": [
    {
     "name": "stderr",
     "output_type": "stream",
     "text": [
      "[I 2024-09-21 21:07:50,939] A new study created in memory with name: no-name-946c926b-69d8-4f9d-b58f-e3a2bc534b8c\n"
     ]
    },
    {
     "name": "stderr",
     "output_type": "stream",
     "text": [
      "c:\\Users\\lerch\\miniconda3\\envs\\cars\\Lib\\site-packages\\lightgbm\\engine.py:204: UserWarning: Found `n_estimators` in params. Will use it instead of argument\n",
      "  _log_warning(f\"Found `{alias}` in params. Will use it instead of argument\")\n"
     ]
    },
    {
     "name": "stdout",
     "output_type": "stream",
     "text": [
      "Training until validation scores don't improve for 50 rounds\n",
      "Early stopping, best iteration is:\n",
      "[43]\tvalid_0's l2: 5.26088e+09\n"
     ]
    },
    {
     "name": "stderr",
     "output_type": "stream",
     "text": [
      "c:\\Users\\lerch\\miniconda3\\envs\\cars\\Lib\\site-packages\\lightgbm\\engine.py:204: UserWarning: Found `n_estimators` in params. Will use it instead of argument\n",
      "  _log_warning(f\"Found `{alias}` in params. Will use it instead of argument\")\n"
     ]
    },
    {
     "name": "stdout",
     "output_type": "stream",
     "text": [
      "Training until validation scores don't improve for 50 rounds\n",
      "Early stopping, best iteration is:\n",
      "[38]\tvalid_0's l2: 5.25629e+09\n"
     ]
    },
    {
     "name": "stderr",
     "output_type": "stream",
     "text": [
      "c:\\Users\\lerch\\miniconda3\\envs\\cars\\Lib\\site-packages\\lightgbm\\engine.py:204: UserWarning: Found `n_estimators` in params. Will use it instead of argument\n",
      "  _log_warning(f\"Found `{alias}` in params. Will use it instead of argument\")\n"
     ]
    },
    {
     "name": "stdout",
     "output_type": "stream",
     "text": [
      "Training until validation scores don't improve for 50 rounds\n",
      "Early stopping, best iteration is:\n",
      "[37]\tvalid_0's l2: 5.24277e+09\n"
     ]
    },
    {
     "name": "stderr",
     "output_type": "stream",
     "text": [
      "c:\\Users\\lerch\\miniconda3\\envs\\cars\\Lib\\site-packages\\lightgbm\\engine.py:204: UserWarning: Found `n_estimators` in params. Will use it instead of argument\n",
      "  _log_warning(f\"Found `{alias}` in params. Will use it instead of argument\")\n"
     ]
    },
    {
     "name": "stdout",
     "output_type": "stream",
     "text": [
      "Training until validation scores don't improve for 50 rounds\n",
      "Early stopping, best iteration is:\n",
      "[46]\tvalid_0's l2: 5.2184e+09\n"
     ]
    },
    {
     "name": "stderr",
     "output_type": "stream",
     "text": [
      "c:\\Users\\lerch\\miniconda3\\envs\\cars\\Lib\\site-packages\\lightgbm\\engine.py:204: UserWarning: Found `n_estimators` in params. Will use it instead of argument\n",
      "  _log_warning(f\"Found `{alias}` in params. Will use it instead of argument\")\n"
     ]
    },
    {
     "name": "stdout",
     "output_type": "stream",
     "text": [
      "Training until validation scores don't improve for 50 rounds\n"
     ]
    },
    {
     "name": "stderr",
     "output_type": "stream",
     "text": [
      "[I 2024-09-21 21:08:05,799] Trial 0 finished with value: 72436.92451000314 and parameters: {'num_leaves': 609, 'max_depth': 11, 'learning_rate': 0.07960579883076778, 'n_estimators': 875, 'subsample': 0.7492535061512953, 'colsample_bytree': 0.6123983227654238, 'reg_alpha': 1.54304001490974e-06, 'reg_lambda': 1.1018509458263566, 'min_data_in_leaf': 53, 'feature_fraction': 0.5441699070870052, 'bagging_fraction': 0.8426799091838986, 'bagging_freq': 5, 'min_child_weight': 0.00010560624429728648, 'cat_smooth': 32.52312463051321}. Best is trial 0 with value: 72436.92451000314.\n"
     ]
    },
    {
     "name": "stdout",
     "output_type": "stream",
     "text": [
      "Early stopping, best iteration is:\n",
      "[39]\tvalid_0's l2: 5.2572e+09\n"
     ]
    },
    {
     "name": "stderr",
     "output_type": "stream",
     "text": [
      "c:\\Users\\lerch\\miniconda3\\envs\\cars\\Lib\\site-packages\\lightgbm\\engine.py:204: UserWarning: Found `n_estimators` in params. Will use it instead of argument\n",
      "  _log_warning(f\"Found `{alias}` in params. Will use it instead of argument\")\n"
     ]
    },
    {
     "name": "stdout",
     "output_type": "stream",
     "text": [
      "Training until validation scores don't improve for 50 rounds\n",
      "Early stopping, best iteration is:\n",
      "[18]\tvalid_0's l2: 5.2795e+09\n"
     ]
    },
    {
     "name": "stderr",
     "output_type": "stream",
     "text": [
      "c:\\Users\\lerch\\miniconda3\\envs\\cars\\Lib\\site-packages\\lightgbm\\engine.py:204: UserWarning: Found `n_estimators` in params. Will use it instead of argument\n",
      "  _log_warning(f\"Found `{alias}` in params. Will use it instead of argument\")\n"
     ]
    },
    {
     "name": "stdout",
     "output_type": "stream",
     "text": [
      "Training until validation scores don't improve for 50 rounds\n",
      "Early stopping, best iteration is:\n",
      "[18]\tvalid_0's l2: 5.25646e+09\n"
     ]
    },
    {
     "name": "stderr",
     "output_type": "stream",
     "text": [
      "c:\\Users\\lerch\\miniconda3\\envs\\cars\\Lib\\site-packages\\lightgbm\\engine.py:204: UserWarning: Found `n_estimators` in params. Will use it instead of argument\n",
      "  _log_warning(f\"Found `{alias}` in params. Will use it instead of argument\")\n"
     ]
    },
    {
     "name": "stdout",
     "output_type": "stream",
     "text": [
      "Training until validation scores don't improve for 50 rounds\n",
      "Early stopping, best iteration is:\n",
      "[14]\tvalid_0's l2: 5.25919e+09\n"
     ]
    },
    {
     "name": "stderr",
     "output_type": "stream",
     "text": [
      "c:\\Users\\lerch\\miniconda3\\envs\\cars\\Lib\\site-packages\\lightgbm\\engine.py:204: UserWarning: Found `n_estimators` in params. Will use it instead of argument\n",
      "  _log_warning(f\"Found `{alias}` in params. Will use it instead of argument\")\n"
     ]
    },
    {
     "name": "stdout",
     "output_type": "stream",
     "text": [
      "Training until validation scores don't improve for 50 rounds\n",
      "Early stopping, best iteration is:\n",
      "[21]\tvalid_0's l2: 5.25018e+09\n"
     ]
    },
    {
     "name": "stderr",
     "output_type": "stream",
     "text": [
      "c:\\Users\\lerch\\miniconda3\\envs\\cars\\Lib\\site-packages\\lightgbm\\engine.py:204: UserWarning: Found `n_estimators` in params. Will use it instead of argument\n",
      "  _log_warning(f\"Found `{alias}` in params. Will use it instead of argument\")\n"
     ]
    },
    {
     "name": "stdout",
     "output_type": "stream",
     "text": [
      "Training until validation scores don't improve for 50 rounds\n"
     ]
    }
   ],
   "source": [
    "def objective(trial):\n",
    "    params = {\n",
    "        \"num_leaves\" : trial.suggest_int(\"num_leaves\", 300, 700),\n",
    "        \"max_depth\" : trial.suggest_int(\"max_depth\", 10, 60),\n",
    "        \"learning_rate\" : trial.suggest_float(\"learning_rate\", 0.001, 1.0, log=True),\n",
    "        \"n_estimators\" : trial.suggest_int(\"n_estimators\", 500, 1000),\n",
    "        \"subsample\" : trial.suggest_float(\"subsample\", 0.5, 1.0),\n",
    "        \"colsample_bytree\" : trial.suggest_float(\"colsample_bytree\", 0.5, 1.0),\n",
    "        \"reg_alpha\" : trial.suggest_float(\"reg_alpha\", 1e-7, 0.1, log=True),\n",
    "        \"reg_lambda\" : trial.suggest_float(\"reg_lambda\", 1e-3, 1e1, log=True),\n",
    "        \"min_data_in_leaf\" : trial.suggest_int(\"min_data_in_leaf\", 40, 120),\n",
    "        \"feature_fraction\" : trial.suggest_float(\"feature_fraction\", 0.5, 1.0),\n",
    "        \"data_sample_strategy\" : \"bagging\",\n",
    "        \"bagging_fraction\" : trial.suggest_float(\"bagging_fraction\", 0.5, 1.0),\n",
    "        \"bagging_freq\" : trial.suggest_int(\"bagging_freq\", 1, 5),\n",
    "        'min_child_weight': trial.suggest_float('min_child_weight', 1e-4, 1e2, log=True),\n",
    "        'cat_smooth': trial.suggest_float('cat_smooth', 10, 100, log=True),\n",
    "\n",
    "        \"log_period\" : 1000,\n",
    "        \"random_state\" : 129,\n",
    "        \"verbose\" : -1}\n",
    "    train_predictions = np.zeros(188533)\n",
    "\n",
    "    skf = StratifiedKFold(n_splits=fold_number, shuffle=True, random_state=42)\n",
    "\n",
    "    for fold_idx, (train_indices, val_indices) in enumerate(skf.split(X_data.head(188533), y_data)):\n",
    "        X_train_fold, y_train_fold = X_data.iloc[train_indices], y_data.iloc[train_indices]\n",
    "        X_val_fold, y_val_fold = X_data.iloc[val_indices], y_data.iloc[val_indices]\n",
    "\n",
    "        train_data = lgb.Dataset(X_train_fold, label=y_train_fold)\n",
    "        valid_data = lgb.Dataset(X_val_fold, label=y_val_fold, reference=train_data)\n",
    "\n",
    "        model = lgb.train(\n",
    "            params,\n",
    "            train_data,\n",
    "            num_boost_round=params['n_estimators'],\n",
    "            valid_sets=[valid_data],\n",
    "            callbacks=[lgb.early_stopping(stopping_rounds=50)]\n",
    "        )\n",
    "\n",
    "        train_predictions[val_indices] = model.predict(X_val_fold, num_iteration=model.best_iteration)\n",
    "\n",
    "    rmse = mean_squared_error(train_predictions, y_data) ** 0.5\n",
    "\n",
    "    return(rmse)\n",
    "sampler = TPESampler(seed=10)  # Optional: Set a seed for reproducibility\n",
    "study = optuna.create_study(sampler=sampler, direction='minimize')\n",
    "study.optimize(objective, n_trials = 500)"
   ]
  },
  {
   "cell_type": "code",
   "execution_count": 51,
   "metadata": {},
   "outputs": [
    {
     "name": "stderr",
     "output_type": "stream",
     "text": [
      "c:\\Users\\lerch\\miniconda3\\envs\\cars\\Lib\\site-packages\\lightgbm\\engine.py:204: UserWarning: Found `n_estimators` in params. Will use it instead of argument\n",
      "  _log_warning(f\"Found `{alias}` in params. Will use it instead of argument\")\n"
     ]
    },
    {
     "name": "stdout",
     "output_type": "stream",
     "text": [
      "Training until validation scores don't improve for 50 rounds\n",
      "Early stopping, best iteration is:\n",
      "[320]\tvalid_0's l2: 5.11776e+09\n"
     ]
    },
    {
     "name": "stderr",
     "output_type": "stream",
     "text": [
      "c:\\Users\\lerch\\miniconda3\\envs\\cars\\Lib\\site-packages\\lightgbm\\engine.py:204: UserWarning: Found `n_estimators` in params. Will use it instead of argument\n",
      "  _log_warning(f\"Found `{alias}` in params. Will use it instead of argument\")\n"
     ]
    },
    {
     "name": "stdout",
     "output_type": "stream",
     "text": [
      "Training until validation scores don't improve for 50 rounds\n",
      "Early stopping, best iteration is:\n",
      "[193]\tvalid_0's l2: 4.1753e+09\n"
     ]
    },
    {
     "name": "stderr",
     "output_type": "stream",
     "text": [
      "c:\\Users\\lerch\\miniconda3\\envs\\cars\\Lib\\site-packages\\lightgbm\\engine.py:204: UserWarning: Found `n_estimators` in params. Will use it instead of argument\n",
      "  _log_warning(f\"Found `{alias}` in params. Will use it instead of argument\")\n"
     ]
    },
    {
     "name": "stdout",
     "output_type": "stream",
     "text": [
      "Training until validation scores don't improve for 50 rounds\n",
      "Early stopping, best iteration is:\n",
      "[219]\tvalid_0's l2: 5.50358e+09\n"
     ]
    },
    {
     "name": "stderr",
     "output_type": "stream",
     "text": [
      "c:\\Users\\lerch\\miniconda3\\envs\\cars\\Lib\\site-packages\\lightgbm\\engine.py:204: UserWarning: Found `n_estimators` in params. Will use it instead of argument\n",
      "  _log_warning(f\"Found `{alias}` in params. Will use it instead of argument\")\n"
     ]
    },
    {
     "name": "stdout",
     "output_type": "stream",
     "text": [
      "Training until validation scores don't improve for 50 rounds\n",
      "Early stopping, best iteration is:\n",
      "[269]\tvalid_0's l2: 6.15682e+09\n"
     ]
    },
    {
     "name": "stderr",
     "output_type": "stream",
     "text": [
      "c:\\Users\\lerch\\miniconda3\\envs\\cars\\Lib\\site-packages\\lightgbm\\engine.py:204: UserWarning: Found `n_estimators` in params. Will use it instead of argument\n",
      "  _log_warning(f\"Found `{alias}` in params. Will use it instead of argument\")\n"
     ]
    },
    {
     "name": "stdout",
     "output_type": "stream",
     "text": [
      "Training until validation scores don't improve for 50 rounds\n",
      "Early stopping, best iteration is:\n",
      "[216]\tvalid_0's l2: 5.19613e+09\n"
     ]
    }
   ],
   "source": [
    "fold_size = 188533 // fold_number\n",
    "indices = np.arange(188533)\n",
    "train_predictions = np.zeros(188533)\n",
    "test_predictions = np.zeros(125690)\n",
    "np.random.shuffle(indices)\n",
    "for fold_idx in range(fold_number):\n",
    "    val_indices = indices[fold_idx * fold_size:(fold_idx + 1) * fold_size]\n",
    "    train_indices = np.concatenate([indices[:fold_idx * fold_size], indices[(fold_idx + 1) * fold_size:]])\n",
    "\n",
    "    X_train_fold, y_train_fold = X_data.iloc[train_indices], y_data.iloc[train_indices]\n",
    "    X_val_fold, y_val_fold = X_data.iloc[val_indices], y_data.iloc[val_indices]\n",
    "\n",
    "    train_data = lgb.Dataset(X_train_fold, label=y_train_fold)\n",
    "    valid_data = lgb.Dataset(X_val_fold, label=y_val_fold, reference=train_data)\n",
    "    model = lgb.train(\n",
    "        params,\n",
    "        train_data,\n",
    "        num_boost_round=params['n_estimators'],\n",
    "        valid_sets=[valid_data],\n",
    "        callbacks=[lgb.early_stopping(stopping_rounds=50)]\n",
    "    )\n",
    "    train_predictions[val_indices] = model.predict(X_val_fold, num_iteration=model.best_iteration)\n",
    "    test_predictions += model.predict(X_data[188533 : (188533+125690)], num_iteration = model.best_iteration) * (1 / fold_number)\n",
    "rmse = mean_squared_error(train_predictions, y_data)**(0.5)"
   ]
  },
  {
   "cell_type": "code",
   "execution_count": 52,
   "metadata": {},
   "outputs": [
    {
     "name": "stdout",
     "output_type": "stream",
     "text": [
      "72317.7630552436\n"
     ]
    }
   ],
   "source": [
    "print(rmse)"
   ]
  },
  {
   "cell_type": "code",
   "execution_count": 54,
   "metadata": {},
   "outputs": [],
   "source": [
    "y_pred = pd.Series(test_predictions)\n",
    "for idx in range(len(y_pred)):\n",
    "    if(y_pred[idx] < 9000):\n",
    "        y_pred[idx] = 9000\n",
    "id = np.array([idx for idx in range(188533, 314223)])\n",
    "prediction = pd.DataFrame({'id' : id, 'price' : y_pred})\n",
    "prediction.to_csv('09212024carsprediction1.csv', index = False)"
   ]
  }
 ],
 "metadata": {
  "kernelspec": {
   "display_name": "cars",
   "language": "python",
   "name": "python3"
  },
  "language_info": {
   "codemirror_mode": {
    "name": "ipython",
    "version": 3
   },
   "file_extension": ".py",
   "mimetype": "text/x-python",
   "name": "python",
   "nbconvert_exporter": "python",
   "pygments_lexer": "ipython3",
   "version": "3.12.3"
  }
 },
 "nbformat": 4,
 "nbformat_minor": 2
}
