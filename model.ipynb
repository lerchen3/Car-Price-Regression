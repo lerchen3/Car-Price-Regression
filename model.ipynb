{
 "cells": [
  {
   "cell_type": "code",
   "execution_count": 1,
   "metadata": {},
   "outputs": [],
   "source": [
    "import pandas as pd\n",
    "import numpy as np\n",
    "from sklearn.preprocessing import StandardScaler"
   ]
  },
  {
   "cell_type": "code",
   "execution_count": 2,
   "metadata": {},
   "outputs": [],
   "source": [
    "training_data = pd.read_csv('train.csv') #188533 rows, 13 columns - last column is price\n",
    "test_data = pd.read_csv('test.csv') #125690 rows\n",
    "test_data['price'] = 0\n",
    "all_data = pd.concat([training_data, test_data], ignore_index = True)\n",
    "#clean_title, accident, fuel_type have \"NaN\" types\n",
    "all_data = all_data.drop(columns = [\"id\", \"model\", \"ext_col\", \"int_col\", \"clean_title\", \"engine\"])\n",
    "columns_to_process = ['brand', 'fuel_type', 'transmission']\n",
    "all_data.fillna({'fuel_type' : 'unknown'}, inplace = True)\n",
    "for column in columns_to_process:\n",
    "    mean_values = all_data.groupby(column)['price'].mean()\n",
    "    all_data[column] = all_data[column].map(mean_values)\n",
    "X_data = all_data.iloc[:, :-1]\n",
    "y_data = all_data.iloc[:, -1]\n",
    "X_data = pd.get_dummies(X_data, columns=['accident'], prefix='accident')\n",
    "X_data.rename(columns={'accident_At least 1 accident or damage reported': 'accident1'}, inplace=True)\n",
    "X_data.rename(columns={'accident_None reported': 'accident0'}, inplace=True)\n",
    "X_data = X_data.astype(int)\n",
    "scaler = StandardScaler()\n",
    "X_data = pd.DataFrame(scaler.fit_transform(X_data), columns=X_data.columns)"
   ]
  },
  {
   "cell_type": "code",
   "execution_count": 3,
   "metadata": {},
   "outputs": [],
   "source": [
    "X_train = X_data.head(188533)\n",
    "y_train = y_data.head(188533)\n",
    "X_test = X_data.tail(125690)"
   ]
  },
  {
   "cell_type": "code",
   "execution_count": 154,
   "metadata": {},
   "outputs": [],
   "source": [
    "from sklearn.linear_model import LinearRegression\n",
    "model = LinearRegression()\n",
    "X_train = X_data.head(188533)\n",
    "y_train = y_data.head(188533)\n",
    "model.fit(X_train, y_train)\n",
    "X_test = X_data.tail(125690)\n",
    "y_pred = model.predict(X_test)\n",
    "id = np.array([idx for idx in range(188533, 314223)])\n",
    "prediction = pd.DataFrame({'id' : id, 'price' : y_pred})"
   ]
  },
  {
   "cell_type": "code",
   "execution_count": null,
   "metadata": {},
   "outputs": [],
   "source": []
  },
  {
   "cell_type": "code",
   "execution_count": 156,
   "metadata": {},
   "outputs": [],
   "source": [
    "id = np.array([idx for idx in range(188533, 314223)])\n",
    "prediction = pd.DataFrame({'id' : id, 'price' : y_pred})"
   ]
  },
  {
   "cell_type": "code",
   "execution_count": null,
   "metadata": {},
   "outputs": [],
   "source": [
    "prediction.to_csv('09052024carsprediction2.csv', index = False)"
   ]
  }
 ],
 "metadata": {
  "kernelspec": {
   "display_name": "cars",
   "language": "python",
   "name": "python3"
  },
  "language_info": {
   "codemirror_mode": {
    "name": "ipython",
    "version": 3
   },
   "file_extension": ".py",
   "mimetype": "text/x-python",
   "name": "python",
   "nbconvert_exporter": "python",
   "pygments_lexer": "ipython3",
   "version": "3.12.4"
  }
 },
 "nbformat": 4,
 "nbformat_minor": 2
}
