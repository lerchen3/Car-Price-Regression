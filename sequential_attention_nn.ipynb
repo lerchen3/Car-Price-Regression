{
 "cells": [
  {
   "cell_type": "code",
   "execution_count": 8,
   "metadata": {},
   "outputs": [
    {
     "ename": "NameError",
     "evalue": "name 'y_pred' is not defined",
     "output_type": "error",
     "traceback": [
      "\u001b[1;31m---------------------------------------------------------------------------\u001b[0m",
      "\u001b[1;31mNameError\u001b[0m                                 Traceback (most recent call last)",
      "Cell \u001b[1;32mIn[8], line 6\u001b[0m\n\u001b[0;32m      1\u001b[0m \u001b[38;5;66;03m#let's just say you're given a model and some data.\u001b[39;00m\n\u001b[0;32m      2\u001b[0m \u001b[38;5;66;03m#what i will try to do: set the \"temperature\" to very high, i guess. then only take the features with a weight above a certain threshold.\u001b[39;00m\n\u001b[0;32m      3\u001b[0m \u001b[38;5;66;03m#finally, use a lgbm to train and predict a model on the new dataset that is actually workable now [has not very many features]\u001b[39;00m\n\u001b[0;32m      4\u001b[0m \u001b[38;5;66;03m#moreover, we're gonna actually use optuna this time LOL\u001b[39;00m\n\u001b[0;32m      5\u001b[0m \u001b[38;5;28;01mimport\u001b[39;00m \u001b[38;5;21;01moptuna\u001b[39;00m\n\u001b[1;32m----> 6\u001b[0m \u001b[43my_pred\u001b[49m\n",
      "\u001b[1;31mNameError\u001b[0m: name 'y_pred' is not defined"
     ]
    }
   ],
   "source": [
    "#let's just say you're given a model and some data.\n",
    "#what i will try to do: set the \"temperature\" to very high, i guess. then only take the features with a weight above a certain threshold.\n",
    "#finally, use a lgbm to train and predict a model on the new dataset that is actually workable now [has not very many features]\n",
    "#moreover, we're gonna actually use optuna this time LOL\n"
   ]
  }
 ],
 "metadata": {
  "kernelspec": {
   "display_name": "cars",
   "language": "python",
   "name": "python3"
  },
  "language_info": {
   "codemirror_mode": {
    "name": "ipython",
    "version": 3
   },
   "file_extension": ".py",
   "mimetype": "text/x-python",
   "name": "python",
   "nbconvert_exporter": "python",
   "pygments_lexer": "ipython3",
   "version": "3.12.3"
  }
 },
 "nbformat": 4,
 "nbformat_minor": 2
}
