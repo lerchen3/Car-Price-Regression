{
 "cells": [
  {
   "cell_type": "code",
   "execution_count": 6,
   "metadata": {},
   "outputs": [],
   "source": [
    "import lightgbm as lgb\n",
    "from lightgbm import early_stopping, log_evaluation\n",
    "from sklearn.metrics import mean_squared_error\n",
    "from sklearn.model_selection import cross_val_score\n",
    "import pandas as pd\n",
    "import numpy as np\n",
    "import optuna\n",
    "from optuna.samplers import RandomSampler\n",
    "from sklearn.model_selection import StratifiedKFold\n"
   ]
  },
  {
   "cell_type": "code",
   "execution_count": 3,
   "metadata": {},
   "outputs": [],
   "source": [
    "num_models = 10\n",
    "fold_number = 5"
   ]
  },
  {
   "cell_type": "code",
   "execution_count": 10,
   "metadata": {},
   "outputs": [],
   "source": [
    "training_data = pd.read_csv('training_data.csv')\n",
    "test_data = pd.read_csv('test_data.csv')\n",
    "X_data = pd.concat(training_data, test_data)\n",
    "y_data = pd.read_csv('y_data.csv')\n"
   ]
  },
  {
   "cell_type": "code",
   "execution_count": 12,
   "metadata": {},
   "outputs": [
    {
     "name": "stderr",
     "output_type": "stream",
     "text": [
      "[I 2024-09-22 20:50:52,097] A new study created in memory with name: no-name-245defcf-17ef-4f89-a722-675d9c611c1d\n"
     ]
    },
    {
     "name": "stdout",
     "output_type": "stream",
     "text": [
      "Training until validation scores don't improve for 50 rounds\n",
      "Early stopping, best iteration is:\n",
      "[13]\tvalid_0's l2: 5.38059e+09\n",
      "Training until validation scores don't improve for 50 rounds\n",
      "Early stopping, best iteration is:\n",
      "[13]\tvalid_0's l2: 5.34071e+09\n",
      "Training until validation scores don't improve for 50 rounds\n",
      "Early stopping, best iteration is:\n",
      "[15]\tvalid_0's l2: 5.32184e+09\n",
      "Training until validation scores don't improve for 50 rounds\n",
      "Early stopping, best iteration is:\n",
      "[15]\tvalid_0's l2: 5.32563e+09\n",
      "Training until validation scores don't improve for 50 rounds\n"
     ]
    },
    {
     "name": "stderr",
     "output_type": "stream",
     "text": [
      "[I 2024-09-22 20:51:05,135] Trial 0 finished with value: 73016.53477634478 and parameters: {'n_estimators': 1040, 'num_leaves': 308, 'max_depth': 42, 'learning_rate': 0.17636469336159113, 'subsample': 0.7492535061512953, 'colsample_bytree': 0.6123983227654238, 'reg_alpha': 1.54304001490974e-06, 'reg_lambda': 1.1018509458263566, 'min_data_in_leaf': 53, 'feature_fraction': 0.5441699070870052, 'bagging_fraction': 0.8426799091838986, 'bagging_freq': 5, 'min_child_weight': 0.00010560624429728648, 'cat_smooth': 32.52312463051321}. Best is trial 0 with value: 73016.53477634478.\n"
     ]
    },
    {
     "name": "stdout",
     "output_type": "stream",
     "text": [
      "Early stopping, best iteration is:\n",
      "[15]\tvalid_0's l2: 5.28829e+09\n",
      "Training until validation scores don't improve for 50 rounds\n",
      "Early stopping, best iteration is:\n",
      "[336]\tvalid_0's l2: 5.31705e+09\n",
      "Training until validation scores don't improve for 50 rounds\n",
      "Early stopping, best iteration is:\n",
      "[389]\tvalid_0's l2: 5.26613e+09\n",
      "Training until validation scores don't improve for 50 rounds\n",
      "Early stopping, best iteration is:\n",
      "[318]\tvalid_0's l2: 5.26612e+09\n",
      "Training until validation scores don't improve for 50 rounds\n",
      "Early stopping, best iteration is:\n",
      "[368]\tvalid_0's l2: 5.26173e+09\n",
      "Training until validation scores don't improve for 50 rounds\n",
      "Early stopping, best iteration is:\n",
      "[360]\tvalid_0's l2: 5.24424e+09\n"
     ]
    },
    {
     "name": "stderr",
     "output_type": "stream",
     "text": [
      "[I 2024-09-22 20:53:40,410] Trial 1 finished with value: 72602.02793396756 and parameters: {'n_estimators': 1069, 'num_leaves': 545, 'max_depth': 46, 'learning_rate': 0.007509797119626296, 'subsample': 0.9588870612564717, 'colsample_bytree': 0.8572878916988453, 'reg_alpha': 0.0001799973901160094, 'reg_lambda': 0.0037040785712895334, 'min_data_in_leaf': 70, 'feature_fraction': 0.8370668075331726, 'bagging_fraction': 0.720916587211498, 'bagging_freq': 3, 'min_child_weight': 0.5088641679920515, 'cat_smooth': 32.59404363006922}. Best is trial 1 with value: 72602.02793396756.\n"
     ]
    },
    {
     "name": "stdout",
     "output_type": "stream",
     "text": [
      "Training until validation scores don't improve for 50 rounds\n",
      "Early stopping, best iteration is:\n",
      "[60]\tvalid_0's l2: 5.31712e+09\n",
      "Training until validation scores don't improve for 50 rounds\n",
      "Early stopping, best iteration is:\n",
      "[76]\tvalid_0's l2: 5.27498e+09\n",
      "Training until validation scores don't improve for 50 rounds\n",
      "Early stopping, best iteration is:\n",
      "[60]\tvalid_0's l2: 5.27792e+09\n",
      "Training until validation scores don't improve for 50 rounds\n",
      "Early stopping, best iteration is:\n",
      "[76]\tvalid_0's l2: 5.29024e+09\n",
      "Training until validation scores don't improve for 50 rounds\n"
     ]
    },
    {
     "name": "stderr",
     "output_type": "stream",
     "text": [
      "[I 2024-09-22 20:54:32,105] Trial 2 finished with value: 72662.02940260559 and parameters: {'n_estimators': 955, 'num_leaves': 541, 'max_depth': 51, 'learning_rate': 0.036723279424594156, 'subsample': 0.9543244404043341, 'colsample_bytree': 0.6596180444942726, 'reg_alpha': 3.4894428963481334e-07, 'reg_lambda': 0.015951452190168802, 'min_data_in_leaf': 49, 'feature_fraction': 0.9143406631538383, 'bagging_fraction': 0.5234481596946249, 'bagging_freq': 4, 'min_child_weight': 0.1929820588974466, 'cat_smooth': 65.96096423779524}. Best is trial 1 with value: 72602.02793396756.\n"
     ]
    },
    {
     "name": "stdout",
     "output_type": "stream",
     "text": [
      "Early stopping, best iteration is:\n",
      "[63]\tvalid_0's l2: 5.23859e+09\n",
      "Training until validation scores don't improve for 50 rounds\n",
      "Early stopping, best iteration is:\n",
      "[12]\tvalid_0's l2: 5.37313e+09\n",
      "Training until validation scores don't improve for 50 rounds\n",
      "Early stopping, best iteration is:\n",
      "[11]\tvalid_0's l2: 5.32721e+09\n",
      "Training until validation scores don't improve for 50 rounds\n",
      "Early stopping, best iteration is:\n",
      "[12]\tvalid_0's l2: 5.31915e+09\n",
      "Training until validation scores don't improve for 50 rounds\n",
      "Early stopping, best iteration is:\n",
      "[12]\tvalid_0's l2: 5.31015e+09\n",
      "Training until validation scores don't improve for 50 rounds\n"
     ]
    },
    {
     "name": "stderr",
     "output_type": "stream",
     "text": [
      "[I 2024-09-22 20:54:52,787] Trial 3 finished with value: 72967.34293393731 and parameters: {'n_estimators': 639, 'num_leaves': 643, 'max_depth': 27, 'learning_rate': 0.18362976337563003, 'subsample': 0.6479808534398394, 'colsample_bytree': 0.9419682397805931, 'reg_alpha': 8.97573097030888e-06, 'reg_lambda': 0.004571551229239351, 'min_data_in_leaf': 71, 'feature_fraction': 0.5467301872793251, 'bagging_fraction': 0.9105528289184642, 'bagging_freq': 1, 'min_child_weight': 0.020169108029984395, 'cat_smooth': 87.9550363117174}. Best is trial 1 with value: 72602.02793396756.\n"
     ]
    },
    {
     "name": "stdout",
     "output_type": "stream",
     "text": [
      "Early stopping, best iteration is:\n",
      "[14]\tvalid_0's l2: 5.29152e+09\n",
      "Training until validation scores don't improve for 50 rounds\n",
      "Early stopping, best iteration is:\n",
      "[399]\tvalid_0's l2: 5.30949e+09\n",
      "Training until validation scores don't improve for 50 rounds\n",
      "Early stopping, best iteration is:\n",
      "[535]\tvalid_0's l2: 5.26851e+09\n",
      "Training until validation scores don't improve for 50 rounds\n",
      "Early stopping, best iteration is:\n",
      "[492]\tvalid_0's l2: 5.26376e+09\n",
      "Training until validation scores don't improve for 50 rounds\n",
      "Early stopping, best iteration is:\n",
      "[478]\tvalid_0's l2: 5.26289e+09\n",
      "Training until validation scores don't improve for 50 rounds\n",
      "Early stopping, best iteration is:\n",
      "[458]\tvalid_0's l2: 5.23984e+09\n"
     ]
    },
    {
     "name": "stderr",
     "output_type": "stream",
     "text": [
      "[I 2024-09-22 20:58:01,228] Trial 4 finished with value: 72587.18677008867 and parameters: {'n_estimators': 1192, 'num_leaves': 482, 'max_depth': 52, 'learning_rate': 0.005677045861147304, 'subsample': 0.7986858241154422, 'colsample_bytree': 0.9514158801658137, 'reg_alpha': 0.00016119356219527467, 'reg_lambda': 0.2295120287772858, 'min_data_in_leaf': 43, 'feature_fraction': 0.6785908793172681, 'bagging_fraction': 0.5398065450779821, 'bagging_freq': 2, 'min_child_weight': 0.009645302925851532, 'cat_smooth': 59.405997991322664}. Best is trial 4 with value: 72587.18677008867.\n"
     ]
    },
    {
     "name": "stdout",
     "output_type": "stream",
     "text": [
      "Training until validation scores don't improve for 50 rounds\n",
      "Early stopping, best iteration is:\n",
      "[29]\tvalid_0's l2: 5.32802e+09\n",
      "Training until validation scores don't improve for 50 rounds\n",
      "Early stopping, best iteration is:\n",
      "[42]\tvalid_0's l2: 5.28125e+09\n",
      "Training until validation scores don't improve for 50 rounds\n",
      "Early stopping, best iteration is:\n",
      "[39]\tvalid_0's l2: 5.27305e+09\n",
      "Training until validation scores don't improve for 50 rounds\n",
      "Early stopping, best iteration is:\n",
      "[34]\tvalid_0's l2: 5.27031e+09\n",
      "Training until validation scores don't improve for 50 rounds\n"
     ]
    },
    {
     "name": "stderr",
     "output_type": "stream",
     "text": [
      "[I 2024-09-22 20:58:23,225] Trial 5 finished with value: 72678.26780711002 and parameters: {'n_estimators': 528, 'num_leaves': 472, 'max_depth': 26, 'learning_rate': 0.08118455774682055, 'subsample': 0.6731735750400165, 'colsample_bytree': 0.5215486781024972, 'reg_alpha': 0.01903229002492754, 'reg_lambda': 1.1296979705718802, 'min_data_in_leaf': 111, 'feature_fraction': 0.7087545719196335, 'bagging_fraction': 0.8027887821968784, 'bagging_freq': 3, 'min_child_weight': 0.38638467047838265, 'cat_smooth': 18.290082361212804}. Best is trial 4 with value: 72587.18677008867.\n"
     ]
    },
    {
     "name": "stdout",
     "output_type": "stream",
     "text": [
      "Early stopping, best iteration is:\n",
      "[30]\tvalid_0's l2: 5.25803e+09\n",
      "Training until validation scores don't improve for 50 rounds\n",
      "Early stopping, best iteration is:\n",
      "[483]\tvalid_0's l2: 5.32792e+09\n",
      "Training until validation scores don't improve for 50 rounds\n",
      "Early stopping, best iteration is:\n",
      "[507]\tvalid_0's l2: 5.26485e+09\n",
      "Training until validation scores don't improve for 50 rounds\n",
      "Early stopping, best iteration is:\n",
      "[470]\tvalid_0's l2: 5.27555e+09\n",
      "Training until validation scores don't improve for 50 rounds\n",
      "Early stopping, best iteration is:\n",
      "[561]\tvalid_0's l2: 5.26574e+09\n",
      "Training until validation scores don't improve for 50 rounds\n",
      "Early stopping, best iteration is:\n",
      "[486]\tvalid_0's l2: 5.24842e+09\n"
     ]
    },
    {
     "name": "stderr",
     "output_type": "stream",
     "text": [
      "[I 2024-09-22 21:00:29,180] Trial 6 finished with value: 72639.50360372051 and parameters: {'n_estimators': 710, 'num_leaves': 310, 'max_depth': 25, 'learning_rate': 0.005323872255879759, 'subsample': 0.778789094331322, 'colsample_bytree': 0.7827535099440838, 'reg_alpha': 7.092404300854912e-05, 'reg_lambda': 0.01483173321964085, 'min_data_in_leaf': 45, 'feature_fraction': 0.9894095728788213, 'bagging_fraction': 0.6698539218189319, 'bagging_freq': 3, 'min_child_weight': 72.85919281852098, 'cat_smooth': 27.591405563189507}. Best is trial 4 with value: 72587.18677008867.\n"
     ]
    },
    {
     "name": "stdout",
     "output_type": "stream",
     "text": [
      "Training until validation scores don't improve for 50 rounds\n",
      "Early stopping, best iteration is:\n",
      "[5]\tvalid_0's l2: 5.40512e+09\n",
      "Training until validation scores don't improve for 50 rounds\n",
      "Early stopping, best iteration is:\n",
      "[7]\tvalid_0's l2: 5.3754e+09\n",
      "Training until validation scores don't improve for 50 rounds\n",
      "Early stopping, best iteration is:\n",
      "[6]\tvalid_0's l2: 5.36954e+09\n",
      "Training until validation scores don't improve for 50 rounds\n",
      "Early stopping, best iteration is:\n",
      "[5]\tvalid_0's l2: 5.34869e+09\n",
      "Training until validation scores don't improve for 50 rounds\n"
     ]
    },
    {
     "name": "stderr",
     "output_type": "stream",
     "text": [
      "[I 2024-09-22 21:00:48,958] Trial 7 finished with value: 73275.07654831183 and parameters: {'n_estimators': 723, 'num_leaves': 508, 'max_depth': 39, 'learning_rate': 0.3645870608221405, 'subsample': 0.534048636768975, 'colsample_bytree': 0.7322654038896663, 'reg_alpha': 0.004916937769207978, 'reg_lambda': 0.7488782916686476, 'min_data_in_leaf': 87, 'feature_fraction': 0.5185472066172039, 'bagging_fraction': 0.6753281956415664, 'bagging_freq': 3, 'min_child_weight': 0.006286070313385454, 'cat_smooth': 32.53375211168362}. Best is trial 4 with value: 72587.18677008867.\n"
     ]
    },
    {
     "name": "stdout",
     "output_type": "stream",
     "text": [
      "Early stopping, best iteration is:\n",
      "[6]\tvalid_0's l2: 5.34742e+09\n",
      "Training until validation scores don't improve for 50 rounds\n",
      "Early stopping, best iteration is:\n",
      "[267]\tvalid_0's l2: 5.30992e+09\n",
      "Training until validation scores don't improve for 50 rounds\n",
      "Early stopping, best iteration is:\n",
      "[313]\tvalid_0's l2: 5.25812e+09\n",
      "Training until validation scores don't improve for 50 rounds\n",
      "Early stopping, best iteration is:\n",
      "[256]\tvalid_0's l2: 5.26205e+09\n",
      "Training until validation scores don't improve for 50 rounds\n",
      "Early stopping, best iteration is:\n",
      "[284]\tvalid_0's l2: 5.25943e+09\n",
      "Training until validation scores don't improve for 50 rounds\n",
      "Early stopping, best iteration is:\n",
      "[326]\tvalid_0's l2: 5.23697e+09\n"
     ]
    },
    {
     "name": "stderr",
     "output_type": "stream",
     "text": [
      "[I 2024-09-22 21:01:48,505] Trial 8 finished with value: 72562.35662968078 and parameters: {'n_estimators': 972, 'num_leaves': 363, 'max_depth': 12, 'learning_rate': 0.010314487673603769, 'subsample': 0.5540318863897262, 'colsample_bytree': 0.5894514042855452, 'reg_alpha': 0.02065202190439409, 'reg_lambda': 0.02893742513973448, 'min_data_in_leaf': 57, 'feature_fraction': 0.8762480851093014, 'bagging_fraction': 0.5534397921967846, 'bagging_freq': 4, 'min_child_weight': 0.06587365495478886, 'cat_smooth': 39.651139374964735}. Best is trial 8 with value: 72562.35662968078.\n"
     ]
    },
    {
     "name": "stdout",
     "output_type": "stream",
     "text": [
      "Training until validation scores don't improve for 50 rounds\n",
      "Did not meet early stopping. Best iteration is:\n",
      "[603]\tvalid_0's l2: 5.48067e+09\n",
      "Training until validation scores don't improve for 50 rounds\n",
      "Did not meet early stopping. Best iteration is:\n",
      "[603]\tvalid_0's l2: 5.46043e+09\n",
      "Training until validation scores don't improve for 50 rounds\n",
      "Did not meet early stopping. Best iteration is:\n",
      "[603]\tvalid_0's l2: 5.43025e+09\n",
      "Training until validation scores don't improve for 50 rounds\n",
      "Did not meet early stopping. Best iteration is:\n",
      "[603]\tvalid_0's l2: 5.45889e+09\n",
      "Training until validation scores don't improve for 50 rounds\n",
      "Did not meet early stopping. Best iteration is:\n",
      "[603]\tvalid_0's l2: 5.41473e+09\n"
     ]
    },
    {
     "name": "stderr",
     "output_type": "stream",
     "text": [
      "[I 2024-09-22 21:04:23,915] Trial 9 finished with value: 73817.31278456285 and parameters: {'n_estimators': 603, 'num_leaves': 373, 'max_depth': 42, 'learning_rate': 0.0013992136034385533, 'subsample': 0.6243062539013847, 'colsample_bytree': 0.7712042581140022, 'reg_alpha': 2.294246403767406e-06, 'reg_lambda': 0.03354641687863073, 'min_data_in_leaf': 114, 'feature_fraction': 0.9626784364338884, 'bagging_fraction': 0.7833749622874999, 'bagging_freq': 3, 'min_child_weight': 0.00012278919376690123, 'cat_smooth': 95.03843220828843}. Best is trial 8 with value: 72562.35662968078.\n",
      "c:\\Users\\lerch\\miniconda3\\envs\\cars\\Lib\\site-packages\\lightgbm\\engine.py:204: UserWarning: Found `n_estimators` in params. Will use it instead of argument\n",
      "  _log_warning(f\"Found `{alias}` in params. Will use it instead of argument\")\n"
     ]
    },
    {
     "name": "stdout",
     "output_type": "stream",
     "text": [
      "Training until validation scores don't improve for 50 rounds\n",
      "Early stopping, best iteration is:\n",
      "[284]\tvalid_0's l2: 5.30829e+09\n"
     ]
    },
    {
     "name": "stderr",
     "output_type": "stream",
     "text": [
      "c:\\Users\\lerch\\miniconda3\\envs\\cars\\Lib\\site-packages\\lightgbm\\engine.py:204: UserWarning: Found `n_estimators` in params. Will use it instead of argument\n",
      "  _log_warning(f\"Found `{alias}` in params. Will use it instead of argument\")\n"
     ]
    },
    {
     "name": "stdout",
     "output_type": "stream",
     "text": [
      "Training until validation scores don't improve for 50 rounds\n",
      "Early stopping, best iteration is:\n",
      "[315]\tvalid_0's l2: 5.25925e+09\n"
     ]
    },
    {
     "name": "stderr",
     "output_type": "stream",
     "text": [
      "c:\\Users\\lerch\\miniconda3\\envs\\cars\\Lib\\site-packages\\lightgbm\\engine.py:204: UserWarning: Found `n_estimators` in params. Will use it instead of argument\n",
      "  _log_warning(f\"Found `{alias}` in params. Will use it instead of argument\")\n"
     ]
    },
    {
     "name": "stdout",
     "output_type": "stream",
     "text": [
      "Training until validation scores don't improve for 50 rounds\n",
      "Early stopping, best iteration is:\n",
      "[256]\tvalid_0's l2: 5.27063e+09\n"
     ]
    },
    {
     "name": "stderr",
     "output_type": "stream",
     "text": [
      "c:\\Users\\lerch\\miniconda3\\envs\\cars\\Lib\\site-packages\\lightgbm\\engine.py:204: UserWarning: Found `n_estimators` in params. Will use it instead of argument\n",
      "  _log_warning(f\"Found `{alias}` in params. Will use it instead of argument\")\n"
     ]
    },
    {
     "name": "stdout",
     "output_type": "stream",
     "text": [
      "Training until validation scores don't improve for 50 rounds\n",
      "Early stopping, best iteration is:\n",
      "[245]\tvalid_0's l2: 5.26387e+09\n"
     ]
    },
    {
     "name": "stderr",
     "output_type": "stream",
     "text": [
      "c:\\Users\\lerch\\miniconda3\\envs\\cars\\Lib\\site-packages\\lightgbm\\engine.py:204: UserWarning: Found `n_estimators` in params. Will use it instead of argument\n",
      "  _log_warning(f\"Found `{alias}` in params. Will use it instead of argument\")\n"
     ]
    },
    {
     "name": "stdout",
     "output_type": "stream",
     "text": [
      "Training until validation scores don't improve for 50 rounds\n",
      "Early stopping, best iteration is:\n",
      "[313]\tvalid_0's l2: 5.23197e+09\n"
     ]
    },
    {
     "name": "stderr",
     "output_type": "stream",
     "text": [
      "[I 2024-09-22 21:05:27,617] A new study created in memory with name: no-name-8f26d86c-0416-46da-a952-c5166e8d1723\n"
     ]
    },
    {
     "name": "stdout",
     "output_type": "stream",
     "text": [
      "Training until validation scores don't improve for 50 rounds\n",
      "Early stopping, best iteration is:\n",
      "[11]\tvalid_0's l2: 5.3447e+09\n",
      "Training until validation scores don't improve for 50 rounds\n",
      "Early stopping, best iteration is:\n",
      "[12]\tvalid_0's l2: 5.341e+09\n",
      "Training until validation scores don't improve for 50 rounds\n",
      "Early stopping, best iteration is:\n",
      "[11]\tvalid_0's l2: 5.33385e+09\n",
      "Training until validation scores don't improve for 50 rounds\n",
      "Early stopping, best iteration is:\n",
      "[15]\tvalid_0's l2: 5.31364e+09\n",
      "Training until validation scores don't improve for 50 rounds\n"
     ]
    },
    {
     "name": "stderr",
     "output_type": "stream",
     "text": [
      "[I 2024-09-22 21:05:42,261] Trial 0 finished with value: 72952.75453811677 and parameters: {'n_estimators': 1040, 'num_leaves': 308, 'max_depth': 42, 'learning_rate': 0.17636469336159113, 'subsample': 0.7492535061512953, 'colsample_bytree': 0.6123983227654238, 'reg_alpha': 1.54304001490974e-06, 'reg_lambda': 1.1018509458263566, 'min_data_in_leaf': 53, 'feature_fraction': 0.5441699070870052, 'bagging_fraction': 0.8426799091838986, 'bagging_freq': 5, 'min_child_weight': 0.00010560624429728648, 'cat_smooth': 32.52312463051321}. Best is trial 0 with value: 72952.75453811677.\n"
     ]
    },
    {
     "name": "stdout",
     "output_type": "stream",
     "text": [
      "Early stopping, best iteration is:\n",
      "[12]\tvalid_0's l2: 5.27733e+09\n",
      "Training until validation scores don't improve for 50 rounds\n",
      "Early stopping, best iteration is:\n",
      "[369]\tvalid_0's l2: 5.31567e+09\n",
      "Training until validation scores don't improve for 50 rounds\n",
      "Early stopping, best iteration is:\n",
      "[362]\tvalid_0's l2: 5.26355e+09\n",
      "Training until validation scores don't improve for 50 rounds\n",
      "Early stopping, best iteration is:\n",
      "[340]\tvalid_0's l2: 5.26568e+09\n",
      "Training until validation scores don't improve for 50 rounds\n",
      "Early stopping, best iteration is:\n",
      "[366]\tvalid_0's l2: 5.24495e+09\n",
      "Training until validation scores don't improve for 50 rounds\n",
      "Early stopping, best iteration is:\n",
      "[327]\tvalid_0's l2: 5.23857e+09\n"
     ]
    },
    {
     "name": "stderr",
     "output_type": "stream",
     "text": [
      "[I 2024-09-22 21:08:09,104] Trial 1 finished with value: 72565.03106390168 and parameters: {'n_estimators': 1069, 'num_leaves': 545, 'max_depth': 46, 'learning_rate': 0.007509797119626296, 'subsample': 0.9588870612564717, 'colsample_bytree': 0.8572878916988453, 'reg_alpha': 0.0001799973901160094, 'reg_lambda': 0.0037040785712895334, 'min_data_in_leaf': 70, 'feature_fraction': 0.8370668075331726, 'bagging_fraction': 0.720916587211498, 'bagging_freq': 3, 'min_child_weight': 0.5088641679920515, 'cat_smooth': 32.59404363006922}. Best is trial 1 with value: 72565.03106390168.\n"
     ]
    },
    {
     "name": "stdout",
     "output_type": "stream",
     "text": [
      "Training until validation scores don't improve for 50 rounds\n",
      "Early stopping, best iteration is:\n",
      "[76]\tvalid_0's l2: 5.32846e+09\n",
      "Training until validation scores don't improve for 50 rounds\n",
      "Early stopping, best iteration is:\n",
      "[63]\tvalid_0's l2: 5.26803e+09\n",
      "Training until validation scores don't improve for 50 rounds\n",
      "Early stopping, best iteration is:\n",
      "[59]\tvalid_0's l2: 5.29103e+09\n",
      "Training until validation scores don't improve for 50 rounds\n",
      "Early stopping, best iteration is:\n",
      "[56]\tvalid_0's l2: 5.26682e+09\n",
      "Training until validation scores don't improve for 50 rounds\n"
     ]
    },
    {
     "name": "stderr",
     "output_type": "stream",
     "text": [
      "[I 2024-09-22 21:08:50,544] Trial 2 finished with value: 72647.37146591426 and parameters: {'n_estimators': 955, 'num_leaves': 541, 'max_depth': 51, 'learning_rate': 0.036723279424594156, 'subsample': 0.9543244404043341, 'colsample_bytree': 0.6596180444942726, 'reg_alpha': 3.4894428963481334e-07, 'reg_lambda': 0.015951452190168802, 'min_data_in_leaf': 49, 'feature_fraction': 0.9143406631538383, 'bagging_fraction': 0.5234481596946249, 'bagging_freq': 4, 'min_child_weight': 0.1929820588974466, 'cat_smooth': 65.96096423779524}. Best is trial 1 with value: 72565.03106390168.\n"
     ]
    },
    {
     "name": "stdout",
     "output_type": "stream",
     "text": [
      "Early stopping, best iteration is:\n",
      "[68]\tvalid_0's l2: 5.23386e+09\n",
      "Training until validation scores don't improve for 50 rounds\n",
      "Early stopping, best iteration is:\n",
      "[10]\tvalid_0's l2: 5.35727e+09\n",
      "Training until validation scores don't improve for 50 rounds\n",
      "Early stopping, best iteration is:\n",
      "[11]\tvalid_0's l2: 5.32257e+09\n",
      "Training until validation scores don't improve for 50 rounds\n",
      "Early stopping, best iteration is:\n",
      "[13]\tvalid_0's l2: 5.27964e+09\n",
      "Training until validation scores don't improve for 50 rounds\n",
      "Early stopping, best iteration is:\n",
      "[11]\tvalid_0's l2: 5.29223e+09\n",
      "Training until validation scores don't improve for 50 rounds\n"
     ]
    },
    {
     "name": "stderr",
     "output_type": "stream",
     "text": [
      "[I 2024-09-22 21:09:12,166] Trial 3 finished with value: 72837.674258596 and parameters: {'n_estimators': 639, 'num_leaves': 643, 'max_depth': 27, 'learning_rate': 0.18362976337563003, 'subsample': 0.6479808534398394, 'colsample_bytree': 0.9419682397805931, 'reg_alpha': 8.97573097030888e-06, 'reg_lambda': 0.004571551229239351, 'min_data_in_leaf': 71, 'feature_fraction': 0.5467301872793251, 'bagging_fraction': 0.9105528289184642, 'bagging_freq': 1, 'min_child_weight': 0.020169108029984395, 'cat_smooth': 87.9550363117174}. Best is trial 1 with value: 72565.03106390168.\n"
     ]
    },
    {
     "name": "stdout",
     "output_type": "stream",
     "text": [
      "Early stopping, best iteration is:\n",
      "[12]\tvalid_0's l2: 5.27492e+09\n",
      "Training until validation scores don't improve for 50 rounds\n",
      "Early stopping, best iteration is:\n",
      "[464]\tvalid_0's l2: 5.30489e+09\n",
      "Training until validation scores don't improve for 50 rounds\n",
      "Early stopping, best iteration is:\n",
      "[484]\tvalid_0's l2: 5.26834e+09\n",
      "Training until validation scores don't improve for 50 rounds\n",
      "Early stopping, best iteration is:\n",
      "[518]\tvalid_0's l2: 5.26507e+09\n",
      "Training until validation scores don't improve for 50 rounds\n",
      "Early stopping, best iteration is:\n",
      "[501]\tvalid_0's l2: 5.24536e+09\n",
      "Training until validation scores don't improve for 50 rounds\n",
      "Early stopping, best iteration is:\n",
      "[463]\tvalid_0's l2: 5.22867e+09\n"
     ]
    },
    {
     "name": "stderr",
     "output_type": "stream",
     "text": [
      "[I 2024-09-22 21:13:11,843] Trial 4 finished with value: 72542.84661391811 and parameters: {'n_estimators': 1192, 'num_leaves': 482, 'max_depth': 52, 'learning_rate': 0.005677045861147304, 'subsample': 0.7986858241154422, 'colsample_bytree': 0.9514158801658137, 'reg_alpha': 0.00016119356219527467, 'reg_lambda': 0.2295120287772858, 'min_data_in_leaf': 43, 'feature_fraction': 0.6785908793172681, 'bagging_fraction': 0.5398065450779821, 'bagging_freq': 2, 'min_child_weight': 0.009645302925851532, 'cat_smooth': 59.405997991322664}. Best is trial 4 with value: 72542.84661391811.\n"
     ]
    },
    {
     "name": "stdout",
     "output_type": "stream",
     "text": [
      "Training until validation scores don't improve for 50 rounds\n",
      "Early stopping, best iteration is:\n",
      "[35]\tvalid_0's l2: 5.31689e+09\n",
      "Training until validation scores don't improve for 50 rounds\n",
      "Early stopping, best iteration is:\n",
      "[27]\tvalid_0's l2: 5.27194e+09\n",
      "Training until validation scores don't improve for 50 rounds\n",
      "Early stopping, best iteration is:\n",
      "[34]\tvalid_0's l2: 5.27197e+09\n",
      "Training until validation scores don't improve for 50 rounds\n",
      "Early stopping, best iteration is:\n",
      "[33]\tvalid_0's l2: 5.26833e+09\n",
      "Training until validation scores don't improve for 50 rounds\n"
     ]
    },
    {
     "name": "stderr",
     "output_type": "stream",
     "text": [
      "[I 2024-09-22 21:13:32,450] Trial 5 finished with value: 72630.54567048996 and parameters: {'n_estimators': 528, 'num_leaves': 472, 'max_depth': 26, 'learning_rate': 0.08118455774682055, 'subsample': 0.6731735750400165, 'colsample_bytree': 0.5215486781024972, 'reg_alpha': 0.01903229002492754, 'reg_lambda': 1.1296979705718802, 'min_data_in_leaf': 111, 'feature_fraction': 0.7087545719196335, 'bagging_fraction': 0.8027887821968784, 'bagging_freq': 3, 'min_child_weight': 0.38638467047838265, 'cat_smooth': 18.290082361212804}. Best is trial 4 with value: 72542.84661391811.\n"
     ]
    },
    {
     "name": "stdout",
     "output_type": "stream",
     "text": [
      "Early stopping, best iteration is:\n",
      "[38]\tvalid_0's l2: 5.24685e+09\n",
      "Training until validation scores don't improve for 50 rounds\n",
      "Early stopping, best iteration is:\n",
      "[489]\tvalid_0's l2: 5.32199e+09\n",
      "Training until validation scores don't improve for 50 rounds\n",
      "Early stopping, best iteration is:\n",
      "[564]\tvalid_0's l2: 5.26342e+09\n",
      "Training until validation scores don't improve for 50 rounds\n",
      "Early stopping, best iteration is:\n",
      "[498]\tvalid_0's l2: 5.27754e+09\n",
      "Training until validation scores don't improve for 50 rounds\n",
      "Early stopping, best iteration is:\n",
      "[537]\tvalid_0's l2: 5.25491e+09\n",
      "Training until validation scores don't improve for 50 rounds\n",
      "Early stopping, best iteration is:\n",
      "[546]\tvalid_0's l2: 5.23095e+09\n"
     ]
    },
    {
     "name": "stderr",
     "output_type": "stream",
     "text": [
      "[I 2024-09-22 21:15:55,019] Trial 6 finished with value: 72593.13058862193 and parameters: {'n_estimators': 710, 'num_leaves': 310, 'max_depth': 25, 'learning_rate': 0.005323872255879759, 'subsample': 0.778789094331322, 'colsample_bytree': 0.7827535099440838, 'reg_alpha': 7.092404300854912e-05, 'reg_lambda': 0.01483173321964085, 'min_data_in_leaf': 45, 'feature_fraction': 0.9894095728788213, 'bagging_fraction': 0.6698539218189319, 'bagging_freq': 3, 'min_child_weight': 72.85919281852098, 'cat_smooth': 27.591405563189507}. Best is trial 4 with value: 72542.84661391811.\n"
     ]
    },
    {
     "name": "stdout",
     "output_type": "stream",
     "text": [
      "Training until validation scores don't improve for 50 rounds\n",
      "Early stopping, best iteration is:\n",
      "[5]\tvalid_0's l2: 5.37776e+09\n",
      "Training until validation scores don't improve for 50 rounds\n",
      "Early stopping, best iteration is:\n",
      "[4]\tvalid_0's l2: 5.35278e+09\n",
      "Training until validation scores don't improve for 50 rounds\n",
      "Early stopping, best iteration is:\n",
      "[6]\tvalid_0's l2: 5.35445e+09\n",
      "Training until validation scores don't improve for 50 rounds\n",
      "Early stopping, best iteration is:\n",
      "[7]\tvalid_0's l2: 5.34971e+09\n",
      "Training until validation scores don't improve for 50 rounds\n"
     ]
    },
    {
     "name": "stderr",
     "output_type": "stream",
     "text": [
      "[I 2024-09-22 21:16:12,941] Trial 7 finished with value: 73191.06187962275 and parameters: {'n_estimators': 723, 'num_leaves': 508, 'max_depth': 39, 'learning_rate': 0.3645870608221405, 'subsample': 0.534048636768975, 'colsample_bytree': 0.7322654038896663, 'reg_alpha': 0.004916937769207978, 'reg_lambda': 0.7488782916686476, 'min_data_in_leaf': 87, 'feature_fraction': 0.5185472066172039, 'bagging_fraction': 0.6753281956415664, 'bagging_freq': 3, 'min_child_weight': 0.006286070313385454, 'cat_smooth': 32.53375211168362}. Best is trial 4 with value: 72542.84661391811.\n"
     ]
    },
    {
     "name": "stdout",
     "output_type": "stream",
     "text": [
      "Early stopping, best iteration is:\n",
      "[6]\tvalid_0's l2: 5.34997e+09\n",
      "Training until validation scores don't improve for 50 rounds\n",
      "Early stopping, best iteration is:\n",
      "[268]\tvalid_0's l2: 5.30393e+09\n",
      "Training until validation scores don't improve for 50 rounds\n",
      "Early stopping, best iteration is:\n",
      "[246]\tvalid_0's l2: 5.26467e+09\n",
      "Training until validation scores don't improve for 50 rounds\n",
      "Early stopping, best iteration is:\n",
      "[290]\tvalid_0's l2: 5.2702e+09\n",
      "Training until validation scores don't improve for 50 rounds\n",
      "Early stopping, best iteration is:\n",
      "[300]\tvalid_0's l2: 5.24613e+09\n",
      "Training until validation scores don't improve for 50 rounds\n",
      "Early stopping, best iteration is:\n",
      "[290]\tvalid_0's l2: 5.22648e+09\n"
     ]
    },
    {
     "name": "stderr",
     "output_type": "stream",
     "text": [
      "[I 2024-09-22 21:17:19,754] Trial 8 finished with value: 72541.5972414521 and parameters: {'n_estimators': 972, 'num_leaves': 363, 'max_depth': 12, 'learning_rate': 0.010314487673603769, 'subsample': 0.5540318863897262, 'colsample_bytree': 0.5894514042855452, 'reg_alpha': 0.02065202190439409, 'reg_lambda': 0.02893742513973448, 'min_data_in_leaf': 57, 'feature_fraction': 0.8762480851093014, 'bagging_fraction': 0.5534397921967846, 'bagging_freq': 4, 'min_child_weight': 0.06587365495478886, 'cat_smooth': 39.651139374964735}. Best is trial 8 with value: 72541.5972414521.\n"
     ]
    },
    {
     "name": "stdout",
     "output_type": "stream",
     "text": [
      "Training until validation scores don't improve for 50 rounds\n",
      "Did not meet early stopping. Best iteration is:\n",
      "[603]\tvalid_0's l2: 5.48637e+09\n",
      "Training until validation scores don't improve for 50 rounds\n",
      "Did not meet early stopping. Best iteration is:\n",
      "[603]\tvalid_0's l2: 5.45136e+09\n",
      "Training until validation scores don't improve for 50 rounds\n",
      "Did not meet early stopping. Best iteration is:\n",
      "[603]\tvalid_0's l2: 5.43031e+09\n",
      "Training until validation scores don't improve for 50 rounds\n",
      "Did not meet early stopping. Best iteration is:\n",
      "[603]\tvalid_0's l2: 5.45141e+09\n",
      "Training until validation scores don't improve for 50 rounds\n",
      "Did not meet early stopping. Best iteration is:\n",
      "[603]\tvalid_0's l2: 5.40625e+09\n"
     ]
    },
    {
     "name": "stderr",
     "output_type": "stream",
     "text": [
      "[I 2024-09-22 21:21:20,448] Trial 9 finished with value: 73791.18745658797 and parameters: {'n_estimators': 603, 'num_leaves': 373, 'max_depth': 42, 'learning_rate': 0.0013992136034385533, 'subsample': 0.6243062539013847, 'colsample_bytree': 0.7712042581140022, 'reg_alpha': 2.294246403767406e-06, 'reg_lambda': 0.03354641687863073, 'min_data_in_leaf': 114, 'feature_fraction': 0.9626784364338884, 'bagging_fraction': 0.7833749622874999, 'bagging_freq': 3, 'min_child_weight': 0.00012278919376690123, 'cat_smooth': 95.03843220828843}. Best is trial 8 with value: 72541.5972414521.\n",
      "c:\\Users\\lerch\\miniconda3\\envs\\cars\\Lib\\site-packages\\lightgbm\\engine.py:204: UserWarning: Found `n_estimators` in params. Will use it instead of argument\n",
      "  _log_warning(f\"Found `{alias}` in params. Will use it instead of argument\")\n"
     ]
    },
    {
     "name": "stdout",
     "output_type": "stream",
     "text": [
      "Training until validation scores don't improve for 50 rounds\n",
      "Early stopping, best iteration is:\n",
      "[233]\tvalid_0's l2: 5.31297e+09\n"
     ]
    },
    {
     "name": "stderr",
     "output_type": "stream",
     "text": [
      "c:\\Users\\lerch\\miniconda3\\envs\\cars\\Lib\\site-packages\\lightgbm\\engine.py:204: UserWarning: Found `n_estimators` in params. Will use it instead of argument\n",
      "  _log_warning(f\"Found `{alias}` in params. Will use it instead of argument\")\n"
     ]
    },
    {
     "name": "stdout",
     "output_type": "stream",
     "text": [
      "Training until validation scores don't improve for 50 rounds\n",
      "Early stopping, best iteration is:\n",
      "[312]\tvalid_0's l2: 5.26743e+09\n"
     ]
    },
    {
     "name": "stderr",
     "output_type": "stream",
     "text": [
      "c:\\Users\\lerch\\miniconda3\\envs\\cars\\Lib\\site-packages\\lightgbm\\engine.py:204: UserWarning: Found `n_estimators` in params. Will use it instead of argument\n",
      "  _log_warning(f\"Found `{alias}` in params. Will use it instead of argument\")\n"
     ]
    },
    {
     "name": "stdout",
     "output_type": "stream",
     "text": [
      "Training until validation scores don't improve for 50 rounds\n",
      "Early stopping, best iteration is:\n",
      "[316]\tvalid_0's l2: 5.25907e+09\n"
     ]
    },
    {
     "name": "stderr",
     "output_type": "stream",
     "text": [
      "c:\\Users\\lerch\\miniconda3\\envs\\cars\\Lib\\site-packages\\lightgbm\\engine.py:204: UserWarning: Found `n_estimators` in params. Will use it instead of argument\n",
      "  _log_warning(f\"Found `{alias}` in params. Will use it instead of argument\")\n"
     ]
    },
    {
     "name": "stdout",
     "output_type": "stream",
     "text": [
      "Training until validation scores don't improve for 50 rounds\n",
      "Early stopping, best iteration is:\n",
      "[326]\tvalid_0's l2: 5.24634e+09\n"
     ]
    },
    {
     "name": "stderr",
     "output_type": "stream",
     "text": [
      "c:\\Users\\lerch\\miniconda3\\envs\\cars\\Lib\\site-packages\\lightgbm\\engine.py:204: UserWarning: Found `n_estimators` in params. Will use it instead of argument\n",
      "  _log_warning(f\"Found `{alias}` in params. Will use it instead of argument\")\n"
     ]
    },
    {
     "name": "stdout",
     "output_type": "stream",
     "text": [
      "Training until validation scores don't improve for 50 rounds\n",
      "Early stopping, best iteration is:\n",
      "[292]\tvalid_0's l2: 5.22689e+09\n"
     ]
    },
    {
     "name": "stderr",
     "output_type": "stream",
     "text": [
      "[I 2024-09-22 21:22:39,831] A new study created in memory with name: no-name-cdb692f1-1c91-4c92-8cc9-fbc060301282\n"
     ]
    },
    {
     "name": "stdout",
     "output_type": "stream",
     "text": [
      "Training until validation scores don't improve for 50 rounds\n",
      "Early stopping, best iteration is:\n",
      "[14]\tvalid_0's l2: 5.33794e+09\n",
      "Training until validation scores don't improve for 50 rounds\n",
      "Early stopping, best iteration is:\n",
      "[13]\tvalid_0's l2: 5.33689e+09\n",
      "Training until validation scores don't improve for 50 rounds\n",
      "Early stopping, best iteration is:\n",
      "[14]\tvalid_0's l2: 5.29526e+09\n",
      "Training until validation scores don't improve for 50 rounds\n",
      "Early stopping, best iteration is:\n",
      "[17]\tvalid_0's l2: 5.32251e+09\n",
      "Training until validation scores don't improve for 50 rounds\n"
     ]
    },
    {
     "name": "stderr",
     "output_type": "stream",
     "text": [
      "[I 2024-09-22 21:22:52,685] Trial 0 finished with value: 72906.38649327222 and parameters: {'n_estimators': 1040, 'num_leaves': 308, 'max_depth': 42, 'learning_rate': 0.17636469336159113, 'subsample': 0.7492535061512953, 'colsample_bytree': 0.6123983227654238, 'reg_alpha': 1.54304001490974e-06, 'reg_lambda': 1.1018509458263566, 'min_data_in_leaf': 53, 'feature_fraction': 0.5441699070870052, 'bagging_fraction': 0.8426799091838986, 'bagging_freq': 5, 'min_child_weight': 0.00010560624429728648, 'cat_smooth': 32.52312463051321}. Best is trial 0 with value: 72906.38649327222.\n"
     ]
    },
    {
     "name": "stdout",
     "output_type": "stream",
     "text": [
      "Early stopping, best iteration is:\n",
      "[11]\tvalid_0's l2: 5.2841e+09\n",
      "Training until validation scores don't improve for 50 rounds\n",
      "Early stopping, best iteration is:\n",
      "[308]\tvalid_0's l2: 5.30324e+09\n",
      "Training until validation scores don't improve for 50 rounds\n",
      "Early stopping, best iteration is:\n",
      "[381]\tvalid_0's l2: 5.27378e+09\n",
      "Training until validation scores don't improve for 50 rounds\n",
      "Early stopping, best iteration is:\n",
      "[496]\tvalid_0's l2: 5.23625e+09\n",
      "Training until validation scores don't improve for 50 rounds\n",
      "Early stopping, best iteration is:\n",
      "[336]\tvalid_0's l2: 5.26808e+09\n",
      "Training until validation scores don't improve for 50 rounds\n",
      "Early stopping, best iteration is:\n",
      "[375]\tvalid_0's l2: 5.23174e+09\n"
     ]
    },
    {
     "name": "stderr",
     "output_type": "stream",
     "text": [
      "[I 2024-09-22 21:27:37,982] Trial 1 finished with value: 72543.89771337651 and parameters: {'n_estimators': 1069, 'num_leaves': 545, 'max_depth': 46, 'learning_rate': 0.007509797119626296, 'subsample': 0.9588870612564717, 'colsample_bytree': 0.8572878916988453, 'reg_alpha': 0.0001799973901160094, 'reg_lambda': 0.0037040785712895334, 'min_data_in_leaf': 70, 'feature_fraction': 0.8370668075331726, 'bagging_fraction': 0.720916587211498, 'bagging_freq': 3, 'min_child_weight': 0.5088641679920515, 'cat_smooth': 32.59404363006922}. Best is trial 1 with value: 72543.89771337651.\n"
     ]
    },
    {
     "name": "stdout",
     "output_type": "stream",
     "text": [
      "Training until validation scores don't improve for 50 rounds\n",
      "Early stopping, best iteration is:\n",
      "[58]\tvalid_0's l2: 5.3276e+09\n",
      "Training until validation scores don't improve for 50 rounds\n",
      "Early stopping, best iteration is:\n",
      "[73]\tvalid_0's l2: 5.28844e+09\n",
      "Training until validation scores don't improve for 50 rounds\n",
      "Early stopping, best iteration is:\n",
      "[60]\tvalid_0's l2: 5.26898e+09\n",
      "Training until validation scores don't improve for 50 rounds\n",
      "Early stopping, best iteration is:\n",
      "[59]\tvalid_0's l2: 5.27539e+09\n",
      "Training until validation scores don't improve for 50 rounds\n"
     ]
    },
    {
     "name": "stderr",
     "output_type": "stream",
     "text": [
      "[I 2024-09-22 21:28:25,582] Trial 2 finished with value: 72678.75536020621 and parameters: {'n_estimators': 955, 'num_leaves': 541, 'max_depth': 51, 'learning_rate': 0.036723279424594156, 'subsample': 0.9543244404043341, 'colsample_bytree': 0.6596180444942726, 'reg_alpha': 3.4894428963481334e-07, 'reg_lambda': 0.015951452190168802, 'min_data_in_leaf': 49, 'feature_fraction': 0.9143406631538383, 'bagging_fraction': 0.5234481596946249, 'bagging_freq': 4, 'min_child_weight': 0.1929820588974466, 'cat_smooth': 65.96096423779524}. Best is trial 1 with value: 72543.89771337651.\n"
     ]
    },
    {
     "name": "stdout",
     "output_type": "stream",
     "text": [
      "Early stopping, best iteration is:\n",
      "[60]\tvalid_0's l2: 5.25059e+09\n",
      "Training until validation scores don't improve for 50 rounds\n",
      "Early stopping, best iteration is:\n",
      "[13]\tvalid_0's l2: 5.34775e+09\n",
      "Training until validation scores don't improve for 50 rounds\n",
      "Early stopping, best iteration is:\n",
      "[13]\tvalid_0's l2: 5.31427e+09\n",
      "Training until validation scores don't improve for 50 rounds\n",
      "Early stopping, best iteration is:\n",
      "[13]\tvalid_0's l2: 5.29039e+09\n",
      "Training until validation scores don't improve for 50 rounds\n",
      "Early stopping, best iteration is:\n",
      "[13]\tvalid_0's l2: 5.33048e+09\n",
      "Training until validation scores don't improve for 50 rounds\n"
     ]
    },
    {
     "name": "stderr",
     "output_type": "stream",
     "text": [
      "[I 2024-09-22 21:28:47,244] Trial 3 finished with value: 72910.01020231775 and parameters: {'n_estimators': 639, 'num_leaves': 643, 'max_depth': 27, 'learning_rate': 0.18362976337563003, 'subsample': 0.6479808534398394, 'colsample_bytree': 0.9419682397805931, 'reg_alpha': 8.97573097030888e-06, 'reg_lambda': 0.004571551229239351, 'min_data_in_leaf': 71, 'feature_fraction': 0.5467301872793251, 'bagging_fraction': 0.9105528289184642, 'bagging_freq': 1, 'min_child_weight': 0.020169108029984395, 'cat_smooth': 87.9550363117174}. Best is trial 1 with value: 72543.89771337651.\n"
     ]
    },
    {
     "name": "stdout",
     "output_type": "stream",
     "text": [
      "Early stopping, best iteration is:\n",
      "[11]\tvalid_0's l2: 5.29646e+09\n",
      "Training until validation scores don't improve for 50 rounds\n",
      "Early stopping, best iteration is:\n",
      "[508]\tvalid_0's l2: 5.29839e+09\n",
      "Training until validation scores don't improve for 50 rounds\n",
      "Early stopping, best iteration is:\n",
      "[573]\tvalid_0's l2: 5.26998e+09\n",
      "Training until validation scores don't improve for 50 rounds\n",
      "Early stopping, best iteration is:\n",
      "[556]\tvalid_0's l2: 5.23425e+09\n",
      "Training until validation scores don't improve for 50 rounds\n",
      "Early stopping, best iteration is:\n",
      "[447]\tvalid_0's l2: 5.26808e+09\n",
      "Training until validation scores don't improve for 50 rounds\n",
      "Early stopping, best iteration is:\n",
      "[475]\tvalid_0's l2: 5.23743e+09\n"
     ]
    },
    {
     "name": "stderr",
     "output_type": "stream",
     "text": [
      "[I 2024-09-22 21:36:57,158] Trial 4 finished with value: 72537.06796446617 and parameters: {'n_estimators': 1192, 'num_leaves': 482, 'max_depth': 52, 'learning_rate': 0.005677045861147304, 'subsample': 0.7986858241154422, 'colsample_bytree': 0.9514158801658137, 'reg_alpha': 0.00016119356219527467, 'reg_lambda': 0.2295120287772858, 'min_data_in_leaf': 43, 'feature_fraction': 0.6785908793172681, 'bagging_fraction': 0.5398065450779821, 'bagging_freq': 2, 'min_child_weight': 0.009645302925851532, 'cat_smooth': 59.405997991322664}. Best is trial 4 with value: 72537.06796446617.\n"
     ]
    },
    {
     "name": "stdout",
     "output_type": "stream",
     "text": [
      "Training until validation scores don't improve for 50 rounds\n",
      "Early stopping, best iteration is:\n",
      "[40]\tvalid_0's l2: 5.32772e+09\n",
      "Training until validation scores don't improve for 50 rounds\n",
      "Early stopping, best iteration is:\n",
      "[31]\tvalid_0's l2: 5.27914e+09\n",
      "Training until validation scores don't improve for 50 rounds\n",
      "Early stopping, best iteration is:\n",
      "[43]\tvalid_0's l2: 5.25558e+09\n",
      "Training until validation scores don't improve for 50 rounds\n",
      "Early stopping, best iteration is:\n",
      "[35]\tvalid_0's l2: 5.27639e+09\n",
      "Training until validation scores don't improve for 50 rounds\n"
     ]
    },
    {
     "name": "stderr",
     "output_type": "stream",
     "text": [
      "[I 2024-09-22 21:37:46,308] Trial 5 finished with value: 72642.28043630753 and parameters: {'n_estimators': 528, 'num_leaves': 472, 'max_depth': 26, 'learning_rate': 0.08118455774682055, 'subsample': 0.6731735750400165, 'colsample_bytree': 0.5215486781024972, 'reg_alpha': 0.01903229002492754, 'reg_lambda': 1.1296979705718802, 'min_data_in_leaf': 111, 'feature_fraction': 0.7087545719196335, 'bagging_fraction': 0.8027887821968784, 'bagging_freq': 3, 'min_child_weight': 0.38638467047838265, 'cat_smooth': 18.290082361212804}. Best is trial 4 with value: 72537.06796446617.\n"
     ]
    },
    {
     "name": "stdout",
     "output_type": "stream",
     "text": [
      "Early stopping, best iteration is:\n",
      "[32]\tvalid_0's l2: 5.24567e+09\n",
      "Training until validation scores don't improve for 50 rounds\n",
      "Early stopping, best iteration is:\n",
      "[555]\tvalid_0's l2: 5.30504e+09\n",
      "Training until validation scores don't improve for 50 rounds\n",
      "Early stopping, best iteration is:\n",
      "[567]\tvalid_0's l2: 5.28218e+09\n",
      "Training until validation scores don't improve for 50 rounds\n",
      "Early stopping, best iteration is:\n",
      "[513]\tvalid_0's l2: 5.24499e+09\n",
      "Training until validation scores don't improve for 50 rounds\n",
      "Early stopping, best iteration is:\n",
      "[498]\tvalid_0's l2: 5.26343e+09\n",
      "Training until validation scores don't improve for 50 rounds\n",
      "Early stopping, best iteration is:\n",
      "[579]\tvalid_0's l2: 5.23732e+09\n"
     ]
    },
    {
     "name": "stderr",
     "output_type": "stream",
     "text": [
      "[I 2024-09-22 21:42:33,666] Trial 6 finished with value: 72571.28634992163 and parameters: {'n_estimators': 710, 'num_leaves': 310, 'max_depth': 25, 'learning_rate': 0.005323872255879759, 'subsample': 0.778789094331322, 'colsample_bytree': 0.7827535099440838, 'reg_alpha': 7.092404300854912e-05, 'reg_lambda': 0.01483173321964085, 'min_data_in_leaf': 45, 'feature_fraction': 0.9894095728788213, 'bagging_fraction': 0.6698539218189319, 'bagging_freq': 3, 'min_child_weight': 72.85919281852098, 'cat_smooth': 27.591405563189507}. Best is trial 4 with value: 72537.06796446617.\n"
     ]
    },
    {
     "name": "stdout",
     "output_type": "stream",
     "text": [
      "Training until validation scores don't improve for 50 rounds\n",
      "Early stopping, best iteration is:\n",
      "[6]\tvalid_0's l2: 5.40882e+09\n",
      "Training until validation scores don't improve for 50 rounds\n",
      "Early stopping, best iteration is:\n",
      "[5]\tvalid_0's l2: 5.38483e+09\n",
      "Training until validation scores don't improve for 50 rounds\n",
      "Early stopping, best iteration is:\n",
      "[6]\tvalid_0's l2: 5.34464e+09\n",
      "Training until validation scores don't improve for 50 rounds\n",
      "Early stopping, best iteration is:\n",
      "[6]\tvalid_0's l2: 5.32993e+09\n",
      "Training until validation scores don't improve for 50 rounds\n"
     ]
    },
    {
     "name": "stderr",
     "output_type": "stream",
     "text": [
      "[I 2024-09-22 21:43:13,391] Trial 7 finished with value: 73207.89571757446 and parameters: {'n_estimators': 723, 'num_leaves': 508, 'max_depth': 39, 'learning_rate': 0.3645870608221405, 'subsample': 0.534048636768975, 'colsample_bytree': 0.7322654038896663, 'reg_alpha': 0.004916937769207978, 'reg_lambda': 0.7488782916686476, 'min_data_in_leaf': 87, 'feature_fraction': 0.5185472066172039, 'bagging_fraction': 0.6753281956415664, 'bagging_freq': 3, 'min_child_weight': 0.006286070313385454, 'cat_smooth': 32.53375211168362}. Best is trial 4 with value: 72537.06796446617.\n"
     ]
    },
    {
     "name": "stdout",
     "output_type": "stream",
     "text": [
      "Early stopping, best iteration is:\n",
      "[7]\tvalid_0's l2: 5.32877e+09\n",
      "Training until validation scores don't improve for 50 rounds\n",
      "Early stopping, best iteration is:\n",
      "[326]\tvalid_0's l2: 5.29656e+09\n",
      "Training until validation scores don't improve for 50 rounds\n",
      "Early stopping, best iteration is:\n",
      "[345]\tvalid_0's l2: 5.26749e+09\n",
      "Training until validation scores don't improve for 50 rounds\n",
      "Early stopping, best iteration is:\n",
      "[396]\tvalid_0's l2: 5.24632e+09\n",
      "Training until validation scores don't improve for 50 rounds\n",
      "Early stopping, best iteration is:\n",
      "[319]\tvalid_0's l2: 5.26589e+09\n",
      "Training until validation scores don't improve for 50 rounds\n",
      "Early stopping, best iteration is:\n",
      "[317]\tvalid_0's l2: 5.23231e+09\n"
     ]
    },
    {
     "name": "stderr",
     "output_type": "stream",
     "text": [
      "[I 2024-09-22 21:45:25,991] Trial 8 finished with value: 72537.67933181096 and parameters: {'n_estimators': 972, 'num_leaves': 363, 'max_depth': 12, 'learning_rate': 0.010314487673603769, 'subsample': 0.5540318863897262, 'colsample_bytree': 0.5894514042855452, 'reg_alpha': 0.02065202190439409, 'reg_lambda': 0.02893742513973448, 'min_data_in_leaf': 57, 'feature_fraction': 0.8762480851093014, 'bagging_fraction': 0.5534397921967846, 'bagging_freq': 4, 'min_child_weight': 0.06587365495478886, 'cat_smooth': 39.651139374964735}. Best is trial 4 with value: 72537.06796446617.\n"
     ]
    },
    {
     "name": "stdout",
     "output_type": "stream",
     "text": [
      "Training until validation scores don't improve for 50 rounds\n",
      "Did not meet early stopping. Best iteration is:\n",
      "[603]\tvalid_0's l2: 5.48562e+09\n",
      "Training until validation scores don't improve for 50 rounds\n",
      "Did not meet early stopping. Best iteration is:\n",
      "[603]\tvalid_0's l2: 5.46923e+09\n",
      "Training until validation scores don't improve for 50 rounds\n",
      "Did not meet early stopping. Best iteration is:\n",
      "[603]\tvalid_0's l2: 5.42003e+09\n",
      "Training until validation scores don't improve for 50 rounds\n",
      "Did not meet early stopping. Best iteration is:\n",
      "[603]\tvalid_0's l2: 5.455e+09\n",
      "Training until validation scores don't improve for 50 rounds\n",
      "Did not meet early stopping. Best iteration is:\n",
      "[603]\tvalid_0's l2: 5.41528e+09\n"
     ]
    },
    {
     "name": "stderr",
     "output_type": "stream",
     "text": [
      "[I 2024-09-22 21:50:52,432] Trial 9 finished with value: 73817.57412068972 and parameters: {'n_estimators': 603, 'num_leaves': 373, 'max_depth': 42, 'learning_rate': 0.0013992136034385533, 'subsample': 0.6243062539013847, 'colsample_bytree': 0.7712042581140022, 'reg_alpha': 2.294246403767406e-06, 'reg_lambda': 0.03354641687863073, 'min_data_in_leaf': 114, 'feature_fraction': 0.9626784364338884, 'bagging_fraction': 0.7833749622874999, 'bagging_freq': 3, 'min_child_weight': 0.00012278919376690123, 'cat_smooth': 95.03843220828843}. Best is trial 4 with value: 72537.06796446617.\n",
      "c:\\Users\\lerch\\miniconda3\\envs\\cars\\Lib\\site-packages\\lightgbm\\engine.py:204: UserWarning: Found `n_estimators` in params. Will use it instead of argument\n",
      "  _log_warning(f\"Found `{alias}` in params. Will use it instead of argument\")\n"
     ]
    },
    {
     "name": "stdout",
     "output_type": "stream",
     "text": [
      "Training until validation scores don't improve for 50 rounds\n",
      "Early stopping, best iteration is:\n",
      "[436]\tvalid_0's l2: 5.29268e+09\n"
     ]
    },
    {
     "name": "stderr",
     "output_type": "stream",
     "text": [
      "c:\\Users\\lerch\\miniconda3\\envs\\cars\\Lib\\site-packages\\lightgbm\\engine.py:204: UserWarning: Found `n_estimators` in params. Will use it instead of argument\n",
      "  _log_warning(f\"Found `{alias}` in params. Will use it instead of argument\")\n"
     ]
    },
    {
     "name": "stdout",
     "output_type": "stream",
     "text": [
      "Training until validation scores don't improve for 50 rounds\n",
      "Early stopping, best iteration is:\n",
      "[528]\tvalid_0's l2: 5.27819e+09\n"
     ]
    },
    {
     "name": "stderr",
     "output_type": "stream",
     "text": [
      "c:\\Users\\lerch\\miniconda3\\envs\\cars\\Lib\\site-packages\\lightgbm\\engine.py:204: UserWarning: Found `n_estimators` in params. Will use it instead of argument\n",
      "  _log_warning(f\"Found `{alias}` in params. Will use it instead of argument\")\n"
     ]
    },
    {
     "name": "stdout",
     "output_type": "stream",
     "text": [
      "Training until validation scores don't improve for 50 rounds\n",
      "Early stopping, best iteration is:\n",
      "[518]\tvalid_0's l2: 5.23327e+09\n"
     ]
    },
    {
     "name": "stderr",
     "output_type": "stream",
     "text": [
      "c:\\Users\\lerch\\miniconda3\\envs\\cars\\Lib\\site-packages\\lightgbm\\engine.py:204: UserWarning: Found `n_estimators` in params. Will use it instead of argument\n",
      "  _log_warning(f\"Found `{alias}` in params. Will use it instead of argument\")\n"
     ]
    },
    {
     "name": "stdout",
     "output_type": "stream",
     "text": [
      "Training until validation scores don't improve for 50 rounds\n",
      "Early stopping, best iteration is:\n",
      "[440]\tvalid_0's l2: 5.27681e+09\n"
     ]
    },
    {
     "name": "stderr",
     "output_type": "stream",
     "text": [
      "c:\\Users\\lerch\\miniconda3\\envs\\cars\\Lib\\site-packages\\lightgbm\\engine.py:204: UserWarning: Found `n_estimators` in params. Will use it instead of argument\n",
      "  _log_warning(f\"Found `{alias}` in params. Will use it instead of argument\")\n"
     ]
    },
    {
     "name": "stdout",
     "output_type": "stream",
     "text": [
      "Training until validation scores don't improve for 50 rounds\n",
      "Early stopping, best iteration is:\n",
      "[483]\tvalid_0's l2: 5.23102e+09\n"
     ]
    },
    {
     "name": "stderr",
     "output_type": "stream",
     "text": [
      "[I 2024-09-22 21:57:16,547] A new study created in memory with name: no-name-7d64e1ee-0326-4929-9d7f-b6415df20d3e\n"
     ]
    },
    {
     "name": "stdout",
     "output_type": "stream",
     "text": [
      "Training until validation scores don't improve for 50 rounds\n",
      "Early stopping, best iteration is:\n",
      "[12]\tvalid_0's l2: 5.37767e+09\n",
      "Training until validation scores don't improve for 50 rounds\n",
      "Early stopping, best iteration is:\n",
      "[14]\tvalid_0's l2: 5.34081e+09\n",
      "Training until validation scores don't improve for 50 rounds\n",
      "Early stopping, best iteration is:\n",
      "[12]\tvalid_0's l2: 5.30318e+09\n",
      "Training until validation scores don't improve for 50 rounds\n",
      "Early stopping, best iteration is:\n",
      "[12]\tvalid_0's l2: 5.33795e+09\n",
      "Training until validation scores don't improve for 50 rounds\n"
     ]
    },
    {
     "name": "stderr",
     "output_type": "stream",
     "text": [
      "[I 2024-09-22 21:57:46,785] Trial 0 finished with value: 72998.47832500786 and parameters: {'n_estimators': 1040, 'num_leaves': 308, 'max_depth': 42, 'learning_rate': 0.17636469336159113, 'subsample': 0.7492535061512953, 'colsample_bytree': 0.6123983227654238, 'reg_alpha': 1.54304001490974e-06, 'reg_lambda': 1.1018509458263566, 'min_data_in_leaf': 53, 'feature_fraction': 0.5441699070870052, 'bagging_fraction': 0.8426799091838986, 'bagging_freq': 5, 'min_child_weight': 0.00010560624429728648, 'cat_smooth': 32.52312463051321}. Best is trial 0 with value: 72998.47832500786.\n"
     ]
    },
    {
     "name": "stdout",
     "output_type": "stream",
     "text": [
      "Early stopping, best iteration is:\n",
      "[13]\tvalid_0's l2: 5.28428e+09\n",
      "Training until validation scores don't improve for 50 rounds\n",
      "Early stopping, best iteration is:\n",
      "[372]\tvalid_0's l2: 5.31229e+09\n",
      "Training until validation scores don't improve for 50 rounds\n",
      "Early stopping, best iteration is:\n",
      "[346]\tvalid_0's l2: 5.2876e+09\n",
      "Training until validation scores don't improve for 50 rounds\n",
      "Early stopping, best iteration is:\n",
      "[500]\tvalid_0's l2: 5.25279e+09\n",
      "Training until validation scores don't improve for 50 rounds\n",
      "Early stopping, best iteration is:\n",
      "[444]\tvalid_0's l2: 5.27143e+09\n",
      "Training until validation scores don't improve for 50 rounds\n",
      "Early stopping, best iteration is:\n",
      "[305]\tvalid_0's l2: 5.24363e+09\n"
     ]
    },
    {
     "name": "stderr",
     "output_type": "stream",
     "text": [
      "[I 2024-09-22 22:03:22,891] Trial 1 finished with value: 72619.20939543548 and parameters: {'n_estimators': 1069, 'num_leaves': 545, 'max_depth': 46, 'learning_rate': 0.007509797119626296, 'subsample': 0.9588870612564717, 'colsample_bytree': 0.8572878916988453, 'reg_alpha': 0.0001799973901160094, 'reg_lambda': 0.0037040785712895334, 'min_data_in_leaf': 70, 'feature_fraction': 0.8370668075331726, 'bagging_fraction': 0.720916587211498, 'bagging_freq': 3, 'min_child_weight': 0.5088641679920515, 'cat_smooth': 32.59404363006922}. Best is trial 1 with value: 72619.20939543548.\n"
     ]
    },
    {
     "name": "stdout",
     "output_type": "stream",
     "text": [
      "Training until validation scores don't improve for 50 rounds\n",
      "Early stopping, best iteration is:\n",
      "[76]\tvalid_0's l2: 5.32825e+09\n",
      "Training until validation scores don't improve for 50 rounds\n",
      "Early stopping, best iteration is:\n",
      "[64]\tvalid_0's l2: 5.2869e+09\n",
      "Training until validation scores don't improve for 50 rounds\n",
      "Early stopping, best iteration is:\n",
      "[74]\tvalid_0's l2: 5.26561e+09\n",
      "Training until validation scores don't improve for 50 rounds\n",
      "Early stopping, best iteration is:\n",
      "[66]\tvalid_0's l2: 5.28734e+09\n",
      "Training until validation scores don't improve for 50 rounds\n",
      "Early stopping, best iteration is:\n",
      "[95]\tvalid_0's l2: 5.26363e+09\n"
     ]
    },
    {
     "name": "stderr",
     "output_type": "stream",
     "text": [
      "[I 2024-09-22 22:04:56,044] Trial 2 finished with value: 72707.26347477577 and parameters: {'n_estimators': 955, 'num_leaves': 541, 'max_depth': 51, 'learning_rate': 0.036723279424594156, 'subsample': 0.9543244404043341, 'colsample_bytree': 0.6596180444942726, 'reg_alpha': 3.4894428963481334e-07, 'reg_lambda': 0.015951452190168802, 'min_data_in_leaf': 49, 'feature_fraction': 0.9143406631538383, 'bagging_fraction': 0.5234481596946249, 'bagging_freq': 4, 'min_child_weight': 0.1929820588974466, 'cat_smooth': 65.96096423779524}. Best is trial 1 with value: 72619.20939543548.\n"
     ]
    },
    {
     "name": "stdout",
     "output_type": "stream",
     "text": [
      "Training until validation scores don't improve for 50 rounds\n",
      "Early stopping, best iteration is:\n",
      "[15]\tvalid_0's l2: 5.36437e+09\n",
      "Training until validation scores don't improve for 50 rounds\n",
      "Early stopping, best iteration is:\n",
      "[11]\tvalid_0's l2: 5.33932e+09\n",
      "Training until validation scores don't improve for 50 rounds\n",
      "Early stopping, best iteration is:\n",
      "[15]\tvalid_0's l2: 5.28799e+09\n",
      "Training until validation scores don't improve for 50 rounds\n",
      "Early stopping, best iteration is:\n",
      "[11]\tvalid_0's l2: 5.31369e+09\n",
      "Training until validation scores don't improve for 50 rounds\n"
     ]
    },
    {
     "name": "stderr",
     "output_type": "stream",
     "text": [
      "[I 2024-09-22 22:05:36,917] Trial 3 finished with value: 72907.08454248126 and parameters: {'n_estimators': 639, 'num_leaves': 643, 'max_depth': 27, 'learning_rate': 0.18362976337563003, 'subsample': 0.6479808534398394, 'colsample_bytree': 0.9419682397805931, 'reg_alpha': 8.97573097030888e-06, 'reg_lambda': 0.004571551229239351, 'min_data_in_leaf': 71, 'feature_fraction': 0.5467301872793251, 'bagging_fraction': 0.9105528289184642, 'bagging_freq': 1, 'min_child_weight': 0.020169108029984395, 'cat_smooth': 87.9550363117174}. Best is trial 1 with value: 72619.20939543548.\n"
     ]
    },
    {
     "name": "stdout",
     "output_type": "stream",
     "text": [
      "Early stopping, best iteration is:\n",
      "[11]\tvalid_0's l2: 5.27184e+09\n",
      "Training until validation scores don't improve for 50 rounds\n",
      "Early stopping, best iteration is:\n",
      "[492]\tvalid_0's l2: 5.30948e+09\n",
      "Training until validation scores don't improve for 50 rounds\n",
      "Early stopping, best iteration is:\n",
      "[489]\tvalid_0's l2: 5.28764e+09\n",
      "Training until validation scores don't improve for 50 rounds\n",
      "Early stopping, best iteration is:\n",
      "[543]\tvalid_0's l2: 5.25843e+09\n",
      "Training until validation scores don't improve for 50 rounds\n",
      "Early stopping, best iteration is:\n",
      "[548]\tvalid_0's l2: 5.26541e+09\n",
      "Training until validation scores don't improve for 50 rounds\n",
      "Early stopping, best iteration is:\n",
      "[440]\tvalid_0's l2: 5.24002e+09\n"
     ]
    },
    {
     "name": "stderr",
     "output_type": "stream",
     "text": [
      "[I 2024-09-22 22:11:47,825] Trial 4 finished with value: 72609.89735905036 and parameters: {'n_estimators': 1192, 'num_leaves': 482, 'max_depth': 52, 'learning_rate': 0.005677045861147304, 'subsample': 0.7986858241154422, 'colsample_bytree': 0.9514158801658137, 'reg_alpha': 0.00016119356219527467, 'reg_lambda': 0.2295120287772858, 'min_data_in_leaf': 43, 'feature_fraction': 0.6785908793172681, 'bagging_fraction': 0.5398065450779821, 'bagging_freq': 2, 'min_child_weight': 0.009645302925851532, 'cat_smooth': 59.405997991322664}. Best is trial 4 with value: 72609.89735905036.\n"
     ]
    },
    {
     "name": "stdout",
     "output_type": "stream",
     "text": [
      "Training until validation scores don't improve for 50 rounds\n",
      "Early stopping, best iteration is:\n",
      "[42]\tvalid_0's l2: 5.31351e+09\n",
      "Training until validation scores don't improve for 50 rounds\n",
      "Early stopping, best iteration is:\n",
      "[38]\tvalid_0's l2: 5.30091e+09\n",
      "Training until validation scores don't improve for 50 rounds\n",
      "Early stopping, best iteration is:\n",
      "[34]\tvalid_0's l2: 5.26231e+09\n",
      "Training until validation scores don't improve for 50 rounds\n",
      "Early stopping, best iteration is:\n",
      "[40]\tvalid_0's l2: 5.28663e+09\n",
      "Training until validation scores don't improve for 50 rounds\n"
     ]
    },
    {
     "name": "stderr",
     "output_type": "stream",
     "text": [
      "[I 2024-09-22 22:12:37,986] Trial 5 finished with value: 72698.5917941171 and parameters: {'n_estimators': 528, 'num_leaves': 472, 'max_depth': 26, 'learning_rate': 0.08118455774682055, 'subsample': 0.6731735750400165, 'colsample_bytree': 0.5215486781024972, 'reg_alpha': 0.01903229002492754, 'reg_lambda': 1.1296979705718802, 'min_data_in_leaf': 111, 'feature_fraction': 0.7087545719196335, 'bagging_fraction': 0.8027887821968784, 'bagging_freq': 3, 'min_child_weight': 0.38638467047838265, 'cat_smooth': 18.290082361212804}. Best is trial 4 with value: 72609.89735905036.\n"
     ]
    },
    {
     "name": "stdout",
     "output_type": "stream",
     "text": [
      "Early stopping, best iteration is:\n",
      "[36]\tvalid_0's l2: 5.26208e+09\n",
      "Training until validation scores don't improve for 50 rounds\n",
      "Early stopping, best iteration is:\n",
      "[501]\tvalid_0's l2: 5.31906e+09\n",
      "Training until validation scores don't improve for 50 rounds\n",
      "Early stopping, best iteration is:\n",
      "[588]\tvalid_0's l2: 5.28436e+09\n",
      "Training until validation scores don't improve for 50 rounds\n",
      "Early stopping, best iteration is:\n",
      "[567]\tvalid_0's l2: 5.25713e+09\n",
      "Training until validation scores don't improve for 50 rounds\n",
      "Early stopping, best iteration is:\n",
      "[566]\tvalid_0's l2: 5.27263e+09\n",
      "Training until validation scores don't improve for 50 rounds\n",
      "Early stopping, best iteration is:\n",
      "[603]\tvalid_0's l2: 5.24046e+09\n"
     ]
    },
    {
     "name": "stderr",
     "output_type": "stream",
     "text": [
      "[I 2024-09-22 22:17:37,861] Trial 6 finished with value: 72627.32135711651 and parameters: {'n_estimators': 710, 'num_leaves': 310, 'max_depth': 25, 'learning_rate': 0.005323872255879759, 'subsample': 0.778789094331322, 'colsample_bytree': 0.7827535099440838, 'reg_alpha': 7.092404300854912e-05, 'reg_lambda': 0.01483173321964085, 'min_data_in_leaf': 45, 'feature_fraction': 0.9894095728788213, 'bagging_fraction': 0.6698539218189319, 'bagging_freq': 3, 'min_child_weight': 72.85919281852098, 'cat_smooth': 27.591405563189507}. Best is trial 4 with value: 72609.89735905036.\n"
     ]
    },
    {
     "name": "stdout",
     "output_type": "stream",
     "text": [
      "Training until validation scores don't improve for 50 rounds\n",
      "Early stopping, best iteration is:\n",
      "[7]\tvalid_0's l2: 5.3914e+09\n",
      "Training until validation scores don't improve for 50 rounds\n",
      "Early stopping, best iteration is:\n",
      "[5]\tvalid_0's l2: 5.38408e+09\n",
      "Training until validation scores don't improve for 50 rounds\n",
      "Early stopping, best iteration is:\n",
      "[7]\tvalid_0's l2: 5.34592e+09\n",
      "Training until validation scores don't improve for 50 rounds\n",
      "Early stopping, best iteration is:\n",
      "[6]\tvalid_0's l2: 5.35136e+09\n",
      "Training until validation scores don't improve for 50 rounds\n"
     ]
    },
    {
     "name": "stderr",
     "output_type": "stream",
     "text": [
      "[I 2024-09-22 22:18:17,428] Trial 7 finished with value: 73196.64703053751 and parameters: {'n_estimators': 723, 'num_leaves': 508, 'max_depth': 39, 'learning_rate': 0.3645870608221405, 'subsample': 0.534048636768975, 'colsample_bytree': 0.7322654038896663, 'reg_alpha': 0.004916937769207978, 'reg_lambda': 0.7488782916686476, 'min_data_in_leaf': 87, 'feature_fraction': 0.5185472066172039, 'bagging_fraction': 0.6753281956415664, 'bagging_freq': 3, 'min_child_weight': 0.006286070313385454, 'cat_smooth': 32.53375211168362}. Best is trial 4 with value: 72609.89735905036.\n"
     ]
    },
    {
     "name": "stdout",
     "output_type": "stream",
     "text": [
      "Early stopping, best iteration is:\n",
      "[5]\tvalid_0's l2: 5.31598e+09\n",
      "Training until validation scores don't improve for 50 rounds\n",
      "Early stopping, best iteration is:\n",
      "[257]\tvalid_0's l2: 5.30467e+09\n",
      "Training until validation scores don't improve for 50 rounds\n",
      "Early stopping, best iteration is:\n",
      "[344]\tvalid_0's l2: 5.28209e+09\n",
      "Training until validation scores don't improve for 50 rounds\n",
      "Early stopping, best iteration is:\n",
      "[420]\tvalid_0's l2: 5.24462e+09\n",
      "Training until validation scores don't improve for 50 rounds\n",
      "Early stopping, best iteration is:\n",
      "[277]\tvalid_0's l2: 5.26875e+09\n",
      "Training until validation scores don't improve for 50 rounds\n",
      "Early stopping, best iteration is:\n",
      "[327]\tvalid_0's l2: 5.24085e+09\n"
     ]
    },
    {
     "name": "stderr",
     "output_type": "stream",
     "text": [
      "[I 2024-09-22 22:20:22,532] Trial 8 finished with value: 72582.34089821804 and parameters: {'n_estimators': 972, 'num_leaves': 363, 'max_depth': 12, 'learning_rate': 0.010314487673603769, 'subsample': 0.5540318863897262, 'colsample_bytree': 0.5894514042855452, 'reg_alpha': 0.02065202190439409, 'reg_lambda': 0.02893742513973448, 'min_data_in_leaf': 57, 'feature_fraction': 0.8762480851093014, 'bagging_fraction': 0.5534397921967846, 'bagging_freq': 4, 'min_child_weight': 0.06587365495478886, 'cat_smooth': 39.651139374964735}. Best is trial 8 with value: 72582.34089821804.\n"
     ]
    },
    {
     "name": "stdout",
     "output_type": "stream",
     "text": [
      "Training until validation scores don't improve for 50 rounds\n",
      "Did not meet early stopping. Best iteration is:\n",
      "[603]\tvalid_0's l2: 5.48812e+09\n",
      "Training until validation scores don't improve for 50 rounds\n",
      "Did not meet early stopping. Best iteration is:\n",
      "[603]\tvalid_0's l2: 5.45838e+09\n",
      "Training until validation scores don't improve for 50 rounds\n",
      "Did not meet early stopping. Best iteration is:\n",
      "[603]\tvalid_0's l2: 5.42397e+09\n",
      "Training until validation scores don't improve for 50 rounds\n",
      "Did not meet early stopping. Best iteration is:\n",
      "[603]\tvalid_0's l2: 5.46425e+09\n",
      "Training until validation scores don't improve for 50 rounds\n",
      "Did not meet early stopping. Best iteration is:\n",
      "[603]\tvalid_0's l2: 5.41661e+09\n"
     ]
    },
    {
     "name": "stderr",
     "output_type": "stream",
     "text": [
      "[I 2024-09-22 22:25:52,213] Trial 9 finished with value: 73825.9097203519 and parameters: {'n_estimators': 603, 'num_leaves': 373, 'max_depth': 42, 'learning_rate': 0.0013992136034385533, 'subsample': 0.6243062539013847, 'colsample_bytree': 0.7712042581140022, 'reg_alpha': 2.294246403767406e-06, 'reg_lambda': 0.03354641687863073, 'min_data_in_leaf': 114, 'feature_fraction': 0.9626784364338884, 'bagging_fraction': 0.7833749622874999, 'bagging_freq': 3, 'min_child_weight': 0.00012278919376690123, 'cat_smooth': 95.03843220828843}. Best is trial 8 with value: 72582.34089821804.\n",
      "c:\\Users\\lerch\\miniconda3\\envs\\cars\\Lib\\site-packages\\lightgbm\\engine.py:204: UserWarning: Found `n_estimators` in params. Will use it instead of argument\n",
      "  _log_warning(f\"Found `{alias}` in params. Will use it instead of argument\")\n"
     ]
    },
    {
     "name": "stdout",
     "output_type": "stream",
     "text": [
      "Training until validation scores don't improve for 50 rounds\n",
      "Early stopping, best iteration is:\n",
      "[261]\tvalid_0's l2: 5.30915e+09\n"
     ]
    },
    {
     "name": "stderr",
     "output_type": "stream",
     "text": [
      "c:\\Users\\lerch\\miniconda3\\envs\\cars\\Lib\\site-packages\\lightgbm\\engine.py:204: UserWarning: Found `n_estimators` in params. Will use it instead of argument\n",
      "  _log_warning(f\"Found `{alias}` in params. Will use it instead of argument\")\n"
     ]
    },
    {
     "name": "stdout",
     "output_type": "stream",
     "text": [
      "Training until validation scores don't improve for 50 rounds\n",
      "Early stopping, best iteration is:\n",
      "[335]\tvalid_0's l2: 5.28938e+09\n"
     ]
    },
    {
     "name": "stderr",
     "output_type": "stream",
     "text": [
      "c:\\Users\\lerch\\miniconda3\\envs\\cars\\Lib\\site-packages\\lightgbm\\engine.py:204: UserWarning: Found `n_estimators` in params. Will use it instead of argument\n",
      "  _log_warning(f\"Found `{alias}` in params. Will use it instead of argument\")\n"
     ]
    },
    {
     "name": "stdout",
     "output_type": "stream",
     "text": [
      "Training until validation scores don't improve for 50 rounds\n",
      "Early stopping, best iteration is:\n",
      "[446]\tvalid_0's l2: 5.2437e+09\n"
     ]
    },
    {
     "name": "stderr",
     "output_type": "stream",
     "text": [
      "c:\\Users\\lerch\\miniconda3\\envs\\cars\\Lib\\site-packages\\lightgbm\\engine.py:204: UserWarning: Found `n_estimators` in params. Will use it instead of argument\n",
      "  _log_warning(f\"Found `{alias}` in params. Will use it instead of argument\")\n"
     ]
    },
    {
     "name": "stdout",
     "output_type": "stream",
     "text": [
      "Training until validation scores don't improve for 50 rounds\n",
      "Early stopping, best iteration is:\n",
      "[300]\tvalid_0's l2: 5.26599e+09\n"
     ]
    },
    {
     "name": "stderr",
     "output_type": "stream",
     "text": [
      "c:\\Users\\lerch\\miniconda3\\envs\\cars\\Lib\\site-packages\\lightgbm\\engine.py:204: UserWarning: Found `n_estimators` in params. Will use it instead of argument\n",
      "  _log_warning(f\"Found `{alias}` in params. Will use it instead of argument\")\n"
     ]
    },
    {
     "name": "stdout",
     "output_type": "stream",
     "text": [
      "Training until validation scores don't improve for 50 rounds\n",
      "Early stopping, best iteration is:\n",
      "[353]\tvalid_0's l2: 5.23911e+09\n"
     ]
    },
    {
     "name": "stderr",
     "output_type": "stream",
     "text": [
      "[I 2024-09-22 22:28:12,608] A new study created in memory with name: no-name-d017c8e1-4283-4e3c-b1ec-dc46d72c12df\n"
     ]
    },
    {
     "name": "stdout",
     "output_type": "stream",
     "text": [
      "Training until validation scores don't improve for 50 rounds\n",
      "Early stopping, best iteration is:\n",
      "[10]\tvalid_0's l2: 5.38372e+09\n",
      "Training until validation scores don't improve for 50 rounds\n",
      "Early stopping, best iteration is:\n",
      "[18]\tvalid_0's l2: 5.34217e+09\n",
      "Training until validation scores don't improve for 50 rounds\n",
      "Early stopping, best iteration is:\n",
      "[12]\tvalid_0's l2: 5.31102e+09\n",
      "Training until validation scores don't improve for 50 rounds\n",
      "Early stopping, best iteration is:\n",
      "[11]\tvalid_0's l2: 5.32095e+09\n",
      "Training until validation scores don't improve for 50 rounds\n"
     ]
    },
    {
     "name": "stderr",
     "output_type": "stream",
     "text": [
      "[I 2024-09-22 22:28:42,286] Trial 0 finished with value: 72990.07726904724 and parameters: {'n_estimators': 1040, 'num_leaves': 308, 'max_depth': 42, 'learning_rate': 0.17636469336159113, 'subsample': 0.7492535061512953, 'colsample_bytree': 0.6123983227654238, 'reg_alpha': 1.54304001490974e-06, 'reg_lambda': 1.1018509458263566, 'min_data_in_leaf': 53, 'feature_fraction': 0.5441699070870052, 'bagging_fraction': 0.8426799091838986, 'bagging_freq': 5, 'min_child_weight': 0.00010560624429728648, 'cat_smooth': 32.52312463051321}. Best is trial 0 with value: 72990.07726904724.\n"
     ]
    },
    {
     "name": "stdout",
     "output_type": "stream",
     "text": [
      "Early stopping, best iteration is:\n",
      "[12]\tvalid_0's l2: 5.27989e+09\n",
      "Training until validation scores don't improve for 50 rounds\n",
      "Early stopping, best iteration is:\n",
      "[308]\tvalid_0's l2: 5.31019e+09\n",
      "Training until validation scores don't improve for 50 rounds\n",
      "Early stopping, best iteration is:\n",
      "[336]\tvalid_0's l2: 5.27876e+09\n",
      "Training until validation scores don't improve for 50 rounds\n",
      "Early stopping, best iteration is:\n",
      "[387]\tvalid_0's l2: 5.27244e+09\n",
      "Training until validation scores don't improve for 50 rounds\n",
      "Early stopping, best iteration is:\n",
      "[357]\tvalid_0's l2: 5.26299e+09\n",
      "Training until validation scores don't improve for 50 rounds\n",
      "Early stopping, best iteration is:\n",
      "[316]\tvalid_0's l2: 5.25839e+09\n"
     ]
    },
    {
     "name": "stderr",
     "output_type": "stream",
     "text": [
      "[I 2024-09-22 22:33:35,652] Trial 1 finished with value: 72639.88482726137 and parameters: {'n_estimators': 1069, 'num_leaves': 545, 'max_depth': 46, 'learning_rate': 0.007509797119626296, 'subsample': 0.9588870612564717, 'colsample_bytree': 0.8572878916988453, 'reg_alpha': 0.0001799973901160094, 'reg_lambda': 0.0037040785712895334, 'min_data_in_leaf': 70, 'feature_fraction': 0.8370668075331726, 'bagging_fraction': 0.720916587211498, 'bagging_freq': 3, 'min_child_weight': 0.5088641679920515, 'cat_smooth': 32.59404363006922}. Best is trial 1 with value: 72639.88482726137.\n"
     ]
    },
    {
     "name": "stdout",
     "output_type": "stream",
     "text": [
      "Training until validation scores don't improve for 50 rounds\n",
      "Early stopping, best iteration is:\n",
      "[57]\tvalid_0's l2: 5.34619e+09\n",
      "Training until validation scores don't improve for 50 rounds\n",
      "Early stopping, best iteration is:\n",
      "[71]\tvalid_0's l2: 5.28305e+09\n",
      "Training until validation scores don't improve for 50 rounds\n",
      "Early stopping, best iteration is:\n",
      "[60]\tvalid_0's l2: 5.2638e+09\n",
      "Training until validation scores don't improve for 50 rounds\n",
      "Early stopping, best iteration is:\n",
      "[64]\tvalid_0's l2: 5.27529e+09\n",
      "Training until validation scores don't improve for 50 rounds\n",
      "Early stopping, best iteration is:\n",
      "[59]\tvalid_0's l2: 5.26846e+09\n"
     ]
    },
    {
     "name": "stderr",
     "output_type": "stream",
     "text": [
      "[I 2024-09-22 22:34:59,908] Trial 2 finished with value: 72714.19725129337 and parameters: {'n_estimators': 955, 'num_leaves': 541, 'max_depth': 51, 'learning_rate': 0.036723279424594156, 'subsample': 0.9543244404043341, 'colsample_bytree': 0.6596180444942726, 'reg_alpha': 3.4894428963481334e-07, 'reg_lambda': 0.015951452190168802, 'min_data_in_leaf': 49, 'feature_fraction': 0.9143406631538383, 'bagging_fraction': 0.5234481596946249, 'bagging_freq': 4, 'min_child_weight': 0.1929820588974466, 'cat_smooth': 65.96096423779524}. Best is trial 1 with value: 72639.88482726137.\n"
     ]
    },
    {
     "name": "stdout",
     "output_type": "stream",
     "text": [
      "Training until validation scores don't improve for 50 rounds\n",
      "Early stopping, best iteration is:\n",
      "[11]\tvalid_0's l2: 5.36797e+09\n",
      "Training until validation scores don't improve for 50 rounds\n",
      "Early stopping, best iteration is:\n",
      "[11]\tvalid_0's l2: 5.32134e+09\n",
      "Training until validation scores don't improve for 50 rounds\n",
      "Early stopping, best iteration is:\n",
      "[12]\tvalid_0's l2: 5.31561e+09\n",
      "Training until validation scores don't improve for 50 rounds\n",
      "Early stopping, best iteration is:\n",
      "[13]\tvalid_0's l2: 5.30791e+09\n",
      "Training until validation scores don't improve for 50 rounds\n"
     ]
    },
    {
     "name": "stderr",
     "output_type": "stream",
     "text": [
      "[I 2024-09-22 22:35:41,092] Trial 3 finished with value: 72958.57948310705 and parameters: {'n_estimators': 639, 'num_leaves': 643, 'max_depth': 27, 'learning_rate': 0.18362976337563003, 'subsample': 0.6479808534398394, 'colsample_bytree': 0.9419682397805931, 'reg_alpha': 8.97573097030888e-06, 'reg_lambda': 0.004571551229239351, 'min_data_in_leaf': 71, 'feature_fraction': 0.5467301872793251, 'bagging_fraction': 0.9105528289184642, 'bagging_freq': 1, 'min_child_weight': 0.020169108029984395, 'cat_smooth': 87.9550363117174}. Best is trial 1 with value: 72639.88482726137.\n"
     ]
    },
    {
     "name": "stdout",
     "output_type": "stream",
     "text": [
      "Early stopping, best iteration is:\n",
      "[9]\tvalid_0's l2: 5.30193e+09\n",
      "Training until validation scores don't improve for 50 rounds\n",
      "Early stopping, best iteration is:\n",
      "[421]\tvalid_0's l2: 5.31114e+09\n",
      "Training until validation scores don't improve for 50 rounds\n",
      "Early stopping, best iteration is:\n",
      "[491]\tvalid_0's l2: 5.27736e+09\n",
      "Training until validation scores don't improve for 50 rounds\n",
      "Early stopping, best iteration is:\n",
      "[511]\tvalid_0's l2: 5.26019e+09\n",
      "Training until validation scores don't improve for 50 rounds\n",
      "Early stopping, best iteration is:\n",
      "[499]\tvalid_0's l2: 5.25617e+09\n",
      "Training until validation scores don't improve for 50 rounds\n",
      "Early stopping, best iteration is:\n",
      "[394]\tvalid_0's l2: 5.25928e+09\n"
     ]
    },
    {
     "name": "stderr",
     "output_type": "stream",
     "text": [
      "[I 2024-09-22 22:41:25,409] Trial 4 finished with value: 72614.26011953768 and parameters: {'n_estimators': 1192, 'num_leaves': 482, 'max_depth': 52, 'learning_rate': 0.005677045861147304, 'subsample': 0.7986858241154422, 'colsample_bytree': 0.9514158801658137, 'reg_alpha': 0.00016119356219527467, 'reg_lambda': 0.2295120287772858, 'min_data_in_leaf': 43, 'feature_fraction': 0.6785908793172681, 'bagging_fraction': 0.5398065450779821, 'bagging_freq': 2, 'min_child_weight': 0.009645302925851532, 'cat_smooth': 59.405997991322664}. Best is trial 4 with value: 72614.26011953768.\n"
     ]
    },
    {
     "name": "stdout",
     "output_type": "stream",
     "text": [
      "Training until validation scores don't improve for 50 rounds\n",
      "Early stopping, best iteration is:\n",
      "[35]\tvalid_0's l2: 5.31906e+09\n",
      "Training until validation scores don't improve for 50 rounds\n",
      "Early stopping, best iteration is:\n",
      "[38]\tvalid_0's l2: 5.28156e+09\n",
      "Training until validation scores don't improve for 50 rounds\n",
      "Early stopping, best iteration is:\n",
      "[39]\tvalid_0's l2: 5.2868e+09\n",
      "Training until validation scores don't improve for 50 rounds\n",
      "Early stopping, best iteration is:\n",
      "[35]\tvalid_0's l2: 5.25358e+09\n",
      "Training until validation scores don't improve for 50 rounds\n"
     ]
    },
    {
     "name": "stderr",
     "output_type": "stream",
     "text": [
      "[I 2024-09-22 22:42:14,975] Trial 5 finished with value: 72685.18400726977 and parameters: {'n_estimators': 528, 'num_leaves': 472, 'max_depth': 26, 'learning_rate': 0.08118455774682055, 'subsample': 0.6731735750400165, 'colsample_bytree': 0.5215486781024972, 'reg_alpha': 0.01903229002492754, 'reg_lambda': 1.1296979705718802, 'min_data_in_leaf': 111, 'feature_fraction': 0.7087545719196335, 'bagging_fraction': 0.8027887821968784, 'bagging_freq': 3, 'min_child_weight': 0.38638467047838265, 'cat_smooth': 18.290082361212804}. Best is trial 4 with value: 72614.26011953768.\n"
     ]
    },
    {
     "name": "stdout",
     "output_type": "stream",
     "text": [
      "Early stopping, best iteration is:\n",
      "[32]\tvalid_0's l2: 5.27469e+09\n",
      "Training until validation scores don't improve for 50 rounds\n",
      "Early stopping, best iteration is:\n",
      "[483]\tvalid_0's l2: 5.30943e+09\n",
      "Training until validation scores don't improve for 50 rounds\n",
      "Early stopping, best iteration is:\n",
      "[441]\tvalid_0's l2: 5.28927e+09\n",
      "Training until validation scores don't improve for 50 rounds\n",
      "Early stopping, best iteration is:\n",
      "[513]\tvalid_0's l2: 5.26618e+09\n",
      "Training until validation scores don't improve for 50 rounds\n",
      "Early stopping, best iteration is:\n",
      "[483]\tvalid_0's l2: 5.26249e+09\n",
      "Training until validation scores don't improve for 50 rounds\n",
      "Early stopping, best iteration is:\n",
      "[441]\tvalid_0's l2: 5.26558e+09\n"
     ]
    },
    {
     "name": "stderr",
     "output_type": "stream",
     "text": [
      "[I 2024-09-22 22:46:27,678] Trial 6 finished with value: 72653.90856364468 and parameters: {'n_estimators': 710, 'num_leaves': 310, 'max_depth': 25, 'learning_rate': 0.005323872255879759, 'subsample': 0.778789094331322, 'colsample_bytree': 0.7827535099440838, 'reg_alpha': 7.092404300854912e-05, 'reg_lambda': 0.01483173321964085, 'min_data_in_leaf': 45, 'feature_fraction': 0.9894095728788213, 'bagging_fraction': 0.6698539218189319, 'bagging_freq': 3, 'min_child_weight': 72.85919281852098, 'cat_smooth': 27.591405563189507}. Best is trial 4 with value: 72614.26011953768.\n"
     ]
    },
    {
     "name": "stdout",
     "output_type": "stream",
     "text": [
      "Training until validation scores don't improve for 50 rounds\n",
      "Early stopping, best iteration is:\n",
      "[5]\tvalid_0's l2: 5.39338e+09\n",
      "Training until validation scores don't improve for 50 rounds\n",
      "Early stopping, best iteration is:\n",
      "[5]\tvalid_0's l2: 5.3945e+09\n",
      "Training until validation scores don't improve for 50 rounds\n",
      "Early stopping, best iteration is:\n",
      "[6]\tvalid_0's l2: 5.36614e+09\n",
      "Training until validation scores don't improve for 50 rounds\n",
      "Early stopping, best iteration is:\n",
      "[7]\tvalid_0's l2: 5.3169e+09\n",
      "Training until validation scores don't improve for 50 rounds\n"
     ]
    },
    {
     "name": "stderr",
     "output_type": "stream",
     "text": [
      "[I 2024-09-22 22:47:06,384] Trial 7 finished with value: 73221.46372575441 and parameters: {'n_estimators': 723, 'num_leaves': 508, 'max_depth': 39, 'learning_rate': 0.3645870608221405, 'subsample': 0.534048636768975, 'colsample_bytree': 0.7322654038896663, 'reg_alpha': 0.004916937769207978, 'reg_lambda': 0.7488782916686476, 'min_data_in_leaf': 87, 'feature_fraction': 0.5185472066172039, 'bagging_fraction': 0.6753281956415664, 'bagging_freq': 3, 'min_child_weight': 0.006286070313385454, 'cat_smooth': 32.53375211168362}. Best is trial 4 with value: 72614.26011953768.\n"
     ]
    },
    {
     "name": "stdout",
     "output_type": "stream",
     "text": [
      "Early stopping, best iteration is:\n",
      "[5]\tvalid_0's l2: 5.33598e+09\n",
      "Training until validation scores don't improve for 50 rounds\n",
      "Early stopping, best iteration is:\n",
      "[286]\tvalid_0's l2: 5.30079e+09\n",
      "Training until validation scores don't improve for 50 rounds\n",
      "Early stopping, best iteration is:\n",
      "[348]\tvalid_0's l2: 5.27522e+09\n",
      "Training until validation scores don't improve for 50 rounds\n",
      "Early stopping, best iteration is:\n",
      "[388]\tvalid_0's l2: 5.25538e+09\n",
      "Training until validation scores don't improve for 50 rounds\n",
      "Early stopping, best iteration is:\n",
      "[288]\tvalid_0's l2: 5.25322e+09\n",
      "Training until validation scores don't improve for 50 rounds\n",
      "Early stopping, best iteration is:\n",
      "[258]\tvalid_0's l2: 5.26289e+09\n"
     ]
    },
    {
     "name": "stderr",
     "output_type": "stream",
     "text": [
      "[I 2024-09-22 22:49:17,525] Trial 8 finished with value: 72591.31737883079 and parameters: {'n_estimators': 972, 'num_leaves': 363, 'max_depth': 12, 'learning_rate': 0.010314487673603769, 'subsample': 0.5540318863897262, 'colsample_bytree': 0.5894514042855452, 'reg_alpha': 0.02065202190439409, 'reg_lambda': 0.02893742513973448, 'min_data_in_leaf': 57, 'feature_fraction': 0.8762480851093014, 'bagging_fraction': 0.5534397921967846, 'bagging_freq': 4, 'min_child_weight': 0.06587365495478886, 'cat_smooth': 39.651139374964735}. Best is trial 8 with value: 72591.31737883079.\n"
     ]
    },
    {
     "name": "stdout",
     "output_type": "stream",
     "text": [
      "Training until validation scores don't improve for 50 rounds\n",
      "Did not meet early stopping. Best iteration is:\n",
      "[603]\tvalid_0's l2: 5.47528e+09\n",
      "Training until validation scores don't improve for 50 rounds\n",
      "Did not meet early stopping. Best iteration is:\n",
      "[603]\tvalid_0's l2: 5.46018e+09\n",
      "Training until validation scores don't improve for 50 rounds\n",
      "Did not meet early stopping. Best iteration is:\n",
      "[603]\tvalid_0's l2: 5.42484e+09\n",
      "Training until validation scores don't improve for 50 rounds\n",
      "Did not meet early stopping. Best iteration is:\n",
      "[603]\tvalid_0's l2: 5.44846e+09\n",
      "Training until validation scores don't improve for 50 rounds\n",
      "Did not meet early stopping. Best iteration is:\n",
      "[603]\tvalid_0's l2: 5.41667e+09\n"
     ]
    },
    {
     "name": "stderr",
     "output_type": "stream",
     "text": [
      "[I 2024-09-22 22:54:43,936] Trial 9 finished with value: 73790.83763240081 and parameters: {'n_estimators': 603, 'num_leaves': 373, 'max_depth': 42, 'learning_rate': 0.0013992136034385533, 'subsample': 0.6243062539013847, 'colsample_bytree': 0.7712042581140022, 'reg_alpha': 2.294246403767406e-06, 'reg_lambda': 0.03354641687863073, 'min_data_in_leaf': 114, 'feature_fraction': 0.9626784364338884, 'bagging_fraction': 0.7833749622874999, 'bagging_freq': 3, 'min_child_weight': 0.00012278919376690123, 'cat_smooth': 95.03843220828843}. Best is trial 8 with value: 72591.31737883079.\n",
      "c:\\Users\\lerch\\miniconda3\\envs\\cars\\Lib\\site-packages\\lightgbm\\engine.py:204: UserWarning: Found `n_estimators` in params. Will use it instead of argument\n",
      "  _log_warning(f\"Found `{alias}` in params. Will use it instead of argument\")\n"
     ]
    },
    {
     "name": "stdout",
     "output_type": "stream",
     "text": [
      "Training until validation scores don't improve for 50 rounds\n",
      "Early stopping, best iteration is:\n",
      "[244]\tvalid_0's l2: 5.30854e+09\n"
     ]
    },
    {
     "name": "stderr",
     "output_type": "stream",
     "text": [
      "c:\\Users\\lerch\\miniconda3\\envs\\cars\\Lib\\site-packages\\lightgbm\\engine.py:204: UserWarning: Found `n_estimators` in params. Will use it instead of argument\n",
      "  _log_warning(f\"Found `{alias}` in params. Will use it instead of argument\")\n"
     ]
    },
    {
     "name": "stdout",
     "output_type": "stream",
     "text": [
      "Training until validation scores don't improve for 50 rounds\n",
      "Early stopping, best iteration is:\n",
      "[312]\tvalid_0's l2: 5.28392e+09\n"
     ]
    },
    {
     "name": "stderr",
     "output_type": "stream",
     "text": [
      "c:\\Users\\lerch\\miniconda3\\envs\\cars\\Lib\\site-packages\\lightgbm\\engine.py:204: UserWarning: Found `n_estimators` in params. Will use it instead of argument\n",
      "  _log_warning(f\"Found `{alias}` in params. Will use it instead of argument\")\n"
     ]
    },
    {
     "name": "stdout",
     "output_type": "stream",
     "text": [
      "Training until validation scores don't improve for 50 rounds\n",
      "Early stopping, best iteration is:\n",
      "[369]\tvalid_0's l2: 5.26115e+09\n"
     ]
    },
    {
     "name": "stderr",
     "output_type": "stream",
     "text": [
      "c:\\Users\\lerch\\miniconda3\\envs\\cars\\Lib\\site-packages\\lightgbm\\engine.py:204: UserWarning: Found `n_estimators` in params. Will use it instead of argument\n",
      "  _log_warning(f\"Found `{alias}` in params. Will use it instead of argument\")\n"
     ]
    },
    {
     "name": "stdout",
     "output_type": "stream",
     "text": [
      "Training until validation scores don't improve for 50 rounds\n",
      "Early stopping, best iteration is:\n",
      "[265]\tvalid_0's l2: 5.24876e+09\n"
     ]
    },
    {
     "name": "stderr",
     "output_type": "stream",
     "text": [
      "c:\\Users\\lerch\\miniconda3\\envs\\cars\\Lib\\site-packages\\lightgbm\\engine.py:204: UserWarning: Found `n_estimators` in params. Will use it instead of argument\n",
      "  _log_warning(f\"Found `{alias}` in params. Will use it instead of argument\")\n"
     ]
    },
    {
     "name": "stdout",
     "output_type": "stream",
     "text": [
      "Training until validation scores don't improve for 50 rounds\n",
      "Early stopping, best iteration is:\n",
      "[276]\tvalid_0's l2: 5.25055e+09\n"
     ]
    },
    {
     "name": "stderr",
     "output_type": "stream",
     "text": [
      "[I 2024-09-22 22:56:06,896] A new study created in memory with name: no-name-7870ede5-d09e-4aae-8ba4-833026152a5e\n"
     ]
    },
    {
     "name": "stdout",
     "output_type": "stream",
     "text": [
      "Training until validation scores don't improve for 50 rounds\n",
      "Early stopping, best iteration is:\n",
      "[13]\tvalid_0's l2: 5.3616e+09\n",
      "Training until validation scores don't improve for 50 rounds\n",
      "Early stopping, best iteration is:\n",
      "[11]\tvalid_0's l2: 5.31779e+09\n",
      "Training until validation scores don't improve for 50 rounds\n",
      "Early stopping, best iteration is:\n",
      "[13]\tvalid_0's l2: 5.29787e+09\n",
      "Training until validation scores don't improve for 50 rounds\n",
      "Early stopping, best iteration is:\n",
      "[12]\tvalid_0's l2: 5.31661e+09\n",
      "Training until validation scores don't improve for 50 rounds\n"
     ]
    },
    {
     "name": "stderr",
     "output_type": "stream",
     "text": [
      "[I 2024-09-22 22:57:20,421] Trial 0 finished with value: 72907.33248012773 and parameters: {'n_estimators': 1040, 'num_leaves': 308, 'max_depth': 42, 'learning_rate': 0.17636469336159113, 'subsample': 0.7492535061512953, 'colsample_bytree': 0.6123983227654238, 'reg_alpha': 1.54304001490974e-06, 'reg_lambda': 1.1018509458263566, 'min_data_in_leaf': 53, 'feature_fraction': 0.5441699070870052, 'bagging_fraction': 0.8426799091838986, 'bagging_freq': 5, 'min_child_weight': 0.00010560624429728648, 'cat_smooth': 32.52312463051321}. Best is trial 0 with value: 72907.33248012773.\n"
     ]
    },
    {
     "name": "stdout",
     "output_type": "stream",
     "text": [
      "Early stopping, best iteration is:\n",
      "[10]\tvalid_0's l2: 5.28352e+09\n",
      "Training until validation scores don't improve for 50 rounds\n",
      "Early stopping, best iteration is:\n",
      "[300]\tvalid_0's l2: 5.32217e+09\n",
      "Training until validation scores don't improve for 50 rounds\n",
      "Early stopping, best iteration is:\n",
      "[412]\tvalid_0's l2: 5.25817e+09\n",
      "Training until validation scores don't improve for 50 rounds\n",
      "Early stopping, best iteration is:\n",
      "[354]\tvalid_0's l2: 5.25888e+09\n",
      "Training until validation scores don't improve for 50 rounds\n",
      "Early stopping, best iteration is:\n",
      "[371]\tvalid_0's l2: 5.2641e+09\n",
      "Training until validation scores don't improve for 50 rounds\n",
      "Early stopping, best iteration is:\n",
      "[333]\tvalid_0's l2: 5.23117e+09\n"
     ]
    },
    {
     "name": "stderr",
     "output_type": "stream",
     "text": [
      "[I 2024-09-22 23:03:36,724] Trial 1 finished with value: 72573.41192672154 and parameters: {'n_estimators': 1069, 'num_leaves': 545, 'max_depth': 46, 'learning_rate': 0.007509797119626296, 'subsample': 0.9588870612564717, 'colsample_bytree': 0.8572878916988453, 'reg_alpha': 0.0001799973901160094, 'reg_lambda': 0.0037040785712895334, 'min_data_in_leaf': 70, 'feature_fraction': 0.8370668075331726, 'bagging_fraction': 0.720916587211498, 'bagging_freq': 3, 'min_child_weight': 0.5088641679920515, 'cat_smooth': 32.59404363006922}. Best is trial 1 with value: 72573.41192672154.\n"
     ]
    },
    {
     "name": "stdout",
     "output_type": "stream",
     "text": [
      "Training until validation scores don't improve for 50 rounds\n",
      "Early stopping, best iteration is:\n",
      "[57]\tvalid_0's l2: 5.34583e+09\n",
      "Training until validation scores don't improve for 50 rounds\n",
      "Early stopping, best iteration is:\n",
      "[70]\tvalid_0's l2: 5.26131e+09\n",
      "Training until validation scores don't improve for 50 rounds\n",
      "Early stopping, best iteration is:\n",
      "[60]\tvalid_0's l2: 5.26462e+09\n",
      "Training until validation scores don't improve for 50 rounds\n",
      "Early stopping, best iteration is:\n",
      "[59]\tvalid_0's l2: 5.29076e+09\n",
      "Training until validation scores don't improve for 50 rounds\n",
      "Early stopping, best iteration is:\n",
      "[84]\tvalid_0's l2: 5.26094e+09\n"
     ]
    },
    {
     "name": "stderr",
     "output_type": "stream",
     "text": [
      "[I 2024-09-22 23:05:04,305] Trial 2 finished with value: 72695.89230152132 and parameters: {'n_estimators': 955, 'num_leaves': 541, 'max_depth': 51, 'learning_rate': 0.036723279424594156, 'subsample': 0.9543244404043341, 'colsample_bytree': 0.6596180444942726, 'reg_alpha': 3.4894428963481334e-07, 'reg_lambda': 0.015951452190168802, 'min_data_in_leaf': 49, 'feature_fraction': 0.9143406631538383, 'bagging_fraction': 0.5234481596946249, 'bagging_freq': 4, 'min_child_weight': 0.1929820588974466, 'cat_smooth': 65.96096423779524}. Best is trial 1 with value: 72573.41192672154.\n"
     ]
    },
    {
     "name": "stdout",
     "output_type": "stream",
     "text": [
      "Training until validation scores don't improve for 50 rounds\n",
      "Early stopping, best iteration is:\n",
      "[12]\tvalid_0's l2: 5.37304e+09\n",
      "Training until validation scores don't improve for 50 rounds\n",
      "Early stopping, best iteration is:\n",
      "[13]\tvalid_0's l2: 5.30741e+09\n",
      "Training until validation scores don't improve for 50 rounds\n",
      "Early stopping, best iteration is:\n",
      "[11]\tvalid_0's l2: 5.30837e+09\n",
      "Training until validation scores don't improve for 50 rounds\n",
      "Early stopping, best iteration is:\n",
      "[12]\tvalid_0's l2: 5.3143e+09\n",
      "Training until validation scores don't improve for 50 rounds\n"
     ]
    },
    {
     "name": "stderr",
     "output_type": "stream",
     "text": [
      "[I 2024-09-22 23:05:45,147] Trial 3 finished with value: 72899.96732071055 and parameters: {'n_estimators': 639, 'num_leaves': 643, 'max_depth': 27, 'learning_rate': 0.18362976337563003, 'subsample': 0.6479808534398394, 'colsample_bytree': 0.9419682397805931, 'reg_alpha': 8.97573097030888e-06, 'reg_lambda': 0.004571551229239351, 'min_data_in_leaf': 71, 'feature_fraction': 0.5467301872793251, 'bagging_fraction': 0.9105528289184642, 'bagging_freq': 1, 'min_child_weight': 0.020169108029984395, 'cat_smooth': 87.9550363117174}. Best is trial 1 with value: 72573.41192672154.\n"
     ]
    },
    {
     "name": "stdout",
     "output_type": "stream",
     "text": [
      "Early stopping, best iteration is:\n",
      "[12]\tvalid_0's l2: 5.2689e+09\n",
      "Training until validation scores don't improve for 50 rounds\n",
      "Early stopping, best iteration is:\n",
      "[458]\tvalid_0's l2: 5.31839e+09\n",
      "Training until validation scores don't improve for 50 rounds\n",
      "Early stopping, best iteration is:\n",
      "[544]\tvalid_0's l2: 5.24957e+09\n",
      "Training until validation scores don't improve for 50 rounds\n",
      "Early stopping, best iteration is:\n",
      "[517]\tvalid_0's l2: 5.25057e+09\n",
      "Training until validation scores don't improve for 50 rounds\n",
      "Early stopping, best iteration is:\n",
      "[450]\tvalid_0's l2: 5.26778e+09\n",
      "Training until validation scores don't improve for 50 rounds\n",
      "Early stopping, best iteration is:\n",
      "[448]\tvalid_0's l2: 5.23965e+09\n"
     ]
    },
    {
     "name": "stderr",
     "output_type": "stream",
     "text": [
      "[I 2024-09-22 23:11:46,534] Trial 4 finished with value: 72561.63811903042 and parameters: {'n_estimators': 1192, 'num_leaves': 482, 'max_depth': 52, 'learning_rate': 0.005677045861147304, 'subsample': 0.7986858241154422, 'colsample_bytree': 0.9514158801658137, 'reg_alpha': 0.00016119356219527467, 'reg_lambda': 0.2295120287772858, 'min_data_in_leaf': 43, 'feature_fraction': 0.6785908793172681, 'bagging_fraction': 0.5398065450779821, 'bagging_freq': 2, 'min_child_weight': 0.009645302925851532, 'cat_smooth': 59.405997991322664}. Best is trial 4 with value: 72561.63811903042.\n"
     ]
    },
    {
     "name": "stdout",
     "output_type": "stream",
     "text": [
      "Training until validation scores don't improve for 50 rounds\n",
      "Early stopping, best iteration is:\n",
      "[30]\tvalid_0's l2: 5.32975e+09\n",
      "Training until validation scores don't improve for 50 rounds\n",
      "Early stopping, best iteration is:\n",
      "[43]\tvalid_0's l2: 5.26799e+09\n",
      "Training until validation scores don't improve for 50 rounds\n",
      "Early stopping, best iteration is:\n",
      "[36]\tvalid_0's l2: 5.26502e+09\n",
      "Training until validation scores don't improve for 50 rounds\n",
      "Early stopping, best iteration is:\n",
      "[32]\tvalid_0's l2: 5.25312e+09\n",
      "Training until validation scores don't improve for 50 rounds\n"
     ]
    },
    {
     "name": "stderr",
     "output_type": "stream",
     "text": [
      "[I 2024-09-22 23:12:33,046] Trial 5 finished with value: 72600.30234463752 and parameters: {'n_estimators': 528, 'num_leaves': 472, 'max_depth': 26, 'learning_rate': 0.08118455774682055, 'subsample': 0.6731735750400165, 'colsample_bytree': 0.5215486781024972, 'reg_alpha': 0.01903229002492754, 'reg_lambda': 1.1296979705718802, 'min_data_in_leaf': 111, 'feature_fraction': 0.7087545719196335, 'bagging_fraction': 0.8027887821968784, 'bagging_freq': 3, 'min_child_weight': 0.38638467047838265, 'cat_smooth': 18.290082361212804}. Best is trial 4 with value: 72561.63811903042.\n"
     ]
    },
    {
     "name": "stdout",
     "output_type": "stream",
     "text": [
      "Early stopping, best iteration is:\n",
      "[31]\tvalid_0's l2: 5.23814e+09\n",
      "Training until validation scores don't improve for 50 rounds\n",
      "Early stopping, best iteration is:\n",
      "[482]\tvalid_0's l2: 5.32502e+09\n",
      "Training until validation scores don't improve for 50 rounds\n",
      "Early stopping, best iteration is:\n",
      "[605]\tvalid_0's l2: 5.256e+09\n",
      "Training until validation scores don't improve for 50 rounds\n",
      "Early stopping, best iteration is:\n",
      "[486]\tvalid_0's l2: 5.25955e+09\n",
      "Training until validation scores don't improve for 50 rounds\n",
      "Early stopping, best iteration is:\n",
      "[486]\tvalid_0's l2: 5.26821e+09\n",
      "Training until validation scores don't improve for 50 rounds\n",
      "Early stopping, best iteration is:\n",
      "[555]\tvalid_0's l2: 5.22676e+09\n"
     ]
    },
    {
     "name": "stderr",
     "output_type": "stream",
     "text": [
      "[I 2024-09-22 23:17:15,222] Trial 6 finished with value: 72574.84653855201 and parameters: {'n_estimators': 710, 'num_leaves': 310, 'max_depth': 25, 'learning_rate': 0.005323872255879759, 'subsample': 0.778789094331322, 'colsample_bytree': 0.7827535099440838, 'reg_alpha': 7.092404300854912e-05, 'reg_lambda': 0.01483173321964085, 'min_data_in_leaf': 45, 'feature_fraction': 0.9894095728788213, 'bagging_fraction': 0.6698539218189319, 'bagging_freq': 3, 'min_child_weight': 72.85919281852098, 'cat_smooth': 27.591405563189507}. Best is trial 4 with value: 72561.63811903042.\n"
     ]
    },
    {
     "name": "stdout",
     "output_type": "stream",
     "text": [
      "Training until validation scores don't improve for 50 rounds\n",
      "Early stopping, best iteration is:\n",
      "[5]\tvalid_0's l2: 5.3828e+09\n",
      "Training until validation scores don't improve for 50 rounds\n",
      "Early stopping, best iteration is:\n",
      "[5]\tvalid_0's l2: 5.34997e+09\n",
      "Training until validation scores don't improve for 50 rounds\n",
      "Early stopping, best iteration is:\n",
      "[6]\tvalid_0's l2: 5.32865e+09\n",
      "Training until validation scores don't improve for 50 rounds\n",
      "Early stopping, best iteration is:\n",
      "[5]\tvalid_0's l2: 5.35139e+09\n",
      "Training until validation scores don't improve for 50 rounds\n"
     ]
    },
    {
     "name": "stderr",
     "output_type": "stream",
     "text": [
      "[I 2024-09-22 23:17:54,595] Trial 7 finished with value: 73139.70078703124 and parameters: {'n_estimators': 723, 'num_leaves': 508, 'max_depth': 39, 'learning_rate': 0.3645870608221405, 'subsample': 0.534048636768975, 'colsample_bytree': 0.7322654038896663, 'reg_alpha': 0.004916937769207978, 'reg_lambda': 0.7488782916686476, 'min_data_in_leaf': 87, 'feature_fraction': 0.5185472066172039, 'bagging_fraction': 0.6753281956415664, 'bagging_freq': 3, 'min_child_weight': 0.006286070313385454, 'cat_smooth': 32.53375211168362}. Best is trial 4 with value: 72561.63811903042.\n"
     ]
    },
    {
     "name": "stdout",
     "output_type": "stream",
     "text": [
      "Early stopping, best iteration is:\n",
      "[5]\tvalid_0's l2: 5.33427e+09\n",
      "Training until validation scores don't improve for 50 rounds\n",
      "Early stopping, best iteration is:\n",
      "[269]\tvalid_0's l2: 5.31206e+09\n",
      "Training until validation scores don't improve for 50 rounds\n",
      "Early stopping, best iteration is:\n",
      "[336]\tvalid_0's l2: 5.24883e+09\n",
      "Training until validation scores don't improve for 50 rounds\n",
      "Early stopping, best iteration is:\n",
      "[284]\tvalid_0's l2: 5.2461e+09\n",
      "Training until validation scores don't improve for 50 rounds\n",
      "Early stopping, best iteration is:\n",
      "[294]\tvalid_0's l2: 5.25949e+09\n",
      "Training until validation scores don't improve for 50 rounds\n",
      "Early stopping, best iteration is:\n",
      "[277]\tvalid_0's l2: 5.22804e+09\n"
     ]
    },
    {
     "name": "stderr",
     "output_type": "stream",
     "text": [
      "[I 2024-09-22 23:19:57,751] Trial 8 finished with value: 72518.31147235438 and parameters: {'n_estimators': 972, 'num_leaves': 363, 'max_depth': 12, 'learning_rate': 0.010314487673603769, 'subsample': 0.5540318863897262, 'colsample_bytree': 0.5894514042855452, 'reg_alpha': 0.02065202190439409, 'reg_lambda': 0.02893742513973448, 'min_data_in_leaf': 57, 'feature_fraction': 0.8762480851093014, 'bagging_fraction': 0.5534397921967846, 'bagging_freq': 4, 'min_child_weight': 0.06587365495478886, 'cat_smooth': 39.651139374964735}. Best is trial 8 with value: 72518.31147235438.\n"
     ]
    },
    {
     "name": "stdout",
     "output_type": "stream",
     "text": [
      "Training until validation scores don't improve for 50 rounds\n",
      "Did not meet early stopping. Best iteration is:\n",
      "[603]\tvalid_0's l2: 5.47364e+09\n",
      "Training until validation scores don't improve for 50 rounds\n",
      "Did not meet early stopping. Best iteration is:\n",
      "[603]\tvalid_0's l2: 5.446e+09\n",
      "Training until validation scores don't improve for 50 rounds\n",
      "Did not meet early stopping. Best iteration is:\n",
      "[603]\tvalid_0's l2: 5.41504e+09\n",
      "Training until validation scores don't improve for 50 rounds\n",
      "Did not meet early stopping. Best iteration is:\n",
      "[603]\tvalid_0's l2: 5.44886e+09\n",
      "Training until validation scores don't improve for 50 rounds\n",
      "Did not meet early stopping. Best iteration is:\n",
      "[603]\tvalid_0's l2: 5.40223e+09\n"
     ]
    },
    {
     "name": "stderr",
     "output_type": "stream",
     "text": [
      "[I 2024-09-22 23:25:31,379] Trial 9 finished with value: 73737.06308504875 and parameters: {'n_estimators': 603, 'num_leaves': 373, 'max_depth': 42, 'learning_rate': 0.0013992136034385533, 'subsample': 0.6243062539013847, 'colsample_bytree': 0.7712042581140022, 'reg_alpha': 2.294246403767406e-06, 'reg_lambda': 0.03354641687863073, 'min_data_in_leaf': 114, 'feature_fraction': 0.9626784364338884, 'bagging_fraction': 0.7833749622874999, 'bagging_freq': 3, 'min_child_weight': 0.00012278919376690123, 'cat_smooth': 95.03843220828843}. Best is trial 8 with value: 72518.31147235438.\n",
      "c:\\Users\\lerch\\miniconda3\\envs\\cars\\Lib\\site-packages\\lightgbm\\engine.py:204: UserWarning: Found `n_estimators` in params. Will use it instead of argument\n",
      "  _log_warning(f\"Found `{alias}` in params. Will use it instead of argument\")\n"
     ]
    },
    {
     "name": "stdout",
     "output_type": "stream",
     "text": [
      "Training until validation scores don't improve for 50 rounds\n",
      "Early stopping, best iteration is:\n",
      "[228]\tvalid_0's l2: 5.3204e+09\n"
     ]
    },
    {
     "name": "stderr",
     "output_type": "stream",
     "text": [
      "c:\\Users\\lerch\\miniconda3\\envs\\cars\\Lib\\site-packages\\lightgbm\\engine.py:204: UserWarning: Found `n_estimators` in params. Will use it instead of argument\n",
      "  _log_warning(f\"Found `{alias}` in params. Will use it instead of argument\")\n"
     ]
    },
    {
     "name": "stdout",
     "output_type": "stream",
     "text": [
      "Training until validation scores don't improve for 50 rounds\n",
      "Early stopping, best iteration is:\n",
      "[379]\tvalid_0's l2: 5.24536e+09\n"
     ]
    },
    {
     "name": "stderr",
     "output_type": "stream",
     "text": [
      "c:\\Users\\lerch\\miniconda3\\envs\\cars\\Lib\\site-packages\\lightgbm\\engine.py:204: UserWarning: Found `n_estimators` in params. Will use it instead of argument\n",
      "  _log_warning(f\"Found `{alias}` in params. Will use it instead of argument\")\n"
     ]
    },
    {
     "name": "stdout",
     "output_type": "stream",
     "text": [
      "Training until validation scores don't improve for 50 rounds\n",
      "Early stopping, best iteration is:\n",
      "[341]\tvalid_0's l2: 5.25396e+09\n"
     ]
    },
    {
     "name": "stderr",
     "output_type": "stream",
     "text": [
      "c:\\Users\\lerch\\miniconda3\\envs\\cars\\Lib\\site-packages\\lightgbm\\engine.py:204: UserWarning: Found `n_estimators` in params. Will use it instead of argument\n",
      "  _log_warning(f\"Found `{alias}` in params. Will use it instead of argument\")\n"
     ]
    },
    {
     "name": "stdout",
     "output_type": "stream",
     "text": [
      "Training until validation scores don't improve for 50 rounds\n",
      "Early stopping, best iteration is:\n",
      "[304]\tvalid_0's l2: 5.26488e+09\n"
     ]
    },
    {
     "name": "stderr",
     "output_type": "stream",
     "text": [
      "c:\\Users\\lerch\\miniconda3\\envs\\cars\\Lib\\site-packages\\lightgbm\\engine.py:204: UserWarning: Found `n_estimators` in params. Will use it instead of argument\n",
      "  _log_warning(f\"Found `{alias}` in params. Will use it instead of argument\")\n"
     ]
    },
    {
     "name": "stdout",
     "output_type": "stream",
     "text": [
      "Training until validation scores don't improve for 50 rounds\n",
      "Early stopping, best iteration is:\n",
      "[298]\tvalid_0's l2: 5.22551e+09\n"
     ]
    },
    {
     "name": "stderr",
     "output_type": "stream",
     "text": [
      "[I 2024-09-22 23:27:49,024] A new study created in memory with name: no-name-78a7c878-b5d6-44d9-b845-827a49c878e0\n"
     ]
    },
    {
     "name": "stdout",
     "output_type": "stream",
     "text": [
      "Training until validation scores don't improve for 50 rounds\n",
      "Early stopping, best iteration is:\n",
      "[12]\tvalid_0's l2: 5.3733e+09\n",
      "Training until validation scores don't improve for 50 rounds\n",
      "Early stopping, best iteration is:\n",
      "[12]\tvalid_0's l2: 5.34705e+09\n",
      "Training until validation scores don't improve for 50 rounds\n",
      "Early stopping, best iteration is:\n",
      "[12]\tvalid_0's l2: 5.31012e+09\n",
      "Training until validation scores don't improve for 50 rounds\n",
      "Early stopping, best iteration is:\n",
      "[19]\tvalid_0's l2: 5.33011e+09\n",
      "Training until validation scores don't improve for 50 rounds\n"
     ]
    },
    {
     "name": "stderr",
     "output_type": "stream",
     "text": [
      "[I 2024-09-22 23:28:19,055] Trial 0 finished with value: 73012.28975929723 and parameters: {'n_estimators': 1040, 'num_leaves': 308, 'max_depth': 42, 'learning_rate': 0.17636469336159113, 'subsample': 0.7492535061512953, 'colsample_bytree': 0.6123983227654238, 'reg_alpha': 1.54304001490974e-06, 'reg_lambda': 1.1018509458263566, 'min_data_in_leaf': 53, 'feature_fraction': 0.5441699070870052, 'bagging_fraction': 0.8426799091838986, 'bagging_freq': 5, 'min_child_weight': 0.00010560624429728648, 'cat_smooth': 32.52312463051321}. Best is trial 0 with value: 73012.28975929723.\n"
     ]
    },
    {
     "name": "stdout",
     "output_type": "stream",
     "text": [
      "Early stopping, best iteration is:\n",
      "[10]\tvalid_0's l2: 5.29339e+09\n",
      "Training until validation scores don't improve for 50 rounds\n",
      "Early stopping, best iteration is:\n",
      "[313]\tvalid_0's l2: 5.29935e+09\n",
      "Training until validation scores don't improve for 50 rounds\n",
      "Early stopping, best iteration is:\n",
      "[440]\tvalid_0's l2: 5.26416e+09\n",
      "Training until validation scores don't improve for 50 rounds\n",
      "Early stopping, best iteration is:\n",
      "[369]\tvalid_0's l2: 5.24705e+09\n",
      "Training until validation scores don't improve for 50 rounds\n",
      "Early stopping, best iteration is:\n",
      "[366]\tvalid_0's l2: 5.2754e+09\n",
      "Training until validation scores don't improve for 50 rounds\n",
      "Early stopping, best iteration is:\n",
      "[313]\tvalid_0's l2: 5.25805e+09\n"
     ]
    },
    {
     "name": "stderr",
     "output_type": "stream",
     "text": [
      "[I 2024-09-22 23:33:01,126] Trial 1 finished with value: 72586.52540754102 and parameters: {'n_estimators': 1069, 'num_leaves': 545, 'max_depth': 46, 'learning_rate': 0.007509797119626296, 'subsample': 0.9588870612564717, 'colsample_bytree': 0.8572878916988453, 'reg_alpha': 0.0001799973901160094, 'reg_lambda': 0.0037040785712895334, 'min_data_in_leaf': 70, 'feature_fraction': 0.8370668075331726, 'bagging_fraction': 0.720916587211498, 'bagging_freq': 3, 'min_child_weight': 0.5088641679920515, 'cat_smooth': 32.59404363006922}. Best is trial 1 with value: 72586.52540754102.\n"
     ]
    },
    {
     "name": "stdout",
     "output_type": "stream",
     "text": [
      "Training until validation scores don't improve for 50 rounds\n",
      "Early stopping, best iteration is:\n",
      "[58]\tvalid_0's l2: 5.31325e+09\n",
      "Training until validation scores don't improve for 50 rounds\n",
      "Early stopping, best iteration is:\n",
      "[69]\tvalid_0's l2: 5.26624e+09\n",
      "Training until validation scores don't improve for 50 rounds\n",
      "Early stopping, best iteration is:\n",
      "[60]\tvalid_0's l2: 5.25622e+09\n",
      "Training until validation scores don't improve for 50 rounds\n",
      "Early stopping, best iteration is:\n",
      "[60]\tvalid_0's l2: 5.2928e+09\n",
      "Training until validation scores don't improve for 50 rounds\n"
     ]
    },
    {
     "name": "stderr",
     "output_type": "stream",
     "text": [
      "[I 2024-09-22 23:34:14,171] Trial 2 finished with value: 72643.91515163242 and parameters: {'n_estimators': 955, 'num_leaves': 541, 'max_depth': 51, 'learning_rate': 0.036723279424594156, 'subsample': 0.9543244404043341, 'colsample_bytree': 0.6596180444942726, 'reg_alpha': 3.4894428963481334e-07, 'reg_lambda': 0.015951452190168802, 'min_data_in_leaf': 49, 'feature_fraction': 0.9143406631538383, 'bagging_fraction': 0.5234481596946249, 'bagging_freq': 4, 'min_child_weight': 0.1929820588974466, 'cat_smooth': 65.96096423779524}. Best is trial 1 with value: 72586.52540754102.\n"
     ]
    },
    {
     "name": "stdout",
     "output_type": "stream",
     "text": [
      "Early stopping, best iteration is:\n",
      "[66]\tvalid_0's l2: 5.25719e+09\n",
      "Training until validation scores don't improve for 50 rounds\n",
      "Early stopping, best iteration is:\n",
      "[11]\tvalid_0's l2: 5.3486e+09\n",
      "Training until validation scores don't improve for 50 rounds\n",
      "Early stopping, best iteration is:\n",
      "[19]\tvalid_0's l2: 5.2865e+09\n",
      "Training until validation scores don't improve for 50 rounds\n",
      "Early stopping, best iteration is:\n",
      "[12]\tvalid_0's l2: 5.31748e+09\n",
      "Training until validation scores don't improve for 50 rounds\n",
      "Early stopping, best iteration is:\n",
      "[11]\tvalid_0's l2: 5.31186e+09\n",
      "Training until validation scores don't improve for 50 rounds\n"
     ]
    },
    {
     "name": "stderr",
     "output_type": "stream",
     "text": [
      "[I 2024-09-22 23:34:55,320] Trial 3 finished with value: 72896.3177167205 and parameters: {'n_estimators': 639, 'num_leaves': 643, 'max_depth': 27, 'learning_rate': 0.18362976337563003, 'subsample': 0.6479808534398394, 'colsample_bytree': 0.9419682397805931, 'reg_alpha': 8.97573097030888e-06, 'reg_lambda': 0.004571551229239351, 'min_data_in_leaf': 71, 'feature_fraction': 0.5467301872793251, 'bagging_fraction': 0.9105528289184642, 'bagging_freq': 1, 'min_child_weight': 0.020169108029984395, 'cat_smooth': 87.9550363117174}. Best is trial 1 with value: 72586.52540754102.\n"
     ]
    },
    {
     "name": "stdout",
     "output_type": "stream",
     "text": [
      "Early stopping, best iteration is:\n",
      "[12]\tvalid_0's l2: 5.30493e+09\n",
      "Training until validation scores don't improve for 50 rounds\n",
      "Early stopping, best iteration is:\n",
      "[471]\tvalid_0's l2: 5.29745e+09\n",
      "Training until validation scores don't improve for 50 rounds\n",
      "Early stopping, best iteration is:\n",
      "[422]\tvalid_0's l2: 5.26802e+09\n",
      "Training until validation scores don't improve for 50 rounds\n",
      "Early stopping, best iteration is:\n",
      "[477]\tvalid_0's l2: 5.24391e+09\n",
      "Training until validation scores don't improve for 50 rounds\n",
      "Early stopping, best iteration is:\n",
      "[526]\tvalid_0's l2: 5.27289e+09\n",
      "Training until validation scores don't improve for 50 rounds\n",
      "Early stopping, best iteration is:\n",
      "[444]\tvalid_0's l2: 5.24374e+09\n"
     ]
    },
    {
     "name": "stderr",
     "output_type": "stream",
     "text": [
      "[I 2024-09-22 23:39:45,170] Trial 4 finished with value: 72561.72033431543 and parameters: {'n_estimators': 1192, 'num_leaves': 482, 'max_depth': 52, 'learning_rate': 0.005677045861147304, 'subsample': 0.7986858241154422, 'colsample_bytree': 0.9514158801658137, 'reg_alpha': 0.00016119356219527467, 'reg_lambda': 0.2295120287772858, 'min_data_in_leaf': 43, 'feature_fraction': 0.6785908793172681, 'bagging_fraction': 0.5398065450779821, 'bagging_freq': 2, 'min_child_weight': 0.009645302925851532, 'cat_smooth': 59.405997991322664}. Best is trial 4 with value: 72561.72033431543.\n"
     ]
    },
    {
     "name": "stdout",
     "output_type": "stream",
     "text": [
      "Training until validation scores don't improve for 50 rounds\n",
      "Early stopping, best iteration is:\n",
      "[36]\tvalid_0's l2: 5.31086e+09\n",
      "Training until validation scores don't improve for 50 rounds\n",
      "Early stopping, best iteration is:\n",
      "[36]\tvalid_0's l2: 5.26788e+09\n",
      "Training until validation scores don't improve for 50 rounds\n",
      "Early stopping, best iteration is:\n",
      "[43]\tvalid_0's l2: 5.25809e+09\n",
      "Training until validation scores don't improve for 50 rounds\n",
      "Early stopping, best iteration is:\n",
      "[31]\tvalid_0's l2: 5.28214e+09\n",
      "Training until validation scores don't improve for 50 rounds\n"
     ]
    },
    {
     "name": "stderr",
     "output_type": "stream",
     "text": [
      "[I 2024-09-22 23:40:31,734] Trial 5 finished with value: 72626.97185953558 and parameters: {'n_estimators': 528, 'num_leaves': 472, 'max_depth': 26, 'learning_rate': 0.08118455774682055, 'subsample': 0.6731735750400165, 'colsample_bytree': 0.5215486781024972, 'reg_alpha': 0.01903229002492754, 'reg_lambda': 1.1296979705718802, 'min_data_in_leaf': 111, 'feature_fraction': 0.7087545719196335, 'bagging_fraction': 0.8027887821968784, 'bagging_freq': 3, 'min_child_weight': 0.38638467047838265, 'cat_smooth': 18.290082361212804}. Best is trial 4 with value: 72561.72033431543.\n"
     ]
    },
    {
     "name": "stdout",
     "output_type": "stream",
     "text": [
      "Early stopping, best iteration is:\n",
      "[38]\tvalid_0's l2: 5.25442e+09\n",
      "Training until validation scores don't improve for 50 rounds\n",
      "Early stopping, best iteration is:\n",
      "[522]\tvalid_0's l2: 5.2952e+09\n",
      "Training until validation scores don't improve for 50 rounds\n",
      "Early stopping, best iteration is:\n",
      "[576]\tvalid_0's l2: 5.26656e+09\n",
      "Training until validation scores don't improve for 50 rounds\n",
      "Early stopping, best iteration is:\n",
      "[552]\tvalid_0's l2: 5.25121e+09\n",
      "Training until validation scores don't improve for 50 rounds\n",
      "Early stopping, best iteration is:\n",
      "[564]\tvalid_0's l2: 5.2749e+09\n",
      "Training until validation scores don't improve for 50 rounds\n",
      "Early stopping, best iteration is:\n",
      "[507]\tvalid_0's l2: 5.24729e+09\n"
     ]
    },
    {
     "name": "stderr",
     "output_type": "stream",
     "text": [
      "[I 2024-09-22 23:44:36,107] Trial 6 finished with value: 72574.31319195933 and parameters: {'n_estimators': 710, 'num_leaves': 310, 'max_depth': 25, 'learning_rate': 0.005323872255879759, 'subsample': 0.778789094331322, 'colsample_bytree': 0.7827535099440838, 'reg_alpha': 7.092404300854912e-05, 'reg_lambda': 0.01483173321964085, 'min_data_in_leaf': 45, 'feature_fraction': 0.9894095728788213, 'bagging_fraction': 0.6698539218189319, 'bagging_freq': 3, 'min_child_weight': 72.85919281852098, 'cat_smooth': 27.591405563189507}. Best is trial 4 with value: 72561.72033431543.\n"
     ]
    },
    {
     "name": "stdout",
     "output_type": "stream",
     "text": [
      "Training until validation scores don't improve for 50 rounds\n",
      "Early stopping, best iteration is:\n",
      "[5]\tvalid_0's l2: 5.36769e+09\n",
      "Training until validation scores don't improve for 50 rounds\n",
      "Early stopping, best iteration is:\n",
      "[6]\tvalid_0's l2: 5.37297e+09\n",
      "Training until validation scores don't improve for 50 rounds\n",
      "Early stopping, best iteration is:\n",
      "[5]\tvalid_0's l2: 5.34275e+09\n",
      "Training until validation scores don't improve for 50 rounds\n",
      "Early stopping, best iteration is:\n",
      "[5]\tvalid_0's l2: 5.35229e+09\n",
      "Training until validation scores don't improve for 50 rounds\n"
     ]
    },
    {
     "name": "stderr",
     "output_type": "stream",
     "text": [
      "[I 2024-09-22 23:45:04,042] Trial 7 finished with value: 73160.24732759695 and parameters: {'n_estimators': 723, 'num_leaves': 508, 'max_depth': 39, 'learning_rate': 0.3645870608221405, 'subsample': 0.534048636768975, 'colsample_bytree': 0.7322654038896663, 'reg_alpha': 0.004916937769207978, 'reg_lambda': 0.7488782916686476, 'min_data_in_leaf': 87, 'feature_fraction': 0.5185472066172039, 'bagging_fraction': 0.6753281956415664, 'bagging_freq': 3, 'min_child_weight': 0.006286070313385454, 'cat_smooth': 32.53375211168362}. Best is trial 4 with value: 72561.72033431543.\n"
     ]
    },
    {
     "name": "stdout",
     "output_type": "stream",
     "text": [
      "Early stopping, best iteration is:\n",
      "[5]\tvalid_0's l2: 5.32641e+09\n",
      "Training until validation scores don't improve for 50 rounds\n",
      "Early stopping, best iteration is:\n",
      "[292]\tvalid_0's l2: 5.28764e+09\n",
      "Training until validation scores don't improve for 50 rounds\n",
      "Early stopping, best iteration is:\n",
      "[340]\tvalid_0's l2: 5.25873e+09\n",
      "Training until validation scores don't improve for 50 rounds\n",
      "Early stopping, best iteration is:\n",
      "[321]\tvalid_0's l2: 5.24248e+09\n",
      "Training until validation scores don't improve for 50 rounds\n",
      "Early stopping, best iteration is:\n",
      "[292]\tvalid_0's l2: 5.27334e+09\n",
      "Training until validation scores don't improve for 50 rounds\n",
      "Early stopping, best iteration is:\n",
      "[248]\tvalid_0's l2: 5.25744e+09\n"
     ]
    },
    {
     "name": "stderr",
     "output_type": "stream",
     "text": [
      "[I 2024-09-22 23:46:18,503] Trial 8 finished with value: 72552.90060419712 and parameters: {'n_estimators': 972, 'num_leaves': 363, 'max_depth': 12, 'learning_rate': 0.010314487673603769, 'subsample': 0.5540318863897262, 'colsample_bytree': 0.5894514042855452, 'reg_alpha': 0.02065202190439409, 'reg_lambda': 0.02893742513973448, 'min_data_in_leaf': 57, 'feature_fraction': 0.8762480851093014, 'bagging_fraction': 0.5534397921967846, 'bagging_freq': 4, 'min_child_weight': 0.06587365495478886, 'cat_smooth': 39.651139374964735}. Best is trial 8 with value: 72552.90060419712.\n"
     ]
    },
    {
     "name": "stdout",
     "output_type": "stream",
     "text": [
      "Training until validation scores don't improve for 50 rounds\n",
      "Did not meet early stopping. Best iteration is:\n",
      "[603]\tvalid_0's l2: 5.4732e+09\n",
      "Training until validation scores don't improve for 50 rounds\n",
      "Did not meet early stopping. Best iteration is:\n",
      "[603]\tvalid_0's l2: 5.4582e+09\n",
      "Training until validation scores don't improve for 50 rounds\n",
      "Did not meet early stopping. Best iteration is:\n",
      "[603]\tvalid_0's l2: 5.42438e+09\n",
      "Training until validation scores don't improve for 50 rounds\n",
      "Did not meet early stopping. Best iteration is:\n",
      "[603]\tvalid_0's l2: 5.4539e+09\n",
      "Training until validation scores don't improve for 50 rounds\n",
      "Did not meet early stopping. Best iteration is:\n",
      "[603]\tvalid_0's l2: 5.41609e+09\n"
     ]
    },
    {
     "name": "stderr",
     "output_type": "stream",
     "text": [
      "[I 2024-09-22 23:50:02,160] Trial 9 finished with value: 73791.28767511155 and parameters: {'n_estimators': 603, 'num_leaves': 373, 'max_depth': 42, 'learning_rate': 0.0013992136034385533, 'subsample': 0.6243062539013847, 'colsample_bytree': 0.7712042581140022, 'reg_alpha': 2.294246403767406e-06, 'reg_lambda': 0.03354641687863073, 'min_data_in_leaf': 114, 'feature_fraction': 0.9626784364338884, 'bagging_fraction': 0.7833749622874999, 'bagging_freq': 3, 'min_child_weight': 0.00012278919376690123, 'cat_smooth': 95.03843220828843}. Best is trial 8 with value: 72552.90060419712.\n",
      "c:\\Users\\lerch\\miniconda3\\envs\\cars\\Lib\\site-packages\\lightgbm\\engine.py:204: UserWarning: Found `n_estimators` in params. Will use it instead of argument\n",
      "  _log_warning(f\"Found `{alias}` in params. Will use it instead of argument\")\n"
     ]
    },
    {
     "name": "stdout",
     "output_type": "stream",
     "text": [
      "Training until validation scores don't improve for 50 rounds\n",
      "Early stopping, best iteration is:\n",
      "[244]\tvalid_0's l2: 5.30122e+09\n"
     ]
    },
    {
     "name": "stderr",
     "output_type": "stream",
     "text": [
      "c:\\Users\\lerch\\miniconda3\\envs\\cars\\Lib\\site-packages\\lightgbm\\engine.py:204: UserWarning: Found `n_estimators` in params. Will use it instead of argument\n",
      "  _log_warning(f\"Found `{alias}` in params. Will use it instead of argument\")\n"
     ]
    },
    {
     "name": "stdout",
     "output_type": "stream",
     "text": [
      "Training until validation scores don't improve for 50 rounds\n",
      "Early stopping, best iteration is:\n",
      "[357]\tvalid_0's l2: 5.25196e+09\n"
     ]
    },
    {
     "name": "stderr",
     "output_type": "stream",
     "text": [
      "c:\\Users\\lerch\\miniconda3\\envs\\cars\\Lib\\site-packages\\lightgbm\\engine.py:204: UserWarning: Found `n_estimators` in params. Will use it instead of argument\n",
      "  _log_warning(f\"Found `{alias}` in params. Will use it instead of argument\")\n"
     ]
    },
    {
     "name": "stdout",
     "output_type": "stream",
     "text": [
      "Training until validation scores don't improve for 50 rounds\n",
      "Early stopping, best iteration is:\n",
      "[274]\tvalid_0's l2: 5.25139e+09\n"
     ]
    },
    {
     "name": "stderr",
     "output_type": "stream",
     "text": [
      "c:\\Users\\lerch\\miniconda3\\envs\\cars\\Lib\\site-packages\\lightgbm\\engine.py:204: UserWarning: Found `n_estimators` in params. Will use it instead of argument\n",
      "  _log_warning(f\"Found `{alias}` in params. Will use it instead of argument\")\n"
     ]
    },
    {
     "name": "stdout",
     "output_type": "stream",
     "text": [
      "Training until validation scores don't improve for 50 rounds\n",
      "Early stopping, best iteration is:\n",
      "[247]\tvalid_0's l2: 5.26495e+09\n"
     ]
    },
    {
     "name": "stderr",
     "output_type": "stream",
     "text": [
      "c:\\Users\\lerch\\miniconda3\\envs\\cars\\Lib\\site-packages\\lightgbm\\engine.py:204: UserWarning: Found `n_estimators` in params. Will use it instead of argument\n",
      "  _log_warning(f\"Found `{alias}` in params. Will use it instead of argument\")\n"
     ]
    },
    {
     "name": "stdout",
     "output_type": "stream",
     "text": [
      "Training until validation scores don't improve for 50 rounds\n",
      "Early stopping, best iteration is:\n",
      "[307]\tvalid_0's l2: 5.23094e+09\n"
     ]
    },
    {
     "name": "stderr",
     "output_type": "stream",
     "text": [
      "[I 2024-09-22 23:51:19,608] A new study created in memory with name: no-name-8627b348-e062-4c9e-8b07-11435167376d\n"
     ]
    },
    {
     "name": "stdout",
     "output_type": "stream",
     "text": [
      "Training until validation scores don't improve for 50 rounds\n",
      "Early stopping, best iteration is:\n",
      "[13]\tvalid_0's l2: 5.36059e+09\n",
      "Training until validation scores don't improve for 50 rounds\n",
      "Early stopping, best iteration is:\n",
      "[14]\tvalid_0's l2: 5.31886e+09\n",
      "Training until validation scores don't improve for 50 rounds\n",
      "Early stopping, best iteration is:\n",
      "[11]\tvalid_0's l2: 5.28699e+09\n",
      "Training until validation scores don't improve for 50 rounds\n",
      "Early stopping, best iteration is:\n",
      "[13]\tvalid_0's l2: 5.29685e+09\n",
      "Training until validation scores don't improve for 50 rounds\n"
     ]
    },
    {
     "name": "stderr",
     "output_type": "stream",
     "text": [
      "[I 2024-09-22 23:51:37,761] Trial 0 finished with value: 72864.544608248 and parameters: {'n_estimators': 1040, 'num_leaves': 308, 'max_depth': 42, 'learning_rate': 0.17636469336159113, 'subsample': 0.7492535061512953, 'colsample_bytree': 0.6123983227654238, 'reg_alpha': 1.54304001490974e-06, 'reg_lambda': 1.1018509458263566, 'min_data_in_leaf': 53, 'feature_fraction': 0.5441699070870052, 'bagging_fraction': 0.8426799091838986, 'bagging_freq': 5, 'min_child_weight': 0.00010560624429728648, 'cat_smooth': 32.52312463051321}. Best is trial 0 with value: 72864.544608248.\n"
     ]
    },
    {
     "name": "stdout",
     "output_type": "stream",
     "text": [
      "Early stopping, best iteration is:\n",
      "[13]\tvalid_0's l2: 5.28292e+09\n",
      "Training until validation scores don't improve for 50 rounds\n",
      "Early stopping, best iteration is:\n",
      "[304]\tvalid_0's l2: 5.30567e+09\n",
      "Training until validation scores don't improve for 50 rounds\n",
      "Early stopping, best iteration is:\n",
      "[345]\tvalid_0's l2: 5.28783e+09\n",
      "Training until validation scores don't improve for 50 rounds\n",
      "Early stopping, best iteration is:\n",
      "[438]\tvalid_0's l2: 5.23126e+09\n",
      "Training until validation scores don't improve for 50 rounds\n",
      "Early stopping, best iteration is:\n",
      "[368]\tvalid_0's l2: 5.2618e+09\n",
      "Training until validation scores don't improve for 50 rounds\n",
      "Early stopping, best iteration is:\n",
      "[314]\tvalid_0's l2: 5.25774e+09\n"
     ]
    },
    {
     "name": "stderr",
     "output_type": "stream",
     "text": [
      "[I 2024-09-22 23:54:39,937] Trial 1 finished with value: 72586.91172457745 and parameters: {'n_estimators': 1069, 'num_leaves': 545, 'max_depth': 46, 'learning_rate': 0.007509797119626296, 'subsample': 0.9588870612564717, 'colsample_bytree': 0.8572878916988453, 'reg_alpha': 0.0001799973901160094, 'reg_lambda': 0.0037040785712895334, 'min_data_in_leaf': 70, 'feature_fraction': 0.8370668075331726, 'bagging_fraction': 0.720916587211498, 'bagging_freq': 3, 'min_child_weight': 0.5088641679920515, 'cat_smooth': 32.59404363006922}. Best is trial 1 with value: 72586.91172457745.\n"
     ]
    },
    {
     "name": "stdout",
     "output_type": "stream",
     "text": [
      "Training until validation scores don't improve for 50 rounds\n",
      "Early stopping, best iteration is:\n",
      "[58]\tvalid_0's l2: 5.32317e+09\n",
      "Training until validation scores don't improve for 50 rounds\n",
      "Early stopping, best iteration is:\n",
      "[65]\tvalid_0's l2: 5.30079e+09\n",
      "Training until validation scores don't improve for 50 rounds\n",
      "Early stopping, best iteration is:\n",
      "[65]\tvalid_0's l2: 5.25033e+09\n",
      "Training until validation scores don't improve for 50 rounds\n",
      "Early stopping, best iteration is:\n",
      "[70]\tvalid_0's l2: 5.27841e+09\n",
      "Training until validation scores don't improve for 50 rounds\n"
     ]
    },
    {
     "name": "stderr",
     "output_type": "stream",
     "text": [
      "[I 2024-09-22 23:55:32,559] Trial 2 finished with value: 72696.73884278019 and parameters: {'n_estimators': 955, 'num_leaves': 541, 'max_depth': 51, 'learning_rate': 0.036723279424594156, 'subsample': 0.9543244404043341, 'colsample_bytree': 0.6596180444942726, 'reg_alpha': 3.4894428963481334e-07, 'reg_lambda': 0.015951452190168802, 'min_data_in_leaf': 49, 'feature_fraction': 0.9143406631538383, 'bagging_fraction': 0.5234481596946249, 'bagging_freq': 4, 'min_child_weight': 0.1929820588974466, 'cat_smooth': 65.96096423779524}. Best is trial 1 with value: 72586.91172457745.\n"
     ]
    },
    {
     "name": "stdout",
     "output_type": "stream",
     "text": [
      "Early stopping, best iteration is:\n",
      "[64]\tvalid_0's l2: 5.27139e+09\n",
      "Training until validation scores don't improve for 50 rounds\n",
      "Early stopping, best iteration is:\n",
      "[13]\tvalid_0's l2: 5.32596e+09\n",
      "Training until validation scores don't improve for 50 rounds\n",
      "Early stopping, best iteration is:\n",
      "[18]\tvalid_0's l2: 5.31659e+09\n",
      "Training until validation scores don't improve for 50 rounds\n",
      "Early stopping, best iteration is:\n",
      "[12]\tvalid_0's l2: 5.2751e+09\n",
      "Training until validation scores don't improve for 50 rounds\n",
      "Early stopping, best iteration is:\n",
      "[12]\tvalid_0's l2: 5.28911e+09\n",
      "Training until validation scores don't improve for 50 rounds\n"
     ]
    },
    {
     "name": "stderr",
     "output_type": "stream",
     "text": [
      "[I 2024-09-22 23:56:01,777] Trial 3 finished with value: 72753.96617895334 and parameters: {'n_estimators': 639, 'num_leaves': 643, 'max_depth': 27, 'learning_rate': 0.18362976337563003, 'subsample': 0.6479808534398394, 'colsample_bytree': 0.9419682397805931, 'reg_alpha': 8.97573097030888e-06, 'reg_lambda': 0.004571551229239351, 'min_data_in_leaf': 71, 'feature_fraction': 0.5467301872793251, 'bagging_fraction': 0.9105528289184642, 'bagging_freq': 1, 'min_child_weight': 0.020169108029984395, 'cat_smooth': 87.9550363117174}. Best is trial 1 with value: 72586.91172457745.\n"
     ]
    },
    {
     "name": "stdout",
     "output_type": "stream",
     "text": [
      "Early stopping, best iteration is:\n",
      "[13]\tvalid_0's l2: 5.25894e+09\n",
      "Training until validation scores don't improve for 50 rounds\n",
      "Early stopping, best iteration is:\n",
      "[464]\tvalid_0's l2: 5.2963e+09\n",
      "Training until validation scores don't improve for 50 rounds\n",
      "Early stopping, best iteration is:\n",
      "[449]\tvalid_0's l2: 5.28432e+09\n",
      "Training until validation scores don't improve for 50 rounds\n",
      "Early stopping, best iteration is:\n",
      "[511]\tvalid_0's l2: 5.22662e+09\n",
      "Training until validation scores don't improve for 50 rounds\n",
      "Early stopping, best iteration is:\n",
      "[513]\tvalid_0's l2: 5.25518e+09\n",
      "Training until validation scores don't improve for 50 rounds\n",
      "Early stopping, best iteration is:\n",
      "[451]\tvalid_0's l2: 5.24791e+09\n"
     ]
    },
    {
     "name": "stderr",
     "output_type": "stream",
     "text": [
      "[I 2024-09-22 23:59:40,605] Trial 4 finished with value: 72540.09641367747 and parameters: {'n_estimators': 1192, 'num_leaves': 482, 'max_depth': 52, 'learning_rate': 0.005677045861147304, 'subsample': 0.7986858241154422, 'colsample_bytree': 0.9514158801658137, 'reg_alpha': 0.00016119356219527467, 'reg_lambda': 0.2295120287772858, 'min_data_in_leaf': 43, 'feature_fraction': 0.6785908793172681, 'bagging_fraction': 0.5398065450779821, 'bagging_freq': 2, 'min_child_weight': 0.009645302925851532, 'cat_smooth': 59.405997991322664}. Best is trial 4 with value: 72540.09641367747.\n"
     ]
    },
    {
     "name": "stdout",
     "output_type": "stream",
     "text": [
      "Training until validation scores don't improve for 50 rounds\n",
      "Early stopping, best iteration is:\n",
      "[36]\tvalid_0's l2: 5.3029e+09\n",
      "Training until validation scores don't improve for 50 rounds\n",
      "Early stopping, best iteration is:\n",
      "[33]\tvalid_0's l2: 5.28224e+09\n",
      "Training until validation scores don't improve for 50 rounds\n",
      "Early stopping, best iteration is:\n",
      "[40]\tvalid_0's l2: 5.25484e+09\n",
      "Training until validation scores don't improve for 50 rounds\n",
      "Early stopping, best iteration is:\n",
      "[30]\tvalid_0's l2: 5.26351e+09\n",
      "Training until validation scores don't improve for 50 rounds\n"
     ]
    },
    {
     "name": "stderr",
     "output_type": "stream",
     "text": [
      "[I 2024-09-23 00:00:09,988] Trial 5 finished with value: 72615.31202305279 and parameters: {'n_estimators': 528, 'num_leaves': 472, 'max_depth': 26, 'learning_rate': 0.08118455774682055, 'subsample': 0.6731735750400165, 'colsample_bytree': 0.5215486781024972, 'reg_alpha': 0.01903229002492754, 'reg_lambda': 1.1296979705718802, 'min_data_in_leaf': 111, 'feature_fraction': 0.7087545719196335, 'bagging_fraction': 0.8027887821968784, 'bagging_freq': 3, 'min_child_weight': 0.38638467047838265, 'cat_smooth': 18.290082361212804}. Best is trial 4 with value: 72540.09641367747.\n"
     ]
    },
    {
     "name": "stdout",
     "output_type": "stream",
     "text": [
      "Early stopping, best iteration is:\n",
      "[41]\tvalid_0's l2: 5.26143e+09\n",
      "Training until validation scores don't improve for 50 rounds\n",
      "Early stopping, best iteration is:\n",
      "[477]\tvalid_0's l2: 5.3011e+09\n",
      "Training until validation scores don't improve for 50 rounds\n",
      "Early stopping, best iteration is:\n",
      "[539]\tvalid_0's l2: 5.28352e+09\n",
      "Training until validation scores don't improve for 50 rounds\n",
      "Early stopping, best iteration is:\n",
      "[558]\tvalid_0's l2: 5.23774e+09\n",
      "Training until validation scores don't improve for 50 rounds\n",
      "Early stopping, best iteration is:\n",
      "[564]\tvalid_0's l2: 5.2684e+09\n",
      "Training until validation scores don't improve for 50 rounds\n",
      "Early stopping, best iteration is:\n",
      "[568]\tvalid_0's l2: 5.2472e+09\n"
     ]
    },
    {
     "name": "stderr",
     "output_type": "stream",
     "text": [
      "[I 2024-09-23 07:39:13,158] Trial 6 finished with value: 72578.17931264966 and parameters: {'n_estimators': 710, 'num_leaves': 310, 'max_depth': 25, 'learning_rate': 0.005323872255879759, 'subsample': 0.778789094331322, 'colsample_bytree': 0.7827535099440838, 'reg_alpha': 7.092404300854912e-05, 'reg_lambda': 0.01483173321964085, 'min_data_in_leaf': 45, 'feature_fraction': 0.9894095728788213, 'bagging_fraction': 0.6698539218189319, 'bagging_freq': 3, 'min_child_weight': 72.85919281852098, 'cat_smooth': 27.591405563189507}. Best is trial 4 with value: 72540.09641367747.\n"
     ]
    },
    {
     "name": "stdout",
     "output_type": "stream",
     "text": [
      "Training until validation scores don't improve for 50 rounds\n",
      "Early stopping, best iteration is:\n",
      "[6]\tvalid_0's l2: 5.38e+09\n",
      "Training until validation scores don't improve for 50 rounds\n",
      "Early stopping, best iteration is:\n",
      "[6]\tvalid_0's l2: 5.36888e+09\n",
      "Training until validation scores don't improve for 50 rounds\n",
      "Early stopping, best iteration is:\n",
      "[7]\tvalid_0's l2: 5.31871e+09\n",
      "Training until validation scores don't improve for 50 rounds\n",
      "Early stopping, best iteration is:\n",
      "[5]\tvalid_0's l2: 5.35694e+09\n",
      "Training until validation scores don't improve for 50 rounds\n"
     ]
    },
    {
     "name": "stderr",
     "output_type": "stream",
     "text": [
      "[I 2024-09-23 07:39:49,120] Trial 7 finished with value: 73124.09700587265 and parameters: {'n_estimators': 723, 'num_leaves': 508, 'max_depth': 39, 'learning_rate': 0.3645870608221405, 'subsample': 0.534048636768975, 'colsample_bytree': 0.7322654038896663, 'reg_alpha': 0.004916937769207978, 'reg_lambda': 0.7488782916686476, 'min_data_in_leaf': 87, 'feature_fraction': 0.5185472066172039, 'bagging_fraction': 0.6753281956415664, 'bagging_freq': 3, 'min_child_weight': 0.006286070313385454, 'cat_smooth': 32.53375211168362}. Best is trial 4 with value: 72540.09641367747.\n"
     ]
    },
    {
     "name": "stdout",
     "output_type": "stream",
     "text": [
      "Early stopping, best iteration is:\n",
      "[5]\tvalid_0's l2: 5.31114e+09\n",
      "Training until validation scores don't improve for 50 rounds\n",
      "Early stopping, best iteration is:\n",
      "[301]\tvalid_0's l2: 5.28937e+09\n",
      "Training until validation scores don't improve for 50 rounds\n",
      "Early stopping, best iteration is:\n",
      "[281]\tvalid_0's l2: 5.28121e+09\n",
      "Training until validation scores don't improve for 50 rounds\n",
      "Early stopping, best iteration is:\n",
      "[279]\tvalid_0's l2: 5.23495e+09\n",
      "Training until validation scores don't improve for 50 rounds\n",
      "Early stopping, best iteration is:\n",
      "[292]\tvalid_0's l2: 5.24645e+09\n",
      "Training until validation scores don't improve for 50 rounds\n",
      "Early stopping, best iteration is:\n",
      "[328]\tvalid_0's l2: 5.24963e+09\n"
     ]
    },
    {
     "name": "stderr",
     "output_type": "stream",
     "text": [
      "[I 2024-09-23 07:41:44,437] Trial 8 finished with value: 72528.07899691869 and parameters: {'n_estimators': 972, 'num_leaves': 363, 'max_depth': 12, 'learning_rate': 0.010314487673603769, 'subsample': 0.5540318863897262, 'colsample_bytree': 0.5894514042855452, 'reg_alpha': 0.02065202190439409, 'reg_lambda': 0.02893742513973448, 'min_data_in_leaf': 57, 'feature_fraction': 0.8762480851093014, 'bagging_fraction': 0.5534397921967846, 'bagging_freq': 4, 'min_child_weight': 0.06587365495478886, 'cat_smooth': 39.651139374964735}. Best is trial 8 with value: 72528.07899691869.\n"
     ]
    },
    {
     "name": "stdout",
     "output_type": "stream",
     "text": [
      "Training until validation scores don't improve for 50 rounds\n",
      "Did not meet early stopping. Best iteration is:\n",
      "[603]\tvalid_0's l2: 5.46562e+09\n",
      "Training until validation scores don't improve for 50 rounds\n",
      "Did not meet early stopping. Best iteration is:\n",
      "[603]\tvalid_0's l2: 5.45967e+09\n",
      "Training until validation scores don't improve for 50 rounds\n",
      "Did not meet early stopping. Best iteration is:\n",
      "[603]\tvalid_0's l2: 5.412e+09\n",
      "Training until validation scores don't improve for 50 rounds\n",
      "Did not meet early stopping. Best iteration is:\n",
      "[603]\tvalid_0's l2: 5.44921e+09\n",
      "Training until validation scores don't improve for 50 rounds\n",
      "Did not meet early stopping. Best iteration is:\n",
      "[603]\tvalid_0's l2: 5.41408e+09\n"
     ]
    },
    {
     "name": "stderr",
     "output_type": "stream",
     "text": [
      "[I 2024-09-23 07:46:43,503] Trial 9 finished with value: 73757.1470430781 and parameters: {'n_estimators': 603, 'num_leaves': 373, 'max_depth': 42, 'learning_rate': 0.0013992136034385533, 'subsample': 0.6243062539013847, 'colsample_bytree': 0.7712042581140022, 'reg_alpha': 2.294246403767406e-06, 'reg_lambda': 0.03354641687863073, 'min_data_in_leaf': 114, 'feature_fraction': 0.9626784364338884, 'bagging_fraction': 0.7833749622874999, 'bagging_freq': 3, 'min_child_weight': 0.00012278919376690123, 'cat_smooth': 95.03843220828843}. Best is trial 8 with value: 72528.07899691869.\n",
      "c:\\Users\\lerch\\miniconda3\\envs\\cars\\Lib\\site-packages\\lightgbm\\engine.py:204: UserWarning: Found `n_estimators` in params. Will use it instead of argument\n",
      "  _log_warning(f\"Found `{alias}` in params. Will use it instead of argument\")\n"
     ]
    },
    {
     "name": "stdout",
     "output_type": "stream",
     "text": [
      "Training until validation scores don't improve for 50 rounds\n",
      "Early stopping, best iteration is:\n",
      "[241]\tvalid_0's l2: 5.29839e+09\n"
     ]
    },
    {
     "name": "stderr",
     "output_type": "stream",
     "text": [
      "c:\\Users\\lerch\\miniconda3\\envs\\cars\\Lib\\site-packages\\lightgbm\\engine.py:204: UserWarning: Found `n_estimators` in params. Will use it instead of argument\n",
      "  _log_warning(f\"Found `{alias}` in params. Will use it instead of argument\")\n"
     ]
    },
    {
     "name": "stdout",
     "output_type": "stream",
     "text": [
      "Training until validation scores don't improve for 50 rounds\n",
      "Early stopping, best iteration is:\n",
      "[237]\tvalid_0's l2: 5.28372e+09\n"
     ]
    },
    {
     "name": "stderr",
     "output_type": "stream",
     "text": [
      "c:\\Users\\lerch\\miniconda3\\envs\\cars\\Lib\\site-packages\\lightgbm\\engine.py:204: UserWarning: Found `n_estimators` in params. Will use it instead of argument\n",
      "  _log_warning(f\"Found `{alias}` in params. Will use it instead of argument\")\n"
     ]
    },
    {
     "name": "stdout",
     "output_type": "stream",
     "text": [
      "Training until validation scores don't improve for 50 rounds\n",
      "Early stopping, best iteration is:\n",
      "[349]\tvalid_0's l2: 5.22425e+09\n"
     ]
    },
    {
     "name": "stderr",
     "output_type": "stream",
     "text": [
      "c:\\Users\\lerch\\miniconda3\\envs\\cars\\Lib\\site-packages\\lightgbm\\engine.py:204: UserWarning: Found `n_estimators` in params. Will use it instead of argument\n",
      "  _log_warning(f\"Found `{alias}` in params. Will use it instead of argument\")\n"
     ]
    },
    {
     "name": "stdout",
     "output_type": "stream",
     "text": [
      "Training until validation scores don't improve for 50 rounds\n",
      "Early stopping, best iteration is:\n",
      "[312]\tvalid_0's l2: 5.25826e+09\n"
     ]
    },
    {
     "name": "stderr",
     "output_type": "stream",
     "text": [
      "c:\\Users\\lerch\\miniconda3\\envs\\cars\\Lib\\site-packages\\lightgbm\\engine.py:204: UserWarning: Found `n_estimators` in params. Will use it instead of argument\n",
      "  _log_warning(f\"Found `{alias}` in params. Will use it instead of argument\")\n"
     ]
    },
    {
     "name": "stdout",
     "output_type": "stream",
     "text": [
      "Training until validation scores don't improve for 50 rounds\n",
      "Early stopping, best iteration is:\n",
      "[328]\tvalid_0's l2: 5.24118e+09\n"
     ]
    },
    {
     "name": "stderr",
     "output_type": "stream",
     "text": [
      "[I 2024-09-23 07:48:48,353] A new study created in memory with name: no-name-27af5ffc-9cf9-4cbf-8120-904f575b1d37\n"
     ]
    },
    {
     "name": "stdout",
     "output_type": "stream",
     "text": [
      "Training until validation scores don't improve for 50 rounds\n",
      "Early stopping, best iteration is:\n",
      "[13]\tvalid_0's l2: 5.36572e+09\n",
      "Training until validation scores don't improve for 50 rounds\n",
      "Early stopping, best iteration is:\n",
      "[11]\tvalid_0's l2: 5.37057e+09\n",
      "Training until validation scores don't improve for 50 rounds\n",
      "Early stopping, best iteration is:\n",
      "[14]\tvalid_0's l2: 5.32481e+09\n",
      "Training until validation scores don't improve for 50 rounds\n",
      "Early stopping, best iteration is:\n",
      "[13]\tvalid_0's l2: 5.32323e+09\n",
      "Training until validation scores don't improve for 50 rounds\n"
     ]
    },
    {
     "name": "stderr",
     "output_type": "stream",
     "text": [
      "[I 2024-09-23 07:49:20,148] Trial 0 finished with value: 73041.22915365026 and parameters: {'n_estimators': 1040, 'num_leaves': 308, 'max_depth': 42, 'learning_rate': 0.17636469336159113, 'subsample': 0.7492535061512953, 'colsample_bytree': 0.6123983227654238, 'reg_alpha': 1.54304001490974e-06, 'reg_lambda': 1.1018509458263566, 'min_data_in_leaf': 53, 'feature_fraction': 0.5441699070870052, 'bagging_fraction': 0.8426799091838986, 'bagging_freq': 5, 'min_child_weight': 0.00010560624429728648, 'cat_smooth': 32.52312463051321}. Best is trial 0 with value: 73041.22915365026.\n"
     ]
    },
    {
     "name": "stdout",
     "output_type": "stream",
     "text": [
      "Early stopping, best iteration is:\n",
      "[15]\tvalid_0's l2: 5.29077e+09\n",
      "Training until validation scores don't improve for 50 rounds\n",
      "Early stopping, best iteration is:\n",
      "[348]\tvalid_0's l2: 5.31035e+09\n",
      "Training until validation scores don't improve for 50 rounds\n",
      "Early stopping, best iteration is:\n",
      "[336]\tvalid_0's l2: 5.28699e+09\n",
      "Training until validation scores don't improve for 50 rounds\n",
      "Early stopping, best iteration is:\n",
      "[323]\tvalid_0's l2: 5.26598e+09\n",
      "Training until validation scores don't improve for 50 rounds\n",
      "Early stopping, best iteration is:\n",
      "[369]\tvalid_0's l2: 5.26253e+09\n",
      "Training until validation scores don't improve for 50 rounds\n",
      "Early stopping, best iteration is:\n",
      "[319]\tvalid_0's l2: 5.22518e+09\n"
     ]
    },
    {
     "name": "stderr",
     "output_type": "stream",
     "text": [
      "[I 2024-09-23 07:54:53,876] Trial 1 finished with value: 72596.18219812457 and parameters: {'n_estimators': 1069, 'num_leaves': 545, 'max_depth': 46, 'learning_rate': 0.007509797119626296, 'subsample': 0.9588870612564717, 'colsample_bytree': 0.8572878916988453, 'reg_alpha': 0.0001799973901160094, 'reg_lambda': 0.0037040785712895334, 'min_data_in_leaf': 70, 'feature_fraction': 0.8370668075331726, 'bagging_fraction': 0.720916587211498, 'bagging_freq': 3, 'min_child_weight': 0.5088641679920515, 'cat_smooth': 32.59404363006922}. Best is trial 1 with value: 72596.18219812457.\n"
     ]
    },
    {
     "name": "stdout",
     "output_type": "stream",
     "text": [
      "Training until validation scores don't improve for 50 rounds\n",
      "Early stopping, best iteration is:\n",
      "[84]\tvalid_0's l2: 5.33016e+09\n",
      "Training until validation scores don't improve for 50 rounds\n",
      "Early stopping, best iteration is:\n",
      "[62]\tvalid_0's l2: 5.2914e+09\n",
      "Training until validation scores don't improve for 50 rounds\n",
      "Early stopping, best iteration is:\n",
      "[63]\tvalid_0's l2: 5.28841e+09\n",
      "Training until validation scores don't improve for 50 rounds\n",
      "Early stopping, best iteration is:\n",
      "[66]\tvalid_0's l2: 5.28196e+09\n",
      "Training until validation scores don't improve for 50 rounds\n"
     ]
    },
    {
     "name": "stderr",
     "output_type": "stream",
     "text": [
      "[I 2024-09-23 07:56:27,346] Trial 2 finished with value: 72673.08284184785 and parameters: {'n_estimators': 955, 'num_leaves': 541, 'max_depth': 51, 'learning_rate': 0.036723279424594156, 'subsample': 0.9543244404043341, 'colsample_bytree': 0.6596180444942726, 'reg_alpha': 3.4894428963481334e-07, 'reg_lambda': 0.015951452190168802, 'min_data_in_leaf': 49, 'feature_fraction': 0.9143406631538383, 'bagging_fraction': 0.5234481596946249, 'bagging_freq': 4, 'min_child_weight': 0.1929820588974466, 'cat_smooth': 65.96096423779524}. Best is trial 1 with value: 72596.18219812457.\n"
     ]
    },
    {
     "name": "stdout",
     "output_type": "stream",
     "text": [
      "Early stopping, best iteration is:\n",
      "[68]\tvalid_0's l2: 5.21496e+09\n",
      "Training until validation scores don't improve for 50 rounds\n",
      "Early stopping, best iteration is:\n",
      "[13]\tvalid_0's l2: 5.35111e+09\n",
      "Training until validation scores don't improve for 50 rounds\n",
      "Early stopping, best iteration is:\n",
      "[13]\tvalid_0's l2: 5.34679e+09\n",
      "Training until validation scores don't improve for 50 rounds\n",
      "Early stopping, best iteration is:\n",
      "[12]\tvalid_0's l2: 5.33159e+09\n",
      "Training until validation scores don't improve for 50 rounds\n",
      "Early stopping, best iteration is:\n",
      "[16]\tvalid_0's l2: 5.34548e+09\n",
      "Training until validation scores don't improve for 50 rounds\n"
     ]
    },
    {
     "name": "stderr",
     "output_type": "stream",
     "text": [
      "[I 2024-09-23 07:57:13,667] Trial 3 finished with value: 72986.70869658278 and parameters: {'n_estimators': 639, 'num_leaves': 643, 'max_depth': 27, 'learning_rate': 0.18362976337563003, 'subsample': 0.6479808534398394, 'colsample_bytree': 0.9419682397805931, 'reg_alpha': 8.97573097030888e-06, 'reg_lambda': 0.004571551229239351, 'min_data_in_leaf': 71, 'feature_fraction': 0.5467301872793251, 'bagging_fraction': 0.9105528289184642, 'bagging_freq': 1, 'min_child_weight': 0.020169108029984395, 'cat_smooth': 87.9550363117174}. Best is trial 1 with value: 72596.18219812457.\n"
     ]
    },
    {
     "name": "stdout",
     "output_type": "stream",
     "text": [
      "Early stopping, best iteration is:\n",
      "[13]\tvalid_0's l2: 5.26033e+09\n",
      "Training until validation scores don't improve for 50 rounds\n",
      "Early stopping, best iteration is:\n",
      "[491]\tvalid_0's l2: 5.30593e+09\n",
      "Training until validation scores don't improve for 50 rounds\n",
      "Early stopping, best iteration is:\n",
      "[463]\tvalid_0's l2: 5.28572e+09\n",
      "Training until validation scores don't improve for 50 rounds\n",
      "Early stopping, best iteration is:\n",
      "[441]\tvalid_0's l2: 5.26575e+09\n",
      "Training until validation scores don't improve for 50 rounds\n",
      "Early stopping, best iteration is:\n",
      "[497]\tvalid_0's l2: 5.2643e+09\n",
      "Training until validation scores don't improve for 50 rounds\n",
      "Early stopping, best iteration is:\n",
      "[448]\tvalid_0's l2: 5.22194e+09\n"
     ]
    },
    {
     "name": "stderr",
     "output_type": "stream",
     "text": [
      "[I 2024-09-23 08:02:31,208] Trial 4 finished with value: 72586.01027366077 and parameters: {'n_estimators': 1192, 'num_leaves': 482, 'max_depth': 52, 'learning_rate': 0.005677045861147304, 'subsample': 0.7986858241154422, 'colsample_bytree': 0.9514158801658137, 'reg_alpha': 0.00016119356219527467, 'reg_lambda': 0.2295120287772858, 'min_data_in_leaf': 43, 'feature_fraction': 0.6785908793172681, 'bagging_fraction': 0.5398065450779821, 'bagging_freq': 2, 'min_child_weight': 0.009645302925851532, 'cat_smooth': 59.405997991322664}. Best is trial 4 with value: 72586.01027366077.\n"
     ]
    },
    {
     "name": "stdout",
     "output_type": "stream",
     "text": [
      "Training until validation scores don't improve for 50 rounds\n",
      "Early stopping, best iteration is:\n",
      "[30]\tvalid_0's l2: 5.3165e+09\n",
      "Training until validation scores don't improve for 50 rounds\n",
      "Early stopping, best iteration is:\n",
      "[36]\tvalid_0's l2: 5.30468e+09\n",
      "Training until validation scores don't improve for 50 rounds\n",
      "Early stopping, best iteration is:\n",
      "[29]\tvalid_0's l2: 5.2765e+09\n",
      "Training until validation scores don't improve for 50 rounds\n",
      "Early stopping, best iteration is:\n",
      "[38]\tvalid_0's l2: 5.27636e+09\n",
      "Training until validation scores don't improve for 50 rounds\n"
     ]
    },
    {
     "name": "stderr",
     "output_type": "stream",
     "text": [
      "[I 2024-09-23 08:03:19,160] Trial 5 finished with value: 72686.84779942408 and parameters: {'n_estimators': 528, 'num_leaves': 472, 'max_depth': 26, 'learning_rate': 0.08118455774682055, 'subsample': 0.6731735750400165, 'colsample_bytree': 0.5215486781024972, 'reg_alpha': 0.01903229002492754, 'reg_lambda': 1.1296979705718802, 'min_data_in_leaf': 111, 'feature_fraction': 0.7087545719196335, 'bagging_fraction': 0.8027887821968784, 'bagging_freq': 3, 'min_child_weight': 0.38638467047838265, 'cat_smooth': 18.290082361212804}. Best is trial 4 with value: 72586.01027366077.\n"
     ]
    },
    {
     "name": "stdout",
     "output_type": "stream",
     "text": [
      "Early stopping, best iteration is:\n",
      "[33]\tvalid_0's l2: 5.24284e+09\n",
      "Training until validation scores don't improve for 50 rounds\n",
      "Early stopping, best iteration is:\n",
      "[522]\tvalid_0's l2: 5.31726e+09\n",
      "Training until validation scores don't improve for 50 rounds\n",
      "Early stopping, best iteration is:\n",
      "[522]\tvalid_0's l2: 5.28207e+09\n",
      "Training until validation scores don't improve for 50 rounds\n",
      "Early stopping, best iteration is:\n",
      "[449]\tvalid_0's l2: 5.27197e+09\n",
      "Training until validation scores don't improve for 50 rounds\n",
      "Early stopping, best iteration is:\n",
      "[495]\tvalid_0's l2: 5.26721e+09\n",
      "Training until validation scores don't improve for 50 rounds\n",
      "Early stopping, best iteration is:\n",
      "[552]\tvalid_0's l2: 5.22105e+09\n"
     ]
    },
    {
     "name": "stderr",
     "output_type": "stream",
     "text": [
      "[I 2024-09-23 08:07:36,077] Trial 6 finished with value: 72607.9430400599 and parameters: {'n_estimators': 710, 'num_leaves': 310, 'max_depth': 25, 'learning_rate': 0.005323872255879759, 'subsample': 0.778789094331322, 'colsample_bytree': 0.7827535099440838, 'reg_alpha': 7.092404300854912e-05, 'reg_lambda': 0.01483173321964085, 'min_data_in_leaf': 45, 'feature_fraction': 0.9894095728788213, 'bagging_fraction': 0.6698539218189319, 'bagging_freq': 3, 'min_child_weight': 72.85919281852098, 'cat_smooth': 27.591405563189507}. Best is trial 4 with value: 72586.01027366077.\n"
     ]
    },
    {
     "name": "stdout",
     "output_type": "stream",
     "text": [
      "Training until validation scores don't improve for 50 rounds\n",
      "Early stopping, best iteration is:\n",
      "[7]\tvalid_0's l2: 5.37071e+09\n",
      "Training until validation scores don't improve for 50 rounds\n",
      "Early stopping, best iteration is:\n",
      "[5]\tvalid_0's l2: 5.37709e+09\n",
      "Training until validation scores don't improve for 50 rounds\n",
      "Early stopping, best iteration is:\n",
      "[6]\tvalid_0's l2: 5.35967e+09\n",
      "Training until validation scores don't improve for 50 rounds\n",
      "Early stopping, best iteration is:\n",
      "[5]\tvalid_0's l2: 5.32087e+09\n",
      "Training until validation scores don't improve for 50 rounds\n"
     ]
    },
    {
     "name": "stderr",
     "output_type": "stream",
     "text": [
      "[I 2024-09-23 08:08:17,158] Trial 7 finished with value: 73146.61591170439 and parameters: {'n_estimators': 723, 'num_leaves': 508, 'max_depth': 39, 'learning_rate': 0.3645870608221405, 'subsample': 0.534048636768975, 'colsample_bytree': 0.7322654038896663, 'reg_alpha': 0.004916937769207978, 'reg_lambda': 0.7488782916686476, 'min_data_in_leaf': 87, 'feature_fraction': 0.5185472066172039, 'bagging_fraction': 0.6753281956415664, 'bagging_freq': 3, 'min_child_weight': 0.006286070313385454, 'cat_smooth': 32.53375211168362}. Best is trial 4 with value: 72586.01027366077.\n"
     ]
    },
    {
     "name": "stdout",
     "output_type": "stream",
     "text": [
      "Early stopping, best iteration is:\n",
      "[5]\tvalid_0's l2: 5.32379e+09\n",
      "Training until validation scores don't improve for 50 rounds\n",
      "Early stopping, best iteration is:\n",
      "[266]\tvalid_0's l2: 5.29883e+09\n",
      "Training until validation scores don't improve for 50 rounds\n",
      "Early stopping, best iteration is:\n",
      "[331]\tvalid_0's l2: 5.27875e+09\n",
      "Training until validation scores don't improve for 50 rounds\n",
      "Early stopping, best iteration is:\n",
      "[233]\tvalid_0's l2: 5.27026e+09\n",
      "Training until validation scores don't improve for 50 rounds\n",
      "Early stopping, best iteration is:\n",
      "[322]\tvalid_0's l2: 5.25272e+09\n",
      "Training until validation scores don't improve for 50 rounds\n",
      "Early stopping, best iteration is:\n",
      "[337]\tvalid_0's l2: 5.2175e+09\n"
     ]
    },
    {
     "name": "stderr",
     "output_type": "stream",
     "text": [
      "[I 2024-09-23 08:10:09,265] Trial 8 finished with value: 72550.76882394131 and parameters: {'n_estimators': 972, 'num_leaves': 363, 'max_depth': 12, 'learning_rate': 0.010314487673603769, 'subsample': 0.5540318863897262, 'colsample_bytree': 0.5894514042855452, 'reg_alpha': 0.02065202190439409, 'reg_lambda': 0.02893742513973448, 'min_data_in_leaf': 57, 'feature_fraction': 0.8762480851093014, 'bagging_fraction': 0.5534397921967846, 'bagging_freq': 4, 'min_child_weight': 0.06587365495478886, 'cat_smooth': 39.651139374964735}. Best is trial 8 with value: 72550.76882394131.\n"
     ]
    },
    {
     "name": "stdout",
     "output_type": "stream",
     "text": [
      "Training until validation scores don't improve for 50 rounds\n",
      "Did not meet early stopping. Best iteration is:\n",
      "[603]\tvalid_0's l2: 5.47586e+09\n",
      "Training until validation scores don't improve for 50 rounds\n",
      "Did not meet early stopping. Best iteration is:\n",
      "[603]\tvalid_0's l2: 5.4583e+09\n",
      "Training until validation scores don't improve for 50 rounds\n",
      "Did not meet early stopping. Best iteration is:\n",
      "[603]\tvalid_0's l2: 5.41999e+09\n",
      "Training until validation scores don't improve for 50 rounds\n",
      "Did not meet early stopping. Best iteration is:\n",
      "[603]\tvalid_0's l2: 5.45214e+09\n",
      "Training until validation scores don't improve for 50 rounds\n",
      "Did not meet early stopping. Best iteration is:\n",
      "[603]\tvalid_0's l2: 5.40265e+09\n"
     ]
    },
    {
     "name": "stderr",
     "output_type": "stream",
     "text": [
      "[I 2024-09-23 08:15:26,046] Trial 9 finished with value: 73768.47398910149 and parameters: {'n_estimators': 603, 'num_leaves': 373, 'max_depth': 42, 'learning_rate': 0.0013992136034385533, 'subsample': 0.6243062539013847, 'colsample_bytree': 0.7712042581140022, 'reg_alpha': 2.294246403767406e-06, 'reg_lambda': 0.03354641687863073, 'min_data_in_leaf': 114, 'feature_fraction': 0.9626784364338884, 'bagging_fraction': 0.7833749622874999, 'bagging_freq': 3, 'min_child_weight': 0.00012278919376690123, 'cat_smooth': 95.03843220828843}. Best is trial 8 with value: 72550.76882394131.\n",
      "c:\\Users\\lerch\\miniconda3\\envs\\cars\\Lib\\site-packages\\lightgbm\\engine.py:204: UserWarning: Found `n_estimators` in params. Will use it instead of argument\n",
      "  _log_warning(f\"Found `{alias}` in params. Will use it instead of argument\")\n"
     ]
    },
    {
     "name": "stdout",
     "output_type": "stream",
     "text": [
      "Training until validation scores don't improve for 50 rounds\n",
      "Early stopping, best iteration is:\n",
      "[289]\tvalid_0's l2: 5.29664e+09\n"
     ]
    },
    {
     "name": "stderr",
     "output_type": "stream",
     "text": [
      "c:\\Users\\lerch\\miniconda3\\envs\\cars\\Lib\\site-packages\\lightgbm\\engine.py:204: UserWarning: Found `n_estimators` in params. Will use it instead of argument\n",
      "  _log_warning(f\"Found `{alias}` in params. Will use it instead of argument\")\n"
     ]
    },
    {
     "name": "stdout",
     "output_type": "stream",
     "text": [
      "Training until validation scores don't improve for 50 rounds\n",
      "Early stopping, best iteration is:\n",
      "[258]\tvalid_0's l2: 5.28111e+09\n"
     ]
    },
    {
     "name": "stderr",
     "output_type": "stream",
     "text": [
      "c:\\Users\\lerch\\miniconda3\\envs\\cars\\Lib\\site-packages\\lightgbm\\engine.py:204: UserWarning: Found `n_estimators` in params. Will use it instead of argument\n",
      "  _log_warning(f\"Found `{alias}` in params. Will use it instead of argument\")\n"
     ]
    },
    {
     "name": "stdout",
     "output_type": "stream",
     "text": [
      "Training until validation scores don't improve for 50 rounds\n",
      "Early stopping, best iteration is:\n",
      "[256]\tvalid_0's l2: 5.27116e+09\n"
     ]
    },
    {
     "name": "stderr",
     "output_type": "stream",
     "text": [
      "c:\\Users\\lerch\\miniconda3\\envs\\cars\\Lib\\site-packages\\lightgbm\\engine.py:204: UserWarning: Found `n_estimators` in params. Will use it instead of argument\n",
      "  _log_warning(f\"Found `{alias}` in params. Will use it instead of argument\")\n"
     ]
    },
    {
     "name": "stdout",
     "output_type": "stream",
     "text": [
      "Training until validation scores don't improve for 50 rounds\n",
      "Early stopping, best iteration is:\n",
      "[334]\tvalid_0's l2: 5.25915e+09\n"
     ]
    },
    {
     "name": "stderr",
     "output_type": "stream",
     "text": [
      "c:\\Users\\lerch\\miniconda3\\envs\\cars\\Lib\\site-packages\\lightgbm\\engine.py:204: UserWarning: Found `n_estimators` in params. Will use it instead of argument\n",
      "  _log_warning(f\"Found `{alias}` in params. Will use it instead of argument\")\n"
     ]
    },
    {
     "name": "stdout",
     "output_type": "stream",
     "text": [
      "Training until validation scores don't improve for 50 rounds\n",
      "Early stopping, best iteration is:\n",
      "[309]\tvalid_0's l2: 5.21595e+09\n"
     ]
    },
    {
     "name": "stderr",
     "output_type": "stream",
     "text": [
      "[I 2024-09-23 08:17:28,944] A new study created in memory with name: no-name-00cddaa6-048e-4c59-8d13-dd4df721257d\n"
     ]
    },
    {
     "name": "stdout",
     "output_type": "stream",
     "text": [
      "Training until validation scores don't improve for 50 rounds\n",
      "Early stopping, best iteration is:\n",
      "[11]\tvalid_0's l2: 5.35401e+09\n",
      "Training until validation scores don't improve for 50 rounds\n",
      "Early stopping, best iteration is:\n",
      "[15]\tvalid_0's l2: 5.32974e+09\n",
      "Training until validation scores don't improve for 50 rounds\n",
      "Early stopping, best iteration is:\n",
      "[11]\tvalid_0's l2: 5.29071e+09\n",
      "Training until validation scores don't improve for 50 rounds\n",
      "Early stopping, best iteration is:\n",
      "[15]\tvalid_0's l2: 5.34786e+09\n",
      "Training until validation scores don't improve for 50 rounds\n"
     ]
    },
    {
     "name": "stderr",
     "output_type": "stream",
     "text": [
      "[I 2024-09-23 08:17:55,676] Trial 0 finished with value: 72921.3620912874 and parameters: {'n_estimators': 1040, 'num_leaves': 308, 'max_depth': 42, 'learning_rate': 0.17636469336159113, 'subsample': 0.7492535061512953, 'colsample_bytree': 0.6123983227654238, 'reg_alpha': 1.54304001490974e-06, 'reg_lambda': 1.1018509458263566, 'min_data_in_leaf': 53, 'feature_fraction': 0.5441699070870052, 'bagging_fraction': 0.8426799091838986, 'bagging_freq': 5, 'min_child_weight': 0.00010560624429728648, 'cat_smooth': 32.52312463051321}. Best is trial 0 with value: 72921.3620912874.\n"
     ]
    },
    {
     "name": "stdout",
     "output_type": "stream",
     "text": [
      "Early stopping, best iteration is:\n",
      "[18]\tvalid_0's l2: 5.26531e+09\n",
      "Training until validation scores don't improve for 50 rounds\n",
      "Early stopping, best iteration is:\n",
      "[279]\tvalid_0's l2: 5.31008e+09\n",
      "Training until validation scores don't improve for 50 rounds\n",
      "Early stopping, best iteration is:\n",
      "[342]\tvalid_0's l2: 5.26291e+09\n",
      "Training until validation scores don't improve for 50 rounds\n",
      "Early stopping, best iteration is:\n",
      "[444]\tvalid_0's l2: 5.25074e+09\n",
      "Training until validation scores don't improve for 50 rounds\n",
      "Early stopping, best iteration is:\n",
      "[368]\tvalid_0's l2: 5.26114e+09\n",
      "Training until validation scores don't improve for 50 rounds\n",
      "Early stopping, best iteration is:\n",
      "[304]\tvalid_0's l2: 5.24781e+09\n"
     ]
    },
    {
     "name": "stderr",
     "output_type": "stream",
     "text": [
      "[I 2024-09-23 08:22:49,042] Trial 1 finished with value: 72570.90236645701 and parameters: {'n_estimators': 1069, 'num_leaves': 545, 'max_depth': 46, 'learning_rate': 0.007509797119626296, 'subsample': 0.9588870612564717, 'colsample_bytree': 0.8572878916988453, 'reg_alpha': 0.0001799973901160094, 'reg_lambda': 0.0037040785712895334, 'min_data_in_leaf': 70, 'feature_fraction': 0.8370668075331726, 'bagging_fraction': 0.720916587211498, 'bagging_freq': 3, 'min_child_weight': 0.5088641679920515, 'cat_smooth': 32.59404363006922}. Best is trial 1 with value: 72570.90236645701.\n"
     ]
    },
    {
     "name": "stdout",
     "output_type": "stream",
     "text": [
      "Training until validation scores don't improve for 50 rounds\n",
      "Early stopping, best iteration is:\n",
      "[76]\tvalid_0's l2: 5.32322e+09\n",
      "Training until validation scores don't improve for 50 rounds\n",
      "Early stopping, best iteration is:\n",
      "[71]\tvalid_0's l2: 5.25888e+09\n",
      "Training until validation scores don't improve for 50 rounds\n",
      "Early stopping, best iteration is:\n",
      "[66]\tvalid_0's l2: 5.26647e+09\n",
      "Training until validation scores don't improve for 50 rounds\n",
      "Early stopping, best iteration is:\n",
      "[60]\tvalid_0's l2: 5.28865e+09\n",
      "Training until validation scores don't improve for 50 rounds\n"
     ]
    },
    {
     "name": "stderr",
     "output_type": "stream",
     "text": [
      "[I 2024-09-23 08:24:14,811] Trial 2 finished with value: 72659.1358681401 and parameters: {'n_estimators': 955, 'num_leaves': 541, 'max_depth': 51, 'learning_rate': 0.036723279424594156, 'subsample': 0.9543244404043341, 'colsample_bytree': 0.6596180444942726, 'reg_alpha': 3.4894428963481334e-07, 'reg_lambda': 0.015951452190168802, 'min_data_in_leaf': 49, 'feature_fraction': 0.9143406631538383, 'bagging_fraction': 0.5234481596946249, 'bagging_freq': 4, 'min_child_weight': 0.1929820588974466, 'cat_smooth': 65.96096423779524}. Best is trial 1 with value: 72570.90236645701.\n"
     ]
    },
    {
     "name": "stdout",
     "output_type": "stream",
     "text": [
      "Early stopping, best iteration is:\n",
      "[66]\tvalid_0's l2: 5.25952e+09\n",
      "Training until validation scores don't improve for 50 rounds\n",
      "Early stopping, best iteration is:\n",
      "[10]\tvalid_0's l2: 5.38519e+09\n",
      "Training until validation scores don't improve for 50 rounds\n",
      "Early stopping, best iteration is:\n",
      "[15]\tvalid_0's l2: 5.31517e+09\n",
      "Training until validation scores don't improve for 50 rounds\n",
      "Early stopping, best iteration is:\n",
      "[11]\tvalid_0's l2: 5.29887e+09\n",
      "Training until validation scores don't improve for 50 rounds\n",
      "Early stopping, best iteration is:\n",
      "[11]\tvalid_0's l2: 5.32525e+09\n",
      "Training until validation scores don't improve for 50 rounds\n"
     ]
    },
    {
     "name": "stderr",
     "output_type": "stream",
     "text": [
      "[I 2024-09-23 08:25:00,942] Trial 3 finished with value: 72980.67109216882 and parameters: {'n_estimators': 639, 'num_leaves': 643, 'max_depth': 27, 'learning_rate': 0.18362976337563003, 'subsample': 0.6479808534398394, 'colsample_bytree': 0.9419682397805931, 'reg_alpha': 8.97573097030888e-06, 'reg_lambda': 0.004571551229239351, 'min_data_in_leaf': 71, 'feature_fraction': 0.5467301872793251, 'bagging_fraction': 0.9105528289184642, 'bagging_freq': 1, 'min_child_weight': 0.020169108029984395, 'cat_smooth': 87.9550363117174}. Best is trial 1 with value: 72570.90236645701.\n"
     ]
    },
    {
     "name": "stdout",
     "output_type": "stream",
     "text": [
      "Early stopping, best iteration is:\n",
      "[12]\tvalid_0's l2: 5.30642e+09\n",
      "Training until validation scores don't improve for 50 rounds\n",
      "Early stopping, best iteration is:\n",
      "[410]\tvalid_0's l2: 5.30204e+09\n",
      "Training until validation scores don't improve for 50 rounds\n",
      "Early stopping, best iteration is:\n",
      "[484]\tvalid_0's l2: 5.26706e+09\n",
      "Training until validation scores don't improve for 50 rounds\n",
      "Early stopping, best iteration is:\n",
      "[517]\tvalid_0's l2: 5.25083e+09\n",
      "Training until validation scores don't improve for 50 rounds\n",
      "Early stopping, best iteration is:\n",
      "[490]\tvalid_0's l2: 5.26627e+09\n",
      "Training until validation scores don't improve for 50 rounds\n",
      "Early stopping, best iteration is:\n",
      "[415]\tvalid_0's l2: 5.24096e+09\n"
     ]
    },
    {
     "name": "stderr",
     "output_type": "stream",
     "text": [
      "[I 2024-09-23 08:30:49,159] Trial 4 finished with value: 72563.31303768721 and parameters: {'n_estimators': 1192, 'num_leaves': 482, 'max_depth': 52, 'learning_rate': 0.005677045861147304, 'subsample': 0.7986858241154422, 'colsample_bytree': 0.9514158801658137, 'reg_alpha': 0.00016119356219527467, 'reg_lambda': 0.2295120287772858, 'min_data_in_leaf': 43, 'feature_fraction': 0.6785908793172681, 'bagging_fraction': 0.5398065450779821, 'bagging_freq': 2, 'min_child_weight': 0.009645302925851532, 'cat_smooth': 59.405997991322664}. Best is trial 4 with value: 72563.31303768721.\n"
     ]
    },
    {
     "name": "stdout",
     "output_type": "stream",
     "text": [
      "Training until validation scores don't improve for 50 rounds\n",
      "Early stopping, best iteration is:\n",
      "[27]\tvalid_0's l2: 5.31637e+09\n",
      "Training until validation scores don't improve for 50 rounds\n",
      "Early stopping, best iteration is:\n",
      "[47]\tvalid_0's l2: 5.27812e+09\n",
      "Training until validation scores don't improve for 50 rounds\n",
      "Early stopping, best iteration is:\n",
      "[32]\tvalid_0's l2: 5.25065e+09\n",
      "Training until validation scores don't improve for 50 rounds\n",
      "Early stopping, best iteration is:\n",
      "[38]\tvalid_0's l2: 5.25577e+09\n",
      "Training until validation scores don't improve for 50 rounds\n"
     ]
    },
    {
     "name": "stderr",
     "output_type": "stream",
     "text": [
      "[I 2024-09-23 08:31:37,778] Trial 5 finished with value: 72588.03431354363 and parameters: {'n_estimators': 528, 'num_leaves': 472, 'max_depth': 26, 'learning_rate': 0.08118455774682055, 'subsample': 0.6731735750400165, 'colsample_bytree': 0.5215486781024972, 'reg_alpha': 0.01903229002492754, 'reg_lambda': 1.1296979705718802, 'min_data_in_leaf': 111, 'feature_fraction': 0.7087545719196335, 'bagging_fraction': 0.8027887821968784, 'bagging_freq': 3, 'min_child_weight': 0.38638467047838265, 'cat_smooth': 18.290082361212804}. Best is trial 4 with value: 72563.31303768721.\n"
     ]
    },
    {
     "name": "stdout",
     "output_type": "stream",
     "text": [
      "Early stopping, best iteration is:\n",
      "[29]\tvalid_0's l2: 5.24419e+09\n",
      "Training until validation scores don't improve for 50 rounds\n",
      "Early stopping, best iteration is:\n",
      "[420]\tvalid_0's l2: 5.3073e+09\n",
      "Training until validation scores don't improve for 50 rounds\n",
      "Early stopping, best iteration is:\n",
      "[608]\tvalid_0's l2: 5.2683e+09\n",
      "Training until validation scores don't improve for 50 rounds\n",
      "Early stopping, best iteration is:\n",
      "[552]\tvalid_0's l2: 5.24306e+09\n",
      "Training until validation scores don't improve for 50 rounds\n",
      "Early stopping, best iteration is:\n",
      "[486]\tvalid_0's l2: 5.26002e+09\n",
      "Training until validation scores don't improve for 50 rounds\n",
      "Early stopping, best iteration is:\n",
      "[477]\tvalid_0's l2: 5.24436e+09\n"
     ]
    },
    {
     "name": "stderr",
     "output_type": "stream",
     "text": [
      "[I 2024-09-23 08:35:53,176] Trial 6 finished with value: 72557.61611344335 and parameters: {'n_estimators': 710, 'num_leaves': 310, 'max_depth': 25, 'learning_rate': 0.005323872255879759, 'subsample': 0.778789094331322, 'colsample_bytree': 0.7827535099440838, 'reg_alpha': 7.092404300854912e-05, 'reg_lambda': 0.01483173321964085, 'min_data_in_leaf': 45, 'feature_fraction': 0.9894095728788213, 'bagging_fraction': 0.6698539218189319, 'bagging_freq': 3, 'min_child_weight': 72.85919281852098, 'cat_smooth': 27.591405563189507}. Best is trial 6 with value: 72557.61611344335.\n"
     ]
    },
    {
     "name": "stdout",
     "output_type": "stream",
     "text": [
      "Training until validation scores don't improve for 50 rounds\n",
      "Early stopping, best iteration is:\n",
      "[5]\tvalid_0's l2: 5.37505e+09\n",
      "Training until validation scores don't improve for 50 rounds\n",
      "Early stopping, best iteration is:\n",
      "[6]\tvalid_0's l2: 5.33962e+09\n",
      "Training until validation scores don't improve for 50 rounds\n",
      "Early stopping, best iteration is:\n",
      "[5]\tvalid_0's l2: 5.36109e+09\n",
      "Training until validation scores don't improve for 50 rounds\n",
      "Early stopping, best iteration is:\n",
      "[6]\tvalid_0's l2: 5.32416e+09\n",
      "Training until validation scores don't improve for 50 rounds\n"
     ]
    },
    {
     "name": "stderr",
     "output_type": "stream",
     "text": [
      "[I 2024-09-23 08:36:36,726] Trial 7 finished with value: 73089.47781015538 and parameters: {'n_estimators': 723, 'num_leaves': 508, 'max_depth': 39, 'learning_rate': 0.3645870608221405, 'subsample': 0.534048636768975, 'colsample_bytree': 0.7322654038896663, 'reg_alpha': 0.004916937769207978, 'reg_lambda': 0.7488782916686476, 'min_data_in_leaf': 87, 'feature_fraction': 0.5185472066172039, 'bagging_fraction': 0.6753281956415664, 'bagging_freq': 3, 'min_child_weight': 0.006286070313385454, 'cat_smooth': 32.53375211168362}. Best is trial 6 with value: 72557.61611344335.\n"
     ]
    },
    {
     "name": "stdout",
     "output_type": "stream",
     "text": [
      "Early stopping, best iteration is:\n",
      "[8]\tvalid_0's l2: 5.31044e+09\n",
      "Training until validation scores don't improve for 50 rounds\n",
      "Early stopping, best iteration is:\n",
      "[239]\tvalid_0's l2: 5.29588e+09\n",
      "Training until validation scores don't improve for 50 rounds\n",
      "Early stopping, best iteration is:\n",
      "[308]\tvalid_0's l2: 5.26305e+09\n",
      "Training until validation scores don't improve for 50 rounds\n",
      "Early stopping, best iteration is:\n",
      "[360]\tvalid_0's l2: 5.23615e+09\n",
      "Training until validation scores don't improve for 50 rounds\n",
      "Early stopping, best iteration is:\n",
      "[268]\tvalid_0's l2: 5.25951e+09\n",
      "Training until validation scores don't improve for 50 rounds\n",
      "Early stopping, best iteration is:\n",
      "[237]\tvalid_0's l2: 5.23846e+09\n"
     ]
    },
    {
     "name": "stderr",
     "output_type": "stream",
     "text": [
      "[I 2024-09-23 08:38:32,957] Trial 8 finished with value: 72516.27210188138 and parameters: {'n_estimators': 972, 'num_leaves': 363, 'max_depth': 12, 'learning_rate': 0.010314487673603769, 'subsample': 0.5540318863897262, 'colsample_bytree': 0.5894514042855452, 'reg_alpha': 0.02065202190439409, 'reg_lambda': 0.02893742513973448, 'min_data_in_leaf': 57, 'feature_fraction': 0.8762480851093014, 'bagging_fraction': 0.5534397921967846, 'bagging_freq': 4, 'min_child_weight': 0.06587365495478886, 'cat_smooth': 39.651139374964735}. Best is trial 8 with value: 72516.27210188138.\n"
     ]
    },
    {
     "name": "stdout",
     "output_type": "stream",
     "text": [
      "Training until validation scores don't improve for 50 rounds\n",
      "Did not meet early stopping. Best iteration is:\n",
      "[603]\tvalid_0's l2: 5.46635e+09\n",
      "Training until validation scores don't improve for 50 rounds\n",
      "Did not meet early stopping. Best iteration is:\n",
      "[603]\tvalid_0's l2: 5.44661e+09\n",
      "Training until validation scores don't improve for 50 rounds\n",
      "Did not meet early stopping. Best iteration is:\n",
      "[603]\tvalid_0's l2: 5.40995e+09\n",
      "Training until validation scores don't improve for 50 rounds\n",
      "Did not meet early stopping. Best iteration is:\n",
      "[603]\tvalid_0's l2: 5.43847e+09\n",
      "Training until validation scores don't improve for 50 rounds\n",
      "Did not meet early stopping. Best iteration is:\n",
      "[603]\tvalid_0's l2: 5.40595e+09\n"
     ]
    },
    {
     "name": "stderr",
     "output_type": "stream",
     "text": [
      "[I 2024-09-23 08:44:05,476] Trial 9 finished with value: 73712.04068725408 and parameters: {'n_estimators': 603, 'num_leaves': 373, 'max_depth': 42, 'learning_rate': 0.0013992136034385533, 'subsample': 0.6243062539013847, 'colsample_bytree': 0.7712042581140022, 'reg_alpha': 2.294246403767406e-06, 'reg_lambda': 0.03354641687863073, 'min_data_in_leaf': 114, 'feature_fraction': 0.9626784364338884, 'bagging_fraction': 0.7833749622874999, 'bagging_freq': 3, 'min_child_weight': 0.00012278919376690123, 'cat_smooth': 95.03843220828843}. Best is trial 8 with value: 72516.27210188138.\n",
      "c:\\Users\\lerch\\miniconda3\\envs\\cars\\Lib\\site-packages\\lightgbm\\engine.py:204: UserWarning: Found `n_estimators` in params. Will use it instead of argument\n",
      "  _log_warning(f\"Found `{alias}` in params. Will use it instead of argument\")\n"
     ]
    },
    {
     "name": "stdout",
     "output_type": "stream",
     "text": [
      "Training until validation scores don't improve for 50 rounds\n",
      "Early stopping, best iteration is:\n",
      "[273]\tvalid_0's l2: 5.30852e+09\n"
     ]
    },
    {
     "name": "stderr",
     "output_type": "stream",
     "text": [
      "c:\\Users\\lerch\\miniconda3\\envs\\cars\\Lib\\site-packages\\lightgbm\\engine.py:204: UserWarning: Found `n_estimators` in params. Will use it instead of argument\n",
      "  _log_warning(f\"Found `{alias}` in params. Will use it instead of argument\")\n"
     ]
    },
    {
     "name": "stdout",
     "output_type": "stream",
     "text": [
      "Training until validation scores don't improve for 50 rounds\n",
      "Early stopping, best iteration is:\n",
      "[332]\tvalid_0's l2: 5.26399e+09\n"
     ]
    },
    {
     "name": "stderr",
     "output_type": "stream",
     "text": [
      "c:\\Users\\lerch\\miniconda3\\envs\\cars\\Lib\\site-packages\\lightgbm\\engine.py:204: UserWarning: Found `n_estimators` in params. Will use it instead of argument\n",
      "  _log_warning(f\"Found `{alias}` in params. Will use it instead of argument\")\n"
     ]
    },
    {
     "name": "stdout",
     "output_type": "stream",
     "text": [
      "Training until validation scores don't improve for 50 rounds\n",
      "Early stopping, best iteration is:\n",
      "[304]\tvalid_0's l2: 5.24119e+09\n"
     ]
    },
    {
     "name": "stderr",
     "output_type": "stream",
     "text": [
      "c:\\Users\\lerch\\miniconda3\\envs\\cars\\Lib\\site-packages\\lightgbm\\engine.py:204: UserWarning: Found `n_estimators` in params. Will use it instead of argument\n",
      "  _log_warning(f\"Found `{alias}` in params. Will use it instead of argument\")\n"
     ]
    },
    {
     "name": "stdout",
     "output_type": "stream",
     "text": [
      "Training until validation scores don't improve for 50 rounds\n",
      "Early stopping, best iteration is:\n",
      "[279]\tvalid_0's l2: 5.2512e+09\n"
     ]
    },
    {
     "name": "stderr",
     "output_type": "stream",
     "text": [
      "c:\\Users\\lerch\\miniconda3\\envs\\cars\\Lib\\site-packages\\lightgbm\\engine.py:204: UserWarning: Found `n_estimators` in params. Will use it instead of argument\n",
      "  _log_warning(f\"Found `{alias}` in params. Will use it instead of argument\")\n"
     ]
    },
    {
     "name": "stdout",
     "output_type": "stream",
     "text": [
      "Training until validation scores don't improve for 50 rounds\n",
      "Early stopping, best iteration is:\n",
      "[282]\tvalid_0's l2: 5.2335e+09\n"
     ]
    },
    {
     "name": "stderr",
     "output_type": "stream",
     "text": [
      "[I 2024-09-23 08:46:07,893] A new study created in memory with name: no-name-deb175ff-b3b8-47c1-bcae-31beea9dc22d\n"
     ]
    },
    {
     "name": "stdout",
     "output_type": "stream",
     "text": [
      "Training until validation scores don't improve for 50 rounds\n",
      "Early stopping, best iteration is:\n",
      "[16]\tvalid_0's l2: 5.33863e+09\n",
      "Training until validation scores don't improve for 50 rounds\n",
      "Early stopping, best iteration is:\n",
      "[14]\tvalid_0's l2: 5.34383e+09\n",
      "Training until validation scores don't improve for 50 rounds\n",
      "Early stopping, best iteration is:\n",
      "[13]\tvalid_0's l2: 5.32493e+09\n",
      "Training until validation scores don't improve for 50 rounds\n",
      "Early stopping, best iteration is:\n",
      "[11]\tvalid_0's l2: 5.35747e+09\n",
      "Training until validation scores don't improve for 50 rounds\n"
     ]
    },
    {
     "name": "stderr",
     "output_type": "stream",
     "text": [
      "[I 2024-09-23 08:46:37,827] Trial 0 finished with value: 72990.05620673586 and parameters: {'n_estimators': 1040, 'num_leaves': 308, 'max_depth': 42, 'learning_rate': 0.17636469336159113, 'subsample': 0.7492535061512953, 'colsample_bytree': 0.6123983227654238, 'reg_alpha': 1.54304001490974e-06, 'reg_lambda': 1.1018509458263566, 'min_data_in_leaf': 53, 'feature_fraction': 0.5441699070870052, 'bagging_fraction': 0.8426799091838986, 'bagging_freq': 5, 'min_child_weight': 0.00010560624429728648, 'cat_smooth': 32.52312463051321}. Best is trial 0 with value: 72990.05620673586.\n"
     ]
    },
    {
     "name": "stdout",
     "output_type": "stream",
     "text": [
      "Early stopping, best iteration is:\n",
      "[12]\tvalid_0's l2: 5.27288e+09\n",
      "Training until validation scores don't improve for 50 rounds\n",
      "Early stopping, best iteration is:\n",
      "[459]\tvalid_0's l2: 5.26147e+09\n",
      "Training until validation scores don't improve for 50 rounds\n",
      "Early stopping, best iteration is:\n",
      "[341]\tvalid_0's l2: 5.24189e+09\n",
      "Training until validation scores don't improve for 50 rounds\n",
      "Early stopping, best iteration is:\n",
      "[389]\tvalid_0's l2: 5.26068e+09\n",
      "Training until validation scores don't improve for 50 rounds\n",
      "Early stopping, best iteration is:\n",
      "[447]\tvalid_0's l2: 5.25568e+09\n",
      "Training until validation scores don't improve for 50 rounds\n",
      "Early stopping, best iteration is:\n",
      "[368]\tvalid_0's l2: 5.23387e+09\n"
     ]
    },
    {
     "name": "stderr",
     "output_type": "stream",
     "text": [
      "[I 2024-09-23 08:52:09,719] Trial 1 finished with value: 72461.83468930145 and parameters: {'n_estimators': 1069, 'num_leaves': 545, 'max_depth': 46, 'learning_rate': 0.007509797119626296, 'subsample': 0.9588870612564717, 'colsample_bytree': 0.8572878916988453, 'reg_alpha': 0.0001799973901160094, 'reg_lambda': 0.0037040785712895334, 'min_data_in_leaf': 70, 'feature_fraction': 0.8370668075331726, 'bagging_fraction': 0.720916587211498, 'bagging_freq': 3, 'min_child_weight': 0.5088641679920515, 'cat_smooth': 32.59404363006922}. Best is trial 1 with value: 72461.83468930145.\n"
     ]
    },
    {
     "name": "stdout",
     "output_type": "stream",
     "text": [
      "Training until validation scores don't improve for 50 rounds\n",
      "Early stopping, best iteration is:\n",
      "[112]\tvalid_0's l2: 5.2708e+09\n",
      "Training until validation scores don't improve for 50 rounds\n",
      "Early stopping, best iteration is:\n",
      "[62]\tvalid_0's l2: 5.27173e+09\n",
      "Training until validation scores don't improve for 50 rounds\n",
      "Early stopping, best iteration is:\n",
      "[59]\tvalid_0's l2: 5.27225e+09\n",
      "Training until validation scores don't improve for 50 rounds\n",
      "Early stopping, best iteration is:\n",
      "[65]\tvalid_0's l2: 5.29902e+09\n",
      "Training until validation scores don't improve for 50 rounds\n"
     ]
    },
    {
     "name": "stderr",
     "output_type": "stream",
     "text": [
      "[I 2024-09-23 08:53:42,476] Trial 2 finished with value: 72599.93450054442 and parameters: {'n_estimators': 955, 'num_leaves': 541, 'max_depth': 51, 'learning_rate': 0.036723279424594156, 'subsample': 0.9543244404043341, 'colsample_bytree': 0.6596180444942726, 'reg_alpha': 3.4894428963481334e-07, 'reg_lambda': 0.015951452190168802, 'min_data_in_leaf': 49, 'feature_fraction': 0.9143406631538383, 'bagging_fraction': 0.5234481596946249, 'bagging_freq': 4, 'min_child_weight': 0.1929820588974466, 'cat_smooth': 65.96096423779524}. Best is trial 1 with value: 72461.83468930145.\n"
     ]
    },
    {
     "name": "stdout",
     "output_type": "stream",
     "text": [
      "Early stopping, best iteration is:\n",
      "[71]\tvalid_0's l2: 5.23994e+09\n",
      "Training until validation scores don't improve for 50 rounds\n",
      "Early stopping, best iteration is:\n",
      "[17]\tvalid_0's l2: 5.33095e+09\n",
      "Training until validation scores don't improve for 50 rounds\n",
      "Early stopping, best iteration is:\n",
      "[13]\tvalid_0's l2: 5.2803e+09\n",
      "Training until validation scores don't improve for 50 rounds\n",
      "Early stopping, best iteration is:\n",
      "[13]\tvalid_0's l2: 5.30133e+09\n",
      "Training until validation scores don't improve for 50 rounds\n",
      "Early stopping, best iteration is:\n",
      "[11]\tvalid_0's l2: 5.32344e+09\n",
      "Training until validation scores don't improve for 50 rounds\n"
     ]
    },
    {
     "name": "stderr",
     "output_type": "stream",
     "text": [
      "[I 2024-09-23 08:54:24,144] Trial 3 finished with value: 72811.29725285694 and parameters: {'n_estimators': 639, 'num_leaves': 643, 'max_depth': 27, 'learning_rate': 0.18362976337563003, 'subsample': 0.6479808534398394, 'colsample_bytree': 0.9419682397805931, 'reg_alpha': 8.97573097030888e-06, 'reg_lambda': 0.004571551229239351, 'min_data_in_leaf': 71, 'feature_fraction': 0.5467301872793251, 'bagging_fraction': 0.9105528289184642, 'bagging_freq': 1, 'min_child_weight': 0.020169108029984395, 'cat_smooth': 87.9550363117174}. Best is trial 1 with value: 72461.83468930145.\n"
     ]
    },
    {
     "name": "stdout",
     "output_type": "stream",
     "text": [
      "Early stopping, best iteration is:\n",
      "[13]\tvalid_0's l2: 5.27141e+09\n",
      "Training until validation scores don't improve for 50 rounds\n",
      "Early stopping, best iteration is:\n",
      "[458]\tvalid_0's l2: 5.27022e+09\n",
      "Training until validation scores don't improve for 50 rounds\n",
      "Early stopping, best iteration is:\n",
      "[496]\tvalid_0's l2: 5.24458e+09\n",
      "Training until validation scores don't improve for 50 rounds\n",
      "Early stopping, best iteration is:\n",
      "[498]\tvalid_0's l2: 5.24634e+09\n",
      "Training until validation scores don't improve for 50 rounds\n",
      "Early stopping, best iteration is:\n",
      "[584]\tvalid_0's l2: 5.25109e+09\n",
      "Training until validation scores don't improve for 50 rounds\n",
      "Early stopping, best iteration is:\n",
      "[434]\tvalid_0's l2: 5.23296e+09\n"
     ]
    },
    {
     "name": "stderr",
     "output_type": "stream",
     "text": [
      "[I 2024-09-23 09:00:10,213] Trial 4 finished with value: 72450.2464683099 and parameters: {'n_estimators': 1192, 'num_leaves': 482, 'max_depth': 52, 'learning_rate': 0.005677045861147304, 'subsample': 0.7986858241154422, 'colsample_bytree': 0.9514158801658137, 'reg_alpha': 0.00016119356219527467, 'reg_lambda': 0.2295120287772858, 'min_data_in_leaf': 43, 'feature_fraction': 0.6785908793172681, 'bagging_fraction': 0.5398065450779821, 'bagging_freq': 2, 'min_child_weight': 0.009645302925851532, 'cat_smooth': 59.405997991322664}. Best is trial 4 with value: 72450.2464683099.\n"
     ]
    },
    {
     "name": "stdout",
     "output_type": "stream",
     "text": [
      "Training until validation scores don't improve for 50 rounds\n",
      "Early stopping, best iteration is:\n",
      "[37]\tvalid_0's l2: 5.29507e+09\n",
      "Training until validation scores don't improve for 50 rounds\n",
      "Early stopping, best iteration is:\n",
      "[40]\tvalid_0's l2: 5.26105e+09\n",
      "Training until validation scores don't improve for 50 rounds\n",
      "Early stopping, best iteration is:\n",
      "[36]\tvalid_0's l2: 5.26608e+09\n",
      "Training until validation scores don't improve for 50 rounds\n",
      "Early stopping, best iteration is:\n",
      "[38]\tvalid_0's l2: 5.25976e+09\n",
      "Training until validation scores don't improve for 50 rounds\n"
     ]
    },
    {
     "name": "stderr",
     "output_type": "stream",
     "text": [
      "[I 2024-09-23 09:00:56,492] Trial 5 finished with value: 72548.73548479863 and parameters: {'n_estimators': 528, 'num_leaves': 472, 'max_depth': 26, 'learning_rate': 0.08118455774682055, 'subsample': 0.6731735750400165, 'colsample_bytree': 0.5215486781024972, 'reg_alpha': 0.01903229002492754, 'reg_lambda': 1.1296979705718802, 'min_data_in_leaf': 111, 'feature_fraction': 0.7087545719196335, 'bagging_fraction': 0.8027887821968784, 'bagging_freq': 3, 'min_child_weight': 0.38638467047838265, 'cat_smooth': 18.290082361212804}. Best is trial 4 with value: 72450.2464683099.\n"
     ]
    },
    {
     "name": "stdout",
     "output_type": "stream",
     "text": [
      "Early stopping, best iteration is:\n",
      "[32]\tvalid_0's l2: 5.23463e+09\n",
      "Training until validation scores don't improve for 50 rounds\n",
      "Early stopping, best iteration is:\n",
      "[585]\tvalid_0's l2: 5.26421e+09\n",
      "Training until validation scores don't improve for 50 rounds\n",
      "Early stopping, best iteration is:\n",
      "[552]\tvalid_0's l2: 5.24527e+09\n",
      "Training until validation scores don't improve for 50 rounds\n",
      "Early stopping, best iteration is:\n",
      "[559]\tvalid_0's l2: 5.26131e+09\n",
      "Training until validation scores don't improve for 50 rounds\n",
      "Early stopping, best iteration is:\n",
      "[654]\tvalid_0's l2: 5.25832e+09\n",
      "Training until validation scores don't improve for 50 rounds\n",
      "Early stopping, best iteration is:\n",
      "[458]\tvalid_0's l2: 5.24401e+09\n"
     ]
    },
    {
     "name": "stderr",
     "output_type": "stream",
     "text": [
      "[I 2024-09-23 09:05:01,786] Trial 6 finished with value: 72488.78396904633 and parameters: {'n_estimators': 710, 'num_leaves': 310, 'max_depth': 25, 'learning_rate': 0.005323872255879759, 'subsample': 0.778789094331322, 'colsample_bytree': 0.7827535099440838, 'reg_alpha': 7.092404300854912e-05, 'reg_lambda': 0.01483173321964085, 'min_data_in_leaf': 45, 'feature_fraction': 0.9894095728788213, 'bagging_fraction': 0.6698539218189319, 'bagging_freq': 3, 'min_child_weight': 72.85919281852098, 'cat_smooth': 27.591405563189507}. Best is trial 4 with value: 72450.2464683099.\n"
     ]
    },
    {
     "name": "stdout",
     "output_type": "stream",
     "text": [
      "Training until validation scores don't improve for 50 rounds\n",
      "Early stopping, best iteration is:\n",
      "[6]\tvalid_0's l2: 5.35431e+09\n",
      "Training until validation scores don't improve for 50 rounds\n",
      "Early stopping, best iteration is:\n",
      "[5]\tvalid_0's l2: 5.34426e+09\n",
      "Training until validation scores don't improve for 50 rounds\n",
      "Early stopping, best iteration is:\n",
      "[6]\tvalid_0's l2: 5.34742e+09\n",
      "Training until validation scores don't improve for 50 rounds\n",
      "Early stopping, best iteration is:\n",
      "[7]\tvalid_0's l2: 5.35893e+09\n",
      "Training until validation scores don't improve for 50 rounds\n"
     ]
    },
    {
     "name": "stderr",
     "output_type": "stream",
     "text": [
      "[I 2024-09-23 09:05:30,623] Trial 7 finished with value: 73084.9993607093 and parameters: {'n_estimators': 723, 'num_leaves': 508, 'max_depth': 39, 'learning_rate': 0.3645870608221405, 'subsample': 0.534048636768975, 'colsample_bytree': 0.7322654038896663, 'reg_alpha': 0.004916937769207978, 'reg_lambda': 0.7488782916686476, 'min_data_in_leaf': 87, 'feature_fraction': 0.5185472066172039, 'bagging_fraction': 0.6753281956415664, 'bagging_freq': 3, 'min_child_weight': 0.006286070313385454, 'cat_smooth': 32.53375211168362}. Best is trial 4 with value: 72450.2464683099.\n"
     ]
    },
    {
     "name": "stdout",
     "output_type": "stream",
     "text": [
      "Early stopping, best iteration is:\n",
      "[5]\tvalid_0's l2: 5.30217e+09\n",
      "Training until validation scores don't improve for 50 rounds\n",
      "Early stopping, best iteration is:\n",
      "[267]\tvalid_0's l2: 5.25473e+09\n",
      "Training until validation scores don't improve for 50 rounds\n",
      "Early stopping, best iteration is:\n",
      "[343]\tvalid_0's l2: 5.23629e+09\n",
      "Training until validation scores don't improve for 50 rounds\n",
      "Early stopping, best iteration is:\n",
      "[356]\tvalid_0's l2: 5.25171e+09\n",
      "Training until validation scores don't improve for 50 rounds\n",
      "Early stopping, best iteration is:\n",
      "[352]\tvalid_0's l2: 5.25463e+09\n",
      "Training until validation scores don't improve for 50 rounds\n",
      "Early stopping, best iteration is:\n",
      "[241]\tvalid_0's l2: 5.22624e+09\n"
     ]
    },
    {
     "name": "stderr",
     "output_type": "stream",
     "text": [
      "[I 2024-09-23 09:07:08,076] Trial 8 finished with value: 72420.42859276495 and parameters: {'n_estimators': 972, 'num_leaves': 363, 'max_depth': 12, 'learning_rate': 0.010314487673603769, 'subsample': 0.5540318863897262, 'colsample_bytree': 0.5894514042855452, 'reg_alpha': 0.02065202190439409, 'reg_lambda': 0.02893742513973448, 'min_data_in_leaf': 57, 'feature_fraction': 0.8762480851093014, 'bagging_fraction': 0.5534397921967846, 'bagging_freq': 4, 'min_child_weight': 0.06587365495478886, 'cat_smooth': 39.651139374964735}. Best is trial 8 with value: 72420.42859276495.\n"
     ]
    },
    {
     "name": "stdout",
     "output_type": "stream",
     "text": [
      "Training until validation scores don't improve for 50 rounds\n",
      "Did not meet early stopping. Best iteration is:\n",
      "[603]\tvalid_0's l2: 5.46462e+09\n",
      "Training until validation scores don't improve for 50 rounds\n",
      "Did not meet early stopping. Best iteration is:\n",
      "[603]\tvalid_0's l2: 5.44403e+09\n",
      "Training until validation scores don't improve for 50 rounds\n",
      "Did not meet early stopping. Best iteration is:\n",
      "[603]\tvalid_0's l2: 5.42288e+09\n",
      "Training until validation scores don't improve for 50 rounds\n",
      "Did not meet early stopping. Best iteration is:\n",
      "[603]\tvalid_0's l2: 5.4581e+09\n",
      "Training until validation scores don't improve for 50 rounds\n",
      "Did not meet early stopping. Best iteration is:\n",
      "[603]\tvalid_0's l2: 5.41101e+09\n"
     ]
    },
    {
     "name": "stderr",
     "output_type": "stream",
     "text": [
      "[I 2024-09-23 09:12:36,522] Trial 9 finished with value: 73757.22717566746 and parameters: {'n_estimators': 603, 'num_leaves': 373, 'max_depth': 42, 'learning_rate': 0.0013992136034385533, 'subsample': 0.6243062539013847, 'colsample_bytree': 0.7712042581140022, 'reg_alpha': 2.294246403767406e-06, 'reg_lambda': 0.03354641687863073, 'min_data_in_leaf': 114, 'feature_fraction': 0.9626784364338884, 'bagging_fraction': 0.7833749622874999, 'bagging_freq': 3, 'min_child_weight': 0.00012278919376690123, 'cat_smooth': 95.03843220828843}. Best is trial 8 with value: 72420.42859276495.\n",
      "c:\\Users\\lerch\\miniconda3\\envs\\cars\\Lib\\site-packages\\lightgbm\\engine.py:204: UserWarning: Found `n_estimators` in params. Will use it instead of argument\n",
      "  _log_warning(f\"Found `{alias}` in params. Will use it instead of argument\")\n"
     ]
    },
    {
     "name": "stdout",
     "output_type": "stream",
     "text": [
      "Training until validation scores don't improve for 50 rounds\n",
      "Early stopping, best iteration is:\n",
      "[378]\tvalid_0's l2: 5.25872e+09\n"
     ]
    },
    {
     "name": "stderr",
     "output_type": "stream",
     "text": [
      "c:\\Users\\lerch\\miniconda3\\envs\\cars\\Lib\\site-packages\\lightgbm\\engine.py:204: UserWarning: Found `n_estimators` in params. Will use it instead of argument\n",
      "  _log_warning(f\"Found `{alias}` in params. Will use it instead of argument\")\n"
     ]
    },
    {
     "name": "stdout",
     "output_type": "stream",
     "text": [
      "Training until validation scores don't improve for 50 rounds\n",
      "Early stopping, best iteration is:\n",
      "[344]\tvalid_0's l2: 5.24594e+09\n"
     ]
    },
    {
     "name": "stderr",
     "output_type": "stream",
     "text": [
      "c:\\Users\\lerch\\miniconda3\\envs\\cars\\Lib\\site-packages\\lightgbm\\engine.py:204: UserWarning: Found `n_estimators` in params. Will use it instead of argument\n",
      "  _log_warning(f\"Found `{alias}` in params. Will use it instead of argument\")\n"
     ]
    },
    {
     "name": "stdout",
     "output_type": "stream",
     "text": [
      "Training until validation scores don't improve for 50 rounds\n",
      "Early stopping, best iteration is:\n",
      "[306]\tvalid_0's l2: 5.25825e+09\n"
     ]
    },
    {
     "name": "stderr",
     "output_type": "stream",
     "text": [
      "c:\\Users\\lerch\\miniconda3\\envs\\cars\\Lib\\site-packages\\lightgbm\\engine.py:204: UserWarning: Found `n_estimators` in params. Will use it instead of argument\n",
      "  _log_warning(f\"Found `{alias}` in params. Will use it instead of argument\")\n"
     ]
    },
    {
     "name": "stdout",
     "output_type": "stream",
     "text": [
      "Training until validation scores don't improve for 50 rounds\n",
      "Early stopping, best iteration is:\n",
      "[323]\tvalid_0's l2: 5.24329e+09\n"
     ]
    },
    {
     "name": "stderr",
     "output_type": "stream",
     "text": [
      "c:\\Users\\lerch\\miniconda3\\envs\\cars\\Lib\\site-packages\\lightgbm\\engine.py:204: UserWarning: Found `n_estimators` in params. Will use it instead of argument\n",
      "  _log_warning(f\"Found `{alias}` in params. Will use it instead of argument\")\n"
     ]
    },
    {
     "name": "stdout",
     "output_type": "stream",
     "text": [
      "Training until validation scores don't improve for 50 rounds\n",
      "Early stopping, best iteration is:\n",
      "[316]\tvalid_0's l2: 5.23445e+09\n"
     ]
    },
    {
     "name": "stderr",
     "output_type": "stream",
     "text": [
      "[I 2024-09-23 09:14:54,412] A new study created in memory with name: no-name-5470a8a3-79f5-4730-844a-554de955aeac\n"
     ]
    },
    {
     "name": "stdout",
     "output_type": "stream",
     "text": [
      "Training until validation scores don't improve for 50 rounds\n",
      "Early stopping, best iteration is:\n",
      "[11]\tvalid_0's l2: 5.35115e+09\n",
      "Training until validation scores don't improve for 50 rounds\n",
      "Early stopping, best iteration is:\n",
      "[13]\tvalid_0's l2: 5.34756e+09\n",
      "Training until validation scores don't improve for 50 rounds\n",
      "Early stopping, best iteration is:\n",
      "[16]\tvalid_0's l2: 5.31792e+09\n",
      "Training until validation scores don't improve for 50 rounds\n",
      "Early stopping, best iteration is:\n",
      "[13]\tvalid_0's l2: 5.32812e+09\n",
      "Training until validation scores don't improve for 50 rounds\n"
     ]
    },
    {
     "name": "stderr",
     "output_type": "stream",
     "text": [
      "[I 2024-09-23 09:15:25,127] Trial 0 finished with value: 73000.02124601837 and parameters: {'n_estimators': 1040, 'num_leaves': 308, 'max_depth': 42, 'learning_rate': 0.17636469336159113, 'subsample': 0.7492535061512953, 'colsample_bytree': 0.6123983227654238, 'reg_alpha': 1.54304001490974e-06, 'reg_lambda': 1.1018509458263566, 'min_data_in_leaf': 53, 'feature_fraction': 0.5441699070870052, 'bagging_fraction': 0.8426799091838986, 'bagging_freq': 5, 'min_child_weight': 0.00010560624429728648, 'cat_smooth': 32.52312463051321}. Best is trial 0 with value: 73000.02124601837.\n"
     ]
    },
    {
     "name": "stdout",
     "output_type": "stream",
     "text": [
      "Early stopping, best iteration is:\n",
      "[12]\tvalid_0's l2: 5.30026e+09\n",
      "Training until validation scores don't improve for 50 rounds\n",
      "Early stopping, best iteration is:\n",
      "[318]\tvalid_0's l2: 5.30583e+09\n",
      "Training until validation scores don't improve for 50 rounds\n",
      "Early stopping, best iteration is:\n",
      "[337]\tvalid_0's l2: 5.28837e+09\n",
      "Training until validation scores don't improve for 50 rounds\n",
      "Early stopping, best iteration is:\n",
      "[324]\tvalid_0's l2: 5.25564e+09\n",
      "Training until validation scores don't improve for 50 rounds\n",
      "Early stopping, best iteration is:\n",
      "[445]\tvalid_0's l2: 5.24074e+09\n",
      "Training until validation scores don't improve for 50 rounds\n",
      "Early stopping, best iteration is:\n",
      "[357]\tvalid_0's l2: 5.23589e+09\n"
     ]
    },
    {
     "name": "stderr",
     "output_type": "stream",
     "text": [
      "[I 2024-09-23 09:20:35,828] Trial 1 finished with value: 72562.35431656751 and parameters: {'n_estimators': 1069, 'num_leaves': 545, 'max_depth': 46, 'learning_rate': 0.007509797119626296, 'subsample': 0.9588870612564717, 'colsample_bytree': 0.8572878916988453, 'reg_alpha': 0.0001799973901160094, 'reg_lambda': 0.0037040785712895334, 'min_data_in_leaf': 70, 'feature_fraction': 0.8370668075331726, 'bagging_fraction': 0.720916587211498, 'bagging_freq': 3, 'min_child_weight': 0.5088641679920515, 'cat_smooth': 32.59404363006922}. Best is trial 1 with value: 72562.35431656751.\n"
     ]
    },
    {
     "name": "stdout",
     "output_type": "stream",
     "text": [
      "Training until validation scores don't improve for 50 rounds\n",
      "Early stopping, best iteration is:\n",
      "[77]\tvalid_0's l2: 5.32354e+09\n",
      "Training until validation scores don't improve for 50 rounds\n",
      "Early stopping, best iteration is:\n",
      "[90]\tvalid_0's l2: 5.28538e+09\n",
      "Training until validation scores don't improve for 50 rounds\n",
      "Early stopping, best iteration is:\n",
      "[97]\tvalid_0's l2: 5.27815e+09\n",
      "Training until validation scores don't improve for 50 rounds\n",
      "Early stopping, best iteration is:\n",
      "[63]\tvalid_0's l2: 5.2769e+09\n",
      "Training until validation scores don't improve for 50 rounds\n"
     ]
    },
    {
     "name": "stderr",
     "output_type": "stream",
     "text": [
      "[I 2024-09-23 09:22:04,265] Trial 2 finished with value: 72680.35871754901 and parameters: {'n_estimators': 955, 'num_leaves': 541, 'max_depth': 51, 'learning_rate': 0.036723279424594156, 'subsample': 0.9543244404043341, 'colsample_bytree': 0.6596180444942726, 'reg_alpha': 3.4894428963481334e-07, 'reg_lambda': 0.015951452190168802, 'min_data_in_leaf': 49, 'feature_fraction': 0.9143406631538383, 'bagging_fraction': 0.5234481596946249, 'bagging_freq': 4, 'min_child_weight': 0.1929820588974466, 'cat_smooth': 65.96096423779524}. Best is trial 1 with value: 72562.35431656751.\n"
     ]
    },
    {
     "name": "stdout",
     "output_type": "stream",
     "text": [
      "Early stopping, best iteration is:\n",
      "[64]\tvalid_0's l2: 5.2482e+09\n",
      "Training until validation scores don't improve for 50 rounds\n",
      "Early stopping, best iteration is:\n",
      "[11]\tvalid_0's l2: 5.35326e+09\n",
      "Training until validation scores don't improve for 50 rounds\n",
      "Early stopping, best iteration is:\n",
      "[10]\tvalid_0's l2: 5.35641e+09\n",
      "Training until validation scores don't improve for 50 rounds\n",
      "Early stopping, best iteration is:\n",
      "[11]\tvalid_0's l2: 5.3051e+09\n",
      "Training until validation scores don't improve for 50 rounds\n",
      "Early stopping, best iteration is:\n",
      "[13]\tvalid_0's l2: 5.28215e+09\n",
      "Training until validation scores don't improve for 50 rounds\n"
     ]
    },
    {
     "name": "stderr",
     "output_type": "stream",
     "text": [
      "[I 2024-09-23 09:22:50,502] Trial 3 finished with value: 72913.24035758564 and parameters: {'n_estimators': 639, 'num_leaves': 643, 'max_depth': 27, 'learning_rate': 0.18362976337563003, 'subsample': 0.6479808534398394, 'colsample_bytree': 0.9419682397805931, 'reg_alpha': 8.97573097030888e-06, 'reg_lambda': 0.004571551229239351, 'min_data_in_leaf': 71, 'feature_fraction': 0.5467301872793251, 'bagging_fraction': 0.9105528289184642, 'bagging_freq': 1, 'min_child_weight': 0.020169108029984395, 'cat_smooth': 87.9550363117174}. Best is trial 1 with value: 72562.35431656751.\n"
     ]
    },
    {
     "name": "stdout",
     "output_type": "stream",
     "text": [
      "Early stopping, best iteration is:\n",
      "[11]\tvalid_0's l2: 5.28479e+09\n",
      "Training until validation scores don't improve for 50 rounds\n",
      "Early stopping, best iteration is:\n",
      "[416]\tvalid_0's l2: 5.30302e+09\n",
      "Training until validation scores don't improve for 50 rounds\n",
      "Early stopping, best iteration is:\n",
      "[498]\tvalid_0's l2: 5.27608e+09\n",
      "Training until validation scores don't improve for 50 rounds\n",
      "Early stopping, best iteration is:\n",
      "[442]\tvalid_0's l2: 5.25334e+09\n",
      "Training until validation scores don't improve for 50 rounds\n",
      "Early stopping, best iteration is:\n",
      "[507]\tvalid_0's l2: 5.23775e+09\n",
      "Training until validation scores don't improve for 50 rounds\n",
      "Early stopping, best iteration is:\n",
      "[429]\tvalid_0's l2: 5.23546e+09\n"
     ]
    },
    {
     "name": "stderr",
     "output_type": "stream",
     "text": [
      "[I 2024-09-23 09:28:38,760] Trial 4 finished with value: 72533.65365771636 and parameters: {'n_estimators': 1192, 'num_leaves': 482, 'max_depth': 52, 'learning_rate': 0.005677045861147304, 'subsample': 0.7986858241154422, 'colsample_bytree': 0.9514158801658137, 'reg_alpha': 0.00016119356219527467, 'reg_lambda': 0.2295120287772858, 'min_data_in_leaf': 43, 'feature_fraction': 0.6785908793172681, 'bagging_fraction': 0.5398065450779821, 'bagging_freq': 2, 'min_child_weight': 0.009645302925851532, 'cat_smooth': 59.405997991322664}. Best is trial 4 with value: 72533.65365771636.\n"
     ]
    },
    {
     "name": "stdout",
     "output_type": "stream",
     "text": [
      "Training until validation scores don't improve for 50 rounds\n",
      "Early stopping, best iteration is:\n",
      "[31]\tvalid_0's l2: 5.3175e+09\n",
      "Training until validation scores don't improve for 50 rounds\n",
      "Early stopping, best iteration is:\n",
      "[44]\tvalid_0's l2: 5.28741e+09\n",
      "Training until validation scores don't improve for 50 rounds\n",
      "Early stopping, best iteration is:\n",
      "[39]\tvalid_0's l2: 5.25824e+09\n",
      "Training until validation scores don't improve for 50 rounds\n",
      "Early stopping, best iteration is:\n",
      "[39]\tvalid_0's l2: 5.26838e+09\n",
      "Training until validation scores don't improve for 50 rounds\n"
     ]
    },
    {
     "name": "stderr",
     "output_type": "stream",
     "text": [
      "[I 2024-09-23 09:29:30,011] Trial 5 finished with value: 72637.35422557591 and parameters: {'n_estimators': 528, 'num_leaves': 472, 'max_depth': 26, 'learning_rate': 0.08118455774682055, 'subsample': 0.6731735750400165, 'colsample_bytree': 0.5215486781024972, 'reg_alpha': 0.01903229002492754, 'reg_lambda': 1.1296979705718802, 'min_data_in_leaf': 111, 'feature_fraction': 0.7087545719196335, 'bagging_fraction': 0.8027887821968784, 'bagging_freq': 3, 'min_child_weight': 0.38638467047838265, 'cat_smooth': 18.290082361212804}. Best is trial 4 with value: 72533.65365771636.\n"
     ]
    },
    {
     "name": "stdout",
     "output_type": "stream",
     "text": [
      "Early stopping, best iteration is:\n",
      "[32]\tvalid_0's l2: 5.24939e+09\n",
      "Training until validation scores don't improve for 50 rounds\n",
      "Early stopping, best iteration is:\n",
      "[486]\tvalid_0's l2: 5.31084e+09\n",
      "Training until validation scores don't improve for 50 rounds\n",
      "Early stopping, best iteration is:\n",
      "[615]\tvalid_0's l2: 5.28206e+09\n",
      "Training until validation scores don't improve for 50 rounds\n",
      "Early stopping, best iteration is:\n",
      "[492]\tvalid_0's l2: 5.25495e+09\n",
      "Training until validation scores don't improve for 50 rounds\n",
      "Did not meet early stopping. Best iteration is:\n",
      "[684]\tvalid_0's l2: 5.24082e+09\n",
      "Training until validation scores don't improve for 50 rounds\n",
      "Early stopping, best iteration is:\n",
      "[594]\tvalid_0's l2: 5.22124e+09\n"
     ]
    },
    {
     "name": "stderr",
     "output_type": "stream",
     "text": [
      "[I 2024-09-23 09:34:41,660] Trial 6 finished with value: 72539.52386409855 and parameters: {'n_estimators': 710, 'num_leaves': 310, 'max_depth': 25, 'learning_rate': 0.005323872255879759, 'subsample': 0.778789094331322, 'colsample_bytree': 0.7827535099440838, 'reg_alpha': 7.092404300854912e-05, 'reg_lambda': 0.01483173321964085, 'min_data_in_leaf': 45, 'feature_fraction': 0.9894095728788213, 'bagging_fraction': 0.6698539218189319, 'bagging_freq': 3, 'min_child_weight': 72.85919281852098, 'cat_smooth': 27.591405563189507}. Best is trial 4 with value: 72533.65365771636.\n"
     ]
    },
    {
     "name": "stdout",
     "output_type": "stream",
     "text": [
      "Training until validation scores don't improve for 50 rounds\n",
      "Early stopping, best iteration is:\n",
      "[5]\tvalid_0's l2: 5.3697e+09\n",
      "Training until validation scores don't improve for 50 rounds\n",
      "Early stopping, best iteration is:\n",
      "[5]\tvalid_0's l2: 5.36985e+09\n",
      "Training until validation scores don't improve for 50 rounds\n",
      "Early stopping, best iteration is:\n",
      "[5]\tvalid_0's l2: 5.34254e+09\n",
      "Training until validation scores don't improve for 50 rounds\n",
      "Early stopping, best iteration is:\n",
      "[6]\tvalid_0's l2: 5.32437e+09\n",
      "Training until validation scores don't improve for 50 rounds\n"
     ]
    },
    {
     "name": "stderr",
     "output_type": "stream",
     "text": [
      "[I 2024-09-23 09:35:23,027] Trial 7 finished with value: 73146.45944380075 and parameters: {'n_estimators': 723, 'num_leaves': 508, 'max_depth': 39, 'learning_rate': 0.3645870608221405, 'subsample': 0.534048636768975, 'colsample_bytree': 0.7322654038896663, 'reg_alpha': 0.004916937769207978, 'reg_lambda': 0.7488782916686476, 'min_data_in_leaf': 87, 'feature_fraction': 0.5185472066172039, 'bagging_fraction': 0.6753281956415664, 'bagging_freq': 3, 'min_child_weight': 0.006286070313385454, 'cat_smooth': 32.53375211168362}. Best is trial 4 with value: 72533.65365771636.\n"
     ]
    },
    {
     "name": "stdout",
     "output_type": "stream",
     "text": [
      "Early stopping, best iteration is:\n",
      "[6]\tvalid_0's l2: 5.34556e+09\n",
      "Training until validation scores don't improve for 50 rounds\n",
      "Early stopping, best iteration is:\n",
      "[268]\tvalid_0's l2: 5.30097e+09\n",
      "Training until validation scores don't improve for 50 rounds\n",
      "Early stopping, best iteration is:\n",
      "[276]\tvalid_0's l2: 5.27506e+09\n",
      "Training until validation scores don't improve for 50 rounds\n",
      "Early stopping, best iteration is:\n",
      "[264]\tvalid_0's l2: 5.24683e+09\n",
      "Training until validation scores don't improve for 50 rounds\n",
      "Early stopping, best iteration is:\n",
      "[424]\tvalid_0's l2: 5.23219e+09\n",
      "Training until validation scores don't improve for 50 rounds\n",
      "Early stopping, best iteration is:\n",
      "[305]\tvalid_0's l2: 5.22458e+09\n"
     ]
    },
    {
     "name": "stderr",
     "output_type": "stream",
     "text": [
      "[I 2024-09-23 09:37:23,127] Trial 8 finished with value: 72497.76017132624 and parameters: {'n_estimators': 972, 'num_leaves': 363, 'max_depth': 12, 'learning_rate': 0.010314487673603769, 'subsample': 0.5540318863897262, 'colsample_bytree': 0.5894514042855452, 'reg_alpha': 0.02065202190439409, 'reg_lambda': 0.02893742513973448, 'min_data_in_leaf': 57, 'feature_fraction': 0.8762480851093014, 'bagging_fraction': 0.5534397921967846, 'bagging_freq': 4, 'min_child_weight': 0.06587365495478886, 'cat_smooth': 39.651139374964735}. Best is trial 8 with value: 72497.76017132624.\n"
     ]
    },
    {
     "name": "stdout",
     "output_type": "stream",
     "text": [
      "Training until validation scores don't improve for 50 rounds\n",
      "Did not meet early stopping. Best iteration is:\n",
      "[603]\tvalid_0's l2: 5.46997e+09\n",
      "Training until validation scores don't improve for 50 rounds\n",
      "Did not meet early stopping. Best iteration is:\n",
      "[603]\tvalid_0's l2: 5.46747e+09\n",
      "Training until validation scores don't improve for 50 rounds\n",
      "Did not meet early stopping. Best iteration is:\n",
      "[603]\tvalid_0's l2: 5.4134e+09\n",
      "Training until validation scores don't improve for 50 rounds\n",
      "Did not meet early stopping. Best iteration is:\n",
      "[603]\tvalid_0's l2: 5.45496e+09\n",
      "Training until validation scores don't improve for 50 rounds\n",
      "Did not meet early stopping. Best iteration is:\n",
      "[603]\tvalid_0's l2: 5.40899e+09\n"
     ]
    },
    {
     "name": "stderr",
     "output_type": "stream",
     "text": [
      "[I 2024-09-23 09:42:45,930] Trial 9 finished with value: 73776.40206467093 and parameters: {'n_estimators': 603, 'num_leaves': 373, 'max_depth': 42, 'learning_rate': 0.0013992136034385533, 'subsample': 0.6243062539013847, 'colsample_bytree': 0.7712042581140022, 'reg_alpha': 2.294246403767406e-06, 'reg_lambda': 0.03354641687863073, 'min_data_in_leaf': 114, 'feature_fraction': 0.9626784364338884, 'bagging_fraction': 0.7833749622874999, 'bagging_freq': 3, 'min_child_weight': 0.00012278919376690123, 'cat_smooth': 95.03843220828843}. Best is trial 8 with value: 72497.76017132624.\n",
      "c:\\Users\\lerch\\miniconda3\\envs\\cars\\Lib\\site-packages\\lightgbm\\engine.py:204: UserWarning: Found `n_estimators` in params. Will use it instead of argument\n",
      "  _log_warning(f\"Found `{alias}` in params. Will use it instead of argument\")\n"
     ]
    },
    {
     "name": "stdout",
     "output_type": "stream",
     "text": [
      "Training until validation scores don't improve for 50 rounds\n",
      "Early stopping, best iteration is:\n",
      "[244]\tvalid_0's l2: 5.30157e+09\n"
     ]
    },
    {
     "name": "stderr",
     "output_type": "stream",
     "text": [
      "c:\\Users\\lerch\\miniconda3\\envs\\cars\\Lib\\site-packages\\lightgbm\\engine.py:204: UserWarning: Found `n_estimators` in params. Will use it instead of argument\n",
      "  _log_warning(f\"Found `{alias}` in params. Will use it instead of argument\")\n"
     ]
    },
    {
     "name": "stdout",
     "output_type": "stream",
     "text": [
      "Training until validation scores don't improve for 50 rounds\n",
      "Early stopping, best iteration is:\n",
      "[348]\tvalid_0's l2: 5.28277e+09\n"
     ]
    },
    {
     "name": "stderr",
     "output_type": "stream",
     "text": [
      "c:\\Users\\lerch\\miniconda3\\envs\\cars\\Lib\\site-packages\\lightgbm\\engine.py:204: UserWarning: Found `n_estimators` in params. Will use it instead of argument\n",
      "  _log_warning(f\"Found `{alias}` in params. Will use it instead of argument\")\n"
     ]
    },
    {
     "name": "stdout",
     "output_type": "stream",
     "text": [
      "Training until validation scores don't improve for 50 rounds\n",
      "Early stopping, best iteration is:\n",
      "[277]\tvalid_0's l2: 5.25285e+09\n"
     ]
    },
    {
     "name": "stderr",
     "output_type": "stream",
     "text": [
      "c:\\Users\\lerch\\miniconda3\\envs\\cars\\Lib\\site-packages\\lightgbm\\engine.py:204: UserWarning: Found `n_estimators` in params. Will use it instead of argument\n",
      "  _log_warning(f\"Found `{alias}` in params. Will use it instead of argument\")\n"
     ]
    },
    {
     "name": "stdout",
     "output_type": "stream",
     "text": [
      "Training until validation scores don't improve for 50 rounds\n",
      "Early stopping, best iteration is:\n",
      "[368]\tvalid_0's l2: 5.23204e+09\n"
     ]
    },
    {
     "name": "stderr",
     "output_type": "stream",
     "text": [
      "c:\\Users\\lerch\\miniconda3\\envs\\cars\\Lib\\site-packages\\lightgbm\\engine.py:204: UserWarning: Found `n_estimators` in params. Will use it instead of argument\n",
      "  _log_warning(f\"Found `{alias}` in params. Will use it instead of argument\")\n"
     ]
    },
    {
     "name": "stdout",
     "output_type": "stream",
     "text": [
      "Training until validation scores don't improve for 50 rounds\n",
      "Early stopping, best iteration is:\n",
      "[312]\tvalid_0's l2: 5.22195e+09\n"
     ]
    },
    {
     "name": "stderr",
     "output_type": "stream",
     "text": [
      "[I 2024-09-23 09:44:53,893] A new study created in memory with name: no-name-e893ec54-0132-4a2a-b1ce-6bb46ece8921\n"
     ]
    },
    {
     "name": "stdout",
     "output_type": "stream",
     "text": [
      "Training until validation scores don't improve for 50 rounds\n",
      "Early stopping, best iteration is:\n",
      "[13]\tvalid_0's l2: 5.34816e+09\n",
      "Training until validation scores don't improve for 50 rounds\n",
      "Early stopping, best iteration is:\n",
      "[15]\tvalid_0's l2: 5.3607e+09\n",
      "Training until validation scores don't improve for 50 rounds\n",
      "Early stopping, best iteration is:\n",
      "[13]\tvalid_0's l2: 5.31553e+09\n",
      "Training until validation scores don't improve for 50 rounds\n",
      "Early stopping, best iteration is:\n",
      "[13]\tvalid_0's l2: 5.31674e+09\n",
      "Training until validation scores don't improve for 50 rounds\n"
     ]
    },
    {
     "name": "stderr",
     "output_type": "stream",
     "text": [
      "[I 2024-09-23 09:45:26,727] Trial 0 finished with value: 72990.31992808978 and parameters: {'n_estimators': 1040, 'num_leaves': 308, 'max_depth': 42, 'learning_rate': 0.17636469336159113, 'subsample': 0.7492535061512953, 'colsample_bytree': 0.6123983227654238, 'reg_alpha': 1.54304001490974e-06, 'reg_lambda': 1.1018509458263566, 'min_data_in_leaf': 53, 'feature_fraction': 0.5441699070870052, 'bagging_fraction': 0.8426799091838986, 'bagging_freq': 5, 'min_child_weight': 0.00010560624429728648, 'cat_smooth': 32.52312463051321}. Best is trial 0 with value: 72990.31992808978.\n"
     ]
    },
    {
     "name": "stdout",
     "output_type": "stream",
     "text": [
      "Early stopping, best iteration is:\n",
      "[12]\tvalid_0's l2: 5.2968e+09\n",
      "Training until validation scores don't improve for 50 rounds\n",
      "Early stopping, best iteration is:\n",
      "[371]\tvalid_0's l2: 5.29819e+09\n",
      "Training until validation scores don't improve for 50 rounds\n",
      "Early stopping, best iteration is:\n",
      "[359]\tvalid_0's l2: 5.29693e+09\n",
      "Training until validation scores don't improve for 50 rounds\n",
      "Early stopping, best iteration is:\n",
      "[382]\tvalid_0's l2: 5.27223e+09\n",
      "Training until validation scores don't improve for 50 rounds\n",
      "Early stopping, best iteration is:\n",
      "[356]\tvalid_0's l2: 5.25357e+09\n",
      "Training until validation scores don't improve for 50 rounds\n",
      "Early stopping, best iteration is:\n",
      "[329]\tvalid_0's l2: 5.26309e+09\n"
     ]
    },
    {
     "name": "stderr",
     "output_type": "stream",
     "text": [
      "[I 2024-09-23 09:50:29,577] Trial 1 finished with value: 72641.60293220048 and parameters: {'n_estimators': 1069, 'num_leaves': 545, 'max_depth': 46, 'learning_rate': 0.007509797119626296, 'subsample': 0.9588870612564717, 'colsample_bytree': 0.8572878916988453, 'reg_alpha': 0.0001799973901160094, 'reg_lambda': 0.0037040785712895334, 'min_data_in_leaf': 70, 'feature_fraction': 0.8370668075331726, 'bagging_fraction': 0.720916587211498, 'bagging_freq': 3, 'min_child_weight': 0.5088641679920515, 'cat_smooth': 32.59404363006922}. Best is trial 1 with value: 72641.60293220048.\n"
     ]
    },
    {
     "name": "stdout",
     "output_type": "stream",
     "text": [
      "Training until validation scores don't improve for 50 rounds\n",
      "Early stopping, best iteration is:\n",
      "[85]\tvalid_0's l2: 5.30511e+09\n",
      "Training until validation scores don't improve for 50 rounds\n",
      "Early stopping, best iteration is:\n",
      "[65]\tvalid_0's l2: 5.32607e+09\n",
      "Training until validation scores don't improve for 50 rounds\n",
      "Early stopping, best iteration is:\n",
      "[61]\tvalid_0's l2: 5.26531e+09\n",
      "Training until validation scores don't improve for 50 rounds\n",
      "Early stopping, best iteration is:\n",
      "[71]\tvalid_0's l2: 5.26881e+09\n",
      "Training until validation scores don't improve for 50 rounds\n"
     ]
    },
    {
     "name": "stderr",
     "output_type": "stream",
     "text": [
      "[I 2024-09-23 09:51:57,031] Trial 2 finished with value: 72711.82567217553 and parameters: {'n_estimators': 955, 'num_leaves': 541, 'max_depth': 51, 'learning_rate': 0.036723279424594156, 'subsample': 0.9543244404043341, 'colsample_bytree': 0.6596180444942726, 'reg_alpha': 3.4894428963481334e-07, 'reg_lambda': 0.015951452190168802, 'min_data_in_leaf': 49, 'feature_fraction': 0.9143406631538383, 'bagging_fraction': 0.5234481596946249, 'bagging_freq': 4, 'min_child_weight': 0.1929820588974466, 'cat_smooth': 65.96096423779524}. Best is trial 1 with value: 72641.60293220048.\n"
     ]
    },
    {
     "name": "stdout",
     "output_type": "stream",
     "text": [
      "Early stopping, best iteration is:\n",
      "[67]\tvalid_0's l2: 5.26974e+09\n",
      "Training until validation scores don't improve for 50 rounds\n",
      "Early stopping, best iteration is:\n",
      "[12]\tvalid_0's l2: 5.33553e+09\n",
      "Training until validation scores don't improve for 50 rounds\n",
      "Early stopping, best iteration is:\n",
      "[12]\tvalid_0's l2: 5.35887e+09\n",
      "Training until validation scores don't improve for 50 rounds\n",
      "Early stopping, best iteration is:\n",
      "[13]\tvalid_0's l2: 5.29267e+09\n",
      "Training until validation scores don't improve for 50 rounds\n",
      "Early stopping, best iteration is:\n",
      "[13]\tvalid_0's l2: 5.29595e+09\n",
      "Training until validation scores don't improve for 50 rounds\n"
     ]
    },
    {
     "name": "stderr",
     "output_type": "stream",
     "text": [
      "[I 2024-09-23 09:52:41,060] Trial 3 finished with value: 72897.84460444834 and parameters: {'n_estimators': 639, 'num_leaves': 643, 'max_depth': 27, 'learning_rate': 0.18362976337563003, 'subsample': 0.6479808534398394, 'colsample_bytree': 0.9419682397805931, 'reg_alpha': 8.97573097030888e-06, 'reg_lambda': 0.004571551229239351, 'min_data_in_leaf': 71, 'feature_fraction': 0.5467301872793251, 'bagging_fraction': 0.9105528289184642, 'bagging_freq': 1, 'min_child_weight': 0.020169108029984395, 'cat_smooth': 87.9550363117174}. Best is trial 1 with value: 72641.60293220048.\n"
     ]
    },
    {
     "name": "stdout",
     "output_type": "stream",
     "text": [
      "Early stopping, best iteration is:\n",
      "[14]\tvalid_0's l2: 5.28746e+09\n",
      "Training until validation scores don't improve for 50 rounds\n",
      "Early stopping, best iteration is:\n",
      "[492]\tvalid_0's l2: 5.29257e+09\n",
      "Training until validation scores don't improve for 50 rounds\n",
      "Early stopping, best iteration is:\n",
      "[479]\tvalid_0's l2: 5.29451e+09\n",
      "Training until validation scores don't improve for 50 rounds\n",
      "Early stopping, best iteration is:\n",
      "[434]\tvalid_0's l2: 5.26709e+09\n",
      "Training until validation scores don't improve for 50 rounds\n",
      "Early stopping, best iteration is:\n",
      "[477]\tvalid_0's l2: 5.25623e+09\n",
      "Training until validation scores don't improve for 50 rounds\n",
      "Early stopping, best iteration is:\n",
      "[437]\tvalid_0's l2: 5.26118e+09\n"
     ]
    },
    {
     "name": "stderr",
     "output_type": "stream",
     "text": [
      "[I 2024-09-23 09:58:20,822] Trial 4 finished with value: 72624.4799939389 and parameters: {'n_estimators': 1192, 'num_leaves': 482, 'max_depth': 52, 'learning_rate': 0.005677045861147304, 'subsample': 0.7986858241154422, 'colsample_bytree': 0.9514158801658137, 'reg_alpha': 0.00016119356219527467, 'reg_lambda': 0.2295120287772858, 'min_data_in_leaf': 43, 'feature_fraction': 0.6785908793172681, 'bagging_fraction': 0.5398065450779821, 'bagging_freq': 2, 'min_child_weight': 0.009645302925851532, 'cat_smooth': 59.405997991322664}. Best is trial 4 with value: 72624.4799939389.\n"
     ]
    },
    {
     "name": "stdout",
     "output_type": "stream",
     "text": [
      "Training until validation scores don't improve for 50 rounds\n",
      "Early stopping, best iteration is:\n",
      "[39]\tvalid_0's l2: 5.30452e+09\n",
      "Training until validation scores don't improve for 50 rounds\n",
      "Early stopping, best iteration is:\n",
      "[47]\tvalid_0's l2: 5.30542e+09\n",
      "Training until validation scores don't improve for 50 rounds\n",
      "Early stopping, best iteration is:\n",
      "[43]\tvalid_0's l2: 5.27437e+09\n",
      "Training until validation scores don't improve for 50 rounds\n",
      "Early stopping, best iteration is:\n",
      "[44]\tvalid_0's l2: 5.23357e+09\n",
      "Training until validation scores don't improve for 50 rounds\n"
     ]
    },
    {
     "name": "stderr",
     "output_type": "stream",
     "text": [
      "[I 2024-09-23 09:59:11,843] Trial 5 finished with value: 72658.24057649443 and parameters: {'n_estimators': 528, 'num_leaves': 472, 'max_depth': 26, 'learning_rate': 0.08118455774682055, 'subsample': 0.6731735750400165, 'colsample_bytree': 0.5215486781024972, 'reg_alpha': 0.01903229002492754, 'reg_lambda': 1.1296979705718802, 'min_data_in_leaf': 111, 'feature_fraction': 0.7087545719196335, 'bagging_fraction': 0.8027887821968784, 'bagging_freq': 3, 'min_child_weight': 0.38638467047838265, 'cat_smooth': 18.290082361212804}. Best is trial 4 with value: 72624.4799939389.\n"
     ]
    },
    {
     "name": "stdout",
     "output_type": "stream",
     "text": [
      "Early stopping, best iteration is:\n",
      "[32]\tvalid_0's l2: 5.27821e+09\n",
      "Training until validation scores don't improve for 50 rounds\n",
      "Early stopping, best iteration is:\n",
      "[462]\tvalid_0's l2: 5.30435e+09\n",
      "Training until validation scores don't improve for 50 rounds\n",
      "Early stopping, best iteration is:\n",
      "[606]\tvalid_0's l2: 5.29145e+09\n",
      "Training until validation scores don't improve for 50 rounds\n",
      "Early stopping, best iteration is:\n",
      "[585]\tvalid_0's l2: 5.26475e+09\n",
      "Training until validation scores don't improve for 50 rounds\n",
      "Early stopping, best iteration is:\n",
      "[555]\tvalid_0's l2: 5.25776e+09\n",
      "Training until validation scores don't improve for 50 rounds\n",
      "Early stopping, best iteration is:\n",
      "[450]\tvalid_0's l2: 5.26597e+09\n"
     ]
    },
    {
     "name": "stderr",
     "output_type": "stream",
     "text": [
      "[I 2024-09-23 10:04:09,115] Trial 6 finished with value: 72641.96874007005 and parameters: {'n_estimators': 710, 'num_leaves': 310, 'max_depth': 25, 'learning_rate': 0.005323872255879759, 'subsample': 0.778789094331322, 'colsample_bytree': 0.7827535099440838, 'reg_alpha': 7.092404300854912e-05, 'reg_lambda': 0.01483173321964085, 'min_data_in_leaf': 45, 'feature_fraction': 0.9894095728788213, 'bagging_fraction': 0.6698539218189319, 'bagging_freq': 3, 'min_child_weight': 72.85919281852098, 'cat_smooth': 27.591405563189507}. Best is trial 4 with value: 72624.4799939389.\n"
     ]
    },
    {
     "name": "stdout",
     "output_type": "stream",
     "text": [
      "Training until validation scores don't improve for 50 rounds\n",
      "Early stopping, best iteration is:\n",
      "[6]\tvalid_0's l2: 5.39405e+09\n",
      "Training until validation scores don't improve for 50 rounds\n",
      "Early stopping, best iteration is:\n",
      "[6]\tvalid_0's l2: 5.39305e+09\n",
      "Training until validation scores don't improve for 50 rounds\n",
      "Early stopping, best iteration is:\n",
      "[8]\tvalid_0's l2: 5.34659e+09\n",
      "Training until validation scores don't improve for 50 rounds\n",
      "Early stopping, best iteration is:\n",
      "[5]\tvalid_0's l2: 5.35813e+09\n",
      "Training until validation scores don't improve for 50 rounds\n"
     ]
    },
    {
     "name": "stderr",
     "output_type": "stream",
     "text": [
      "[I 2024-09-23 10:04:47,510] Trial 7 finished with value: 73259.9411866894 and parameters: {'n_estimators': 723, 'num_leaves': 508, 'max_depth': 39, 'learning_rate': 0.3645870608221405, 'subsample': 0.534048636768975, 'colsample_bytree': 0.7322654038896663, 'reg_alpha': 0.004916937769207978, 'reg_lambda': 0.7488782916686476, 'min_data_in_leaf': 87, 'feature_fraction': 0.5185472066172039, 'bagging_fraction': 0.6753281956415664, 'bagging_freq': 3, 'min_child_weight': 0.006286070313385454, 'cat_smooth': 32.53375211168362}. Best is trial 4 with value: 72624.4799939389.\n"
     ]
    },
    {
     "name": "stdout",
     "output_type": "stream",
     "text": [
      "Early stopping, best iteration is:\n",
      "[5]\tvalid_0's l2: 5.34327e+09\n",
      "Training until validation scores don't improve for 50 rounds\n",
      "Early stopping, best iteration is:\n",
      "[297]\tvalid_0's l2: 5.2859e+09\n",
      "Training until validation scores don't improve for 50 rounds\n",
      "Early stopping, best iteration is:\n",
      "[352]\tvalid_0's l2: 5.27742e+09\n",
      "Training until validation scores don't improve for 50 rounds\n",
      "Early stopping, best iteration is:\n",
      "[267]\tvalid_0's l2: 5.26147e+09\n",
      "Training until validation scores don't improve for 50 rounds\n",
      "Early stopping, best iteration is:\n",
      "[300]\tvalid_0's l2: 5.24045e+09\n",
      "Training until validation scores don't improve for 50 rounds\n",
      "Early stopping, best iteration is:\n",
      "[328]\tvalid_0's l2: 5.25826e+09\n"
     ]
    },
    {
     "name": "stderr",
     "output_type": "stream",
     "text": [
      "[I 2024-09-23 10:06:42,424] Trial 8 finished with value: 72558.25374943821 and parameters: {'n_estimators': 972, 'num_leaves': 363, 'max_depth': 12, 'learning_rate': 0.010314487673603769, 'subsample': 0.5540318863897262, 'colsample_bytree': 0.5894514042855452, 'reg_alpha': 0.02065202190439409, 'reg_lambda': 0.02893742513973448, 'min_data_in_leaf': 57, 'feature_fraction': 0.8762480851093014, 'bagging_fraction': 0.5534397921967846, 'bagging_freq': 4, 'min_child_weight': 0.06587365495478886, 'cat_smooth': 39.651139374964735}. Best is trial 8 with value: 72558.25374943821.\n"
     ]
    },
    {
     "name": "stdout",
     "output_type": "stream",
     "text": [
      "Training until validation scores don't improve for 50 rounds\n",
      "Did not meet early stopping. Best iteration is:\n",
      "[603]\tvalid_0's l2: 5.47286e+09\n",
      "Training until validation scores don't improve for 50 rounds\n",
      "Did not meet early stopping. Best iteration is:\n",
      "[603]\tvalid_0's l2: 5.46904e+09\n",
      "Training until validation scores don't improve for 50 rounds\n",
      "Did not meet early stopping. Best iteration is:\n",
      "[603]\tvalid_0's l2: 5.4291e+09\n",
      "Training until validation scores don't improve for 50 rounds\n",
      "Did not meet early stopping. Best iteration is:\n",
      "[603]\tvalid_0's l2: 5.44565e+09\n",
      "Training until validation scores don't improve for 50 rounds\n",
      "Did not meet early stopping. Best iteration is:\n",
      "[603]\tvalid_0's l2: 5.42542e+09\n"
     ]
    },
    {
     "name": "stderr",
     "output_type": "stream",
     "text": [
      "[I 2024-09-23 10:12:37,560] Trial 9 finished with value: 73813.37375455751 and parameters: {'n_estimators': 603, 'num_leaves': 373, 'max_depth': 42, 'learning_rate': 0.0013992136034385533, 'subsample': 0.6243062539013847, 'colsample_bytree': 0.7712042581140022, 'reg_alpha': 2.294246403767406e-06, 'reg_lambda': 0.03354641687863073, 'min_data_in_leaf': 114, 'feature_fraction': 0.9626784364338884, 'bagging_fraction': 0.7833749622874999, 'bagging_freq': 3, 'min_child_weight': 0.00012278919376690123, 'cat_smooth': 95.03843220828843}. Best is trial 8 with value: 72558.25374943821.\n",
      "c:\\Users\\lerch\\miniconda3\\envs\\cars\\Lib\\site-packages\\lightgbm\\engine.py:204: UserWarning: Found `n_estimators` in params. Will use it instead of argument\n",
      "  _log_warning(f\"Found `{alias}` in params. Will use it instead of argument\")\n"
     ]
    },
    {
     "name": "stdout",
     "output_type": "stream",
     "text": [
      "Training until validation scores don't improve for 50 rounds\n",
      "Early stopping, best iteration is:\n",
      "[354]\tvalid_0's l2: 5.29547e+09\n"
     ]
    },
    {
     "name": "stderr",
     "output_type": "stream",
     "text": [
      "c:\\Users\\lerch\\miniconda3\\envs\\cars\\Lib\\site-packages\\lightgbm\\engine.py:204: UserWarning: Found `n_estimators` in params. Will use it instead of argument\n",
      "  _log_warning(f\"Found `{alias}` in params. Will use it instead of argument\")\n"
     ]
    },
    {
     "name": "stdout",
     "output_type": "stream",
     "text": [
      "Training until validation scores don't improve for 50 rounds\n",
      "Early stopping, best iteration is:\n",
      "[311]\tvalid_0's l2: 5.28996e+09\n"
     ]
    },
    {
     "name": "stderr",
     "output_type": "stream",
     "text": [
      "c:\\Users\\lerch\\miniconda3\\envs\\cars\\Lib\\site-packages\\lightgbm\\engine.py:204: UserWarning: Found `n_estimators` in params. Will use it instead of argument\n",
      "  _log_warning(f\"Found `{alias}` in params. Will use it instead of argument\")\n"
     ]
    },
    {
     "name": "stdout",
     "output_type": "stream",
     "text": [
      "Training until validation scores don't improve for 50 rounds\n",
      "Early stopping, best iteration is:\n",
      "[339]\tvalid_0's l2: 5.27248e+09\n"
     ]
    },
    {
     "name": "stderr",
     "output_type": "stream",
     "text": [
      "c:\\Users\\lerch\\miniconda3\\envs\\cars\\Lib\\site-packages\\lightgbm\\engine.py:204: UserWarning: Found `n_estimators` in params. Will use it instead of argument\n",
      "  _log_warning(f\"Found `{alias}` in params. Will use it instead of argument\")\n"
     ]
    },
    {
     "name": "stdout",
     "output_type": "stream",
     "text": [
      "Training until validation scores don't improve for 50 rounds\n",
      "Early stopping, best iteration is:\n",
      "[240]\tvalid_0's l2: 5.25389e+09\n"
     ]
    },
    {
     "name": "stderr",
     "output_type": "stream",
     "text": [
      "c:\\Users\\lerch\\miniconda3\\envs\\cars\\Lib\\site-packages\\lightgbm\\engine.py:204: UserWarning: Found `n_estimators` in params. Will use it instead of argument\n",
      "  _log_warning(f\"Found `{alias}` in params. Will use it instead of argument\")\n"
     ]
    },
    {
     "name": "stdout",
     "output_type": "stream",
     "text": [
      "Training until validation scores don't improve for 50 rounds\n",
      "Early stopping, best iteration is:\n",
      "[309]\tvalid_0's l2: 5.24408e+09\n"
     ]
    },
    {
     "name": "stderr",
     "output_type": "stream",
     "text": [
      "[I 2024-09-23 10:14:43,628] A new study created in memory with name: no-name-6a62e283-2065-42cb-8b89-62252fe7e8e7\n"
     ]
    },
    {
     "name": "stdout",
     "output_type": "stream",
     "text": [
      "Training until validation scores don't improve for 50 rounds\n",
      "Early stopping, best iteration is:\n",
      "[11]\tvalid_0's l2: 5.33093e+09\n",
      "Training until validation scores don't improve for 50 rounds\n",
      "Early stopping, best iteration is:\n",
      "[14]\tvalid_0's l2: 5.35309e+09\n",
      "Training until validation scores don't improve for 50 rounds\n",
      "Early stopping, best iteration is:\n",
      "[14]\tvalid_0's l2: 5.31004e+09\n",
      "Training until validation scores don't improve for 50 rounds\n",
      "Early stopping, best iteration is:\n",
      "[13]\tvalid_0's l2: 5.32967e+09\n",
      "Training until validation scores don't improve for 50 rounds\n"
     ]
    },
    {
     "name": "stderr",
     "output_type": "stream",
     "text": [
      "[I 2024-09-23 10:15:13,894] Trial 0 finished with value: 72988.51294545204 and parameters: {'n_estimators': 1040, 'num_leaves': 308, 'max_depth': 42, 'learning_rate': 0.17636469336159113, 'subsample': 0.7492535061512953, 'colsample_bytree': 0.6123983227654238, 'reg_alpha': 1.54304001490974e-06, 'reg_lambda': 1.1018509458263566, 'min_data_in_leaf': 53, 'feature_fraction': 0.5441699070870052, 'bagging_fraction': 0.8426799091838986, 'bagging_freq': 5, 'min_child_weight': 0.00010560624429728648, 'cat_smooth': 32.52312463051321}. Best is trial 0 with value: 72988.51294545204.\n"
     ]
    },
    {
     "name": "stdout",
     "output_type": "stream",
     "text": [
      "Early stopping, best iteration is:\n",
      "[14]\tvalid_0's l2: 5.31289e+09\n",
      "Training until validation scores don't improve for 50 rounds\n",
      "Early stopping, best iteration is:\n",
      "[347]\tvalid_0's l2: 5.30262e+09\n",
      "Training until validation scores don't improve for 50 rounds\n",
      "Early stopping, best iteration is:\n",
      "[392]\tvalid_0's l2: 5.27736e+09\n",
      "Training until validation scores don't improve for 50 rounds\n",
      "Early stopping, best iteration is:\n",
      "[339]\tvalid_0's l2: 5.25708e+09\n",
      "Training until validation scores don't improve for 50 rounds\n",
      "Early stopping, best iteration is:\n",
      "[395]\tvalid_0's l2: 5.2615e+09\n",
      "Training until validation scores don't improve for 50 rounds\n",
      "Early stopping, best iteration is:\n",
      "[364]\tvalid_0's l2: 5.23698e+09\n"
     ]
    },
    {
     "name": "stderr",
     "output_type": "stream",
     "text": [
      "[I 2024-09-23 10:20:34,027] Trial 1 finished with value: 72574.8483827889 and parameters: {'n_estimators': 1069, 'num_leaves': 545, 'max_depth': 46, 'learning_rate': 0.007509797119626296, 'subsample': 0.9588870612564717, 'colsample_bytree': 0.8572878916988453, 'reg_alpha': 0.0001799973901160094, 'reg_lambda': 0.0037040785712895334, 'min_data_in_leaf': 70, 'feature_fraction': 0.8370668075331726, 'bagging_fraction': 0.720916587211498, 'bagging_freq': 3, 'min_child_weight': 0.5088641679920515, 'cat_smooth': 32.59404363006922}. Best is trial 1 with value: 72574.8483827889.\n"
     ]
    },
    {
     "name": "stdout",
     "output_type": "stream",
     "text": [
      "Training until validation scores don't improve for 50 rounds\n",
      "Early stopping, best iteration is:\n",
      "[63]\tvalid_0's l2: 5.32695e+09\n",
      "Training until validation scores don't improve for 50 rounds\n",
      "Early stopping, best iteration is:\n",
      "[75]\tvalid_0's l2: 5.29366e+09\n",
      "Training until validation scores don't improve for 50 rounds\n",
      "Early stopping, best iteration is:\n",
      "[61]\tvalid_0's l2: 5.26828e+09\n",
      "Training until validation scores don't improve for 50 rounds\n",
      "Early stopping, best iteration is:\n",
      "[69]\tvalid_0's l2: 5.28476e+09\n",
      "Training until validation scores don't improve for 50 rounds\n",
      "Early stopping, best iteration is:\n",
      "[72]\tvalid_0's l2: 5.25941e+09\n"
     ]
    },
    {
     "name": "stderr",
     "output_type": "stream",
     "text": [
      "[I 2024-09-23 10:21:57,061] Trial 2 finished with value: 72709.08141101556 and parameters: {'n_estimators': 955, 'num_leaves': 541, 'max_depth': 51, 'learning_rate': 0.036723279424594156, 'subsample': 0.9543244404043341, 'colsample_bytree': 0.6596180444942726, 'reg_alpha': 3.4894428963481334e-07, 'reg_lambda': 0.015951452190168802, 'min_data_in_leaf': 49, 'feature_fraction': 0.9143406631538383, 'bagging_fraction': 0.5234481596946249, 'bagging_freq': 4, 'min_child_weight': 0.1929820588974466, 'cat_smooth': 65.96096423779524}. Best is trial 1 with value: 72574.8483827889.\n"
     ]
    },
    {
     "name": "stdout",
     "output_type": "stream",
     "text": [
      "Training until validation scores don't improve for 50 rounds\n",
      "Early stopping, best iteration is:\n",
      "[12]\tvalid_0's l2: 5.35083e+09\n",
      "Training until validation scores don't improve for 50 rounds\n",
      "Early stopping, best iteration is:\n",
      "[14]\tvalid_0's l2: 5.33589e+09\n",
      "Training until validation scores don't improve for 50 rounds\n",
      "Early stopping, best iteration is:\n",
      "[14]\tvalid_0's l2: 5.31099e+09\n",
      "Training until validation scores don't improve for 50 rounds\n",
      "Early stopping, best iteration is:\n",
      "[12]\tvalid_0's l2: 5.31068e+09\n",
      "Training until validation scores don't improve for 50 rounds\n"
     ]
    },
    {
     "name": "stderr",
     "output_type": "stream",
     "text": [
      "[I 2024-09-23 10:22:41,794] Trial 3 finished with value: 72934.01203121936 and parameters: {'n_estimators': 639, 'num_leaves': 643, 'max_depth': 27, 'learning_rate': 0.18362976337563003, 'subsample': 0.6479808534398394, 'colsample_bytree': 0.9419682397805931, 'reg_alpha': 8.97573097030888e-06, 'reg_lambda': 0.004571551229239351, 'min_data_in_leaf': 71, 'feature_fraction': 0.5467301872793251, 'bagging_fraction': 0.9105528289184642, 'bagging_freq': 1, 'min_child_weight': 0.020169108029984395, 'cat_smooth': 87.9550363117174}. Best is trial 1 with value: 72574.8483827889.\n"
     ]
    },
    {
     "name": "stdout",
     "output_type": "stream",
     "text": [
      "Early stopping, best iteration is:\n",
      "[17]\tvalid_0's l2: 5.28845e+09\n",
      "Training until validation scores don't improve for 50 rounds\n",
      "Early stopping, best iteration is:\n",
      "[453]\tvalid_0's l2: 5.30587e+09\n",
      "Training until validation scores don't improve for 50 rounds\n",
      "Early stopping, best iteration is:\n",
      "[485]\tvalid_0's l2: 5.28039e+09\n",
      "Training until validation scores don't improve for 50 rounds\n",
      "Early stopping, best iteration is:\n",
      "[445]\tvalid_0's l2: 5.25895e+09\n",
      "Training until validation scores don't improve for 50 rounds\n",
      "Early stopping, best iteration is:\n",
      "[554]\tvalid_0's l2: 5.25931e+09\n",
      "Training until validation scores don't improve for 50 rounds\n",
      "Early stopping, best iteration is:\n",
      "[476]\tvalid_0's l2: 5.23407e+09\n"
     ]
    },
    {
     "name": "stderr",
     "output_type": "stream",
     "text": [
      "[I 2024-09-23 10:28:34,427] Trial 4 finished with value: 72579.04704474087 and parameters: {'n_estimators': 1192, 'num_leaves': 482, 'max_depth': 52, 'learning_rate': 0.005677045861147304, 'subsample': 0.7986858241154422, 'colsample_bytree': 0.9514158801658137, 'reg_alpha': 0.00016119356219527467, 'reg_lambda': 0.2295120287772858, 'min_data_in_leaf': 43, 'feature_fraction': 0.6785908793172681, 'bagging_fraction': 0.5398065450779821, 'bagging_freq': 2, 'min_child_weight': 0.009645302925851532, 'cat_smooth': 59.405997991322664}. Best is trial 1 with value: 72574.8483827889.\n"
     ]
    },
    {
     "name": "stdout",
     "output_type": "stream",
     "text": [
      "Training until validation scores don't improve for 50 rounds\n",
      "Early stopping, best iteration is:\n",
      "[32]\tvalid_0's l2: 5.31832e+09\n",
      "Training until validation scores don't improve for 50 rounds\n",
      "Early stopping, best iteration is:\n",
      "[42]\tvalid_0's l2: 5.29318e+09\n",
      "Training until validation scores don't improve for 50 rounds\n",
      "Early stopping, best iteration is:\n",
      "[41]\tvalid_0's l2: 5.2633e+09\n",
      "Training until validation scores don't improve for 50 rounds\n",
      "Early stopping, best iteration is:\n",
      "[41]\tvalid_0's l2: 5.27588e+09\n",
      "Training until validation scores don't improve for 50 rounds\n"
     ]
    },
    {
     "name": "stderr",
     "output_type": "stream",
     "text": [
      "[I 2024-09-23 10:29:23,097] Trial 5 finished with value: 72670.93006372526 and parameters: {'n_estimators': 528, 'num_leaves': 472, 'max_depth': 26, 'learning_rate': 0.08118455774682055, 'subsample': 0.6731735750400165, 'colsample_bytree': 0.5215486781024972, 'reg_alpha': 0.01903229002492754, 'reg_lambda': 1.1296979705718802, 'min_data_in_leaf': 111, 'feature_fraction': 0.7087545719196335, 'bagging_fraction': 0.8027887821968784, 'bagging_freq': 3, 'min_child_weight': 0.38638467047838265, 'cat_smooth': 18.290082361212804}. Best is trial 1 with value: 72574.8483827889.\n"
     ]
    },
    {
     "name": "stdout",
     "output_type": "stream",
     "text": [
      "Early stopping, best iteration is:\n",
      "[29]\tvalid_0's l2: 5.25465e+09\n",
      "Training until validation scores don't improve for 50 rounds\n",
      "Early stopping, best iteration is:\n",
      "[447]\tvalid_0's l2: 5.31048e+09\n",
      "Training until validation scores don't improve for 50 rounds\n",
      "Early stopping, best iteration is:\n",
      "[534]\tvalid_0's l2: 5.28698e+09\n",
      "Training until validation scores don't improve for 50 rounds\n",
      "Early stopping, best iteration is:\n",
      "[474]\tvalid_0's l2: 5.26277e+09\n",
      "Training until validation scores don't improve for 50 rounds\n",
      "Early stopping, best iteration is:\n",
      "[554]\tvalid_0's l2: 5.261e+09\n",
      "Training until validation scores don't improve for 50 rounds\n",
      "Early stopping, best iteration is:\n",
      "[560]\tvalid_0's l2: 5.23068e+09\n"
     ]
    },
    {
     "name": "stderr",
     "output_type": "stream",
     "text": [
      "[I 2024-09-23 10:33:56,244] Trial 6 finished with value: 72597.40749227461 and parameters: {'n_estimators': 710, 'num_leaves': 310, 'max_depth': 25, 'learning_rate': 0.005323872255879759, 'subsample': 0.778789094331322, 'colsample_bytree': 0.7827535099440838, 'reg_alpha': 7.092404300854912e-05, 'reg_lambda': 0.01483173321964085, 'min_data_in_leaf': 45, 'feature_fraction': 0.9894095728788213, 'bagging_fraction': 0.6698539218189319, 'bagging_freq': 3, 'min_child_weight': 72.85919281852098, 'cat_smooth': 27.591405563189507}. Best is trial 1 with value: 72574.8483827889.\n"
     ]
    },
    {
     "name": "stdout",
     "output_type": "stream",
     "text": [
      "Training until validation scores don't improve for 50 rounds\n",
      "Early stopping, best iteration is:\n",
      "[5]\tvalid_0's l2: 5.36418e+09\n",
      "Training until validation scores don't improve for 50 rounds\n",
      "Early stopping, best iteration is:\n",
      "[5]\tvalid_0's l2: 5.37528e+09\n",
      "Training until validation scores don't improve for 50 rounds\n",
      "Early stopping, best iteration is:\n",
      "[4]\tvalid_0's l2: 5.34571e+09\n",
      "Training until validation scores don't improve for 50 rounds\n",
      "Early stopping, best iteration is:\n",
      "[5]\tvalid_0's l2: 5.35058e+09\n",
      "Training until validation scores don't improve for 50 rounds\n"
     ]
    },
    {
     "name": "stderr",
     "output_type": "stream",
     "text": [
      "[I 2024-09-23 10:34:33,180] Trial 7 finished with value: 73133.3946158752 and parameters: {'n_estimators': 723, 'num_leaves': 508, 'max_depth': 39, 'learning_rate': 0.3645870608221405, 'subsample': 0.534048636768975, 'colsample_bytree': 0.7322654038896663, 'reg_alpha': 0.004916937769207978, 'reg_lambda': 0.7488782916686476, 'min_data_in_leaf': 87, 'feature_fraction': 0.5185472066172039, 'bagging_fraction': 0.6753281956415664, 'bagging_freq': 3, 'min_child_weight': 0.006286070313385454, 'cat_smooth': 32.53375211168362}. Best is trial 1 with value: 72574.8483827889.\n"
     ]
    },
    {
     "name": "stdout",
     "output_type": "stream",
     "text": [
      "Early stopping, best iteration is:\n",
      "[6]\tvalid_0's l2: 5.30671e+09\n",
      "Training until validation scores don't improve for 50 rounds\n",
      "Early stopping, best iteration is:\n",
      "[248]\tvalid_0's l2: 5.29136e+09\n",
      "Training until validation scores don't improve for 50 rounds\n",
      "Early stopping, best iteration is:\n",
      "[325]\tvalid_0's l2: 5.27803e+09\n",
      "Training until validation scores don't improve for 50 rounds\n",
      "Early stopping, best iteration is:\n",
      "[228]\tvalid_0's l2: 5.26866e+09\n",
      "Training until validation scores don't improve for 50 rounds\n",
      "Early stopping, best iteration is:\n",
      "[459]\tvalid_0's l2: 5.25091e+09\n",
      "Training until validation scores don't improve for 50 rounds\n",
      "Early stopping, best iteration is:\n",
      "[235]\tvalid_0's l2: 5.24343e+09\n"
     ]
    },
    {
     "name": "stderr",
     "output_type": "stream",
     "text": [
      "[I 2024-09-23 10:36:31,167] Trial 8 finished with value: 72570.51754498151 and parameters: {'n_estimators': 972, 'num_leaves': 363, 'max_depth': 12, 'learning_rate': 0.010314487673603769, 'subsample': 0.5540318863897262, 'colsample_bytree': 0.5894514042855452, 'reg_alpha': 0.02065202190439409, 'reg_lambda': 0.02893742513973448, 'min_data_in_leaf': 57, 'feature_fraction': 0.8762480851093014, 'bagging_fraction': 0.5534397921967846, 'bagging_freq': 4, 'min_child_weight': 0.06587365495478886, 'cat_smooth': 39.651139374964735}. Best is trial 8 with value: 72570.51754498151.\n"
     ]
    },
    {
     "name": "stdout",
     "output_type": "stream",
     "text": [
      "Training until validation scores don't improve for 50 rounds\n",
      "Did not meet early stopping. Best iteration is:\n",
      "[603]\tvalid_0's l2: 5.4727e+09\n",
      "Training until validation scores don't improve for 50 rounds\n",
      "Did not meet early stopping. Best iteration is:\n",
      "[603]\tvalid_0's l2: 5.46471e+09\n",
      "Training until validation scores don't improve for 50 rounds\n",
      "Did not meet early stopping. Best iteration is:\n",
      "[603]\tvalid_0's l2: 5.41417e+09\n",
      "Training until validation scores don't improve for 50 rounds\n",
      "Did not meet early stopping. Best iteration is:\n",
      "[603]\tvalid_0's l2: 5.45146e+09\n",
      "Training until validation scores don't improve for 50 rounds\n",
      "Did not meet early stopping. Best iteration is:\n",
      "[603]\tvalid_0's l2: 5.4115e+09\n"
     ]
    },
    {
     "name": "stderr",
     "output_type": "stream",
     "text": [
      "[I 2024-09-23 10:41:49,462] Trial 9 finished with value: 73776.06249632048 and parameters: {'n_estimators': 603, 'num_leaves': 373, 'max_depth': 42, 'learning_rate': 0.0013992136034385533, 'subsample': 0.6243062539013847, 'colsample_bytree': 0.7712042581140022, 'reg_alpha': 2.294246403767406e-06, 'reg_lambda': 0.03354641687863073, 'min_data_in_leaf': 114, 'feature_fraction': 0.9626784364338884, 'bagging_fraction': 0.7833749622874999, 'bagging_freq': 3, 'min_child_weight': 0.00012278919376690123, 'cat_smooth': 95.03843220828843}. Best is trial 8 with value: 72570.51754498151.\n",
      "c:\\Users\\lerch\\miniconda3\\envs\\cars\\Lib\\site-packages\\lightgbm\\engine.py:204: UserWarning: Found `n_estimators` in params. Will use it instead of argument\n",
      "  _log_warning(f\"Found `{alias}` in params. Will use it instead of argument\")\n"
     ]
    },
    {
     "name": "stdout",
     "output_type": "stream",
     "text": [
      "Training until validation scores don't improve for 50 rounds\n",
      "Early stopping, best iteration is:\n",
      "[244]\tvalid_0's l2: 5.30998e+09\n"
     ]
    },
    {
     "name": "stderr",
     "output_type": "stream",
     "text": [
      "c:\\Users\\lerch\\miniconda3\\envs\\cars\\Lib\\site-packages\\lightgbm\\engine.py:204: UserWarning: Found `n_estimators` in params. Will use it instead of argument\n",
      "  _log_warning(f\"Found `{alias}` in params. Will use it instead of argument\")\n"
     ]
    },
    {
     "name": "stdout",
     "output_type": "stream",
     "text": [
      "Training until validation scores don't improve for 50 rounds\n",
      "Early stopping, best iteration is:\n",
      "[258]\tvalid_0's l2: 5.2825e+09\n"
     ]
    },
    {
     "name": "stderr",
     "output_type": "stream",
     "text": [
      "c:\\Users\\lerch\\miniconda3\\envs\\cars\\Lib\\site-packages\\lightgbm\\engine.py:204: UserWarning: Found `n_estimators` in params. Will use it instead of argument\n",
      "  _log_warning(f\"Found `{alias}` in params. Will use it instead of argument\")\n"
     ]
    },
    {
     "name": "stdout",
     "output_type": "stream",
     "text": [
      "Training until validation scores don't improve for 50 rounds\n",
      "Early stopping, best iteration is:\n",
      "[237]\tvalid_0's l2: 5.26817e+09\n"
     ]
    },
    {
     "name": "stderr",
     "output_type": "stream",
     "text": [
      "c:\\Users\\lerch\\miniconda3\\envs\\cars\\Lib\\site-packages\\lightgbm\\engine.py:204: UserWarning: Found `n_estimators` in params. Will use it instead of argument\n",
      "  _log_warning(f\"Found `{alias}` in params. Will use it instead of argument\")\n"
     ]
    },
    {
     "name": "stdout",
     "output_type": "stream",
     "text": [
      "Training until validation scores don't improve for 50 rounds\n",
      "Early stopping, best iteration is:\n",
      "[413]\tvalid_0's l2: 5.24535e+09\n"
     ]
    },
    {
     "name": "stderr",
     "output_type": "stream",
     "text": [
      "c:\\Users\\lerch\\miniconda3\\envs\\cars\\Lib\\site-packages\\lightgbm\\engine.py:204: UserWarning: Found `n_estimators` in params. Will use it instead of argument\n",
      "  _log_warning(f\"Found `{alias}` in params. Will use it instead of argument\")\n"
     ]
    },
    {
     "name": "stdout",
     "output_type": "stream",
     "text": [
      "Training until validation scores don't improve for 50 rounds\n",
      "Early stopping, best iteration is:\n",
      "[307]\tvalid_0's l2: 5.22778e+09\n"
     ]
    },
    {
     "name": "stderr",
     "output_type": "stream",
     "text": [
      "[I 2024-09-23 10:43:43,980] A new study created in memory with name: no-name-214d0029-6278-4095-b05d-a2de98cea0ab\n"
     ]
    },
    {
     "name": "stdout",
     "output_type": "stream",
     "text": [
      "Training until validation scores don't improve for 50 rounds\n",
      "Early stopping, best iteration is:\n",
      "[14]\tvalid_0's l2: 5.36745e+09\n",
      "Training until validation scores don't improve for 50 rounds\n",
      "Early stopping, best iteration is:\n",
      "[12]\tvalid_0's l2: 5.36486e+09\n",
      "Training until validation scores don't improve for 50 rounds\n",
      "Early stopping, best iteration is:\n",
      "[15]\tvalid_0's l2: 5.32215e+09\n",
      "Training until validation scores don't improve for 50 rounds\n",
      "Early stopping, best iteration is:\n",
      "[11]\tvalid_0's l2: 5.32635e+09\n",
      "Training until validation scores don't improve for 50 rounds\n"
     ]
    },
    {
     "name": "stderr",
     "output_type": "stream",
     "text": [
      "[I 2024-09-23 10:44:13,944] Trial 0 finished with value: 73066.46285875794 and parameters: {'n_estimators': 1040, 'num_leaves': 308, 'max_depth': 42, 'learning_rate': 0.17636469336159113, 'subsample': 0.7492535061512953, 'colsample_bytree': 0.6123983227654238, 'reg_alpha': 1.54304001490974e-06, 'reg_lambda': 1.1018509458263566, 'min_data_in_leaf': 53, 'feature_fraction': 0.5441699070870052, 'bagging_fraction': 0.8426799091838986, 'bagging_freq': 5, 'min_child_weight': 0.00010560624429728648, 'cat_smooth': 32.52312463051321}. Best is trial 0 with value: 73066.46285875794.\n"
     ]
    },
    {
     "name": "stdout",
     "output_type": "stream",
     "text": [
      "Early stopping, best iteration is:\n",
      "[12]\tvalid_0's l2: 5.31273e+09\n",
      "Training until validation scores don't improve for 50 rounds\n",
      "Early stopping, best iteration is:\n",
      "[419]\tvalid_0's l2: 5.29939e+09\n",
      "Training until validation scores don't improve for 50 rounds\n",
      "Early stopping, best iteration is:\n",
      "[368]\tvalid_0's l2: 5.27631e+09\n",
      "Training until validation scores don't improve for 50 rounds\n",
      "Early stopping, best iteration is:\n",
      "[319]\tvalid_0's l2: 5.26332e+09\n",
      "Training until validation scores don't improve for 50 rounds\n",
      "Early stopping, best iteration is:\n",
      "[331]\tvalid_0's l2: 5.2833e+09\n",
      "Training until validation scores don't improve for 50 rounds\n",
      "Early stopping, best iteration is:\n",
      "[303]\tvalid_0's l2: 5.25079e+09\n"
     ]
    },
    {
     "name": "stderr",
     "output_type": "stream",
     "text": [
      "[I 2024-09-23 10:49:15,687] Trial 1 finished with value: 72626.57520897748 and parameters: {'n_estimators': 1069, 'num_leaves': 545, 'max_depth': 46, 'learning_rate': 0.007509797119626296, 'subsample': 0.9588870612564717, 'colsample_bytree': 0.8572878916988453, 'reg_alpha': 0.0001799973901160094, 'reg_lambda': 0.0037040785712895334, 'min_data_in_leaf': 70, 'feature_fraction': 0.8370668075331726, 'bagging_fraction': 0.720916587211498, 'bagging_freq': 3, 'min_child_weight': 0.5088641679920515, 'cat_smooth': 32.59404363006922}. Best is trial 1 with value: 72626.57520897748.\n"
     ]
    },
    {
     "name": "stdout",
     "output_type": "stream",
     "text": [
      "Training until validation scores don't improve for 50 rounds\n",
      "Early stopping, best iteration is:\n",
      "[76]\tvalid_0's l2: 5.31276e+09\n",
      "Training until validation scores don't improve for 50 rounds\n",
      "Early stopping, best iteration is:\n",
      "[74]\tvalid_0's l2: 5.28789e+09\n",
      "Training until validation scores don't improve for 50 rounds\n",
      "Early stopping, best iteration is:\n",
      "[58]\tvalid_0's l2: 5.27498e+09\n",
      "Training until validation scores don't improve for 50 rounds\n",
      "Early stopping, best iteration is:\n",
      "[56]\tvalid_0's l2: 5.29591e+09\n",
      "Training until validation scores don't improve for 50 rounds\n",
      "Early stopping, best iteration is:\n",
      "[82]\tvalid_0's l2: 5.25959e+09\n"
     ]
    },
    {
     "name": "stderr",
     "output_type": "stream",
     "text": [
      "[I 2024-09-23 10:50:39,594] Trial 2 finished with value: 72706.43965002868 and parameters: {'n_estimators': 955, 'num_leaves': 541, 'max_depth': 51, 'learning_rate': 0.036723279424594156, 'subsample': 0.9543244404043341, 'colsample_bytree': 0.6596180444942726, 'reg_alpha': 3.4894428963481334e-07, 'reg_lambda': 0.015951452190168802, 'min_data_in_leaf': 49, 'feature_fraction': 0.9143406631538383, 'bagging_fraction': 0.5234481596946249, 'bagging_freq': 4, 'min_child_weight': 0.1929820588974466, 'cat_smooth': 65.96096423779524}. Best is trial 1 with value: 72626.57520897748.\n"
     ]
    },
    {
     "name": "stdout",
     "output_type": "stream",
     "text": [
      "Training until validation scores don't improve for 50 rounds\n",
      "Early stopping, best iteration is:\n",
      "[10]\tvalid_0's l2: 5.33522e+09\n",
      "Training until validation scores don't improve for 50 rounds\n",
      "Early stopping, best iteration is:\n",
      "[10]\tvalid_0's l2: 5.33697e+09\n",
      "Training until validation scores don't improve for 50 rounds\n",
      "Early stopping, best iteration is:\n",
      "[10]\tvalid_0's l2: 5.32151e+09\n",
      "Training until validation scores don't improve for 50 rounds\n",
      "Early stopping, best iteration is:\n",
      "[12]\tvalid_0's l2: 5.33128e+09\n",
      "Training until validation scores don't improve for 50 rounds\n"
     ]
    },
    {
     "name": "stderr",
     "output_type": "stream",
     "text": [
      "[I 2024-09-23 10:51:25,818] Trial 3 finished with value: 72960.49138017144 and parameters: {'n_estimators': 639, 'num_leaves': 643, 'max_depth': 27, 'learning_rate': 0.18362976337563003, 'subsample': 0.6479808534398394, 'colsample_bytree': 0.9419682397805931, 'reg_alpha': 8.97573097030888e-06, 'reg_lambda': 0.004571551229239351, 'min_data_in_leaf': 71, 'feature_fraction': 0.5467301872793251, 'bagging_fraction': 0.9105528289184642, 'bagging_freq': 1, 'min_child_weight': 0.020169108029984395, 'cat_smooth': 87.9550363117174}. Best is trial 1 with value: 72626.57520897748.\n"
     ]
    },
    {
     "name": "stdout",
     "output_type": "stream",
     "text": [
      "Early stopping, best iteration is:\n",
      "[12]\tvalid_0's l2: 5.29118e+09\n",
      "Training until validation scores don't improve for 50 rounds\n",
      "Early stopping, best iteration is:\n",
      "[488]\tvalid_0's l2: 5.30496e+09\n",
      "Training until validation scores don't improve for 50 rounds\n",
      "Early stopping, best iteration is:\n",
      "[519]\tvalid_0's l2: 5.27251e+09\n",
      "Training until validation scores don't improve for 50 rounds\n",
      "Early stopping, best iteration is:\n",
      "[482]\tvalid_0's l2: 5.2611e+09\n",
      "Training until validation scores don't improve for 50 rounds\n",
      "Early stopping, best iteration is:\n",
      "[508]\tvalid_0's l2: 5.27832e+09\n",
      "Training until validation scores don't improve for 50 rounds\n",
      "Early stopping, best iteration is:\n",
      "[433]\tvalid_0's l2: 5.24945e+09\n"
     ]
    },
    {
     "name": "stderr",
     "output_type": "stream",
     "text": [
      "[I 2024-09-23 10:57:16,181] Trial 4 finished with value: 72617.27209705696 and parameters: {'n_estimators': 1192, 'num_leaves': 482, 'max_depth': 52, 'learning_rate': 0.005677045861147304, 'subsample': 0.7986858241154422, 'colsample_bytree': 0.9514158801658137, 'reg_alpha': 0.00016119356219527467, 'reg_lambda': 0.2295120287772858, 'min_data_in_leaf': 43, 'feature_fraction': 0.6785908793172681, 'bagging_fraction': 0.5398065450779821, 'bagging_freq': 2, 'min_child_weight': 0.009645302925851532, 'cat_smooth': 59.405997991322664}. Best is trial 4 with value: 72617.27209705696.\n"
     ]
    },
    {
     "name": "stdout",
     "output_type": "stream",
     "text": [
      "Training until validation scores don't improve for 50 rounds\n",
      "Early stopping, best iteration is:\n",
      "[38]\tvalid_0's l2: 5.30989e+09\n",
      "Training until validation scores don't improve for 50 rounds\n",
      "Early stopping, best iteration is:\n",
      "[36]\tvalid_0's l2: 5.29362e+09\n",
      "Training until validation scores don't improve for 50 rounds\n",
      "Early stopping, best iteration is:\n",
      "[37]\tvalid_0's l2: 5.26732e+09\n",
      "Training until validation scores don't improve for 50 rounds\n",
      "Early stopping, best iteration is:\n",
      "[44]\tvalid_0's l2: 5.28784e+09\n",
      "Training until validation scores don't improve for 50 rounds\n"
     ]
    },
    {
     "name": "stderr",
     "output_type": "stream",
     "text": [
      "[I 2024-09-23 10:58:01,095] Trial 5 finished with value: 72694.57860107772 and parameters: {'n_estimators': 528, 'num_leaves': 472, 'max_depth': 26, 'learning_rate': 0.08118455774682055, 'subsample': 0.6731735750400165, 'colsample_bytree': 0.5215486781024972, 'reg_alpha': 0.01903229002492754, 'reg_lambda': 1.1296979705718802, 'min_data_in_leaf': 111, 'feature_fraction': 0.7087545719196335, 'bagging_fraction': 0.8027887821968784, 'bagging_freq': 3, 'min_child_weight': 0.38638467047838265, 'cat_smooth': 18.290082361212804}. Best is trial 4 with value: 72617.27209705696.\n"
     ]
    },
    {
     "name": "stdout",
     "output_type": "stream",
     "text": [
      "Early stopping, best iteration is:\n",
      "[34]\tvalid_0's l2: 5.26384e+09\n",
      "Training until validation scores don't improve for 50 rounds\n",
      "Early stopping, best iteration is:\n",
      "[528]\tvalid_0's l2: 5.2965e+09\n",
      "Training until validation scores don't improve for 50 rounds\n",
      "Early stopping, best iteration is:\n",
      "[522]\tvalid_0's l2: 5.27592e+09\n",
      "Training until validation scores don't improve for 50 rounds\n",
      "Early stopping, best iteration is:\n",
      "[493]\tvalid_0's l2: 5.26473e+09\n",
      "Training until validation scores don't improve for 50 rounds\n",
      "Early stopping, best iteration is:\n",
      "[558]\tvalid_0's l2: 5.28955e+09\n",
      "Training until validation scores don't improve for 50 rounds\n",
      "Early stopping, best iteration is:\n",
      "[438]\tvalid_0's l2: 5.25016e+09\n"
     ]
    },
    {
     "name": "stderr",
     "output_type": "stream",
     "text": [
      "[I 2024-09-23 11:02:20,244] Trial 6 finished with value: 72631.75509429623 and parameters: {'n_estimators': 710, 'num_leaves': 310, 'max_depth': 25, 'learning_rate': 0.005323872255879759, 'subsample': 0.778789094331322, 'colsample_bytree': 0.7827535099440838, 'reg_alpha': 7.092404300854912e-05, 'reg_lambda': 0.01483173321964085, 'min_data_in_leaf': 45, 'feature_fraction': 0.9894095728788213, 'bagging_fraction': 0.6698539218189319, 'bagging_freq': 3, 'min_child_weight': 72.85919281852098, 'cat_smooth': 27.591405563189507}. Best is trial 4 with value: 72617.27209705696.\n"
     ]
    },
    {
     "name": "stdout",
     "output_type": "stream",
     "text": [
      "Training until validation scores don't improve for 50 rounds\n",
      "Early stopping, best iteration is:\n",
      "[5]\tvalid_0's l2: 5.38124e+09\n",
      "Training until validation scores don't improve for 50 rounds\n",
      "Early stopping, best iteration is:\n",
      "[7]\tvalid_0's l2: 5.37548e+09\n",
      "Training until validation scores don't improve for 50 rounds\n",
      "Early stopping, best iteration is:\n",
      "[7]\tvalid_0's l2: 5.32431e+09\n",
      "Training until validation scores don't improve for 50 rounds\n",
      "Early stopping, best iteration is:\n",
      "[5]\tvalid_0's l2: 5.35438e+09\n",
      "Training until validation scores don't improve for 50 rounds\n"
     ]
    },
    {
     "name": "stderr",
     "output_type": "stream",
     "text": [
      "[I 2024-09-23 11:03:02,928] Trial 7 finished with value: 73165.88488363061 and parameters: {'n_estimators': 723, 'num_leaves': 508, 'max_depth': 39, 'learning_rate': 0.3645870608221405, 'subsample': 0.534048636768975, 'colsample_bytree': 0.7322654038896663, 'reg_alpha': 0.004916937769207978, 'reg_lambda': 0.7488782916686476, 'min_data_in_leaf': 87, 'feature_fraction': 0.5185472066172039, 'bagging_fraction': 0.6753281956415664, 'bagging_freq': 3, 'min_child_weight': 0.006286070313385454, 'cat_smooth': 32.53375211168362}. Best is trial 4 with value: 72617.27209705696.\n"
     ]
    },
    {
     "name": "stdout",
     "output_type": "stream",
     "text": [
      "Early stopping, best iteration is:\n",
      "[5]\tvalid_0's l2: 5.33083e+09\n",
      "Training until validation scores don't improve for 50 rounds\n",
      "Early stopping, best iteration is:\n",
      "[309]\tvalid_0's l2: 5.29663e+09\n",
      "Training until validation scores don't improve for 50 rounds\n",
      "Early stopping, best iteration is:\n",
      "[310]\tvalid_0's l2: 5.26369e+09\n",
      "Training until validation scores don't improve for 50 rounds\n",
      "Early stopping, best iteration is:\n",
      "[284]\tvalid_0's l2: 5.26563e+09\n",
      "Training until validation scores don't improve for 50 rounds\n",
      "Early stopping, best iteration is:\n",
      "[300]\tvalid_0's l2: 5.26617e+09\n",
      "Training until validation scores don't improve for 50 rounds\n",
      "Early stopping, best iteration is:\n",
      "[316]\tvalid_0's l2: 5.24515e+09\n"
     ]
    },
    {
     "name": "stderr",
     "output_type": "stream",
     "text": [
      "[I 2024-09-23 11:05:17,545] Trial 8 finished with value: 72577.22559927862 and parameters: {'n_estimators': 972, 'num_leaves': 363, 'max_depth': 12, 'learning_rate': 0.010314487673603769, 'subsample': 0.5540318863897262, 'colsample_bytree': 0.5894514042855452, 'reg_alpha': 0.02065202190439409, 'reg_lambda': 0.02893742513973448, 'min_data_in_leaf': 57, 'feature_fraction': 0.8762480851093014, 'bagging_fraction': 0.5534397921967846, 'bagging_freq': 4, 'min_child_weight': 0.06587365495478886, 'cat_smooth': 39.651139374964735}. Best is trial 8 with value: 72577.22559927862.\n"
     ]
    },
    {
     "name": "stdout",
     "output_type": "stream",
     "text": [
      "Training until validation scores don't improve for 50 rounds\n",
      "Did not meet early stopping. Best iteration is:\n",
      "[603]\tvalid_0's l2: 5.488e+09\n",
      "Training until validation scores don't improve for 50 rounds\n",
      "Did not meet early stopping. Best iteration is:\n",
      "[603]\tvalid_0's l2: 5.46016e+09\n",
      "Training until validation scores don't improve for 50 rounds\n",
      "Did not meet early stopping. Best iteration is:\n",
      "[603]\tvalid_0's l2: 5.42016e+09\n",
      "Training until validation scores don't improve for 50 rounds\n",
      "Did not meet early stopping. Best iteration is:\n",
      "[603]\tvalid_0's l2: 5.46672e+09\n",
      "Training until validation scores don't improve for 50 rounds\n",
      "Did not meet early stopping. Best iteration is:\n",
      "[603]\tvalid_0's l2: 5.41871e+09\n"
     ]
    },
    {
     "name": "stderr",
     "output_type": "stream",
     "text": [
      "[I 2024-09-23 11:10:38,434] Trial 9 finished with value: 73829.20000660677 and parameters: {'n_estimators': 603, 'num_leaves': 373, 'max_depth': 42, 'learning_rate': 0.0013992136034385533, 'subsample': 0.6243062539013847, 'colsample_bytree': 0.7712042581140022, 'reg_alpha': 2.294246403767406e-06, 'reg_lambda': 0.03354641687863073, 'min_data_in_leaf': 114, 'feature_fraction': 0.9626784364338884, 'bagging_fraction': 0.7833749622874999, 'bagging_freq': 3, 'min_child_weight': 0.00012278919376690123, 'cat_smooth': 95.03843220828843}. Best is trial 8 with value: 72577.22559927862.\n",
      "c:\\Users\\lerch\\miniconda3\\envs\\cars\\Lib\\site-packages\\lightgbm\\engine.py:204: UserWarning: Found `n_estimators` in params. Will use it instead of argument\n",
      "  _log_warning(f\"Found `{alias}` in params. Will use it instead of argument\")\n"
     ]
    },
    {
     "name": "stdout",
     "output_type": "stream",
     "text": [
      "Training until validation scores don't improve for 50 rounds\n",
      "Early stopping, best iteration is:\n",
      "[348]\tvalid_0's l2: 5.29358e+09\n"
     ]
    },
    {
     "name": "stderr",
     "output_type": "stream",
     "text": [
      "c:\\Users\\lerch\\miniconda3\\envs\\cars\\Lib\\site-packages\\lightgbm\\engine.py:204: UserWarning: Found `n_estimators` in params. Will use it instead of argument\n",
      "  _log_warning(f\"Found `{alias}` in params. Will use it instead of argument\")\n"
     ]
    },
    {
     "name": "stdout",
     "output_type": "stream",
     "text": [
      "Training until validation scores don't improve for 50 rounds\n",
      "Early stopping, best iteration is:\n",
      "[248]\tvalid_0's l2: 5.2747e+09\n"
     ]
    },
    {
     "name": "stderr",
     "output_type": "stream",
     "text": [
      "c:\\Users\\lerch\\miniconda3\\envs\\cars\\Lib\\site-packages\\lightgbm\\engine.py:204: UserWarning: Found `n_estimators` in params. Will use it instead of argument\n",
      "  _log_warning(f\"Found `{alias}` in params. Will use it instead of argument\")\n"
     ]
    },
    {
     "name": "stdout",
     "output_type": "stream",
     "text": [
      "Training until validation scores don't improve for 50 rounds\n",
      "Early stopping, best iteration is:\n",
      "[236]\tvalid_0's l2: 5.26485e+09\n"
     ]
    },
    {
     "name": "stderr",
     "output_type": "stream",
     "text": [
      "c:\\Users\\lerch\\miniconda3\\envs\\cars\\Lib\\site-packages\\lightgbm\\engine.py:204: UserWarning: Found `n_estimators` in params. Will use it instead of argument\n",
      "  _log_warning(f\"Found `{alias}` in params. Will use it instead of argument\")\n"
     ]
    },
    {
     "name": "stdout",
     "output_type": "stream",
     "text": [
      "Training until validation scores don't improve for 50 rounds\n",
      "Early stopping, best iteration is:\n",
      "[328]\tvalid_0's l2: 5.2803e+09\n"
     ]
    },
    {
     "name": "stderr",
     "output_type": "stream",
     "text": [
      "c:\\Users\\lerch\\miniconda3\\envs\\cars\\Lib\\site-packages\\lightgbm\\engine.py:204: UserWarning: Found `n_estimators` in params. Will use it instead of argument\n",
      "  _log_warning(f\"Found `{alias}` in params. Will use it instead of argument\")\n"
     ]
    },
    {
     "name": "stdout",
     "output_type": "stream",
     "text": [
      "Training until validation scores don't improve for 50 rounds\n",
      "Early stopping, best iteration is:\n",
      "[312]\tvalid_0's l2: 5.24697e+09\n"
     ]
    },
    {
     "name": "stderr",
     "output_type": "stream",
     "text": [
      "[I 2024-09-23 11:12:44,085] A new study created in memory with name: no-name-5980792a-2ba8-47c2-8c31-8e7947bae3f4\n"
     ]
    },
    {
     "name": "stdout",
     "output_type": "stream",
     "text": [
      "Training until validation scores don't improve for 50 rounds\n",
      "Early stopping, best iteration is:\n",
      "[11]\tvalid_0's l2: 5.33302e+09\n",
      "Training until validation scores don't improve for 50 rounds\n",
      "Early stopping, best iteration is:\n",
      "[15]\tvalid_0's l2: 5.31783e+09\n",
      "Training until validation scores don't improve for 50 rounds\n",
      "Early stopping, best iteration is:\n",
      "[13]\tvalid_0's l2: 5.29439e+09\n",
      "Training until validation scores don't improve for 50 rounds\n",
      "Early stopping, best iteration is:\n",
      "[15]\tvalid_0's l2: 5.30188e+09\n",
      "Training until validation scores don't improve for 50 rounds\n"
     ]
    },
    {
     "name": "stderr",
     "output_type": "stream",
     "text": [
      "[I 2024-09-23 11:13:15,428] Trial 0 finished with value: 72827.21456684663 and parameters: {'n_estimators': 1040, 'num_leaves': 308, 'max_depth': 42, 'learning_rate': 0.17636469336159113, 'subsample': 0.7492535061512953, 'colsample_bytree': 0.6123983227654238, 'reg_alpha': 1.54304001490974e-06, 'reg_lambda': 1.1018509458263566, 'min_data_in_leaf': 53, 'feature_fraction': 0.5441699070870052, 'bagging_fraction': 0.8426799091838986, 'bagging_freq': 5, 'min_child_weight': 0.00010560624429728648, 'cat_smooth': 32.52312463051321}. Best is trial 0 with value: 72827.21456684663.\n"
     ]
    },
    {
     "name": "stdout",
     "output_type": "stream",
     "text": [
      "Early stopping, best iteration is:\n",
      "[11]\tvalid_0's l2: 5.2719e+09\n",
      "Training until validation scores don't improve for 50 rounds\n",
      "Early stopping, best iteration is:\n",
      "[371]\tvalid_0's l2: 5.29737e+09\n",
      "Training until validation scores don't improve for 50 rounds\n",
      "Early stopping, best iteration is:\n",
      "[353]\tvalid_0's l2: 5.2627e+09\n",
      "Training until validation scores don't improve for 50 rounds\n",
      "Early stopping, best iteration is:\n",
      "[319]\tvalid_0's l2: 5.24459e+09\n",
      "Training until validation scores don't improve for 50 rounds\n",
      "Early stopping, best iteration is:\n",
      "[410]\tvalid_0's l2: 5.2421e+09\n",
      "Training until validation scores don't improve for 50 rounds\n",
      "Early stopping, best iteration is:\n",
      "[324]\tvalid_0's l2: 5.24119e+09\n"
     ]
    },
    {
     "name": "stderr",
     "output_type": "stream",
     "text": [
      "[I 2024-09-23 11:18:33,047] Trial 1 finished with value: 72509.22165307314 and parameters: {'n_estimators': 1069, 'num_leaves': 545, 'max_depth': 46, 'learning_rate': 0.007509797119626296, 'subsample': 0.9588870612564717, 'colsample_bytree': 0.8572878916988453, 'reg_alpha': 0.0001799973901160094, 'reg_lambda': 0.0037040785712895334, 'min_data_in_leaf': 70, 'feature_fraction': 0.8370668075331726, 'bagging_fraction': 0.720916587211498, 'bagging_freq': 3, 'min_child_weight': 0.5088641679920515, 'cat_smooth': 32.59404363006922}. Best is trial 1 with value: 72509.22165307314.\n"
     ]
    },
    {
     "name": "stdout",
     "output_type": "stream",
     "text": [
      "Training until validation scores don't improve for 50 rounds\n",
      "Early stopping, best iteration is:\n",
      "[56]\tvalid_0's l2: 5.31751e+09\n",
      "Training until validation scores don't improve for 50 rounds\n",
      "Early stopping, best iteration is:\n",
      "[73]\tvalid_0's l2: 5.27001e+09\n",
      "Training until validation scores don't improve for 50 rounds\n",
      "Early stopping, best iteration is:\n",
      "[60]\tvalid_0's l2: 5.26924e+09\n",
      "Training until validation scores don't improve for 50 rounds\n",
      "Early stopping, best iteration is:\n",
      "[69]\tvalid_0's l2: 5.25829e+09\n",
      "Training until validation scores don't improve for 50 rounds\n"
     ]
    },
    {
     "name": "stderr",
     "output_type": "stream",
     "text": [
      "[I 2024-09-23 11:19:57,078] Trial 2 finished with value: 72620.58535153537 and parameters: {'n_estimators': 955, 'num_leaves': 541, 'max_depth': 51, 'learning_rate': 0.036723279424594156, 'subsample': 0.9543244404043341, 'colsample_bytree': 0.6596180444942726, 'reg_alpha': 3.4894428963481334e-07, 'reg_lambda': 0.015951452190168802, 'min_data_in_leaf': 49, 'feature_fraction': 0.9143406631538383, 'bagging_fraction': 0.5234481596946249, 'bagging_freq': 4, 'min_child_weight': 0.1929820588974466, 'cat_smooth': 65.96096423779524}. Best is trial 1 with value: 72509.22165307314.\n"
     ]
    },
    {
     "name": "stdout",
     "output_type": "stream",
     "text": [
      "Early stopping, best iteration is:\n",
      "[56]\tvalid_0's l2: 5.2537e+09\n",
      "Training until validation scores don't improve for 50 rounds\n",
      "Early stopping, best iteration is:\n",
      "[11]\tvalid_0's l2: 5.34439e+09\n",
      "Training until validation scores don't improve for 50 rounds\n",
      "Early stopping, best iteration is:\n",
      "[14]\tvalid_0's l2: 5.28258e+09\n",
      "Training until validation scores don't improve for 50 rounds\n",
      "Early stopping, best iteration is:\n",
      "[13]\tvalid_0's l2: 5.27309e+09\n",
      "Training until validation scores don't improve for 50 rounds\n",
      "Early stopping, best iteration is:\n",
      "[11]\tvalid_0's l2: 5.28164e+09\n",
      "Training until validation scores don't improve for 50 rounds\n"
     ]
    },
    {
     "name": "stderr",
     "output_type": "stream",
     "text": [
      "[I 2024-09-23 11:20:39,811] Trial 3 finished with value: 72751.45881967069 and parameters: {'n_estimators': 639, 'num_leaves': 643, 'max_depth': 27, 'learning_rate': 0.18362976337563003, 'subsample': 0.6479808534398394, 'colsample_bytree': 0.9419682397805931, 'reg_alpha': 8.97573097030888e-06, 'reg_lambda': 0.004571551229239351, 'min_data_in_leaf': 71, 'feature_fraction': 0.5467301872793251, 'bagging_fraction': 0.9105528289184642, 'bagging_freq': 1, 'min_child_weight': 0.020169108029984395, 'cat_smooth': 87.9550363117174}. Best is trial 1 with value: 72509.22165307314.\n"
     ]
    },
    {
     "name": "stdout",
     "output_type": "stream",
     "text": [
      "Early stopping, best iteration is:\n",
      "[13]\tvalid_0's l2: 5.28216e+09\n",
      "Training until validation scores don't improve for 50 rounds\n",
      "Early stopping, best iteration is:\n",
      "[511]\tvalid_0's l2: 5.29794e+09\n",
      "Training until validation scores don't improve for 50 rounds\n",
      "Early stopping, best iteration is:\n",
      "[463]\tvalid_0's l2: 5.26094e+09\n",
      "Training until validation scores don't improve for 50 rounds\n",
      "Early stopping, best iteration is:\n",
      "[513]\tvalid_0's l2: 5.24423e+09\n",
      "Training until validation scores don't improve for 50 rounds\n",
      "Early stopping, best iteration is:\n",
      "[551]\tvalid_0's l2: 5.24996e+09\n",
      "Training until validation scores don't improve for 50 rounds\n",
      "Early stopping, best iteration is:\n",
      "[436]\tvalid_0's l2: 5.24188e+09\n"
     ]
    },
    {
     "name": "stderr",
     "output_type": "stream",
     "text": [
      "[I 2024-09-23 11:26:31,195] Trial 4 finished with value: 72518.89055713528 and parameters: {'n_estimators': 1192, 'num_leaves': 482, 'max_depth': 52, 'learning_rate': 0.005677045861147304, 'subsample': 0.7986858241154422, 'colsample_bytree': 0.9514158801658137, 'reg_alpha': 0.00016119356219527467, 'reg_lambda': 0.2295120287772858, 'min_data_in_leaf': 43, 'feature_fraction': 0.6785908793172681, 'bagging_fraction': 0.5398065450779821, 'bagging_freq': 2, 'min_child_weight': 0.009645302925851532, 'cat_smooth': 59.405997991322664}. Best is trial 1 with value: 72509.22165307314.\n"
     ]
    },
    {
     "name": "stdout",
     "output_type": "stream",
     "text": [
      "Training until validation scores don't improve for 50 rounds\n",
      "Early stopping, best iteration is:\n",
      "[31]\tvalid_0's l2: 5.31606e+09\n",
      "Training until validation scores don't improve for 50 rounds\n",
      "Early stopping, best iteration is:\n",
      "[41]\tvalid_0's l2: 5.27006e+09\n",
      "Training until validation scores don't improve for 50 rounds\n",
      "Early stopping, best iteration is:\n",
      "[39]\tvalid_0's l2: 5.25387e+09\n",
      "Training until validation scores don't improve for 50 rounds\n",
      "Early stopping, best iteration is:\n",
      "[32]\tvalid_0's l2: 5.25832e+09\n",
      "Training until validation scores don't improve for 50 rounds\n"
     ]
    },
    {
     "name": "stderr",
     "output_type": "stream",
     "text": [
      "[I 2024-09-23 11:27:18,844] Trial 5 finished with value: 72598.83497650268 and parameters: {'n_estimators': 528, 'num_leaves': 472, 'max_depth': 26, 'learning_rate': 0.08118455774682055, 'subsample': 0.6731735750400165, 'colsample_bytree': 0.5215486781024972, 'reg_alpha': 0.01903229002492754, 'reg_lambda': 1.1296979705718802, 'min_data_in_leaf': 111, 'feature_fraction': 0.7087545719196335, 'bagging_fraction': 0.8027887821968784, 'bagging_freq': 3, 'min_child_weight': 0.38638467047838265, 'cat_smooth': 18.290082361212804}. Best is trial 1 with value: 72509.22165307314.\n"
     ]
    },
    {
     "name": "stdout",
     "output_type": "stream",
     "text": [
      "Early stopping, best iteration is:\n",
      "[31]\tvalid_0's l2: 5.25463e+09\n",
      "Training until validation scores don't improve for 50 rounds\n",
      "Early stopping, best iteration is:\n",
      "[480]\tvalid_0's l2: 5.29965e+09\n",
      "Training until validation scores don't improve for 50 rounds\n",
      "Early stopping, best iteration is:\n",
      "[534]\tvalid_0's l2: 5.26522e+09\n",
      "Training until validation scores don't improve for 50 rounds\n",
      "Early stopping, best iteration is:\n",
      "[534]\tvalid_0's l2: 5.24693e+09\n",
      "Training until validation scores don't improve for 50 rounds\n",
      "Early stopping, best iteration is:\n",
      "[540]\tvalid_0's l2: 5.24732e+09\n",
      "Training until validation scores don't improve for 50 rounds\n",
      "Early stopping, best iteration is:\n",
      "[561]\tvalid_0's l2: 5.24361e+09\n"
     ]
    },
    {
     "name": "stderr",
     "output_type": "stream",
     "text": [
      "[I 2024-09-23 11:31:54,628] Trial 6 finished with value: 72529.6273660057 and parameters: {'n_estimators': 710, 'num_leaves': 310, 'max_depth': 25, 'learning_rate': 0.005323872255879759, 'subsample': 0.778789094331322, 'colsample_bytree': 0.7827535099440838, 'reg_alpha': 7.092404300854912e-05, 'reg_lambda': 0.01483173321964085, 'min_data_in_leaf': 45, 'feature_fraction': 0.9894095728788213, 'bagging_fraction': 0.6698539218189319, 'bagging_freq': 3, 'min_child_weight': 72.85919281852098, 'cat_smooth': 27.591405563189507}. Best is trial 1 with value: 72509.22165307314.\n"
     ]
    },
    {
     "name": "stdout",
     "output_type": "stream",
     "text": [
      "Training until validation scores don't improve for 50 rounds\n",
      "Early stopping, best iteration is:\n",
      "[5]\tvalid_0's l2: 5.38577e+09\n",
      "Training until validation scores don't improve for 50 rounds\n",
      "Early stopping, best iteration is:\n",
      "[7]\tvalid_0's l2: 5.3203e+09\n",
      "Training until validation scores don't improve for 50 rounds\n",
      "Early stopping, best iteration is:\n",
      "[5]\tvalid_0's l2: 5.32201e+09\n",
      "Training until validation scores don't improve for 50 rounds\n",
      "Early stopping, best iteration is:\n",
      "[7]\tvalid_0's l2: 5.31366e+09\n",
      "Training until validation scores don't improve for 50 rounds\n"
     ]
    },
    {
     "name": "stderr",
     "output_type": "stream",
     "text": [
      "[I 2024-09-23 11:32:38,745] Trial 7 finished with value: 73009.59517912431 and parameters: {'n_estimators': 723, 'num_leaves': 508, 'max_depth': 39, 'learning_rate': 0.3645870608221405, 'subsample': 0.534048636768975, 'colsample_bytree': 0.7322654038896663, 'reg_alpha': 0.004916937769207978, 'reg_lambda': 0.7488782916686476, 'min_data_in_leaf': 87, 'feature_fraction': 0.5185472066172039, 'bagging_fraction': 0.6753281956415664, 'bagging_freq': 3, 'min_child_weight': 0.006286070313385454, 'cat_smooth': 32.53375211168362}. Best is trial 1 with value: 72509.22165307314.\n"
     ]
    },
    {
     "name": "stdout",
     "output_type": "stream",
     "text": [
      "Early stopping, best iteration is:\n",
      "[6]\tvalid_0's l2: 5.31027e+09\n",
      "Training until validation scores don't improve for 50 rounds\n",
      "Early stopping, best iteration is:\n",
      "[344]\tvalid_0's l2: 5.28598e+09\n",
      "Training until validation scores don't improve for 50 rounds\n",
      "Early stopping, best iteration is:\n",
      "[314]\tvalid_0's l2: 5.26168e+09\n",
      "Training until validation scores don't improve for 50 rounds\n",
      "Early stopping, best iteration is:\n",
      "[271]\tvalid_0's l2: 5.24278e+09\n",
      "Training until validation scores don't improve for 50 rounds\n",
      "Early stopping, best iteration is:\n",
      "[278]\tvalid_0's l2: 5.23838e+09\n",
      "Training until validation scores don't improve for 50 rounds\n",
      "Early stopping, best iteration is:\n",
      "[259]\tvalid_0's l2: 5.23699e+09\n"
     ]
    },
    {
     "name": "stderr",
     "output_type": "stream",
     "text": [
      "[I 2024-09-23 11:34:37,929] Trial 8 finished with value: 72478.70911921452 and parameters: {'n_estimators': 972, 'num_leaves': 363, 'max_depth': 12, 'learning_rate': 0.010314487673603769, 'subsample': 0.5540318863897262, 'colsample_bytree': 0.5894514042855452, 'reg_alpha': 0.02065202190439409, 'reg_lambda': 0.02893742513973448, 'min_data_in_leaf': 57, 'feature_fraction': 0.8762480851093014, 'bagging_fraction': 0.5534397921967846, 'bagging_freq': 4, 'min_child_weight': 0.06587365495478886, 'cat_smooth': 39.651139374964735}. Best is trial 8 with value: 72478.70911921452.\n"
     ]
    },
    {
     "name": "stdout",
     "output_type": "stream",
     "text": [
      "Training until validation scores don't improve for 50 rounds\n",
      "Did not meet early stopping. Best iteration is:\n",
      "[603]\tvalid_0's l2: 5.47754e+09\n",
      "Training until validation scores don't improve for 50 rounds\n",
      "Did not meet early stopping. Best iteration is:\n",
      "[603]\tvalid_0's l2: 5.45075e+09\n",
      "Training until validation scores don't improve for 50 rounds\n",
      "Did not meet early stopping. Best iteration is:\n",
      "[603]\tvalid_0's l2: 5.41557e+09\n",
      "Training until validation scores don't improve for 50 rounds\n",
      "Did not meet early stopping. Best iteration is:\n",
      "[603]\tvalid_0's l2: 5.45129e+09\n",
      "Training until validation scores don't improve for 50 rounds\n",
      "Did not meet early stopping. Best iteration is:\n",
      "[603]\tvalid_0's l2: 5.41612e+09\n"
     ]
    },
    {
     "name": "stderr",
     "output_type": "stream",
     "text": [
      "[I 2024-09-23 11:39:58,429] Trial 9 finished with value: 73771.62821694312 and parameters: {'n_estimators': 603, 'num_leaves': 373, 'max_depth': 42, 'learning_rate': 0.0013992136034385533, 'subsample': 0.6243062539013847, 'colsample_bytree': 0.7712042581140022, 'reg_alpha': 2.294246403767406e-06, 'reg_lambda': 0.03354641687863073, 'min_data_in_leaf': 114, 'feature_fraction': 0.9626784364338884, 'bagging_fraction': 0.7833749622874999, 'bagging_freq': 3, 'min_child_weight': 0.00012278919376690123, 'cat_smooth': 95.03843220828843}. Best is trial 8 with value: 72478.70911921452.\n",
      "c:\\Users\\lerch\\miniconda3\\envs\\cars\\Lib\\site-packages\\lightgbm\\engine.py:204: UserWarning: Found `n_estimators` in params. Will use it instead of argument\n",
      "  _log_warning(f\"Found `{alias}` in params. Will use it instead of argument\")\n"
     ]
    },
    {
     "name": "stdout",
     "output_type": "stream",
     "text": [
      "Training until validation scores don't improve for 50 rounds\n",
      "Early stopping, best iteration is:\n",
      "[348]\tvalid_0's l2: 5.29365e+09\n"
     ]
    },
    {
     "name": "stderr",
     "output_type": "stream",
     "text": [
      "c:\\Users\\lerch\\miniconda3\\envs\\cars\\Lib\\site-packages\\lightgbm\\engine.py:204: UserWarning: Found `n_estimators` in params. Will use it instead of argument\n",
      "  _log_warning(f\"Found `{alias}` in params. Will use it instead of argument\")\n"
     ]
    },
    {
     "name": "stdout",
     "output_type": "stream",
     "text": [
      "Training until validation scores don't improve for 50 rounds\n",
      "Early stopping, best iteration is:\n",
      "[292]\tvalid_0's l2: 5.2561e+09\n"
     ]
    },
    {
     "name": "stderr",
     "output_type": "stream",
     "text": [
      "c:\\Users\\lerch\\miniconda3\\envs\\cars\\Lib\\site-packages\\lightgbm\\engine.py:204: UserWarning: Found `n_estimators` in params. Will use it instead of argument\n",
      "  _log_warning(f\"Found `{alias}` in params. Will use it instead of argument\")\n"
     ]
    },
    {
     "name": "stdout",
     "output_type": "stream",
     "text": [
      "Training until validation scores don't improve for 50 rounds\n",
      "Early stopping, best iteration is:\n",
      "[346]\tvalid_0's l2: 5.24227e+09\n"
     ]
    },
    {
     "name": "stderr",
     "output_type": "stream",
     "text": [
      "c:\\Users\\lerch\\miniconda3\\envs\\cars\\Lib\\site-packages\\lightgbm\\engine.py:204: UserWarning: Found `n_estimators` in params. Will use it instead of argument\n",
      "  _log_warning(f\"Found `{alias}` in params. Will use it instead of argument\")\n"
     ]
    },
    {
     "name": "stdout",
     "output_type": "stream",
     "text": [
      "Training until validation scores don't improve for 50 rounds\n",
      "Early stopping, best iteration is:\n",
      "[320]\tvalid_0's l2: 5.24422e+09\n"
     ]
    },
    {
     "name": "stderr",
     "output_type": "stream",
     "text": [
      "c:\\Users\\lerch\\miniconda3\\envs\\cars\\Lib\\site-packages\\lightgbm\\engine.py:204: UserWarning: Found `n_estimators` in params. Will use it instead of argument\n",
      "  _log_warning(f\"Found `{alias}` in params. Will use it instead of argument\")\n"
     ]
    },
    {
     "name": "stdout",
     "output_type": "stream",
     "text": [
      "Training until validation scores don't improve for 50 rounds\n",
      "Early stopping, best iteration is:\n",
      "[307]\tvalid_0's l2: 5.23297e+09\n"
     ]
    },
    {
     "name": "stderr",
     "output_type": "stream",
     "text": [
      "[I 2024-09-23 11:42:12,829] A new study created in memory with name: no-name-05cd31e7-5a4a-4b1a-8af3-27723d813d6c\n"
     ]
    },
    {
     "name": "stdout",
     "output_type": "stream",
     "text": [
      "Training until validation scores don't improve for 50 rounds\n",
      "Early stopping, best iteration is:\n",
      "[13]\tvalid_0's l2: 5.36008e+09\n",
      "Training until validation scores don't improve for 50 rounds\n",
      "Early stopping, best iteration is:\n",
      "[10]\tvalid_0's l2: 5.32311e+09\n",
      "Training until validation scores don't improve for 50 rounds\n",
      "Early stopping, best iteration is:\n",
      "[12]\tvalid_0's l2: 5.29675e+09\n",
      "Training until validation scores don't improve for 50 rounds\n",
      "Early stopping, best iteration is:\n",
      "[13]\tvalid_0's l2: 5.33215e+09\n",
      "Training until validation scores don't improve for 50 rounds\n"
     ]
    },
    {
     "name": "stderr",
     "output_type": "stream",
     "text": [
      "[I 2024-09-23 11:42:43,595] Trial 0 finished with value: 72916.17724516097 and parameters: {'n_estimators': 1040, 'num_leaves': 308, 'max_depth': 42, 'learning_rate': 0.17636469336159113, 'subsample': 0.7492535061512953, 'colsample_bytree': 0.6123983227654238, 'reg_alpha': 1.54304001490974e-06, 'reg_lambda': 1.1018509458263566, 'min_data_in_leaf': 53, 'feature_fraction': 0.5441699070870052, 'bagging_fraction': 0.8426799091838986, 'bagging_freq': 5, 'min_child_weight': 0.00010560624429728648, 'cat_smooth': 32.52312463051321}. Best is trial 0 with value: 72916.17724516097.\n"
     ]
    },
    {
     "name": "stdout",
     "output_type": "stream",
     "text": [
      "Early stopping, best iteration is:\n",
      "[11]\tvalid_0's l2: 5.27175e+09\n",
      "Training until validation scores don't improve for 50 rounds\n",
      "Early stopping, best iteration is:\n",
      "[332]\tvalid_0's l2: 5.30168e+09\n",
      "Training until validation scores don't improve for 50 rounds\n",
      "Early stopping, best iteration is:\n",
      "[350]\tvalid_0's l2: 5.26296e+09\n",
      "Training until validation scores don't improve for 50 rounds\n",
      "Early stopping, best iteration is:\n",
      "[332]\tvalid_0's l2: 5.25292e+09\n",
      "Training until validation scores don't improve for 50 rounds\n",
      "Early stopping, best iteration is:\n",
      "[387]\tvalid_0's l2: 5.26004e+09\n",
      "Training until validation scores don't improve for 50 rounds\n",
      "Early stopping, best iteration is:\n",
      "[451]\tvalid_0's l2: 5.20899e+09\n"
     ]
    },
    {
     "name": "stderr",
     "output_type": "stream",
     "text": [
      "[I 2024-09-23 11:48:11,915] Trial 1 finished with value: 72507.36990438898 and parameters: {'n_estimators': 1069, 'num_leaves': 545, 'max_depth': 46, 'learning_rate': 0.007509797119626296, 'subsample': 0.9588870612564717, 'colsample_bytree': 0.8572878916988453, 'reg_alpha': 0.0001799973901160094, 'reg_lambda': 0.0037040785712895334, 'min_data_in_leaf': 70, 'feature_fraction': 0.8370668075331726, 'bagging_fraction': 0.720916587211498, 'bagging_freq': 3, 'min_child_weight': 0.5088641679920515, 'cat_smooth': 32.59404363006922}. Best is trial 1 with value: 72507.36990438898.\n"
     ]
    },
    {
     "name": "stdout",
     "output_type": "stream",
     "text": [
      "Training until validation scores don't improve for 50 rounds\n",
      "Early stopping, best iteration is:\n",
      "[58]\tvalid_0's l2: 5.31663e+09\n",
      "Training until validation scores don't improve for 50 rounds\n",
      "Early stopping, best iteration is:\n",
      "[76]\tvalid_0's l2: 5.28197e+09\n",
      "Training until validation scores don't improve for 50 rounds\n",
      "Early stopping, best iteration is:\n",
      "[70]\tvalid_0's l2: 5.26485e+09\n",
      "Training until validation scores don't improve for 50 rounds\n",
      "Early stopping, best iteration is:\n",
      "[63]\tvalid_0's l2: 5.29108e+09\n",
      "Training until validation scores don't improve for 50 rounds\n",
      "Early stopping, best iteration is:\n",
      "[90]\tvalid_0's l2: 5.22718e+09\n"
     ]
    },
    {
     "name": "stderr",
     "output_type": "stream",
     "text": [
      "[I 2024-09-23 11:49:43,729] Trial 2 finished with value: 72638.4480525604 and parameters: {'n_estimators': 955, 'num_leaves': 541, 'max_depth': 51, 'learning_rate': 0.036723279424594156, 'subsample': 0.9543244404043341, 'colsample_bytree': 0.6596180444942726, 'reg_alpha': 3.4894428963481334e-07, 'reg_lambda': 0.015951452190168802, 'min_data_in_leaf': 49, 'feature_fraction': 0.9143406631538383, 'bagging_fraction': 0.5234481596946249, 'bagging_freq': 4, 'min_child_weight': 0.1929820588974466, 'cat_smooth': 65.96096423779524}. Best is trial 1 with value: 72507.36990438898.\n"
     ]
    },
    {
     "name": "stdout",
     "output_type": "stream",
     "text": [
      "Training until validation scores don't improve for 50 rounds\n",
      "Early stopping, best iteration is:\n",
      "[15]\tvalid_0's l2: 5.35828e+09\n",
      "Training until validation scores don't improve for 50 rounds\n",
      "Early stopping, best iteration is:\n",
      "[11]\tvalid_0's l2: 5.32271e+09\n",
      "Training until validation scores don't improve for 50 rounds\n",
      "Early stopping, best iteration is:\n",
      "[12]\tvalid_0's l2: 5.2775e+09\n",
      "Training until validation scores don't improve for 50 rounds\n",
      "Early stopping, best iteration is:\n",
      "[13]\tvalid_0's l2: 5.31815e+09\n",
      "Training until validation scores don't improve for 50 rounds\n"
     ]
    },
    {
     "name": "stderr",
     "output_type": "stream",
     "text": [
      "[I 2024-09-23 11:50:27,125] Trial 3 finished with value: 72892.71167202752 and parameters: {'n_estimators': 639, 'num_leaves': 643, 'max_depth': 27, 'learning_rate': 0.18362976337563003, 'subsample': 0.6479808534398394, 'colsample_bytree': 0.9419682397805931, 'reg_alpha': 8.97573097030888e-06, 'reg_lambda': 0.004571551229239351, 'min_data_in_leaf': 71, 'feature_fraction': 0.5467301872793251, 'bagging_fraction': 0.9105528289184642, 'bagging_freq': 1, 'min_child_weight': 0.020169108029984395, 'cat_smooth': 87.9550363117174}. Best is trial 1 with value: 72507.36990438898.\n"
     ]
    },
    {
     "name": "stdout",
     "output_type": "stream",
     "text": [
      "Early stopping, best iteration is:\n",
      "[10]\tvalid_0's l2: 5.2901e+09\n",
      "Training until validation scores don't improve for 50 rounds\n",
      "Early stopping, best iteration is:\n",
      "[392]\tvalid_0's l2: 5.30536e+09\n",
      "Training until validation scores don't improve for 50 rounds\n",
      "Early stopping, best iteration is:\n",
      "[484]\tvalid_0's l2: 5.26139e+09\n",
      "Training until validation scores don't improve for 50 rounds\n",
      "Early stopping, best iteration is:\n",
      "[490]\tvalid_0's l2: 5.25685e+09\n",
      "Training until validation scores don't improve for 50 rounds\n",
      "Early stopping, best iteration is:\n",
      "[550]\tvalid_0's l2: 5.26289e+09\n",
      "Training until validation scores don't improve for 50 rounds\n",
      "Early stopping, best iteration is:\n",
      "[504]\tvalid_0's l2: 5.21519e+09\n"
     ]
    },
    {
     "name": "stderr",
     "output_type": "stream",
     "text": [
      "[I 2024-09-23 11:56:31,121] Trial 4 finished with value: 72528.17908638009 and parameters: {'n_estimators': 1192, 'num_leaves': 482, 'max_depth': 52, 'learning_rate': 0.005677045861147304, 'subsample': 0.7986858241154422, 'colsample_bytree': 0.9514158801658137, 'reg_alpha': 0.00016119356219527467, 'reg_lambda': 0.2295120287772858, 'min_data_in_leaf': 43, 'feature_fraction': 0.6785908793172681, 'bagging_fraction': 0.5398065450779821, 'bagging_freq': 2, 'min_child_weight': 0.009645302925851532, 'cat_smooth': 59.405997991322664}. Best is trial 1 with value: 72507.36990438898.\n"
     ]
    },
    {
     "name": "stdout",
     "output_type": "stream",
     "text": [
      "Training until validation scores don't improve for 50 rounds\n",
      "Early stopping, best iteration is:\n",
      "[28]\tvalid_0's l2: 5.31206e+09\n",
      "Training until validation scores don't improve for 50 rounds\n",
      "Early stopping, best iteration is:\n",
      "[37]\tvalid_0's l2: 5.27335e+09\n",
      "Training until validation scores don't improve for 50 rounds\n",
      "Early stopping, best iteration is:\n",
      "[36]\tvalid_0's l2: 5.2593e+09\n",
      "Training until validation scores don't improve for 50 rounds\n",
      "Early stopping, best iteration is:\n",
      "[31]\tvalid_0's l2: 5.26324e+09\n",
      "Training until validation scores don't improve for 50 rounds\n"
     ]
    },
    {
     "name": "stderr",
     "output_type": "stream",
     "text": [
      "[I 2024-09-23 11:57:21,518] Trial 5 finished with value: 72579.7252002762 and parameters: {'n_estimators': 528, 'num_leaves': 472, 'max_depth': 26, 'learning_rate': 0.08118455774682055, 'subsample': 0.6731735750400165, 'colsample_bytree': 0.5215486781024972, 'reg_alpha': 0.01903229002492754, 'reg_lambda': 1.1296979705718802, 'min_data_in_leaf': 111, 'feature_fraction': 0.7087545719196335, 'bagging_fraction': 0.8027887821968784, 'bagging_freq': 3, 'min_child_weight': 0.38638467047838265, 'cat_smooth': 18.290082361212804}. Best is trial 1 with value: 72507.36990438898.\n"
     ]
    },
    {
     "name": "stdout",
     "output_type": "stream",
     "text": [
      "Early stopping, best iteration is:\n",
      "[43]\tvalid_0's l2: 5.23113e+09\n",
      "Training until validation scores don't improve for 50 rounds\n",
      "Early stopping, best iteration is:\n",
      "[502]\tvalid_0's l2: 5.30075e+09\n",
      "Training until validation scores don't improve for 50 rounds\n",
      "Early stopping, best iteration is:\n",
      "[537]\tvalid_0's l2: 5.26691e+09\n",
      "Training until validation scores don't improve for 50 rounds\n",
      "Early stopping, best iteration is:\n",
      "[570]\tvalid_0's l2: 5.24533e+09\n",
      "Training until validation scores don't improve for 50 rounds\n",
      "Early stopping, best iteration is:\n",
      "[513]\tvalid_0's l2: 5.26028e+09\n",
      "Training until validation scores don't improve for 50 rounds\n",
      "Early stopping, best iteration is:\n",
      "[588]\tvalid_0's l2: 5.2022e+09\n"
     ]
    },
    {
     "name": "stderr",
     "output_type": "stream",
     "text": [
      "[I 2024-09-23 12:02:07,686] Trial 6 finished with value: 72492.024696457 and parameters: {'n_estimators': 710, 'num_leaves': 310, 'max_depth': 25, 'learning_rate': 0.005323872255879759, 'subsample': 0.778789094331322, 'colsample_bytree': 0.7827535099440838, 'reg_alpha': 7.092404300854912e-05, 'reg_lambda': 0.01483173321964085, 'min_data_in_leaf': 45, 'feature_fraction': 0.9894095728788213, 'bagging_fraction': 0.6698539218189319, 'bagging_freq': 3, 'min_child_weight': 72.85919281852098, 'cat_smooth': 27.591405563189507}. Best is trial 6 with value: 72492.024696457.\n"
     ]
    },
    {
     "name": "stdout",
     "output_type": "stream",
     "text": [
      "Training until validation scores don't improve for 50 rounds\n",
      "Early stopping, best iteration is:\n",
      "[5]\tvalid_0's l2: 5.36797e+09\n",
      "Training until validation scores don't improve for 50 rounds\n",
      "Early stopping, best iteration is:\n",
      "[5]\tvalid_0's l2: 5.32678e+09\n",
      "Training until validation scores don't improve for 50 rounds\n",
      "Early stopping, best iteration is:\n",
      "[6]\tvalid_0's l2: 5.32808e+09\n",
      "Training until validation scores don't improve for 50 rounds\n",
      "Early stopping, best iteration is:\n",
      "[5]\tvalid_0's l2: 5.33665e+09\n",
      "Training until validation scores don't improve for 50 rounds\n"
     ]
    },
    {
     "name": "stderr",
     "output_type": "stream",
     "text": [
      "[I 2024-09-23 12:02:47,079] Trial 7 finished with value: 73024.53538348353 and parameters: {'n_estimators': 723, 'num_leaves': 508, 'max_depth': 39, 'learning_rate': 0.3645870608221405, 'subsample': 0.534048636768975, 'colsample_bytree': 0.7322654038896663, 'reg_alpha': 0.004916937769207978, 'reg_lambda': 0.7488782916686476, 'min_data_in_leaf': 87, 'feature_fraction': 0.5185472066172039, 'bagging_fraction': 0.6753281956415664, 'bagging_freq': 3, 'min_child_weight': 0.006286070313385454, 'cat_smooth': 32.53375211168362}. Best is trial 6 with value: 72492.024696457.\n"
     ]
    },
    {
     "name": "stdout",
     "output_type": "stream",
     "text": [
      "Early stopping, best iteration is:\n",
      "[7]\tvalid_0's l2: 5.30342e+09\n",
      "Training until validation scores don't improve for 50 rounds\n",
      "Early stopping, best iteration is:\n",
      "[280]\tvalid_0's l2: 5.29009e+09\n",
      "Training until validation scores don't improve for 50 rounds\n",
      "Early stopping, best iteration is:\n",
      "[284]\tvalid_0's l2: 5.26146e+09\n",
      "Training until validation scores don't improve for 50 rounds\n",
      "Early stopping, best iteration is:\n",
      "[291]\tvalid_0's l2: 5.2546e+09\n",
      "Training until validation scores don't improve for 50 rounds\n",
      "Early stopping, best iteration is:\n",
      "[284]\tvalid_0's l2: 5.2408e+09\n",
      "Training until validation scores don't improve for 50 rounds\n",
      "Early stopping, best iteration is:\n",
      "[403]\tvalid_0's l2: 5.19795e+09\n"
     ]
    },
    {
     "name": "stderr",
     "output_type": "stream",
     "text": [
      "[I 2024-09-23 12:04:58,162] Trial 8 finished with value: 72449.8637391526 and parameters: {'n_estimators': 972, 'num_leaves': 363, 'max_depth': 12, 'learning_rate': 0.010314487673603769, 'subsample': 0.5540318863897262, 'colsample_bytree': 0.5894514042855452, 'reg_alpha': 0.02065202190439409, 'reg_lambda': 0.02893742513973448, 'min_data_in_leaf': 57, 'feature_fraction': 0.8762480851093014, 'bagging_fraction': 0.5534397921967846, 'bagging_freq': 4, 'min_child_weight': 0.06587365495478886, 'cat_smooth': 39.651139374964735}. Best is trial 8 with value: 72449.8637391526.\n"
     ]
    },
    {
     "name": "stdout",
     "output_type": "stream",
     "text": [
      "Training until validation scores don't improve for 50 rounds\n",
      "Did not meet early stopping. Best iteration is:\n",
      "[603]\tvalid_0's l2: 5.47367e+09\n",
      "Training until validation scores don't improve for 50 rounds\n",
      "Did not meet early stopping. Best iteration is:\n",
      "[603]\tvalid_0's l2: 5.44847e+09\n",
      "Training until validation scores don't improve for 50 rounds\n",
      "Did not meet early stopping. Best iteration is:\n",
      "[603]\tvalid_0's l2: 5.4181e+09\n",
      "Training until validation scores don't improve for 50 rounds\n",
      "Did not meet early stopping. Best iteration is:\n",
      "[603]\tvalid_0's l2: 5.44296e+09\n",
      "Training until validation scores don't improve for 50 rounds\n",
      "Did not meet early stopping. Best iteration is:\n",
      "[603]\tvalid_0's l2: 5.39338e+09\n"
     ]
    },
    {
     "name": "stderr",
     "output_type": "stream",
     "text": [
      "[I 2024-09-23 12:10:29,479] Trial 9 finished with value: 73724.59031397075 and parameters: {'n_estimators': 603, 'num_leaves': 373, 'max_depth': 42, 'learning_rate': 0.0013992136034385533, 'subsample': 0.6243062539013847, 'colsample_bytree': 0.7712042581140022, 'reg_alpha': 2.294246403767406e-06, 'reg_lambda': 0.03354641687863073, 'min_data_in_leaf': 114, 'feature_fraction': 0.9626784364338884, 'bagging_fraction': 0.7833749622874999, 'bagging_freq': 3, 'min_child_weight': 0.00012278919376690123, 'cat_smooth': 95.03843220828843}. Best is trial 8 with value: 72449.8637391526.\n",
      "c:\\Users\\lerch\\miniconda3\\envs\\cars\\Lib\\site-packages\\lightgbm\\engine.py:204: UserWarning: Found `n_estimators` in params. Will use it instead of argument\n",
      "  _log_warning(f\"Found `{alias}` in params. Will use it instead of argument\")\n"
     ]
    },
    {
     "name": "stdout",
     "output_type": "stream",
     "text": [
      "Training until validation scores don't improve for 50 rounds\n",
      "Early stopping, best iteration is:\n",
      "[270]\tvalid_0's l2: 5.30721e+09\n"
     ]
    },
    {
     "name": "stderr",
     "output_type": "stream",
     "text": [
      "c:\\Users\\lerch\\miniconda3\\envs\\cars\\Lib\\site-packages\\lightgbm\\engine.py:204: UserWarning: Found `n_estimators` in params. Will use it instead of argument\n",
      "  _log_warning(f\"Found `{alias}` in params. Will use it instead of argument\")\n"
     ]
    },
    {
     "name": "stdout",
     "output_type": "stream",
     "text": [
      "Training until validation scores don't improve for 50 rounds\n",
      "Early stopping, best iteration is:\n",
      "[248]\tvalid_0's l2: 5.27821e+09\n"
     ]
    },
    {
     "name": "stderr",
     "output_type": "stream",
     "text": [
      "c:\\Users\\lerch\\miniconda3\\envs\\cars\\Lib\\site-packages\\lightgbm\\engine.py:204: UserWarning: Found `n_estimators` in params. Will use it instead of argument\n",
      "  _log_warning(f\"Found `{alias}` in params. Will use it instead of argument\")\n"
     ]
    },
    {
     "name": "stdout",
     "output_type": "stream",
     "text": [
      "Training until validation scores don't improve for 50 rounds\n",
      "Early stopping, best iteration is:\n",
      "[304]\tvalid_0's l2: 5.24396e+09\n"
     ]
    },
    {
     "name": "stderr",
     "output_type": "stream",
     "text": [
      "c:\\Users\\lerch\\miniconda3\\envs\\cars\\Lib\\site-packages\\lightgbm\\engine.py:204: UserWarning: Found `n_estimators` in params. Will use it instead of argument\n",
      "  _log_warning(f\"Found `{alias}` in params. Will use it instead of argument\")\n"
     ]
    },
    {
     "name": "stdout",
     "output_type": "stream",
     "text": [
      "Training until validation scores don't improve for 50 rounds\n",
      "Early stopping, best iteration is:\n",
      "[263]\tvalid_0's l2: 5.25339e+09\n"
     ]
    },
    {
     "name": "stderr",
     "output_type": "stream",
     "text": [
      "c:\\Users\\lerch\\miniconda3\\envs\\cars\\Lib\\site-packages\\lightgbm\\engine.py:204: UserWarning: Found `n_estimators` in params. Will use it instead of argument\n",
      "  _log_warning(f\"Found `{alias}` in params. Will use it instead of argument\")\n"
     ]
    },
    {
     "name": "stdout",
     "output_type": "stream",
     "text": [
      "Training until validation scores don't improve for 50 rounds\n",
      "Early stopping, best iteration is:\n",
      "[324]\tvalid_0's l2: 5.19652e+09\n"
     ]
    },
    {
     "name": "stderr",
     "output_type": "stream",
     "text": [
      "[I 2024-09-23 12:12:34,729] A new study created in memory with name: no-name-c668e899-60a9-4d7c-8dcc-d5a6467120b0\n"
     ]
    },
    {
     "name": "stdout",
     "output_type": "stream",
     "text": [
      "Training until validation scores don't improve for 50 rounds\n",
      "Early stopping, best iteration is:\n",
      "[11]\tvalid_0's l2: 5.34004e+09\n",
      "Training until validation scores don't improve for 50 rounds\n",
      "Early stopping, best iteration is:\n",
      "[12]\tvalid_0's l2: 5.33576e+09\n",
      "Training until validation scores don't improve for 50 rounds\n",
      "Early stopping, best iteration is:\n",
      "[13]\tvalid_0's l2: 5.3085e+09\n",
      "Training until validation scores don't improve for 50 rounds\n",
      "Early stopping, best iteration is:\n",
      "[13]\tvalid_0's l2: 5.31782e+09\n",
      "Training until validation scores don't improve for 50 rounds\n"
     ]
    },
    {
     "name": "stderr",
     "output_type": "stream",
     "text": [
      "[I 2024-09-23 12:13:06,379] Trial 0 finished with value: 72925.4517342934 and parameters: {'n_estimators': 1040, 'num_leaves': 308, 'max_depth': 42, 'learning_rate': 0.17636469336159113, 'subsample': 0.7492535061512953, 'colsample_bytree': 0.6123983227654238, 'reg_alpha': 1.54304001490974e-06, 'reg_lambda': 1.1018509458263566, 'min_data_in_leaf': 53, 'feature_fraction': 0.5441699070870052, 'bagging_fraction': 0.8426799091838986, 'bagging_freq': 5, 'min_child_weight': 0.00010560624429728648, 'cat_smooth': 32.52312463051321}. Best is trial 0 with value: 72925.4517342934.\n"
     ]
    },
    {
     "name": "stdout",
     "output_type": "stream",
     "text": [
      "Early stopping, best iteration is:\n",
      "[21]\tvalid_0's l2: 5.28849e+09\n",
      "Training until validation scores don't improve for 50 rounds\n",
      "Early stopping, best iteration is:\n",
      "[354]\tvalid_0's l2: 5.28828e+09\n",
      "Training until validation scores don't improve for 50 rounds\n",
      "Early stopping, best iteration is:\n",
      "[389]\tvalid_0's l2: 5.27489e+09\n",
      "Training until validation scores don't improve for 50 rounds\n",
      "Early stopping, best iteration is:\n",
      "[384]\tvalid_0's l2: 5.2517e+09\n",
      "Training until validation scores don't improve for 50 rounds\n",
      "Early stopping, best iteration is:\n",
      "[378]\tvalid_0's l2: 5.24122e+09\n",
      "Training until validation scores don't improve for 50 rounds\n",
      "Early stopping, best iteration is:\n",
      "[449]\tvalid_0's l2: 5.2215e+09\n"
     ]
    },
    {
     "name": "stderr",
     "output_type": "stream",
     "text": [
      "[I 2024-09-23 12:18:44,479] Trial 1 finished with value: 72494.95856750285 and parameters: {'n_estimators': 1069, 'num_leaves': 545, 'max_depth': 46, 'learning_rate': 0.007509797119626296, 'subsample': 0.9588870612564717, 'colsample_bytree': 0.8572878916988453, 'reg_alpha': 0.0001799973901160094, 'reg_lambda': 0.0037040785712895334, 'min_data_in_leaf': 70, 'feature_fraction': 0.8370668075331726, 'bagging_fraction': 0.720916587211498, 'bagging_freq': 3, 'min_child_weight': 0.5088641679920515, 'cat_smooth': 32.59404363006922}. Best is trial 1 with value: 72494.95856750285.\n"
     ]
    },
    {
     "name": "stdout",
     "output_type": "stream",
     "text": [
      "Training until validation scores don't improve for 50 rounds\n",
      "Early stopping, best iteration is:\n",
      "[60]\tvalid_0's l2: 5.29551e+09\n",
      "Training until validation scores don't improve for 50 rounds\n",
      "Early stopping, best iteration is:\n",
      "[76]\tvalid_0's l2: 5.29907e+09\n",
      "Training until validation scores don't improve for 50 rounds\n",
      "Early stopping, best iteration is:\n",
      "[71]\tvalid_0's l2: 5.26938e+09\n",
      "Training until validation scores don't improve for 50 rounds\n",
      "Early stopping, best iteration is:\n",
      "[74]\tvalid_0's l2: 5.2532e+09\n",
      "Training until validation scores don't improve for 50 rounds\n",
      "Early stopping, best iteration is:\n",
      "[96]\tvalid_0's l2: 5.21774e+09\n"
     ]
    },
    {
     "name": "stderr",
     "output_type": "stream",
     "text": [
      "[I 2024-09-23 12:20:20,949] Trial 2 finished with value: 72573.95661311591 and parameters: {'n_estimators': 955, 'num_leaves': 541, 'max_depth': 51, 'learning_rate': 0.036723279424594156, 'subsample': 0.9543244404043341, 'colsample_bytree': 0.6596180444942726, 'reg_alpha': 3.4894428963481334e-07, 'reg_lambda': 0.015951452190168802, 'min_data_in_leaf': 49, 'feature_fraction': 0.9143406631538383, 'bagging_fraction': 0.5234481596946249, 'bagging_freq': 4, 'min_child_weight': 0.1929820588974466, 'cat_smooth': 65.96096423779524}. Best is trial 1 with value: 72494.95856750285.\n"
     ]
    },
    {
     "name": "stdout",
     "output_type": "stream",
     "text": [
      "Training until validation scores don't improve for 50 rounds\n",
      "Early stopping, best iteration is:\n",
      "[12]\tvalid_0's l2: 5.34395e+09\n",
      "Training until validation scores don't improve for 50 rounds\n",
      "Early stopping, best iteration is:\n",
      "[11]\tvalid_0's l2: 5.31479e+09\n",
      "Training until validation scores don't improve for 50 rounds\n",
      "Early stopping, best iteration is:\n",
      "[13]\tvalid_0's l2: 5.29776e+09\n",
      "Training until validation scores don't improve for 50 rounds\n",
      "Early stopping, best iteration is:\n",
      "[15]\tvalid_0's l2: 5.29956e+09\n",
      "Training until validation scores don't improve for 50 rounds\n"
     ]
    },
    {
     "name": "stderr",
     "output_type": "stream",
     "text": [
      "[I 2024-09-23 12:21:08,445] Trial 3 finished with value: 72831.42400231352 and parameters: {'n_estimators': 639, 'num_leaves': 643, 'max_depth': 27, 'learning_rate': 0.18362976337563003, 'subsample': 0.6479808534398394, 'colsample_bytree': 0.9419682397805931, 'reg_alpha': 8.97573097030888e-06, 'reg_lambda': 0.004571551229239351, 'min_data_in_leaf': 71, 'feature_fraction': 0.5467301872793251, 'bagging_fraction': 0.9105528289184642, 'bagging_freq': 1, 'min_child_weight': 0.020169108029984395, 'cat_smooth': 87.9550363117174}. Best is trial 1 with value: 72494.95856750285.\n"
     ]
    },
    {
     "name": "stdout",
     "output_type": "stream",
     "text": [
      "Early stopping, best iteration is:\n",
      "[13]\tvalid_0's l2: 5.26603e+09\n",
      "Training until validation scores don't improve for 50 rounds\n",
      "Early stopping, best iteration is:\n",
      "[432]\tvalid_0's l2: 5.28516e+09\n",
      "Training until validation scores don't improve for 50 rounds\n",
      "Early stopping, best iteration is:\n",
      "[490]\tvalid_0's l2: 5.27131e+09\n",
      "Training until validation scores don't improve for 50 rounds\n",
      "Early stopping, best iteration is:\n",
      "[489]\tvalid_0's l2: 5.25113e+09\n",
      "Training until validation scores don't improve for 50 rounds\n",
      "Early stopping, best iteration is:\n",
      "[451]\tvalid_0's l2: 5.24736e+09\n",
      "Training until validation scores don't improve for 50 rounds\n",
      "Early stopping, best iteration is:\n",
      "[628]\tvalid_0's l2: 5.21803e+09\n"
     ]
    },
    {
     "name": "stderr",
     "output_type": "stream",
     "text": [
      "[I 2024-09-23 12:27:19,837] Trial 4 finished with value: 72488.60590572348 and parameters: {'n_estimators': 1192, 'num_leaves': 482, 'max_depth': 52, 'learning_rate': 0.005677045861147304, 'subsample': 0.7986858241154422, 'colsample_bytree': 0.9514158801658137, 'reg_alpha': 0.00016119356219527467, 'reg_lambda': 0.2295120287772858, 'min_data_in_leaf': 43, 'feature_fraction': 0.6785908793172681, 'bagging_fraction': 0.5398065450779821, 'bagging_freq': 2, 'min_child_weight': 0.009645302925851532, 'cat_smooth': 59.405997991322664}. Best is trial 4 with value: 72488.60590572348.\n"
     ]
    },
    {
     "name": "stdout",
     "output_type": "stream",
     "text": [
      "Training until validation scores don't improve for 50 rounds\n",
      "Early stopping, best iteration is:\n",
      "[40]\tvalid_0's l2: 5.29795e+09\n",
      "Training until validation scores don't improve for 50 rounds\n",
      "Early stopping, best iteration is:\n",
      "[40]\tvalid_0's l2: 5.27352e+09\n",
      "Training until validation scores don't improve for 50 rounds\n",
      "Early stopping, best iteration is:\n",
      "[38]\tvalid_0's l2: 5.25784e+09\n",
      "Training until validation scores don't improve for 50 rounds\n",
      "Early stopping, best iteration is:\n",
      "[37]\tvalid_0's l2: 5.24378e+09\n",
      "Training until validation scores don't improve for 50 rounds\n"
     ]
    },
    {
     "name": "stderr",
     "output_type": "stream",
     "text": [
      "[I 2024-09-23 12:28:09,816] Trial 5 finished with value: 72545.57194130683 and parameters: {'n_estimators': 528, 'num_leaves': 472, 'max_depth': 26, 'learning_rate': 0.08118455774682055, 'subsample': 0.6731735750400165, 'colsample_bytree': 0.5215486781024972, 'reg_alpha': 0.01903229002492754, 'reg_lambda': 1.1296979705718802, 'min_data_in_leaf': 111, 'feature_fraction': 0.7087545719196335, 'bagging_fraction': 0.8027887821968784, 'bagging_freq': 3, 'min_child_weight': 0.38638467047838265, 'cat_smooth': 18.290082361212804}. Best is trial 4 with value: 72488.60590572348.\n"
     ]
    },
    {
     "name": "stdout",
     "output_type": "stream",
     "text": [
      "Early stopping, best iteration is:\n",
      "[43]\tvalid_0's l2: 5.24121e+09\n",
      "Training until validation scores don't improve for 50 rounds\n",
      "Early stopping, best iteration is:\n",
      "[492]\tvalid_0's l2: 5.29421e+09\n",
      "Training until validation scores don't improve for 50 rounds\n",
      "Early stopping, best iteration is:\n",
      "[576]\tvalid_0's l2: 5.27265e+09\n",
      "Training until validation scores don't improve for 50 rounds\n",
      "Early stopping, best iteration is:\n",
      "[630]\tvalid_0's l2: 5.25154e+09\n",
      "Training until validation scores don't improve for 50 rounds\n",
      "Early stopping, best iteration is:\n",
      "[513]\tvalid_0's l2: 5.24504e+09\n",
      "Training until validation scores don't improve for 50 rounds\n",
      "Early stopping, best iteration is:\n",
      "[648]\tvalid_0's l2: 5.22603e+09\n"
     ]
    },
    {
     "name": "stderr",
     "output_type": "stream",
     "text": [
      "[I 2024-09-23 12:33:29,533] Trial 6 finished with value: 72511.3386891709 and parameters: {'n_estimators': 710, 'num_leaves': 310, 'max_depth': 25, 'learning_rate': 0.005323872255879759, 'subsample': 0.778789094331322, 'colsample_bytree': 0.7827535099440838, 'reg_alpha': 7.092404300854912e-05, 'reg_lambda': 0.01483173321964085, 'min_data_in_leaf': 45, 'feature_fraction': 0.9894095728788213, 'bagging_fraction': 0.6698539218189319, 'bagging_freq': 3, 'min_child_weight': 72.85919281852098, 'cat_smooth': 27.591405563189507}. Best is trial 4 with value: 72488.60590572348.\n"
     ]
    },
    {
     "name": "stdout",
     "output_type": "stream",
     "text": [
      "Training until validation scores don't improve for 50 rounds\n",
      "Early stopping, best iteration is:\n",
      "[7]\tvalid_0's l2: 5.37465e+09\n",
      "Training until validation scores don't improve for 50 rounds\n",
      "Early stopping, best iteration is:\n",
      "[4]\tvalid_0's l2: 5.35015e+09\n",
      "Training until validation scores don't improve for 50 rounds\n",
      "Early stopping, best iteration is:\n",
      "[6]\tvalid_0's l2: 5.34547e+09\n",
      "Training until validation scores don't improve for 50 rounds\n",
      "Early stopping, best iteration is:\n",
      "[7]\tvalid_0's l2: 5.33774e+09\n",
      "Training until validation scores don't improve for 50 rounds\n"
     ]
    },
    {
     "name": "stderr",
     "output_type": "stream",
     "text": [
      "[I 2024-09-23 12:34:08,069] Trial 7 finished with value: 73123.75029733055 and parameters: {'n_estimators': 723, 'num_leaves': 508, 'max_depth': 39, 'learning_rate': 0.3645870608221405, 'subsample': 0.534048636768975, 'colsample_bytree': 0.7322654038896663, 'reg_alpha': 0.004916937769207978, 'reg_lambda': 0.7488782916686476, 'min_data_in_leaf': 87, 'feature_fraction': 0.5185472066172039, 'bagging_fraction': 0.6753281956415664, 'bagging_freq': 3, 'min_child_weight': 0.006286070313385454, 'cat_smooth': 32.53375211168362}. Best is trial 4 with value: 72488.60590572348.\n"
     ]
    },
    {
     "name": "stdout",
     "output_type": "stream",
     "text": [
      "Early stopping, best iteration is:\n",
      "[5]\tvalid_0's l2: 5.32741e+09\n",
      "Training until validation scores don't improve for 50 rounds\n",
      "Early stopping, best iteration is:\n",
      "[241]\tvalid_0's l2: 5.27182e+09\n",
      "Training until validation scores don't improve for 50 rounds\n",
      "Early stopping, best iteration is:\n",
      "[349]\tvalid_0's l2: 5.26993e+09\n",
      "Training until validation scores don't improve for 50 rounds\n",
      "Early stopping, best iteration is:\n",
      "[352]\tvalid_0's l2: 5.24836e+09\n",
      "Training until validation scores don't improve for 50 rounds\n",
      "Early stopping, best iteration is:\n",
      "[284]\tvalid_0's l2: 5.23287e+09\n",
      "Training until validation scores don't improve for 50 rounds\n",
      "Early stopping, best iteration is:\n",
      "[368]\tvalid_0's l2: 5.20523e+09\n"
     ]
    },
    {
     "name": "stderr",
     "output_type": "stream",
     "text": [
      "[I 2024-09-23 12:36:15,947] Trial 8 finished with value: 72426.80562120289 and parameters: {'n_estimators': 972, 'num_leaves': 363, 'max_depth': 12, 'learning_rate': 0.010314487673603769, 'subsample': 0.5540318863897262, 'colsample_bytree': 0.5894514042855452, 'reg_alpha': 0.02065202190439409, 'reg_lambda': 0.02893742513973448, 'min_data_in_leaf': 57, 'feature_fraction': 0.8762480851093014, 'bagging_fraction': 0.5534397921967846, 'bagging_freq': 4, 'min_child_weight': 0.06587365495478886, 'cat_smooth': 39.651139374964735}. Best is trial 8 with value: 72426.80562120289.\n"
     ]
    },
    {
     "name": "stdout",
     "output_type": "stream",
     "text": [
      "Training until validation scores don't improve for 50 rounds\n",
      "Did not meet early stopping. Best iteration is:\n",
      "[603]\tvalid_0's l2: 5.4707e+09\n",
      "Training until validation scores don't improve for 50 rounds\n",
      "Did not meet early stopping. Best iteration is:\n",
      "[603]\tvalid_0's l2: 5.46018e+09\n",
      "Training until validation scores don't improve for 50 rounds\n",
      "Did not meet early stopping. Best iteration is:\n",
      "[603]\tvalid_0's l2: 5.42012e+09\n",
      "Training until validation scores don't improve for 50 rounds\n",
      "Did not meet early stopping. Best iteration is:\n",
      "[603]\tvalid_0's l2: 5.4437e+09\n",
      "Training until validation scores don't improve for 50 rounds\n",
      "Did not meet early stopping. Best iteration is:\n",
      "[603]\tvalid_0's l2: 5.41227e+09\n"
     ]
    },
    {
     "name": "stderr",
     "output_type": "stream",
     "text": [
      "[I 2024-09-23 12:41:54,269] Trial 9 finished with value: 73765.80942092315 and parameters: {'n_estimators': 603, 'num_leaves': 373, 'max_depth': 42, 'learning_rate': 0.0013992136034385533, 'subsample': 0.6243062539013847, 'colsample_bytree': 0.7712042581140022, 'reg_alpha': 2.294246403767406e-06, 'reg_lambda': 0.03354641687863073, 'min_data_in_leaf': 114, 'feature_fraction': 0.9626784364338884, 'bagging_fraction': 0.7833749622874999, 'bagging_freq': 3, 'min_child_weight': 0.00012278919376690123, 'cat_smooth': 95.03843220828843}. Best is trial 8 with value: 72426.80562120289.\n",
      "c:\\Users\\lerch\\miniconda3\\envs\\cars\\Lib\\site-packages\\lightgbm\\engine.py:204: UserWarning: Found `n_estimators` in params. Will use it instead of argument\n",
      "  _log_warning(f\"Found `{alias}` in params. Will use it instead of argument\")\n"
     ]
    },
    {
     "name": "stdout",
     "output_type": "stream",
     "text": [
      "Training until validation scores don't improve for 50 rounds\n",
      "Early stopping, best iteration is:\n",
      "[228]\tvalid_0's l2: 5.28777e+09\n"
     ]
    },
    {
     "name": "stderr",
     "output_type": "stream",
     "text": [
      "c:\\Users\\lerch\\miniconda3\\envs\\cars\\Lib\\site-packages\\lightgbm\\engine.py:204: UserWarning: Found `n_estimators` in params. Will use it instead of argument\n",
      "  _log_warning(f\"Found `{alias}` in params. Will use it instead of argument\")\n"
     ]
    },
    {
     "name": "stdout",
     "output_type": "stream",
     "text": [
      "Training until validation scores don't improve for 50 rounds\n",
      "Early stopping, best iteration is:\n",
      "[383]\tvalid_0's l2: 5.26167e+09\n"
     ]
    },
    {
     "name": "stderr",
     "output_type": "stream",
     "text": [
      "c:\\Users\\lerch\\miniconda3\\envs\\cars\\Lib\\site-packages\\lightgbm\\engine.py:204: UserWarning: Found `n_estimators` in params. Will use it instead of argument\n",
      "  _log_warning(f\"Found `{alias}` in params. Will use it instead of argument\")\n"
     ]
    },
    {
     "name": "stdout",
     "output_type": "stream",
     "text": [
      "Training until validation scores don't improve for 50 rounds\n",
      "Early stopping, best iteration is:\n",
      "[339]\tvalid_0's l2: 5.24178e+09\n"
     ]
    },
    {
     "name": "stderr",
     "output_type": "stream",
     "text": [
      "c:\\Users\\lerch\\miniconda3\\envs\\cars\\Lib\\site-packages\\lightgbm\\engine.py:204: UserWarning: Found `n_estimators` in params. Will use it instead of argument\n",
      "  _log_warning(f\"Found `{alias}` in params. Will use it instead of argument\")\n"
     ]
    },
    {
     "name": "stdout",
     "output_type": "stream",
     "text": [
      "Training until validation scores don't improve for 50 rounds\n",
      "Early stopping, best iteration is:\n",
      "[332]\tvalid_0's l2: 5.2359e+09\n"
     ]
    },
    {
     "name": "stderr",
     "output_type": "stream",
     "text": [
      "c:\\Users\\lerch\\miniconda3\\envs\\cars\\Lib\\site-packages\\lightgbm\\engine.py:204: UserWarning: Found `n_estimators` in params. Will use it instead of argument\n",
      "  _log_warning(f\"Found `{alias}` in params. Will use it instead of argument\")\n"
     ]
    },
    {
     "name": "stdout",
     "output_type": "stream",
     "text": [
      "Training until validation scores don't improve for 50 rounds\n",
      "Early stopping, best iteration is:\n",
      "[344]\tvalid_0's l2: 5.21188e+09\n"
     ]
    },
    {
     "name": "stderr",
     "output_type": "stream",
     "text": [
      "[I 2024-09-23 12:44:12,312] A new study created in memory with name: no-name-32fca5ed-a8c8-4e4d-ba45-47079dc78533\n"
     ]
    },
    {
     "name": "stdout",
     "output_type": "stream",
     "text": [
      "Training until validation scores don't improve for 50 rounds\n",
      "Early stopping, best iteration is:\n",
      "[11]\tvalid_0's l2: 5.33631e+09\n",
      "Training until validation scores don't improve for 50 rounds\n",
      "Early stopping, best iteration is:\n",
      "[12]\tvalid_0's l2: 5.34905e+09\n",
      "Training until validation scores don't improve for 50 rounds\n",
      "Early stopping, best iteration is:\n",
      "[13]\tvalid_0's l2: 5.30563e+09\n",
      "Training until validation scores don't improve for 50 rounds\n",
      "Early stopping, best iteration is:\n",
      "[12]\tvalid_0's l2: 5.30903e+09\n",
      "Training until validation scores don't improve for 50 rounds\n"
     ]
    },
    {
     "name": "stderr",
     "output_type": "stream",
     "text": [
      "[I 2024-09-23 12:44:41,434] Trial 0 finished with value: 72940.92370025578 and parameters: {'n_estimators': 1040, 'num_leaves': 308, 'max_depth': 42, 'learning_rate': 0.17636469336159113, 'subsample': 0.7492535061512953, 'colsample_bytree': 0.6123983227654238, 'reg_alpha': 1.54304001490974e-06, 'reg_lambda': 1.1018509458263566, 'min_data_in_leaf': 53, 'feature_fraction': 0.5441699070870052, 'bagging_fraction': 0.8426799091838986, 'bagging_freq': 5, 'min_child_weight': 0.00010560624429728648, 'cat_smooth': 32.52312463051321}. Best is trial 0 with value: 72940.92370025578.\n"
     ]
    },
    {
     "name": "stdout",
     "output_type": "stream",
     "text": [
      "Early stopping, best iteration is:\n",
      "[10]\tvalid_0's l2: 5.30187e+09\n",
      "Training until validation scores don't improve for 50 rounds\n",
      "Early stopping, best iteration is:\n",
      "[355]\tvalid_0's l2: 5.307e+09\n",
      "Training until validation scores don't improve for 50 rounds\n",
      "Early stopping, best iteration is:\n",
      "[301]\tvalid_0's l2: 5.28232e+09\n",
      "Training until validation scores don't improve for 50 rounds\n",
      "Early stopping, best iteration is:\n",
      "[356]\tvalid_0's l2: 5.26312e+09\n",
      "Training until validation scores don't improve for 50 rounds\n",
      "Early stopping, best iteration is:\n",
      "[334]\tvalid_0's l2: 5.26441e+09\n",
      "Training until validation scores don't improve for 50 rounds\n",
      "Early stopping, best iteration is:\n",
      "[333]\tvalid_0's l2: 5.24359e+09\n"
     ]
    },
    {
     "name": "stderr",
     "output_type": "stream",
     "text": [
      "[I 2024-09-23 12:49:27,613] Trial 1 finished with value: 72609.14681784985 and parameters: {'n_estimators': 1069, 'num_leaves': 545, 'max_depth': 46, 'learning_rate': 0.007509797119626296, 'subsample': 0.9588870612564717, 'colsample_bytree': 0.8572878916988453, 'reg_alpha': 0.0001799973901160094, 'reg_lambda': 0.0037040785712895334, 'min_data_in_leaf': 70, 'feature_fraction': 0.8370668075331726, 'bagging_fraction': 0.720916587211498, 'bagging_freq': 3, 'min_child_weight': 0.5088641679920515, 'cat_smooth': 32.59404363006922}. Best is trial 1 with value: 72609.14681784985.\n"
     ]
    },
    {
     "name": "stdout",
     "output_type": "stream",
     "text": [
      "Training until validation scores don't improve for 50 rounds\n",
      "Early stopping, best iteration is:\n",
      "[78]\tvalid_0's l2: 5.31159e+09\n",
      "Training until validation scores don't improve for 50 rounds\n",
      "Early stopping, best iteration is:\n",
      "[63]\tvalid_0's l2: 5.29396e+09\n",
      "Training until validation scores don't improve for 50 rounds\n",
      "Early stopping, best iteration is:\n",
      "[66]\tvalid_0's l2: 5.27687e+09\n",
      "Training until validation scores don't improve for 50 rounds\n",
      "Early stopping, best iteration is:\n",
      "[75]\tvalid_0's l2: 5.27354e+09\n",
      "Training until validation scores don't improve for 50 rounds\n",
      "Early stopping, best iteration is:\n",
      "[81]\tvalid_0's l2: 5.24384e+09\n"
     ]
    },
    {
     "name": "stderr",
     "output_type": "stream",
     "text": [
      "[I 2024-09-23 12:51:02,879] Trial 2 finished with value: 72663.32984501989 and parameters: {'n_estimators': 955, 'num_leaves': 541, 'max_depth': 51, 'learning_rate': 0.036723279424594156, 'subsample': 0.9543244404043341, 'colsample_bytree': 0.6596180444942726, 'reg_alpha': 3.4894428963481334e-07, 'reg_lambda': 0.015951452190168802, 'min_data_in_leaf': 49, 'feature_fraction': 0.9143406631538383, 'bagging_fraction': 0.5234481596946249, 'bagging_freq': 4, 'min_child_weight': 0.1929820588974466, 'cat_smooth': 65.96096423779524}. Best is trial 1 with value: 72609.14681784985.\n"
     ]
    },
    {
     "name": "stdout",
     "output_type": "stream",
     "text": [
      "Training until validation scores don't improve for 50 rounds\n",
      "Early stopping, best iteration is:\n",
      "[12]\tvalid_0's l2: 5.33094e+09\n",
      "Training until validation scores don't improve for 50 rounds\n",
      "Early stopping, best iteration is:\n",
      "[11]\tvalid_0's l2: 5.32384e+09\n",
      "Training until validation scores don't improve for 50 rounds\n",
      "Early stopping, best iteration is:\n",
      "[10]\tvalid_0's l2: 5.33341e+09\n",
      "Training until validation scores don't improve for 50 rounds\n",
      "Early stopping, best iteration is:\n",
      "[11]\tvalid_0's l2: 5.29861e+09\n",
      "Training until validation scores don't improve for 50 rounds\n"
     ]
    },
    {
     "name": "stderr",
     "output_type": "stream",
     "text": [
      "[I 2024-09-23 12:51:48,183] Trial 3 finished with value: 72905.48473612769 and parameters: {'n_estimators': 639, 'num_leaves': 643, 'max_depth': 27, 'learning_rate': 0.18362976337563003, 'subsample': 0.6479808534398394, 'colsample_bytree': 0.9419682397805931, 'reg_alpha': 8.97573097030888e-06, 'reg_lambda': 0.004571551229239351, 'min_data_in_leaf': 71, 'feature_fraction': 0.5467301872793251, 'bagging_fraction': 0.9105528289184642, 'bagging_freq': 1, 'min_child_weight': 0.020169108029984395, 'cat_smooth': 87.9550363117174}. Best is trial 1 with value: 72609.14681784985.\n"
     ]
    },
    {
     "name": "stdout",
     "output_type": "stream",
     "text": [
      "Early stopping, best iteration is:\n",
      "[11]\tvalid_0's l2: 5.28924e+09\n",
      "Training until validation scores don't improve for 50 rounds\n",
      "Early stopping, best iteration is:\n",
      "[489]\tvalid_0's l2: 5.30128e+09\n",
      "Training until validation scores don't improve for 50 rounds\n",
      "Early stopping, best iteration is:\n",
      "[422]\tvalid_0's l2: 5.28287e+09\n",
      "Training until validation scores don't improve for 50 rounds\n",
      "Early stopping, best iteration is:\n",
      "[444]\tvalid_0's l2: 5.26231e+09\n",
      "Training until validation scores don't improve for 50 rounds\n",
      "Early stopping, best iteration is:\n",
      "[447]\tvalid_0's l2: 5.25186e+09\n",
      "Training until validation scores don't improve for 50 rounds\n",
      "Early stopping, best iteration is:\n",
      "[444]\tvalid_0's l2: 5.24414e+09\n"
     ]
    },
    {
     "name": "stderr",
     "output_type": "stream",
     "text": [
      "[I 2024-09-23 12:57:44,096] Trial 4 finished with value: 72584.36862158868 and parameters: {'n_estimators': 1192, 'num_leaves': 482, 'max_depth': 52, 'learning_rate': 0.005677045861147304, 'subsample': 0.7986858241154422, 'colsample_bytree': 0.9514158801658137, 'reg_alpha': 0.00016119356219527467, 'reg_lambda': 0.2295120287772858, 'min_data_in_leaf': 43, 'feature_fraction': 0.6785908793172681, 'bagging_fraction': 0.5398065450779821, 'bagging_freq': 2, 'min_child_weight': 0.009645302925851532, 'cat_smooth': 59.405997991322664}. Best is trial 4 with value: 72584.36862158868.\n"
     ]
    },
    {
     "name": "stdout",
     "output_type": "stream",
     "text": [
      "Training until validation scores don't improve for 50 rounds\n",
      "Early stopping, best iteration is:\n",
      "[42]\tvalid_0's l2: 5.31846e+09\n",
      "Training until validation scores don't improve for 50 rounds\n",
      "Early stopping, best iteration is:\n",
      "[35]\tvalid_0's l2: 5.28142e+09\n",
      "Training until validation scores don't improve for 50 rounds\n",
      "Early stopping, best iteration is:\n",
      "[31]\tvalid_0's l2: 5.27054e+09\n",
      "Training until validation scores don't improve for 50 rounds\n",
      "Early stopping, best iteration is:\n",
      "[46]\tvalid_0's l2: 5.27104e+09\n",
      "Training until validation scores don't improve for 50 rounds\n"
     ]
    },
    {
     "name": "stderr",
     "output_type": "stream",
     "text": [
      "[I 2024-09-23 12:58:30,479] Trial 5 finished with value: 72663.54258611276 and parameters: {'n_estimators': 528, 'num_leaves': 472, 'max_depth': 26, 'learning_rate': 0.08118455774682055, 'subsample': 0.6731735750400165, 'colsample_bytree': 0.5215486781024972, 'reg_alpha': 0.01903229002492754, 'reg_lambda': 1.1296979705718802, 'min_data_in_leaf': 111, 'feature_fraction': 0.7087545719196335, 'bagging_fraction': 0.8027887821968784, 'bagging_freq': 3, 'min_child_weight': 0.38638467047838265, 'cat_smooth': 18.290082361212804}. Best is trial 4 with value: 72584.36862158868.\n"
     ]
    },
    {
     "name": "stdout",
     "output_type": "stream",
     "text": [
      "Early stopping, best iteration is:\n",
      "[27]\tvalid_0's l2: 5.2585e+09\n",
      "Training until validation scores don't improve for 50 rounds\n",
      "Early stopping, best iteration is:\n",
      "[487]\tvalid_0's l2: 5.30917e+09\n",
      "Training until validation scores don't improve for 50 rounds\n",
      "Early stopping, best iteration is:\n",
      "[420]\tvalid_0's l2: 5.2849e+09\n",
      "Training until validation scores don't improve for 50 rounds\n",
      "Early stopping, best iteration is:\n",
      "[498]\tvalid_0's l2: 5.26285e+09\n",
      "Training until validation scores don't improve for 50 rounds\n",
      "Early stopping, best iteration is:\n",
      "[570]\tvalid_0's l2: 5.26251e+09\n",
      "Training until validation scores don't improve for 50 rounds\n",
      "Early stopping, best iteration is:\n",
      "[534]\tvalid_0's l2: 5.24581e+09\n"
     ]
    },
    {
     "name": "stderr",
     "output_type": "stream",
     "text": [
      "[I 2024-09-23 13:02:58,362] Trial 6 finished with value: 72615.75649680052 and parameters: {'n_estimators': 710, 'num_leaves': 310, 'max_depth': 25, 'learning_rate': 0.005323872255879759, 'subsample': 0.778789094331322, 'colsample_bytree': 0.7827535099440838, 'reg_alpha': 7.092404300854912e-05, 'reg_lambda': 0.01483173321964085, 'min_data_in_leaf': 45, 'feature_fraction': 0.9894095728788213, 'bagging_fraction': 0.6698539218189319, 'bagging_freq': 3, 'min_child_weight': 72.85919281852098, 'cat_smooth': 27.591405563189507}. Best is trial 4 with value: 72584.36862158868.\n"
     ]
    },
    {
     "name": "stdout",
     "output_type": "stream",
     "text": [
      "Training until validation scores don't improve for 50 rounds\n",
      "Early stopping, best iteration is:\n",
      "[5]\tvalid_0's l2: 5.36822e+09\n",
      "Training until validation scores don't improve for 50 rounds\n",
      "Early stopping, best iteration is:\n",
      "[6]\tvalid_0's l2: 5.33985e+09\n",
      "Training until validation scores don't improve for 50 rounds\n",
      "Early stopping, best iteration is:\n",
      "[5]\tvalid_0's l2: 5.3439e+09\n",
      "Training until validation scores don't improve for 50 rounds\n",
      "Early stopping, best iteration is:\n",
      "[6]\tvalid_0's l2: 5.33187e+09\n",
      "Training until validation scores don't improve for 50 rounds\n"
     ]
    },
    {
     "name": "stderr",
     "output_type": "stream",
     "text": [
      "[I 2024-09-23 13:03:41,885] Trial 7 finished with value: 73085.94698188691 and parameters: {'n_estimators': 723, 'num_leaves': 508, 'max_depth': 39, 'learning_rate': 0.3645870608221405, 'subsample': 0.534048636768975, 'colsample_bytree': 0.7322654038896663, 'reg_alpha': 0.004916937769207978, 'reg_lambda': 0.7488782916686476, 'min_data_in_leaf': 87, 'feature_fraction': 0.5185472066172039, 'bagging_fraction': 0.6753281956415664, 'bagging_freq': 3, 'min_child_weight': 0.006286070313385454, 'cat_smooth': 32.53375211168362}. Best is trial 4 with value: 72584.36862158868.\n"
     ]
    },
    {
     "name": "stdout",
     "output_type": "stream",
     "text": [
      "Early stopping, best iteration is:\n",
      "[5]\tvalid_0's l2: 5.32394e+09\n",
      "Training until validation scores don't improve for 50 rounds\n",
      "Early stopping, best iteration is:\n",
      "[269]\tvalid_0's l2: 5.28903e+09\n",
      "Training until validation scores don't improve for 50 rounds\n",
      "Early stopping, best iteration is:\n",
      "[257]\tvalid_0's l2: 5.28214e+09\n",
      "Training until validation scores don't improve for 50 rounds\n",
      "Early stopping, best iteration is:\n",
      "[284]\tvalid_0's l2: 5.25047e+09\n",
      "Training until validation scores don't improve for 50 rounds\n",
      "Early stopping, best iteration is:\n",
      "[343]\tvalid_0's l2: 5.25707e+09\n",
      "Training until validation scores don't improve for 50 rounds\n",
      "Early stopping, best iteration is:\n",
      "[265]\tvalid_0's l2: 5.24149e+09\n"
     ]
    },
    {
     "name": "stderr",
     "output_type": "stream",
     "text": [
      "[I 2024-09-23 13:05:42,629] Trial 8 finished with value: 72553.68275871538 and parameters: {'n_estimators': 972, 'num_leaves': 363, 'max_depth': 12, 'learning_rate': 0.010314487673603769, 'subsample': 0.5540318863897262, 'colsample_bytree': 0.5894514042855452, 'reg_alpha': 0.02065202190439409, 'reg_lambda': 0.02893742513973448, 'min_data_in_leaf': 57, 'feature_fraction': 0.8762480851093014, 'bagging_fraction': 0.5534397921967846, 'bagging_freq': 4, 'min_child_weight': 0.06587365495478886, 'cat_smooth': 39.651139374964735}. Best is trial 8 with value: 72553.68275871538.\n"
     ]
    },
    {
     "name": "stdout",
     "output_type": "stream",
     "text": [
      "Training until validation scores don't improve for 50 rounds\n",
      "Did not meet early stopping. Best iteration is:\n",
      "[603]\tvalid_0's l2: 5.47473e+09\n",
      "Training until validation scores don't improve for 50 rounds\n",
      "Did not meet early stopping. Best iteration is:\n",
      "[603]\tvalid_0's l2: 5.44977e+09\n",
      "Training until validation scores don't improve for 50 rounds\n",
      "Did not meet early stopping. Best iteration is:\n",
      "[603]\tvalid_0's l2: 5.41767e+09\n",
      "Training until validation scores don't improve for 50 rounds\n",
      "Did not meet early stopping. Best iteration is:\n",
      "[603]\tvalid_0's l2: 5.44829e+09\n",
      "Training until validation scores don't improve for 50 rounds\n",
      "Did not meet early stopping. Best iteration is:\n",
      "[603]\tvalid_0's l2: 5.40745e+09\n"
     ]
    },
    {
     "name": "stderr",
     "output_type": "stream",
     "text": [
      "[I 2024-09-23 13:11:18,013] Trial 9 finished with value: 73753.52056324609 and parameters: {'n_estimators': 603, 'num_leaves': 373, 'max_depth': 42, 'learning_rate': 0.0013992136034385533, 'subsample': 0.6243062539013847, 'colsample_bytree': 0.7712042581140022, 'reg_alpha': 2.294246403767406e-06, 'reg_lambda': 0.03354641687863073, 'min_data_in_leaf': 114, 'feature_fraction': 0.9626784364338884, 'bagging_fraction': 0.7833749622874999, 'bagging_freq': 3, 'min_child_weight': 0.00012278919376690123, 'cat_smooth': 95.03843220828843}. Best is trial 8 with value: 72553.68275871538.\n",
      "c:\\Users\\lerch\\miniconda3\\envs\\cars\\Lib\\site-packages\\lightgbm\\engine.py:204: UserWarning: Found `n_estimators` in params. Will use it instead of argument\n",
      "  _log_warning(f\"Found `{alias}` in params. Will use it instead of argument\")\n"
     ]
    },
    {
     "name": "stdout",
     "output_type": "stream",
     "text": [
      "Training until validation scores don't improve for 50 rounds\n",
      "Early stopping, best iteration is:\n",
      "[337]\tvalid_0's l2: 5.30152e+09\n"
     ]
    },
    {
     "name": "stderr",
     "output_type": "stream",
     "text": [
      "c:\\Users\\lerch\\miniconda3\\envs\\cars\\Lib\\site-packages\\lightgbm\\engine.py:204: UserWarning: Found `n_estimators` in params. Will use it instead of argument\n",
      "  _log_warning(f\"Found `{alias}` in params. Will use it instead of argument\")\n"
     ]
    },
    {
     "name": "stdout",
     "output_type": "stream",
     "text": [
      "Training until validation scores don't improve for 50 rounds\n",
      "Early stopping, best iteration is:\n",
      "[251]\tvalid_0's l2: 5.28575e+09\n"
     ]
    },
    {
     "name": "stderr",
     "output_type": "stream",
     "text": [
      "c:\\Users\\lerch\\miniconda3\\envs\\cars\\Lib\\site-packages\\lightgbm\\engine.py:204: UserWarning: Found `n_estimators` in params. Will use it instead of argument\n",
      "  _log_warning(f\"Found `{alias}` in params. Will use it instead of argument\")\n"
     ]
    },
    {
     "name": "stdout",
     "output_type": "stream",
     "text": [
      "Training until validation scores don't improve for 50 rounds\n",
      "Early stopping, best iteration is:\n",
      "[348]\tvalid_0's l2: 5.25558e+09\n"
     ]
    },
    {
     "name": "stderr",
     "output_type": "stream",
     "text": [
      "c:\\Users\\lerch\\miniconda3\\envs\\cars\\Lib\\site-packages\\lightgbm\\engine.py:204: UserWarning: Found `n_estimators` in params. Will use it instead of argument\n",
      "  _log_warning(f\"Found `{alias}` in params. Will use it instead of argument\")\n"
     ]
    },
    {
     "name": "stdout",
     "output_type": "stream",
     "text": [
      "Training until validation scores don't improve for 50 rounds\n",
      "Early stopping, best iteration is:\n",
      "[280]\tvalid_0's l2: 5.25862e+09\n"
     ]
    },
    {
     "name": "stderr",
     "output_type": "stream",
     "text": [
      "c:\\Users\\lerch\\miniconda3\\envs\\cars\\Lib\\site-packages\\lightgbm\\engine.py:204: UserWarning: Found `n_estimators` in params. Will use it instead of argument\n",
      "  _log_warning(f\"Found `{alias}` in params. Will use it instead of argument\")\n"
     ]
    },
    {
     "name": "stdout",
     "output_type": "stream",
     "text": [
      "Training until validation scores don't improve for 50 rounds\n",
      "Early stopping, best iteration is:\n",
      "[335]\tvalid_0's l2: 5.22966e+09\n"
     ]
    },
    {
     "name": "stderr",
     "output_type": "stream",
     "text": [
      "[I 2024-09-23 13:13:35,263] A new study created in memory with name: no-name-aefaafae-d743-421e-b0e1-b5b75e533f2e\n"
     ]
    },
    {
     "name": "stdout",
     "output_type": "stream",
     "text": [
      "Training until validation scores don't improve for 50 rounds\n",
      "Early stopping, best iteration is:\n",
      "[13]\tvalid_0's l2: 5.37088e+09\n",
      "Training until validation scores don't improve for 50 rounds\n",
      "Early stopping, best iteration is:\n",
      "[10]\tvalid_0's l2: 5.35735e+09\n",
      "Training until validation scores don't improve for 50 rounds\n",
      "Early stopping, best iteration is:\n",
      "[13]\tvalid_0's l2: 5.32354e+09\n",
      "Training until validation scores don't improve for 50 rounds\n",
      "Early stopping, best iteration is:\n",
      "[13]\tvalid_0's l2: 5.32077e+09\n",
      "Training until validation scores don't improve for 50 rounds\n"
     ]
    },
    {
     "name": "stderr",
     "output_type": "stream",
     "text": [
      "[I 2024-09-23 13:14:04,913] Trial 0 finished with value: 73072.36311066599 and parameters: {'n_estimators': 1040, 'num_leaves': 308, 'max_depth': 42, 'learning_rate': 0.17636469336159113, 'subsample': 0.7492535061512953, 'colsample_bytree': 0.6123983227654238, 'reg_alpha': 1.54304001490974e-06, 'reg_lambda': 1.1018509458263566, 'min_data_in_leaf': 53, 'feature_fraction': 0.5441699070870052, 'bagging_fraction': 0.8426799091838986, 'bagging_freq': 5, 'min_child_weight': 0.00010560624429728648, 'cat_smooth': 32.52312463051321}. Best is trial 0 with value: 73072.36311066599.\n"
     ]
    },
    {
     "name": "stdout",
     "output_type": "stream",
     "text": [
      "Early stopping, best iteration is:\n",
      "[11]\tvalid_0's l2: 5.32531e+09\n",
      "Training until validation scores don't improve for 50 rounds\n",
      "Early stopping, best iteration is:\n",
      "[361]\tvalid_0's l2: 5.30148e+09\n",
      "Training until validation scores don't improve for 50 rounds\n",
      "Early stopping, best iteration is:\n",
      "[396]\tvalid_0's l2: 5.28644e+09\n",
      "Training until validation scores don't improve for 50 rounds\n",
      "Early stopping, best iteration is:\n",
      "[340]\tvalid_0's l2: 5.26648e+09\n",
      "Training until validation scores don't improve for 50 rounds\n",
      "Early stopping, best iteration is:\n",
      "[417]\tvalid_0's l2: 5.25187e+09\n",
      "Training until validation scores don't improve for 50 rounds\n",
      "Early stopping, best iteration is:\n",
      "[368]\tvalid_0's l2: 5.25952e+09\n"
     ]
    },
    {
     "name": "stderr",
     "output_type": "stream",
     "text": [
      "[I 2024-09-23 13:19:37,696] Trial 1 finished with value: 72616.5184749363 and parameters: {'n_estimators': 1069, 'num_leaves': 545, 'max_depth': 46, 'learning_rate': 0.007509797119626296, 'subsample': 0.9588870612564717, 'colsample_bytree': 0.8572878916988453, 'reg_alpha': 0.0001799973901160094, 'reg_lambda': 0.0037040785712895334, 'min_data_in_leaf': 70, 'feature_fraction': 0.8370668075331726, 'bagging_fraction': 0.720916587211498, 'bagging_freq': 3, 'min_child_weight': 0.5088641679920515, 'cat_smooth': 32.59404363006922}. Best is trial 1 with value: 72616.5184749363.\n"
     ]
    },
    {
     "name": "stdout",
     "output_type": "stream",
     "text": [
      "Training until validation scores don't improve for 50 rounds\n",
      "Early stopping, best iteration is:\n",
      "[76]\tvalid_0's l2: 5.30058e+09\n",
      "Training until validation scores don't improve for 50 rounds\n",
      "Early stopping, best iteration is:\n",
      "[77]\tvalid_0's l2: 5.29348e+09\n",
      "Training until validation scores don't improve for 50 rounds\n",
      "Early stopping, best iteration is:\n",
      "[64]\tvalid_0's l2: 5.27318e+09\n",
      "Training until validation scores don't improve for 50 rounds\n",
      "Early stopping, best iteration is:\n",
      "[63]\tvalid_0's l2: 5.2816e+09\n",
      "Training until validation scores don't improve for 50 rounds\n",
      "Early stopping, best iteration is:\n",
      "[71]\tvalid_0's l2: 5.2706e+09\n"
     ]
    },
    {
     "name": "stderr",
     "output_type": "stream",
     "text": [
      "[I 2024-09-23 13:21:11,066] Trial 2 finished with value: 72690.35313821821 and parameters: {'n_estimators': 955, 'num_leaves': 541, 'max_depth': 51, 'learning_rate': 0.036723279424594156, 'subsample': 0.9543244404043341, 'colsample_bytree': 0.6596180444942726, 'reg_alpha': 3.4894428963481334e-07, 'reg_lambda': 0.015951452190168802, 'min_data_in_leaf': 49, 'feature_fraction': 0.9143406631538383, 'bagging_fraction': 0.5234481596946249, 'bagging_freq': 4, 'min_child_weight': 0.1929820588974466, 'cat_smooth': 65.96096423779524}. Best is trial 1 with value: 72616.5184749363.\n"
     ]
    },
    {
     "name": "stdout",
     "output_type": "stream",
     "text": [
      "Training until validation scores don't improve for 50 rounds\n",
      "Early stopping, best iteration is:\n",
      "[10]\tvalid_0's l2: 5.34052e+09\n",
      "Training until validation scores don't improve for 50 rounds\n",
      "Early stopping, best iteration is:\n",
      "[12]\tvalid_0's l2: 5.33983e+09\n",
      "Training until validation scores don't improve for 50 rounds\n",
      "Early stopping, best iteration is:\n",
      "[10]\tvalid_0's l2: 5.31411e+09\n",
      "Training until validation scores don't improve for 50 rounds\n",
      "Early stopping, best iteration is:\n",
      "[13]\tvalid_0's l2: 5.30051e+09\n",
      "Training until validation scores don't improve for 50 rounds\n"
     ]
    },
    {
     "name": "stderr",
     "output_type": "stream",
     "text": [
      "[I 2024-09-23 13:21:54,482] Trial 3 finished with value: 72945.74246361683 and parameters: {'n_estimators': 639, 'num_leaves': 643, 'max_depth': 27, 'learning_rate': 0.18362976337563003, 'subsample': 0.6479808534398394, 'colsample_bytree': 0.9419682397805931, 'reg_alpha': 8.97573097030888e-06, 'reg_lambda': 0.004571551229239351, 'min_data_in_leaf': 71, 'feature_fraction': 0.5467301872793251, 'bagging_fraction': 0.9105528289184642, 'bagging_freq': 1, 'min_child_weight': 0.020169108029984395, 'cat_smooth': 87.9550363117174}. Best is trial 1 with value: 72616.5184749363.\n"
     ]
    },
    {
     "name": "stdout",
     "output_type": "stream",
     "text": [
      "Early stopping, best iteration is:\n",
      "[14]\tvalid_0's l2: 5.31044e+09\n",
      "Training until validation scores don't improve for 50 rounds\n",
      "Early stopping, best iteration is:\n",
      "[451]\tvalid_0's l2: 5.30286e+09\n",
      "Training until validation scores don't improve for 50 rounds\n",
      "Early stopping, best iteration is:\n",
      "[487]\tvalid_0's l2: 5.27709e+09\n",
      "Training until validation scores don't improve for 50 rounds\n",
      "Early stopping, best iteration is:\n",
      "[516]\tvalid_0's l2: 5.25319e+09\n",
      "Training until validation scores don't improve for 50 rounds\n",
      "Early stopping, best iteration is:\n",
      "[555]\tvalid_0's l2: 5.24628e+09\n",
      "Training until validation scores don't improve for 50 rounds\n",
      "Early stopping, best iteration is:\n",
      "[511]\tvalid_0's l2: 5.25488e+09\n"
     ]
    },
    {
     "name": "stderr",
     "output_type": "stream",
     "text": [
      "[I 2024-09-23 13:28:14,313] Trial 4 finished with value: 72573.13515778628 and parameters: {'n_estimators': 1192, 'num_leaves': 482, 'max_depth': 52, 'learning_rate': 0.005677045861147304, 'subsample': 0.7986858241154422, 'colsample_bytree': 0.9514158801658137, 'reg_alpha': 0.00016119356219527467, 'reg_lambda': 0.2295120287772858, 'min_data_in_leaf': 43, 'feature_fraction': 0.6785908793172681, 'bagging_fraction': 0.5398065450779821, 'bagging_freq': 2, 'min_child_weight': 0.009645302925851532, 'cat_smooth': 59.405997991322664}. Best is trial 4 with value: 72573.13515778628.\n"
     ]
    },
    {
     "name": "stdout",
     "output_type": "stream",
     "text": [
      "Training until validation scores don't improve for 50 rounds\n",
      "Early stopping, best iteration is:\n",
      "[30]\tvalid_0's l2: 5.31227e+09\n",
      "Training until validation scores don't improve for 50 rounds\n",
      "Early stopping, best iteration is:\n",
      "[40]\tvalid_0's l2: 5.30237e+09\n",
      "Training until validation scores don't improve for 50 rounds\n",
      "Early stopping, best iteration is:\n",
      "[36]\tvalid_0's l2: 5.27389e+09\n",
      "Training until validation scores don't improve for 50 rounds\n",
      "Early stopping, best iteration is:\n",
      "[37]\tvalid_0's l2: 5.25661e+09\n",
      "Training until validation scores don't improve for 50 rounds\n"
     ]
    },
    {
     "name": "stderr",
     "output_type": "stream",
     "text": [
      "[I 2024-09-23 13:29:04,979] Trial 5 finished with value: 72680.89230934219 and parameters: {'n_estimators': 528, 'num_leaves': 472, 'max_depth': 26, 'learning_rate': 0.08118455774682055, 'subsample': 0.6731735750400165, 'colsample_bytree': 0.5215486781024972, 'reg_alpha': 0.01903229002492754, 'reg_lambda': 1.1296979705718802, 'min_data_in_leaf': 111, 'feature_fraction': 0.7087545719196335, 'bagging_fraction': 0.8027887821968784, 'bagging_freq': 3, 'min_child_weight': 0.38638467047838265, 'cat_smooth': 18.290082361212804}. Best is trial 4 with value: 72573.13515778628.\n"
     ]
    },
    {
     "name": "stdout",
     "output_type": "stream",
     "text": [
      "Early stopping, best iteration is:\n",
      "[42]\tvalid_0's l2: 5.26742e+09\n",
      "Training until validation scores don't improve for 50 rounds\n",
      "Early stopping, best iteration is:\n",
      "[435]\tvalid_0's l2: 5.31126e+09\n",
      "Training until validation scores don't improve for 50 rounds\n",
      "Early stopping, best iteration is:\n",
      "[524]\tvalid_0's l2: 5.29069e+09\n",
      "Training until validation scores don't improve for 50 rounds\n",
      "Early stopping, best iteration is:\n",
      "[501]\tvalid_0's l2: 5.27508e+09\n",
      "Training until validation scores don't improve for 50 rounds\n",
      "Early stopping, best iteration is:\n",
      "[501]\tvalid_0's l2: 5.25335e+09\n",
      "Training until validation scores don't improve for 50 rounds\n",
      "Early stopping, best iteration is:\n",
      "[456]\tvalid_0's l2: 5.26771e+09\n"
     ]
    },
    {
     "name": "stderr",
     "output_type": "stream",
     "text": [
      "[I 2024-09-23 13:33:30,563] Trial 6 finished with value: 72660.99290120525 and parameters: {'n_estimators': 710, 'num_leaves': 310, 'max_depth': 25, 'learning_rate': 0.005323872255879759, 'subsample': 0.778789094331322, 'colsample_bytree': 0.7827535099440838, 'reg_alpha': 7.092404300854912e-05, 'reg_lambda': 0.01483173321964085, 'min_data_in_leaf': 45, 'feature_fraction': 0.9894095728788213, 'bagging_fraction': 0.6698539218189319, 'bagging_freq': 3, 'min_child_weight': 72.85919281852098, 'cat_smooth': 27.591405563189507}. Best is trial 4 with value: 72573.13515778628.\n"
     ]
    },
    {
     "name": "stdout",
     "output_type": "stream",
     "text": [
      "Training until validation scores don't improve for 50 rounds\n",
      "Early stopping, best iteration is:\n",
      "[6]\tvalid_0's l2: 5.3958e+09\n",
      "Training until validation scores don't improve for 50 rounds\n",
      "Early stopping, best iteration is:\n",
      "[6]\tvalid_0's l2: 5.3706e+09\n",
      "Training until validation scores don't improve for 50 rounds\n",
      "Early stopping, best iteration is:\n",
      "[6]\tvalid_0's l2: 5.34026e+09\n",
      "Training until validation scores don't improve for 50 rounds\n",
      "Early stopping, best iteration is:\n",
      "[7]\tvalid_0's l2: 5.33728e+09\n",
      "Training until validation scores don't improve for 50 rounds\n"
     ]
    },
    {
     "name": "stderr",
     "output_type": "stream",
     "text": [
      "[I 2024-09-23 13:34:08,396] Trial 7 finished with value: 73214.60332839137 and parameters: {'n_estimators': 723, 'num_leaves': 508, 'max_depth': 39, 'learning_rate': 0.3645870608221405, 'subsample': 0.534048636768975, 'colsample_bytree': 0.7322654038896663, 'reg_alpha': 0.004916937769207978, 'reg_lambda': 0.7488782916686476, 'min_data_in_leaf': 87, 'feature_fraction': 0.5185472066172039, 'bagging_fraction': 0.6753281956415664, 'bagging_freq': 3, 'min_child_weight': 0.006286070313385454, 'cat_smooth': 32.53375211168362}. Best is trial 4 with value: 72573.13515778628.\n"
     ]
    },
    {
     "name": "stdout",
     "output_type": "stream",
     "text": [
      "Early stopping, best iteration is:\n",
      "[5]\tvalid_0's l2: 5.35796e+09\n",
      "Training until validation scores don't improve for 50 rounds\n",
      "Early stopping, best iteration is:\n",
      "[264]\tvalid_0's l2: 5.29127e+09\n",
      "Training until validation scores don't improve for 50 rounds\n",
      "Early stopping, best iteration is:\n",
      "[343]\tvalid_0's l2: 5.28629e+09\n",
      "Training until validation scores don't improve for 50 rounds\n",
      "Early stopping, best iteration is:\n",
      "[285]\tvalid_0's l2: 5.25937e+09\n",
      "Training until validation scores don't improve for 50 rounds\n",
      "Early stopping, best iteration is:\n",
      "[325]\tvalid_0's l2: 5.24654e+09\n",
      "Training until validation scores don't improve for 50 rounds\n",
      "Early stopping, best iteration is:\n",
      "[255]\tvalid_0's l2: 5.25663e+09\n"
     ]
    },
    {
     "name": "stderr",
     "output_type": "stream",
     "text": [
      "[I 2024-09-23 13:36:14,683] Trial 8 finished with value: 72581.13654728376 and parameters: {'n_estimators': 972, 'num_leaves': 363, 'max_depth': 12, 'learning_rate': 0.010314487673603769, 'subsample': 0.5540318863897262, 'colsample_bytree': 0.5894514042855452, 'reg_alpha': 0.02065202190439409, 'reg_lambda': 0.02893742513973448, 'min_data_in_leaf': 57, 'feature_fraction': 0.8762480851093014, 'bagging_fraction': 0.5534397921967846, 'bagging_freq': 4, 'min_child_weight': 0.06587365495478886, 'cat_smooth': 39.651139374964735}. Best is trial 4 with value: 72573.13515778628.\n"
     ]
    },
    {
     "name": "stdout",
     "output_type": "stream",
     "text": [
      "Training until validation scores don't improve for 50 rounds\n",
      "Did not meet early stopping. Best iteration is:\n",
      "[603]\tvalid_0's l2: 5.48091e+09\n",
      "Training until validation scores don't improve for 50 rounds\n",
      "Did not meet early stopping. Best iteration is:\n",
      "[603]\tvalid_0's l2: 5.4722e+09\n",
      "Training until validation scores don't improve for 50 rounds\n",
      "Did not meet early stopping. Best iteration is:\n",
      "[603]\tvalid_0's l2: 5.4352e+09\n",
      "Training until validation scores don't improve for 50 rounds\n",
      "Did not meet early stopping. Best iteration is:\n",
      "[603]\tvalid_0's l2: 5.44714e+09\n",
      "Training until validation scores don't improve for 50 rounds\n",
      "Did not meet early stopping. Best iteration is:\n",
      "[603]\tvalid_0's l2: 5.42546e+09\n"
     ]
    },
    {
     "name": "stderr",
     "output_type": "stream",
     "text": [
      "[I 2024-09-23 13:41:42,179] Trial 9 finished with value: 73838.89250099214 and parameters: {'n_estimators': 603, 'num_leaves': 373, 'max_depth': 42, 'learning_rate': 0.0013992136034385533, 'subsample': 0.6243062539013847, 'colsample_bytree': 0.7712042581140022, 'reg_alpha': 2.294246403767406e-06, 'reg_lambda': 0.03354641687863073, 'min_data_in_leaf': 114, 'feature_fraction': 0.9626784364338884, 'bagging_fraction': 0.7833749622874999, 'bagging_freq': 3, 'min_child_weight': 0.00012278919376690123, 'cat_smooth': 95.03843220828843}. Best is trial 4 with value: 72573.13515778628.\n",
      "c:\\Users\\lerch\\miniconda3\\envs\\cars\\Lib\\site-packages\\lightgbm\\engine.py:204: UserWarning: Found `n_estimators` in params. Will use it instead of argument\n",
      "  _log_warning(f\"Found `{alias}` in params. Will use it instead of argument\")\n"
     ]
    },
    {
     "name": "stdout",
     "output_type": "stream",
     "text": [
      "Training until validation scores don't improve for 50 rounds\n",
      "Early stopping, best iteration is:\n",
      "[492]\tvalid_0's l2: 5.29835e+09\n"
     ]
    },
    {
     "name": "stderr",
     "output_type": "stream",
     "text": [
      "c:\\Users\\lerch\\miniconda3\\envs\\cars\\Lib\\site-packages\\lightgbm\\engine.py:204: UserWarning: Found `n_estimators` in params. Will use it instead of argument\n",
      "  _log_warning(f\"Found `{alias}` in params. Will use it instead of argument\")\n"
     ]
    },
    {
     "name": "stdout",
     "output_type": "stream",
     "text": [
      "Training until validation scores don't improve for 50 rounds\n",
      "Early stopping, best iteration is:\n",
      "[485]\tvalid_0's l2: 5.2823e+09\n"
     ]
    },
    {
     "name": "stderr",
     "output_type": "stream",
     "text": [
      "c:\\Users\\lerch\\miniconda3\\envs\\cars\\Lib\\site-packages\\lightgbm\\engine.py:204: UserWarning: Found `n_estimators` in params. Will use it instead of argument\n",
      "  _log_warning(f\"Found `{alias}` in params. Will use it instead of argument\")\n"
     ]
    },
    {
     "name": "stdout",
     "output_type": "stream",
     "text": [
      "Training until validation scores don't improve for 50 rounds\n",
      "Early stopping, best iteration is:\n",
      "[516]\tvalid_0's l2: 5.25213e+09\n"
     ]
    },
    {
     "name": "stderr",
     "output_type": "stream",
     "text": [
      "c:\\Users\\lerch\\miniconda3\\envs\\cars\\Lib\\site-packages\\lightgbm\\engine.py:204: UserWarning: Found `n_estimators` in params. Will use it instead of argument\n",
      "  _log_warning(f\"Found `{alias}` in params. Will use it instead of argument\")\n"
     ]
    },
    {
     "name": "stdout",
     "output_type": "stream",
     "text": [
      "Training until validation scores don't improve for 50 rounds\n",
      "Early stopping, best iteration is:\n",
      "[515]\tvalid_0's l2: 5.25025e+09\n"
     ]
    },
    {
     "name": "stderr",
     "output_type": "stream",
     "text": [
      "c:\\Users\\lerch\\miniconda3\\envs\\cars\\Lib\\site-packages\\lightgbm\\engine.py:204: UserWarning: Found `n_estimators` in params. Will use it instead of argument\n",
      "  _log_warning(f\"Found `{alias}` in params. Will use it instead of argument\")\n"
     ]
    },
    {
     "name": "stdout",
     "output_type": "stream",
     "text": [
      "Training until validation scores don't improve for 50 rounds\n",
      "Early stopping, best iteration is:\n",
      "[494]\tvalid_0's l2: 5.2582e+09\n"
     ]
    },
    {
     "name": "stderr",
     "output_type": "stream",
     "text": [
      "[I 2024-09-23 13:48:08,647] A new study created in memory with name: no-name-a0604369-f84a-4e0f-8f39-d07ed5e69b42\n"
     ]
    },
    {
     "name": "stdout",
     "output_type": "stream",
     "text": [
      "Training until validation scores don't improve for 50 rounds\n",
      "Early stopping, best iteration is:\n",
      "[12]\tvalid_0's l2: 5.39179e+09\n",
      "Training until validation scores don't improve for 50 rounds\n",
      "Early stopping, best iteration is:\n",
      "[15]\tvalid_0's l2: 5.36964e+09\n",
      "Training until validation scores don't improve for 50 rounds\n",
      "Early stopping, best iteration is:\n",
      "[14]\tvalid_0's l2: 5.3173e+09\n",
      "Training until validation scores don't improve for 50 rounds\n",
      "Early stopping, best iteration is:\n",
      "[13]\tvalid_0's l2: 5.32096e+09\n",
      "Training until validation scores don't improve for 50 rounds\n"
     ]
    },
    {
     "name": "stderr",
     "output_type": "stream",
     "text": [
      "[I 2024-09-23 13:48:39,449] Trial 0 finished with value: 73055.17653864005 and parameters: {'n_estimators': 1040, 'num_leaves': 308, 'max_depth': 42, 'learning_rate': 0.17636469336159113, 'subsample': 0.7492535061512953, 'colsample_bytree': 0.6123983227654238, 'reg_alpha': 1.54304001490974e-06, 'reg_lambda': 1.1018509458263566, 'min_data_in_leaf': 53, 'feature_fraction': 0.5441699070870052, 'bagging_fraction': 0.8426799091838986, 'bagging_freq': 5, 'min_child_weight': 0.00010560624429728648, 'cat_smooth': 32.52312463051321}. Best is trial 0 with value: 73055.17653864005.\n"
     ]
    },
    {
     "name": "stdout",
     "output_type": "stream",
     "text": [
      "Early stopping, best iteration is:\n",
      "[15]\tvalid_0's l2: 5.2856e+09\n",
      "Training until validation scores don't improve for 50 rounds\n",
      "Early stopping, best iteration is:\n",
      "[342]\tvalid_0's l2: 5.32203e+09\n",
      "Training until validation scores don't improve for 50 rounds\n",
      "Early stopping, best iteration is:\n",
      "[365]\tvalid_0's l2: 5.26718e+09\n",
      "Training until validation scores don't improve for 50 rounds\n",
      "Early stopping, best iteration is:\n",
      "[382]\tvalid_0's l2: 5.25947e+09\n",
      "Training until validation scores don't improve for 50 rounds\n",
      "Early stopping, best iteration is:\n",
      "[350]\tvalid_0's l2: 5.2507e+09\n",
      "Training until validation scores don't improve for 50 rounds\n",
      "Early stopping, best iteration is:\n",
      "[311]\tvalid_0's l2: 5.23889e+09\n"
     ]
    },
    {
     "name": "stderr",
     "output_type": "stream",
     "text": [
      "[I 2024-09-23 13:53:52,584] Trial 1 finished with value: 72578.58829691382 and parameters: {'n_estimators': 1069, 'num_leaves': 545, 'max_depth': 46, 'learning_rate': 0.007509797119626296, 'subsample': 0.9588870612564717, 'colsample_bytree': 0.8572878916988453, 'reg_alpha': 0.0001799973901160094, 'reg_lambda': 0.0037040785712895334, 'min_data_in_leaf': 70, 'feature_fraction': 0.8370668075331726, 'bagging_fraction': 0.720916587211498, 'bagging_freq': 3, 'min_child_weight': 0.5088641679920515, 'cat_smooth': 32.59404363006922}. Best is trial 1 with value: 72578.58829691382.\n"
     ]
    },
    {
     "name": "stdout",
     "output_type": "stream",
     "text": [
      "Training until validation scores don't improve for 50 rounds\n",
      "Early stopping, best iteration is:\n",
      "[56]\tvalid_0's l2: 5.34349e+09\n",
      "Training until validation scores don't improve for 50 rounds\n",
      "Early stopping, best iteration is:\n",
      "[76]\tvalid_0's l2: 5.28691e+09\n",
      "Training until validation scores don't improve for 50 rounds\n",
      "Early stopping, best iteration is:\n",
      "[80]\tvalid_0's l2: 5.27384e+09\n",
      "Training until validation scores don't improve for 50 rounds\n",
      "Early stopping, best iteration is:\n",
      "[69]\tvalid_0's l2: 5.28619e+09\n",
      "Training until validation scores don't improve for 50 rounds\n"
     ]
    },
    {
     "name": "stderr",
     "output_type": "stream",
     "text": [
      "[I 2024-09-23 13:54:50,057] Trial 2 finished with value: 72725.83875579285 and parameters: {'n_estimators': 955, 'num_leaves': 541, 'max_depth': 51, 'learning_rate': 0.036723279424594156, 'subsample': 0.9543244404043341, 'colsample_bytree': 0.6596180444942726, 'reg_alpha': 3.4894428963481334e-07, 'reg_lambda': 0.015951452190168802, 'min_data_in_leaf': 49, 'feature_fraction': 0.9143406631538383, 'bagging_fraction': 0.5234481596946249, 'bagging_freq': 4, 'min_child_weight': 0.1929820588974466, 'cat_smooth': 65.96096423779524}. Best is trial 1 with value: 72578.58829691382.\n"
     ]
    },
    {
     "name": "stdout",
     "output_type": "stream",
     "text": [
      "Early stopping, best iteration is:\n",
      "[56]\tvalid_0's l2: 5.25481e+09\n",
      "Training until validation scores don't improve for 50 rounds\n",
      "Early stopping, best iteration is:\n",
      "[12]\tvalid_0's l2: 5.3763e+09\n",
      "Training until validation scores don't improve for 50 rounds\n",
      "Early stopping, best iteration is:\n",
      "[15]\tvalid_0's l2: 5.33684e+09\n",
      "Training until validation scores don't improve for 50 rounds\n",
      "Early stopping, best iteration is:\n",
      "[12]\tvalid_0's l2: 5.30625e+09\n",
      "Training until validation scores don't improve for 50 rounds\n",
      "Early stopping, best iteration is:\n",
      "[13]\tvalid_0's l2: 5.32521e+09\n",
      "Training until validation scores don't improve for 50 rounds\n"
     ]
    },
    {
     "name": "stderr",
     "output_type": "stream",
     "text": [
      "[I 2024-09-23 13:55:09,602] Trial 3 finished with value: 72985.1917623876 and parameters: {'n_estimators': 639, 'num_leaves': 643, 'max_depth': 27, 'learning_rate': 0.18362976337563003, 'subsample': 0.6479808534398394, 'colsample_bytree': 0.9419682397805931, 'reg_alpha': 8.97573097030888e-06, 'reg_lambda': 0.004571551229239351, 'min_data_in_leaf': 71, 'feature_fraction': 0.5467301872793251, 'bagging_fraction': 0.9105528289184642, 'bagging_freq': 1, 'min_child_weight': 0.020169108029984395, 'cat_smooth': 87.9550363117174}. Best is trial 1 with value: 72578.58829691382.\n"
     ]
    },
    {
     "name": "stdout",
     "output_type": "stream",
     "text": [
      "Early stopping, best iteration is:\n",
      "[14]\tvalid_0's l2: 5.2896e+09\n",
      "Training until validation scores don't improve for 50 rounds\n",
      "Early stopping, best iteration is:\n",
      "[459]\tvalid_0's l2: 5.31989e+09\n",
      "Training until validation scores don't improve for 50 rounds\n",
      "Early stopping, best iteration is:\n",
      "[573]\tvalid_0's l2: 5.2623e+09\n",
      "Training until validation scores don't improve for 50 rounds\n",
      "Early stopping, best iteration is:\n",
      "[543]\tvalid_0's l2: 5.25567e+09\n",
      "Training until validation scores don't improve for 50 rounds\n",
      "Early stopping, best iteration is:\n",
      "[540]\tvalid_0's l2: 5.25452e+09\n",
      "Training until validation scores don't improve for 50 rounds\n",
      "Early stopping, best iteration is:\n",
      "[458]\tvalid_0's l2: 5.23292e+09\n"
     ]
    },
    {
     "name": "stderr",
     "output_type": "stream",
     "text": [
      "[I 2024-09-23 13:57:23,767] Trial 4 finished with value: 72560.73645238258 and parameters: {'n_estimators': 1192, 'num_leaves': 482, 'max_depth': 52, 'learning_rate': 0.005677045861147304, 'subsample': 0.7986858241154422, 'colsample_bytree': 0.9514158801658137, 'reg_alpha': 0.00016119356219527467, 'reg_lambda': 0.2295120287772858, 'min_data_in_leaf': 43, 'feature_fraction': 0.6785908793172681, 'bagging_fraction': 0.5398065450779821, 'bagging_freq': 2, 'min_child_weight': 0.009645302925851532, 'cat_smooth': 59.405997991322664}. Best is trial 4 with value: 72560.73645238258.\n"
     ]
    },
    {
     "name": "stdout",
     "output_type": "stream",
     "text": [
      "Training until validation scores don't improve for 50 rounds\n",
      "Early stopping, best iteration is:\n",
      "[29]\tvalid_0's l2: 5.34027e+09\n",
      "Training until validation scores don't improve for 50 rounds\n",
      "Early stopping, best iteration is:\n",
      "[41]\tvalid_0's l2: 5.25943e+09\n",
      "Training until validation scores don't improve for 50 rounds\n",
      "Early stopping, best iteration is:\n",
      "[35]\tvalid_0's l2: 5.26876e+09\n",
      "Training until validation scores don't improve for 50 rounds\n",
      "Early stopping, best iteration is:\n",
      "[35]\tvalid_0's l2: 5.25629e+09\n",
      "Training until validation scores don't improve for 50 rounds\n"
     ]
    },
    {
     "name": "stderr",
     "output_type": "stream",
     "text": [
      "[I 2024-09-23 13:57:40,632] Trial 5 finished with value: 72595.33554285405 and parameters: {'n_estimators': 528, 'num_leaves': 472, 'max_depth': 26, 'learning_rate': 0.08118455774682055, 'subsample': 0.6731735750400165, 'colsample_bytree': 0.5215486781024972, 'reg_alpha': 0.01903229002492754, 'reg_lambda': 1.1296979705718802, 'min_data_in_leaf': 111, 'feature_fraction': 0.7087545719196335, 'bagging_fraction': 0.8027887821968784, 'bagging_freq': 3, 'min_child_weight': 0.38638467047838265, 'cat_smooth': 18.290082361212804}. Best is trial 4 with value: 72560.73645238258.\n"
     ]
    },
    {
     "name": "stdout",
     "output_type": "stream",
     "text": [
      "Early stopping, best iteration is:\n",
      "[41]\tvalid_0's l2: 5.22566e+09\n",
      "Training until validation scores don't improve for 50 rounds\n",
      "Early stopping, best iteration is:\n",
      "[486]\tvalid_0's l2: 5.32642e+09\n",
      "Training until validation scores don't improve for 50 rounds\n",
      "Early stopping, best iteration is:\n",
      "[573]\tvalid_0's l2: 5.2622e+09\n",
      "Training until validation scores don't improve for 50 rounds\n",
      "Early stopping, best iteration is:\n",
      "[501]\tvalid_0's l2: 5.26164e+09\n",
      "Training until validation scores don't improve for 50 rounds\n",
      "Early stopping, best iteration is:\n",
      "[516]\tvalid_0's l2: 5.24613e+09\n",
      "Training until validation scores don't improve for 50 rounds\n",
      "Early stopping, best iteration is:\n",
      "[459]\tvalid_0's l2: 5.2425e+09\n"
     ]
    },
    {
     "name": "stderr",
     "output_type": "stream",
     "text": [
      "[I 2024-09-23 13:59:29,331] Trial 6 finished with value: 72579.46903282324 and parameters: {'n_estimators': 710, 'num_leaves': 310, 'max_depth': 25, 'learning_rate': 0.005323872255879759, 'subsample': 0.778789094331322, 'colsample_bytree': 0.7827535099440838, 'reg_alpha': 7.092404300854912e-05, 'reg_lambda': 0.01483173321964085, 'min_data_in_leaf': 45, 'feature_fraction': 0.9894095728788213, 'bagging_fraction': 0.6698539218189319, 'bagging_freq': 3, 'min_child_weight': 72.85919281852098, 'cat_smooth': 27.591405563189507}. Best is trial 4 with value: 72560.73645238258.\n"
     ]
    },
    {
     "name": "stdout",
     "output_type": "stream",
     "text": [
      "Training until validation scores don't improve for 50 rounds\n",
      "Early stopping, best iteration is:\n",
      "[5]\tvalid_0's l2: 5.38566e+09\n",
      "Training until validation scores don't improve for 50 rounds\n",
      "Early stopping, best iteration is:\n",
      "[5]\tvalid_0's l2: 5.35875e+09\n",
      "Training until validation scores don't improve for 50 rounds\n",
      "Early stopping, best iteration is:\n",
      "[7]\tvalid_0's l2: 5.33184e+09\n",
      "Training until validation scores don't improve for 50 rounds\n",
      "Early stopping, best iteration is:\n",
      "[5]\tvalid_0's l2: 5.31336e+09\n",
      "Training until validation scores don't improve for 50 rounds\n"
     ]
    },
    {
     "name": "stderr",
     "output_type": "stream",
     "text": [
      "[I 2024-09-23 13:59:44,906] Trial 7 finished with value: 73083.66262346161 and parameters: {'n_estimators': 723, 'num_leaves': 508, 'max_depth': 39, 'learning_rate': 0.3645870608221405, 'subsample': 0.534048636768975, 'colsample_bytree': 0.7322654038896663, 'reg_alpha': 0.004916937769207978, 'reg_lambda': 0.7488782916686476, 'min_data_in_leaf': 87, 'feature_fraction': 0.5185472066172039, 'bagging_fraction': 0.6753281956415664, 'bagging_freq': 3, 'min_child_weight': 0.006286070313385454, 'cat_smooth': 32.53375211168362}. Best is trial 4 with value: 72560.73645238258.\n"
     ]
    },
    {
     "name": "stdout",
     "output_type": "stream",
     "text": [
      "Early stopping, best iteration is:\n",
      "[5]\tvalid_0's l2: 5.31651e+09\n",
      "Training until validation scores don't improve for 50 rounds\n",
      "Early stopping, best iteration is:\n",
      "[317]\tvalid_0's l2: 5.31773e+09\n",
      "Training until validation scores don't improve for 50 rounds\n",
      "Early stopping, best iteration is:\n",
      "[253]\tvalid_0's l2: 5.25907e+09\n",
      "Training until validation scores don't improve for 50 rounds\n",
      "Early stopping, best iteration is:\n",
      "[312]\tvalid_0's l2: 5.25851e+09\n",
      "Training until validation scores don't improve for 50 rounds\n",
      "Early stopping, best iteration is:\n",
      "[351]\tvalid_0's l2: 5.24855e+09\n",
      "Training until validation scores don't improve for 50 rounds\n",
      "Early stopping, best iteration is:\n",
      "[287]\tvalid_0's l2: 5.23493e+09\n"
     ]
    },
    {
     "name": "stderr",
     "output_type": "stream",
     "text": [
      "[I 2024-09-23 14:00:31,863] Trial 8 finished with value: 72551.74641655496 and parameters: {'n_estimators': 972, 'num_leaves': 363, 'max_depth': 12, 'learning_rate': 0.010314487673603769, 'subsample': 0.5540318863897262, 'colsample_bytree': 0.5894514042855452, 'reg_alpha': 0.02065202190439409, 'reg_lambda': 0.02893742513973448, 'min_data_in_leaf': 57, 'feature_fraction': 0.8762480851093014, 'bagging_fraction': 0.5534397921967846, 'bagging_freq': 4, 'min_child_weight': 0.06587365495478886, 'cat_smooth': 39.651139374964735}. Best is trial 8 with value: 72551.74641655496.\n"
     ]
    },
    {
     "name": "stdout",
     "output_type": "stream",
     "text": [
      "Training until validation scores don't improve for 50 rounds\n",
      "Did not meet early stopping. Best iteration is:\n",
      "[603]\tvalid_0's l2: 5.47729e+09\n",
      "Training until validation scores don't improve for 50 rounds\n",
      "Did not meet early stopping. Best iteration is:\n",
      "[603]\tvalid_0's l2: 5.45451e+09\n",
      "Training until validation scores don't improve for 50 rounds\n",
      "Did not meet early stopping. Best iteration is:\n",
      "[603]\tvalid_0's l2: 5.42596e+09\n",
      "Training until validation scores don't improve for 50 rounds\n",
      "Did not meet early stopping. Best iteration is:\n",
      "[603]\tvalid_0's l2: 5.4443e+09\n",
      "Training until validation scores don't improve for 50 rounds\n",
      "Did not meet early stopping. Best iteration is:\n",
      "[603]\tvalid_0's l2: 5.4031e+09\n"
     ]
    },
    {
     "name": "stderr",
     "output_type": "stream",
     "text": [
      "[I 2024-09-23 14:02:44,991] Trial 9 finished with value: 73763.33979247349 and parameters: {'n_estimators': 603, 'num_leaves': 373, 'max_depth': 42, 'learning_rate': 0.0013992136034385533, 'subsample': 0.6243062539013847, 'colsample_bytree': 0.7712042581140022, 'reg_alpha': 2.294246403767406e-06, 'reg_lambda': 0.03354641687863073, 'min_data_in_leaf': 114, 'feature_fraction': 0.9626784364338884, 'bagging_fraction': 0.7833749622874999, 'bagging_freq': 3, 'min_child_weight': 0.00012278919376690123, 'cat_smooth': 95.03843220828843}. Best is trial 8 with value: 72551.74641655496.\n",
      "c:\\Users\\lerch\\miniconda3\\envs\\cars\\Lib\\site-packages\\lightgbm\\engine.py:204: UserWarning: Found `n_estimators` in params. Will use it instead of argument\n",
      "  _log_warning(f\"Found `{alias}` in params. Will use it instead of argument\")\n"
     ]
    },
    {
     "name": "stdout",
     "output_type": "stream",
     "text": [
      "Training until validation scores don't improve for 50 rounds\n",
      "Early stopping, best iteration is:\n",
      "[245]\tvalid_0's l2: 5.31772e+09\n"
     ]
    },
    {
     "name": "stderr",
     "output_type": "stream",
     "text": [
      "c:\\Users\\lerch\\miniconda3\\envs\\cars\\Lib\\site-packages\\lightgbm\\engine.py:204: UserWarning: Found `n_estimators` in params. Will use it instead of argument\n",
      "  _log_warning(f\"Found `{alias}` in params. Will use it instead of argument\")\n"
     ]
    },
    {
     "name": "stdout",
     "output_type": "stream",
     "text": [
      "Training until validation scores don't improve for 50 rounds\n",
      "Early stopping, best iteration is:\n",
      "[310]\tvalid_0's l2: 5.26613e+09\n"
     ]
    },
    {
     "name": "stderr",
     "output_type": "stream",
     "text": [
      "c:\\Users\\lerch\\miniconda3\\envs\\cars\\Lib\\site-packages\\lightgbm\\engine.py:204: UserWarning: Found `n_estimators` in params. Will use it instead of argument\n",
      "  _log_warning(f\"Found `{alias}` in params. Will use it instead of argument\")\n"
     ]
    },
    {
     "name": "stdout",
     "output_type": "stream",
     "text": [
      "Training until validation scores don't improve for 50 rounds\n",
      "Early stopping, best iteration is:\n",
      "[276]\tvalid_0's l2: 5.26557e+09\n"
     ]
    },
    {
     "name": "stderr",
     "output_type": "stream",
     "text": [
      "c:\\Users\\lerch\\miniconda3\\envs\\cars\\Lib\\site-packages\\lightgbm\\engine.py:204: UserWarning: Found `n_estimators` in params. Will use it instead of argument\n",
      "  _log_warning(f\"Found `{alias}` in params. Will use it instead of argument\")\n"
     ]
    },
    {
     "name": "stdout",
     "output_type": "stream",
     "text": [
      "Training until validation scores don't improve for 50 rounds\n",
      "Early stopping, best iteration is:\n",
      "[284]\tvalid_0's l2: 5.24288e+09\n"
     ]
    },
    {
     "name": "stderr",
     "output_type": "stream",
     "text": [
      "c:\\Users\\lerch\\miniconda3\\envs\\cars\\Lib\\site-packages\\lightgbm\\engine.py:204: UserWarning: Found `n_estimators` in params. Will use it instead of argument\n",
      "  _log_warning(f\"Found `{alias}` in params. Will use it instead of argument\")\n"
     ]
    },
    {
     "name": "stdout",
     "output_type": "stream",
     "text": [
      "Training until validation scores don't improve for 50 rounds\n",
      "Early stopping, best iteration is:\n",
      "[345]\tvalid_0's l2: 5.2363e+09\n"
     ]
    },
    {
     "name": "stderr",
     "output_type": "stream",
     "text": [
      "[I 2024-09-23 14:03:32,515] A new study created in memory with name: no-name-04eb1e21-1427-453f-a3e2-891bc734d571\n"
     ]
    },
    {
     "name": "stdout",
     "output_type": "stream",
     "text": [
      "Training until validation scores don't improve for 50 rounds\n",
      "Early stopping, best iteration is:\n",
      "[13]\tvalid_0's l2: 5.32357e+09\n",
      "Training until validation scores don't improve for 50 rounds\n",
      "Early stopping, best iteration is:\n",
      "[20]\tvalid_0's l2: 5.34912e+09\n",
      "Training until validation scores don't improve for 50 rounds\n",
      "Early stopping, best iteration is:\n",
      "[11]\tvalid_0's l2: 5.30882e+09\n",
      "Training until validation scores don't improve for 50 rounds\n",
      "Early stopping, best iteration is:\n",
      "[17]\tvalid_0's l2: 5.29611e+09\n",
      "Training until validation scores don't improve for 50 rounds\n"
     ]
    },
    {
     "name": "stderr",
     "output_type": "stream",
     "text": [
      "[I 2024-09-23 14:03:43,180] Trial 0 finished with value: 72911.24404596759 and parameters: {'n_estimators': 1040, 'num_leaves': 308, 'max_depth': 42, 'learning_rate': 0.17636469336159113, 'subsample': 0.7492535061512953, 'colsample_bytree': 0.6123983227654238, 'reg_alpha': 1.54304001490974e-06, 'reg_lambda': 1.1018509458263566, 'min_data_in_leaf': 53, 'feature_fraction': 0.5441699070870052, 'bagging_fraction': 0.8426799091838986, 'bagging_freq': 5, 'min_child_weight': 0.00010560624429728648, 'cat_smooth': 32.52312463051321}. Best is trial 0 with value: 72911.24404596759.\n"
     ]
    },
    {
     "name": "stdout",
     "output_type": "stream",
     "text": [
      "Early stopping, best iteration is:\n",
      "[12]\tvalid_0's l2: 5.30263e+09\n",
      "Training until validation scores don't improve for 50 rounds\n",
      "Early stopping, best iteration is:\n",
      "[333]\tvalid_0's l2: 5.31775e+09\n",
      "Training until validation scores don't improve for 50 rounds\n",
      "Early stopping, best iteration is:\n",
      "[359]\tvalid_0's l2: 5.28916e+09\n",
      "Training until validation scores don't improve for 50 rounds\n",
      "Early stopping, best iteration is:\n",
      "[391]\tvalid_0's l2: 5.2503e+09\n",
      "Training until validation scores don't improve for 50 rounds\n",
      "Early stopping, best iteration is:\n",
      "[415]\tvalid_0's l2: 5.26031e+09\n",
      "Training until validation scores don't improve for 50 rounds\n",
      "Early stopping, best iteration is:\n",
      "[324]\tvalid_0's l2: 5.23127e+09\n"
     ]
    },
    {
     "name": "stderr",
     "output_type": "stream",
     "text": [
      "[I 2024-09-23 14:05:30,320] Trial 1 finished with value: 72593.09038240561 and parameters: {'n_estimators': 1069, 'num_leaves': 545, 'max_depth': 46, 'learning_rate': 0.007509797119626296, 'subsample': 0.9588870612564717, 'colsample_bytree': 0.8572878916988453, 'reg_alpha': 0.0001799973901160094, 'reg_lambda': 0.0037040785712895334, 'min_data_in_leaf': 70, 'feature_fraction': 0.8370668075331726, 'bagging_fraction': 0.720916587211498, 'bagging_freq': 3, 'min_child_weight': 0.5088641679920515, 'cat_smooth': 32.59404363006922}. Best is trial 1 with value: 72593.09038240561.\n"
     ]
    },
    {
     "name": "stdout",
     "output_type": "stream",
     "text": [
      "Training until validation scores don't improve for 50 rounds\n",
      "Early stopping, best iteration is:\n",
      "[67]\tvalid_0's l2: 5.32586e+09\n",
      "Training until validation scores don't improve for 50 rounds\n",
      "Early stopping, best iteration is:\n",
      "[76]\tvalid_0's l2: 5.2965e+09\n",
      "Training until validation scores don't improve for 50 rounds\n",
      "Early stopping, best iteration is:\n",
      "[69]\tvalid_0's l2: 5.25421e+09\n",
      "Training until validation scores don't improve for 50 rounds\n",
      "Early stopping, best iteration is:\n",
      "[74]\tvalid_0's l2: 5.26977e+09\n",
      "Training until validation scores don't improve for 50 rounds\n"
     ]
    },
    {
     "name": "stderr",
     "output_type": "stream",
     "text": [
      "[I 2024-09-23 14:06:02,100] Trial 2 finished with value: 72648.00467747147 and parameters: {'n_estimators': 955, 'num_leaves': 541, 'max_depth': 51, 'learning_rate': 0.036723279424594156, 'subsample': 0.9543244404043341, 'colsample_bytree': 0.6596180444942726, 'reg_alpha': 3.4894428963481334e-07, 'reg_lambda': 0.015951452190168802, 'min_data_in_leaf': 49, 'feature_fraction': 0.9143406631538383, 'bagging_fraction': 0.5234481596946249, 'bagging_freq': 4, 'min_child_weight': 0.1929820588974466, 'cat_smooth': 65.96096423779524}. Best is trial 1 with value: 72593.09038240561.\n"
     ]
    },
    {
     "name": "stdout",
     "output_type": "stream",
     "text": [
      "Early stopping, best iteration is:\n",
      "[59]\tvalid_0's l2: 5.24233e+09\n",
      "Training until validation scores don't improve for 50 rounds\n",
      "Early stopping, best iteration is:\n",
      "[11]\tvalid_0's l2: 5.3224e+09\n",
      "Training until validation scores don't improve for 50 rounds\n",
      "Early stopping, best iteration is:\n",
      "[13]\tvalid_0's l2: 5.30868e+09\n",
      "Training until validation scores don't improve for 50 rounds\n",
      "Early stopping, best iteration is:\n",
      "[11]\tvalid_0's l2: 5.30959e+09\n",
      "Training until validation scores don't improve for 50 rounds\n",
      "Early stopping, best iteration is:\n",
      "[12]\tvalid_0's l2: 5.30621e+09\n",
      "Training until validation scores don't improve for 50 rounds\n"
     ]
    },
    {
     "name": "stderr",
     "output_type": "stream",
     "text": [
      "[I 2024-09-23 14:06:18,354] Trial 3 finished with value: 72834.84969067544 and parameters: {'n_estimators': 639, 'num_leaves': 643, 'max_depth': 27, 'learning_rate': 0.18362976337563003, 'subsample': 0.6479808534398394, 'colsample_bytree': 0.9419682397805931, 'reg_alpha': 8.97573097030888e-06, 'reg_lambda': 0.004571551229239351, 'min_data_in_leaf': 71, 'feature_fraction': 0.5467301872793251, 'bagging_fraction': 0.9105528289184642, 'bagging_freq': 1, 'min_child_weight': 0.020169108029984395, 'cat_smooth': 87.9550363117174}. Best is trial 1 with value: 72593.09038240561.\n"
     ]
    },
    {
     "name": "stdout",
     "output_type": "stream",
     "text": [
      "Early stopping, best iteration is:\n",
      "[12]\tvalid_0's l2: 5.2777e+09\n",
      "Training until validation scores don't improve for 50 rounds\n",
      "Early stopping, best iteration is:\n",
      "[428]\tvalid_0's l2: 5.30912e+09\n",
      "Training until validation scores don't improve for 50 rounds\n",
      "Early stopping, best iteration is:\n",
      "[446]\tvalid_0's l2: 5.28387e+09\n",
      "Training until validation scores don't improve for 50 rounds\n",
      "Early stopping, best iteration is:\n",
      "[510]\tvalid_0's l2: 5.25414e+09\n",
      "Training until validation scores don't improve for 50 rounds\n",
      "Early stopping, best iteration is:\n",
      "[584]\tvalid_0's l2: 5.26129e+09\n",
      "Training until validation scores don't improve for 50 rounds\n",
      "Early stopping, best iteration is:\n",
      "[442]\tvalid_0's l2: 5.24212e+09\n"
     ]
    },
    {
     "name": "stderr",
     "output_type": "stream",
     "text": [
      "[I 2024-09-23 14:08:18,065] Trial 4 finished with value: 72595.50425859305 and parameters: {'n_estimators': 1192, 'num_leaves': 482, 'max_depth': 52, 'learning_rate': 0.005677045861147304, 'subsample': 0.7986858241154422, 'colsample_bytree': 0.9514158801658137, 'reg_alpha': 0.00016119356219527467, 'reg_lambda': 0.2295120287772858, 'min_data_in_leaf': 43, 'feature_fraction': 0.6785908793172681, 'bagging_fraction': 0.5398065450779821, 'bagging_freq': 2, 'min_child_weight': 0.009645302925851532, 'cat_smooth': 59.405997991322664}. Best is trial 1 with value: 72593.09038240561.\n"
     ]
    },
    {
     "name": "stdout",
     "output_type": "stream",
     "text": [
      "Training until validation scores don't improve for 50 rounds\n",
      "Early stopping, best iteration is:\n",
      "[33]\tvalid_0's l2: 5.32206e+09\n",
      "Training until validation scores don't improve for 50 rounds\n",
      "Early stopping, best iteration is:\n",
      "[33]\tvalid_0's l2: 5.30104e+09\n",
      "Training until validation scores don't improve for 50 rounds\n",
      "Early stopping, best iteration is:\n",
      "[40]\tvalid_0's l2: 5.26971e+09\n",
      "Training until validation scores don't improve for 50 rounds\n",
      "Early stopping, best iteration is:\n",
      "[46]\tvalid_0's l2: 5.26113e+09\n",
      "Training until validation scores don't improve for 50 rounds\n"
     ]
    },
    {
     "name": "stderr",
     "output_type": "stream",
     "text": [
      "[I 2024-09-23 14:08:36,692] Trial 5 finished with value: 72675.93810105446 and parameters: {'n_estimators': 528, 'num_leaves': 472, 'max_depth': 26, 'learning_rate': 0.08118455774682055, 'subsample': 0.6731735750400165, 'colsample_bytree': 0.5215486781024972, 'reg_alpha': 0.01903229002492754, 'reg_lambda': 1.1296979705718802, 'min_data_in_leaf': 111, 'feature_fraction': 0.7087545719196335, 'bagging_fraction': 0.8027887821968784, 'bagging_freq': 3, 'min_child_weight': 0.38638467047838265, 'cat_smooth': 18.290082361212804}. Best is trial 1 with value: 72593.09038240561.\n"
     ]
    },
    {
     "name": "stdout",
     "output_type": "stream",
     "text": [
      "Early stopping, best iteration is:\n",
      "[30]\tvalid_0's l2: 5.25502e+09\n",
      "Training until validation scores don't improve for 50 rounds\n",
      "Early stopping, best iteration is:\n",
      "[504]\tvalid_0's l2: 5.31449e+09\n",
      "Training until validation scores don't improve for 50 rounds\n",
      "Early stopping, best iteration is:\n",
      "[471]\tvalid_0's l2: 5.29182e+09\n",
      "Training until validation scores don't improve for 50 rounds\n",
      "Early stopping, best iteration is:\n",
      "[495]\tvalid_0's l2: 5.24624e+09\n",
      "Training until validation scores don't improve for 50 rounds\n",
      "Early stopping, best iteration is:\n",
      "[653]\tvalid_0's l2: 5.26711e+09\n",
      "Training until validation scores don't improve for 50 rounds\n",
      "Early stopping, best iteration is:\n",
      "[456]\tvalid_0's l2: 5.2355e+09\n"
     ]
    },
    {
     "name": "stderr",
     "output_type": "stream",
     "text": [
      "[I 2024-09-23 14:10:30,352] Trial 6 finished with value: 72601.85963374923 and parameters: {'n_estimators': 710, 'num_leaves': 310, 'max_depth': 25, 'learning_rate': 0.005323872255879759, 'subsample': 0.778789094331322, 'colsample_bytree': 0.7827535099440838, 'reg_alpha': 7.092404300854912e-05, 'reg_lambda': 0.01483173321964085, 'min_data_in_leaf': 45, 'feature_fraction': 0.9894095728788213, 'bagging_fraction': 0.6698539218189319, 'bagging_freq': 3, 'min_child_weight': 72.85919281852098, 'cat_smooth': 27.591405563189507}. Best is trial 1 with value: 72593.09038240561.\n"
     ]
    },
    {
     "name": "stdout",
     "output_type": "stream",
     "text": [
      "Training until validation scores don't improve for 50 rounds\n",
      "Early stopping, best iteration is:\n",
      "[5]\tvalid_0's l2: 5.35002e+09\n",
      "Training until validation scores don't improve for 50 rounds\n",
      "Early stopping, best iteration is:\n",
      "[6]\tvalid_0's l2: 5.36969e+09\n",
      "Training until validation scores don't improve for 50 rounds\n",
      "Early stopping, best iteration is:\n",
      "[6]\tvalid_0's l2: 5.34807e+09\n",
      "Training until validation scores don't improve for 50 rounds\n",
      "Early stopping, best iteration is:\n",
      "[5]\tvalid_0's l2: 5.33596e+09\n",
      "Training until validation scores don't improve for 50 rounds\n"
     ]
    },
    {
     "name": "stderr",
     "output_type": "stream",
     "text": [
      "[I 2024-09-23 14:10:49,069] Trial 7 finished with value: 73132.74439105293 and parameters: {'n_estimators': 723, 'num_leaves': 508, 'max_depth': 39, 'learning_rate': 0.3645870608221405, 'subsample': 0.534048636768975, 'colsample_bytree': 0.7322654038896663, 'reg_alpha': 0.004916937769207978, 'reg_lambda': 0.7488782916686476, 'min_data_in_leaf': 87, 'feature_fraction': 0.5185472066172039, 'bagging_fraction': 0.6753281956415664, 'bagging_freq': 3, 'min_child_weight': 0.006286070313385454, 'cat_smooth': 32.53375211168362}. Best is trial 1 with value: 72593.09038240561.\n"
     ]
    },
    {
     "name": "stdout",
     "output_type": "stream",
     "text": [
      "Early stopping, best iteration is:\n",
      "[8]\tvalid_0's l2: 5.33825e+09\n",
      "Training until validation scores don't improve for 50 rounds\n",
      "Early stopping, best iteration is:\n",
      "[231]\tvalid_0's l2: 5.30505e+09\n",
      "Training until validation scores don't improve for 50 rounds\n",
      "Early stopping, best iteration is:\n",
      "[233]\tvalid_0's l2: 5.28888e+09\n",
      "Training until validation scores don't improve for 50 rounds\n",
      "Early stopping, best iteration is:\n",
      "[302]\tvalid_0's l2: 5.24682e+09\n",
      "Training until validation scores don't improve for 50 rounds\n",
      "Early stopping, best iteration is:\n",
      "[400]\tvalid_0's l2: 5.25832e+09\n",
      "Training until validation scores don't improve for 50 rounds\n",
      "Early stopping, best iteration is:\n",
      "[357]\tvalid_0's l2: 5.2368e+09\n"
     ]
    },
    {
     "name": "stderr",
     "output_type": "stream",
     "text": [
      "[I 2024-09-23 14:11:37,240] Trial 8 finished with value: 72575.29909363916 and parameters: {'n_estimators': 972, 'num_leaves': 363, 'max_depth': 12, 'learning_rate': 0.010314487673603769, 'subsample': 0.5540318863897262, 'colsample_bytree': 0.5894514042855452, 'reg_alpha': 0.02065202190439409, 'reg_lambda': 0.02893742513973448, 'min_data_in_leaf': 57, 'feature_fraction': 0.8762480851093014, 'bagging_fraction': 0.5534397921967846, 'bagging_freq': 4, 'min_child_weight': 0.06587365495478886, 'cat_smooth': 39.651139374964735}. Best is trial 8 with value: 72575.29909363916.\n"
     ]
    },
    {
     "name": "stdout",
     "output_type": "stream",
     "text": [
      "Training until validation scores don't improve for 50 rounds\n",
      "Did not meet early stopping. Best iteration is:\n",
      "[603]\tvalid_0's l2: 5.47993e+09\n",
      "Training until validation scores don't improve for 50 rounds\n",
      "Did not meet early stopping. Best iteration is:\n",
      "[603]\tvalid_0's l2: 5.46567e+09\n",
      "Training until validation scores don't improve for 50 rounds\n",
      "Did not meet early stopping. Best iteration is:\n",
      "[603]\tvalid_0's l2: 5.42212e+09\n",
      "Training until validation scores don't improve for 50 rounds\n",
      "Did not meet early stopping. Best iteration is:\n",
      "[603]\tvalid_0's l2: 5.46108e+09\n",
      "Training until validation scores don't improve for 50 rounds\n",
      "Did not meet early stopping. Best iteration is:\n",
      "[603]\tvalid_0's l2: 5.41079e+09\n"
     ]
    },
    {
     "name": "stderr",
     "output_type": "stream",
     "text": [
      "[I 2024-09-23 14:13:36,653] Trial 9 finished with value: 73810.02134927735 and parameters: {'n_estimators': 603, 'num_leaves': 373, 'max_depth': 42, 'learning_rate': 0.0013992136034385533, 'subsample': 0.6243062539013847, 'colsample_bytree': 0.7712042581140022, 'reg_alpha': 2.294246403767406e-06, 'reg_lambda': 0.03354641687863073, 'min_data_in_leaf': 114, 'feature_fraction': 0.9626784364338884, 'bagging_fraction': 0.7833749622874999, 'bagging_freq': 3, 'min_child_weight': 0.00012278919376690123, 'cat_smooth': 95.03843220828843}. Best is trial 8 with value: 72575.29909363916.\n",
      "c:\\Users\\lerch\\miniconda3\\envs\\cars\\Lib\\site-packages\\lightgbm\\engine.py:204: UserWarning: Found `n_estimators` in params. Will use it instead of argument\n",
      "  _log_warning(f\"Found `{alias}` in params. Will use it instead of argument\")\n"
     ]
    },
    {
     "name": "stdout",
     "output_type": "stream",
     "text": [
      "Training until validation scores don't improve for 50 rounds\n",
      "Early stopping, best iteration is:\n",
      "[280]\tvalid_0's l2: 5.31229e+09\n"
     ]
    },
    {
     "name": "stderr",
     "output_type": "stream",
     "text": [
      "c:\\Users\\lerch\\miniconda3\\envs\\cars\\Lib\\site-packages\\lightgbm\\engine.py:204: UserWarning: Found `n_estimators` in params. Will use it instead of argument\n",
      "  _log_warning(f\"Found `{alias}` in params. Will use it instead of argument\")\n"
     ]
    },
    {
     "name": "stdout",
     "output_type": "stream",
     "text": [
      "Training until validation scores don't improve for 50 rounds\n",
      "Early stopping, best iteration is:\n",
      "[252]\tvalid_0's l2: 5.28394e+09\n"
     ]
    },
    {
     "name": "stderr",
     "output_type": "stream",
     "text": [
      "c:\\Users\\lerch\\miniconda3\\envs\\cars\\Lib\\site-packages\\lightgbm\\engine.py:204: UserWarning: Found `n_estimators` in params. Will use it instead of argument\n",
      "  _log_warning(f\"Found `{alias}` in params. Will use it instead of argument\")\n"
     ]
    },
    {
     "name": "stdout",
     "output_type": "stream",
     "text": [
      "Training until validation scores don't improve for 50 rounds\n",
      "Early stopping, best iteration is:\n",
      "[348]\tvalid_0's l2: 5.24675e+09\n"
     ]
    },
    {
     "name": "stderr",
     "output_type": "stream",
     "text": [
      "c:\\Users\\lerch\\miniconda3\\envs\\cars\\Lib\\site-packages\\lightgbm\\engine.py:204: UserWarning: Found `n_estimators` in params. Will use it instead of argument\n",
      "  _log_warning(f\"Found `{alias}` in params. Will use it instead of argument\")\n"
     ]
    },
    {
     "name": "stdout",
     "output_type": "stream",
     "text": [
      "Training until validation scores don't improve for 50 rounds\n",
      "Early stopping, best iteration is:\n",
      "[340]\tvalid_0's l2: 5.25292e+09\n"
     ]
    },
    {
     "name": "stderr",
     "output_type": "stream",
     "text": [
      "c:\\Users\\lerch\\miniconda3\\envs\\cars\\Lib\\site-packages\\lightgbm\\engine.py:204: UserWarning: Found `n_estimators` in params. Will use it instead of argument\n",
      "  _log_warning(f\"Found `{alias}` in params. Will use it instead of argument\")\n"
     ]
    },
    {
     "name": "stdout",
     "output_type": "stream",
     "text": [
      "Training until validation scores don't improve for 50 rounds\n",
      "Early stopping, best iteration is:\n",
      "[315]\tvalid_0's l2: 5.22592e+09\n"
     ]
    },
    {
     "name": "stderr",
     "output_type": "stream",
     "text": [
      "[I 2024-09-23 14:14:26,373] A new study created in memory with name: no-name-159c7cd2-53a7-4568-8bb0-5f8c5352340d\n"
     ]
    },
    {
     "name": "stdout",
     "output_type": "stream",
     "text": [
      "Training until validation scores don't improve for 50 rounds\n",
      "Early stopping, best iteration is:\n",
      "[10]\tvalid_0's l2: 5.36341e+09\n",
      "Training until validation scores don't improve for 50 rounds\n",
      "Early stopping, best iteration is:\n",
      "[13]\tvalid_0's l2: 5.34701e+09\n",
      "Training until validation scores don't improve for 50 rounds\n",
      "Early stopping, best iteration is:\n",
      "[13]\tvalid_0's l2: 5.32565e+09\n",
      "Training until validation scores don't improve for 50 rounds\n",
      "Early stopping, best iteration is:\n",
      "[19]\tvalid_0's l2: 5.3196e+09\n",
      "Training until validation scores don't improve for 50 rounds\n"
     ]
    },
    {
     "name": "stderr",
     "output_type": "stream",
     "text": [
      "[I 2024-09-23 14:14:38,729] Trial 0 finished with value: 73022.21085486833 and parameters: {'n_estimators': 1040, 'num_leaves': 308, 'max_depth': 42, 'learning_rate': 0.17636469336159113, 'subsample': 0.7492535061512953, 'colsample_bytree': 0.6123983227654238, 'reg_alpha': 1.54304001490974e-06, 'reg_lambda': 1.1018509458263566, 'min_data_in_leaf': 53, 'feature_fraction': 0.5441699070870052, 'bagging_fraction': 0.8426799091838986, 'bagging_freq': 5, 'min_child_weight': 0.00010560624429728648, 'cat_smooth': 32.52312463051321}. Best is trial 0 with value: 73022.21085486833.\n"
     ]
    },
    {
     "name": "stdout",
     "output_type": "stream",
     "text": [
      "Early stopping, best iteration is:\n",
      "[13]\tvalid_0's l2: 5.30555e+09\n",
      "Training until validation scores don't improve for 50 rounds\n",
      "Early stopping, best iteration is:\n",
      "[321]\tvalid_0's l2: 5.32691e+09\n",
      "Training until validation scores don't improve for 50 rounds\n",
      "Early stopping, best iteration is:\n",
      "[358]\tvalid_0's l2: 5.30421e+09\n",
      "Training until validation scores don't improve for 50 rounds\n",
      "Early stopping, best iteration is:\n",
      "[344]\tvalid_0's l2: 5.25037e+09\n",
      "Training until validation scores don't improve for 50 rounds\n",
      "Early stopping, best iteration is:\n",
      "[369]\tvalid_0's l2: 5.24886e+09\n",
      "Training until validation scores don't improve for 50 rounds\n",
      "Early stopping, best iteration is:\n",
      "[349]\tvalid_0's l2: 5.25618e+09\n"
     ]
    },
    {
     "name": "stderr",
     "output_type": "stream",
     "text": [
      "[I 2024-09-23 14:16:42,819] Trial 1 finished with value: 72645.08406059652 and parameters: {'n_estimators': 1069, 'num_leaves': 545, 'max_depth': 46, 'learning_rate': 0.007509797119626296, 'subsample': 0.9588870612564717, 'colsample_bytree': 0.8572878916988453, 'reg_alpha': 0.0001799973901160094, 'reg_lambda': 0.0037040785712895334, 'min_data_in_leaf': 70, 'feature_fraction': 0.8370668075331726, 'bagging_fraction': 0.720916587211498, 'bagging_freq': 3, 'min_child_weight': 0.5088641679920515, 'cat_smooth': 32.59404363006922}. Best is trial 1 with value: 72645.08406059652.\n"
     ]
    },
    {
     "name": "stdout",
     "output_type": "stream",
     "text": [
      "Training until validation scores don't improve for 50 rounds\n",
      "Early stopping, best iteration is:\n",
      "[56]\tvalid_0's l2: 5.34147e+09\n",
      "Training until validation scores don't improve for 50 rounds\n",
      "Early stopping, best iteration is:\n",
      "[76]\tvalid_0's l2: 5.30891e+09\n",
      "Training until validation scores don't improve for 50 rounds\n",
      "Early stopping, best iteration is:\n",
      "[76]\tvalid_0's l2: 5.27709e+09\n",
      "Training until validation scores don't improve for 50 rounds\n",
      "Early stopping, best iteration is:\n",
      "[71]\tvalid_0's l2: 5.2758e+09\n",
      "Training until validation scores don't improve for 50 rounds\n"
     ]
    },
    {
     "name": "stderr",
     "output_type": "stream",
     "text": [
      "[I 2024-09-23 14:17:15,716] Trial 2 finished with value: 72745.75834390968 and parameters: {'n_estimators': 955, 'num_leaves': 541, 'max_depth': 51, 'learning_rate': 0.036723279424594156, 'subsample': 0.9543244404043341, 'colsample_bytree': 0.6596180444942726, 'reg_alpha': 3.4894428963481334e-07, 'reg_lambda': 0.015951452190168802, 'min_data_in_leaf': 49, 'feature_fraction': 0.9143406631538383, 'bagging_fraction': 0.5234481596946249, 'bagging_freq': 4, 'min_child_weight': 0.1929820588974466, 'cat_smooth': 65.96096423779524}. Best is trial 1 with value: 72645.08406059652.\n"
     ]
    },
    {
     "name": "stdout",
     "output_type": "stream",
     "text": [
      "Early stopping, best iteration is:\n",
      "[74]\tvalid_0's l2: 5.25646e+09\n",
      "Training until validation scores don't improve for 50 rounds\n",
      "Early stopping, best iteration is:\n",
      "[10]\tvalid_0's l2: 5.35948e+09\n",
      "Training until validation scores don't improve for 50 rounds\n",
      "Early stopping, best iteration is:\n",
      "[13]\tvalid_0's l2: 5.33311e+09\n",
      "Training until validation scores don't improve for 50 rounds\n",
      "Early stopping, best iteration is:\n",
      "[12]\tvalid_0's l2: 5.30565e+09\n",
      "Training until validation scores don't improve for 50 rounds\n",
      "Early stopping, best iteration is:\n",
      "[11]\tvalid_0's l2: 5.30665e+09\n",
      "Training until validation scores don't improve for 50 rounds\n"
     ]
    },
    {
     "name": "stderr",
     "output_type": "stream",
     "text": [
      "[I 2024-09-23 14:17:31,659] Trial 3 finished with value: 72929.46693477246 and parameters: {'n_estimators': 639, 'num_leaves': 643, 'max_depth': 27, 'learning_rate': 0.18362976337563003, 'subsample': 0.6479808534398394, 'colsample_bytree': 0.9419682397805931, 'reg_alpha': 8.97573097030888e-06, 'reg_lambda': 0.004571551229239351, 'min_data_in_leaf': 71, 'feature_fraction': 0.5467301872793251, 'bagging_fraction': 0.9105528289184642, 'bagging_freq': 1, 'min_child_weight': 0.020169108029984395, 'cat_smooth': 87.9550363117174}. Best is trial 1 with value: 72645.08406059652.\n"
     ]
    },
    {
     "name": "stdout",
     "output_type": "stream",
     "text": [
      "Early stopping, best iteration is:\n",
      "[13]\tvalid_0's l2: 5.28865e+09\n",
      "Training until validation scores don't improve for 50 rounds\n",
      "Early stopping, best iteration is:\n",
      "[416]\tvalid_0's l2: 5.31969e+09\n",
      "Training until validation scores don't improve for 50 rounds\n",
      "Early stopping, best iteration is:\n",
      "[479]\tvalid_0's l2: 5.29302e+09\n",
      "Training until validation scores don't improve for 50 rounds\n",
      "Early stopping, best iteration is:\n",
      "[499]\tvalid_0's l2: 5.24794e+09\n",
      "Training until validation scores don't improve for 50 rounds\n",
      "Early stopping, best iteration is:\n",
      "[508]\tvalid_0's l2: 5.24956e+09\n",
      "Training until validation scores don't improve for 50 rounds\n",
      "Early stopping, best iteration is:\n",
      "[518]\tvalid_0's l2: 5.2514e+09\n"
     ]
    },
    {
     "name": "stderr",
     "output_type": "stream",
     "text": [
      "[I 2024-09-23 14:20:04,414] Trial 4 finished with value: 72610.75451157881 and parameters: {'n_estimators': 1192, 'num_leaves': 482, 'max_depth': 52, 'learning_rate': 0.005677045861147304, 'subsample': 0.7986858241154422, 'colsample_bytree': 0.9514158801658137, 'reg_alpha': 0.00016119356219527467, 'reg_lambda': 0.2295120287772858, 'min_data_in_leaf': 43, 'feature_fraction': 0.6785908793172681, 'bagging_fraction': 0.5398065450779821, 'bagging_freq': 2, 'min_child_weight': 0.009645302925851532, 'cat_smooth': 59.405997991322664}. Best is trial 4 with value: 72610.75451157881.\n"
     ]
    },
    {
     "name": "stdout",
     "output_type": "stream",
     "text": [
      "Training until validation scores don't improve for 50 rounds\n",
      "Early stopping, best iteration is:\n",
      "[35]\tvalid_0's l2: 5.32957e+09\n",
      "Training until validation scores don't improve for 50 rounds\n",
      "Early stopping, best iteration is:\n",
      "[32]\tvalid_0's l2: 5.29723e+09\n",
      "Training until validation scores don't improve for 50 rounds\n",
      "Early stopping, best iteration is:\n",
      "[41]\tvalid_0's l2: 5.27226e+09\n",
      "Training until validation scores don't improve for 50 rounds\n",
      "Early stopping, best iteration is:\n",
      "[32]\tvalid_0's l2: 5.26034e+09\n",
      "Training until validation scores don't improve for 50 rounds\n"
     ]
    },
    {
     "name": "stderr",
     "output_type": "stream",
     "text": [
      "[I 2024-09-23 14:20:24,209] Trial 5 finished with value: 72675.87619523029 and parameters: {'n_estimators': 528, 'num_leaves': 472, 'max_depth': 26, 'learning_rate': 0.08118455774682055, 'subsample': 0.6731735750400165, 'colsample_bytree': 0.5215486781024972, 'reg_alpha': 0.01903229002492754, 'reg_lambda': 1.1296979705718802, 'min_data_in_leaf': 111, 'feature_fraction': 0.7087545719196335, 'bagging_fraction': 0.8027887821968784, 'bagging_freq': 3, 'min_child_weight': 0.38638467047838265, 'cat_smooth': 18.290082361212804}. Best is trial 4 with value: 72610.75451157881.\n"
     ]
    },
    {
     "name": "stdout",
     "output_type": "stream",
     "text": [
      "Early stopping, best iteration is:\n",
      "[46]\tvalid_0's l2: 5.24951e+09\n",
      "Training until validation scores don't improve for 50 rounds\n",
      "Early stopping, best iteration is:\n",
      "[477]\tvalid_0's l2: 5.33012e+09\n",
      "Training until validation scores don't improve for 50 rounds\n",
      "Early stopping, best iteration is:\n",
      "[603]\tvalid_0's l2: 5.30415e+09\n",
      "Training until validation scores don't improve for 50 rounds\n",
      "Early stopping, best iteration is:\n",
      "[516]\tvalid_0's l2: 5.25162e+09\n",
      "Training until validation scores don't improve for 50 rounds\n",
      "Early stopping, best iteration is:\n",
      "[567]\tvalid_0's l2: 5.2548e+09\n",
      "Training until validation scores don't improve for 50 rounds\n",
      "Early stopping, best iteration is:\n",
      "[549]\tvalid_0's l2: 5.25586e+09\n"
     ]
    },
    {
     "name": "stderr",
     "output_type": "stream",
     "text": [
      "[I 2024-09-23 14:22:06,884] Trial 6 finished with value: 72658.86771678402 and parameters: {'n_estimators': 710, 'num_leaves': 310, 'max_depth': 25, 'learning_rate': 0.005323872255879759, 'subsample': 0.778789094331322, 'colsample_bytree': 0.7827535099440838, 'reg_alpha': 7.092404300854912e-05, 'reg_lambda': 0.01483173321964085, 'min_data_in_leaf': 45, 'feature_fraction': 0.9894095728788213, 'bagging_fraction': 0.6698539218189319, 'bagging_freq': 3, 'min_child_weight': 72.85919281852098, 'cat_smooth': 27.591405563189507}. Best is trial 4 with value: 72610.75451157881.\n"
     ]
    },
    {
     "name": "stdout",
     "output_type": "stream",
     "text": [
      "Training until validation scores don't improve for 50 rounds\n",
      "Early stopping, best iteration is:\n",
      "[5]\tvalid_0's l2: 5.38275e+09\n",
      "Training until validation scores don't improve for 50 rounds\n",
      "Early stopping, best iteration is:\n",
      "[6]\tvalid_0's l2: 5.36396e+09\n",
      "Training until validation scores don't improve for 50 rounds\n",
      "Early stopping, best iteration is:\n",
      "[7]\tvalid_0's l2: 5.33252e+09\n",
      "Training until validation scores don't improve for 50 rounds\n",
      "Early stopping, best iteration is:\n",
      "[5]\tvalid_0's l2: 5.34001e+09\n",
      "Training until validation scores don't improve for 50 rounds\n"
     ]
    },
    {
     "name": "stderr",
     "output_type": "stream",
     "text": [
      "[I 2024-09-23 14:22:21,643] Trial 7 finished with value: 73168.90318905131 and parameters: {'n_estimators': 723, 'num_leaves': 508, 'max_depth': 39, 'learning_rate': 0.3645870608221405, 'subsample': 0.534048636768975, 'colsample_bytree': 0.7322654038896663, 'reg_alpha': 0.004916937769207978, 'reg_lambda': 0.7488782916686476, 'min_data_in_leaf': 87, 'feature_fraction': 0.5185472066172039, 'bagging_fraction': 0.6753281956415664, 'bagging_freq': 3, 'min_child_weight': 0.006286070313385454, 'cat_smooth': 32.53375211168362}. Best is trial 4 with value: 72610.75451157881.\n"
     ]
    },
    {
     "name": "stdout",
     "output_type": "stream",
     "text": [
      "Early stopping, best iteration is:\n",
      "[6]\tvalid_0's l2: 5.3492e+09\n",
      "Training until validation scores don't improve for 50 rounds\n",
      "Early stopping, best iteration is:\n",
      "[290]\tvalid_0's l2: 5.3151e+09\n",
      "Training until validation scores don't improve for 50 rounds\n",
      "Early stopping, best iteration is:\n",
      "[302]\tvalid_0's l2: 5.29369e+09\n",
      "Training until validation scores don't improve for 50 rounds\n",
      "Early stopping, best iteration is:\n",
      "[285]\tvalid_0's l2: 5.24982e+09\n",
      "Training until validation scores don't improve for 50 rounds\n",
      "Early stopping, best iteration is:\n",
      "[352]\tvalid_0's l2: 5.25092e+09\n",
      "Training until validation scores don't improve for 50 rounds\n",
      "Early stopping, best iteration is:\n",
      "[356]\tvalid_0's l2: 5.24564e+09\n"
     ]
    },
    {
     "name": "stderr",
     "output_type": "stream",
     "text": [
      "[I 2024-09-23 14:23:08,615] Trial 8 finished with value: 72601.88753137975 and parameters: {'n_estimators': 972, 'num_leaves': 363, 'max_depth': 12, 'learning_rate': 0.010314487673603769, 'subsample': 0.5540318863897262, 'colsample_bytree': 0.5894514042855452, 'reg_alpha': 0.02065202190439409, 'reg_lambda': 0.02893742513973448, 'min_data_in_leaf': 57, 'feature_fraction': 0.8762480851093014, 'bagging_fraction': 0.5534397921967846, 'bagging_freq': 4, 'min_child_weight': 0.06587365495478886, 'cat_smooth': 39.651139374964735}. Best is trial 8 with value: 72601.88753137975.\n"
     ]
    },
    {
     "name": "stdout",
     "output_type": "stream",
     "text": [
      "Training until validation scores don't improve for 50 rounds\n",
      "Did not meet early stopping. Best iteration is:\n",
      "[603]\tvalid_0's l2: 5.48113e+09\n",
      "Training until validation scores don't improve for 50 rounds\n",
      "Did not meet early stopping. Best iteration is:\n",
      "[603]\tvalid_0's l2: 5.46366e+09\n",
      "Training until validation scores don't improve for 50 rounds\n",
      "Did not meet early stopping. Best iteration is:\n",
      "[603]\tvalid_0's l2: 5.41544e+09\n",
      "Training until validation scores don't improve for 50 rounds\n",
      "Did not meet early stopping. Best iteration is:\n",
      "[603]\tvalid_0's l2: 5.45428e+09\n",
      "Training until validation scores don't improve for 50 rounds\n",
      "Did not meet early stopping. Best iteration is:\n",
      "[603]\tvalid_0's l2: 5.41946e+09\n"
     ]
    },
    {
     "name": "stderr",
     "output_type": "stream",
     "text": [
      "[I 2024-09-23 14:25:15,555] Trial 9 finished with value: 73802.38861325137 and parameters: {'n_estimators': 603, 'num_leaves': 373, 'max_depth': 42, 'learning_rate': 0.0013992136034385533, 'subsample': 0.6243062539013847, 'colsample_bytree': 0.7712042581140022, 'reg_alpha': 2.294246403767406e-06, 'reg_lambda': 0.03354641687863073, 'min_data_in_leaf': 114, 'feature_fraction': 0.9626784364338884, 'bagging_fraction': 0.7833749622874999, 'bagging_freq': 3, 'min_child_weight': 0.00012278919376690123, 'cat_smooth': 95.03843220828843}. Best is trial 8 with value: 72601.88753137975.\n",
      "c:\\Users\\lerch\\miniconda3\\envs\\cars\\Lib\\site-packages\\lightgbm\\engine.py:204: UserWarning: Found `n_estimators` in params. Will use it instead of argument\n",
      "  _log_warning(f\"Found `{alias}` in params. Will use it instead of argument\")\n"
     ]
    },
    {
     "name": "stdout",
     "output_type": "stream",
     "text": [
      "Training until validation scores don't improve for 50 rounds\n",
      "Early stopping, best iteration is:\n",
      "[240]\tvalid_0's l2: 5.31635e+09\n"
     ]
    },
    {
     "name": "stderr",
     "output_type": "stream",
     "text": [
      "c:\\Users\\lerch\\miniconda3\\envs\\cars\\Lib\\site-packages\\lightgbm\\engine.py:204: UserWarning: Found `n_estimators` in params. Will use it instead of argument\n",
      "  _log_warning(f\"Found `{alias}` in params. Will use it instead of argument\")\n"
     ]
    },
    {
     "name": "stdout",
     "output_type": "stream",
     "text": [
      "Training until validation scores don't improve for 50 rounds\n",
      "Early stopping, best iteration is:\n",
      "[302]\tvalid_0's l2: 5.29402e+09\n"
     ]
    },
    {
     "name": "stderr",
     "output_type": "stream",
     "text": [
      "c:\\Users\\lerch\\miniconda3\\envs\\cars\\Lib\\site-packages\\lightgbm\\engine.py:204: UserWarning: Found `n_estimators` in params. Will use it instead of argument\n",
      "  _log_warning(f\"Found `{alias}` in params. Will use it instead of argument\")\n"
     ]
    },
    {
     "name": "stdout",
     "output_type": "stream",
     "text": [
      "Training until validation scores don't improve for 50 rounds\n",
      "Early stopping, best iteration is:\n",
      "[276]\tvalid_0's l2: 5.2516e+09\n"
     ]
    },
    {
     "name": "stderr",
     "output_type": "stream",
     "text": [
      "c:\\Users\\lerch\\miniconda3\\envs\\cars\\Lib\\site-packages\\lightgbm\\engine.py:204: UserWarning: Found `n_estimators` in params. Will use it instead of argument\n",
      "  _log_warning(f\"Found `{alias}` in params. Will use it instead of argument\")\n"
     ]
    },
    {
     "name": "stdout",
     "output_type": "stream",
     "text": [
      "Training until validation scores don't improve for 50 rounds\n",
      "Early stopping, best iteration is:\n",
      "[281]\tvalid_0's l2: 5.25306e+09\n"
     ]
    },
    {
     "name": "stderr",
     "output_type": "stream",
     "text": [
      "c:\\Users\\lerch\\miniconda3\\envs\\cars\\Lib\\site-packages\\lightgbm\\engine.py:204: UserWarning: Found `n_estimators` in params. Will use it instead of argument\n",
      "  _log_warning(f\"Found `{alias}` in params. Will use it instead of argument\")\n"
     ]
    },
    {
     "name": "stdout",
     "output_type": "stream",
     "text": [
      "Training until validation scores don't improve for 50 rounds\n",
      "Early stopping, best iteration is:\n",
      "[289]\tvalid_0's l2: 5.25265e+09\n"
     ]
    },
    {
     "name": "stderr",
     "output_type": "stream",
     "text": [
      "[I 2024-09-23 14:26:12,166] A new study created in memory with name: no-name-e3016f39-b9cd-40f5-9f86-44dd827081b0\n"
     ]
    },
    {
     "name": "stdout",
     "output_type": "stream",
     "text": [
      "Training until validation scores don't improve for 50 rounds\n",
      "Early stopping, best iteration is:\n",
      "[14]\tvalid_0's l2: 5.35134e+09\n",
      "Training until validation scores don't improve for 50 rounds\n",
      "Early stopping, best iteration is:\n",
      "[13]\tvalid_0's l2: 5.31485e+09\n",
      "Training until validation scores don't improve for 50 rounds\n",
      "Early stopping, best iteration is:\n",
      "[12]\tvalid_0's l2: 5.29833e+09\n",
      "Training until validation scores don't improve for 50 rounds\n",
      "Early stopping, best iteration is:\n",
      "[13]\tvalid_0's l2: 5.29693e+09\n",
      "Training until validation scores don't improve for 50 rounds\n"
     ]
    },
    {
     "name": "stderr",
     "output_type": "stream",
     "text": [
      "[I 2024-09-23 14:26:24,335] Trial 0 finished with value: 72891.48848468687 and parameters: {'n_estimators': 1040, 'num_leaves': 308, 'max_depth': 42, 'learning_rate': 0.17636469336159113, 'subsample': 0.7492535061512953, 'colsample_bytree': 0.6123983227654238, 'reg_alpha': 1.54304001490974e-06, 'reg_lambda': 1.1018509458263566, 'min_data_in_leaf': 53, 'feature_fraction': 0.5441699070870052, 'bagging_fraction': 0.8426799091838986, 'bagging_freq': 5, 'min_child_weight': 0.00010560624429728648, 'cat_smooth': 32.52312463051321}. Best is trial 0 with value: 72891.48848468687.\n"
     ]
    },
    {
     "name": "stdout",
     "output_type": "stream",
     "text": [
      "Early stopping, best iteration is:\n",
      "[12]\tvalid_0's l2: 5.30439e+09\n",
      "Training until validation scores don't improve for 50 rounds\n",
      "Early stopping, best iteration is:\n",
      "[376]\tvalid_0's l2: 5.29588e+09\n",
      "Training until validation scores don't improve for 50 rounds\n",
      "Early stopping, best iteration is:\n",
      "[362]\tvalid_0's l2: 5.26607e+09\n",
      "Training until validation scores don't improve for 50 rounds\n",
      "Early stopping, best iteration is:\n",
      "[388]\tvalid_0's l2: 5.23916e+09\n",
      "Training until validation scores don't improve for 50 rounds\n",
      "Early stopping, best iteration is:\n",
      "[369]\tvalid_0's l2: 5.25072e+09\n",
      "Training until validation scores don't improve for 50 rounds\n",
      "Early stopping, best iteration is:\n",
      "[398]\tvalid_0's l2: 5.2586e+09\n"
     ]
    },
    {
     "name": "stderr",
     "output_type": "stream",
     "text": [
      "[I 2024-09-23 14:28:27,366] Trial 1 finished with value: 72540.24785928518 and parameters: {'n_estimators': 1069, 'num_leaves': 545, 'max_depth': 46, 'learning_rate': 0.007509797119626296, 'subsample': 0.9588870612564717, 'colsample_bytree': 0.8572878916988453, 'reg_alpha': 0.0001799973901160094, 'reg_lambda': 0.0037040785712895334, 'min_data_in_leaf': 70, 'feature_fraction': 0.8370668075331726, 'bagging_fraction': 0.720916587211498, 'bagging_freq': 3, 'min_child_weight': 0.5088641679920515, 'cat_smooth': 32.59404363006922}. Best is trial 1 with value: 72540.24785928518.\n"
     ]
    },
    {
     "name": "stdout",
     "output_type": "stream",
     "text": [
      "Training until validation scores don't improve for 50 rounds\n",
      "Early stopping, best iteration is:\n",
      "[75]\tvalid_0's l2: 5.30514e+09\n",
      "Training until validation scores don't improve for 50 rounds\n",
      "Early stopping, best iteration is:\n",
      "[77]\tvalid_0's l2: 5.25926e+09\n",
      "Training until validation scores don't improve for 50 rounds\n",
      "Early stopping, best iteration is:\n",
      "[80]\tvalid_0's l2: 5.25907e+09\n",
      "Training until validation scores don't improve for 50 rounds\n",
      "Early stopping, best iteration is:\n",
      "[66]\tvalid_0's l2: 5.26244e+09\n",
      "Training until validation scores don't improve for 50 rounds\n"
     ]
    },
    {
     "name": "stderr",
     "output_type": "stream",
     "text": [
      "[I 2024-09-23 14:29:02,249] Trial 2 finished with value: 72603.46904977989 and parameters: {'n_estimators': 955, 'num_leaves': 541, 'max_depth': 51, 'learning_rate': 0.036723279424594156, 'subsample': 0.9543244404043341, 'colsample_bytree': 0.6596180444942726, 'reg_alpha': 3.4894428963481334e-07, 'reg_lambda': 0.015951452190168802, 'min_data_in_leaf': 49, 'feature_fraction': 0.9143406631538383, 'bagging_fraction': 0.5234481596946249, 'bagging_freq': 4, 'min_child_weight': 0.1929820588974466, 'cat_smooth': 65.96096423779524}. Best is trial 1 with value: 72540.24785928518.\n"
     ]
    },
    {
     "name": "stdout",
     "output_type": "stream",
     "text": [
      "Early stopping, best iteration is:\n",
      "[72]\tvalid_0's l2: 5.2704e+09\n",
      "Training until validation scores don't improve for 50 rounds\n",
      "Early stopping, best iteration is:\n",
      "[16]\tvalid_0's l2: 5.3525e+09\n",
      "Training until validation scores don't improve for 50 rounds\n",
      "Early stopping, best iteration is:\n",
      "[14]\tvalid_0's l2: 5.31228e+09\n",
      "Training until validation scores don't improve for 50 rounds\n",
      "Early stopping, best iteration is:\n",
      "[12]\tvalid_0's l2: 5.29209e+09\n",
      "Training until validation scores don't improve for 50 rounds\n",
      "Early stopping, best iteration is:\n",
      "[13]\tvalid_0's l2: 5.28989e+09\n",
      "Training until validation scores don't improve for 50 rounds\n"
     ]
    },
    {
     "name": "stderr",
     "output_type": "stream",
     "text": [
      "[I 2024-09-23 14:29:17,437] Trial 3 finished with value: 72851.29470801084 and parameters: {'n_estimators': 639, 'num_leaves': 643, 'max_depth': 27, 'learning_rate': 0.18362976337563003, 'subsample': 0.6479808534398394, 'colsample_bytree': 0.9419682397805931, 'reg_alpha': 8.97573097030888e-06, 'reg_lambda': 0.004571551229239351, 'min_data_in_leaf': 71, 'feature_fraction': 0.5467301872793251, 'bagging_fraction': 0.9105528289184642, 'bagging_freq': 1, 'min_child_weight': 0.020169108029984395, 'cat_smooth': 87.9550363117174}. Best is trial 1 with value: 72540.24785928518.\n"
     ]
    },
    {
     "name": "stdout",
     "output_type": "stream",
     "text": [
      "Early stopping, best iteration is:\n",
      "[13]\tvalid_0's l2: 5.2898e+09\n",
      "Training until validation scores don't improve for 50 rounds\n",
      "Early stopping, best iteration is:\n",
      "[500]\tvalid_0's l2: 5.29351e+09\n",
      "Training until validation scores don't improve for 50 rounds\n",
      "Early stopping, best iteration is:\n",
      "[564]\tvalid_0's l2: 5.25538e+09\n",
      "Training until validation scores don't improve for 50 rounds\n",
      "Early stopping, best iteration is:\n",
      "[491]\tvalid_0's l2: 5.23784e+09\n",
      "Training until validation scores don't improve for 50 rounds\n",
      "Early stopping, best iteration is:\n",
      "[556]\tvalid_0's l2: 5.24807e+09\n",
      "Training until validation scores don't improve for 50 rounds\n",
      "Early stopping, best iteration is:\n",
      "[448]\tvalid_0's l2: 5.24811e+09\n"
     ]
    },
    {
     "name": "stderr",
     "output_type": "stream",
     "text": [
      "[I 2024-09-23 14:31:24,359] Trial 4 finished with value: 72502.28119744129 and parameters: {'n_estimators': 1192, 'num_leaves': 482, 'max_depth': 52, 'learning_rate': 0.005677045861147304, 'subsample': 0.7986858241154422, 'colsample_bytree': 0.9514158801658137, 'reg_alpha': 0.00016119356219527467, 'reg_lambda': 0.2295120287772858, 'min_data_in_leaf': 43, 'feature_fraction': 0.6785908793172681, 'bagging_fraction': 0.5398065450779821, 'bagging_freq': 2, 'min_child_weight': 0.009645302925851532, 'cat_smooth': 59.405997991322664}. Best is trial 4 with value: 72502.28119744129.\n"
     ]
    },
    {
     "name": "stdout",
     "output_type": "stream",
     "text": [
      "Training until validation scores don't improve for 50 rounds\n",
      "Early stopping, best iteration is:\n",
      "[31]\tvalid_0's l2: 5.30939e+09\n",
      "Training until validation scores don't improve for 50 rounds\n",
      "Early stopping, best iteration is:\n",
      "[41]\tvalid_0's l2: 5.26675e+09\n",
      "Training until validation scores don't improve for 50 rounds\n",
      "Early stopping, best iteration is:\n",
      "[38]\tvalid_0's l2: 5.25758e+09\n",
      "Training until validation scores don't improve for 50 rounds\n",
      "Early stopping, best iteration is:\n",
      "[34]\tvalid_0's l2: 5.25927e+09\n",
      "Training until validation scores don't improve for 50 rounds\n"
     ]
    },
    {
     "name": "stderr",
     "output_type": "stream",
     "text": [
      "[I 2024-09-23 14:31:44,613] Trial 5 finished with value: 72588.2856881195 and parameters: {'n_estimators': 528, 'num_leaves': 472, 'max_depth': 26, 'learning_rate': 0.08118455774682055, 'subsample': 0.6731735750400165, 'colsample_bytree': 0.5215486781024972, 'reg_alpha': 0.01903229002492754, 'reg_lambda': 1.1296979705718802, 'min_data_in_leaf': 111, 'feature_fraction': 0.7087545719196335, 'bagging_fraction': 0.8027887821968784, 'bagging_freq': 3, 'min_child_weight': 0.38638467047838265, 'cat_smooth': 18.290082361212804}. Best is trial 4 with value: 72502.28119744129.\n"
     ]
    },
    {
     "name": "stdout",
     "output_type": "stream",
     "text": [
      "Early stopping, best iteration is:\n",
      "[36]\tvalid_0's l2: 5.2523e+09\n",
      "Training until validation scores don't improve for 50 rounds\n",
      "Early stopping, best iteration is:\n",
      "[516]\tvalid_0's l2: 5.29685e+09\n",
      "Training until validation scores don't improve for 50 rounds\n",
      "Early stopping, best iteration is:\n",
      "[606]\tvalid_0's l2: 5.25796e+09\n",
      "Training until validation scores don't improve for 50 rounds\n",
      "Early stopping, best iteration is:\n",
      "[489]\tvalid_0's l2: 5.24251e+09\n",
      "Training until validation scores don't improve for 50 rounds\n",
      "Early stopping, best iteration is:\n",
      "[483]\tvalid_0's l2: 5.25342e+09\n",
      "Training until validation scores don't improve for 50 rounds\n",
      "Early stopping, best iteration is:\n",
      "[546]\tvalid_0's l2: 5.25777e+09\n"
     ]
    },
    {
     "name": "stderr",
     "output_type": "stream",
     "text": [
      "[I 2024-09-23 14:33:35,014] Trial 6 finished with value: 72537.60241253044 and parameters: {'n_estimators': 710, 'num_leaves': 310, 'max_depth': 25, 'learning_rate': 0.005323872255879759, 'subsample': 0.778789094331322, 'colsample_bytree': 0.7827535099440838, 'reg_alpha': 7.092404300854912e-05, 'reg_lambda': 0.01483173321964085, 'min_data_in_leaf': 45, 'feature_fraction': 0.9894095728788213, 'bagging_fraction': 0.6698539218189319, 'bagging_freq': 3, 'min_child_weight': 72.85919281852098, 'cat_smooth': 27.591405563189507}. Best is trial 4 with value: 72502.28119744129.\n"
     ]
    },
    {
     "name": "stdout",
     "output_type": "stream",
     "text": [
      "Training until validation scores don't improve for 50 rounds\n",
      "Early stopping, best iteration is:\n",
      "[5]\tvalid_0's l2: 5.39453e+09\n",
      "Training until validation scores don't improve for 50 rounds\n",
      "Early stopping, best iteration is:\n",
      "[6]\tvalid_0's l2: 5.35858e+09\n",
      "Training until validation scores don't improve for 50 rounds\n",
      "Early stopping, best iteration is:\n",
      "[7]\tvalid_0's l2: 5.31413e+09\n",
      "Training until validation scores don't improve for 50 rounds\n",
      "Early stopping, best iteration is:\n",
      "[6]\tvalid_0's l2: 5.34296e+09\n",
      "Training until validation scores don't improve for 50 rounds\n"
     ]
    },
    {
     "name": "stderr",
     "output_type": "stream",
     "text": [
      "[I 2024-09-23 14:33:50,113] Trial 7 finished with value: 73156.05774541249 and parameters: {'n_estimators': 723, 'num_leaves': 508, 'max_depth': 39, 'learning_rate': 0.3645870608221405, 'subsample': 0.534048636768975, 'colsample_bytree': 0.7322654038896663, 'reg_alpha': 0.004916937769207978, 'reg_lambda': 0.7488782916686476, 'min_data_in_leaf': 87, 'feature_fraction': 0.5185472066172039, 'bagging_fraction': 0.6753281956415664, 'bagging_freq': 3, 'min_child_weight': 0.006286070313385454, 'cat_smooth': 32.53375211168362}. Best is trial 4 with value: 72502.28119744129.\n"
     ]
    },
    {
     "name": "stdout",
     "output_type": "stream",
     "text": [
      "Early stopping, best iteration is:\n",
      "[5]\tvalid_0's l2: 5.34884e+09\n",
      "Training until validation scores don't improve for 50 rounds\n",
      "Early stopping, best iteration is:\n",
      "[281]\tvalid_0's l2: 5.29247e+09\n",
      "Training until validation scores don't improve for 50 rounds\n",
      "Early stopping, best iteration is:\n",
      "[340]\tvalid_0's l2: 5.24882e+09\n",
      "Training until validation scores don't improve for 50 rounds\n",
      "Early stopping, best iteration is:\n",
      "[276]\tvalid_0's l2: 5.24397e+09\n",
      "Training until validation scores don't improve for 50 rounds\n",
      "Early stopping, best iteration is:\n",
      "[303]\tvalid_0's l2: 5.23834e+09\n",
      "Training until validation scores don't improve for 50 rounds\n",
      "Early stopping, best iteration is:\n",
      "[293]\tvalid_0's l2: 5.25634e+09\n"
     ]
    },
    {
     "name": "stderr",
     "output_type": "stream",
     "text": [
      "[I 2024-09-23 14:34:37,114] Trial 8 finished with value: 72498.18975454515 and parameters: {'n_estimators': 972, 'num_leaves': 363, 'max_depth': 12, 'learning_rate': 0.010314487673603769, 'subsample': 0.5540318863897262, 'colsample_bytree': 0.5894514042855452, 'reg_alpha': 0.02065202190439409, 'reg_lambda': 0.02893742513973448, 'min_data_in_leaf': 57, 'feature_fraction': 0.8762480851093014, 'bagging_fraction': 0.5534397921967846, 'bagging_freq': 4, 'min_child_weight': 0.06587365495478886, 'cat_smooth': 39.651139374964735}. Best is trial 8 with value: 72498.18975454515.\n"
     ]
    },
    {
     "name": "stdout",
     "output_type": "stream",
     "text": [
      "Training until validation scores don't improve for 50 rounds\n",
      "Did not meet early stopping. Best iteration is:\n",
      "[603]\tvalid_0's l2: 5.47127e+09\n",
      "Training until validation scores don't improve for 50 rounds\n",
      "Did not meet early stopping. Best iteration is:\n",
      "[603]\tvalid_0's l2: 5.45059e+09\n",
      "Training until validation scores don't improve for 50 rounds\n",
      "Did not meet early stopping. Best iteration is:\n",
      "[603]\tvalid_0's l2: 5.41418e+09\n",
      "Training until validation scores don't improve for 50 rounds\n",
      "Did not meet early stopping. Best iteration is:\n",
      "[603]\tvalid_0's l2: 5.44602e+09\n",
      "Training until validation scores don't improve for 50 rounds\n",
      "Did not meet early stopping. Best iteration is:\n",
      "[603]\tvalid_0's l2: 5.42312e+09\n"
     ]
    },
    {
     "name": "stderr",
     "output_type": "stream",
     "text": [
      "[I 2024-09-23 14:36:58,205] Trial 9 finished with value: 73763.38774077526 and parameters: {'n_estimators': 603, 'num_leaves': 373, 'max_depth': 42, 'learning_rate': 0.0013992136034385533, 'subsample': 0.6243062539013847, 'colsample_bytree': 0.7712042581140022, 'reg_alpha': 2.294246403767406e-06, 'reg_lambda': 0.03354641687863073, 'min_data_in_leaf': 114, 'feature_fraction': 0.9626784364338884, 'bagging_fraction': 0.7833749622874999, 'bagging_freq': 3, 'min_child_weight': 0.00012278919376690123, 'cat_smooth': 95.03843220828843}. Best is trial 8 with value: 72498.18975454515.\n",
      "c:\\Users\\lerch\\miniconda3\\envs\\cars\\Lib\\site-packages\\lightgbm\\engine.py:204: UserWarning: Found `n_estimators` in params. Will use it instead of argument\n",
      "  _log_warning(f\"Found `{alias}` in params. Will use it instead of argument\")\n"
     ]
    },
    {
     "name": "stdout",
     "output_type": "stream",
     "text": [
      "Training until validation scores don't improve for 50 rounds\n",
      "Early stopping, best iteration is:\n",
      "[317]\tvalid_0's l2: 5.29328e+09\n"
     ]
    },
    {
     "name": "stderr",
     "output_type": "stream",
     "text": [
      "c:\\Users\\lerch\\miniconda3\\envs\\cars\\Lib\\site-packages\\lightgbm\\engine.py:204: UserWarning: Found `n_estimators` in params. Will use it instead of argument\n",
      "  _log_warning(f\"Found `{alias}` in params. Will use it instead of argument\")\n"
     ]
    },
    {
     "name": "stdout",
     "output_type": "stream",
     "text": [
      "Training until validation scores don't improve for 50 rounds\n",
      "Early stopping, best iteration is:\n",
      "[344]\tvalid_0's l2: 5.26001e+09\n"
     ]
    },
    {
     "name": "stderr",
     "output_type": "stream",
     "text": [
      "c:\\Users\\lerch\\miniconda3\\envs\\cars\\Lib\\site-packages\\lightgbm\\engine.py:204: UserWarning: Found `n_estimators` in params. Will use it instead of argument\n",
      "  _log_warning(f\"Found `{alias}` in params. Will use it instead of argument\")\n"
     ]
    },
    {
     "name": "stdout",
     "output_type": "stream",
     "text": [
      "Training until validation scores don't improve for 50 rounds\n",
      "Early stopping, best iteration is:\n",
      "[315]\tvalid_0's l2: 5.23866e+09\n"
     ]
    },
    {
     "name": "stderr",
     "output_type": "stream",
     "text": [
      "c:\\Users\\lerch\\miniconda3\\envs\\cars\\Lib\\site-packages\\lightgbm\\engine.py:204: UserWarning: Found `n_estimators` in params. Will use it instead of argument\n",
      "  _log_warning(f\"Found `{alias}` in params. Will use it instead of argument\")\n"
     ]
    },
    {
     "name": "stdout",
     "output_type": "stream",
     "text": [
      "Training until validation scores don't improve for 50 rounds\n",
      "Early stopping, best iteration is:\n",
      "[241]\tvalid_0's l2: 5.24734e+09\n"
     ]
    },
    {
     "name": "stderr",
     "output_type": "stream",
     "text": [
      "c:\\Users\\lerch\\miniconda3\\envs\\cars\\Lib\\site-packages\\lightgbm\\engine.py:204: UserWarning: Found `n_estimators` in params. Will use it instead of argument\n",
      "  _log_warning(f\"Found `{alias}` in params. Will use it instead of argument\")\n"
     ]
    },
    {
     "name": "stdout",
     "output_type": "stream",
     "text": [
      "Training until validation scores don't improve for 50 rounds\n",
      "Early stopping, best iteration is:\n",
      "[273]\tvalid_0's l2: 5.24392e+09\n"
     ]
    },
    {
     "name": "stderr",
     "output_type": "stream",
     "text": [
      "[I 2024-09-23 14:37:45,063] A new study created in memory with name: no-name-36797c3d-7a86-4449-9736-278acf02e0f6\n"
     ]
    },
    {
     "name": "stdout",
     "output_type": "stream",
     "text": [
      "Training until validation scores don't improve for 50 rounds\n",
      "Early stopping, best iteration is:\n",
      "[12]\tvalid_0's l2: 5.38369e+09\n",
      "Training until validation scores don't improve for 50 rounds\n",
      "Early stopping, best iteration is:\n",
      "[13]\tvalid_0's l2: 5.31394e+09\n",
      "Training until validation scores don't improve for 50 rounds\n",
      "Early stopping, best iteration is:\n",
      "[17]\tvalid_0's l2: 5.30419e+09\n",
      "Training until validation scores don't improve for 50 rounds\n",
      "Early stopping, best iteration is:\n",
      "[11]\tvalid_0's l2: 5.31804e+09\n",
      "Training until validation scores don't improve for 50 rounds\n"
     ]
    },
    {
     "name": "stderr",
     "output_type": "stream",
     "text": [
      "[I 2024-09-23 14:37:57,956] Trial 0 finished with value: 72958.28817038836 and parameters: {'n_estimators': 1040, 'num_leaves': 308, 'max_depth': 42, 'learning_rate': 0.17636469336159113, 'subsample': 0.7492535061512953, 'colsample_bytree': 0.6123983227654238, 'reg_alpha': 1.54304001490974e-06, 'reg_lambda': 1.1018509458263566, 'min_data_in_leaf': 53, 'feature_fraction': 0.5441699070870052, 'bagging_fraction': 0.8426799091838986, 'bagging_freq': 5, 'min_child_weight': 0.00010560624429728648, 'cat_smooth': 32.52312463051321}. Best is trial 0 with value: 72958.28817038836.\n"
     ]
    },
    {
     "name": "stdout",
     "output_type": "stream",
     "text": [
      "Early stopping, best iteration is:\n",
      "[11]\tvalid_0's l2: 5.2947e+09\n",
      "Training until validation scores don't improve for 50 rounds\n",
      "Early stopping, best iteration is:\n",
      "[358]\tvalid_0's l2: 5.31447e+09\n",
      "Training until validation scores don't improve for 50 rounds\n",
      "Early stopping, best iteration is:\n",
      "[342]\tvalid_0's l2: 5.25598e+09\n",
      "Training until validation scores don't improve for 50 rounds\n",
      "Early stopping, best iteration is:\n",
      "[371]\tvalid_0's l2: 5.24948e+09\n",
      "Training until validation scores don't improve for 50 rounds\n",
      "Early stopping, best iteration is:\n",
      "[365]\tvalid_0's l2: 5.26919e+09\n",
      "Training until validation scores don't improve for 50 rounds\n",
      "Early stopping, best iteration is:\n",
      "[348]\tvalid_0's l2: 5.22304e+09\n"
     ]
    },
    {
     "name": "stderr",
     "output_type": "stream",
     "text": [
      "[I 2024-09-23 14:39:58,656] Trial 1 finished with value: 72542.61349754919 and parameters: {'n_estimators': 1069, 'num_leaves': 545, 'max_depth': 46, 'learning_rate': 0.007509797119626296, 'subsample': 0.9588870612564717, 'colsample_bytree': 0.8572878916988453, 'reg_alpha': 0.0001799973901160094, 'reg_lambda': 0.0037040785712895334, 'min_data_in_leaf': 70, 'feature_fraction': 0.8370668075331726, 'bagging_fraction': 0.720916587211498, 'bagging_freq': 3, 'min_child_weight': 0.5088641679920515, 'cat_smooth': 32.59404363006922}. Best is trial 1 with value: 72542.61349754919.\n"
     ]
    },
    {
     "name": "stdout",
     "output_type": "stream",
     "text": [
      "Training until validation scores don't improve for 50 rounds\n",
      "Early stopping, best iteration is:\n",
      "[76]\tvalid_0's l2: 5.34232e+09\n",
      "Training until validation scores don't improve for 50 rounds\n",
      "Early stopping, best iteration is:\n",
      "[76]\tvalid_0's l2: 5.27092e+09\n",
      "Training until validation scores don't improve for 50 rounds\n",
      "Early stopping, best iteration is:\n",
      "[68]\tvalid_0's l2: 5.24951e+09\n",
      "Training until validation scores don't improve for 50 rounds\n",
      "Early stopping, best iteration is:\n",
      "[69]\tvalid_0's l2: 5.27811e+09\n",
      "Training until validation scores don't improve for 50 rounds\n"
     ]
    },
    {
     "name": "stderr",
     "output_type": "stream",
     "text": [
      "[I 2024-09-23 14:40:40,195] Trial 2 finished with value: 72637.04524449857 and parameters: {'n_estimators': 955, 'num_leaves': 541, 'max_depth': 51, 'learning_rate': 0.036723279424594156, 'subsample': 0.9543244404043341, 'colsample_bytree': 0.6596180444942726, 'reg_alpha': 3.4894428963481334e-07, 'reg_lambda': 0.015951452190168802, 'min_data_in_leaf': 49, 'feature_fraction': 0.9143406631538383, 'bagging_fraction': 0.5234481596946249, 'bagging_freq': 4, 'min_child_weight': 0.1929820588974466, 'cat_smooth': 65.96096423779524}. Best is trial 1 with value: 72542.61349754919.\n"
     ]
    },
    {
     "name": "stdout",
     "output_type": "stream",
     "text": [
      "Early stopping, best iteration is:\n",
      "[88]\tvalid_0's l2: 5.23985e+09\n",
      "Training until validation scores don't improve for 50 rounds\n",
      "Early stopping, best iteration is:\n",
      "[12]\tvalid_0's l2: 5.35445e+09\n",
      "Training until validation scores don't improve for 50 rounds\n",
      "Early stopping, best iteration is:\n",
      "[14]\tvalid_0's l2: 5.30711e+09\n",
      "Training until validation scores don't improve for 50 rounds\n",
      "Early stopping, best iteration is:\n",
      "[13]\tvalid_0's l2: 5.3091e+09\n",
      "Training until validation scores don't improve for 50 rounds\n",
      "Early stopping, best iteration is:\n",
      "[13]\tvalid_0's l2: 5.32437e+09\n",
      "Training until validation scores don't improve for 50 rounds\n"
     ]
    },
    {
     "name": "stderr",
     "output_type": "stream",
     "text": [
      "[I 2024-09-23 14:40:59,810] Trial 3 finished with value: 72914.83135928692 and parameters: {'n_estimators': 639, 'num_leaves': 643, 'max_depth': 27, 'learning_rate': 0.18362976337563003, 'subsample': 0.6479808534398394, 'colsample_bytree': 0.9419682397805931, 'reg_alpha': 8.97573097030888e-06, 'reg_lambda': 0.004571551229239351, 'min_data_in_leaf': 71, 'feature_fraction': 0.5467301872793251, 'bagging_fraction': 0.9105528289184642, 'bagging_freq': 1, 'min_child_weight': 0.020169108029984395, 'cat_smooth': 87.9550363117174}. Best is trial 1 with value: 72542.61349754919.\n"
     ]
    },
    {
     "name": "stdout",
     "output_type": "stream",
     "text": [
      "Early stopping, best iteration is:\n",
      "[13]\tvalid_0's l2: 5.28784e+09\n",
      "Training until validation scores don't improve for 50 rounds\n",
      "Early stopping, best iteration is:\n",
      "[458]\tvalid_0's l2: 5.31562e+09\n",
      "Training until validation scores don't improve for 50 rounds\n",
      "Early stopping, best iteration is:\n",
      "[525]\tvalid_0's l2: 5.25494e+09\n",
      "Training until validation scores don't improve for 50 rounds\n",
      "Early stopping, best iteration is:\n",
      "[478]\tvalid_0's l2: 5.25151e+09\n",
      "Training until validation scores don't improve for 50 rounds\n",
      "Early stopping, best iteration is:\n",
      "[481]\tvalid_0's l2: 5.26658e+09\n",
      "Training until validation scores don't improve for 50 rounds\n",
      "Early stopping, best iteration is:\n",
      "[415]\tvalid_0's l2: 5.22334e+09\n"
     ]
    },
    {
     "name": "stderr",
     "output_type": "stream",
     "text": [
      "[I 2024-09-23 14:43:09,724] Trial 4 finished with value: 72542.37917307878 and parameters: {'n_estimators': 1192, 'num_leaves': 482, 'max_depth': 52, 'learning_rate': 0.005677045861147304, 'subsample': 0.7986858241154422, 'colsample_bytree': 0.9514158801658137, 'reg_alpha': 0.00016119356219527467, 'reg_lambda': 0.2295120287772858, 'min_data_in_leaf': 43, 'feature_fraction': 0.6785908793172681, 'bagging_fraction': 0.5398065450779821, 'bagging_freq': 2, 'min_child_weight': 0.009645302925851532, 'cat_smooth': 59.405997991322664}. Best is trial 4 with value: 72542.37917307878.\n"
     ]
    },
    {
     "name": "stdout",
     "output_type": "stream",
     "text": [
      "Training until validation scores don't improve for 50 rounds\n",
      "Early stopping, best iteration is:\n",
      "[26]\tvalid_0's l2: 5.33706e+09\n",
      "Training until validation scores don't improve for 50 rounds\n",
      "Early stopping, best iteration is:\n",
      "[42]\tvalid_0's l2: 5.25603e+09\n",
      "Training until validation scores don't improve for 50 rounds\n",
      "Early stopping, best iteration is:\n",
      "[39]\tvalid_0's l2: 5.25497e+09\n",
      "Training until validation scores don't improve for 50 rounds\n",
      "Early stopping, best iteration is:\n",
      "[37]\tvalid_0's l2: 5.27033e+09\n",
      "Training until validation scores don't improve for 50 rounds\n"
     ]
    },
    {
     "name": "stderr",
     "output_type": "stream",
     "text": [
      "[I 2024-09-23 14:43:26,652] Trial 5 finished with value: 72593.66423069162 and parameters: {'n_estimators': 528, 'num_leaves': 472, 'max_depth': 26, 'learning_rate': 0.08118455774682055, 'subsample': 0.6731735750400165, 'colsample_bytree': 0.5215486781024972, 'reg_alpha': 0.01903229002492754, 'reg_lambda': 1.1296979705718802, 'min_data_in_leaf': 111, 'feature_fraction': 0.7087545719196335, 'bagging_fraction': 0.8027887821968784, 'bagging_freq': 3, 'min_child_weight': 0.38638467047838265, 'cat_smooth': 18.290082361212804}. Best is trial 4 with value: 72542.37917307878.\n"
     ]
    },
    {
     "name": "stdout",
     "output_type": "stream",
     "text": [
      "Early stopping, best iteration is:\n",
      "[33]\tvalid_0's l2: 5.23081e+09\n",
      "Training until validation scores don't improve for 50 rounds\n",
      "Early stopping, best iteration is:\n",
      "[522]\tvalid_0's l2: 5.31829e+09\n",
      "Training until validation scores don't improve for 50 rounds\n",
      "Early stopping, best iteration is:\n",
      "[657]\tvalid_0's l2: 5.26051e+09\n",
      "Training until validation scores don't improve for 50 rounds\n",
      "Early stopping, best iteration is:\n",
      "[522]\tvalid_0's l2: 5.25234e+09\n",
      "Training until validation scores don't improve for 50 rounds\n",
      "Early stopping, best iteration is:\n",
      "[498]\tvalid_0's l2: 5.27359e+09\n",
      "Training until validation scores don't improve for 50 rounds\n",
      "Early stopping, best iteration is:\n",
      "[558]\tvalid_0's l2: 5.20595e+09\n"
     ]
    },
    {
     "name": "stderr",
     "output_type": "stream",
     "text": [
      "[I 2024-09-23 14:45:20,525] Trial 6 finished with value: 72540.57965921231 and parameters: {'n_estimators': 710, 'num_leaves': 310, 'max_depth': 25, 'learning_rate': 0.005323872255879759, 'subsample': 0.778789094331322, 'colsample_bytree': 0.7827535099440838, 'reg_alpha': 7.092404300854912e-05, 'reg_lambda': 0.01483173321964085, 'min_data_in_leaf': 45, 'feature_fraction': 0.9894095728788213, 'bagging_fraction': 0.6698539218189319, 'bagging_freq': 3, 'min_child_weight': 72.85919281852098, 'cat_smooth': 27.591405563189507}. Best is trial 6 with value: 72540.57965921231.\n"
     ]
    },
    {
     "name": "stdout",
     "output_type": "stream",
     "text": [
      "Training until validation scores don't improve for 50 rounds\n",
      "Early stopping, best iteration is:\n",
      "[5]\tvalid_0's l2: 5.3893e+09\n",
      "Training until validation scores don't improve for 50 rounds\n",
      "Early stopping, best iteration is:\n",
      "[5]\tvalid_0's l2: 5.35259e+09\n",
      "Training until validation scores don't improve for 50 rounds\n",
      "Early stopping, best iteration is:\n",
      "[5]\tvalid_0's l2: 5.35648e+09\n",
      "Training until validation scores don't improve for 50 rounds\n",
      "Early stopping, best iteration is:\n",
      "[5]\tvalid_0's l2: 5.35892e+09\n",
      "Training until validation scores don't improve for 50 rounds\n"
     ]
    },
    {
     "name": "stderr",
     "output_type": "stream",
     "text": [
      "[I 2024-09-23 14:45:37,952] Trial 7 finished with value: 73163.78440110861 and parameters: {'n_estimators': 723, 'num_leaves': 508, 'max_depth': 39, 'learning_rate': 0.3645870608221405, 'subsample': 0.534048636768975, 'colsample_bytree': 0.7322654038896663, 'reg_alpha': 0.004916937769207978, 'reg_lambda': 0.7488782916686476, 'min_data_in_leaf': 87, 'feature_fraction': 0.5185472066172039, 'bagging_fraction': 0.6753281956415664, 'bagging_freq': 3, 'min_child_weight': 0.006286070313385454, 'cat_smooth': 32.53375211168362}. Best is trial 6 with value: 72540.57965921231.\n"
     ]
    },
    {
     "name": "stdout",
     "output_type": "stream",
     "text": [
      "Early stopping, best iteration is:\n",
      "[5]\tvalid_0's l2: 5.30741e+09\n",
      "Training until validation scores don't improve for 50 rounds\n",
      "Early stopping, best iteration is:\n",
      "[272]\tvalid_0's l2: 5.301e+09\n",
      "Training until validation scores don't improve for 50 rounds\n",
      "Early stopping, best iteration is:\n",
      "[340]\tvalid_0's l2: 5.25327e+09\n",
      "Training until validation scores don't improve for 50 rounds\n",
      "Early stopping, best iteration is:\n",
      "[328]\tvalid_0's l2: 5.24368e+09\n",
      "Training until validation scores don't improve for 50 rounds\n",
      "Early stopping, best iteration is:\n",
      "[330]\tvalid_0's l2: 5.25702e+09\n",
      "Training until validation scores don't improve for 50 rounds\n",
      "Early stopping, best iteration is:\n",
      "[262]\tvalid_0's l2: 5.21293e+09\n"
     ]
    },
    {
     "name": "stderr",
     "output_type": "stream",
     "text": [
      "[I 2024-09-23 14:46:24,276] Trial 8 finished with value: 72481.58557405294 and parameters: {'n_estimators': 972, 'num_leaves': 363, 'max_depth': 12, 'learning_rate': 0.010314487673603769, 'subsample': 0.5540318863897262, 'colsample_bytree': 0.5894514042855452, 'reg_alpha': 0.02065202190439409, 'reg_lambda': 0.02893742513973448, 'min_data_in_leaf': 57, 'feature_fraction': 0.8762480851093014, 'bagging_fraction': 0.5534397921967846, 'bagging_freq': 4, 'min_child_weight': 0.06587365495478886, 'cat_smooth': 39.651139374964735}. Best is trial 8 with value: 72481.58557405294.\n"
     ]
    },
    {
     "name": "stdout",
     "output_type": "stream",
     "text": [
      "Training until validation scores don't improve for 50 rounds\n",
      "Did not meet early stopping. Best iteration is:\n",
      "[603]\tvalid_0's l2: 5.48135e+09\n",
      "Training until validation scores don't improve for 50 rounds\n",
      "Did not meet early stopping. Best iteration is:\n",
      "[603]\tvalid_0's l2: 5.45347e+09\n",
      "Training until validation scores don't improve for 50 rounds\n",
      "Did not meet early stopping. Best iteration is:\n",
      "[603]\tvalid_0's l2: 5.41764e+09\n",
      "Training until validation scores don't improve for 50 rounds\n",
      "Did not meet early stopping. Best iteration is:\n",
      "[603]\tvalid_0's l2: 5.45209e+09\n",
      "Training until validation scores don't improve for 50 rounds\n",
      "Did not meet early stopping. Best iteration is:\n",
      "[603]\tvalid_0's l2: 5.39818e+09\n"
     ]
    },
    {
     "name": "stderr",
     "output_type": "stream",
     "text": [
      "[I 2024-09-23 14:48:33,411] Trial 9 finished with value: 73760.0506864844 and parameters: {'n_estimators': 603, 'num_leaves': 373, 'max_depth': 42, 'learning_rate': 0.0013992136034385533, 'subsample': 0.6243062539013847, 'colsample_bytree': 0.7712042581140022, 'reg_alpha': 2.294246403767406e-06, 'reg_lambda': 0.03354641687863073, 'min_data_in_leaf': 114, 'feature_fraction': 0.9626784364338884, 'bagging_fraction': 0.7833749622874999, 'bagging_freq': 3, 'min_child_weight': 0.00012278919376690123, 'cat_smooth': 95.03843220828843}. Best is trial 8 with value: 72481.58557405294.\n",
      "c:\\Users\\lerch\\miniconda3\\envs\\cars\\Lib\\site-packages\\lightgbm\\engine.py:204: UserWarning: Found `n_estimators` in params. Will use it instead of argument\n",
      "  _log_warning(f\"Found `{alias}` in params. Will use it instead of argument\")\n"
     ]
    },
    {
     "name": "stdout",
     "output_type": "stream",
     "text": [
      "Training until validation scores don't improve for 50 rounds\n",
      "Early stopping, best iteration is:\n",
      "[272]\tvalid_0's l2: 5.3186e+09\n"
     ]
    },
    {
     "name": "stderr",
     "output_type": "stream",
     "text": [
      "c:\\Users\\lerch\\miniconda3\\envs\\cars\\Lib\\site-packages\\lightgbm\\engine.py:204: UserWarning: Found `n_estimators` in params. Will use it instead of argument\n",
      "  _log_warning(f\"Found `{alias}` in params. Will use it instead of argument\")\n"
     ]
    },
    {
     "name": "stdout",
     "output_type": "stream",
     "text": [
      "Training until validation scores don't improve for 50 rounds\n",
      "Early stopping, best iteration is:\n",
      "[257]\tvalid_0's l2: 5.26499e+09\n"
     ]
    },
    {
     "name": "stderr",
     "output_type": "stream",
     "text": [
      "c:\\Users\\lerch\\miniconda3\\envs\\cars\\Lib\\site-packages\\lightgbm\\engine.py:204: UserWarning: Found `n_estimators` in params. Will use it instead of argument\n",
      "  _log_warning(f\"Found `{alias}` in params. Will use it instead of argument\")\n"
     ]
    },
    {
     "name": "stdout",
     "output_type": "stream",
     "text": [
      "Training until validation scores don't improve for 50 rounds\n",
      "Early stopping, best iteration is:\n",
      "[300]\tvalid_0's l2: 5.25428e+09\n"
     ]
    },
    {
     "name": "stderr",
     "output_type": "stream",
     "text": [
      "c:\\Users\\lerch\\miniconda3\\envs\\cars\\Lib\\site-packages\\lightgbm\\engine.py:204: UserWarning: Found `n_estimators` in params. Will use it instead of argument\n",
      "  _log_warning(f\"Found `{alias}` in params. Will use it instead of argument\")\n"
     ]
    },
    {
     "name": "stdout",
     "output_type": "stream",
     "text": [
      "Training until validation scores don't improve for 50 rounds\n",
      "Early stopping, best iteration is:\n",
      "[318]\tvalid_0's l2: 5.26658e+09\n"
     ]
    },
    {
     "name": "stderr",
     "output_type": "stream",
     "text": [
      "c:\\Users\\lerch\\miniconda3\\envs\\cars\\Lib\\site-packages\\lightgbm\\engine.py:204: UserWarning: Found `n_estimators` in params. Will use it instead of argument\n",
      "  _log_warning(f\"Found `{alias}` in params. Will use it instead of argument\")\n"
     ]
    },
    {
     "name": "stdout",
     "output_type": "stream",
     "text": [
      "Training until validation scores don't improve for 50 rounds\n",
      "Early stopping, best iteration is:\n",
      "[312]\tvalid_0's l2: 5.21389e+09\n"
     ]
    },
    {
     "name": "stderr",
     "output_type": "stream",
     "text": [
      "[I 2024-09-23 14:49:25,967] A new study created in memory with name: no-name-9ce87c3f-96a7-40e5-8e99-47ad1d67a81f\n"
     ]
    },
    {
     "name": "stdout",
     "output_type": "stream",
     "text": [
      "Training until validation scores don't improve for 50 rounds\n",
      "Early stopping, best iteration is:\n",
      "[12]\tvalid_0's l2: 5.3381e+09\n",
      "Training until validation scores don't improve for 50 rounds\n",
      "Early stopping, best iteration is:\n",
      "[13]\tvalid_0's l2: 5.34836e+09\n",
      "Training until validation scores don't improve for 50 rounds\n",
      "Early stopping, best iteration is:\n",
      "[13]\tvalid_0's l2: 5.30705e+09\n",
      "Training until validation scores don't improve for 50 rounds\n",
      "Early stopping, best iteration is:\n",
      "[13]\tvalid_0's l2: 5.30718e+09\n",
      "Training until validation scores don't improve for 50 rounds\n"
     ]
    },
    {
     "name": "stderr",
     "output_type": "stream",
     "text": [
      "[I 2024-09-23 14:49:39,070] Trial 0 finished with value: 72949.94793737764 and parameters: {'n_estimators': 1040, 'num_leaves': 308, 'max_depth': 42, 'learning_rate': 0.17636469336159113, 'subsample': 0.7492535061512953, 'colsample_bytree': 0.6123983227654238, 'reg_alpha': 1.54304001490974e-06, 'reg_lambda': 1.1018509458263566, 'min_data_in_leaf': 53, 'feature_fraction': 0.5441699070870052, 'bagging_fraction': 0.8426799091838986, 'bagging_freq': 5, 'min_child_weight': 0.00010560624429728648, 'cat_smooth': 32.52312463051321}. Best is trial 0 with value: 72949.94793737764.\n"
     ]
    },
    {
     "name": "stdout",
     "output_type": "stream",
     "text": [
      "Early stopping, best iteration is:\n",
      "[14]\tvalid_0's l2: 5.30779e+09\n",
      "Training until validation scores don't improve for 50 rounds\n",
      "Early stopping, best iteration is:\n",
      "[342]\tvalid_0's l2: 5.29487e+09\n",
      "Training until validation scores don't improve for 50 rounds\n",
      "Early stopping, best iteration is:\n",
      "[338]\tvalid_0's l2: 5.29198e+09\n",
      "Training until validation scores don't improve for 50 rounds\n",
      "Early stopping, best iteration is:\n",
      "[395]\tvalid_0's l2: 5.26744e+09\n",
      "Training until validation scores don't improve for 50 rounds\n",
      "Early stopping, best iteration is:\n",
      "[336]\tvalid_0's l2: 5.27135e+09\n",
      "Training until validation scores don't improve for 50 rounds\n",
      "Early stopping, best iteration is:\n",
      "[294]\tvalid_0's l2: 5.24443e+09\n"
     ]
    },
    {
     "name": "stderr",
     "output_type": "stream",
     "text": [
      "[I 2024-09-23 14:51:25,892] Trial 1 finished with value: 72622.40844028641 and parameters: {'n_estimators': 1069, 'num_leaves': 545, 'max_depth': 46, 'learning_rate': 0.007509797119626296, 'subsample': 0.9588870612564717, 'colsample_bytree': 0.8572878916988453, 'reg_alpha': 0.0001799973901160094, 'reg_lambda': 0.0037040785712895334, 'min_data_in_leaf': 70, 'feature_fraction': 0.8370668075331726, 'bagging_fraction': 0.720916587211498, 'bagging_freq': 3, 'min_child_weight': 0.5088641679920515, 'cat_smooth': 32.59404363006922}. Best is trial 1 with value: 72622.40844028641.\n"
     ]
    },
    {
     "name": "stdout",
     "output_type": "stream",
     "text": [
      "Training until validation scores don't improve for 50 rounds\n",
      "Early stopping, best iteration is:\n",
      "[58]\tvalid_0's l2: 5.30416e+09\n",
      "Training until validation scores don't improve for 50 rounds\n",
      "Early stopping, best iteration is:\n",
      "[73]\tvalid_0's l2: 5.29003e+09\n",
      "Training until validation scores don't improve for 50 rounds\n",
      "Early stopping, best iteration is:\n",
      "[59]\tvalid_0's l2: 5.28476e+09\n",
      "Training until validation scores don't improve for 50 rounds\n",
      "Early stopping, best iteration is:\n",
      "[67]\tvalid_0's l2: 5.28728e+09\n",
      "Training until validation scores don't improve for 50 rounds\n"
     ]
    },
    {
     "name": "stderr",
     "output_type": "stream",
     "text": [
      "[I 2024-09-23 14:51:56,647] Trial 2 finished with value: 72710.18454791939 and parameters: {'n_estimators': 955, 'num_leaves': 541, 'max_depth': 51, 'learning_rate': 0.036723279424594156, 'subsample': 0.9543244404043341, 'colsample_bytree': 0.6596180444942726, 'reg_alpha': 3.4894428963481334e-07, 'reg_lambda': 0.015951452190168802, 'min_data_in_leaf': 49, 'feature_fraction': 0.9143406631538383, 'bagging_fraction': 0.5234481596946249, 'bagging_freq': 4, 'min_child_weight': 0.1929820588974466, 'cat_smooth': 65.96096423779524}. Best is trial 1 with value: 72622.40844028641.\n"
     ]
    },
    {
     "name": "stdout",
     "output_type": "stream",
     "text": [
      "Early stopping, best iteration is:\n",
      "[60]\tvalid_0's l2: 5.26762e+09\n",
      "Training until validation scores don't improve for 50 rounds\n",
      "Early stopping, best iteration is:\n",
      "[11]\tvalid_0's l2: 5.34475e+09\n",
      "Training until validation scores don't improve for 50 rounds\n",
      "Early stopping, best iteration is:\n",
      "[12]\tvalid_0's l2: 5.32576e+09\n",
      "Training until validation scores don't improve for 50 rounds\n",
      "Early stopping, best iteration is:\n",
      "[14]\tvalid_0's l2: 5.31745e+09\n",
      "Training until validation scores don't improve for 50 rounds\n",
      "Early stopping, best iteration is:\n",
      "[12]\tvalid_0's l2: 5.29687e+09\n",
      "Training until validation scores don't improve for 50 rounds\n"
     ]
    },
    {
     "name": "stderr",
     "output_type": "stream",
     "text": [
      "[I 2024-09-23 14:52:14,377] Trial 3 finished with value: 72926.88631430743 and parameters: {'n_estimators': 639, 'num_leaves': 643, 'max_depth': 27, 'learning_rate': 0.18362976337563003, 'subsample': 0.6479808534398394, 'colsample_bytree': 0.9419682397805931, 'reg_alpha': 8.97573097030888e-06, 'reg_lambda': 0.004571551229239351, 'min_data_in_leaf': 71, 'feature_fraction': 0.5467301872793251, 'bagging_fraction': 0.9105528289184642, 'bagging_freq': 1, 'min_child_weight': 0.020169108029984395, 'cat_smooth': 87.9550363117174}. Best is trial 1 with value: 72622.40844028641.\n"
     ]
    },
    {
     "name": "stdout",
     "output_type": "stream",
     "text": [
      "Early stopping, best iteration is:\n",
      "[11]\tvalid_0's l2: 5.30683e+09\n",
      "Training until validation scores don't improve for 50 rounds\n",
      "Early stopping, best iteration is:\n",
      "[492]\tvalid_0's l2: 5.29312e+09\n",
      "Training until validation scores don't improve for 50 rounds\n",
      "Early stopping, best iteration is:\n",
      "[484]\tvalid_0's l2: 5.27985e+09\n",
      "Training until validation scores don't improve for 50 rounds\n",
      "Early stopping, best iteration is:\n",
      "[484]\tvalid_0's l2: 5.26583e+09\n",
      "Training until validation scores don't improve for 50 rounds\n",
      "Early stopping, best iteration is:\n",
      "[517]\tvalid_0's l2: 5.25414e+09\n",
      "Training until validation scores don't improve for 50 rounds\n",
      "Early stopping, best iteration is:\n",
      "[424]\tvalid_0's l2: 5.25351e+09\n"
     ]
    },
    {
     "name": "stderr",
     "output_type": "stream",
     "text": [
      "[I 2024-09-23 14:54:34,977] Trial 4 finished with value: 72589.87654715341 and parameters: {'n_estimators': 1192, 'num_leaves': 482, 'max_depth': 52, 'learning_rate': 0.005677045861147304, 'subsample': 0.7986858241154422, 'colsample_bytree': 0.9514158801658137, 'reg_alpha': 0.00016119356219527467, 'reg_lambda': 0.2295120287772858, 'min_data_in_leaf': 43, 'feature_fraction': 0.6785908793172681, 'bagging_fraction': 0.5398065450779821, 'bagging_freq': 2, 'min_child_weight': 0.009645302925851532, 'cat_smooth': 59.405997991322664}. Best is trial 4 with value: 72589.87654715341.\n"
     ]
    },
    {
     "name": "stdout",
     "output_type": "stream",
     "text": [
      "Training until validation scores don't improve for 50 rounds\n",
      "Early stopping, best iteration is:\n",
      "[43]\tvalid_0's l2: 5.29759e+09\n",
      "Training until validation scores don't improve for 50 rounds\n",
      "Early stopping, best iteration is:\n",
      "[34]\tvalid_0's l2: 5.29043e+09\n",
      "Training until validation scores don't improve for 50 rounds\n",
      "Early stopping, best iteration is:\n",
      "[34]\tvalid_0's l2: 5.26331e+09\n",
      "Training until validation scores don't improve for 50 rounds\n",
      "Early stopping, best iteration is:\n",
      "[39]\tvalid_0's l2: 5.27886e+09\n",
      "Training until validation scores don't improve for 50 rounds\n"
     ]
    },
    {
     "name": "stderr",
     "output_type": "stream",
     "text": [
      "[I 2024-09-23 14:54:52,672] Trial 5 finished with value: 72643.16008013632 and parameters: {'n_estimators': 528, 'num_leaves': 472, 'max_depth': 26, 'learning_rate': 0.08118455774682055, 'subsample': 0.6731735750400165, 'colsample_bytree': 0.5215486781024972, 'reg_alpha': 0.01903229002492754, 'reg_lambda': 1.1296979705718802, 'min_data_in_leaf': 111, 'feature_fraction': 0.7087545719196335, 'bagging_fraction': 0.8027887821968784, 'bagging_freq': 3, 'min_child_weight': 0.38638467047838265, 'cat_smooth': 18.290082361212804}. Best is trial 4 with value: 72589.87654715341.\n"
     ]
    },
    {
     "name": "stdout",
     "output_type": "stream",
     "text": [
      "Early stopping, best iteration is:\n",
      "[36]\tvalid_0's l2: 5.25495e+09\n",
      "Training until validation scores don't improve for 50 rounds\n",
      "Early stopping, best iteration is:\n",
      "[513]\tvalid_0's l2: 5.29467e+09\n",
      "Training until validation scores don't improve for 50 rounds\n",
      "Early stopping, best iteration is:\n",
      "[498]\tvalid_0's l2: 5.28972e+09\n",
      "Training until validation scores don't improve for 50 rounds\n",
      "Early stopping, best iteration is:\n",
      "[495]\tvalid_0's l2: 5.26233e+09\n",
      "Training until validation scores don't improve for 50 rounds\n",
      "Early stopping, best iteration is:\n",
      "[659]\tvalid_0's l2: 5.26945e+09\n",
      "Training until validation scores don't improve for 50 rounds\n",
      "Early stopping, best iteration is:\n",
      "[465]\tvalid_0's l2: 5.23644e+09\n"
     ]
    },
    {
     "name": "stderr",
     "output_type": "stream",
     "text": [
      "[I 2024-09-23 14:56:22,536] Trial 6 finished with value: 72598.35191638612 and parameters: {'n_estimators': 710, 'num_leaves': 310, 'max_depth': 25, 'learning_rate': 0.005323872255879759, 'subsample': 0.778789094331322, 'colsample_bytree': 0.7827535099440838, 'reg_alpha': 7.092404300854912e-05, 'reg_lambda': 0.01483173321964085, 'min_data_in_leaf': 45, 'feature_fraction': 0.9894095728788213, 'bagging_fraction': 0.6698539218189319, 'bagging_freq': 3, 'min_child_weight': 72.85919281852098, 'cat_smooth': 27.591405563189507}. Best is trial 4 with value: 72589.87654715341.\n"
     ]
    },
    {
     "name": "stdout",
     "output_type": "stream",
     "text": [
      "Training until validation scores don't improve for 50 rounds\n",
      "Early stopping, best iteration is:\n",
      "[5]\tvalid_0's l2: 5.36238e+09\n",
      "Training until validation scores don't improve for 50 rounds\n",
      "Early stopping, best iteration is:\n",
      "[5]\tvalid_0's l2: 5.37491e+09\n",
      "Training until validation scores don't improve for 50 rounds\n",
      "Early stopping, best iteration is:\n",
      "[6]\tvalid_0's l2: 5.35842e+09\n",
      "Training until validation scores don't improve for 50 rounds\n",
      "Early stopping, best iteration is:\n",
      "[5]\tvalid_0's l2: 5.33217e+09\n",
      "Training until validation scores don't improve for 50 rounds\n"
     ]
    },
    {
     "name": "stderr",
     "output_type": "stream",
     "text": [
      "[I 2024-09-23 14:56:38,167] Trial 7 finished with value: 73140.14943781076 and parameters: {'n_estimators': 723, 'num_leaves': 508, 'max_depth': 39, 'learning_rate': 0.3645870608221405, 'subsample': 0.534048636768975, 'colsample_bytree': 0.7322654038896663, 'reg_alpha': 0.004916937769207978, 'reg_lambda': 0.7488782916686476, 'min_data_in_leaf': 87, 'feature_fraction': 0.5185472066172039, 'bagging_fraction': 0.6753281956415664, 'bagging_freq': 3, 'min_child_weight': 0.006286070313385454, 'cat_smooth': 32.53375211168362}. Best is trial 4 with value: 72589.87654715341.\n"
     ]
    },
    {
     "name": "stdout",
     "output_type": "stream",
     "text": [
      "Early stopping, best iteration is:\n",
      "[5]\tvalid_0's l2: 5.31952e+09\n",
      "Training until validation scores don't improve for 50 rounds\n",
      "Early stopping, best iteration is:\n",
      "[293]\tvalid_0's l2: 5.28684e+09\n",
      "Training until validation scores don't improve for 50 rounds\n",
      "Early stopping, best iteration is:\n",
      "[266]\tvalid_0's l2: 5.281e+09\n",
      "Training until validation scores don't improve for 50 rounds\n",
      "Early stopping, best iteration is:\n",
      "[266]\tvalid_0's l2: 5.26216e+09\n",
      "Training until validation scores don't improve for 50 rounds\n",
      "Early stopping, best iteration is:\n",
      "[316]\tvalid_0's l2: 5.26208e+09\n",
      "Training until validation scores don't improve for 50 rounds\n",
      "Early stopping, best iteration is:\n",
      "[326]\tvalid_0's l2: 5.23645e+09\n"
     ]
    },
    {
     "name": "stderr",
     "output_type": "stream",
     "text": [
      "[I 2024-09-23 14:57:29,310] Trial 8 finished with value: 72565.18470694995 and parameters: {'n_estimators': 972, 'num_leaves': 363, 'max_depth': 12, 'learning_rate': 0.010314487673603769, 'subsample': 0.5540318863897262, 'colsample_bytree': 0.5894514042855452, 'reg_alpha': 0.02065202190439409, 'reg_lambda': 0.02893742513973448, 'min_data_in_leaf': 57, 'feature_fraction': 0.8762480851093014, 'bagging_fraction': 0.5534397921967846, 'bagging_freq': 4, 'min_child_weight': 0.06587365495478886, 'cat_smooth': 39.651139374964735}. Best is trial 8 with value: 72565.18470694995.\n"
     ]
    },
    {
     "name": "stdout",
     "output_type": "stream",
     "text": [
      "Training until validation scores don't improve for 50 rounds\n",
      "Did not meet early stopping. Best iteration is:\n",
      "[603]\tvalid_0's l2: 5.47294e+09\n",
      "Training until validation scores don't improve for 50 rounds\n",
      "Did not meet early stopping. Best iteration is:\n",
      "[603]\tvalid_0's l2: 5.45918e+09\n",
      "Training until validation scores don't improve for 50 rounds\n",
      "Did not meet early stopping. Best iteration is:\n",
      "[603]\tvalid_0's l2: 5.42545e+09\n",
      "Training until validation scores don't improve for 50 rounds\n",
      "Did not meet early stopping. Best iteration is:\n",
      "[603]\tvalid_0's l2: 5.45735e+09\n",
      "Training until validation scores don't improve for 50 rounds\n",
      "Did not meet early stopping. Best iteration is:\n",
      "[603]\tvalid_0's l2: 5.40894e+09\n"
     ]
    },
    {
     "name": "stderr",
     "output_type": "stream",
     "text": [
      "[I 2024-09-23 14:59:28,992] Trial 9 finished with value: 73788.70267220138 and parameters: {'n_estimators': 603, 'num_leaves': 373, 'max_depth': 42, 'learning_rate': 0.0013992136034385533, 'subsample': 0.6243062539013847, 'colsample_bytree': 0.7712042581140022, 'reg_alpha': 2.294246403767406e-06, 'reg_lambda': 0.03354641687863073, 'min_data_in_leaf': 114, 'feature_fraction': 0.9626784364338884, 'bagging_fraction': 0.7833749622874999, 'bagging_freq': 3, 'min_child_weight': 0.00012278919376690123, 'cat_smooth': 95.03843220828843}. Best is trial 8 with value: 72565.18470694995.\n",
      "c:\\Users\\lerch\\miniconda3\\envs\\cars\\Lib\\site-packages\\lightgbm\\engine.py:204: UserWarning: Found `n_estimators` in params. Will use it instead of argument\n",
      "  _log_warning(f\"Found `{alias}` in params. Will use it instead of argument\")\n"
     ]
    },
    {
     "name": "stdout",
     "output_type": "stream",
     "text": [
      "Training until validation scores don't improve for 50 rounds\n",
      "Early stopping, best iteration is:\n",
      "[236]\tvalid_0's l2: 5.29462e+09\n"
     ]
    },
    {
     "name": "stderr",
     "output_type": "stream",
     "text": [
      "c:\\Users\\lerch\\miniconda3\\envs\\cars\\Lib\\site-packages\\lightgbm\\engine.py:204: UserWarning: Found `n_estimators` in params. Will use it instead of argument\n",
      "  _log_warning(f\"Found `{alias}` in params. Will use it instead of argument\")\n"
     ]
    },
    {
     "name": "stdout",
     "output_type": "stream",
     "text": [
      "Training until validation scores don't improve for 50 rounds\n",
      "Early stopping, best iteration is:\n",
      "[302]\tvalid_0's l2: 5.27971e+09\n"
     ]
    },
    {
     "name": "stderr",
     "output_type": "stream",
     "text": [
      "c:\\Users\\lerch\\miniconda3\\envs\\cars\\Lib\\site-packages\\lightgbm\\engine.py:204: UserWarning: Found `n_estimators` in params. Will use it instead of argument\n",
      "  _log_warning(f\"Found `{alias}` in params. Will use it instead of argument\")\n"
     ]
    },
    {
     "name": "stdout",
     "output_type": "stream",
     "text": [
      "Training until validation scores don't improve for 50 rounds\n",
      "Early stopping, best iteration is:\n",
      "[356]\tvalid_0's l2: 5.24896e+09\n"
     ]
    },
    {
     "name": "stderr",
     "output_type": "stream",
     "text": [
      "c:\\Users\\lerch\\miniconda3\\envs\\cars\\Lib\\site-packages\\lightgbm\\engine.py:204: UserWarning: Found `n_estimators` in params. Will use it instead of argument\n",
      "  _log_warning(f\"Found `{alias}` in params. Will use it instead of argument\")\n"
     ]
    },
    {
     "name": "stdout",
     "output_type": "stream",
     "text": [
      "Training until validation scores don't improve for 50 rounds\n",
      "Early stopping, best iteration is:\n",
      "[304]\tvalid_0's l2: 5.2578e+09\n"
     ]
    },
    {
     "name": "stderr",
     "output_type": "stream",
     "text": [
      "c:\\Users\\lerch\\miniconda3\\envs\\cars\\Lib\\site-packages\\lightgbm\\engine.py:204: UserWarning: Found `n_estimators` in params. Will use it instead of argument\n",
      "  _log_warning(f\"Found `{alias}` in params. Will use it instead of argument\")\n"
     ]
    },
    {
     "name": "stdout",
     "output_type": "stream",
     "text": [
      "Training until validation scores don't improve for 50 rounds\n",
      "Early stopping, best iteration is:\n",
      "[292]\tvalid_0's l2: 5.23129e+09\n"
     ]
    },
    {
     "name": "stderr",
     "output_type": "stream",
     "text": [
      "[I 2024-09-23 15:00:20,576] A new study created in memory with name: no-name-03ae86f3-fb6e-40c8-80b5-9dcbdad83307\n"
     ]
    },
    {
     "name": "stdout",
     "output_type": "stream",
     "text": [
      "Training until validation scores don't improve for 50 rounds\n",
      "Early stopping, best iteration is:\n",
      "[11]\tvalid_0's l2: 5.353e+09\n",
      "Training until validation scores don't improve for 50 rounds\n",
      "Early stopping, best iteration is:\n",
      "[13]\tvalid_0's l2: 5.37051e+09\n",
      "Training until validation scores don't improve for 50 rounds\n",
      "Early stopping, best iteration is:\n",
      "[13]\tvalid_0's l2: 5.3294e+09\n",
      "Training until validation scores don't improve for 50 rounds\n",
      "Early stopping, best iteration is:\n",
      "[13]\tvalid_0's l2: 5.30969e+09\n",
      "Training until validation scores don't improve for 50 rounds\n"
     ]
    },
    {
     "name": "stderr",
     "output_type": "stream",
     "text": [
      "[I 2024-09-23 15:00:32,342] Trial 0 finished with value: 73027.87936916402 and parameters: {'n_estimators': 1040, 'num_leaves': 308, 'max_depth': 42, 'learning_rate': 0.17636469336159113, 'subsample': 0.7492535061512953, 'colsample_bytree': 0.6123983227654238, 'reg_alpha': 1.54304001490974e-06, 'reg_lambda': 1.1018509458263566, 'min_data_in_leaf': 53, 'feature_fraction': 0.5441699070870052, 'bagging_fraction': 0.8426799091838986, 'bagging_freq': 5, 'min_child_weight': 0.00010560624429728648, 'cat_smooth': 32.52312463051321}. Best is trial 0 with value: 73027.87936916402.\n"
     ]
    },
    {
     "name": "stdout",
     "output_type": "stream",
     "text": [
      "Early stopping, best iteration is:\n",
      "[11]\tvalid_0's l2: 5.30275e+09\n",
      "Training until validation scores don't improve for 50 rounds\n",
      "Early stopping, best iteration is:\n",
      "[318]\tvalid_0's l2: 5.3029e+09\n",
      "Training until validation scores don't improve for 50 rounds\n",
      "Early stopping, best iteration is:\n",
      "[342]\tvalid_0's l2: 5.26964e+09\n",
      "Training until validation scores don't improve for 50 rounds\n",
      "Early stopping, best iteration is:\n",
      "[342]\tvalid_0's l2: 5.27417e+09\n",
      "Training until validation scores don't improve for 50 rounds\n",
      "Early stopping, best iteration is:\n",
      "[377]\tvalid_0's l2: 5.26877e+09\n",
      "Training until validation scores don't improve for 50 rounds\n",
      "Early stopping, best iteration is:\n",
      "[334]\tvalid_0's l2: 5.24597e+09\n"
     ]
    },
    {
     "name": "stderr",
     "output_type": "stream",
     "text": [
      "[I 2024-09-23 15:02:19,607] Trial 1 finished with value: 72610.54321248324 and parameters: {'n_estimators': 1069, 'num_leaves': 545, 'max_depth': 46, 'learning_rate': 0.007509797119626296, 'subsample': 0.9588870612564717, 'colsample_bytree': 0.8572878916988453, 'reg_alpha': 0.0001799973901160094, 'reg_lambda': 0.0037040785712895334, 'min_data_in_leaf': 70, 'feature_fraction': 0.8370668075331726, 'bagging_fraction': 0.720916587211498, 'bagging_freq': 3, 'min_child_weight': 0.5088641679920515, 'cat_smooth': 32.59404363006922}. Best is trial 1 with value: 72610.54321248324.\n"
     ]
    },
    {
     "name": "stdout",
     "output_type": "stream",
     "text": [
      "Training until validation scores don't improve for 50 rounds\n",
      "Early stopping, best iteration is:\n",
      "[59]\tvalid_0's l2: 5.32699e+09\n",
      "Training until validation scores don't improve for 50 rounds\n",
      "Early stopping, best iteration is:\n",
      "[75]\tvalid_0's l2: 5.25875e+09\n",
      "Training until validation scores don't improve for 50 rounds\n",
      "Early stopping, best iteration is:\n",
      "[60]\tvalid_0's l2: 5.28938e+09\n",
      "Training until validation scores don't improve for 50 rounds\n",
      "Early stopping, best iteration is:\n",
      "[92]\tvalid_0's l2: 5.29275e+09\n",
      "Training until validation scores don't improve for 50 rounds\n"
     ]
    },
    {
     "name": "stderr",
     "output_type": "stream",
     "text": [
      "[I 2024-09-23 15:02:55,785] Trial 2 finished with value: 72684.45008456318 and parameters: {'n_estimators': 955, 'num_leaves': 541, 'max_depth': 51, 'learning_rate': 0.036723279424594156, 'subsample': 0.9543244404043341, 'colsample_bytree': 0.6596180444942726, 'reg_alpha': 3.4894428963481334e-07, 'reg_lambda': 0.015951452190168802, 'min_data_in_leaf': 49, 'feature_fraction': 0.9143406631538383, 'bagging_fraction': 0.5234481596946249, 'bagging_freq': 4, 'min_child_weight': 0.1929820588974466, 'cat_smooth': 65.96096423779524}. Best is trial 1 with value: 72610.54321248324.\n"
     ]
    },
    {
     "name": "stdout",
     "output_type": "stream",
     "text": [
      "Early stopping, best iteration is:\n",
      "[79]\tvalid_0's l2: 5.24727e+09\n",
      "Training until validation scores don't improve for 50 rounds\n",
      "Early stopping, best iteration is:\n",
      "[14]\tvalid_0's l2: 5.34337e+09\n",
      "Training until validation scores don't improve for 50 rounds\n",
      "Early stopping, best iteration is:\n",
      "[13]\tvalid_0's l2: 5.31384e+09\n",
      "Training until validation scores don't improve for 50 rounds\n",
      "Early stopping, best iteration is:\n",
      "[17]\tvalid_0's l2: 5.29536e+09\n",
      "Training until validation scores don't improve for 50 rounds\n",
      "Early stopping, best iteration is:\n",
      "[11]\tvalid_0's l2: 5.32706e+09\n",
      "Training until validation scores don't improve for 50 rounds\n"
     ]
    },
    {
     "name": "stderr",
     "output_type": "stream",
     "text": [
      "[I 2024-09-23 15:03:14,676] Trial 3 finished with value: 72880.58549598865 and parameters: {'n_estimators': 639, 'num_leaves': 643, 'max_depth': 27, 'learning_rate': 0.18362976337563003, 'subsample': 0.6479808534398394, 'colsample_bytree': 0.9419682397805931, 'reg_alpha': 8.97573097030888e-06, 'reg_lambda': 0.004571551229239351, 'min_data_in_leaf': 71, 'feature_fraction': 0.5467301872793251, 'bagging_fraction': 0.9105528289184642, 'bagging_freq': 1, 'min_child_weight': 0.020169108029984395, 'cat_smooth': 87.9550363117174}. Best is trial 1 with value: 72610.54321248324.\n"
     ]
    },
    {
     "name": "stdout",
     "output_type": "stream",
     "text": [
      "Early stopping, best iteration is:\n",
      "[12]\tvalid_0's l2: 5.27827e+09\n",
      "Training until validation scores don't improve for 50 rounds\n",
      "Early stopping, best iteration is:\n",
      "[496]\tvalid_0's l2: 5.30125e+09\n",
      "Training until validation scores don't improve for 50 rounds\n",
      "Early stopping, best iteration is:\n",
      "[556]\tvalid_0's l2: 5.26976e+09\n",
      "Training until validation scores don't improve for 50 rounds\n",
      "Early stopping, best iteration is:\n",
      "[442]\tvalid_0's l2: 5.26853e+09\n",
      "Training until validation scores don't improve for 50 rounds\n",
      "Early stopping, best iteration is:\n",
      "[498]\tvalid_0's l2: 5.26327e+09\n",
      "Training until validation scores don't improve for 50 rounds\n",
      "Early stopping, best iteration is:\n",
      "[423]\tvalid_0's l2: 5.24593e+09\n"
     ]
    },
    {
     "name": "stderr",
     "output_type": "stream",
     "text": [
      "[I 2024-09-23 15:05:50,837] Trial 4 finished with value: 72593.044415751 and parameters: {'n_estimators': 1192, 'num_leaves': 482, 'max_depth': 52, 'learning_rate': 0.005677045861147304, 'subsample': 0.7986858241154422, 'colsample_bytree': 0.9514158801658137, 'reg_alpha': 0.00016119356219527467, 'reg_lambda': 0.2295120287772858, 'min_data_in_leaf': 43, 'feature_fraction': 0.6785908793172681, 'bagging_fraction': 0.5398065450779821, 'bagging_freq': 2, 'min_child_weight': 0.009645302925851532, 'cat_smooth': 59.405997991322664}. Best is trial 4 with value: 72593.044415751.\n"
     ]
    },
    {
     "name": "stdout",
     "output_type": "stream",
     "text": [
      "Training until validation scores don't improve for 50 rounds\n",
      "Early stopping, best iteration is:\n",
      "[28]\tvalid_0's l2: 5.32982e+09\n",
      "Training until validation scores don't improve for 50 rounds\n",
      "Early stopping, best iteration is:\n",
      "[42]\tvalid_0's l2: 5.28689e+09\n",
      "Training until validation scores don't improve for 50 rounds\n",
      "Early stopping, best iteration is:\n",
      "[38]\tvalid_0's l2: 5.27773e+09\n",
      "Training until validation scores don't improve for 50 rounds\n",
      "Early stopping, best iteration is:\n",
      "[36]\tvalid_0's l2: 5.26547e+09\n",
      "Training until validation scores don't improve for 50 rounds\n"
     ]
    },
    {
     "name": "stderr",
     "output_type": "stream",
     "text": [
      "[I 2024-09-23 15:06:10,058] Trial 5 finished with value: 72669.21220248242 and parameters: {'n_estimators': 528, 'num_leaves': 472, 'max_depth': 26, 'learning_rate': 0.08118455774682055, 'subsample': 0.6731735750400165, 'colsample_bytree': 0.5215486781024972, 'reg_alpha': 0.01903229002492754, 'reg_lambda': 1.1296979705718802, 'min_data_in_leaf': 111, 'feature_fraction': 0.7087545719196335, 'bagging_fraction': 0.8027887821968784, 'bagging_freq': 3, 'min_child_weight': 0.38638467047838265, 'cat_smooth': 18.290082361212804}. Best is trial 4 with value: 72593.044415751.\n"
     ]
    },
    {
     "name": "stdout",
     "output_type": "stream",
     "text": [
      "Early stopping, best iteration is:\n",
      "[42]\tvalid_0's l2: 5.24417e+09\n",
      "Training until validation scores don't improve for 50 rounds\n",
      "Early stopping, best iteration is:\n",
      "[486]\tvalid_0's l2: 5.3041e+09\n",
      "Training until validation scores don't improve for 50 rounds\n",
      "Early stopping, best iteration is:\n",
      "[606]\tvalid_0's l2: 5.27233e+09\n",
      "Training until validation scores don't improve for 50 rounds\n",
      "Early stopping, best iteration is:\n",
      "[591]\tvalid_0's l2: 5.2806e+09\n",
      "Training until validation scores don't improve for 50 rounds\n",
      "Early stopping, best iteration is:\n",
      "[576]\tvalid_0's l2: 5.26978e+09\n",
      "Training until validation scores don't improve for 50 rounds\n",
      "Early stopping, best iteration is:\n",
      "[549]\tvalid_0's l2: 5.23577e+09\n"
     ]
    },
    {
     "name": "stderr",
     "output_type": "stream",
     "text": [
      "[I 2024-09-23 15:08:07,982] Trial 6 finished with value: 72612.09260369925 and parameters: {'n_estimators': 710, 'num_leaves': 310, 'max_depth': 25, 'learning_rate': 0.005323872255879759, 'subsample': 0.778789094331322, 'colsample_bytree': 0.7827535099440838, 'reg_alpha': 7.092404300854912e-05, 'reg_lambda': 0.01483173321964085, 'min_data_in_leaf': 45, 'feature_fraction': 0.9894095728788213, 'bagging_fraction': 0.6698539218189319, 'bagging_freq': 3, 'min_child_weight': 72.85919281852098, 'cat_smooth': 27.591405563189507}. Best is trial 4 with value: 72593.044415751.\n"
     ]
    },
    {
     "name": "stdout",
     "output_type": "stream",
     "text": [
      "Training until validation scores don't improve for 50 rounds\n",
      "Early stopping, best iteration is:\n",
      "[4]\tvalid_0's l2: 5.41729e+09\n",
      "Training until validation scores don't improve for 50 rounds\n",
      "Early stopping, best iteration is:\n",
      "[6]\tvalid_0's l2: 5.38246e+09\n",
      "Training until validation scores don't improve for 50 rounds\n",
      "Early stopping, best iteration is:\n",
      "[5]\tvalid_0's l2: 5.35662e+09\n",
      "Training until validation scores don't improve for 50 rounds\n",
      "Early stopping, best iteration is:\n",
      "[8]\tvalid_0's l2: 5.34703e+09\n",
      "Training until validation scores don't improve for 50 rounds\n"
     ]
    },
    {
     "name": "stderr",
     "output_type": "stream",
     "text": [
      "[I 2024-09-23 15:08:25,362] Trial 7 finished with value: 73277.23782749627 and parameters: {'n_estimators': 723, 'num_leaves': 508, 'max_depth': 39, 'learning_rate': 0.3645870608221405, 'subsample': 0.534048636768975, 'colsample_bytree': 0.7322654038896663, 'reg_alpha': 0.004916937769207978, 'reg_lambda': 0.7488782916686476, 'min_data_in_leaf': 87, 'feature_fraction': 0.5185472066172039, 'bagging_fraction': 0.6753281956415664, 'bagging_freq': 3, 'min_child_weight': 0.006286070313385454, 'cat_smooth': 32.53375211168362}. Best is trial 4 with value: 72593.044415751.\n"
     ]
    },
    {
     "name": "stdout",
     "output_type": "stream",
     "text": [
      "Early stopping, best iteration is:\n",
      "[7]\tvalid_0's l2: 5.34438e+09\n",
      "Training until validation scores don't improve for 50 rounds\n",
      "Early stopping, best iteration is:\n",
      "[264]\tvalid_0's l2: 5.305e+09\n",
      "Training until validation scores don't improve for 50 rounds\n",
      "Early stopping, best iteration is:\n",
      "[339]\tvalid_0's l2: 5.26539e+09\n",
      "Training until validation scores don't improve for 50 rounds\n",
      "Early stopping, best iteration is:\n",
      "[284]\tvalid_0's l2: 5.27087e+09\n",
      "Training until validation scores don't improve for 50 rounds\n",
      "Early stopping, best iteration is:\n",
      "[336]\tvalid_0's l2: 5.25303e+09\n",
      "Training until validation scores don't improve for 50 rounds\n",
      "Early stopping, best iteration is:\n",
      "[294]\tvalid_0's l2: 5.23993e+09\n"
     ]
    },
    {
     "name": "stderr",
     "output_type": "stream",
     "text": [
      "[I 2024-09-23 15:09:19,144] Trial 8 finished with value: 72573.01979823432 and parameters: {'n_estimators': 972, 'num_leaves': 363, 'max_depth': 12, 'learning_rate': 0.010314487673603769, 'subsample': 0.5540318863897262, 'colsample_bytree': 0.5894514042855452, 'reg_alpha': 0.02065202190439409, 'reg_lambda': 0.02893742513973448, 'min_data_in_leaf': 57, 'feature_fraction': 0.8762480851093014, 'bagging_fraction': 0.5534397921967846, 'bagging_freq': 4, 'min_child_weight': 0.06587365495478886, 'cat_smooth': 39.651139374964735}. Best is trial 8 with value: 72573.01979823432.\n"
     ]
    },
    {
     "name": "stdout",
     "output_type": "stream",
     "text": [
      "Training until validation scores don't improve for 50 rounds\n",
      "Did not meet early stopping. Best iteration is:\n",
      "[603]\tvalid_0's l2: 5.47844e+09\n",
      "Training until validation scores don't improve for 50 rounds\n",
      "Did not meet early stopping. Best iteration is:\n",
      "[603]\tvalid_0's l2: 5.46235e+09\n",
      "Training until validation scores don't improve for 50 rounds\n",
      "Did not meet early stopping. Best iteration is:\n",
      "[603]\tvalid_0's l2: 5.43334e+09\n",
      "Training until validation scores don't improve for 50 rounds\n",
      "Did not meet early stopping. Best iteration is:\n",
      "[603]\tvalid_0's l2: 5.45785e+09\n",
      "Training until validation scores don't improve for 50 rounds\n",
      "Did not meet early stopping. Best iteration is:\n",
      "[603]\tvalid_0's l2: 5.41766e+09\n"
     ]
    },
    {
     "name": "stderr",
     "output_type": "stream",
     "text": [
      "[I 2024-09-23 15:11:14,050] Trial 9 finished with value: 73823.6317012009 and parameters: {'n_estimators': 603, 'num_leaves': 373, 'max_depth': 42, 'learning_rate': 0.0013992136034385533, 'subsample': 0.6243062539013847, 'colsample_bytree': 0.7712042581140022, 'reg_alpha': 2.294246403767406e-06, 'reg_lambda': 0.03354641687863073, 'min_data_in_leaf': 114, 'feature_fraction': 0.9626784364338884, 'bagging_fraction': 0.7833749622874999, 'bagging_freq': 3, 'min_child_weight': 0.00012278919376690123, 'cat_smooth': 95.03843220828843}. Best is trial 8 with value: 72573.01979823432.\n",
      "c:\\Users\\lerch\\miniconda3\\envs\\cars\\Lib\\site-packages\\lightgbm\\engine.py:204: UserWarning: Found `n_estimators` in params. Will use it instead of argument\n",
      "  _log_warning(f\"Found `{alias}` in params. Will use it instead of argument\")\n"
     ]
    },
    {
     "name": "stdout",
     "output_type": "stream",
     "text": [
      "Training until validation scores don't improve for 50 rounds\n",
      "Early stopping, best iteration is:\n",
      "[217]\tvalid_0's l2: 5.30149e+09\n"
     ]
    },
    {
     "name": "stderr",
     "output_type": "stream",
     "text": [
      "c:\\Users\\lerch\\miniconda3\\envs\\cars\\Lib\\site-packages\\lightgbm\\engine.py:204: UserWarning: Found `n_estimators` in params. Will use it instead of argument\n",
      "  _log_warning(f\"Found `{alias}` in params. Will use it instead of argument\")\n"
     ]
    },
    {
     "name": "stdout",
     "output_type": "stream",
     "text": [
      "Training until validation scores don't improve for 50 rounds\n",
      "Early stopping, best iteration is:\n",
      "[344]\tvalid_0's l2: 5.26353e+09\n"
     ]
    },
    {
     "name": "stderr",
     "output_type": "stream",
     "text": [
      "c:\\Users\\lerch\\miniconda3\\envs\\cars\\Lib\\site-packages\\lightgbm\\engine.py:204: UserWarning: Found `n_estimators` in params. Will use it instead of argument\n",
      "  _log_warning(f\"Found `{alias}` in params. Will use it instead of argument\")\n"
     ]
    },
    {
     "name": "stdout",
     "output_type": "stream",
     "text": [
      "Training until validation scores don't improve for 50 rounds\n",
      "Early stopping, best iteration is:\n",
      "[282]\tvalid_0's l2: 5.27516e+09\n"
     ]
    },
    {
     "name": "stderr",
     "output_type": "stream",
     "text": [
      "c:\\Users\\lerch\\miniconda3\\envs\\cars\\Lib\\site-packages\\lightgbm\\engine.py:204: UserWarning: Found `n_estimators` in params. Will use it instead of argument\n",
      "  _log_warning(f\"Found `{alias}` in params. Will use it instead of argument\")\n"
     ]
    },
    {
     "name": "stdout",
     "output_type": "stream",
     "text": [
      "Training until validation scores don't improve for 50 rounds\n",
      "Early stopping, best iteration is:\n",
      "[303]\tvalid_0's l2: 5.26179e+09\n"
     ]
    },
    {
     "name": "stderr",
     "output_type": "stream",
     "text": [
      "c:\\Users\\lerch\\miniconda3\\envs\\cars\\Lib\\site-packages\\lightgbm\\engine.py:204: UserWarning: Found `n_estimators` in params. Will use it instead of argument\n",
      "  _log_warning(f\"Found `{alias}` in params. Will use it instead of argument\")\n"
     ]
    },
    {
     "name": "stdout",
     "output_type": "stream",
     "text": [
      "Training until validation scores don't improve for 50 rounds\n",
      "Early stopping, best iteration is:\n",
      "[328]\tvalid_0's l2: 5.23638e+09\n"
     ]
    },
    {
     "name": "stderr",
     "output_type": "stream",
     "text": [
      "[I 2024-09-23 15:12:10,428] A new study created in memory with name: no-name-4aa7693b-832e-45ac-9734-618939ae5c3a\n"
     ]
    },
    {
     "name": "stdout",
     "output_type": "stream",
     "text": [
      "Training until validation scores don't improve for 50 rounds\n",
      "Early stopping, best iteration is:\n",
      "[13]\tvalid_0's l2: 5.3684e+09\n",
      "Training until validation scores don't improve for 50 rounds\n",
      "Early stopping, best iteration is:\n",
      "[14]\tvalid_0's l2: 5.33033e+09\n",
      "Training until validation scores don't improve for 50 rounds\n",
      "Early stopping, best iteration is:\n",
      "[12]\tvalid_0's l2: 5.30912e+09\n",
      "Training until validation scores don't improve for 50 rounds\n",
      "Early stopping, best iteration is:\n",
      "[13]\tvalid_0's l2: 5.32855e+09\n",
      "Training until validation scores don't improve for 50 rounds\n"
     ]
    },
    {
     "name": "stderr",
     "output_type": "stream",
     "text": [
      "[I 2024-09-23 15:12:23,119] Trial 0 finished with value: 73004.32582180861 and parameters: {'n_estimators': 1040, 'num_leaves': 308, 'max_depth': 42, 'learning_rate': 0.17636469336159113, 'subsample': 0.7492535061512953, 'colsample_bytree': 0.6123983227654238, 'reg_alpha': 1.54304001490974e-06, 'reg_lambda': 1.1018509458263566, 'min_data_in_leaf': 53, 'feature_fraction': 0.5441699070870052, 'bagging_fraction': 0.8426799091838986, 'bagging_freq': 5, 'min_child_weight': 0.00010560624429728648, 'cat_smooth': 32.52312463051321}. Best is trial 0 with value: 73004.32582180861.\n"
     ]
    },
    {
     "name": "stdout",
     "output_type": "stream",
     "text": [
      "Early stopping, best iteration is:\n",
      "[15]\tvalid_0's l2: 5.31175e+09\n",
      "Training until validation scores don't improve for 50 rounds\n",
      "Early stopping, best iteration is:\n",
      "[318]\tvalid_0's l2: 5.30714e+09\n",
      "Training until validation scores don't improve for 50 rounds\n",
      "Early stopping, best iteration is:\n",
      "[338]\tvalid_0's l2: 5.27128e+09\n",
      "Training until validation scores don't improve for 50 rounds\n",
      "Early stopping, best iteration is:\n",
      "[312]\tvalid_0's l2: 5.25591e+09\n",
      "Training until validation scores don't improve for 50 rounds\n",
      "Early stopping, best iteration is:\n",
      "[349]\tvalid_0's l2: 5.26402e+09\n",
      "Training until validation scores don't improve for 50 rounds\n",
      "Early stopping, best iteration is:\n",
      "[445]\tvalid_0's l2: 5.20095e+09\n"
     ]
    },
    {
     "name": "stderr",
     "output_type": "stream",
     "text": [
      "[I 2024-09-23 15:14:35,425] Trial 1 finished with value: 72524.88579303764 and parameters: {'n_estimators': 1069, 'num_leaves': 545, 'max_depth': 46, 'learning_rate': 0.007509797119626296, 'subsample': 0.9588870612564717, 'colsample_bytree': 0.8572878916988453, 'reg_alpha': 0.0001799973901160094, 'reg_lambda': 0.0037040785712895334, 'min_data_in_leaf': 70, 'feature_fraction': 0.8370668075331726, 'bagging_fraction': 0.720916587211498, 'bagging_freq': 3, 'min_child_weight': 0.5088641679920515, 'cat_smooth': 32.59404363006922}. Best is trial 1 with value: 72524.88579303764.\n"
     ]
    },
    {
     "name": "stdout",
     "output_type": "stream",
     "text": [
      "Training until validation scores don't improve for 50 rounds\n",
      "Early stopping, best iteration is:\n",
      "[52]\tvalid_0's l2: 5.32154e+09\n",
      "Training until validation scores don't improve for 50 rounds\n",
      "Early stopping, best iteration is:\n",
      "[63]\tvalid_0's l2: 5.296e+09\n",
      "Training until validation scores don't improve for 50 rounds\n",
      "Early stopping, best iteration is:\n",
      "[60]\tvalid_0's l2: 5.26037e+09\n",
      "Training until validation scores don't improve for 50 rounds\n",
      "Early stopping, best iteration is:\n",
      "[57]\tvalid_0's l2: 5.26411e+09\n",
      "Training until validation scores don't improve for 50 rounds\n"
     ]
    },
    {
     "name": "stderr",
     "output_type": "stream",
     "text": [
      "[I 2024-09-23 15:15:04,633] Trial 2 finished with value: 72600.42037497975 and parameters: {'n_estimators': 955, 'num_leaves': 541, 'max_depth': 51, 'learning_rate': 0.036723279424594156, 'subsample': 0.9543244404043341, 'colsample_bytree': 0.6596180444942726, 'reg_alpha': 3.4894428963481334e-07, 'reg_lambda': 0.015951452190168802, 'min_data_in_leaf': 49, 'feature_fraction': 0.9143406631538383, 'bagging_fraction': 0.5234481596946249, 'bagging_freq': 4, 'min_child_weight': 0.1929820588974466, 'cat_smooth': 65.96096423779524}. Best is trial 1 with value: 72524.88579303764.\n"
     ]
    },
    {
     "name": "stdout",
     "output_type": "stream",
     "text": [
      "Early stopping, best iteration is:\n",
      "[87]\tvalid_0's l2: 5.21208e+09\n",
      "Training until validation scores don't improve for 50 rounds\n",
      "Early stopping, best iteration is:\n",
      "[10]\tvalid_0's l2: 5.37787e+09\n",
      "Training until validation scores don't improve for 50 rounds\n",
      "Early stopping, best iteration is:\n",
      "[13]\tvalid_0's l2: 5.32517e+09\n",
      "Training until validation scores don't improve for 50 rounds\n",
      "Early stopping, best iteration is:\n",
      "[15]\tvalid_0's l2: 5.32712e+09\n",
      "Training until validation scores don't improve for 50 rounds\n",
      "Early stopping, best iteration is:\n",
      "[15]\tvalid_0's l2: 5.32189e+09\n",
      "Training until validation scores don't improve for 50 rounds\n"
     ]
    },
    {
     "name": "stderr",
     "output_type": "stream",
     "text": [
      "[I 2024-09-23 15:15:23,816] Trial 3 finished with value: 72987.87696496857 and parameters: {'n_estimators': 639, 'num_leaves': 643, 'max_depth': 27, 'learning_rate': 0.18362976337563003, 'subsample': 0.6479808534398394, 'colsample_bytree': 0.9419682397805931, 'reg_alpha': 8.97573097030888e-06, 'reg_lambda': 0.004571551229239351, 'min_data_in_leaf': 71, 'feature_fraction': 0.5467301872793251, 'bagging_fraction': 0.9105528289184642, 'bagging_freq': 1, 'min_child_weight': 0.020169108029984395, 'cat_smooth': 87.9550363117174}. Best is trial 1 with value: 72524.88579303764.\n"
     ]
    },
    {
     "name": "stdout",
     "output_type": "stream",
     "text": [
      "Early stopping, best iteration is:\n",
      "[15]\tvalid_0's l2: 5.2841e+09\n",
      "Training until validation scores don't improve for 50 rounds\n",
      "Early stopping, best iteration is:\n",
      "[448]\tvalid_0's l2: 5.30549e+09\n",
      "Training until validation scores don't improve for 50 rounds\n",
      "Early stopping, best iteration is:\n",
      "[442]\tvalid_0's l2: 5.27008e+09\n",
      "Training until validation scores don't improve for 50 rounds\n",
      "Early stopping, best iteration is:\n",
      "[504]\tvalid_0's l2: 5.26306e+09\n",
      "Training until validation scores don't improve for 50 rounds\n",
      "Early stopping, best iteration is:\n",
      "[441]\tvalid_0's l2: 5.2552e+09\n",
      "Training until validation scores don't improve for 50 rounds\n",
      "Early stopping, best iteration is:\n",
      "[564]\tvalid_0's l2: 5.20566e+09\n"
     ]
    },
    {
     "name": "stderr",
     "output_type": "stream",
     "text": [
      "[I 2024-09-23 15:17:43,550] Trial 4 finished with value: 72525.15635908625 and parameters: {'n_estimators': 1192, 'num_leaves': 482, 'max_depth': 52, 'learning_rate': 0.005677045861147304, 'subsample': 0.7986858241154422, 'colsample_bytree': 0.9514158801658137, 'reg_alpha': 0.00016119356219527467, 'reg_lambda': 0.2295120287772858, 'min_data_in_leaf': 43, 'feature_fraction': 0.6785908793172681, 'bagging_fraction': 0.5398065450779821, 'bagging_freq': 2, 'min_child_weight': 0.009645302925851532, 'cat_smooth': 59.405997991322664}. Best is trial 1 with value: 72524.88579303764.\n"
     ]
    },
    {
     "name": "stdout",
     "output_type": "stream",
     "text": [
      "Training until validation scores don't improve for 50 rounds\n",
      "Early stopping, best iteration is:\n",
      "[34]\tvalid_0's l2: 5.31403e+09\n",
      "Training until validation scores don't improve for 50 rounds\n",
      "Early stopping, best iteration is:\n",
      "[34]\tvalid_0's l2: 5.28135e+09\n",
      "Training until validation scores don't improve for 50 rounds\n",
      "Early stopping, best iteration is:\n",
      "[36]\tvalid_0's l2: 5.26913e+09\n",
      "Training until validation scores don't improve for 50 rounds\n",
      "Early stopping, best iteration is:\n",
      "[32]\tvalid_0's l2: 5.26872e+09\n",
      "Training until validation scores don't improve for 50 rounds\n"
     ]
    },
    {
     "name": "stderr",
     "output_type": "stream",
     "text": [
      "[I 2024-09-23 15:18:00,292] Trial 5 finished with value: 72584.71579817105 and parameters: {'n_estimators': 528, 'num_leaves': 472, 'max_depth': 26, 'learning_rate': 0.08118455774682055, 'subsample': 0.6731735750400165, 'colsample_bytree': 0.5215486781024972, 'reg_alpha': 0.01903229002492754, 'reg_lambda': 1.1296979705718802, 'min_data_in_leaf': 111, 'feature_fraction': 0.7087545719196335, 'bagging_fraction': 0.8027887821968784, 'bagging_freq': 3, 'min_child_weight': 0.38638467047838265, 'cat_smooth': 18.290082361212804}. Best is trial 1 with value: 72524.88579303764.\n"
     ]
    },
    {
     "name": "stdout",
     "output_type": "stream",
     "text": [
      "Early stopping, best iteration is:\n",
      "[38]\tvalid_0's l2: 5.20946e+09\n",
      "Training until validation scores don't improve for 50 rounds\n",
      "Early stopping, best iteration is:\n",
      "[464]\tvalid_0's l2: 5.31286e+09\n",
      "Training until validation scores don't improve for 50 rounds\n",
      "Early stopping, best iteration is:\n",
      "[444]\tvalid_0's l2: 5.26982e+09\n",
      "Training until validation scores don't improve for 50 rounds\n",
      "Early stopping, best iteration is:\n",
      "[501]\tvalid_0's l2: 5.25306e+09\n",
      "Training until validation scores don't improve for 50 rounds\n",
      "Early stopping, best iteration is:\n",
      "[498]\tvalid_0's l2: 5.26184e+09\n",
      "Training until validation scores don't improve for 50 rounds\n",
      "Early stopping, best iteration is:\n",
      "[636]\tvalid_0's l2: 5.20034e+09\n"
     ]
    },
    {
     "name": "stderr",
     "output_type": "stream",
     "text": [
      "[I 2024-09-23 15:19:50,637] Trial 6 finished with value: 72522.99397612724 and parameters: {'n_estimators': 710, 'num_leaves': 310, 'max_depth': 25, 'learning_rate': 0.005323872255879759, 'subsample': 0.778789094331322, 'colsample_bytree': 0.7827535099440838, 'reg_alpha': 7.092404300854912e-05, 'reg_lambda': 0.01483173321964085, 'min_data_in_leaf': 45, 'feature_fraction': 0.9894095728788213, 'bagging_fraction': 0.6698539218189319, 'bagging_freq': 3, 'min_child_weight': 72.85919281852098, 'cat_smooth': 27.591405563189507}. Best is trial 6 with value: 72522.99397612724.\n"
     ]
    },
    {
     "name": "stdout",
     "output_type": "stream",
     "text": [
      "Training until validation scores don't improve for 50 rounds\n",
      "Early stopping, best iteration is:\n",
      "[5]\tvalid_0's l2: 5.38258e+09\n",
      "Training until validation scores don't improve for 50 rounds\n",
      "Early stopping, best iteration is:\n",
      "[6]\tvalid_0's l2: 5.37984e+09\n",
      "Training until validation scores don't improve for 50 rounds\n",
      "Early stopping, best iteration is:\n",
      "[5]\tvalid_0's l2: 5.33417e+09\n",
      "Training until validation scores don't improve for 50 rounds\n",
      "Early stopping, best iteration is:\n",
      "[5]\tvalid_0's l2: 5.31017e+09\n",
      "Training until validation scores don't improve for 50 rounds\n"
     ]
    },
    {
     "name": "stderr",
     "output_type": "stream",
     "text": [
      "[I 2024-09-23 15:20:06,135] Trial 7 finished with value: 73092.75844398967 and parameters: {'n_estimators': 723, 'num_leaves': 508, 'max_depth': 39, 'learning_rate': 0.3645870608221405, 'subsample': 0.534048636768975, 'colsample_bytree': 0.7322654038896663, 'reg_alpha': 0.004916937769207978, 'reg_lambda': 0.7488782916686476, 'min_data_in_leaf': 87, 'feature_fraction': 0.5185472066172039, 'bagging_fraction': 0.6753281956415664, 'bagging_freq': 3, 'min_child_weight': 0.006286070313385454, 'cat_smooth': 32.53375211168362}. Best is trial 6 with value: 72522.99397612724.\n"
     ]
    },
    {
     "name": "stdout",
     "output_type": "stream",
     "text": [
      "Early stopping, best iteration is:\n",
      "[6]\tvalid_0's l2: 5.306e+09\n",
      "Training until validation scores don't improve for 50 rounds\n",
      "Early stopping, best iteration is:\n",
      "[224]\tvalid_0's l2: 5.29719e+09\n",
      "Training until validation scores don't improve for 50 rounds\n",
      "Early stopping, best iteration is:\n",
      "[322]\tvalid_0's l2: 5.26803e+09\n",
      "Training until validation scores don't improve for 50 rounds\n",
      "Early stopping, best iteration is:\n",
      "[276]\tvalid_0's l2: 5.24951e+09\n",
      "Training until validation scores don't improve for 50 rounds\n",
      "Early stopping, best iteration is:\n",
      "[280]\tvalid_0's l2: 5.25283e+09\n",
      "Training until validation scores don't improve for 50 rounds\n",
      "Early stopping, best iteration is:\n",
      "[359]\tvalid_0's l2: 5.19215e+09\n"
     ]
    },
    {
     "name": "stderr",
     "output_type": "stream",
     "text": [
      "[I 2024-09-23 15:20:58,946] Trial 8 finished with value: 72470.28299309389 and parameters: {'n_estimators': 972, 'num_leaves': 363, 'max_depth': 12, 'learning_rate': 0.010314487673603769, 'subsample': 0.5540318863897262, 'colsample_bytree': 0.5894514042855452, 'reg_alpha': 0.02065202190439409, 'reg_lambda': 0.02893742513973448, 'min_data_in_leaf': 57, 'feature_fraction': 0.8762480851093014, 'bagging_fraction': 0.5534397921967846, 'bagging_freq': 4, 'min_child_weight': 0.06587365495478886, 'cat_smooth': 39.651139374964735}. Best is trial 8 with value: 72470.28299309389.\n"
     ]
    },
    {
     "name": "stdout",
     "output_type": "stream",
     "text": [
      "Training until validation scores don't improve for 50 rounds\n",
      "Did not meet early stopping. Best iteration is:\n",
      "[603]\tvalid_0's l2: 5.46779e+09\n",
      "Training until validation scores don't improve for 50 rounds\n",
      "Did not meet early stopping. Best iteration is:\n",
      "[603]\tvalid_0's l2: 5.44513e+09\n",
      "Training until validation scores don't improve for 50 rounds\n",
      "Did not meet early stopping. Best iteration is:\n",
      "[603]\tvalid_0's l2: 5.41366e+09\n",
      "Training until validation scores don't improve for 50 rounds\n",
      "Did not meet early stopping. Best iteration is:\n",
      "[603]\tvalid_0's l2: 5.43885e+09\n",
      "Training until validation scores don't improve for 50 rounds\n",
      "Did not meet early stopping. Best iteration is:\n",
      "[603]\tvalid_0's l2: 5.39202e+09\n"
     ]
    },
    {
     "name": "stderr",
     "output_type": "stream",
     "text": [
      "[I 2024-09-23 15:23:20,996] Trial 9 finished with value: 73698.64142831558 and parameters: {'n_estimators': 603, 'num_leaves': 373, 'max_depth': 42, 'learning_rate': 0.0013992136034385533, 'subsample': 0.6243062539013847, 'colsample_bytree': 0.7712042581140022, 'reg_alpha': 2.294246403767406e-06, 'reg_lambda': 0.03354641687863073, 'min_data_in_leaf': 114, 'feature_fraction': 0.9626784364338884, 'bagging_fraction': 0.7833749622874999, 'bagging_freq': 3, 'min_child_weight': 0.00012278919376690123, 'cat_smooth': 95.03843220828843}. Best is trial 8 with value: 72470.28299309389.\n",
      "c:\\Users\\lerch\\miniconda3\\envs\\cars\\Lib\\site-packages\\lightgbm\\engine.py:204: UserWarning: Found `n_estimators` in params. Will use it instead of argument\n",
      "  _log_warning(f\"Found `{alias}` in params. Will use it instead of argument\")\n"
     ]
    },
    {
     "name": "stdout",
     "output_type": "stream",
     "text": [
      "Training until validation scores don't improve for 50 rounds\n",
      "Early stopping, best iteration is:\n",
      "[291]\tvalid_0's l2: 5.30623e+09\n"
     ]
    },
    {
     "name": "stderr",
     "output_type": "stream",
     "text": [
      "c:\\Users\\lerch\\miniconda3\\envs\\cars\\Lib\\site-packages\\lightgbm\\engine.py:204: UserWarning: Found `n_estimators` in params. Will use it instead of argument\n",
      "  _log_warning(f\"Found `{alias}` in params. Will use it instead of argument\")\n"
     ]
    },
    {
     "name": "stdout",
     "output_type": "stream",
     "text": [
      "Training until validation scores don't improve for 50 rounds\n",
      "Early stopping, best iteration is:\n",
      "[254]\tvalid_0's l2: 5.26889e+09\n"
     ]
    },
    {
     "name": "stderr",
     "output_type": "stream",
     "text": [
      "c:\\Users\\lerch\\miniconda3\\envs\\cars\\Lib\\site-packages\\lightgbm\\engine.py:204: UserWarning: Found `n_estimators` in params. Will use it instead of argument\n",
      "  _log_warning(f\"Found `{alias}` in params. Will use it instead of argument\")\n"
     ]
    },
    {
     "name": "stdout",
     "output_type": "stream",
     "text": [
      "Training until validation scores don't improve for 50 rounds\n",
      "Early stopping, best iteration is:\n",
      "[231]\tvalid_0's l2: 5.25024e+09\n"
     ]
    },
    {
     "name": "stderr",
     "output_type": "stream",
     "text": [
      "c:\\Users\\lerch\\miniconda3\\envs\\cars\\Lib\\site-packages\\lightgbm\\engine.py:204: UserWarning: Found `n_estimators` in params. Will use it instead of argument\n",
      "  _log_warning(f\"Found `{alias}` in params. Will use it instead of argument\")\n"
     ]
    },
    {
     "name": "stdout",
     "output_type": "stream",
     "text": [
      "Training until validation scores don't improve for 50 rounds\n",
      "Early stopping, best iteration is:\n",
      "[217]\tvalid_0's l2: 5.26118e+09\n"
     ]
    },
    {
     "name": "stderr",
     "output_type": "stream",
     "text": [
      "c:\\Users\\lerch\\miniconda3\\envs\\cars\\Lib\\site-packages\\lightgbm\\engine.py:204: UserWarning: Found `n_estimators` in params. Will use it instead of argument\n",
      "  _log_warning(f\"Found `{alias}` in params. Will use it instead of argument\")\n"
     ]
    },
    {
     "name": "stdout",
     "output_type": "stream",
     "text": [
      "Training until validation scores don't improve for 50 rounds\n",
      "Early stopping, best iteration is:\n",
      "[367]\tvalid_0's l2: 5.1879e+09\n"
     ]
    },
    {
     "name": "stderr",
     "output_type": "stream",
     "text": [
      "[I 2024-09-23 15:24:06,446] A new study created in memory with name: no-name-3545f5a8-8a02-4b0b-bd7e-8ecd2a049eb7\n"
     ]
    },
    {
     "name": "stdout",
     "output_type": "stream",
     "text": [
      "Training until validation scores don't improve for 50 rounds\n",
      "Early stopping, best iteration is:\n",
      "[15]\tvalid_0's l2: 5.36943e+09\n",
      "Training until validation scores don't improve for 50 rounds\n",
      "Early stopping, best iteration is:\n",
      "[13]\tvalid_0's l2: 5.36851e+09\n",
      "Training until validation scores don't improve for 50 rounds\n",
      "Early stopping, best iteration is:\n",
      "[14]\tvalid_0's l2: 5.31653e+09\n",
      "Training until validation scores don't improve for 50 rounds\n",
      "Early stopping, best iteration is:\n",
      "[11]\tvalid_0's l2: 5.33867e+09\n",
      "Training until validation scores don't improve for 50 rounds\n"
     ]
    },
    {
     "name": "stderr",
     "output_type": "stream",
     "text": [
      "[I 2024-09-23 15:24:18,143] Trial 0 finished with value: 73072.38389991868 and parameters: {'n_estimators': 1040, 'num_leaves': 308, 'max_depth': 42, 'learning_rate': 0.17636469336159113, 'subsample': 0.7492535061512953, 'colsample_bytree': 0.6123983227654238, 'reg_alpha': 1.54304001490974e-06, 'reg_lambda': 1.1018509458263566, 'min_data_in_leaf': 53, 'feature_fraction': 0.5441699070870052, 'bagging_fraction': 0.8426799091838986, 'bagging_freq': 5, 'min_child_weight': 0.00010560624429728648, 'cat_smooth': 32.52312463051321}. Best is trial 0 with value: 73072.38389991868.\n"
     ]
    },
    {
     "name": "stdout",
     "output_type": "stream",
     "text": [
      "Early stopping, best iteration is:\n",
      "[12]\tvalid_0's l2: 5.30472e+09\n",
      "Training until validation scores don't improve for 50 rounds\n",
      "Early stopping, best iteration is:\n",
      "[373]\tvalid_0's l2: 5.31584e+09\n",
      "Training until validation scores don't improve for 50 rounds\n",
      "Early stopping, best iteration is:\n",
      "[378]\tvalid_0's l2: 5.27847e+09\n",
      "Training until validation scores don't improve for 50 rounds\n",
      "Early stopping, best iteration is:\n",
      "[348]\tvalid_0's l2: 5.27759e+09\n",
      "Training until validation scores don't improve for 50 rounds\n",
      "Early stopping, best iteration is:\n",
      "[365]\tvalid_0's l2: 5.2688e+09\n",
      "Training until validation scores don't improve for 50 rounds\n",
      "Early stopping, best iteration is:\n",
      "[313]\tvalid_0's l2: 5.27181e+09\n"
     ]
    },
    {
     "name": "stderr",
     "output_type": "stream",
     "text": [
      "[I 2024-09-23 15:26:30,523] Trial 1 finished with value: 72680.8287838813 and parameters: {'n_estimators': 1069, 'num_leaves': 545, 'max_depth': 46, 'learning_rate': 0.007509797119626296, 'subsample': 0.9588870612564717, 'colsample_bytree': 0.8572878916988453, 'reg_alpha': 0.0001799973901160094, 'reg_lambda': 0.0037040785712895334, 'min_data_in_leaf': 70, 'feature_fraction': 0.8370668075331726, 'bagging_fraction': 0.720916587211498, 'bagging_freq': 3, 'min_child_weight': 0.5088641679920515, 'cat_smooth': 32.59404363006922}. Best is trial 1 with value: 72680.8287838813.\n"
     ]
    },
    {
     "name": "stdout",
     "output_type": "stream",
     "text": [
      "Training until validation scores don't improve for 50 rounds\n",
      "Early stopping, best iteration is:\n",
      "[96]\tvalid_0's l2: 5.32506e+09\n",
      "Training until validation scores don't improve for 50 rounds\n",
      "Early stopping, best iteration is:\n",
      "[74]\tvalid_0's l2: 5.30399e+09\n",
      "Training until validation scores don't improve for 50 rounds\n",
      "Early stopping, best iteration is:\n",
      "[60]\tvalid_0's l2: 5.2725e+09\n",
      "Training until validation scores don't improve for 50 rounds\n",
      "Early stopping, best iteration is:\n",
      "[73]\tvalid_0's l2: 5.28719e+09\n",
      "Training until validation scores don't improve for 50 rounds\n"
     ]
    },
    {
     "name": "stderr",
     "output_type": "stream",
     "text": [
      "[I 2024-09-23 15:27:06,648] Trial 2 finished with value: 72770.65446344353 and parameters: {'n_estimators': 955, 'num_leaves': 541, 'max_depth': 51, 'learning_rate': 0.036723279424594156, 'subsample': 0.9543244404043341, 'colsample_bytree': 0.6596180444942726, 'reg_alpha': 3.4894428963481334e-07, 'reg_lambda': 0.015951452190168802, 'min_data_in_leaf': 49, 'feature_fraction': 0.9143406631538383, 'bagging_fraction': 0.5234481596946249, 'bagging_freq': 4, 'min_child_weight': 0.1929820588974466, 'cat_smooth': 65.96096423779524}. Best is trial 1 with value: 72680.8287838813.\n"
     ]
    },
    {
     "name": "stdout",
     "output_type": "stream",
     "text": [
      "Early stopping, best iteration is:\n",
      "[60]\tvalid_0's l2: 5.2891e+09\n",
      "Training until validation scores don't improve for 50 rounds\n",
      "Early stopping, best iteration is:\n",
      "[12]\tvalid_0's l2: 5.35948e+09\n",
      "Training until validation scores don't improve for 50 rounds\n",
      "Early stopping, best iteration is:\n",
      "[15]\tvalid_0's l2: 5.33271e+09\n",
      "Training until validation scores don't improve for 50 rounds\n",
      "Early stopping, best iteration is:\n",
      "[12]\tvalid_0's l2: 5.312e+09\n",
      "Training until validation scores don't improve for 50 rounds\n",
      "Early stopping, best iteration is:\n",
      "[13]\tvalid_0's l2: 5.31751e+09\n",
      "Training until validation scores don't improve for 50 rounds\n"
     ]
    },
    {
     "name": "stderr",
     "output_type": "stream",
     "text": [
      "[I 2024-09-23 15:27:22,819] Trial 3 finished with value: 72994.4713777535 and parameters: {'n_estimators': 639, 'num_leaves': 643, 'max_depth': 27, 'learning_rate': 0.18362976337563003, 'subsample': 0.6479808534398394, 'colsample_bytree': 0.9419682397805931, 'reg_alpha': 8.97573097030888e-06, 'reg_lambda': 0.004571551229239351, 'min_data_in_leaf': 71, 'feature_fraction': 0.5467301872793251, 'bagging_fraction': 0.9105528289184642, 'bagging_freq': 1, 'min_child_weight': 0.020169108029984395, 'cat_smooth': 87.9550363117174}. Best is trial 1 with value: 72680.8287838813.\n"
     ]
    },
    {
     "name": "stdout",
     "output_type": "stream",
     "text": [
      "Early stopping, best iteration is:\n",
      "[11]\tvalid_0's l2: 5.31927e+09\n",
      "Training until validation scores don't improve for 50 rounds\n",
      "Early stopping, best iteration is:\n",
      "[459]\tvalid_0's l2: 5.31357e+09\n",
      "Training until validation scores don't improve for 50 rounds\n",
      "Early stopping, best iteration is:\n",
      "[485]\tvalid_0's l2: 5.28009e+09\n",
      "Training until validation scores don't improve for 50 rounds\n",
      "Early stopping, best iteration is:\n",
      "[436]\tvalid_0's l2: 5.27969e+09\n",
      "Training until validation scores don't improve for 50 rounds\n",
      "Early stopping, best iteration is:\n",
      "[471]\tvalid_0's l2: 5.27884e+09\n",
      "Training until validation scores don't improve for 50 rounds\n",
      "Early stopping, best iteration is:\n",
      "[461]\tvalid_0's l2: 5.26225e+09\n"
     ]
    },
    {
     "name": "stderr",
     "output_type": "stream",
     "text": [
      "[I 2024-09-23 15:29:41,517] Trial 4 finished with value: 72683.47161206711 and parameters: {'n_estimators': 1192, 'num_leaves': 482, 'max_depth': 52, 'learning_rate': 0.005677045861147304, 'subsample': 0.7986858241154422, 'colsample_bytree': 0.9514158801658137, 'reg_alpha': 0.00016119356219527467, 'reg_lambda': 0.2295120287772858, 'min_data_in_leaf': 43, 'feature_fraction': 0.6785908793172681, 'bagging_fraction': 0.5398065450779821, 'bagging_freq': 2, 'min_child_weight': 0.009645302925851532, 'cat_smooth': 59.405997991322664}. Best is trial 1 with value: 72680.8287838813.\n"
     ]
    },
    {
     "name": "stdout",
     "output_type": "stream",
     "text": [
      "Training until validation scores don't improve for 50 rounds\n",
      "Early stopping, best iteration is:\n",
      "[35]\tvalid_0's l2: 5.32068e+09\n",
      "Training until validation scores don't improve for 50 rounds\n",
      "Early stopping, best iteration is:\n",
      "[35]\tvalid_0's l2: 5.29819e+09\n",
      "Training until validation scores don't improve for 50 rounds\n",
      "Early stopping, best iteration is:\n",
      "[36]\tvalid_0's l2: 5.28802e+09\n",
      "Training until validation scores don't improve for 50 rounds\n",
      "Early stopping, best iteration is:\n",
      "[38]\tvalid_0's l2: 5.27471e+09\n",
      "Training until validation scores don't improve for 50 rounds\n"
     ]
    },
    {
     "name": "stderr",
     "output_type": "stream",
     "text": [
      "[I 2024-09-23 15:30:03,541] Trial 5 finished with value: 72740.74668893663 and parameters: {'n_estimators': 528, 'num_leaves': 472, 'max_depth': 26, 'learning_rate': 0.08118455774682055, 'subsample': 0.6731735750400165, 'colsample_bytree': 0.5215486781024972, 'reg_alpha': 0.01903229002492754, 'reg_lambda': 1.1296979705718802, 'min_data_in_leaf': 111, 'feature_fraction': 0.7087545719196335, 'bagging_fraction': 0.8027887821968784, 'bagging_freq': 3, 'min_child_weight': 0.38638467047838265, 'cat_smooth': 18.290082361212804}. Best is trial 1 with value: 72680.8287838813.\n"
     ]
    },
    {
     "name": "stdout",
     "output_type": "stream",
     "text": [
      "Early stopping, best iteration is:\n",
      "[30]\tvalid_0's l2: 5.27447e+09\n",
      "Training until validation scores don't improve for 50 rounds\n",
      "Early stopping, best iteration is:\n",
      "[486]\tvalid_0's l2: 5.31903e+09\n",
      "Training until validation scores don't improve for 50 rounds\n",
      "Early stopping, best iteration is:\n",
      "[549]\tvalid_0's l2: 5.27826e+09\n",
      "Training until validation scores don't improve for 50 rounds\n",
      "Early stopping, best iteration is:\n",
      "[429]\tvalid_0's l2: 5.28197e+09\n",
      "Training until validation scores don't improve for 50 rounds\n",
      "Early stopping, best iteration is:\n",
      "[498]\tvalid_0's l2: 5.27263e+09\n",
      "Training until validation scores don't improve for 50 rounds\n",
      "Early stopping, best iteration is:\n",
      "[498]\tvalid_0's l2: 5.26507e+09\n"
     ]
    },
    {
     "name": "stderr",
     "output_type": "stream",
     "text": [
      "[I 2024-09-23 15:31:49,437] Trial 6 finished with value: 72686.94482756166 and parameters: {'n_estimators': 710, 'num_leaves': 310, 'max_depth': 25, 'learning_rate': 0.005323872255879759, 'subsample': 0.778789094331322, 'colsample_bytree': 0.7827535099440838, 'reg_alpha': 7.092404300854912e-05, 'reg_lambda': 0.01483173321964085, 'min_data_in_leaf': 45, 'feature_fraction': 0.9894095728788213, 'bagging_fraction': 0.6698539218189319, 'bagging_freq': 3, 'min_child_weight': 72.85919281852098, 'cat_smooth': 27.591405563189507}. Best is trial 1 with value: 72680.8287838813.\n"
     ]
    },
    {
     "name": "stdout",
     "output_type": "stream",
     "text": [
      "Training until validation scores don't improve for 50 rounds\n",
      "Early stopping, best iteration is:\n",
      "[4]\tvalid_0's l2: 5.3981e+09\n",
      "Training until validation scores don't improve for 50 rounds\n",
      "Early stopping, best iteration is:\n",
      "[5]\tvalid_0's l2: 5.38204e+09\n",
      "Training until validation scores don't improve for 50 rounds\n",
      "Early stopping, best iteration is:\n",
      "[4]\tvalid_0's l2: 5.36002e+09\n",
      "Training until validation scores don't improve for 50 rounds\n",
      "Early stopping, best iteration is:\n",
      "[7]\tvalid_0's l2: 5.34622e+09\n",
      "Training until validation scores don't improve for 50 rounds\n"
     ]
    },
    {
     "name": "stderr",
     "output_type": "stream",
     "text": [
      "[I 2024-09-23 15:32:04,535] Trial 7 finished with value: 73237.05402323928 and parameters: {'n_estimators': 723, 'num_leaves': 508, 'max_depth': 39, 'learning_rate': 0.3645870608221405, 'subsample': 0.534048636768975, 'colsample_bytree': 0.7322654038896663, 'reg_alpha': 0.004916937769207978, 'reg_lambda': 0.7488782916686476, 'min_data_in_leaf': 87, 'feature_fraction': 0.5185472066172039, 'bagging_fraction': 0.6753281956415664, 'bagging_freq': 3, 'min_child_weight': 0.006286070313385454, 'cat_smooth': 32.53375211168362}. Best is trial 1 with value: 72680.8287838813.\n"
     ]
    },
    {
     "name": "stdout",
     "output_type": "stream",
     "text": [
      "Early stopping, best iteration is:\n",
      "[5]\tvalid_0's l2: 5.33194e+09\n",
      "Training until validation scores don't improve for 50 rounds\n",
      "Early stopping, best iteration is:\n",
      "[268]\tvalid_0's l2: 5.31126e+09\n",
      "Training until validation scores don't improve for 50 rounds\n",
      "Early stopping, best iteration is:\n",
      "[264]\tvalid_0's l2: 5.28124e+09\n",
      "Training until validation scores don't improve for 50 rounds\n",
      "Early stopping, best iteration is:\n",
      "[247]\tvalid_0's l2: 5.27634e+09\n",
      "Training until validation scores don't improve for 50 rounds\n",
      "Early stopping, best iteration is:\n",
      "[289]\tvalid_0's l2: 5.26839e+09\n",
      "Training until validation scores don't improve for 50 rounds\n",
      "Early stopping, best iteration is:\n",
      "[242]\tvalid_0's l2: 5.26745e+09\n"
     ]
    },
    {
     "name": "stderr",
     "output_type": "stream",
     "text": [
      "[I 2024-09-23 15:32:53,321] Trial 8 finished with value: 72670.05497655064 and parameters: {'n_estimators': 972, 'num_leaves': 363, 'max_depth': 12, 'learning_rate': 0.010314487673603769, 'subsample': 0.5540318863897262, 'colsample_bytree': 0.5894514042855452, 'reg_alpha': 0.02065202190439409, 'reg_lambda': 0.02893742513973448, 'min_data_in_leaf': 57, 'feature_fraction': 0.8762480851093014, 'bagging_fraction': 0.5534397921967846, 'bagging_freq': 4, 'min_child_weight': 0.06587365495478886, 'cat_smooth': 39.651139374964735}. Best is trial 8 with value: 72670.05497655064.\n"
     ]
    },
    {
     "name": "stdout",
     "output_type": "stream",
     "text": [
      "Training until validation scores don't improve for 50 rounds\n",
      "Did not meet early stopping. Best iteration is:\n",
      "[603]\tvalid_0's l2: 5.48004e+09\n",
      "Training until validation scores don't improve for 50 rounds\n",
      "Did not meet early stopping. Best iteration is:\n",
      "[603]\tvalid_0's l2: 5.45978e+09\n",
      "Training until validation scores don't improve for 50 rounds\n",
      "Did not meet early stopping. Best iteration is:\n",
      "[603]\tvalid_0's l2: 5.42935e+09\n",
      "Training until validation scores don't improve for 50 rounds\n",
      "Did not meet early stopping. Best iteration is:\n",
      "[603]\tvalid_0's l2: 5.4586e+09\n",
      "Training until validation scores don't improve for 50 rounds\n",
      "Did not meet early stopping. Best iteration is:\n",
      "[603]\tvalid_0's l2: 5.41669e+09\n"
     ]
    },
    {
     "name": "stderr",
     "output_type": "stream",
     "text": [
      "[I 2024-09-23 15:34:55,875] Trial 9 finished with value: 73816.63034445951 and parameters: {'n_estimators': 603, 'num_leaves': 373, 'max_depth': 42, 'learning_rate': 0.0013992136034385533, 'subsample': 0.6243062539013847, 'colsample_bytree': 0.7712042581140022, 'reg_alpha': 2.294246403767406e-06, 'reg_lambda': 0.03354641687863073, 'min_data_in_leaf': 114, 'feature_fraction': 0.9626784364338884, 'bagging_fraction': 0.7833749622874999, 'bagging_freq': 3, 'min_child_weight': 0.00012278919376690123, 'cat_smooth': 95.03843220828843}. Best is trial 8 with value: 72670.05497655064.\n",
      "c:\\Users\\lerch\\miniconda3\\envs\\cars\\Lib\\site-packages\\lightgbm\\engine.py:204: UserWarning: Found `n_estimators` in params. Will use it instead of argument\n",
      "  _log_warning(f\"Found `{alias}` in params. Will use it instead of argument\")\n"
     ]
    },
    {
     "name": "stdout",
     "output_type": "stream",
     "text": [
      "Training until validation scores don't improve for 50 rounds\n",
      "Early stopping, best iteration is:\n",
      "[286]\tvalid_0's l2: 5.31458e+09\n"
     ]
    },
    {
     "name": "stderr",
     "output_type": "stream",
     "text": [
      "c:\\Users\\lerch\\miniconda3\\envs\\cars\\Lib\\site-packages\\lightgbm\\engine.py:204: UserWarning: Found `n_estimators` in params. Will use it instead of argument\n",
      "  _log_warning(f\"Found `{alias}` in params. Will use it instead of argument\")\n"
     ]
    },
    {
     "name": "stdout",
     "output_type": "stream",
     "text": [
      "Training until validation scores don't improve for 50 rounds\n",
      "Early stopping, best iteration is:\n",
      "[262]\tvalid_0's l2: 5.28438e+09\n"
     ]
    },
    {
     "name": "stderr",
     "output_type": "stream",
     "text": [
      "c:\\Users\\lerch\\miniconda3\\envs\\cars\\Lib\\site-packages\\lightgbm\\engine.py:204: UserWarning: Found `n_estimators` in params. Will use it instead of argument\n",
      "  _log_warning(f\"Found `{alias}` in params. Will use it instead of argument\")\n"
     ]
    },
    {
     "name": "stdout",
     "output_type": "stream",
     "text": [
      "Training until validation scores don't improve for 50 rounds\n",
      "Early stopping, best iteration is:\n",
      "[249]\tvalid_0's l2: 5.27977e+09\n"
     ]
    },
    {
     "name": "stderr",
     "output_type": "stream",
     "text": [
      "c:\\Users\\lerch\\miniconda3\\envs\\cars\\Lib\\site-packages\\lightgbm\\engine.py:204: UserWarning: Found `n_estimators` in params. Will use it instead of argument\n",
      "  _log_warning(f\"Found `{alias}` in params. Will use it instead of argument\")\n"
     ]
    },
    {
     "name": "stdout",
     "output_type": "stream",
     "text": [
      "Training until validation scores don't improve for 50 rounds\n",
      "Early stopping, best iteration is:\n",
      "[300]\tvalid_0's l2: 5.26917e+09\n"
     ]
    },
    {
     "name": "stderr",
     "output_type": "stream",
     "text": [
      "c:\\Users\\lerch\\miniconda3\\envs\\cars\\Lib\\site-packages\\lightgbm\\engine.py:204: UserWarning: Found `n_estimators` in params. Will use it instead of argument\n",
      "  _log_warning(f\"Found `{alias}` in params. Will use it instead of argument\")\n"
     ]
    },
    {
     "name": "stdout",
     "output_type": "stream",
     "text": [
      "Training until validation scores don't improve for 50 rounds\n",
      "Early stopping, best iteration is:\n",
      "[244]\tvalid_0's l2: 5.26849e+09\n"
     ]
    },
    {
     "name": "stderr",
     "output_type": "stream",
     "text": [
      "[I 2024-09-23 15:35:40,877] A new study created in memory with name: no-name-5895dcbc-7d9d-4229-9bf9-5266f42db7ad\n"
     ]
    },
    {
     "name": "stdout",
     "output_type": "stream",
     "text": [
      "Training until validation scores don't improve for 50 rounds\n",
      "Early stopping, best iteration is:\n",
      "[12]\tvalid_0's l2: 5.35262e+09\n",
      "Training until validation scores don't improve for 50 rounds\n",
      "Early stopping, best iteration is:\n",
      "[11]\tvalid_0's l2: 5.35148e+09\n",
      "Training until validation scores don't improve for 50 rounds\n",
      "Early stopping, best iteration is:\n",
      "[11]\tvalid_0's l2: 5.32526e+09\n",
      "Training until validation scores don't improve for 50 rounds\n",
      "Early stopping, best iteration is:\n",
      "[13]\tvalid_0's l2: 5.31961e+09\n",
      "Training until validation scores don't improve for 50 rounds\n"
     ]
    },
    {
     "name": "stderr",
     "output_type": "stream",
     "text": [
      "[I 2024-09-23 15:35:52,008] Trial 0 finished with value: 73018.14245202794 and parameters: {'n_estimators': 1040, 'num_leaves': 308, 'max_depth': 42, 'learning_rate': 0.17636469336159113, 'subsample': 0.7492535061512953, 'colsample_bytree': 0.6123983227654238, 'reg_alpha': 1.54304001490974e-06, 'reg_lambda': 1.1018509458263566, 'min_data_in_leaf': 53, 'feature_fraction': 0.5441699070870052, 'bagging_fraction': 0.8426799091838986, 'bagging_freq': 5, 'min_child_weight': 0.00010560624429728648, 'cat_smooth': 32.52312463051321}. Best is trial 0 with value: 73018.14245202794.\n"
     ]
    },
    {
     "name": "stdout",
     "output_type": "stream",
     "text": [
      "Early stopping, best iteration is:\n",
      "[13]\tvalid_0's l2: 5.30927e+09\n",
      "Training until validation scores don't improve for 50 rounds\n",
      "Early stopping, best iteration is:\n",
      "[340]\tvalid_0's l2: 5.31367e+09\n",
      "Training until validation scores don't improve for 50 rounds\n",
      "Early stopping, best iteration is:\n",
      "[351]\tvalid_0's l2: 5.27953e+09\n",
      "Training until validation scores don't improve for 50 rounds\n",
      "Early stopping, best iteration is:\n",
      "[370]\tvalid_0's l2: 5.2611e+09\n",
      "Training until validation scores don't improve for 50 rounds\n",
      "Early stopping, best iteration is:\n",
      "[373]\tvalid_0's l2: 5.25804e+09\n",
      "Training until validation scores don't improve for 50 rounds\n",
      "Early stopping, best iteration is:\n",
      "[332]\tvalid_0's l2: 5.26816e+09\n"
     ]
    },
    {
     "name": "stderr",
     "output_type": "stream",
     "text": [
      "[I 2024-09-23 15:37:57,213] Trial 1 finished with value: 72636.77451329395 and parameters: {'n_estimators': 1069, 'num_leaves': 545, 'max_depth': 46, 'learning_rate': 0.007509797119626296, 'subsample': 0.9588870612564717, 'colsample_bytree': 0.8572878916988453, 'reg_alpha': 0.0001799973901160094, 'reg_lambda': 0.0037040785712895334, 'min_data_in_leaf': 70, 'feature_fraction': 0.8370668075331726, 'bagging_fraction': 0.720916587211498, 'bagging_freq': 3, 'min_child_weight': 0.5088641679920515, 'cat_smooth': 32.59404363006922}. Best is trial 1 with value: 72636.77451329395.\n"
     ]
    },
    {
     "name": "stdout",
     "output_type": "stream",
     "text": [
      "Training until validation scores don't improve for 50 rounds\n",
      "Early stopping, best iteration is:\n",
      "[84]\tvalid_0's l2: 5.33258e+09\n",
      "Training until validation scores don't improve for 50 rounds\n",
      "Early stopping, best iteration is:\n",
      "[66]\tvalid_0's l2: 5.29014e+09\n",
      "Training until validation scores don't improve for 50 rounds\n",
      "Early stopping, best iteration is:\n",
      "[80]\tvalid_0's l2: 5.27687e+09\n",
      "Training until validation scores don't improve for 50 rounds\n",
      "Early stopping, best iteration is:\n",
      "[64]\tvalid_0's l2: 5.28235e+09\n",
      "Training until validation scores don't improve for 50 rounds\n"
     ]
    },
    {
     "name": "stderr",
     "output_type": "stream",
     "text": [
      "[I 2024-09-23 15:38:28,241] Trial 2 finished with value: 72754.62827017115 and parameters: {'n_estimators': 955, 'num_leaves': 541, 'max_depth': 51, 'learning_rate': 0.036723279424594156, 'subsample': 0.9543244404043341, 'colsample_bytree': 0.6596180444942726, 'reg_alpha': 3.4894428963481334e-07, 'reg_lambda': 0.015951452190168802, 'min_data_in_leaf': 49, 'feature_fraction': 0.9143406631538383, 'bagging_fraction': 0.5234481596946249, 'bagging_freq': 4, 'min_child_weight': 0.1929820588974466, 'cat_smooth': 65.96096423779524}. Best is trial 1 with value: 72636.77451329395.\n"
     ]
    },
    {
     "name": "stdout",
     "output_type": "stream",
     "text": [
      "Early stopping, best iteration is:\n",
      "[58]\tvalid_0's l2: 5.28425e+09\n",
      "Training until validation scores don't improve for 50 rounds\n",
      "Early stopping, best iteration is:\n",
      "[12]\tvalid_0's l2: 5.35298e+09\n",
      "Training until validation scores don't improve for 50 rounds\n",
      "Early stopping, best iteration is:\n",
      "[13]\tvalid_0's l2: 5.33499e+09\n",
      "Training until validation scores don't improve for 50 rounds\n",
      "Early stopping, best iteration is:\n",
      "[14]\tvalid_0's l2: 5.27631e+09\n",
      "Training until validation scores don't improve for 50 rounds\n",
      "Early stopping, best iteration is:\n",
      "[17]\tvalid_0's l2: 5.30687e+09\n",
      "Training until validation scores don't improve for 50 rounds\n"
     ]
    },
    {
     "name": "stderr",
     "output_type": "stream",
     "text": [
      "[I 2024-09-23 15:38:45,439] Trial 3 finished with value: 72913.81128023755 and parameters: {'n_estimators': 639, 'num_leaves': 643, 'max_depth': 27, 'learning_rate': 0.18362976337563003, 'subsample': 0.6479808534398394, 'colsample_bytree': 0.9419682397805931, 'reg_alpha': 8.97573097030888e-06, 'reg_lambda': 0.004571551229239351, 'min_data_in_leaf': 71, 'feature_fraction': 0.5467301872793251, 'bagging_fraction': 0.9105528289184642, 'bagging_freq': 1, 'min_child_weight': 0.020169108029984395, 'cat_smooth': 87.9550363117174}. Best is trial 1 with value: 72636.77451329395.\n"
     ]
    },
    {
     "name": "stdout",
     "output_type": "stream",
     "text": [
      "Early stopping, best iteration is:\n",
      "[10]\tvalid_0's l2: 5.31096e+09\n",
      "Training until validation scores don't improve for 50 rounds\n",
      "Early stopping, best iteration is:\n",
      "[458]\tvalid_0's l2: 5.30737e+09\n",
      "Training until validation scores don't improve for 50 rounds\n",
      "Early stopping, best iteration is:\n",
      "[502]\tvalid_0's l2: 5.27619e+09\n",
      "Training until validation scores don't improve for 50 rounds\n",
      "Early stopping, best iteration is:\n",
      "[492]\tvalid_0's l2: 5.25769e+09\n",
      "Training until validation scores don't improve for 50 rounds\n",
      "Early stopping, best iteration is:\n",
      "[478]\tvalid_0's l2: 5.2617e+09\n",
      "Training until validation scores don't improve for 50 rounds\n",
      "Early stopping, best iteration is:\n",
      "[436]\tvalid_0's l2: 5.27066e+09\n"
     ]
    },
    {
     "name": "stderr",
     "output_type": "stream",
     "text": [
      "[I 2024-09-23 15:41:20,141] Trial 4 finished with value: 72627.29382540233 and parameters: {'n_estimators': 1192, 'num_leaves': 482, 'max_depth': 52, 'learning_rate': 0.005677045861147304, 'subsample': 0.7986858241154422, 'colsample_bytree': 0.9514158801658137, 'reg_alpha': 0.00016119356219527467, 'reg_lambda': 0.2295120287772858, 'min_data_in_leaf': 43, 'feature_fraction': 0.6785908793172681, 'bagging_fraction': 0.5398065450779821, 'bagging_freq': 2, 'min_child_weight': 0.009645302925851532, 'cat_smooth': 59.405997991322664}. Best is trial 4 with value: 72627.29382540233.\n"
     ]
    },
    {
     "name": "stdout",
     "output_type": "stream",
     "text": [
      "Training until validation scores don't improve for 50 rounds\n",
      "Early stopping, best iteration is:\n",
      "[30]\tvalid_0's l2: 5.31484e+09\n",
      "Training until validation scores don't improve for 50 rounds\n",
      "Early stopping, best iteration is:\n",
      "[33]\tvalid_0's l2: 5.30005e+09\n",
      "Training until validation scores don't improve for 50 rounds\n",
      "Early stopping, best iteration is:\n",
      "[43]\tvalid_0's l2: 5.27943e+09\n",
      "Training until validation scores don't improve for 50 rounds\n",
      "Early stopping, best iteration is:\n",
      "[32]\tvalid_0's l2: 5.28042e+09\n",
      "Training until validation scores don't improve for 50 rounds\n"
     ]
    },
    {
     "name": "stderr",
     "output_type": "stream",
     "text": [
      "[I 2024-09-23 15:41:39,829] Trial 5 finished with value: 72721.22742488493 and parameters: {'n_estimators': 528, 'num_leaves': 472, 'max_depth': 26, 'learning_rate': 0.08118455774682055, 'subsample': 0.6731735750400165, 'colsample_bytree': 0.5215486781024972, 'reg_alpha': 0.01903229002492754, 'reg_lambda': 1.1296979705718802, 'min_data_in_leaf': 111, 'feature_fraction': 0.7087545719196335, 'bagging_fraction': 0.8027887821968784, 'bagging_freq': 3, 'min_child_weight': 0.38638467047838265, 'cat_smooth': 18.290082361212804}. Best is trial 4 with value: 72627.29382540233.\n"
     ]
    },
    {
     "name": "stdout",
     "output_type": "stream",
     "text": [
      "Early stopping, best iteration is:\n",
      "[29]\tvalid_0's l2: 5.26714e+09\n",
      "Training until validation scores don't improve for 50 rounds\n",
      "Early stopping, best iteration is:\n",
      "[414]\tvalid_0's l2: 5.31536e+09\n",
      "Training until validation scores don't improve for 50 rounds\n",
      "Early stopping, best iteration is:\n",
      "[531]\tvalid_0's l2: 5.28324e+09\n",
      "Training until validation scores don't improve for 50 rounds\n",
      "Early stopping, best iteration is:\n",
      "[504]\tvalid_0's l2: 5.2632e+09\n",
      "Training until validation scores don't improve for 50 rounds\n",
      "Early stopping, best iteration is:\n",
      "[564]\tvalid_0's l2: 5.25504e+09\n",
      "Training until validation scores don't improve for 50 rounds\n",
      "Early stopping, best iteration is:\n",
      "[456]\tvalid_0's l2: 5.26877e+09\n"
     ]
    },
    {
     "name": "stderr",
     "output_type": "stream",
     "text": [
      "[I 2024-09-23 15:43:03,754] Trial 6 finished with value: 72643.80837178786 and parameters: {'n_estimators': 710, 'num_leaves': 310, 'max_depth': 25, 'learning_rate': 0.005323872255879759, 'subsample': 0.778789094331322, 'colsample_bytree': 0.7827535099440838, 'reg_alpha': 7.092404300854912e-05, 'reg_lambda': 0.01483173321964085, 'min_data_in_leaf': 45, 'feature_fraction': 0.9894095728788213, 'bagging_fraction': 0.6698539218189319, 'bagging_freq': 3, 'min_child_weight': 72.85919281852098, 'cat_smooth': 27.591405563189507}. Best is trial 4 with value: 72627.29382540233.\n"
     ]
    },
    {
     "name": "stdout",
     "output_type": "stream",
     "text": [
      "Training until validation scores don't improve for 50 rounds\n",
      "Early stopping, best iteration is:\n",
      "[6]\tvalid_0's l2: 5.39704e+09\n",
      "Training until validation scores don't improve for 50 rounds\n",
      "Early stopping, best iteration is:\n",
      "[6]\tvalid_0's l2: 5.37399e+09\n",
      "Training until validation scores don't improve for 50 rounds\n",
      "Early stopping, best iteration is:\n",
      "[7]\tvalid_0's l2: 5.33605e+09\n",
      "Training until validation scores don't improve for 50 rounds\n",
      "Early stopping, best iteration is:\n",
      "[6]\tvalid_0's l2: 5.32729e+09\n",
      "Training until validation scores don't improve for 50 rounds\n"
     ]
    },
    {
     "name": "stderr",
     "output_type": "stream",
     "text": [
      "[I 2024-09-23 15:43:17,926] Trial 7 finished with value: 73182.87664428531 and parameters: {'n_estimators': 723, 'num_leaves': 508, 'max_depth': 39, 'learning_rate': 0.3645870608221405, 'subsample': 0.534048636768975, 'colsample_bytree': 0.7322654038896663, 'reg_alpha': 0.004916937769207978, 'reg_lambda': 0.7488782916686476, 'min_data_in_leaf': 87, 'feature_fraction': 0.5185472066172039, 'bagging_fraction': 0.6753281956415664, 'bagging_freq': 3, 'min_child_weight': 0.006286070313385454, 'cat_smooth': 32.53375211168362}. Best is trial 4 with value: 72627.29382540233.\n"
     ]
    },
    {
     "name": "stdout",
     "output_type": "stream",
     "text": [
      "Early stopping, best iteration is:\n",
      "[4]\tvalid_0's l2: 5.34429e+09\n",
      "Training until validation scores don't improve for 50 rounds\n",
      "Early stopping, best iteration is:\n",
      "[267]\tvalid_0's l2: 5.30075e+09\n",
      "Training until validation scores don't improve for 50 rounds\n",
      "Early stopping, best iteration is:\n",
      "[285]\tvalid_0's l2: 5.27476e+09\n",
      "Training until validation scores don't improve for 50 rounds\n",
      "Early stopping, best iteration is:\n",
      "[287]\tvalid_0's l2: 5.25543e+09\n",
      "Training until validation scores don't improve for 50 rounds\n",
      "Early stopping, best iteration is:\n",
      "[320]\tvalid_0's l2: 5.26253e+09\n",
      "Training until validation scores don't improve for 50 rounds\n",
      "Early stopping, best iteration is:\n",
      "[228]\tvalid_0's l2: 5.26576e+09\n"
     ]
    },
    {
     "name": "stderr",
     "output_type": "stream",
     "text": [
      "[I 2024-09-23 15:44:03,488] Trial 8 finished with value: 72607.4707175976 and parameters: {'n_estimators': 972, 'num_leaves': 363, 'max_depth': 12, 'learning_rate': 0.010314487673603769, 'subsample': 0.5540318863897262, 'colsample_bytree': 0.5894514042855452, 'reg_alpha': 0.02065202190439409, 'reg_lambda': 0.02893742513973448, 'min_data_in_leaf': 57, 'feature_fraction': 0.8762480851093014, 'bagging_fraction': 0.5534397921967846, 'bagging_freq': 4, 'min_child_weight': 0.06587365495478886, 'cat_smooth': 39.651139374964735}. Best is trial 8 with value: 72607.4707175976.\n"
     ]
    },
    {
     "name": "stdout",
     "output_type": "stream",
     "text": [
      "Training until validation scores don't improve for 50 rounds\n",
      "Did not meet early stopping. Best iteration is:\n",
      "[603]\tvalid_0's l2: 5.47684e+09\n",
      "Training until validation scores don't improve for 50 rounds\n",
      "Did not meet early stopping. Best iteration is:\n",
      "[603]\tvalid_0's l2: 5.45397e+09\n",
      "Training until validation scores don't improve for 50 rounds\n",
      "Did not meet early stopping. Best iteration is:\n",
      "[603]\tvalid_0's l2: 5.41673e+09\n",
      "Training until validation scores don't improve for 50 rounds\n",
      "Did not meet early stopping. Best iteration is:\n",
      "[603]\tvalid_0's l2: 5.44646e+09\n",
      "Training until validation scores don't improve for 50 rounds\n",
      "Did not meet early stopping. Best iteration is:\n",
      "[603]\tvalid_0's l2: 5.42175e+09\n"
     ]
    },
    {
     "name": "stderr",
     "output_type": "stream",
     "text": [
      "[I 2024-09-23 15:45:50,625] Trial 9 finished with value: 73777.68457014121 and parameters: {'n_estimators': 603, 'num_leaves': 373, 'max_depth': 42, 'learning_rate': 0.0013992136034385533, 'subsample': 0.6243062539013847, 'colsample_bytree': 0.7712042581140022, 'reg_alpha': 2.294246403767406e-06, 'reg_lambda': 0.03354641687863073, 'min_data_in_leaf': 114, 'feature_fraction': 0.9626784364338884, 'bagging_fraction': 0.7833749622874999, 'bagging_freq': 3, 'min_child_weight': 0.00012278919376690123, 'cat_smooth': 95.03843220828843}. Best is trial 8 with value: 72607.4707175976.\n",
      "c:\\Users\\lerch\\miniconda3\\envs\\cars\\Lib\\site-packages\\lightgbm\\engine.py:204: UserWarning: Found `n_estimators` in params. Will use it instead of argument\n",
      "  _log_warning(f\"Found `{alias}` in params. Will use it instead of argument\")\n"
     ]
    },
    {
     "name": "stdout",
     "output_type": "stream",
     "text": [
      "Training until validation scores don't improve for 50 rounds\n",
      "Early stopping, best iteration is:\n",
      "[232]\tvalid_0's l2: 5.31119e+09\n"
     ]
    },
    {
     "name": "stderr",
     "output_type": "stream",
     "text": [
      "c:\\Users\\lerch\\miniconda3\\envs\\cars\\Lib\\site-packages\\lightgbm\\engine.py:204: UserWarning: Found `n_estimators` in params. Will use it instead of argument\n",
      "  _log_warning(f\"Found `{alias}` in params. Will use it instead of argument\")\n"
     ]
    },
    {
     "name": "stdout",
     "output_type": "stream",
     "text": [
      "Training until validation scores don't improve for 50 rounds\n",
      "Early stopping, best iteration is:\n",
      "[263]\tvalid_0's l2: 5.28644e+09\n"
     ]
    },
    {
     "name": "stderr",
     "output_type": "stream",
     "text": [
      "c:\\Users\\lerch\\miniconda3\\envs\\cars\\Lib\\site-packages\\lightgbm\\engine.py:204: UserWarning: Found `n_estimators` in params. Will use it instead of argument\n",
      "  _log_warning(f\"Found `{alias}` in params. Will use it instead of argument\")\n"
     ]
    },
    {
     "name": "stdout",
     "output_type": "stream",
     "text": [
      "Training until validation scores don't improve for 50 rounds\n",
      "Early stopping, best iteration is:\n",
      "[270]\tvalid_0's l2: 5.26118e+09\n"
     ]
    },
    {
     "name": "stderr",
     "output_type": "stream",
     "text": [
      "c:\\Users\\lerch\\miniconda3\\envs\\cars\\Lib\\site-packages\\lightgbm\\engine.py:204: UserWarning: Found `n_estimators` in params. Will use it instead of argument\n",
      "  _log_warning(f\"Found `{alias}` in params. Will use it instead of argument\")\n"
     ]
    },
    {
     "name": "stdout",
     "output_type": "stream",
     "text": [
      "Training until validation scores don't improve for 50 rounds\n",
      "Early stopping, best iteration is:\n",
      "[300]\tvalid_0's l2: 5.25722e+09\n"
     ]
    },
    {
     "name": "stderr",
     "output_type": "stream",
     "text": [
      "c:\\Users\\lerch\\miniconda3\\envs\\cars\\Lib\\site-packages\\lightgbm\\engine.py:204: UserWarning: Found `n_estimators` in params. Will use it instead of argument\n",
      "  _log_warning(f\"Found `{alias}` in params. Will use it instead of argument\")\n"
     ]
    },
    {
     "name": "stdout",
     "output_type": "stream",
     "text": [
      "Training until validation scores don't improve for 50 rounds\n",
      "Early stopping, best iteration is:\n",
      "[276]\tvalid_0's l2: 5.26638e+09\n"
     ]
    },
    {
     "name": "stderr",
     "output_type": "stream",
     "text": [
      "[I 2024-09-23 15:46:36,340] A new study created in memory with name: no-name-4e36c09a-78b7-40bc-a84c-9504db220ab0\n"
     ]
    },
    {
     "name": "stdout",
     "output_type": "stream",
     "text": [
      "Training until validation scores don't improve for 50 rounds\n",
      "Early stopping, best iteration is:\n",
      "[13]\tvalid_0's l2: 5.35994e+09\n",
      "Training until validation scores don't improve for 50 rounds\n",
      "Early stopping, best iteration is:\n",
      "[15]\tvalid_0's l2: 5.31971e+09\n",
      "Training until validation scores don't improve for 50 rounds\n",
      "Early stopping, best iteration is:\n",
      "[18]\tvalid_0's l2: 5.28189e+09\n",
      "Training until validation scores don't improve for 50 rounds\n",
      "Early stopping, best iteration is:\n",
      "[15]\tvalid_0's l2: 5.30971e+09\n",
      "Training until validation scores don't improve for 50 rounds\n"
     ]
    },
    {
     "name": "stderr",
     "output_type": "stream",
     "text": [
      "[I 2024-09-23 15:46:49,351] Trial 0 finished with value: 72887.65018199573 and parameters: {'n_estimators': 1040, 'num_leaves': 308, 'max_depth': 42, 'learning_rate': 0.17636469336159113, 'subsample': 0.7492535061512953, 'colsample_bytree': 0.6123983227654238, 'reg_alpha': 1.54304001490974e-06, 'reg_lambda': 1.1018509458263566, 'min_data_in_leaf': 53, 'feature_fraction': 0.5441699070870052, 'bagging_fraction': 0.8426799091838986, 'bagging_freq': 5, 'min_child_weight': 0.00010560624429728648, 'cat_smooth': 32.52312463051321}. Best is trial 0 with value: 72887.65018199573.\n"
     ]
    },
    {
     "name": "stdout",
     "output_type": "stream",
     "text": [
      "Early stopping, best iteration is:\n",
      "[12]\tvalid_0's l2: 5.2918e+09\n",
      "Training until validation scores don't improve for 50 rounds\n",
      "Early stopping, best iteration is:\n",
      "[337]\tvalid_0's l2: 5.32146e+09\n",
      "Training until validation scores don't improve for 50 rounds\n",
      "Early stopping, best iteration is:\n",
      "[362]\tvalid_0's l2: 5.2739e+09\n",
      "Training until validation scores don't improve for 50 rounds\n",
      "Early stopping, best iteration is:\n",
      "[318]\tvalid_0's l2: 5.2584e+09\n",
      "Training until validation scores don't improve for 50 rounds\n",
      "Early stopping, best iteration is:\n",
      "[365]\tvalid_0's l2: 5.25153e+09\n",
      "Training until validation scores don't improve for 50 rounds\n",
      "Early stopping, best iteration is:\n",
      "[333]\tvalid_0's l2: 5.23779e+09\n"
     ]
    },
    {
     "name": "stderr",
     "output_type": "stream",
     "text": [
      "[I 2024-09-23 15:48:51,540] Trial 1 finished with value: 72585.2343489305 and parameters: {'n_estimators': 1069, 'num_leaves': 545, 'max_depth': 46, 'learning_rate': 0.007509797119626296, 'subsample': 0.9588870612564717, 'colsample_bytree': 0.8572878916988453, 'reg_alpha': 0.0001799973901160094, 'reg_lambda': 0.0037040785712895334, 'min_data_in_leaf': 70, 'feature_fraction': 0.8370668075331726, 'bagging_fraction': 0.720916587211498, 'bagging_freq': 3, 'min_child_weight': 0.5088641679920515, 'cat_smooth': 32.59404363006922}. Best is trial 1 with value: 72585.2343489305.\n"
     ]
    },
    {
     "name": "stdout",
     "output_type": "stream",
     "text": [
      "Training until validation scores don't improve for 50 rounds\n",
      "Early stopping, best iteration is:\n",
      "[59]\tvalid_0's l2: 5.33047e+09\n",
      "Training until validation scores don't improve for 50 rounds\n",
      "Early stopping, best iteration is:\n",
      "[73]\tvalid_0's l2: 5.29361e+09\n",
      "Training until validation scores don't improve for 50 rounds\n",
      "Early stopping, best iteration is:\n",
      "[64]\tvalid_0's l2: 5.26155e+09\n",
      "Training until validation scores don't improve for 50 rounds\n",
      "Early stopping, best iteration is:\n",
      "[72]\tvalid_0's l2: 5.26954e+09\n",
      "Training until validation scores don't improve for 50 rounds\n"
     ]
    },
    {
     "name": "stderr",
     "output_type": "stream",
     "text": [
      "[I 2024-09-23 15:49:24,376] Trial 2 finished with value: 72653.5374360488 and parameters: {'n_estimators': 955, 'num_leaves': 541, 'max_depth': 51, 'learning_rate': 0.036723279424594156, 'subsample': 0.9543244404043341, 'colsample_bytree': 0.6596180444942726, 'reg_alpha': 3.4894428963481334e-07, 'reg_lambda': 0.015951452190168802, 'min_data_in_leaf': 49, 'feature_fraction': 0.9143406631538383, 'bagging_fraction': 0.5234481596946249, 'bagging_freq': 4, 'min_child_weight': 0.1929820588974466, 'cat_smooth': 65.96096423779524}. Best is trial 1 with value: 72585.2343489305.\n"
     ]
    },
    {
     "name": "stdout",
     "output_type": "stream",
     "text": [
      "Early stopping, best iteration is:\n",
      "[80]\tvalid_0's l2: 5.2375e+09\n",
      "Training until validation scores don't improve for 50 rounds\n",
      "Early stopping, best iteration is:\n",
      "[11]\tvalid_0's l2: 5.34187e+09\n",
      "Training until validation scores don't improve for 50 rounds\n",
      "Early stopping, best iteration is:\n",
      "[11]\tvalid_0's l2: 5.34084e+09\n",
      "Training until validation scores don't improve for 50 rounds\n",
      "Early stopping, best iteration is:\n",
      "[11]\tvalid_0's l2: 5.30357e+09\n",
      "Training until validation scores don't improve for 50 rounds\n",
      "Early stopping, best iteration is:\n",
      "[14]\tvalid_0's l2: 5.29871e+09\n",
      "Training until validation scores don't improve for 50 rounds\n"
     ]
    },
    {
     "name": "stderr",
     "output_type": "stream",
     "text": [
      "[I 2024-09-23 15:49:42,256] Trial 3 finished with value: 72938.52360639995 and parameters: {'n_estimators': 639, 'num_leaves': 643, 'max_depth': 27, 'learning_rate': 0.18362976337563003, 'subsample': 0.6479808534398394, 'colsample_bytree': 0.9419682397805931, 'reg_alpha': 8.97573097030888e-06, 'reg_lambda': 0.004571551229239351, 'min_data_in_leaf': 71, 'feature_fraction': 0.5467301872793251, 'bagging_fraction': 0.9105528289184642, 'bagging_freq': 1, 'min_child_weight': 0.020169108029984395, 'cat_smooth': 87.9550363117174}. Best is trial 1 with value: 72585.2343489305.\n"
     ]
    },
    {
     "name": "stdout",
     "output_type": "stream",
     "text": [
      "Early stopping, best iteration is:\n",
      "[11]\tvalid_0's l2: 5.31514e+09\n",
      "Training until validation scores don't improve for 50 rounds\n",
      "Early stopping, best iteration is:\n",
      "[402]\tvalid_0's l2: 5.31124e+09\n",
      "Training until validation scores don't improve for 50 rounds\n",
      "Early stopping, best iteration is:\n",
      "[557]\tvalid_0's l2: 5.272e+09\n",
      "Training until validation scores don't improve for 50 rounds\n",
      "Early stopping, best iteration is:\n",
      "[488]\tvalid_0's l2: 5.25503e+09\n",
      "Training until validation scores don't improve for 50 rounds\n",
      "Early stopping, best iteration is:\n",
      "[553]\tvalid_0's l2: 5.25877e+09\n",
      "Training until validation scores don't improve for 50 rounds\n",
      "Early stopping, best iteration is:\n",
      "[494]\tvalid_0's l2: 5.24066e+09\n"
     ]
    },
    {
     "name": "stderr",
     "output_type": "stream",
     "text": [
      "[I 2024-09-23 15:52:26,213] Trial 4 finished with value: 72577.82822557686 and parameters: {'n_estimators': 1192, 'num_leaves': 482, 'max_depth': 52, 'learning_rate': 0.005677045861147304, 'subsample': 0.7986858241154422, 'colsample_bytree': 0.9514158801658137, 'reg_alpha': 0.00016119356219527467, 'reg_lambda': 0.2295120287772858, 'min_data_in_leaf': 43, 'feature_fraction': 0.6785908793172681, 'bagging_fraction': 0.5398065450779821, 'bagging_freq': 2, 'min_child_weight': 0.009645302925851532, 'cat_smooth': 59.405997991322664}. Best is trial 4 with value: 72577.82822557686.\n"
     ]
    },
    {
     "name": "stdout",
     "output_type": "stream",
     "text": [
      "Training until validation scores don't improve for 50 rounds\n",
      "Early stopping, best iteration is:\n",
      "[29]\tvalid_0's l2: 5.331e+09\n",
      "Training until validation scores don't improve for 50 rounds\n",
      "Early stopping, best iteration is:\n",
      "[37]\tvalid_0's l2: 5.29117e+09\n",
      "Training until validation scores don't improve for 50 rounds\n",
      "Early stopping, best iteration is:\n",
      "[38]\tvalid_0's l2: 5.26841e+09\n",
      "Training until validation scores don't improve for 50 rounds\n",
      "Early stopping, best iteration is:\n",
      "[35]\tvalid_0's l2: 5.25575e+09\n",
      "Training until validation scores don't improve for 50 rounds\n"
     ]
    },
    {
     "name": "stderr",
     "output_type": "stream",
     "text": [
      "[I 2024-09-23 15:52:47,886] Trial 5 finished with value: 72642.83973311048 and parameters: {'n_estimators': 528, 'num_leaves': 472, 'max_depth': 26, 'learning_rate': 0.08118455774682055, 'subsample': 0.6731735750400165, 'colsample_bytree': 0.5215486781024972, 'reg_alpha': 0.01903229002492754, 'reg_lambda': 1.1296979705718802, 'min_data_in_leaf': 111, 'feature_fraction': 0.7087545719196335, 'bagging_fraction': 0.8027887821968784, 'bagging_freq': 3, 'min_child_weight': 0.38638467047838265, 'cat_smooth': 18.290082361212804}. Best is trial 4 with value: 72577.82822557686.\n"
     ]
    },
    {
     "name": "stdout",
     "output_type": "stream",
     "text": [
      "Early stopping, best iteration is:\n",
      "[36]\tvalid_0's l2: 5.23858e+09\n",
      "Training until validation scores don't improve for 50 rounds\n",
      "Early stopping, best iteration is:\n",
      "[423]\tvalid_0's l2: 5.33144e+09\n",
      "Training until validation scores don't improve for 50 rounds\n",
      "Early stopping, best iteration is:\n",
      "[513]\tvalid_0's l2: 5.27983e+09\n",
      "Training until validation scores don't improve for 50 rounds\n",
      "Early stopping, best iteration is:\n",
      "[540]\tvalid_0's l2: 5.25476e+09\n",
      "Training until validation scores don't improve for 50 rounds\n",
      "Did not meet early stopping. Best iteration is:\n",
      "[705]\tvalid_0's l2: 5.25103e+09\n",
      "Training until validation scores don't improve for 50 rounds\n",
      "Early stopping, best iteration is:\n",
      "[510]\tvalid_0's l2: 5.23476e+09\n"
     ]
    },
    {
     "name": "stderr",
     "output_type": "stream",
     "text": [
      "[I 2024-09-23 15:54:40,921] Trial 6 finished with value: 72597.27992734252 and parameters: {'n_estimators': 710, 'num_leaves': 310, 'max_depth': 25, 'learning_rate': 0.005323872255879759, 'subsample': 0.778789094331322, 'colsample_bytree': 0.7827535099440838, 'reg_alpha': 7.092404300854912e-05, 'reg_lambda': 0.01483173321964085, 'min_data_in_leaf': 45, 'feature_fraction': 0.9894095728788213, 'bagging_fraction': 0.6698539218189319, 'bagging_freq': 3, 'min_child_weight': 72.85919281852098, 'cat_smooth': 27.591405563189507}. Best is trial 4 with value: 72577.82822557686.\n"
     ]
    },
    {
     "name": "stdout",
     "output_type": "stream",
     "text": [
      "Training until validation scores don't improve for 50 rounds\n",
      "Early stopping, best iteration is:\n",
      "[4]\tvalid_0's l2: 5.38671e+09\n",
      "Training until validation scores don't improve for 50 rounds\n",
      "Early stopping, best iteration is:\n",
      "[6]\tvalid_0's l2: 5.36128e+09\n",
      "Training until validation scores don't improve for 50 rounds\n",
      "Early stopping, best iteration is:\n",
      "[5]\tvalid_0's l2: 5.3311e+09\n",
      "Training until validation scores don't improve for 50 rounds\n",
      "Early stopping, best iteration is:\n",
      "[5]\tvalid_0's l2: 5.33843e+09\n",
      "Training until validation scores don't improve for 50 rounds\n"
     ]
    },
    {
     "name": "stderr",
     "output_type": "stream",
     "text": [
      "[I 2024-09-23 15:54:55,867] Trial 7 finished with value: 73125.53701511718 and parameters: {'n_estimators': 723, 'num_leaves': 508, 'max_depth': 39, 'learning_rate': 0.3645870608221405, 'subsample': 0.534048636768975, 'colsample_bytree': 0.7322654038896663, 'reg_alpha': 0.004916937769207978, 'reg_lambda': 0.7488782916686476, 'min_data_in_leaf': 87, 'feature_fraction': 0.5185472066172039, 'bagging_fraction': 0.6753281956415664, 'bagging_freq': 3, 'min_child_weight': 0.006286070313385454, 'cat_smooth': 32.53375211168362}. Best is trial 4 with value: 72577.82822557686.\n"
     ]
    },
    {
     "name": "stdout",
     "output_type": "stream",
     "text": [
      "Early stopping, best iteration is:\n",
      "[6]\tvalid_0's l2: 5.31919e+09\n",
      "Training until validation scores don't improve for 50 rounds\n",
      "Early stopping, best iteration is:\n",
      "[256]\tvalid_0's l2: 5.30754e+09\n",
      "Training until validation scores don't improve for 50 rounds\n",
      "Early stopping, best iteration is:\n",
      "[314]\tvalid_0's l2: 5.27255e+09\n",
      "Training until validation scores don't improve for 50 rounds\n",
      "Early stopping, best iteration is:\n",
      "[289]\tvalid_0's l2: 5.25697e+09\n",
      "Training until validation scores don't improve for 50 rounds\n",
      "Early stopping, best iteration is:\n",
      "[316]\tvalid_0's l2: 5.24565e+09\n",
      "Training until validation scores don't improve for 50 rounds\n",
      "Early stopping, best iteration is:\n",
      "[272]\tvalid_0's l2: 5.2352e+09\n"
     ]
    },
    {
     "name": "stderr",
     "output_type": "stream",
     "text": [
      "[I 2024-09-23 15:55:46,276] Trial 8 finished with value: 72550.56644040068 and parameters: {'n_estimators': 972, 'num_leaves': 363, 'max_depth': 12, 'learning_rate': 0.010314487673603769, 'subsample': 0.5540318863897262, 'colsample_bytree': 0.5894514042855452, 'reg_alpha': 0.02065202190439409, 'reg_lambda': 0.02893742513973448, 'min_data_in_leaf': 57, 'feature_fraction': 0.8762480851093014, 'bagging_fraction': 0.5534397921967846, 'bagging_freq': 4, 'min_child_weight': 0.06587365495478886, 'cat_smooth': 39.651139374964735}. Best is trial 8 with value: 72550.56644040068.\n"
     ]
    },
    {
     "name": "stdout",
     "output_type": "stream",
     "text": [
      "Training until validation scores don't improve for 50 rounds\n",
      "Did not meet early stopping. Best iteration is:\n",
      "[603]\tvalid_0's l2: 5.48184e+09\n",
      "Training until validation scores don't improve for 50 rounds\n",
      "Did not meet early stopping. Best iteration is:\n",
      "[603]\tvalid_0's l2: 5.45657e+09\n",
      "Training until validation scores don't improve for 50 rounds\n",
      "Did not meet early stopping. Best iteration is:\n",
      "[603]\tvalid_0's l2: 5.42533e+09\n",
      "Training until validation scores don't improve for 50 rounds\n",
      "Did not meet early stopping. Best iteration is:\n",
      "[603]\tvalid_0's l2: 5.46202e+09\n",
      "Training until validation scores don't improve for 50 rounds\n",
      "Did not meet early stopping. Best iteration is:\n",
      "[603]\tvalid_0's l2: 5.41261e+09\n"
     ]
    },
    {
     "name": "stderr",
     "output_type": "stream",
     "text": [
      "[I 2024-09-23 15:58:05,516] Trial 9 finished with value: 73808.36128121869 and parameters: {'n_estimators': 603, 'num_leaves': 373, 'max_depth': 42, 'learning_rate': 0.0013992136034385533, 'subsample': 0.6243062539013847, 'colsample_bytree': 0.7712042581140022, 'reg_alpha': 2.294246403767406e-06, 'reg_lambda': 0.03354641687863073, 'min_data_in_leaf': 114, 'feature_fraction': 0.9626784364338884, 'bagging_fraction': 0.7833749622874999, 'bagging_freq': 3, 'min_child_weight': 0.00012278919376690123, 'cat_smooth': 95.03843220828843}. Best is trial 8 with value: 72550.56644040068.\n",
      "c:\\Users\\lerch\\miniconda3\\envs\\cars\\Lib\\site-packages\\lightgbm\\engine.py:204: UserWarning: Found `n_estimators` in params. Will use it instead of argument\n",
      "  _log_warning(f\"Found `{alias}` in params. Will use it instead of argument\")\n"
     ]
    },
    {
     "name": "stdout",
     "output_type": "stream",
     "text": [
      "Training until validation scores don't improve for 50 rounds\n",
      "Early stopping, best iteration is:\n",
      "[248]\tvalid_0's l2: 5.31392e+09\n"
     ]
    },
    {
     "name": "stderr",
     "output_type": "stream",
     "text": [
      "c:\\Users\\lerch\\miniconda3\\envs\\cars\\Lib\\site-packages\\lightgbm\\engine.py:204: UserWarning: Found `n_estimators` in params. Will use it instead of argument\n",
      "  _log_warning(f\"Found `{alias}` in params. Will use it instead of argument\")\n"
     ]
    },
    {
     "name": "stdout",
     "output_type": "stream",
     "text": [
      "Training until validation scores don't improve for 50 rounds\n",
      "Early stopping, best iteration is:\n",
      "[352]\tvalid_0's l2: 5.26884e+09\n"
     ]
    },
    {
     "name": "stderr",
     "output_type": "stream",
     "text": [
      "c:\\Users\\lerch\\miniconda3\\envs\\cars\\Lib\\site-packages\\lightgbm\\engine.py:204: UserWarning: Found `n_estimators` in params. Will use it instead of argument\n",
      "  _log_warning(f\"Found `{alias}` in params. Will use it instead of argument\")\n"
     ]
    },
    {
     "name": "stdout",
     "output_type": "stream",
     "text": [
      "Training until validation scores don't improve for 50 rounds\n",
      "Early stopping, best iteration is:\n",
      "[346]\tvalid_0's l2: 5.24144e+09\n"
     ]
    },
    {
     "name": "stderr",
     "output_type": "stream",
     "text": [
      "c:\\Users\\lerch\\miniconda3\\envs\\cars\\Lib\\site-packages\\lightgbm\\engine.py:204: UserWarning: Found `n_estimators` in params. Will use it instead of argument\n",
      "  _log_warning(f\"Found `{alias}` in params. Will use it instead of argument\")\n"
     ]
    },
    {
     "name": "stdout",
     "output_type": "stream",
     "text": [
      "Training until validation scores don't improve for 50 rounds\n",
      "Early stopping, best iteration is:\n",
      "[321]\tvalid_0's l2: 5.24682e+09\n"
     ]
    },
    {
     "name": "stderr",
     "output_type": "stream",
     "text": [
      "c:\\Users\\lerch\\miniconda3\\envs\\cars\\Lib\\site-packages\\lightgbm\\engine.py:204: UserWarning: Found `n_estimators` in params. Will use it instead of argument\n",
      "  _log_warning(f\"Found `{alias}` in params. Will use it instead of argument\")\n"
     ]
    },
    {
     "name": "stdout",
     "output_type": "stream",
     "text": [
      "Training until validation scores don't improve for 50 rounds\n",
      "Early stopping, best iteration is:\n",
      "[279]\tvalid_0's l2: 5.22915e+09\n"
     ]
    },
    {
     "name": "stderr",
     "output_type": "stream",
     "text": [
      "[I 2024-09-23 15:58:59,562] A new study created in memory with name: no-name-3fbf4558-b428-4ce2-909a-c7da24dd98c9\n"
     ]
    },
    {
     "name": "stdout",
     "output_type": "stream",
     "text": [
      "Training until validation scores don't improve for 50 rounds\n",
      "Early stopping, best iteration is:\n",
      "[14]\tvalid_0's l2: 5.33406e+09\n",
      "Training until validation scores don't improve for 50 rounds\n",
      "Early stopping, best iteration is:\n",
      "[13]\tvalid_0's l2: 5.33799e+09\n",
      "Training until validation scores don't improve for 50 rounds\n",
      "Early stopping, best iteration is:\n",
      "[10]\tvalid_0's l2: 5.33281e+09\n",
      "Training until validation scores don't improve for 50 rounds\n",
      "Early stopping, best iteration is:\n",
      "[12]\tvalid_0's l2: 5.323e+09\n",
      "Training until validation scores don't improve for 50 rounds\n"
     ]
    },
    {
     "name": "stderr",
     "output_type": "stream",
     "text": [
      "[I 2024-09-23 15:59:11,711] Trial 0 finished with value: 72965.65481436178 and parameters: {'n_estimators': 1040, 'num_leaves': 308, 'max_depth': 42, 'learning_rate': 0.17636469336159113, 'subsample': 0.7492535061512953, 'colsample_bytree': 0.6123983227654238, 'reg_alpha': 1.54304001490974e-06, 'reg_lambda': 1.1018509458263566, 'min_data_in_leaf': 53, 'feature_fraction': 0.5441699070870052, 'bagging_fraction': 0.8426799091838986, 'bagging_freq': 5, 'min_child_weight': 0.00010560624429728648, 'cat_smooth': 32.52312463051321}. Best is trial 0 with value: 72965.65481436178.\n"
     ]
    },
    {
     "name": "stdout",
     "output_type": "stream",
     "text": [
      "Early stopping, best iteration is:\n",
      "[13]\tvalid_0's l2: 5.29208e+09\n",
      "Training until validation scores don't improve for 50 rounds\n",
      "Early stopping, best iteration is:\n",
      "[320]\tvalid_0's l2: 5.30158e+09\n",
      "Training until validation scores don't improve for 50 rounds\n",
      "Early stopping, best iteration is:\n",
      "[344]\tvalid_0's l2: 5.27574e+09\n",
      "Training until validation scores don't improve for 50 rounds\n",
      "Early stopping, best iteration is:\n",
      "[319]\tvalid_0's l2: 5.26881e+09\n",
      "Training until validation scores don't improve for 50 rounds\n",
      "Early stopping, best iteration is:\n",
      "[352]\tvalid_0's l2: 5.27295e+09\n",
      "Training until validation scores don't improve for 50 rounds\n",
      "Early stopping, best iteration is:\n",
      "[332]\tvalid_0's l2: 5.26169e+09\n"
     ]
    },
    {
     "name": "stderr",
     "output_type": "stream",
     "text": [
      "[I 2024-09-23 16:01:08,613] Trial 1 finished with value: 72637.14038996084 and parameters: {'n_estimators': 1069, 'num_leaves': 545, 'max_depth': 46, 'learning_rate': 0.007509797119626296, 'subsample': 0.9588870612564717, 'colsample_bytree': 0.8572878916988453, 'reg_alpha': 0.0001799973901160094, 'reg_lambda': 0.0037040785712895334, 'min_data_in_leaf': 70, 'feature_fraction': 0.8370668075331726, 'bagging_fraction': 0.720916587211498, 'bagging_freq': 3, 'min_child_weight': 0.5088641679920515, 'cat_smooth': 32.59404363006922}. Best is trial 1 with value: 72637.14038996084.\n"
     ]
    },
    {
     "name": "stdout",
     "output_type": "stream",
     "text": [
      "Training until validation scores don't improve for 50 rounds\n",
      "Early stopping, best iteration is:\n",
      "[62]\tvalid_0's l2: 5.31648e+09\n",
      "Training until validation scores don't improve for 50 rounds\n",
      "Early stopping, best iteration is:\n",
      "[75]\tvalid_0's l2: 5.26506e+09\n",
      "Training until validation scores don't improve for 50 rounds\n",
      "Early stopping, best iteration is:\n",
      "[59]\tvalid_0's l2: 5.28426e+09\n",
      "Training until validation scores don't improve for 50 rounds\n",
      "Early stopping, best iteration is:\n",
      "[64]\tvalid_0's l2: 5.28908e+09\n",
      "Training until validation scores don't improve for 50 rounds\n"
     ]
    },
    {
     "name": "stderr",
     "output_type": "stream",
     "text": [
      "[I 2024-09-23 16:01:42,789] Trial 2 finished with value: 72696.36187617733 and parameters: {'n_estimators': 955, 'num_leaves': 541, 'max_depth': 51, 'learning_rate': 0.036723279424594156, 'subsample': 0.9543244404043341, 'colsample_bytree': 0.6596180444942726, 'reg_alpha': 3.4894428963481334e-07, 'reg_lambda': 0.015951452190168802, 'min_data_in_leaf': 49, 'feature_fraction': 0.9143406631538383, 'bagging_fraction': 0.5234481596946249, 'bagging_freq': 4, 'min_child_weight': 0.1929820588974466, 'cat_smooth': 65.96096423779524}. Best is trial 1 with value: 72637.14038996084.\n"
     ]
    },
    {
     "name": "stdout",
     "output_type": "stream",
     "text": [
      "Early stopping, best iteration is:\n",
      "[58]\tvalid_0's l2: 5.26892e+09\n",
      "Training until validation scores don't improve for 50 rounds\n",
      "Early stopping, best iteration is:\n",
      "[10]\tvalid_0's l2: 5.36655e+09\n",
      "Training until validation scores don't improve for 50 rounds\n",
      "Early stopping, best iteration is:\n",
      "[13]\tvalid_0's l2: 5.32495e+09\n",
      "Training until validation scores don't improve for 50 rounds\n",
      "Early stopping, best iteration is:\n",
      "[11]\tvalid_0's l2: 5.31637e+09\n",
      "Training until validation scores don't improve for 50 rounds\n",
      "Early stopping, best iteration is:\n",
      "[13]\tvalid_0's l2: 5.3224e+09\n",
      "Training until validation scores don't improve for 50 rounds\n"
     ]
    },
    {
     "name": "stderr",
     "output_type": "stream",
     "text": [
      "[I 2024-09-23 16:02:00,490] Trial 3 finished with value: 72985.4471048927 and parameters: {'n_estimators': 639, 'num_leaves': 643, 'max_depth': 27, 'learning_rate': 0.18362976337563003, 'subsample': 0.6479808534398394, 'colsample_bytree': 0.9419682397805931, 'reg_alpha': 8.97573097030888e-06, 'reg_lambda': 0.004571551229239351, 'min_data_in_leaf': 71, 'feature_fraction': 0.5467301872793251, 'bagging_fraction': 0.9105528289184642, 'bagging_freq': 1, 'min_child_weight': 0.020169108029984395, 'cat_smooth': 87.9550363117174}. Best is trial 1 with value: 72637.14038996084.\n"
     ]
    },
    {
     "name": "stdout",
     "output_type": "stream",
     "text": [
      "Early stopping, best iteration is:\n",
      "[11]\tvalid_0's l2: 5.30411e+09\n",
      "Training until validation scores don't improve for 50 rounds\n",
      "Early stopping, best iteration is:\n",
      "[492]\tvalid_0's l2: 5.30038e+09\n",
      "Training until validation scores don't improve for 50 rounds\n",
      "Early stopping, best iteration is:\n",
      "[446]\tvalid_0's l2: 5.27791e+09\n",
      "Training until validation scores don't improve for 50 rounds\n",
      "Early stopping, best iteration is:\n",
      "[434]\tvalid_0's l2: 5.26883e+09\n",
      "Training until validation scores don't improve for 50 rounds\n",
      "Early stopping, best iteration is:\n",
      "[467]\tvalid_0's l2: 5.26997e+09\n",
      "Training until validation scores don't improve for 50 rounds\n",
      "Early stopping, best iteration is:\n",
      "[442]\tvalid_0's l2: 5.25222e+09\n"
     ]
    },
    {
     "name": "stderr",
     "output_type": "stream",
     "text": [
      "[I 2024-09-23 16:04:05,512] Trial 4 finished with value: 72621.35388181526 and parameters: {'n_estimators': 1192, 'num_leaves': 482, 'max_depth': 52, 'learning_rate': 0.005677045861147304, 'subsample': 0.7986858241154422, 'colsample_bytree': 0.9514158801658137, 'reg_alpha': 0.00016119356219527467, 'reg_lambda': 0.2295120287772858, 'min_data_in_leaf': 43, 'feature_fraction': 0.6785908793172681, 'bagging_fraction': 0.5398065450779821, 'bagging_freq': 2, 'min_child_weight': 0.009645302925851532, 'cat_smooth': 59.405997991322664}. Best is trial 4 with value: 72621.35388181526.\n"
     ]
    },
    {
     "name": "stdout",
     "output_type": "stream",
     "text": [
      "Training until validation scores don't improve for 50 rounds\n",
      "Early stopping, best iteration is:\n",
      "[32]\tvalid_0's l2: 5.30365e+09\n",
      "Training until validation scores don't improve for 50 rounds\n",
      "Early stopping, best iteration is:\n",
      "[36]\tvalid_0's l2: 5.28745e+09\n",
      "Training until validation scores don't improve for 50 rounds\n",
      "Early stopping, best iteration is:\n",
      "[29]\tvalid_0's l2: 5.27556e+09\n",
      "Training until validation scores don't improve for 50 rounds\n",
      "Early stopping, best iteration is:\n",
      "[32]\tvalid_0's l2: 5.28096e+09\n",
      "Training until validation scores don't improve for 50 rounds\n"
     ]
    },
    {
     "name": "stderr",
     "output_type": "stream",
     "text": [
      "[I 2024-09-23 16:04:25,844] Trial 5 finished with value: 72688.22496854476 and parameters: {'n_estimators': 528, 'num_leaves': 472, 'max_depth': 26, 'learning_rate': 0.08118455774682055, 'subsample': 0.6731735750400165, 'colsample_bytree': 0.5215486781024972, 'reg_alpha': 0.01903229002492754, 'reg_lambda': 1.1296979705718802, 'min_data_in_leaf': 111, 'feature_fraction': 0.7087545719196335, 'bagging_fraction': 0.8027887821968784, 'bagging_freq': 3, 'min_child_weight': 0.38638467047838265, 'cat_smooth': 18.290082361212804}. Best is trial 4 with value: 72621.35388181526.\n"
     ]
    },
    {
     "name": "stdout",
     "output_type": "stream",
     "text": [
      "Early stopping, best iteration is:\n",
      "[34]\tvalid_0's l2: 5.27027e+09\n",
      "Training until validation scores don't improve for 50 rounds\n",
      "Early stopping, best iteration is:\n",
      "[474]\tvalid_0's l2: 5.30148e+09\n",
      "Training until validation scores don't improve for 50 rounds\n",
      "Early stopping, best iteration is:\n",
      "[509]\tvalid_0's l2: 5.2808e+09\n",
      "Training until validation scores don't improve for 50 rounds\n",
      "Early stopping, best iteration is:\n",
      "[503]\tvalid_0's l2: 5.26453e+09\n",
      "Training until validation scores don't improve for 50 rounds\n",
      "Early stopping, best iteration is:\n",
      "[531]\tvalid_0's l2: 5.27084e+09\n",
      "Training until validation scores don't improve for 50 rounds\n",
      "Early stopping, best iteration is:\n",
      "[459]\tvalid_0's l2: 5.25425e+09\n"
     ]
    },
    {
     "name": "stderr",
     "output_type": "stream",
     "text": [
      "[I 2024-09-23 16:05:54,889] Trial 6 finished with value: 72624.92490336824 and parameters: {'n_estimators': 710, 'num_leaves': 310, 'max_depth': 25, 'learning_rate': 0.005323872255879759, 'subsample': 0.778789094331322, 'colsample_bytree': 0.7827535099440838, 'reg_alpha': 7.092404300854912e-05, 'reg_lambda': 0.01483173321964085, 'min_data_in_leaf': 45, 'feature_fraction': 0.9894095728788213, 'bagging_fraction': 0.6698539218189319, 'bagging_freq': 3, 'min_child_weight': 72.85919281852098, 'cat_smooth': 27.591405563189507}. Best is trial 4 with value: 72621.35388181526.\n"
     ]
    },
    {
     "name": "stdout",
     "output_type": "stream",
     "text": [
      "Training until validation scores don't improve for 50 rounds\n",
      "Early stopping, best iteration is:\n",
      "[5]\tvalid_0's l2: 5.36116e+09\n",
      "Training until validation scores don't improve for 50 rounds\n",
      "Early stopping, best iteration is:\n",
      "[5]\tvalid_0's l2: 5.36489e+09\n",
      "Training until validation scores don't improve for 50 rounds\n",
      "Early stopping, best iteration is:\n",
      "[5]\tvalid_0's l2: 5.35432e+09\n",
      "Training until validation scores don't improve for 50 rounds\n",
      "Early stopping, best iteration is:\n",
      "[5]\tvalid_0's l2: 5.35196e+09\n",
      "Training until validation scores don't improve for 50 rounds\n"
     ]
    },
    {
     "name": "stderr",
     "output_type": "stream",
     "text": [
      "[I 2024-09-23 16:06:12,095] Trial 7 finished with value: 73164.16392321282 and parameters: {'n_estimators': 723, 'num_leaves': 508, 'max_depth': 39, 'learning_rate': 0.3645870608221405, 'subsample': 0.534048636768975, 'colsample_bytree': 0.7322654038896663, 'reg_alpha': 0.004916937769207978, 'reg_lambda': 0.7488782916686476, 'min_data_in_leaf': 87, 'feature_fraction': 0.5185472066172039, 'bagging_fraction': 0.6753281956415664, 'bagging_freq': 3, 'min_child_weight': 0.006286070313385454, 'cat_smooth': 32.53375211168362}. Best is trial 4 with value: 72621.35388181526.\n"
     ]
    },
    {
     "name": "stdout",
     "output_type": "stream",
     "text": [
      "Early stopping, best iteration is:\n",
      "[5]\tvalid_0's l2: 5.33264e+09\n",
      "Training until validation scores don't improve for 50 rounds\n",
      "Early stopping, best iteration is:\n",
      "[271]\tvalid_0's l2: 5.28446e+09\n",
      "Training until validation scores don't improve for 50 rounds\n",
      "Early stopping, best iteration is:\n",
      "[314]\tvalid_0's l2: 5.26973e+09\n",
      "Training until validation scores don't improve for 50 rounds\n",
      "Early stopping, best iteration is:\n",
      "[264]\tvalid_0's l2: 5.26388e+09\n",
      "Training until validation scores don't improve for 50 rounds\n",
      "Early stopping, best iteration is:\n",
      "[317]\tvalid_0's l2: 5.26449e+09\n",
      "Training until validation scores don't improve for 50 rounds\n",
      "Early stopping, best iteration is:\n",
      "[276]\tvalid_0's l2: 5.25258e+09\n"
     ]
    },
    {
     "name": "stderr",
     "output_type": "stream",
     "text": [
      "[I 2024-09-23 16:06:59,383] Trial 8 finished with value: 72574.30934612422 and parameters: {'n_estimators': 972, 'num_leaves': 363, 'max_depth': 12, 'learning_rate': 0.010314487673603769, 'subsample': 0.5540318863897262, 'colsample_bytree': 0.5894514042855452, 'reg_alpha': 0.02065202190439409, 'reg_lambda': 0.02893742513973448, 'min_data_in_leaf': 57, 'feature_fraction': 0.8762480851093014, 'bagging_fraction': 0.5534397921967846, 'bagging_freq': 4, 'min_child_weight': 0.06587365495478886, 'cat_smooth': 39.651139374964735}. Best is trial 8 with value: 72574.30934612422.\n"
     ]
    },
    {
     "name": "stdout",
     "output_type": "stream",
     "text": [
      "Training until validation scores don't improve for 50 rounds\n",
      "Did not meet early stopping. Best iteration is:\n",
      "[603]\tvalid_0's l2: 5.46843e+09\n",
      "Training until validation scores don't improve for 50 rounds\n",
      "Did not meet early stopping. Best iteration is:\n",
      "[603]\tvalid_0's l2: 5.46128e+09\n",
      "Training until validation scores don't improve for 50 rounds\n",
      "Did not meet early stopping. Best iteration is:\n",
      "[603]\tvalid_0's l2: 5.42273e+09\n",
      "Training until validation scores don't improve for 50 rounds\n",
      "Did not meet early stopping. Best iteration is:\n",
      "[603]\tvalid_0's l2: 5.45607e+09\n",
      "Training until validation scores don't improve for 50 rounds\n",
      "Did not meet early stopping. Best iteration is:\n",
      "[603]\tvalid_0's l2: 5.41581e+09\n"
     ]
    },
    {
     "name": "stderr",
     "output_type": "stream",
     "text": [
      "[I 2024-09-23 16:08:53,330] Trial 9 finished with value: 73789.32656475532 and parameters: {'n_estimators': 603, 'num_leaves': 373, 'max_depth': 42, 'learning_rate': 0.0013992136034385533, 'subsample': 0.6243062539013847, 'colsample_bytree': 0.7712042581140022, 'reg_alpha': 2.294246403767406e-06, 'reg_lambda': 0.03354641687863073, 'min_data_in_leaf': 114, 'feature_fraction': 0.9626784364338884, 'bagging_fraction': 0.7833749622874999, 'bagging_freq': 3, 'min_child_weight': 0.00012278919376690123, 'cat_smooth': 95.03843220828843}. Best is trial 8 with value: 72574.30934612422.\n",
      "c:\\Users\\lerch\\miniconda3\\envs\\cars\\Lib\\site-packages\\lightgbm\\engine.py:204: UserWarning: Found `n_estimators` in params. Will use it instead of argument\n",
      "  _log_warning(f\"Found `{alias}` in params. Will use it instead of argument\")\n"
     ]
    },
    {
     "name": "stdout",
     "output_type": "stream",
     "text": [
      "Training until validation scores don't improve for 50 rounds\n",
      "Early stopping, best iteration is:\n",
      "[242]\tvalid_0's l2: 5.29471e+09\n"
     ]
    },
    {
     "name": "stderr",
     "output_type": "stream",
     "text": [
      "c:\\Users\\lerch\\miniconda3\\envs\\cars\\Lib\\site-packages\\lightgbm\\engine.py:204: UserWarning: Found `n_estimators` in params. Will use it instead of argument\n",
      "  _log_warning(f\"Found `{alias}` in params. Will use it instead of argument\")\n"
     ]
    },
    {
     "name": "stdout",
     "output_type": "stream",
     "text": [
      "Training until validation scores don't improve for 50 rounds\n",
      "Early stopping, best iteration is:\n",
      "[331]\tvalid_0's l2: 5.27759e+09\n"
     ]
    },
    {
     "name": "stderr",
     "output_type": "stream",
     "text": [
      "c:\\Users\\lerch\\miniconda3\\envs\\cars\\Lib\\site-packages\\lightgbm\\engine.py:204: UserWarning: Found `n_estimators` in params. Will use it instead of argument\n",
      "  _log_warning(f\"Found `{alias}` in params. Will use it instead of argument\")\n"
     ]
    },
    {
     "name": "stdout",
     "output_type": "stream",
     "text": [
      "Training until validation scores don't improve for 50 rounds\n",
      "Early stopping, best iteration is:\n",
      "[259]\tvalid_0's l2: 5.26134e+09\n"
     ]
    },
    {
     "name": "stderr",
     "output_type": "stream",
     "text": [
      "c:\\Users\\lerch\\miniconda3\\envs\\cars\\Lib\\site-packages\\lightgbm\\engine.py:204: UserWarning: Found `n_estimators` in params. Will use it instead of argument\n",
      "  _log_warning(f\"Found `{alias}` in params. Will use it instead of argument\")\n"
     ]
    },
    {
     "name": "stdout",
     "output_type": "stream",
     "text": [
      "Training until validation scores don't improve for 50 rounds\n",
      "Early stopping, best iteration is:\n",
      "[281]\tvalid_0's l2: 5.26496e+09\n"
     ]
    },
    {
     "name": "stderr",
     "output_type": "stream",
     "text": [
      "c:\\Users\\lerch\\miniconda3\\envs\\cars\\Lib\\site-packages\\lightgbm\\engine.py:204: UserWarning: Found `n_estimators` in params. Will use it instead of argument\n",
      "  _log_warning(f\"Found `{alias}` in params. Will use it instead of argument\")\n"
     ]
    },
    {
     "name": "stdout",
     "output_type": "stream",
     "text": [
      "Training until validation scores don't improve for 50 rounds\n",
      "Early stopping, best iteration is:\n",
      "[291]\tvalid_0's l2: 5.24885e+09\n"
     ]
    },
    {
     "name": "stderr",
     "output_type": "stream",
     "text": [
      "[I 2024-09-23 16:09:46,742] A new study created in memory with name: no-name-7f699b32-a218-448c-b06a-450afdb5fa48\n"
     ]
    },
    {
     "name": "stdout",
     "output_type": "stream",
     "text": [
      "Training until validation scores don't improve for 50 rounds\n",
      "Early stopping, best iteration is:\n",
      "[11]\tvalid_0's l2: 5.30799e+09\n",
      "Training until validation scores don't improve for 50 rounds\n",
      "Early stopping, best iteration is:\n",
      "[14]\tvalid_0's l2: 5.32197e+09\n",
      "Training until validation scores don't improve for 50 rounds\n",
      "Early stopping, best iteration is:\n",
      "[13]\tvalid_0's l2: 5.30624e+09\n",
      "Training until validation scores don't improve for 50 rounds\n",
      "Early stopping, best iteration is:\n",
      "[16]\tvalid_0's l2: 5.28371e+09\n",
      "Training until validation scores don't improve for 50 rounds\n"
     ]
    },
    {
     "name": "stderr",
     "output_type": "stream",
     "text": [
      "[I 2024-09-23 16:09:59,815] Trial 0 finished with value: 72805.24035807012 and parameters: {'n_estimators': 1040, 'num_leaves': 308, 'max_depth': 42, 'learning_rate': 0.17636469336159113, 'subsample': 0.7492535061512953, 'colsample_bytree': 0.6123983227654238, 'reg_alpha': 1.54304001490974e-06, 'reg_lambda': 1.1018509458263566, 'min_data_in_leaf': 53, 'feature_fraction': 0.5441699070870052, 'bagging_fraction': 0.8426799091838986, 'bagging_freq': 5, 'min_child_weight': 0.00010560624429728648, 'cat_smooth': 32.52312463051321}. Best is trial 0 with value: 72805.24035807012.\n"
     ]
    },
    {
     "name": "stdout",
     "output_type": "stream",
     "text": [
      "Early stopping, best iteration is:\n",
      "[10]\tvalid_0's l2: 5.2831e+09\n",
      "Training until validation scores don't improve for 50 rounds\n",
      "Early stopping, best iteration is:\n",
      "[337]\tvalid_0's l2: 5.29548e+09\n",
      "Training until validation scores don't improve for 50 rounds\n",
      "Early stopping, best iteration is:\n",
      "[345]\tvalid_0's l2: 5.28156e+09\n",
      "Training until validation scores don't improve for 50 rounds\n",
      "Early stopping, best iteration is:\n",
      "[410]\tvalid_0's l2: 5.24624e+09\n",
      "Training until validation scores don't improve for 50 rounds\n",
      "Early stopping, best iteration is:\n",
      "[409]\tvalid_0's l2: 5.24019e+09\n",
      "Training until validation scores don't improve for 50 rounds\n",
      "Early stopping, best iteration is:\n",
      "[391]\tvalid_0's l2: 5.24432e+09\n"
     ]
    },
    {
     "name": "stderr",
     "output_type": "stream",
     "text": [
      "[I 2024-09-23 16:12:04,520] Trial 1 finished with value: 72536.58386151031 and parameters: {'n_estimators': 1069, 'num_leaves': 545, 'max_depth': 46, 'learning_rate': 0.007509797119626296, 'subsample': 0.9588870612564717, 'colsample_bytree': 0.8572878916988453, 'reg_alpha': 0.0001799973901160094, 'reg_lambda': 0.0037040785712895334, 'min_data_in_leaf': 70, 'feature_fraction': 0.8370668075331726, 'bagging_fraction': 0.720916587211498, 'bagging_freq': 3, 'min_child_weight': 0.5088641679920515, 'cat_smooth': 32.59404363006922}. Best is trial 1 with value: 72536.58386151031.\n"
     ]
    },
    {
     "name": "stdout",
     "output_type": "stream",
     "text": [
      "Training until validation scores don't improve for 50 rounds\n",
      "Early stopping, best iteration is:\n",
      "[56]\tvalid_0's l2: 5.32067e+09\n",
      "Training until validation scores don't improve for 50 rounds\n",
      "Early stopping, best iteration is:\n",
      "[64]\tvalid_0's l2: 5.28676e+09\n",
      "Training until validation scores don't improve for 50 rounds\n",
      "Early stopping, best iteration is:\n",
      "[61]\tvalid_0's l2: 5.2653e+09\n",
      "Training until validation scores don't improve for 50 rounds\n",
      "Early stopping, best iteration is:\n",
      "[78]\tvalid_0's l2: 5.24957e+09\n",
      "Training until validation scores don't improve for 50 rounds\n"
     ]
    },
    {
     "name": "stderr",
     "output_type": "stream",
     "text": [
      "[I 2024-09-23 16:12:34,324] Trial 2 finished with value: 72637.97527229093 and parameters: {'n_estimators': 955, 'num_leaves': 541, 'max_depth': 51, 'learning_rate': 0.036723279424594156, 'subsample': 0.9543244404043341, 'colsample_bytree': 0.6596180444942726, 'reg_alpha': 3.4894428963481334e-07, 'reg_lambda': 0.015951452190168802, 'min_data_in_leaf': 49, 'feature_fraction': 0.9143406631538383, 'bagging_fraction': 0.5234481596946249, 'bagging_freq': 4, 'min_child_weight': 0.1929820588974466, 'cat_smooth': 65.96096423779524}. Best is trial 1 with value: 72536.58386151031.\n"
     ]
    },
    {
     "name": "stdout",
     "output_type": "stream",
     "text": [
      "Early stopping, best iteration is:\n",
      "[72]\tvalid_0's l2: 5.25908e+09\n",
      "Training until validation scores don't improve for 50 rounds\n",
      "Early stopping, best iteration is:\n",
      "[15]\tvalid_0's l2: 5.33551e+09\n",
      "Training until validation scores don't improve for 50 rounds\n",
      "Early stopping, best iteration is:\n",
      "[14]\tvalid_0's l2: 5.33003e+09\n",
      "Training until validation scores don't improve for 50 rounds\n",
      "Early stopping, best iteration is:\n",
      "[13]\tvalid_0's l2: 5.29913e+09\n",
      "Training until validation scores don't improve for 50 rounds\n",
      "Early stopping, best iteration is:\n",
      "[13]\tvalid_0's l2: 5.28962e+09\n",
      "Training until validation scores don't improve for 50 rounds\n"
     ]
    },
    {
     "name": "stderr",
     "output_type": "stream",
     "text": [
      "[I 2024-09-23 16:12:53,048] Trial 3 finished with value: 72860.27013247604 and parameters: {'n_estimators': 639, 'num_leaves': 643, 'max_depth': 27, 'learning_rate': 0.18362976337563003, 'subsample': 0.6479808534398394, 'colsample_bytree': 0.9419682397805931, 'reg_alpha': 8.97573097030888e-06, 'reg_lambda': 0.004571551229239351, 'min_data_in_leaf': 71, 'feature_fraction': 0.5467301872793251, 'bagging_fraction': 0.9105528289184642, 'bagging_freq': 1, 'min_child_weight': 0.020169108029984395, 'cat_smooth': 87.9550363117174}. Best is trial 1 with value: 72536.58386151031.\n"
     ]
    },
    {
     "name": "stdout",
     "output_type": "stream",
     "text": [
      "Early stopping, best iteration is:\n",
      "[13]\tvalid_0's l2: 5.2888e+09\n",
      "Training until validation scores don't improve for 50 rounds\n",
      "Early stopping, best iteration is:\n",
      "[467]\tvalid_0's l2: 5.29848e+09\n",
      "Training until validation scores don't improve for 50 rounds\n",
      "Early stopping, best iteration is:\n",
      "[468]\tvalid_0's l2: 5.27644e+09\n",
      "Training until validation scores don't improve for 50 rounds\n",
      "Early stopping, best iteration is:\n",
      "[514]\tvalid_0's l2: 5.24244e+09\n",
      "Training until validation scores don't improve for 50 rounds\n",
      "Early stopping, best iteration is:\n",
      "[532]\tvalid_0's l2: 5.24436e+09\n",
      "Training until validation scores don't improve for 50 rounds\n",
      "Early stopping, best iteration is:\n",
      "[445]\tvalid_0's l2: 5.23789e+09\n"
     ]
    },
    {
     "name": "stderr",
     "output_type": "stream",
     "text": [
      "[I 2024-09-23 16:15:19,699] Trial 4 finished with value: 72525.32775155052 and parameters: {'n_estimators': 1192, 'num_leaves': 482, 'max_depth': 52, 'learning_rate': 0.005677045861147304, 'subsample': 0.7986858241154422, 'colsample_bytree': 0.9514158801658137, 'reg_alpha': 0.00016119356219527467, 'reg_lambda': 0.2295120287772858, 'min_data_in_leaf': 43, 'feature_fraction': 0.6785908793172681, 'bagging_fraction': 0.5398065450779821, 'bagging_freq': 2, 'min_child_weight': 0.009645302925851532, 'cat_smooth': 59.405997991322664}. Best is trial 4 with value: 72525.32775155052.\n"
     ]
    },
    {
     "name": "stdout",
     "output_type": "stream",
     "text": [
      "Training until validation scores don't improve for 50 rounds\n",
      "Early stopping, best iteration is:\n",
      "[39]\tvalid_0's l2: 5.32527e+09\n",
      "Training until validation scores don't improve for 50 rounds\n",
      "Early stopping, best iteration is:\n",
      "[41]\tvalid_0's l2: 5.28436e+09\n",
      "Training until validation scores don't improve for 50 rounds\n",
      "Early stopping, best iteration is:\n",
      "[40]\tvalid_0's l2: 5.26603e+09\n",
      "Training until validation scores don't improve for 50 rounds\n",
      "Early stopping, best iteration is:\n",
      "[36]\tvalid_0's l2: 5.25352e+09\n",
      "Training until validation scores don't improve for 50 rounds\n"
     ]
    },
    {
     "name": "stderr",
     "output_type": "stream",
     "text": [
      "[I 2024-09-23 16:15:40,629] Trial 5 finished with value: 72631.10862552108 and parameters: {'n_estimators': 528, 'num_leaves': 472, 'max_depth': 26, 'learning_rate': 0.08118455774682055, 'subsample': 0.6731735750400165, 'colsample_bytree': 0.5215486781024972, 'reg_alpha': 0.01903229002492754, 'reg_lambda': 1.1296979705718802, 'min_data_in_leaf': 111, 'feature_fraction': 0.7087545719196335, 'bagging_fraction': 0.8027887821968784, 'bagging_freq': 3, 'min_child_weight': 0.38638467047838265, 'cat_smooth': 18.290082361212804}. Best is trial 4 with value: 72525.32775155052.\n"
     ]
    },
    {
     "name": "stdout",
     "output_type": "stream",
     "text": [
      "Early stopping, best iteration is:\n",
      "[41]\tvalid_0's l2: 5.2472e+09\n",
      "Training until validation scores don't improve for 50 rounds\n",
      "Early stopping, best iteration is:\n",
      "[486]\tvalid_0's l2: 5.29679e+09\n",
      "Training until validation scores don't improve for 50 rounds\n",
      "Early stopping, best iteration is:\n",
      "[459]\tvalid_0's l2: 5.27969e+09\n",
      "Training until validation scores don't improve for 50 rounds\n",
      "Early stopping, best iteration is:\n",
      "[639]\tvalid_0's l2: 5.24456e+09\n",
      "Training until validation scores don't improve for 50 rounds\n",
      "Early stopping, best iteration is:\n",
      "[642]\tvalid_0's l2: 5.24085e+09\n",
      "Training until validation scores don't improve for 50 rounds\n",
      "Early stopping, best iteration is:\n",
      "[549]\tvalid_0's l2: 5.24924e+09\n"
     ]
    },
    {
     "name": "stderr",
     "output_type": "stream",
     "text": [
      "[I 2024-09-23 16:17:32,540] Trial 6 finished with value: 72541.18561222922 and parameters: {'n_estimators': 710, 'num_leaves': 310, 'max_depth': 25, 'learning_rate': 0.005323872255879759, 'subsample': 0.778789094331322, 'colsample_bytree': 0.7827535099440838, 'reg_alpha': 7.092404300854912e-05, 'reg_lambda': 0.01483173321964085, 'min_data_in_leaf': 45, 'feature_fraction': 0.9894095728788213, 'bagging_fraction': 0.6698539218189319, 'bagging_freq': 3, 'min_child_weight': 72.85919281852098, 'cat_smooth': 27.591405563189507}. Best is trial 4 with value: 72525.32775155052.\n"
     ]
    },
    {
     "name": "stdout",
     "output_type": "stream",
     "text": [
      "Training until validation scores don't improve for 50 rounds\n",
      "Early stopping, best iteration is:\n",
      "[6]\tvalid_0's l2: 5.35368e+09\n",
      "Training until validation scores don't improve for 50 rounds\n",
      "Early stopping, best iteration is:\n",
      "[5]\tvalid_0's l2: 5.38121e+09\n",
      "Training until validation scores don't improve for 50 rounds\n",
      "Early stopping, best iteration is:\n",
      "[5]\tvalid_0's l2: 5.34135e+09\n",
      "Training until validation scores don't improve for 50 rounds\n",
      "Early stopping, best iteration is:\n",
      "[7]\tvalid_0's l2: 5.342e+09\n",
      "Training until validation scores don't improve for 50 rounds\n"
     ]
    },
    {
     "name": "stderr",
     "output_type": "stream",
     "text": [
      "[I 2024-09-23 16:17:50,074] Trial 7 finished with value: 73133.95470796477 and parameters: {'n_estimators': 723, 'num_leaves': 508, 'max_depth': 39, 'learning_rate': 0.3645870608221405, 'subsample': 0.534048636768975, 'colsample_bytree': 0.7322654038896663, 'reg_alpha': 0.004916937769207978, 'reg_lambda': 0.7488782916686476, 'min_data_in_leaf': 87, 'feature_fraction': 0.5185472066172039, 'bagging_fraction': 0.6753281956415664, 'bagging_freq': 3, 'min_child_weight': 0.006286070313385454, 'cat_smooth': 32.53375211168362}. Best is trial 4 with value: 72525.32775155052.\n"
     ]
    },
    {
     "name": "stdout",
     "output_type": "stream",
     "text": [
      "Early stopping, best iteration is:\n",
      "[6]\tvalid_0's l2: 5.32464e+09\n",
      "Training until validation scores don't improve for 50 rounds\n",
      "Early stopping, best iteration is:\n",
      "[273]\tvalid_0's l2: 5.28856e+09\n",
      "Training until validation scores don't improve for 50 rounds\n",
      "Early stopping, best iteration is:\n",
      "[278]\tvalid_0's l2: 5.27102e+09\n",
      "Training until validation scores don't improve for 50 rounds\n",
      "Early stopping, best iteration is:\n",
      "[369]\tvalid_0's l2: 5.23498e+09\n",
      "Training until validation scores don't improve for 50 rounds\n",
      "Early stopping, best iteration is:\n",
      "[413]\tvalid_0's l2: 5.24402e+09\n",
      "Training until validation scores don't improve for 50 rounds\n",
      "Early stopping, best iteration is:\n",
      "[368]\tvalid_0's l2: 5.22898e+09\n"
     ]
    },
    {
     "name": "stderr",
     "output_type": "stream",
     "text": [
      "[I 2024-09-23 16:18:33,950] Trial 8 finished with value: 72481.11408785207 and parameters: {'n_estimators': 972, 'num_leaves': 363, 'max_depth': 12, 'learning_rate': 0.010314487673603769, 'subsample': 0.5540318863897262, 'colsample_bytree': 0.5894514042855452, 'reg_alpha': 0.02065202190439409, 'reg_lambda': 0.02893742513973448, 'min_data_in_leaf': 57, 'feature_fraction': 0.8762480851093014, 'bagging_fraction': 0.5534397921967846, 'bagging_freq': 4, 'min_child_weight': 0.06587365495478886, 'cat_smooth': 39.651139374964735}. Best is trial 8 with value: 72481.11408785207.\n"
     ]
    },
    {
     "name": "stdout",
     "output_type": "stream",
     "text": [
      "Training until validation scores don't improve for 50 rounds\n",
      "Did not meet early stopping. Best iteration is:\n",
      "[603]\tvalid_0's l2: 5.47165e+09\n",
      "Training until validation scores don't improve for 50 rounds\n",
      "Did not meet early stopping. Best iteration is:\n",
      "[603]\tvalid_0's l2: 5.45569e+09\n",
      "Training until validation scores don't improve for 50 rounds\n",
      "Did not meet early stopping. Best iteration is:\n",
      "[603]\tvalid_0's l2: 5.41836e+09\n",
      "Training until validation scores don't improve for 50 rounds\n",
      "Did not meet early stopping. Best iteration is:\n",
      "[603]\tvalid_0's l2: 5.44369e+09\n",
      "Training until validation scores don't improve for 50 rounds\n",
      "Did not meet early stopping. Best iteration is:\n",
      "[603]\tvalid_0's l2: 5.41143e+09\n"
     ]
    },
    {
     "name": "stderr",
     "output_type": "stream",
     "text": [
      "[I 2024-09-23 16:20:33,417] Trial 9 finished with value: 73757.45844176432 and parameters: {'n_estimators': 603, 'num_leaves': 373, 'max_depth': 42, 'learning_rate': 0.0013992136034385533, 'subsample': 0.6243062539013847, 'colsample_bytree': 0.7712042581140022, 'reg_alpha': 2.294246403767406e-06, 'reg_lambda': 0.03354641687863073, 'min_data_in_leaf': 114, 'feature_fraction': 0.9626784364338884, 'bagging_fraction': 0.7833749622874999, 'bagging_freq': 3, 'min_child_weight': 0.00012278919376690123, 'cat_smooth': 95.03843220828843}. Best is trial 8 with value: 72481.11408785207.\n",
      "c:\\Users\\lerch\\miniconda3\\envs\\cars\\Lib\\site-packages\\lightgbm\\engine.py:204: UserWarning: Found `n_estimators` in params. Will use it instead of argument\n",
      "  _log_warning(f\"Found `{alias}` in params. Will use it instead of argument\")\n"
     ]
    },
    {
     "name": "stdout",
     "output_type": "stream",
     "text": [
      "Training until validation scores don't improve for 50 rounds\n",
      "Early stopping, best iteration is:\n",
      "[236]\tvalid_0's l2: 5.29668e+09\n"
     ]
    },
    {
     "name": "stderr",
     "output_type": "stream",
     "text": [
      "c:\\Users\\lerch\\miniconda3\\envs\\cars\\Lib\\site-packages\\lightgbm\\engine.py:204: UserWarning: Found `n_estimators` in params. Will use it instead of argument\n",
      "  _log_warning(f\"Found `{alias}` in params. Will use it instead of argument\")\n"
     ]
    },
    {
     "name": "stdout",
     "output_type": "stream",
     "text": [
      "Training until validation scores don't improve for 50 rounds\n",
      "Early stopping, best iteration is:\n",
      "[300]\tvalid_0's l2: 5.27933e+09\n"
     ]
    },
    {
     "name": "stderr",
     "output_type": "stream",
     "text": [
      "c:\\Users\\lerch\\miniconda3\\envs\\cars\\Lib\\site-packages\\lightgbm\\engine.py:204: UserWarning: Found `n_estimators` in params. Will use it instead of argument\n",
      "  _log_warning(f\"Found `{alias}` in params. Will use it instead of argument\")\n"
     ]
    },
    {
     "name": "stdout",
     "output_type": "stream",
     "text": [
      "Training until validation scores don't improve for 50 rounds\n",
      "Early stopping, best iteration is:\n",
      "[288]\tvalid_0's l2: 5.24189e+09\n"
     ]
    },
    {
     "name": "stderr",
     "output_type": "stream",
     "text": [
      "c:\\Users\\lerch\\miniconda3\\envs\\cars\\Lib\\site-packages\\lightgbm\\engine.py:204: UserWarning: Found `n_estimators` in params. Will use it instead of argument\n",
      "  _log_warning(f\"Found `{alias}` in params. Will use it instead of argument\")\n"
     ]
    },
    {
     "name": "stdout",
     "output_type": "stream",
     "text": [
      "Training until validation scores don't improve for 50 rounds\n",
      "Early stopping, best iteration is:\n",
      "[320]\tvalid_0's l2: 5.24021e+09\n"
     ]
    },
    {
     "name": "stderr",
     "output_type": "stream",
     "text": [
      "c:\\Users\\lerch\\miniconda3\\envs\\cars\\Lib\\site-packages\\lightgbm\\engine.py:204: UserWarning: Found `n_estimators` in params. Will use it instead of argument\n",
      "  _log_warning(f\"Found `{alias}` in params. Will use it instead of argument\")\n"
     ]
    },
    {
     "name": "stdout",
     "output_type": "stream",
     "text": [
      "Training until validation scores don't improve for 50 rounds\n",
      "Early stopping, best iteration is:\n",
      "[323]\tvalid_0's l2: 5.22873e+09\n"
     ]
    },
    {
     "name": "stderr",
     "output_type": "stream",
     "text": [
      "[I 2024-09-23 16:21:27,592] A new study created in memory with name: no-name-a8db438c-a994-4bf8-99dc-ef792682a82c\n"
     ]
    },
    {
     "name": "stdout",
     "output_type": "stream",
     "text": [
      "Training until validation scores don't improve for 50 rounds\n",
      "Early stopping, best iteration is:\n",
      "[11]\tvalid_0's l2: 5.37087e+09\n",
      "Training until validation scores don't improve for 50 rounds\n",
      "Early stopping, best iteration is:\n",
      "[13]\tvalid_0's l2: 5.31526e+09\n",
      "Training until validation scores don't improve for 50 rounds\n",
      "Early stopping, best iteration is:\n",
      "[13]\tvalid_0's l2: 5.31694e+09\n",
      "Training until validation scores don't improve for 50 rounds\n",
      "Early stopping, best iteration is:\n",
      "[12]\tvalid_0's l2: 5.32459e+09\n",
      "Training until validation scores don't improve for 50 rounds\n"
     ]
    },
    {
     "name": "stderr",
     "output_type": "stream",
     "text": [
      "[I 2024-09-23 16:21:40,535] Trial 0 finished with value: 72957.43698409347 and parameters: {'n_estimators': 1040, 'num_leaves': 308, 'max_depth': 42, 'learning_rate': 0.17636469336159113, 'subsample': 0.7492535061512953, 'colsample_bytree': 0.6123983227654238, 'reg_alpha': 1.54304001490974e-06, 'reg_lambda': 1.1018509458263566, 'min_data_in_leaf': 53, 'feature_fraction': 0.5441699070870052, 'bagging_fraction': 0.8426799091838986, 'bagging_freq': 5, 'min_child_weight': 0.00010560624429728648, 'cat_smooth': 32.52312463051321}. Best is trial 0 with value: 72957.43698409347.\n"
     ]
    },
    {
     "name": "stdout",
     "output_type": "stream",
     "text": [
      "Early stopping, best iteration is:\n",
      "[11]\tvalid_0's l2: 5.28628e+09\n",
      "Training until validation scores don't improve for 50 rounds\n",
      "Early stopping, best iteration is:\n",
      "[302]\tvalid_0's l2: 5.32172e+09\n",
      "Training until validation scores don't improve for 50 rounds\n",
      "Early stopping, best iteration is:\n",
      "[348]\tvalid_0's l2: 5.28241e+09\n",
      "Training until validation scores don't improve for 50 rounds\n",
      "Early stopping, best iteration is:\n",
      "[318]\tvalid_0's l2: 5.26978e+09\n",
      "Training until validation scores don't improve for 50 rounds\n",
      "Early stopping, best iteration is:\n",
      "[353]\tvalid_0's l2: 5.25988e+09\n",
      "Training until validation scores don't improve for 50 rounds\n",
      "Early stopping, best iteration is:\n",
      "[319]\tvalid_0's l2: 5.24132e+09\n"
     ]
    },
    {
     "name": "stderr",
     "output_type": "stream",
     "text": [
      "[I 2024-09-23 16:23:32,831] Trial 1 finished with value: 72629.36046419488 and parameters: {'n_estimators': 1069, 'num_leaves': 545, 'max_depth': 46, 'learning_rate': 0.007509797119626296, 'subsample': 0.9588870612564717, 'colsample_bytree': 0.8572878916988453, 'reg_alpha': 0.0001799973901160094, 'reg_lambda': 0.0037040785712895334, 'min_data_in_leaf': 70, 'feature_fraction': 0.8370668075331726, 'bagging_fraction': 0.720916587211498, 'bagging_freq': 3, 'min_child_weight': 0.5088641679920515, 'cat_smooth': 32.59404363006922}. Best is trial 1 with value: 72629.36046419488.\n"
     ]
    },
    {
     "name": "stdout",
     "output_type": "stream",
     "text": [
      "Training until validation scores don't improve for 50 rounds\n",
      "Early stopping, best iteration is:\n",
      "[56]\tvalid_0's l2: 5.33362e+09\n",
      "Training until validation scores don't improve for 50 rounds\n",
      "Early stopping, best iteration is:\n",
      "[62]\tvalid_0's l2: 5.29324e+09\n",
      "Training until validation scores don't improve for 50 rounds\n",
      "Early stopping, best iteration is:\n",
      "[60]\tvalid_0's l2: 5.27955e+09\n",
      "Training until validation scores don't improve for 50 rounds\n",
      "Early stopping, best iteration is:\n",
      "[76]\tvalid_0's l2: 5.28329e+09\n",
      "Training until validation scores don't improve for 50 rounds\n"
     ]
    },
    {
     "name": "stderr",
     "output_type": "stream",
     "text": [
      "[I 2024-09-23 16:24:03,773] Trial 2 finished with value: 72683.4815374377 and parameters: {'n_estimators': 955, 'num_leaves': 541, 'max_depth': 51, 'learning_rate': 0.036723279424594156, 'subsample': 0.9543244404043341, 'colsample_bytree': 0.6596180444942726, 'reg_alpha': 3.4894428963481334e-07, 'reg_lambda': 0.015951452190168802, 'min_data_in_leaf': 49, 'feature_fraction': 0.9143406631538383, 'bagging_fraction': 0.5234481596946249, 'bagging_freq': 4, 'min_child_weight': 0.1929820588974466, 'cat_smooth': 65.96096423779524}. Best is trial 1 with value: 72629.36046419488.\n"
     ]
    },
    {
     "name": "stdout",
     "output_type": "stream",
     "text": [
      "Early stopping, best iteration is:\n",
      "[57]\tvalid_0's l2: 5.22475e+09\n",
      "Training until validation scores don't improve for 50 rounds\n",
      "Early stopping, best iteration is:\n",
      "[11]\tvalid_0's l2: 5.37824e+09\n",
      "Training until validation scores don't improve for 50 rounds\n",
      "Early stopping, best iteration is:\n",
      "[13]\tvalid_0's l2: 5.31741e+09\n",
      "Training until validation scores don't improve for 50 rounds\n",
      "Early stopping, best iteration is:\n",
      "[12]\tvalid_0's l2: 5.32681e+09\n",
      "Training until validation scores don't improve for 50 rounds\n",
      "Early stopping, best iteration is:\n",
      "[12]\tvalid_0's l2: 5.30187e+09\n",
      "Training until validation scores don't improve for 50 rounds\n"
     ]
    },
    {
     "name": "stderr",
     "output_type": "stream",
     "text": [
      "[I 2024-09-23 16:24:19,718] Trial 3 finished with value: 72915.39843240839 and parameters: {'n_estimators': 639, 'num_leaves': 643, 'max_depth': 27, 'learning_rate': 0.18362976337563003, 'subsample': 0.6479808534398394, 'colsample_bytree': 0.9419682397805931, 'reg_alpha': 8.97573097030888e-06, 'reg_lambda': 0.004571551229239351, 'min_data_in_leaf': 71, 'feature_fraction': 0.5467301872793251, 'bagging_fraction': 0.9105528289184642, 'bagging_freq': 1, 'min_child_weight': 0.020169108029984395, 'cat_smooth': 87.9550363117174}. Best is trial 1 with value: 72629.36046419488.\n"
     ]
    },
    {
     "name": "stdout",
     "output_type": "stream",
     "text": [
      "Early stopping, best iteration is:\n",
      "[11]\tvalid_0's l2: 5.25893e+09\n",
      "Training until validation scores don't improve for 50 rounds\n",
      "Early stopping, best iteration is:\n",
      "[413]\tvalid_0's l2: 5.31481e+09\n",
      "Training until validation scores don't improve for 50 rounds\n",
      "Early stopping, best iteration is:\n",
      "[446]\tvalid_0's l2: 5.2871e+09\n",
      "Training until validation scores don't improve for 50 rounds\n",
      "Early stopping, best iteration is:\n",
      "[443]\tvalid_0's l2: 5.26546e+09\n",
      "Training until validation scores don't improve for 50 rounds\n",
      "Early stopping, best iteration is:\n",
      "[455]\tvalid_0's l2: 5.26723e+09\n",
      "Training until validation scores don't improve for 50 rounds\n",
      "Early stopping, best iteration is:\n",
      "[426]\tvalid_0's l2: 5.23523e+09\n"
     ]
    },
    {
     "name": "stderr",
     "output_type": "stream",
     "text": [
      "[I 2024-09-23 16:26:35,128] Trial 4 finished with value: 72622.0847745026 and parameters: {'n_estimators': 1192, 'num_leaves': 482, 'max_depth': 52, 'learning_rate': 0.005677045861147304, 'subsample': 0.7986858241154422, 'colsample_bytree': 0.9514158801658137, 'reg_alpha': 0.00016119356219527467, 'reg_lambda': 0.2295120287772858, 'min_data_in_leaf': 43, 'feature_fraction': 0.6785908793172681, 'bagging_fraction': 0.5398065450779821, 'bagging_freq': 2, 'min_child_weight': 0.009645302925851532, 'cat_smooth': 59.405997991322664}. Best is trial 4 with value: 72622.0847745026.\n"
     ]
    },
    {
     "name": "stdout",
     "output_type": "stream",
     "text": [
      "Training until validation scores don't improve for 50 rounds\n",
      "Early stopping, best iteration is:\n",
      "[26]\tvalid_0's l2: 5.3308e+09\n",
      "Training until validation scores don't improve for 50 rounds\n",
      "Early stopping, best iteration is:\n",
      "[37]\tvalid_0's l2: 5.28457e+09\n",
      "Training until validation scores don't improve for 50 rounds\n",
      "Early stopping, best iteration is:\n",
      "[33]\tvalid_0's l2: 5.28349e+09\n",
      "Training until validation scores don't improve for 50 rounds\n",
      "Early stopping, best iteration is:\n",
      "[34]\tvalid_0's l2: 5.26785e+09\n",
      "Training until validation scores don't improve for 50 rounds\n"
     ]
    },
    {
     "name": "stderr",
     "output_type": "stream",
     "text": [
      "[I 2024-09-23 16:26:54,395] Trial 5 finished with value: 72671.15826865716 and parameters: {'n_estimators': 528, 'num_leaves': 472, 'max_depth': 26, 'learning_rate': 0.08118455774682055, 'subsample': 0.6731735750400165, 'colsample_bytree': 0.5215486781024972, 'reg_alpha': 0.01903229002492754, 'reg_lambda': 1.1296979705718802, 'min_data_in_leaf': 111, 'feature_fraction': 0.7087545719196335, 'bagging_fraction': 0.8027887821968784, 'bagging_freq': 3, 'min_child_weight': 0.38638467047838265, 'cat_smooth': 18.290082361212804}. Best is trial 4 with value: 72622.0847745026.\n"
     ]
    },
    {
     "name": "stdout",
     "output_type": "stream",
     "text": [
      "Early stopping, best iteration is:\n",
      "[33]\tvalid_0's l2: 5.23877e+09\n",
      "Training until validation scores don't improve for 50 rounds\n",
      "Early stopping, best iteration is:\n",
      "[417]\tvalid_0's l2: 5.32512e+09\n",
      "Training until validation scores don't improve for 50 rounds\n",
      "Early stopping, best iteration is:\n",
      "[570]\tvalid_0's l2: 5.28892e+09\n",
      "Training until validation scores don't improve for 50 rounds\n",
      "Early stopping, best iteration is:\n",
      "[474]\tvalid_0's l2: 5.27923e+09\n",
      "Training until validation scores don't improve for 50 rounds\n",
      "Early stopping, best iteration is:\n",
      "[500]\tvalid_0's l2: 5.2581e+09\n",
      "Training until validation scores don't improve for 50 rounds\n",
      "Early stopping, best iteration is:\n",
      "[453]\tvalid_0's l2: 5.2332e+09\n"
     ]
    },
    {
     "name": "stderr",
     "output_type": "stream",
     "text": [
      "[I 2024-09-23 16:28:38,814] Trial 6 finished with value: 72642.35394705269 and parameters: {'n_estimators': 710, 'num_leaves': 310, 'max_depth': 25, 'learning_rate': 0.005323872255879759, 'subsample': 0.778789094331322, 'colsample_bytree': 0.7827535099440838, 'reg_alpha': 7.092404300854912e-05, 'reg_lambda': 0.01483173321964085, 'min_data_in_leaf': 45, 'feature_fraction': 0.9894095728788213, 'bagging_fraction': 0.6698539218189319, 'bagging_freq': 3, 'min_child_weight': 72.85919281852098, 'cat_smooth': 27.591405563189507}. Best is trial 4 with value: 72622.0847745026.\n"
     ]
    },
    {
     "name": "stdout",
     "output_type": "stream",
     "text": [
      "Training until validation scores don't improve for 50 rounds\n",
      "Early stopping, best iteration is:\n",
      "[4]\tvalid_0's l2: 5.38451e+09\n",
      "Training until validation scores don't improve for 50 rounds\n",
      "Early stopping, best iteration is:\n",
      "[5]\tvalid_0's l2: 5.36476e+09\n",
      "Training until validation scores don't improve for 50 rounds\n",
      "Early stopping, best iteration is:\n",
      "[5]\tvalid_0's l2: 5.34504e+09\n",
      "Training until validation scores don't improve for 50 rounds\n",
      "Early stopping, best iteration is:\n",
      "[5]\tvalid_0's l2: 5.32819e+09\n",
      "Training until validation scores don't improve for 50 rounds\n"
     ]
    },
    {
     "name": "stderr",
     "output_type": "stream",
     "text": [
      "[I 2024-09-23 16:28:53,421] Trial 7 finished with value: 73086.05683279388 and parameters: {'n_estimators': 723, 'num_leaves': 508, 'max_depth': 39, 'learning_rate': 0.3645870608221405, 'subsample': 0.534048636768975, 'colsample_bytree': 0.7322654038896663, 'reg_alpha': 0.004916937769207978, 'reg_lambda': 0.7488782916686476, 'min_data_in_leaf': 87, 'feature_fraction': 0.5185472066172039, 'bagging_fraction': 0.6753281956415664, 'bagging_freq': 3, 'min_child_weight': 0.006286070313385454, 'cat_smooth': 32.53375211168362}. Best is trial 4 with value: 72622.0847745026.\n"
     ]
    },
    {
     "name": "stdout",
     "output_type": "stream",
     "text": [
      "Early stopping, best iteration is:\n",
      "[5]\tvalid_0's l2: 5.28535e+09\n",
      "Training until validation scores don't improve for 50 rounds\n",
      "Early stopping, best iteration is:\n",
      "[270]\tvalid_0's l2: 5.31581e+09\n",
      "Training until validation scores don't improve for 50 rounds\n",
      "Early stopping, best iteration is:\n",
      "[304]\tvalid_0's l2: 5.27431e+09\n",
      "Training until validation scores don't improve for 50 rounds\n",
      "Early stopping, best iteration is:\n",
      "[239]\tvalid_0's l2: 5.26749e+09\n",
      "Training until validation scores don't improve for 50 rounds\n",
      "Early stopping, best iteration is:\n",
      "[319]\tvalid_0's l2: 5.25451e+09\n",
      "Training until validation scores don't improve for 50 rounds\n",
      "Early stopping, best iteration is:\n",
      "[274]\tvalid_0's l2: 5.2374e+09\n"
     ]
    },
    {
     "name": "stderr",
     "output_type": "stream",
     "text": [
      "[I 2024-09-23 16:29:40,039] Trial 8 finished with value: 72594.10643330455 and parameters: {'n_estimators': 972, 'num_leaves': 363, 'max_depth': 12, 'learning_rate': 0.010314487673603769, 'subsample': 0.5540318863897262, 'colsample_bytree': 0.5894514042855452, 'reg_alpha': 0.02065202190439409, 'reg_lambda': 0.02893742513973448, 'min_data_in_leaf': 57, 'feature_fraction': 0.8762480851093014, 'bagging_fraction': 0.5534397921967846, 'bagging_freq': 4, 'min_child_weight': 0.06587365495478886, 'cat_smooth': 39.651139374964735}. Best is trial 8 with value: 72594.10643330455.\n"
     ]
    },
    {
     "name": "stdout",
     "output_type": "stream",
     "text": [
      "Training until validation scores don't improve for 50 rounds\n",
      "Did not meet early stopping. Best iteration is:\n",
      "[603]\tvalid_0's l2: 5.47935e+09\n",
      "Training until validation scores don't improve for 50 rounds\n",
      "Did not meet early stopping. Best iteration is:\n",
      "[603]\tvalid_0's l2: 5.45518e+09\n",
      "Training until validation scores don't improve for 50 rounds\n",
      "Did not meet early stopping. Best iteration is:\n",
      "[603]\tvalid_0's l2: 5.42686e+09\n",
      "Training until validation scores don't improve for 50 rounds\n",
      "Did not meet early stopping. Best iteration is:\n",
      "[603]\tvalid_0's l2: 5.44968e+09\n",
      "Training until validation scores don't improve for 50 rounds\n",
      "Did not meet early stopping. Best iteration is:\n",
      "[603]\tvalid_0's l2: 5.39909e+09\n"
     ]
    },
    {
     "name": "stderr",
     "output_type": "stream",
     "text": [
      "[I 2024-09-23 16:31:47,624] Trial 9 finished with value: 73770.12363073244 and parameters: {'n_estimators': 603, 'num_leaves': 373, 'max_depth': 42, 'learning_rate': 0.0013992136034385533, 'subsample': 0.6243062539013847, 'colsample_bytree': 0.7712042581140022, 'reg_alpha': 2.294246403767406e-06, 'reg_lambda': 0.03354641687863073, 'min_data_in_leaf': 114, 'feature_fraction': 0.9626784364338884, 'bagging_fraction': 0.7833749622874999, 'bagging_freq': 3, 'min_child_weight': 0.00012278919376690123, 'cat_smooth': 95.03843220828843}. Best is trial 8 with value: 72594.10643330455.\n",
      "c:\\Users\\lerch\\miniconda3\\envs\\cars\\Lib\\site-packages\\lightgbm\\engine.py:204: UserWarning: Found `n_estimators` in params. Will use it instead of argument\n",
      "  _log_warning(f\"Found `{alias}` in params. Will use it instead of argument\")\n"
     ]
    },
    {
     "name": "stdout",
     "output_type": "stream",
     "text": [
      "Training until validation scores don't improve for 50 rounds\n",
      "Early stopping, best iteration is:\n",
      "[244]\tvalid_0's l2: 5.32352e+09\n"
     ]
    },
    {
     "name": "stderr",
     "output_type": "stream",
     "text": [
      "c:\\Users\\lerch\\miniconda3\\envs\\cars\\Lib\\site-packages\\lightgbm\\engine.py:204: UserWarning: Found `n_estimators` in params. Will use it instead of argument\n",
      "  _log_warning(f\"Found `{alias}` in params. Will use it instead of argument\")\n"
     ]
    },
    {
     "name": "stdout",
     "output_type": "stream",
     "text": [
      "Training until validation scores don't improve for 50 rounds\n",
      "Early stopping, best iteration is:\n",
      "[312]\tvalid_0's l2: 5.28482e+09\n"
     ]
    },
    {
     "name": "stderr",
     "output_type": "stream",
     "text": [
      "c:\\Users\\lerch\\miniconda3\\envs\\cars\\Lib\\site-packages\\lightgbm\\engine.py:204: UserWarning: Found `n_estimators` in params. Will use it instead of argument\n",
      "  _log_warning(f\"Found `{alias}` in params. Will use it instead of argument\")\n"
     ]
    },
    {
     "name": "stdout",
     "output_type": "stream",
     "text": [
      "Training until validation scores don't improve for 50 rounds\n",
      "Early stopping, best iteration is:\n",
      "[299]\tvalid_0's l2: 5.26734e+09\n"
     ]
    },
    {
     "name": "stderr",
     "output_type": "stream",
     "text": [
      "c:\\Users\\lerch\\miniconda3\\envs\\cars\\Lib\\site-packages\\lightgbm\\engine.py:204: UserWarning: Found `n_estimators` in params. Will use it instead of argument\n",
      "  _log_warning(f\"Found `{alias}` in params. Will use it instead of argument\")\n"
     ]
    },
    {
     "name": "stdout",
     "output_type": "stream",
     "text": [
      "Training until validation scores don't improve for 50 rounds\n",
      "Early stopping, best iteration is:\n",
      "[289]\tvalid_0's l2: 5.25493e+09\n"
     ]
    },
    {
     "name": "stderr",
     "output_type": "stream",
     "text": [
      "c:\\Users\\lerch\\miniconda3\\envs\\cars\\Lib\\site-packages\\lightgbm\\engine.py:204: UserWarning: Found `n_estimators` in params. Will use it instead of argument\n",
      "  _log_warning(f\"Found `{alias}` in params. Will use it instead of argument\")\n"
     ]
    },
    {
     "name": "stdout",
     "output_type": "stream",
     "text": [
      "Training until validation scores don't improve for 50 rounds\n",
      "Early stopping, best iteration is:\n",
      "[310]\tvalid_0's l2: 5.22802e+09\n"
     ]
    },
    {
     "name": "stderr",
     "output_type": "stream",
     "text": [
      "[I 2024-09-23 16:32:44,630] A new study created in memory with name: no-name-e4c1f7ac-e563-4922-aae0-69f51177d33d\n"
     ]
    },
    {
     "name": "stdout",
     "output_type": "stream",
     "text": [
      "Training until validation scores don't improve for 50 rounds\n",
      "Early stopping, best iteration is:\n",
      "[11]\tvalid_0's l2: 5.3783e+09\n",
      "Training until validation scores don't improve for 50 rounds\n",
      "Early stopping, best iteration is:\n",
      "[17]\tvalid_0's l2: 5.33168e+09\n",
      "Training until validation scores don't improve for 50 rounds\n",
      "Early stopping, best iteration is:\n",
      "[12]\tvalid_0's l2: 5.33117e+09\n",
      "Training until validation scores don't improve for 50 rounds\n",
      "Early stopping, best iteration is:\n",
      "[13]\tvalid_0's l2: 5.33668e+09\n",
      "Training until validation scores don't improve for 50 rounds\n"
     ]
    },
    {
     "name": "stderr",
     "output_type": "stream",
     "text": [
      "[I 2024-09-23 16:32:57,554] Trial 0 finished with value: 73064.05060873827 and parameters: {'n_estimators': 1040, 'num_leaves': 308, 'max_depth': 42, 'learning_rate': 0.17636469336159113, 'subsample': 0.7492535061512953, 'colsample_bytree': 0.6123983227654238, 'reg_alpha': 1.54304001490974e-06, 'reg_lambda': 1.1018509458263566, 'min_data_in_leaf': 53, 'feature_fraction': 0.5441699070870052, 'bagging_fraction': 0.8426799091838986, 'bagging_freq': 5, 'min_child_weight': 0.00010560624429728648, 'cat_smooth': 32.52312463051321}. Best is trial 0 with value: 73064.05060873827.\n"
     ]
    },
    {
     "name": "stdout",
     "output_type": "stream",
     "text": [
      "Early stopping, best iteration is:\n",
      "[10]\tvalid_0's l2: 5.31395e+09\n",
      "Training until validation scores don't improve for 50 rounds\n",
      "Early stopping, best iteration is:\n",
      "[316]\tvalid_0's l2: 5.33215e+09\n",
      "Training until validation scores don't improve for 50 rounds\n",
      "Early stopping, best iteration is:\n",
      "[396]\tvalid_0's l2: 5.26806e+09\n",
      "Training until validation scores don't improve for 50 rounds\n",
      "Early stopping, best iteration is:\n",
      "[341]\tvalid_0's l2: 5.27611e+09\n",
      "Training until validation scores don't improve for 50 rounds\n",
      "Early stopping, best iteration is:\n",
      "[335]\tvalid_0's l2: 5.27123e+09\n",
      "Training until validation scores don't improve for 50 rounds\n",
      "Early stopping, best iteration is:\n",
      "[354]\tvalid_0's l2: 5.25831e+09\n"
     ]
    },
    {
     "name": "stderr",
     "output_type": "stream",
     "text": [
      "[I 2024-09-23 16:34:52,207] Trial 1 finished with value: 72671.67791157 and parameters: {'n_estimators': 1069, 'num_leaves': 545, 'max_depth': 46, 'learning_rate': 0.007509797119626296, 'subsample': 0.9588870612564717, 'colsample_bytree': 0.8572878916988453, 'reg_alpha': 0.0001799973901160094, 'reg_lambda': 0.0037040785712895334, 'min_data_in_leaf': 70, 'feature_fraction': 0.8370668075331726, 'bagging_fraction': 0.720916587211498, 'bagging_freq': 3, 'min_child_weight': 0.5088641679920515, 'cat_smooth': 32.59404363006922}. Best is trial 1 with value: 72671.67791157.\n"
     ]
    },
    {
     "name": "stdout",
     "output_type": "stream",
     "text": [
      "Training until validation scores don't improve for 50 rounds\n",
      "Early stopping, best iteration is:\n",
      "[53]\tvalid_0's l2: 5.367e+09\n",
      "Training until validation scores don't improve for 50 rounds\n",
      "Early stopping, best iteration is:\n",
      "[71]\tvalid_0's l2: 5.27275e+09\n",
      "Training until validation scores don't improve for 50 rounds\n",
      "Early stopping, best iteration is:\n",
      "[71]\tvalid_0's l2: 5.2703e+09\n",
      "Training until validation scores don't improve for 50 rounds\n",
      "Early stopping, best iteration is:\n",
      "[66]\tvalid_0's l2: 5.29946e+09\n",
      "Training until validation scores don't improve for 50 rounds\n"
     ]
    },
    {
     "name": "stderr",
     "output_type": "stream",
     "text": [
      "[I 2024-09-23 16:35:28,623] Trial 2 finished with value: 72779.32831668196 and parameters: {'n_estimators': 955, 'num_leaves': 541, 'max_depth': 51, 'learning_rate': 0.036723279424594156, 'subsample': 0.9543244404043341, 'colsample_bytree': 0.6596180444942726, 'reg_alpha': 3.4894428963481334e-07, 'reg_lambda': 0.015951452190168802, 'min_data_in_leaf': 49, 'feature_fraction': 0.9143406631538383, 'bagging_fraction': 0.5234481596946249, 'bagging_freq': 4, 'min_child_weight': 0.1929820588974466, 'cat_smooth': 65.96096423779524}. Best is trial 1 with value: 72671.67791157.\n"
     ]
    },
    {
     "name": "stdout",
     "output_type": "stream",
     "text": [
      "Early stopping, best iteration is:\n",
      "[57]\tvalid_0's l2: 5.27465e+09\n",
      "Training until validation scores don't improve for 50 rounds\n",
      "Early stopping, best iteration is:\n",
      "[10]\tvalid_0's l2: 5.37956e+09\n",
      "Training until validation scores don't improve for 50 rounds\n",
      "Early stopping, best iteration is:\n",
      "[13]\tvalid_0's l2: 5.31272e+09\n",
      "Training until validation scores don't improve for 50 rounds\n",
      "Early stopping, best iteration is:\n",
      "[13]\tvalid_0's l2: 5.3045e+09\n",
      "Training until validation scores don't improve for 50 rounds\n",
      "Early stopping, best iteration is:\n",
      "[11]\tvalid_0's l2: 5.33127e+09\n",
      "Training until validation scores don't improve for 50 rounds\n"
     ]
    },
    {
     "name": "stderr",
     "output_type": "stream",
     "text": [
      "[I 2024-09-23 16:35:47,282] Trial 3 finished with value: 73002.14692981269 and parameters: {'n_estimators': 639, 'num_leaves': 643, 'max_depth': 27, 'learning_rate': 0.18362976337563003, 'subsample': 0.6479808534398394, 'colsample_bytree': 0.9419682397805931, 'reg_alpha': 8.97573097030888e-06, 'reg_lambda': 0.004571551229239351, 'min_data_in_leaf': 71, 'feature_fraction': 0.5467301872793251, 'bagging_fraction': 0.9105528289184642, 'bagging_freq': 1, 'min_child_weight': 0.020169108029984395, 'cat_smooth': 87.9550363117174}. Best is trial 1 with value: 72671.67791157.\n"
     ]
    },
    {
     "name": "stdout",
     "output_type": "stream",
     "text": [
      "Early stopping, best iteration is:\n",
      "[9]\tvalid_0's l2: 5.31851e+09\n",
      "Training until validation scores don't improve for 50 rounds\n",
      "Early stopping, best iteration is:\n",
      "[410]\tvalid_0's l2: 5.32207e+09\n",
      "Training until validation scores don't improve for 50 rounds\n",
      "Early stopping, best iteration is:\n",
      "[526]\tvalid_0's l2: 5.26744e+09\n",
      "Training until validation scores don't improve for 50 rounds\n",
      "Early stopping, best iteration is:\n",
      "[483]\tvalid_0's l2: 5.27008e+09\n",
      "Training until validation scores don't improve for 50 rounds\n",
      "Early stopping, best iteration is:\n",
      "[510]\tvalid_0's l2: 5.27003e+09\n",
      "Training until validation scores don't improve for 50 rounds\n",
      "Early stopping, best iteration is:\n",
      "[460]\tvalid_0's l2: 5.25266e+09\n"
     ]
    },
    {
     "name": "stderr",
     "output_type": "stream",
     "text": [
      "[I 2024-09-23 16:38:01,379] Trial 4 finished with value: 72639.21711322838 and parameters: {'n_estimators': 1192, 'num_leaves': 482, 'max_depth': 52, 'learning_rate': 0.005677045861147304, 'subsample': 0.7986858241154422, 'colsample_bytree': 0.9514158801658137, 'reg_alpha': 0.00016119356219527467, 'reg_lambda': 0.2295120287772858, 'min_data_in_leaf': 43, 'feature_fraction': 0.6785908793172681, 'bagging_fraction': 0.5398065450779821, 'bagging_freq': 2, 'min_child_weight': 0.009645302925851532, 'cat_smooth': 59.405997991322664}. Best is trial 4 with value: 72639.21711322838.\n"
     ]
    },
    {
     "name": "stdout",
     "output_type": "stream",
     "text": [
      "Training until validation scores don't improve for 50 rounds\n",
      "Early stopping, best iteration is:\n",
      "[27]\tvalid_0's l2: 5.32983e+09\n",
      "Training until validation scores don't improve for 50 rounds\n",
      "Early stopping, best iteration is:\n",
      "[40]\tvalid_0's l2: 5.27673e+09\n",
      "Training until validation scores don't improve for 50 rounds\n",
      "Early stopping, best iteration is:\n",
      "[33]\tvalid_0's l2: 5.27832e+09\n",
      "Training until validation scores don't improve for 50 rounds\n",
      "Early stopping, best iteration is:\n",
      "[31]\tvalid_0's l2: 5.26518e+09\n",
      "Training until validation scores don't improve for 50 rounds\n"
     ]
    },
    {
     "name": "stderr",
     "output_type": "stream",
     "text": [
      "[I 2024-09-23 16:38:21,613] Trial 5 finished with value: 72675.0319217919 and parameters: {'n_estimators': 528, 'num_leaves': 472, 'max_depth': 26, 'learning_rate': 0.08118455774682055, 'subsample': 0.6731735750400165, 'colsample_bytree': 0.5215486781024972, 'reg_alpha': 0.01903229002492754, 'reg_lambda': 1.1296979705718802, 'min_data_in_leaf': 111, 'feature_fraction': 0.7087545719196335, 'bagging_fraction': 0.8027887821968784, 'bagging_freq': 3, 'min_child_weight': 0.38638467047838265, 'cat_smooth': 18.290082361212804}. Best is trial 4 with value: 72639.21711322838.\n"
     ]
    },
    {
     "name": "stdout",
     "output_type": "stream",
     "text": [
      "Early stopping, best iteration is:\n",
      "[38]\tvalid_0's l2: 5.25825e+09\n",
      "Training until validation scores don't improve for 50 rounds\n",
      "Early stopping, best iteration is:\n",
      "[438]\tvalid_0's l2: 5.33593e+09\n",
      "Training until validation scores don't improve for 50 rounds\n",
      "Early stopping, best iteration is:\n",
      "[591]\tvalid_0's l2: 5.26873e+09\n",
      "Training until validation scores don't improve for 50 rounds\n",
      "Early stopping, best iteration is:\n",
      "[527]\tvalid_0's l2: 5.27475e+09\n",
      "Training until validation scores don't improve for 50 rounds\n",
      "Early stopping, best iteration is:\n",
      "[534]\tvalid_0's l2: 5.27468e+09\n",
      "Training until validation scores don't improve for 50 rounds\n",
      "Early stopping, best iteration is:\n",
      "[441]\tvalid_0's l2: 5.25932e+09\n"
     ]
    },
    {
     "name": "stderr",
     "output_type": "stream",
     "text": [
      "[I 2024-09-23 16:40:07,573] Trial 6 finished with value: 72682.06070577858 and parameters: {'n_estimators': 710, 'num_leaves': 310, 'max_depth': 25, 'learning_rate': 0.005323872255879759, 'subsample': 0.778789094331322, 'colsample_bytree': 0.7827535099440838, 'reg_alpha': 7.092404300854912e-05, 'reg_lambda': 0.01483173321964085, 'min_data_in_leaf': 45, 'feature_fraction': 0.9894095728788213, 'bagging_fraction': 0.6698539218189319, 'bagging_freq': 3, 'min_child_weight': 72.85919281852098, 'cat_smooth': 27.591405563189507}. Best is trial 4 with value: 72639.21711322838.\n"
     ]
    },
    {
     "name": "stdout",
     "output_type": "stream",
     "text": [
      "Training until validation scores don't improve for 50 rounds\n",
      "Early stopping, best iteration is:\n",
      "[5]\tvalid_0's l2: 5.38534e+09\n",
      "Training until validation scores don't improve for 50 rounds\n",
      "Early stopping, best iteration is:\n",
      "[5]\tvalid_0's l2: 5.33857e+09\n",
      "Training until validation scores don't improve for 50 rounds\n",
      "Early stopping, best iteration is:\n",
      "[7]\tvalid_0's l2: 5.36439e+09\n",
      "Training until validation scores don't improve for 50 rounds\n",
      "Early stopping, best iteration is:\n",
      "[5]\tvalid_0's l2: 5.34453e+09\n",
      "Training until validation scores don't improve for 50 rounds\n"
     ]
    },
    {
     "name": "stderr",
     "output_type": "stream",
     "text": [
      "[I 2024-09-23 16:40:24,415] Trial 7 finished with value: 73148.18347662271 and parameters: {'n_estimators': 723, 'num_leaves': 508, 'max_depth': 39, 'learning_rate': 0.3645870608221405, 'subsample': 0.534048636768975, 'colsample_bytree': 0.7322654038896663, 'reg_alpha': 0.004916937769207978, 'reg_lambda': 0.7488782916686476, 'min_data_in_leaf': 87, 'feature_fraction': 0.5185472066172039, 'bagging_fraction': 0.6753281956415664, 'bagging_freq': 3, 'min_child_weight': 0.006286070313385454, 'cat_smooth': 32.53375211168362}. Best is trial 4 with value: 72639.21711322838.\n"
     ]
    },
    {
     "name": "stdout",
     "output_type": "stream",
     "text": [
      "Early stopping, best iteration is:\n",
      "[5]\tvalid_0's l2: 5.32045e+09\n",
      "Training until validation scores don't improve for 50 rounds\n",
      "Early stopping, best iteration is:\n",
      "[251]\tvalid_0's l2: 5.31629e+09\n",
      "Training until validation scores don't improve for 50 rounds\n",
      "Early stopping, best iteration is:\n",
      "[263]\tvalid_0's l2: 5.2639e+09\n",
      "Training until validation scores don't improve for 50 rounds\n",
      "Early stopping, best iteration is:\n",
      "[365]\tvalid_0's l2: 5.26233e+09\n",
      "Training until validation scores don't improve for 50 rounds\n",
      "Early stopping, best iteration is:\n",
      "[288]\tvalid_0's l2: 5.26413e+09\n",
      "Training until validation scores don't improve for 50 rounds\n",
      "Early stopping, best iteration is:\n",
      "[328]\tvalid_0's l2: 5.24632e+09\n"
     ]
    },
    {
     "name": "stderr",
     "output_type": "stream",
     "text": [
      "[I 2024-09-23 16:41:07,472] Trial 8 finished with value: 72598.85490384127 and parameters: {'n_estimators': 972, 'num_leaves': 363, 'max_depth': 12, 'learning_rate': 0.010314487673603769, 'subsample': 0.5540318863897262, 'colsample_bytree': 0.5894514042855452, 'reg_alpha': 0.02065202190439409, 'reg_lambda': 0.02893742513973448, 'min_data_in_leaf': 57, 'feature_fraction': 0.8762480851093014, 'bagging_fraction': 0.5534397921967846, 'bagging_freq': 4, 'min_child_weight': 0.06587365495478886, 'cat_smooth': 39.651139374964735}. Best is trial 8 with value: 72598.85490384127.\n"
     ]
    },
    {
     "name": "stdout",
     "output_type": "stream",
     "text": [
      "Training until validation scores don't improve for 50 rounds\n",
      "Did not meet early stopping. Best iteration is:\n",
      "[603]\tvalid_0's l2: 5.4829e+09\n",
      "Training until validation scores don't improve for 50 rounds\n",
      "Did not meet early stopping. Best iteration is:\n",
      "[603]\tvalid_0's l2: 5.45477e+09\n",
      "Training until validation scores don't improve for 50 rounds\n",
      "Did not meet early stopping. Best iteration is:\n",
      "[603]\tvalid_0's l2: 5.42972e+09\n",
      "Training until validation scores don't improve for 50 rounds\n",
      "Did not meet early stopping. Best iteration is:\n",
      "[603]\tvalid_0's l2: 5.4576e+09\n",
      "Training until validation scores don't improve for 50 rounds\n",
      "Did not meet early stopping. Best iteration is:\n",
      "[603]\tvalid_0's l2: 5.41892e+09\n"
     ]
    },
    {
     "name": "stderr",
     "output_type": "stream",
     "text": [
      "[I 2024-09-23 16:43:10,119] Trial 9 finished with value: 73815.85142444531 and parameters: {'n_estimators': 603, 'num_leaves': 373, 'max_depth': 42, 'learning_rate': 0.0013992136034385533, 'subsample': 0.6243062539013847, 'colsample_bytree': 0.7712042581140022, 'reg_alpha': 2.294246403767406e-06, 'reg_lambda': 0.03354641687863073, 'min_data_in_leaf': 114, 'feature_fraction': 0.9626784364338884, 'bagging_fraction': 0.7833749622874999, 'bagging_freq': 3, 'min_child_weight': 0.00012278919376690123, 'cat_smooth': 95.03843220828843}. Best is trial 8 with value: 72598.85490384127.\n",
      "c:\\Users\\lerch\\miniconda3\\envs\\cars\\Lib\\site-packages\\lightgbm\\engine.py:204: UserWarning: Found `n_estimators` in params. Will use it instead of argument\n",
      "  _log_warning(f\"Found `{alias}` in params. Will use it instead of argument\")\n"
     ]
    },
    {
     "name": "stdout",
     "output_type": "stream",
     "text": [
      "Training until validation scores don't improve for 50 rounds\n",
      "Early stopping, best iteration is:\n",
      "[241]\tvalid_0's l2: 5.33007e+09\n"
     ]
    },
    {
     "name": "stderr",
     "output_type": "stream",
     "text": [
      "c:\\Users\\lerch\\miniconda3\\envs\\cars\\Lib\\site-packages\\lightgbm\\engine.py:204: UserWarning: Found `n_estimators` in params. Will use it instead of argument\n",
      "  _log_warning(f\"Found `{alias}` in params. Will use it instead of argument\")\n"
     ]
    },
    {
     "name": "stdout",
     "output_type": "stream",
     "text": [
      "Training until validation scores don't improve for 50 rounds\n",
      "Early stopping, best iteration is:\n",
      "[256]\tvalid_0's l2: 5.2677e+09\n"
     ]
    },
    {
     "name": "stderr",
     "output_type": "stream",
     "text": [
      "c:\\Users\\lerch\\miniconda3\\envs\\cars\\Lib\\site-packages\\lightgbm\\engine.py:204: UserWarning: Found `n_estimators` in params. Will use it instead of argument\n",
      "  _log_warning(f\"Found `{alias}` in params. Will use it instead of argument\")\n"
     ]
    },
    {
     "name": "stdout",
     "output_type": "stream",
     "text": [
      "Training until validation scores don't improve for 50 rounds\n",
      "Early stopping, best iteration is:\n",
      "[289]\tvalid_0's l2: 5.269e+09\n"
     ]
    },
    {
     "name": "stderr",
     "output_type": "stream",
     "text": [
      "c:\\Users\\lerch\\miniconda3\\envs\\cars\\Lib\\site-packages\\lightgbm\\engine.py:204: UserWarning: Found `n_estimators` in params. Will use it instead of argument\n",
      "  _log_warning(f\"Found `{alias}` in params. Will use it instead of argument\")\n"
     ]
    },
    {
     "name": "stdout",
     "output_type": "stream",
     "text": [
      "Training until validation scores don't improve for 50 rounds\n",
      "Early stopping, best iteration is:\n",
      "[282]\tvalid_0's l2: 5.2681e+09\n"
     ]
    },
    {
     "name": "stderr",
     "output_type": "stream",
     "text": [
      "c:\\Users\\lerch\\miniconda3\\envs\\cars\\Lib\\site-packages\\lightgbm\\engine.py:204: UserWarning: Found `n_estimators` in params. Will use it instead of argument\n",
      "  _log_warning(f\"Found `{alias}` in params. Will use it instead of argument\")\n"
     ]
    },
    {
     "name": "stdout",
     "output_type": "stream",
     "text": [
      "Training until validation scores don't improve for 50 rounds\n",
      "Early stopping, best iteration is:\n",
      "[312]\tvalid_0's l2: 5.24797e+09\n"
     ]
    },
    {
     "name": "stderr",
     "output_type": "stream",
     "text": [
      "[I 2024-09-23 16:43:59,100] A new study created in memory with name: no-name-f310d493-ae40-46d9-938b-54f8e0826a4f\n"
     ]
    },
    {
     "name": "stdout",
     "output_type": "stream",
     "text": [
      "Training until validation scores don't improve for 50 rounds\n",
      "Early stopping, best iteration is:\n",
      "[13]\tvalid_0's l2: 5.34037e+09\n",
      "Training until validation scores don't improve for 50 rounds\n",
      "Early stopping, best iteration is:\n",
      "[15]\tvalid_0's l2: 5.38526e+09\n",
      "Training until validation scores don't improve for 50 rounds\n",
      "Early stopping, best iteration is:\n",
      "[13]\tvalid_0's l2: 5.31728e+09\n",
      "Training until validation scores don't improve for 50 rounds\n",
      "Early stopping, best iteration is:\n",
      "[13]\tvalid_0's l2: 5.33361e+09\n",
      "Training until validation scores don't improve for 50 rounds\n"
     ]
    },
    {
     "name": "stderr",
     "output_type": "stream",
     "text": [
      "[I 2024-09-23 16:44:11,507] Trial 0 finished with value: 73042.23145665688 and parameters: {'n_estimators': 1040, 'num_leaves': 308, 'max_depth': 42, 'learning_rate': 0.17636469336159113, 'subsample': 0.7492535061512953, 'colsample_bytree': 0.6123983227654238, 'reg_alpha': 1.54304001490974e-06, 'reg_lambda': 1.1018509458263566, 'min_data_in_leaf': 53, 'feature_fraction': 0.5441699070870052, 'bagging_fraction': 0.8426799091838986, 'bagging_freq': 5, 'min_child_weight': 0.00010560624429728648, 'cat_smooth': 32.52312463051321}. Best is trial 0 with value: 73042.23145665688.\n"
     ]
    },
    {
     "name": "stdout",
     "output_type": "stream",
     "text": [
      "Early stopping, best iteration is:\n",
      "[13]\tvalid_0's l2: 5.29931e+09\n",
      "Training until validation scores don't improve for 50 rounds\n",
      "Early stopping, best iteration is:\n",
      "[354]\tvalid_0's l2: 5.30407e+09\n",
      "Training until validation scores don't improve for 50 rounds\n",
      "Early stopping, best iteration is:\n",
      "[361]\tvalid_0's l2: 5.27086e+09\n",
      "Training until validation scores don't improve for 50 rounds\n",
      "Early stopping, best iteration is:\n",
      "[326]\tvalid_0's l2: 5.26293e+09\n",
      "Training until validation scores don't improve for 50 rounds\n",
      "Early stopping, best iteration is:\n",
      "[339]\tvalid_0's l2: 5.27368e+09\n",
      "Training until validation scores don't improve for 50 rounds\n",
      "Early stopping, best iteration is:\n",
      "[324]\tvalid_0's l2: 5.24564e+09\n"
     ]
    },
    {
     "name": "stderr",
     "output_type": "stream",
     "text": [
      "[I 2024-09-23 16:46:02,143] Trial 1 finished with value: 72604.66224152001 and parameters: {'n_estimators': 1069, 'num_leaves': 545, 'max_depth': 46, 'learning_rate': 0.007509797119626296, 'subsample': 0.9588870612564717, 'colsample_bytree': 0.8572878916988453, 'reg_alpha': 0.0001799973901160094, 'reg_lambda': 0.0037040785712895334, 'min_data_in_leaf': 70, 'feature_fraction': 0.8370668075331726, 'bagging_fraction': 0.720916587211498, 'bagging_freq': 3, 'min_child_weight': 0.5088641679920515, 'cat_smooth': 32.59404363006922}. Best is trial 1 with value: 72604.66224152001.\n"
     ]
    },
    {
     "name": "stdout",
     "output_type": "stream",
     "text": [
      "Training until validation scores don't improve for 50 rounds\n",
      "Early stopping, best iteration is:\n",
      "[56]\tvalid_0's l2: 5.32481e+09\n",
      "Training until validation scores don't improve for 50 rounds\n",
      "Early stopping, best iteration is:\n",
      "[67]\tvalid_0's l2: 5.26982e+09\n",
      "Training until validation scores don't improve for 50 rounds\n",
      "Early stopping, best iteration is:\n",
      "[60]\tvalid_0's l2: 5.27956e+09\n",
      "Training until validation scores don't improve for 50 rounds\n",
      "Early stopping, best iteration is:\n",
      "[77]\tvalid_0's l2: 5.30718e+09\n",
      "Training until validation scores don't improve for 50 rounds\n"
     ]
    },
    {
     "name": "stderr",
     "output_type": "stream",
     "text": [
      "[I 2024-09-23 16:46:32,033] Trial 2 finished with value: 72742.92512260834 and parameters: {'n_estimators': 955, 'num_leaves': 541, 'max_depth': 51, 'learning_rate': 0.036723279424594156, 'subsample': 0.9543244404043341, 'colsample_bytree': 0.6596180444942726, 'reg_alpha': 3.4894428963481334e-07, 'reg_lambda': 0.015951452190168802, 'min_data_in_leaf': 49, 'feature_fraction': 0.9143406631538383, 'bagging_fraction': 0.5234481596946249, 'bagging_freq': 4, 'min_child_weight': 0.1929820588974466, 'cat_smooth': 65.96096423779524}. Best is trial 1 with value: 72604.66224152001.\n"
     ]
    },
    {
     "name": "stdout",
     "output_type": "stream",
     "text": [
      "Early stopping, best iteration is:\n",
      "[61]\tvalid_0's l2: 5.2763e+09\n",
      "Training until validation scores don't improve for 50 rounds\n",
      "Early stopping, best iteration is:\n",
      "[13]\tvalid_0's l2: 5.34436e+09\n",
      "Training until validation scores don't improve for 50 rounds\n",
      "Early stopping, best iteration is:\n",
      "[15]\tvalid_0's l2: 5.3437e+09\n",
      "Training until validation scores don't improve for 50 rounds\n",
      "Early stopping, best iteration is:\n",
      "[10]\tvalid_0's l2: 5.30502e+09\n",
      "Training until validation scores don't improve for 50 rounds\n",
      "Early stopping, best iteration is:\n",
      "[13]\tvalid_0's l2: 5.31625e+09\n",
      "Training until validation scores don't improve for 50 rounds\n"
     ]
    },
    {
     "name": "stderr",
     "output_type": "stream",
     "text": [
      "[I 2024-09-23 16:46:50,076] Trial 3 finished with value: 72933.18403036904 and parameters: {'n_estimators': 639, 'num_leaves': 643, 'max_depth': 27, 'learning_rate': 0.18362976337563003, 'subsample': 0.6479808534398394, 'colsample_bytree': 0.9419682397805931, 'reg_alpha': 8.97573097030888e-06, 'reg_lambda': 0.004571551229239351, 'min_data_in_leaf': 71, 'feature_fraction': 0.5467301872793251, 'bagging_fraction': 0.9105528289184642, 'bagging_freq': 1, 'min_child_weight': 0.020169108029984395, 'cat_smooth': 87.9550363117174}. Best is trial 1 with value: 72604.66224152001.\n"
     ]
    },
    {
     "name": "stdout",
     "output_type": "stream",
     "text": [
      "Early stopping, best iteration is:\n",
      "[13]\tvalid_0's l2: 5.28692e+09\n",
      "Training until validation scores don't improve for 50 rounds\n",
      "Early stopping, best iteration is:\n",
      "[508]\tvalid_0's l2: 5.29741e+09\n",
      "Training until validation scores don't improve for 50 rounds\n",
      "Early stopping, best iteration is:\n",
      "[465]\tvalid_0's l2: 5.27248e+09\n",
      "Training until validation scores don't improve for 50 rounds\n",
      "Early stopping, best iteration is:\n",
      "[436]\tvalid_0's l2: 5.26475e+09\n",
      "Training until validation scores don't improve for 50 rounds\n",
      "Early stopping, best iteration is:\n",
      "[515]\tvalid_0's l2: 5.26931e+09\n",
      "Training until validation scores don't improve for 50 rounds\n",
      "Early stopping, best iteration is:\n",
      "[478]\tvalid_0's l2: 5.24006e+09\n"
     ]
    },
    {
     "name": "stderr",
     "output_type": "stream",
     "text": [
      "[I 2024-09-23 16:49:01,410] Trial 4 finished with value: 72586.510194439 and parameters: {'n_estimators': 1192, 'num_leaves': 482, 'max_depth': 52, 'learning_rate': 0.005677045861147304, 'subsample': 0.7986858241154422, 'colsample_bytree': 0.9514158801658137, 'reg_alpha': 0.00016119356219527467, 'reg_lambda': 0.2295120287772858, 'min_data_in_leaf': 43, 'feature_fraction': 0.6785908793172681, 'bagging_fraction': 0.5398065450779821, 'bagging_freq': 2, 'min_child_weight': 0.009645302925851532, 'cat_smooth': 59.405997991322664}. Best is trial 4 with value: 72586.510194439.\n"
     ]
    },
    {
     "name": "stdout",
     "output_type": "stream",
     "text": [
      "Training until validation scores don't improve for 50 rounds\n",
      "Early stopping, best iteration is:\n",
      "[37]\tvalid_0's l2: 5.3091e+09\n",
      "Training until validation scores don't improve for 50 rounds\n",
      "Early stopping, best iteration is:\n",
      "[40]\tvalid_0's l2: 5.26914e+09\n",
      "Training until validation scores don't improve for 50 rounds\n",
      "Early stopping, best iteration is:\n",
      "[33]\tvalid_0's l2: 5.28056e+09\n",
      "Training until validation scores don't improve for 50 rounds\n",
      "Early stopping, best iteration is:\n",
      "[36]\tvalid_0's l2: 5.26764e+09\n",
      "Training until validation scores don't improve for 50 rounds\n"
     ]
    },
    {
     "name": "stderr",
     "output_type": "stream",
     "text": [
      "[I 2024-09-23 16:49:19,422] Trial 5 finished with value: 72658.9717089306 and parameters: {'n_estimators': 528, 'num_leaves': 472, 'max_depth': 26, 'learning_rate': 0.08118455774682055, 'subsample': 0.6731735750400165, 'colsample_bytree': 0.5215486781024972, 'reg_alpha': 0.01903229002492754, 'reg_lambda': 1.1296979705718802, 'min_data_in_leaf': 111, 'feature_fraction': 0.7087545719196335, 'bagging_fraction': 0.8027887821968784, 'bagging_freq': 3, 'min_child_weight': 0.38638467047838265, 'cat_smooth': 18.290082361212804}. Best is trial 4 with value: 72586.510194439.\n"
     ]
    },
    {
     "name": "stdout",
     "output_type": "stream",
     "text": [
      "Early stopping, best iteration is:\n",
      "[36]\tvalid_0's l2: 5.27019e+09\n",
      "Training until validation scores don't improve for 50 rounds\n",
      "Early stopping, best iteration is:\n",
      "[522]\tvalid_0's l2: 5.307e+09\n",
      "Training until validation scores don't improve for 50 rounds\n",
      "Early stopping, best iteration is:\n",
      "[516]\tvalid_0's l2: 5.27786e+09\n",
      "Training until validation scores don't improve for 50 rounds\n",
      "Early stopping, best iteration is:\n",
      "[501]\tvalid_0's l2: 5.25905e+09\n",
      "Training until validation scores don't improve for 50 rounds\n",
      "Early stopping, best iteration is:\n",
      "[588]\tvalid_0's l2: 5.27062e+09\n",
      "Training until validation scores don't improve for 50 rounds\n",
      "Early stopping, best iteration is:\n",
      "[482]\tvalid_0's l2: 5.25255e+09\n"
     ]
    },
    {
     "name": "stderr",
     "output_type": "stream",
     "text": [
      "[I 2024-09-23 16:51:18,020] Trial 6 finished with value: 72618.2902238331 and parameters: {'n_estimators': 710, 'num_leaves': 310, 'max_depth': 25, 'learning_rate': 0.005323872255879759, 'subsample': 0.778789094331322, 'colsample_bytree': 0.7827535099440838, 'reg_alpha': 7.092404300854912e-05, 'reg_lambda': 0.01483173321964085, 'min_data_in_leaf': 45, 'feature_fraction': 0.9894095728788213, 'bagging_fraction': 0.6698539218189319, 'bagging_freq': 3, 'min_child_weight': 72.85919281852098, 'cat_smooth': 27.591405563189507}. Best is trial 4 with value: 72586.510194439.\n"
     ]
    },
    {
     "name": "stdout",
     "output_type": "stream",
     "text": [
      "Training until validation scores don't improve for 50 rounds\n",
      "Early stopping, best iteration is:\n",
      "[5]\tvalid_0's l2: 5.37686e+09\n",
      "Training until validation scores don't improve for 50 rounds\n",
      "Early stopping, best iteration is:\n",
      "[6]\tvalid_0's l2: 5.38387e+09\n",
      "Training until validation scores don't improve for 50 rounds\n",
      "Early stopping, best iteration is:\n",
      "[5]\tvalid_0's l2: 5.3297e+09\n",
      "Training until validation scores don't improve for 50 rounds\n",
      "Early stopping, best iteration is:\n",
      "[6]\tvalid_0's l2: 5.33251e+09\n",
      "Training until validation scores don't improve for 50 rounds\n"
     ]
    },
    {
     "name": "stderr",
     "output_type": "stream",
     "text": [
      "[I 2024-09-23 16:51:35,925] Trial 7 finished with value: 73169.65964455572 and parameters: {'n_estimators': 723, 'num_leaves': 508, 'max_depth': 39, 'learning_rate': 0.3645870608221405, 'subsample': 0.534048636768975, 'colsample_bytree': 0.7322654038896663, 'reg_alpha': 0.004916937769207978, 'reg_lambda': 0.7488782916686476, 'min_data_in_leaf': 87, 'feature_fraction': 0.5185472066172039, 'bagging_fraction': 0.6753281956415664, 'bagging_freq': 3, 'min_child_weight': 0.006286070313385454, 'cat_smooth': 32.53375211168362}. Best is trial 4 with value: 72586.510194439.\n"
     ]
    },
    {
     "name": "stdout",
     "output_type": "stream",
     "text": [
      "Early stopping, best iteration is:\n",
      "[6]\tvalid_0's l2: 5.34605e+09\n",
      "Training until validation scores don't improve for 50 rounds\n",
      "Early stopping, best iteration is:\n",
      "[258]\tvalid_0's l2: 5.29687e+09\n",
      "Training until validation scores don't improve for 50 rounds\n",
      "Early stopping, best iteration is:\n",
      "[321]\tvalid_0's l2: 5.2661e+09\n",
      "Training until validation scores don't improve for 50 rounds\n",
      "Early stopping, best iteration is:\n",
      "[284]\tvalid_0's l2: 5.27746e+09\n",
      "Training until validation scores don't improve for 50 rounds\n",
      "Early stopping, best iteration is:\n",
      "[276]\tvalid_0's l2: 5.2632e+09\n",
      "Training until validation scores don't improve for 50 rounds\n",
      "Early stopping, best iteration is:\n",
      "[290]\tvalid_0's l2: 5.24178e+09\n"
     ]
    },
    {
     "name": "stderr",
     "output_type": "stream",
     "text": [
      "[I 2024-09-23 16:52:26,186] Trial 8 finished with value: 72588.43883188028 and parameters: {'n_estimators': 972, 'num_leaves': 363, 'max_depth': 12, 'learning_rate': 0.010314487673603769, 'subsample': 0.5540318863897262, 'colsample_bytree': 0.5894514042855452, 'reg_alpha': 0.02065202190439409, 'reg_lambda': 0.02893742513973448, 'min_data_in_leaf': 57, 'feature_fraction': 0.8762480851093014, 'bagging_fraction': 0.5534397921967846, 'bagging_freq': 4, 'min_child_weight': 0.06587365495478886, 'cat_smooth': 39.651139374964735}. Best is trial 4 with value: 72586.510194439.\n"
     ]
    },
    {
     "name": "stdout",
     "output_type": "stream",
     "text": [
      "Training until validation scores don't improve for 50 rounds\n",
      "Did not meet early stopping. Best iteration is:\n",
      "[603]\tvalid_0's l2: 5.47672e+09\n",
      "Training until validation scores don't improve for 50 rounds\n",
      "Did not meet early stopping. Best iteration is:\n",
      "[603]\tvalid_0's l2: 5.45496e+09\n",
      "Training until validation scores don't improve for 50 rounds\n",
      "Did not meet early stopping. Best iteration is:\n",
      "[603]\tvalid_0's l2: 5.42372e+09\n",
      "Training until validation scores don't improve for 50 rounds\n",
      "Did not meet early stopping. Best iteration is:\n",
      "[603]\tvalid_0's l2: 5.45426e+09\n",
      "Training until validation scores don't improve for 50 rounds\n",
      "Did not meet early stopping. Best iteration is:\n",
      "[603]\tvalid_0's l2: 5.41295e+09\n"
     ]
    },
    {
     "name": "stderr",
     "output_type": "stream",
     "text": [
      "[I 2024-09-23 16:54:51,713] Trial 9 finished with value: 73787.00432274444 and parameters: {'n_estimators': 603, 'num_leaves': 373, 'max_depth': 42, 'learning_rate': 0.0013992136034385533, 'subsample': 0.6243062539013847, 'colsample_bytree': 0.7712042581140022, 'reg_alpha': 2.294246403767406e-06, 'reg_lambda': 0.03354641687863073, 'min_data_in_leaf': 114, 'feature_fraction': 0.9626784364338884, 'bagging_fraction': 0.7833749622874999, 'bagging_freq': 3, 'min_child_weight': 0.00012278919376690123, 'cat_smooth': 95.03843220828843}. Best is trial 4 with value: 72586.510194439.\n",
      "c:\\Users\\lerch\\miniconda3\\envs\\cars\\Lib\\site-packages\\lightgbm\\engine.py:204: UserWarning: Found `n_estimators` in params. Will use it instead of argument\n",
      "  _log_warning(f\"Found `{alias}` in params. Will use it instead of argument\")\n"
     ]
    },
    {
     "name": "stdout",
     "output_type": "stream",
     "text": [
      "Training until validation scores don't improve for 50 rounds\n",
      "Early stopping, best iteration is:\n",
      "[432]\tvalid_0's l2: 5.29438e+09\n"
     ]
    },
    {
     "name": "stderr",
     "output_type": "stream",
     "text": [
      "c:\\Users\\lerch\\miniconda3\\envs\\cars\\Lib\\site-packages\\lightgbm\\engine.py:204: UserWarning: Found `n_estimators` in params. Will use it instead of argument\n",
      "  _log_warning(f\"Found `{alias}` in params. Will use it instead of argument\")\n"
     ]
    },
    {
     "name": "stdout",
     "output_type": "stream",
     "text": [
      "Training until validation scores don't improve for 50 rounds\n",
      "Early stopping, best iteration is:\n",
      "[526]\tvalid_0's l2: 5.27205e+09\n"
     ]
    },
    {
     "name": "stderr",
     "output_type": "stream",
     "text": [
      "c:\\Users\\lerch\\miniconda3\\envs\\cars\\Lib\\site-packages\\lightgbm\\engine.py:204: UserWarning: Found `n_estimators` in params. Will use it instead of argument\n",
      "  _log_warning(f\"Found `{alias}` in params. Will use it instead of argument\")\n"
     ]
    },
    {
     "name": "stdout",
     "output_type": "stream",
     "text": [
      "Training until validation scores don't improve for 50 rounds\n",
      "Early stopping, best iteration is:\n",
      "[435]\tvalid_0's l2: 5.26342e+09\n"
     ]
    },
    {
     "name": "stderr",
     "output_type": "stream",
     "text": [
      "c:\\Users\\lerch\\miniconda3\\envs\\cars\\Lib\\site-packages\\lightgbm\\engine.py:204: UserWarning: Found `n_estimators` in params. Will use it instead of argument\n",
      "  _log_warning(f\"Found `{alias}` in params. Will use it instead of argument\")\n"
     ]
    },
    {
     "name": "stdout",
     "output_type": "stream",
     "text": [
      "Training until validation scores don't improve for 50 rounds\n",
      "Early stopping, best iteration is:\n",
      "[514]\tvalid_0's l2: 5.27147e+09\n"
     ]
    },
    {
     "name": "stderr",
     "output_type": "stream",
     "text": [
      "c:\\Users\\lerch\\miniconda3\\envs\\cars\\Lib\\site-packages\\lightgbm\\engine.py:204: UserWarning: Found `n_estimators` in params. Will use it instead of argument\n",
      "  _log_warning(f\"Found `{alias}` in params. Will use it instead of argument\")\n"
     ]
    },
    {
     "name": "stdout",
     "output_type": "stream",
     "text": [
      "Training until validation scores don't improve for 50 rounds\n",
      "Early stopping, best iteration is:\n",
      "[489]\tvalid_0's l2: 5.24127e+09\n"
     ]
    },
    {
     "name": "stderr",
     "output_type": "stream",
     "text": [
      "[I 2024-09-23 16:57:32,649] A new study created in memory with name: no-name-a1f3fe05-b807-4e5d-a8df-f40534d3e84e\n"
     ]
    },
    {
     "name": "stdout",
     "output_type": "stream",
     "text": [
      "Training until validation scores don't improve for 50 rounds\n",
      "Early stopping, best iteration is:\n",
      "[13]\tvalid_0's l2: 5.36453e+09\n",
      "Training until validation scores don't improve for 50 rounds\n",
      "Early stopping, best iteration is:\n",
      "[18]\tvalid_0's l2: 5.38086e+09\n",
      "Training until validation scores don't improve for 50 rounds\n",
      "Early stopping, best iteration is:\n",
      "[14]\tvalid_0's l2: 5.28574e+09\n",
      "Training until validation scores don't improve for 50 rounds\n",
      "Early stopping, best iteration is:\n",
      "[12]\tvalid_0's l2: 5.28998e+09\n",
      "Training until validation scores don't improve for 50 rounds\n"
     ]
    },
    {
     "name": "stderr",
     "output_type": "stream",
     "text": [
      "[I 2024-09-23 16:57:45,874] Trial 0 finished with value: 72928.6874403253 and parameters: {'n_estimators': 1040, 'num_leaves': 308, 'max_depth': 42, 'learning_rate': 0.17636469336159113, 'subsample': 0.7492535061512953, 'colsample_bytree': 0.6123983227654238, 'reg_alpha': 1.54304001490974e-06, 'reg_lambda': 1.1018509458263566, 'min_data_in_leaf': 53, 'feature_fraction': 0.5441699070870052, 'bagging_fraction': 0.8426799091838986, 'bagging_freq': 5, 'min_child_weight': 0.00010560624429728648, 'cat_smooth': 32.52312463051321}. Best is trial 0 with value: 72928.6874403253.\n"
     ]
    },
    {
     "name": "stdout",
     "output_type": "stream",
     "text": [
      "Early stopping, best iteration is:\n",
      "[13]\tvalid_0's l2: 5.27186e+09\n",
      "Training until validation scores don't improve for 50 rounds\n",
      "Early stopping, best iteration is:\n",
      "[318]\tvalid_0's l2: 5.31026e+09\n",
      "Training until validation scores don't improve for 50 rounds\n",
      "Early stopping, best iteration is:\n",
      "[366]\tvalid_0's l2: 5.29404e+09\n",
      "Training until validation scores don't improve for 50 rounds\n",
      "Early stopping, best iteration is:\n",
      "[337]\tvalid_0's l2: 5.25713e+09\n",
      "Training until validation scores don't improve for 50 rounds\n",
      "Early stopping, best iteration is:\n",
      "[423]\tvalid_0's l2: 5.24942e+09\n",
      "Training until validation scores don't improve for 50 rounds\n",
      "Early stopping, best iteration is:\n",
      "[345]\tvalid_0's l2: 5.2454e+09\n"
     ]
    },
    {
     "name": "stderr",
     "output_type": "stream",
     "text": [
      "[I 2024-09-23 17:00:06,655] Trial 1 finished with value: 72603.37627813643 and parameters: {'n_estimators': 1069, 'num_leaves': 545, 'max_depth': 46, 'learning_rate': 0.007509797119626296, 'subsample': 0.9588870612564717, 'colsample_bytree': 0.8572878916988453, 'reg_alpha': 0.0001799973901160094, 'reg_lambda': 0.0037040785712895334, 'min_data_in_leaf': 70, 'feature_fraction': 0.8370668075331726, 'bagging_fraction': 0.720916587211498, 'bagging_freq': 3, 'min_child_weight': 0.5088641679920515, 'cat_smooth': 32.59404363006922}. Best is trial 1 with value: 72603.37627813643.\n"
     ]
    },
    {
     "name": "stdout",
     "output_type": "stream",
     "text": [
      "Training until validation scores don't improve for 50 rounds\n",
      "Early stopping, best iteration is:\n",
      "[118]\tvalid_0's l2: 5.32797e+09\n",
      "Training until validation scores don't improve for 50 rounds\n",
      "Early stopping, best iteration is:\n",
      "[61]\tvalid_0's l2: 5.30193e+09\n",
      "Training until validation scores don't improve for 50 rounds\n",
      "Early stopping, best iteration is:\n",
      "[71]\tvalid_0's l2: 5.26543e+09\n",
      "Training until validation scores don't improve for 50 rounds\n",
      "Early stopping, best iteration is:\n",
      "[92]\tvalid_0's l2: 5.26009e+09\n",
      "Training until validation scores don't improve for 50 rounds\n"
     ]
    },
    {
     "name": "stderr",
     "output_type": "stream",
     "text": [
      "[I 2024-09-23 17:00:48,252] Trial 2 finished with value: 72691.32122649295 and parameters: {'n_estimators': 955, 'num_leaves': 541, 'max_depth': 51, 'learning_rate': 0.036723279424594156, 'subsample': 0.9543244404043341, 'colsample_bytree': 0.6596180444942726, 'reg_alpha': 3.4894428963481334e-07, 'reg_lambda': 0.015951452190168802, 'min_data_in_leaf': 49, 'feature_fraction': 0.9143406631538383, 'bagging_fraction': 0.5234481596946249, 'bagging_freq': 4, 'min_child_weight': 0.1929820588974466, 'cat_smooth': 65.96096423779524}. Best is trial 1 with value: 72603.37627813643.\n"
     ]
    },
    {
     "name": "stdout",
     "output_type": "stream",
     "text": [
      "Early stopping, best iteration is:\n",
      "[60]\tvalid_0's l2: 5.26472e+09\n",
      "Training until validation scores don't improve for 50 rounds\n",
      "Early stopping, best iteration is:\n",
      "[13]\tvalid_0's l2: 5.35759e+09\n",
      "Training until validation scores don't improve for 50 rounds\n",
      "Early stopping, best iteration is:\n",
      "[12]\tvalid_0's l2: 5.33283e+09\n",
      "Training until validation scores don't improve for 50 rounds\n",
      "Early stopping, best iteration is:\n",
      "[11]\tvalid_0's l2: 5.30564e+09\n",
      "Training until validation scores don't improve for 50 rounds\n",
      "Early stopping, best iteration is:\n",
      "[13]\tvalid_0's l2: 5.2937e+09\n",
      "Training until validation scores don't improve for 50 rounds\n"
     ]
    },
    {
     "name": "stderr",
     "output_type": "stream",
     "text": [
      "[I 2024-09-23 17:01:06,214] Trial 3 finished with value: 72874.90560053749 and parameters: {'n_estimators': 639, 'num_leaves': 643, 'max_depth': 27, 'learning_rate': 0.18362976337563003, 'subsample': 0.6479808534398394, 'colsample_bytree': 0.9419682397805931, 'reg_alpha': 8.97573097030888e-06, 'reg_lambda': 0.004571551229239351, 'min_data_in_leaf': 71, 'feature_fraction': 0.5467301872793251, 'bagging_fraction': 0.9105528289184642, 'bagging_freq': 1, 'min_child_weight': 0.020169108029984395, 'cat_smooth': 87.9550363117174}. Best is trial 1 with value: 72603.37627813643.\n"
     ]
    },
    {
     "name": "stdout",
     "output_type": "stream",
     "text": [
      "Early stopping, best iteration is:\n",
      "[14]\tvalid_0's l2: 5.264e+09\n",
      "Training until validation scores don't improve for 50 rounds\n",
      "Early stopping, best iteration is:\n",
      "[414]\tvalid_0's l2: 5.30658e+09\n",
      "Training until validation scores don't improve for 50 rounds\n",
      "Early stopping, best iteration is:\n",
      "[442]\tvalid_0's l2: 5.29265e+09\n",
      "Training until validation scores don't improve for 50 rounds\n",
      "Early stopping, best iteration is:\n",
      "[516]\tvalid_0's l2: 5.24996e+09\n",
      "Training until validation scores don't improve for 50 rounds\n",
      "Early stopping, best iteration is:\n",
      "[535]\tvalid_0's l2: 5.24527e+09\n",
      "Training until validation scores don't improve for 50 rounds\n",
      "Early stopping, best iteration is:\n",
      "[422]\tvalid_0's l2: 5.233e+09\n"
     ]
    },
    {
     "name": "stderr",
     "output_type": "stream",
     "text": [
      "[I 2024-09-23 17:03:27,664] Trial 4 finished with value: 72563.71221902229 and parameters: {'n_estimators': 1192, 'num_leaves': 482, 'max_depth': 52, 'learning_rate': 0.005677045861147304, 'subsample': 0.7986858241154422, 'colsample_bytree': 0.9514158801658137, 'reg_alpha': 0.00016119356219527467, 'reg_lambda': 0.2295120287772858, 'min_data_in_leaf': 43, 'feature_fraction': 0.6785908793172681, 'bagging_fraction': 0.5398065450779821, 'bagging_freq': 2, 'min_child_weight': 0.009645302925851532, 'cat_smooth': 59.405997991322664}. Best is trial 4 with value: 72563.71221902229.\n"
     ]
    },
    {
     "name": "stdout",
     "output_type": "stream",
     "text": [
      "Training until validation scores don't improve for 50 rounds\n",
      "Early stopping, best iteration is:\n",
      "[30]\tvalid_0's l2: 5.31766e+09\n",
      "Training until validation scores don't improve for 50 rounds\n",
      "Early stopping, best iteration is:\n",
      "[35]\tvalid_0's l2: 5.29617e+09\n",
      "Training until validation scores don't improve for 50 rounds\n",
      "Early stopping, best iteration is:\n",
      "[39]\tvalid_0's l2: 5.26845e+09\n",
      "Training until validation scores don't improve for 50 rounds\n",
      "Early stopping, best iteration is:\n",
      "[53]\tvalid_0's l2: 5.26402e+09\n",
      "Training until validation scores don't improve for 50 rounds\n"
     ]
    },
    {
     "name": "stderr",
     "output_type": "stream",
     "text": [
      "[I 2024-09-23 17:03:50,879] Trial 5 finished with value: 72661.81788311509 and parameters: {'n_estimators': 528, 'num_leaves': 472, 'max_depth': 26, 'learning_rate': 0.08118455774682055, 'subsample': 0.6731735750400165, 'colsample_bytree': 0.5215486781024972, 'reg_alpha': 0.01903229002492754, 'reg_lambda': 1.1296979705718802, 'min_data_in_leaf': 111, 'feature_fraction': 0.7087545719196335, 'bagging_fraction': 0.8027887821968784, 'bagging_freq': 3, 'min_child_weight': 0.38638467047838265, 'cat_smooth': 18.290082361212804}. Best is trial 4 with value: 72563.71221902229.\n"
     ]
    },
    {
     "name": "stdout",
     "output_type": "stream",
     "text": [
      "Early stopping, best iteration is:\n",
      "[30]\tvalid_0's l2: 5.2524e+09\n",
      "Training until validation scores don't improve for 50 rounds\n",
      "Early stopping, best iteration is:\n",
      "[504]\tvalid_0's l2: 5.30947e+09\n",
      "Training until validation scores don't improve for 50 rounds\n",
      "Early stopping, best iteration is:\n",
      "[585]\tvalid_0's l2: 5.29893e+09\n",
      "Training until validation scores don't improve for 50 rounds\n",
      "Early stopping, best iteration is:\n",
      "[591]\tvalid_0's l2: 5.25628e+09\n",
      "Training until validation scores don't improve for 50 rounds\n",
      "Early stopping, best iteration is:\n",
      "[648]\tvalid_0's l2: 5.25317e+09\n",
      "Training until validation scores don't improve for 50 rounds\n",
      "Early stopping, best iteration is:\n",
      "[456]\tvalid_0's l2: 5.24654e+09\n"
     ]
    },
    {
     "name": "stderr",
     "output_type": "stream",
     "text": [
      "[I 2024-09-23 17:05:55,751] Trial 6 finished with value: 72614.59725732724 and parameters: {'n_estimators': 710, 'num_leaves': 310, 'max_depth': 25, 'learning_rate': 0.005323872255879759, 'subsample': 0.778789094331322, 'colsample_bytree': 0.7827535099440838, 'reg_alpha': 7.092404300854912e-05, 'reg_lambda': 0.01483173321964085, 'min_data_in_leaf': 45, 'feature_fraction': 0.9894095728788213, 'bagging_fraction': 0.6698539218189319, 'bagging_freq': 3, 'min_child_weight': 72.85919281852098, 'cat_smooth': 27.591405563189507}. Best is trial 4 with value: 72563.71221902229.\n"
     ]
    },
    {
     "name": "stdout",
     "output_type": "stream",
     "text": [
      "Training until validation scores don't improve for 50 rounds\n",
      "Early stopping, best iteration is:\n",
      "[5]\tvalid_0's l2: 5.39989e+09\n",
      "Training until validation scores don't improve for 50 rounds\n",
      "Early stopping, best iteration is:\n",
      "[5]\tvalid_0's l2: 5.3809e+09\n",
      "Training until validation scores don't improve for 50 rounds\n",
      "Early stopping, best iteration is:\n",
      "[5]\tvalid_0's l2: 5.36954e+09\n",
      "Training until validation scores don't improve for 50 rounds\n",
      "Early stopping, best iteration is:\n",
      "[5]\tvalid_0's l2: 5.35093e+09\n",
      "Training until validation scores don't improve for 50 rounds\n"
     ]
    },
    {
     "name": "stderr",
     "output_type": "stream",
     "text": [
      "[I 2024-09-23 17:06:14,023] Trial 7 finished with value: 73208.71368600393 and parameters: {'n_estimators': 723, 'num_leaves': 508, 'max_depth': 39, 'learning_rate': 0.3645870608221405, 'subsample': 0.534048636768975, 'colsample_bytree': 0.7322654038896663, 'reg_alpha': 0.004916937769207978, 'reg_lambda': 0.7488782916686476, 'min_data_in_leaf': 87, 'feature_fraction': 0.5185472066172039, 'bagging_fraction': 0.6753281956415664, 'bagging_freq': 3, 'min_child_weight': 0.006286070313385454, 'cat_smooth': 32.53375211168362}. Best is trial 4 with value: 72563.71221902229.\n"
     ]
    },
    {
     "name": "stdout",
     "output_type": "stream",
     "text": [
      "Early stopping, best iteration is:\n",
      "[7]\tvalid_0's l2: 5.29631e+09\n",
      "Training until validation scores don't improve for 50 rounds\n",
      "Early stopping, best iteration is:\n",
      "[248]\tvalid_0's l2: 5.29233e+09\n",
      "Training until validation scores don't improve for 50 rounds\n",
      "Early stopping, best iteration is:\n",
      "[273]\tvalid_0's l2: 5.28772e+09\n",
      "Training until validation scores don't improve for 50 rounds\n",
      "Early stopping, best iteration is:\n",
      "[288]\tvalid_0's l2: 5.24785e+09\n",
      "Training until validation scores don't improve for 50 rounds\n",
      "Early stopping, best iteration is:\n",
      "[410]\tvalid_0's l2: 5.23621e+09\n",
      "Training until validation scores don't improve for 50 rounds\n",
      "Early stopping, best iteration is:\n",
      "[356]\tvalid_0's l2: 5.23362e+09\n"
     ]
    },
    {
     "name": "stderr",
     "output_type": "stream",
     "text": [
      "[I 2024-09-23 17:07:08,495] Trial 8 finished with value: 72522.71863662166 and parameters: {'n_estimators': 972, 'num_leaves': 363, 'max_depth': 12, 'learning_rate': 0.010314487673603769, 'subsample': 0.5540318863897262, 'colsample_bytree': 0.5894514042855452, 'reg_alpha': 0.02065202190439409, 'reg_lambda': 0.02893742513973448, 'min_data_in_leaf': 57, 'feature_fraction': 0.8762480851093014, 'bagging_fraction': 0.5534397921967846, 'bagging_freq': 4, 'min_child_weight': 0.06587365495478886, 'cat_smooth': 39.651139374964735}. Best is trial 8 with value: 72522.71863662166.\n"
     ]
    },
    {
     "name": "stdout",
     "output_type": "stream",
     "text": [
      "Training until validation scores don't improve for 50 rounds\n",
      "Did not meet early stopping. Best iteration is:\n",
      "[603]\tvalid_0's l2: 5.4814e+09\n",
      "Training until validation scores don't improve for 50 rounds\n",
      "Did not meet early stopping. Best iteration is:\n",
      "[603]\tvalid_0's l2: 5.46129e+09\n",
      "Training until validation scores don't improve for 50 rounds\n",
      "Did not meet early stopping. Best iteration is:\n",
      "[603]\tvalid_0's l2: 5.42591e+09\n",
      "Training until validation scores don't improve for 50 rounds\n",
      "Did not meet early stopping. Best iteration is:\n",
      "[603]\tvalid_0's l2: 5.45293e+09\n",
      "Training until validation scores don't improve for 50 rounds\n",
      "Did not meet early stopping. Best iteration is:\n",
      "[603]\tvalid_0's l2: 5.41475e+09\n"
     ]
    },
    {
     "name": "stderr",
     "output_type": "stream",
     "text": [
      "[I 2024-09-23 17:09:23,636] Trial 9 finished with value: 73805.52042607906 and parameters: {'n_estimators': 603, 'num_leaves': 373, 'max_depth': 42, 'learning_rate': 0.0013992136034385533, 'subsample': 0.6243062539013847, 'colsample_bytree': 0.7712042581140022, 'reg_alpha': 2.294246403767406e-06, 'reg_lambda': 0.03354641687863073, 'min_data_in_leaf': 114, 'feature_fraction': 0.9626784364338884, 'bagging_fraction': 0.7833749622874999, 'bagging_freq': 3, 'min_child_weight': 0.00012278919376690123, 'cat_smooth': 95.03843220828843}. Best is trial 8 with value: 72522.71863662166.\n",
      "c:\\Users\\lerch\\miniconda3\\envs\\cars\\Lib\\site-packages\\lightgbm\\engine.py:204: UserWarning: Found `n_estimators` in params. Will use it instead of argument\n",
      "  _log_warning(f\"Found `{alias}` in params. Will use it instead of argument\")\n"
     ]
    },
    {
     "name": "stdout",
     "output_type": "stream",
     "text": [
      "Training until validation scores don't improve for 50 rounds\n",
      "Early stopping, best iteration is:\n",
      "[409]\tvalid_0's l2: 5.30048e+09\n"
     ]
    },
    {
     "name": "stderr",
     "output_type": "stream",
     "text": [
      "c:\\Users\\lerch\\miniconda3\\envs\\cars\\Lib\\site-packages\\lightgbm\\engine.py:204: UserWarning: Found `n_estimators` in params. Will use it instead of argument\n",
      "  _log_warning(f\"Found `{alias}` in params. Will use it instead of argument\")\n"
     ]
    },
    {
     "name": "stdout",
     "output_type": "stream",
     "text": [
      "Training until validation scores don't improve for 50 rounds\n",
      "Early stopping, best iteration is:\n",
      "[251]\tvalid_0's l2: 5.29265e+09\n"
     ]
    },
    {
     "name": "stderr",
     "output_type": "stream",
     "text": [
      "c:\\Users\\lerch\\miniconda3\\envs\\cars\\Lib\\site-packages\\lightgbm\\engine.py:204: UserWarning: Found `n_estimators` in params. Will use it instead of argument\n",
      "  _log_warning(f\"Found `{alias}` in params. Will use it instead of argument\")\n"
     ]
    },
    {
     "name": "stdout",
     "output_type": "stream",
     "text": [
      "Training until validation scores don't improve for 50 rounds\n",
      "Early stopping, best iteration is:\n",
      "[306]\tvalid_0's l2: 5.2599e+09\n"
     ]
    },
    {
     "name": "stderr",
     "output_type": "stream",
     "text": [
      "c:\\Users\\lerch\\miniconda3\\envs\\cars\\Lib\\site-packages\\lightgbm\\engine.py:204: UserWarning: Found `n_estimators` in params. Will use it instead of argument\n",
      "  _log_warning(f\"Found `{alias}` in params. Will use it instead of argument\")\n"
     ]
    },
    {
     "name": "stdout",
     "output_type": "stream",
     "text": [
      "Training until validation scores don't improve for 50 rounds\n",
      "Early stopping, best iteration is:\n",
      "[328]\tvalid_0's l2: 5.24021e+09\n"
     ]
    },
    {
     "name": "stderr",
     "output_type": "stream",
     "text": [
      "c:\\Users\\lerch\\miniconda3\\envs\\cars\\Lib\\site-packages\\lightgbm\\engine.py:204: UserWarning: Found `n_estimators` in params. Will use it instead of argument\n",
      "  _log_warning(f\"Found `{alias}` in params. Will use it instead of argument\")\n"
     ]
    },
    {
     "name": "stdout",
     "output_type": "stream",
     "text": [
      "Training until validation scores don't improve for 50 rounds\n",
      "Early stopping, best iteration is:\n",
      "[328]\tvalid_0's l2: 5.23553e+09\n"
     ]
    },
    {
     "name": "stderr",
     "output_type": "stream",
     "text": [
      "[I 2024-09-23 17:10:20,039] A new study created in memory with name: no-name-2629da79-066d-4259-a3c3-b967b3b3efc4\n"
     ]
    },
    {
     "name": "stdout",
     "output_type": "stream",
     "text": [
      "Training until validation scores don't improve for 50 rounds\n",
      "Early stopping, best iteration is:\n",
      "[13]\tvalid_0's l2: 5.33784e+09\n",
      "Training until validation scores don't improve for 50 rounds\n",
      "Early stopping, best iteration is:\n",
      "[15]\tvalid_0's l2: 5.35855e+09\n",
      "Training until validation scores don't improve for 50 rounds\n",
      "Early stopping, best iteration is:\n",
      "[16]\tvalid_0's l2: 5.31119e+09\n",
      "Training until validation scores don't improve for 50 rounds\n",
      "Early stopping, best iteration is:\n",
      "[13]\tvalid_0's l2: 5.2971e+09\n",
      "Training until validation scores don't improve for 50 rounds\n"
     ]
    },
    {
     "name": "stderr",
     "output_type": "stream",
     "text": [
      "[I 2024-09-23 17:10:32,317] Trial 0 finished with value: 72948.24265422519 and parameters: {'n_estimators': 1040, 'num_leaves': 308, 'max_depth': 42, 'learning_rate': 0.17636469336159113, 'subsample': 0.7492535061512953, 'colsample_bytree': 0.6123983227654238, 'reg_alpha': 1.54304001490974e-06, 'reg_lambda': 1.1018509458263566, 'min_data_in_leaf': 53, 'feature_fraction': 0.5441699070870052, 'bagging_fraction': 0.8426799091838986, 'bagging_freq': 5, 'min_child_weight': 0.00010560624429728648, 'cat_smooth': 32.52312463051321}. Best is trial 0 with value: 72948.24265422519.\n"
     ]
    },
    {
     "name": "stdout",
     "output_type": "stream",
     "text": [
      "Early stopping, best iteration is:\n",
      "[12]\tvalid_0's l2: 5.30256e+09\n",
      "Training until validation scores don't improve for 50 rounds\n",
      "Early stopping, best iteration is:\n",
      "[342]\tvalid_0's l2: 5.2964e+09\n",
      "Training until validation scores don't improve for 50 rounds\n",
      "Early stopping, best iteration is:\n",
      "[357]\tvalid_0's l2: 5.29605e+09\n",
      "Training until validation scores don't improve for 50 rounds\n",
      "Early stopping, best iteration is:\n",
      "[348]\tvalid_0's l2: 5.26213e+09\n",
      "Training until validation scores don't improve for 50 rounds\n",
      "Early stopping, best iteration is:\n",
      "[378]\tvalid_0's l2: 5.23418e+09\n",
      "Training until validation scores don't improve for 50 rounds\n",
      "Early stopping, best iteration is:\n",
      "[330]\tvalid_0's l2: 5.26205e+09\n"
     ]
    },
    {
     "name": "stderr",
     "output_type": "stream",
     "text": [
      "[I 2024-09-23 17:12:27,790] Trial 1 finished with value: 72595.89536985892 and parameters: {'n_estimators': 1069, 'num_leaves': 545, 'max_depth': 46, 'learning_rate': 0.007509797119626296, 'subsample': 0.9588870612564717, 'colsample_bytree': 0.8572878916988453, 'reg_alpha': 0.0001799973901160094, 'reg_lambda': 0.0037040785712895334, 'min_data_in_leaf': 70, 'feature_fraction': 0.8370668075331726, 'bagging_fraction': 0.720916587211498, 'bagging_freq': 3, 'min_child_weight': 0.5088641679920515, 'cat_smooth': 32.59404363006922}. Best is trial 1 with value: 72595.89536985892.\n"
     ]
    },
    {
     "name": "stdout",
     "output_type": "stream",
     "text": [
      "Training until validation scores don't improve for 50 rounds\n",
      "Early stopping, best iteration is:\n",
      "[83]\tvalid_0's l2: 5.31427e+09\n",
      "Training until validation scores don't improve for 50 rounds\n",
      "Early stopping, best iteration is:\n",
      "[61]\tvalid_0's l2: 5.29925e+09\n",
      "Training until validation scores don't improve for 50 rounds\n",
      "Early stopping, best iteration is:\n",
      "[70]\tvalid_0's l2: 5.2837e+09\n",
      "Training until validation scores don't improve for 50 rounds\n",
      "Early stopping, best iteration is:\n",
      "[76]\tvalid_0's l2: 5.2703e+09\n",
      "Training until validation scores don't improve for 50 rounds\n"
     ]
    },
    {
     "name": "stderr",
     "output_type": "stream",
     "text": [
      "[I 2024-09-23 17:13:03,531] Trial 2 finished with value: 72741.14819438722 and parameters: {'n_estimators': 955, 'num_leaves': 541, 'max_depth': 51, 'learning_rate': 0.036723279424594156, 'subsample': 0.9543244404043341, 'colsample_bytree': 0.6596180444942726, 'reg_alpha': 3.4894428963481334e-07, 'reg_lambda': 0.015951452190168802, 'min_data_in_leaf': 49, 'feature_fraction': 0.9143406631538383, 'bagging_fraction': 0.5234481596946249, 'bagging_freq': 4, 'min_child_weight': 0.1929820588974466, 'cat_smooth': 65.96096423779524}. Best is trial 1 with value: 72595.89536985892.\n"
     ]
    },
    {
     "name": "stdout",
     "output_type": "stream",
     "text": [
      "Early stopping, best iteration is:\n",
      "[55]\tvalid_0's l2: 5.28885e+09\n",
      "Training until validation scores don't improve for 50 rounds\n",
      "Early stopping, best iteration is:\n",
      "[10]\tvalid_0's l2: 5.33613e+09\n",
      "Training until validation scores don't improve for 50 rounds\n",
      "Early stopping, best iteration is:\n",
      "[12]\tvalid_0's l2: 5.33781e+09\n",
      "Training until validation scores don't improve for 50 rounds\n",
      "Early stopping, best iteration is:\n",
      "[12]\tvalid_0's l2: 5.31935e+09\n",
      "Training until validation scores don't improve for 50 rounds\n",
      "Early stopping, best iteration is:\n",
      "[11]\tvalid_0's l2: 5.31135e+09\n",
      "Training until validation scores don't improve for 50 rounds\n"
     ]
    },
    {
     "name": "stderr",
     "output_type": "stream",
     "text": [
      "[I 2024-09-23 17:13:21,196] Trial 3 finished with value: 72960.37683951735 and parameters: {'n_estimators': 639, 'num_leaves': 643, 'max_depth': 27, 'learning_rate': 0.18362976337563003, 'subsample': 0.6479808534398394, 'colsample_bytree': 0.9419682397805931, 'reg_alpha': 8.97573097030888e-06, 'reg_lambda': 0.004571551229239351, 'min_data_in_leaf': 71, 'feature_fraction': 0.5467301872793251, 'bagging_fraction': 0.9105528289184642, 'bagging_freq': 1, 'min_child_weight': 0.020169108029984395, 'cat_smooth': 87.9550363117174}. Best is trial 1 with value: 72595.89536985892.\n"
     ]
    },
    {
     "name": "stdout",
     "output_type": "stream",
     "text": [
      "Early stopping, best iteration is:\n",
      "[10]\tvalid_0's l2: 5.31144e+09\n",
      "Training until validation scores don't improve for 50 rounds\n",
      "Early stopping, best iteration is:\n",
      "[467]\tvalid_0's l2: 5.29674e+09\n",
      "Training until validation scores don't improve for 50 rounds\n",
      "Early stopping, best iteration is:\n",
      "[446]\tvalid_0's l2: 5.28559e+09\n",
      "Training until validation scores don't improve for 50 rounds\n",
      "Early stopping, best iteration is:\n",
      "[443]\tvalid_0's l2: 5.26164e+09\n",
      "Training until validation scores don't improve for 50 rounds\n",
      "Early stopping, best iteration is:\n",
      "[482]\tvalid_0's l2: 5.2436e+09\n",
      "Training until validation scores don't improve for 50 rounds\n",
      "Early stopping, best iteration is:\n",
      "[445]\tvalid_0's l2: 5.265e+09\n"
     ]
    },
    {
     "name": "stderr",
     "output_type": "stream",
     "text": [
      "[I 2024-09-23 17:15:31,155] Trial 4 finished with value: 72598.30791539782 and parameters: {'n_estimators': 1192, 'num_leaves': 482, 'max_depth': 52, 'learning_rate': 0.005677045861147304, 'subsample': 0.7986858241154422, 'colsample_bytree': 0.9514158801658137, 'reg_alpha': 0.00016119356219527467, 'reg_lambda': 0.2295120287772858, 'min_data_in_leaf': 43, 'feature_fraction': 0.6785908793172681, 'bagging_fraction': 0.5398065450779821, 'bagging_freq': 2, 'min_child_weight': 0.009645302925851532, 'cat_smooth': 59.405997991322664}. Best is trial 1 with value: 72595.89536985892.\n"
     ]
    },
    {
     "name": "stdout",
     "output_type": "stream",
     "text": [
      "Training until validation scores don't improve for 50 rounds\n",
      "Early stopping, best iteration is:\n",
      "[37]\tvalid_0's l2: 5.30171e+09\n",
      "Training until validation scores don't improve for 50 rounds\n",
      "Early stopping, best iteration is:\n",
      "[34]\tvalid_0's l2: 5.28563e+09\n",
      "Training until validation scores don't improve for 50 rounds\n",
      "Early stopping, best iteration is:\n",
      "[36]\tvalid_0's l2: 5.26644e+09\n",
      "Training until validation scores don't improve for 50 rounds\n",
      "Early stopping, best iteration is:\n",
      "[42]\tvalid_0's l2: 5.2452e+09\n",
      "Training until validation scores don't improve for 50 rounds\n"
     ]
    },
    {
     "name": "stderr",
     "output_type": "stream",
     "text": [
      "[I 2024-09-23 17:15:49,867] Trial 5 finished with value: 72623.08861012744 and parameters: {'n_estimators': 528, 'num_leaves': 472, 'max_depth': 26, 'learning_rate': 0.08118455774682055, 'subsample': 0.6731735750400165, 'colsample_bytree': 0.5215486781024972, 'reg_alpha': 0.01903229002492754, 'reg_lambda': 1.1296979705718802, 'min_data_in_leaf': 111, 'feature_fraction': 0.7087545719196335, 'bagging_fraction': 0.8027887821968784, 'bagging_freq': 3, 'min_child_weight': 0.38638467047838265, 'cat_smooth': 18.290082361212804}. Best is trial 1 with value: 72595.89536985892.\n"
     ]
    },
    {
     "name": "stdout",
     "output_type": "stream",
     "text": [
      "Early stopping, best iteration is:\n",
      "[39]\tvalid_0's l2: 5.27158e+09\n",
      "Training until validation scores don't improve for 50 rounds\n",
      "Early stopping, best iteration is:\n",
      "[444]\tvalid_0's l2: 5.28656e+09\n",
      "Training until validation scores don't improve for 50 rounds\n",
      "Early stopping, best iteration is:\n",
      "[566]\tvalid_0's l2: 5.29546e+09\n",
      "Training until validation scores don't improve for 50 rounds\n",
      "Early stopping, best iteration is:\n",
      "[495]\tvalid_0's l2: 5.26284e+09\n",
      "Training until validation scores don't improve for 50 rounds\n",
      "Early stopping, best iteration is:\n",
      "[626]\tvalid_0's l2: 5.23205e+09\n",
      "Training until validation scores don't improve for 50 rounds\n",
      "Early stopping, best iteration is:\n",
      "[492]\tvalid_0's l2: 5.2681e+09\n"
     ]
    },
    {
     "name": "stderr",
     "output_type": "stream",
     "text": [
      "[I 2024-09-23 17:17:33,731] Trial 6 finished with value: 72587.91347719557 and parameters: {'n_estimators': 710, 'num_leaves': 310, 'max_depth': 25, 'learning_rate': 0.005323872255879759, 'subsample': 0.778789094331322, 'colsample_bytree': 0.7827535099440838, 'reg_alpha': 7.092404300854912e-05, 'reg_lambda': 0.01483173321964085, 'min_data_in_leaf': 45, 'feature_fraction': 0.9894095728788213, 'bagging_fraction': 0.6698539218189319, 'bagging_freq': 3, 'min_child_weight': 72.85919281852098, 'cat_smooth': 27.591405563189507}. Best is trial 6 with value: 72587.91347719557.\n"
     ]
    },
    {
     "name": "stdout",
     "output_type": "stream",
     "text": [
      "Training until validation scores don't improve for 50 rounds\n",
      "Early stopping, best iteration is:\n",
      "[7]\tvalid_0's l2: 5.35706e+09\n",
      "Training until validation scores don't improve for 50 rounds\n",
      "Early stopping, best iteration is:\n",
      "[5]\tvalid_0's l2: 5.35061e+09\n",
      "Training until validation scores don't improve for 50 rounds\n",
      "Early stopping, best iteration is:\n",
      "[5]\tvalid_0's l2: 5.3471e+09\n",
      "Training until validation scores don't improve for 50 rounds\n",
      "Early stopping, best iteration is:\n",
      "[5]\tvalid_0's l2: 5.33552e+09\n",
      "Training until validation scores don't improve for 50 rounds\n"
     ]
    },
    {
     "name": "stderr",
     "output_type": "stream",
     "text": [
      "[I 2024-09-23 17:17:50,081] Trial 7 finished with value: 73116.01489684281 and parameters: {'n_estimators': 723, 'num_leaves': 508, 'max_depth': 39, 'learning_rate': 0.3645870608221405, 'subsample': 0.534048636768975, 'colsample_bytree': 0.7322654038896663, 'reg_alpha': 0.004916937769207978, 'reg_lambda': 0.7488782916686476, 'min_data_in_leaf': 87, 'feature_fraction': 0.5185472066172039, 'bagging_fraction': 0.6753281956415664, 'bagging_freq': 3, 'min_child_weight': 0.006286070313385454, 'cat_smooth': 32.53375211168362}. Best is trial 6 with value: 72587.91347719557.\n"
     ]
    },
    {
     "name": "stdout",
     "output_type": "stream",
     "text": [
      "Early stopping, best iteration is:\n",
      "[5]\tvalid_0's l2: 5.33947e+09\n",
      "Training until validation scores don't improve for 50 rounds\n",
      "Early stopping, best iteration is:\n",
      "[273]\tvalid_0's l2: 5.29077e+09\n",
      "Training until validation scores don't improve for 50 rounds\n",
      "Early stopping, best iteration is:\n",
      "[342]\tvalid_0's l2: 5.28728e+09\n",
      "Training until validation scores don't improve for 50 rounds\n",
      "Early stopping, best iteration is:\n",
      "[267]\tvalid_0's l2: 5.26395e+09\n",
      "Training until validation scores don't improve for 50 rounds\n",
      "Early stopping, best iteration is:\n",
      "[348]\tvalid_0's l2: 5.24061e+09\n",
      "Training until validation scores don't improve for 50 rounds\n",
      "Early stopping, best iteration is:\n",
      "[236]\tvalid_0's l2: 5.26194e+09\n"
     ]
    },
    {
     "name": "stderr",
     "output_type": "stream",
     "text": [
      "[I 2024-09-23 17:18:38,810] Trial 8 finished with value: 72587.24398798645 and parameters: {'n_estimators': 972, 'num_leaves': 363, 'max_depth': 12, 'learning_rate': 0.010314487673603769, 'subsample': 0.5540318863897262, 'colsample_bytree': 0.5894514042855452, 'reg_alpha': 0.02065202190439409, 'reg_lambda': 0.02893742513973448, 'min_data_in_leaf': 57, 'feature_fraction': 0.8762480851093014, 'bagging_fraction': 0.5534397921967846, 'bagging_freq': 4, 'min_child_weight': 0.06587365495478886, 'cat_smooth': 39.651139374964735}. Best is trial 8 with value: 72587.24398798645.\n"
     ]
    },
    {
     "name": "stdout",
     "output_type": "stream",
     "text": [
      "Training until validation scores don't improve for 50 rounds\n",
      "Did not meet early stopping. Best iteration is:\n",
      "[603]\tvalid_0's l2: 5.47062e+09\n",
      "Training until validation scores don't improve for 50 rounds\n",
      "Did not meet early stopping. Best iteration is:\n",
      "[603]\tvalid_0's l2: 5.4686e+09\n",
      "Training until validation scores don't improve for 50 rounds\n",
      "Did not meet early stopping. Best iteration is:\n",
      "[603]\tvalid_0's l2: 5.42279e+09\n",
      "Training until validation scores don't improve for 50 rounds\n",
      "Did not meet early stopping. Best iteration is:\n",
      "[603]\tvalid_0's l2: 5.44177e+09\n",
      "Training until validation scores don't improve for 50 rounds\n",
      "Did not meet early stopping. Best iteration is:\n",
      "[603]\tvalid_0's l2: 5.41514e+09\n"
     ]
    },
    {
     "name": "stderr",
     "output_type": "stream",
     "text": [
      "[I 2024-09-23 17:20:43,111] Trial 9 finished with value: 73782.00412382574 and parameters: {'n_estimators': 603, 'num_leaves': 373, 'max_depth': 42, 'learning_rate': 0.0013992136034385533, 'subsample': 0.6243062539013847, 'colsample_bytree': 0.7712042581140022, 'reg_alpha': 2.294246403767406e-06, 'reg_lambda': 0.03354641687863073, 'min_data_in_leaf': 114, 'feature_fraction': 0.9626784364338884, 'bagging_fraction': 0.7833749622874999, 'bagging_freq': 3, 'min_child_weight': 0.00012278919376690123, 'cat_smooth': 95.03843220828843}. Best is trial 8 with value: 72587.24398798645.\n",
      "c:\\Users\\lerch\\miniconda3\\envs\\cars\\Lib\\site-packages\\lightgbm\\engine.py:204: UserWarning: Found `n_estimators` in params. Will use it instead of argument\n",
      "  _log_warning(f\"Found `{alias}` in params. Will use it instead of argument\")\n"
     ]
    },
    {
     "name": "stdout",
     "output_type": "stream",
     "text": [
      "Training until validation scores don't improve for 50 rounds\n",
      "Early stopping, best iteration is:\n",
      "[279]\tvalid_0's l2: 5.29373e+09\n"
     ]
    },
    {
     "name": "stderr",
     "output_type": "stream",
     "text": [
      "c:\\Users\\lerch\\miniconda3\\envs\\cars\\Lib\\site-packages\\lightgbm\\engine.py:204: UserWarning: Found `n_estimators` in params. Will use it instead of argument\n",
      "  _log_warning(f\"Found `{alias}` in params. Will use it instead of argument\")\n"
     ]
    },
    {
     "name": "stdout",
     "output_type": "stream",
     "text": [
      "Training until validation scores don't improve for 50 rounds\n",
      "Early stopping, best iteration is:\n",
      "[268]\tvalid_0's l2: 5.28308e+09\n"
     ]
    },
    {
     "name": "stderr",
     "output_type": "stream",
     "text": [
      "c:\\Users\\lerch\\miniconda3\\envs\\cars\\Lib\\site-packages\\lightgbm\\engine.py:204: UserWarning: Found `n_estimators` in params. Will use it instead of argument\n",
      "  _log_warning(f\"Found `{alias}` in params. Will use it instead of argument\")\n"
     ]
    },
    {
     "name": "stdout",
     "output_type": "stream",
     "text": [
      "Training until validation scores don't improve for 50 rounds\n",
      "Early stopping, best iteration is:\n",
      "[296]\tvalid_0's l2: 5.25273e+09\n"
     ]
    },
    {
     "name": "stderr",
     "output_type": "stream",
     "text": [
      "c:\\Users\\lerch\\miniconda3\\envs\\cars\\Lib\\site-packages\\lightgbm\\engine.py:204: UserWarning: Found `n_estimators` in params. Will use it instead of argument\n",
      "  _log_warning(f\"Found `{alias}` in params. Will use it instead of argument\")\n"
     ]
    },
    {
     "name": "stdout",
     "output_type": "stream",
     "text": [
      "Training until validation scores don't improve for 50 rounds\n",
      "Early stopping, best iteration is:\n",
      "[378]\tvalid_0's l2: 5.23253e+09\n"
     ]
    },
    {
     "name": "stderr",
     "output_type": "stream",
     "text": [
      "c:\\Users\\lerch\\miniconda3\\envs\\cars\\Lib\\site-packages\\lightgbm\\engine.py:204: UserWarning: Found `n_estimators` in params. Will use it instead of argument\n",
      "  _log_warning(f\"Found `{alias}` in params. Will use it instead of argument\")\n"
     ]
    },
    {
     "name": "stdout",
     "output_type": "stream",
     "text": [
      "Training until validation scores don't improve for 50 rounds\n",
      "Early stopping, best iteration is:\n",
      "[309]\tvalid_0's l2: 5.25123e+09\n"
     ]
    },
    {
     "name": "stderr",
     "output_type": "stream",
     "text": [
      "[I 2024-09-23 17:21:34,866] A new study created in memory with name: no-name-72da9786-9edc-45cc-a5ff-3de5077271f3\n"
     ]
    },
    {
     "name": "stdout",
     "output_type": "stream",
     "text": [
      "Training until validation scores don't improve for 50 rounds\n",
      "Early stopping, best iteration is:\n",
      "[14]\tvalid_0's l2: 5.31358e+09\n",
      "Training until validation scores don't improve for 50 rounds\n",
      "Early stopping, best iteration is:\n",
      "[16]\tvalid_0's l2: 5.35452e+09\n",
      "Training until validation scores don't improve for 50 rounds\n",
      "Early stopping, best iteration is:\n",
      "[13]\tvalid_0's l2: 5.32416e+09\n",
      "Training until validation scores don't improve for 50 rounds\n",
      "Early stopping, best iteration is:\n",
      "[11]\tvalid_0's l2: 5.3457e+09\n",
      "Training until validation scores don't improve for 50 rounds\n"
     ]
    },
    {
     "name": "stderr",
     "output_type": "stream",
     "text": [
      "[I 2024-09-23 17:21:46,028] Trial 0 finished with value: 72959.1187512996 and parameters: {'n_estimators': 1040, 'num_leaves': 308, 'max_depth': 42, 'learning_rate': 0.17636469336159113, 'subsample': 0.7492535061512953, 'colsample_bytree': 0.6123983227654238, 'reg_alpha': 1.54304001490974e-06, 'reg_lambda': 1.1018509458263566, 'min_data_in_leaf': 53, 'feature_fraction': 0.5441699070870052, 'bagging_fraction': 0.8426799091838986, 'bagging_freq': 5, 'min_child_weight': 0.00010560624429728648, 'cat_smooth': 32.52312463051321}. Best is trial 0 with value: 72959.1187512996.\n"
     ]
    },
    {
     "name": "stdout",
     "output_type": "stream",
     "text": [
      "Early stopping, best iteration is:\n",
      "[13]\tvalid_0's l2: 5.2772e+09\n",
      "Training until validation scores don't improve for 50 rounds\n",
      "Early stopping, best iteration is:\n",
      "[396]\tvalid_0's l2: 5.2914e+09\n",
      "Training until validation scores don't improve for 50 rounds\n",
      "Early stopping, best iteration is:\n",
      "[340]\tvalid_0's l2: 5.27015e+09\n",
      "Training until validation scores don't improve for 50 rounds\n",
      "Early stopping, best iteration is:\n",
      "[360]\tvalid_0's l2: 5.2705e+09\n",
      "Training until validation scores don't improve for 50 rounds\n",
      "Early stopping, best iteration is:\n",
      "[363]\tvalid_0's l2: 5.26285e+09\n",
      "Training until validation scores don't improve for 50 rounds\n",
      "Early stopping, best iteration is:\n",
      "[316]\tvalid_0's l2: 5.26103e+09\n"
     ]
    },
    {
     "name": "stderr",
     "output_type": "stream",
     "text": [
      "[I 2024-09-23 17:23:42,198] Trial 1 finished with value: 72602.94034168847 and parameters: {'n_estimators': 1069, 'num_leaves': 545, 'max_depth': 46, 'learning_rate': 0.007509797119626296, 'subsample': 0.9588870612564717, 'colsample_bytree': 0.8572878916988453, 'reg_alpha': 0.0001799973901160094, 'reg_lambda': 0.0037040785712895334, 'min_data_in_leaf': 70, 'feature_fraction': 0.8370668075331726, 'bagging_fraction': 0.720916587211498, 'bagging_freq': 3, 'min_child_weight': 0.5088641679920515, 'cat_smooth': 32.59404363006922}. Best is trial 1 with value: 72602.94034168847.\n"
     ]
    },
    {
     "name": "stdout",
     "output_type": "stream",
     "text": [
      "Training until validation scores don't improve for 50 rounds\n",
      "Early stopping, best iteration is:\n",
      "[59]\tvalid_0's l2: 5.31888e+09\n",
      "Training until validation scores don't improve for 50 rounds\n",
      "Early stopping, best iteration is:\n",
      "[77]\tvalid_0's l2: 5.28811e+09\n",
      "Training until validation scores don't improve for 50 rounds\n",
      "Early stopping, best iteration is:\n",
      "[59]\tvalid_0's l2: 5.29378e+09\n",
      "Training until validation scores don't improve for 50 rounds\n",
      "Early stopping, best iteration is:\n",
      "[75]\tvalid_0's l2: 5.2824e+09\n",
      "Training until validation scores don't improve for 50 rounds\n"
     ]
    },
    {
     "name": "stderr",
     "output_type": "stream",
     "text": [
      "[I 2024-09-23 17:24:17,126] Trial 2 finished with value: 72728.46854504438 and parameters: {'n_estimators': 955, 'num_leaves': 541, 'max_depth': 51, 'learning_rate': 0.036723279424594156, 'subsample': 0.9543244404043341, 'colsample_bytree': 0.6596180444942726, 'reg_alpha': 3.4894428963481334e-07, 'reg_lambda': 0.015951452190168802, 'min_data_in_leaf': 49, 'feature_fraction': 0.9143406631538383, 'bagging_fraction': 0.5234481596946249, 'bagging_freq': 4, 'min_child_weight': 0.1929820588974466, 'cat_smooth': 65.96096423779524}. Best is trial 1 with value: 72602.94034168847.\n"
     ]
    },
    {
     "name": "stdout",
     "output_type": "stream",
     "text": [
      "Early stopping, best iteration is:\n",
      "[86]\tvalid_0's l2: 5.26398e+09\n",
      "Training until validation scores don't improve for 50 rounds\n",
      "Early stopping, best iteration is:\n",
      "[10]\tvalid_0's l2: 5.35947e+09\n",
      "Training until validation scores don't improve for 50 rounds\n",
      "Early stopping, best iteration is:\n",
      "[10]\tvalid_0's l2: 5.32333e+09\n",
      "Training until validation scores don't improve for 50 rounds\n",
      "Early stopping, best iteration is:\n",
      "[11]\tvalid_0's l2: 5.32877e+09\n",
      "Training until validation scores don't improve for 50 rounds\n",
      "Early stopping, best iteration is:\n",
      "[10]\tvalid_0's l2: 5.30791e+09\n",
      "Training until validation scores don't improve for 50 rounds\n"
     ]
    },
    {
     "name": "stderr",
     "output_type": "stream",
     "text": [
      "[I 2024-09-23 17:24:34,287] Trial 3 finished with value: 72981.78752124378 and parameters: {'n_estimators': 639, 'num_leaves': 643, 'max_depth': 27, 'learning_rate': 0.18362976337563003, 'subsample': 0.6479808534398394, 'colsample_bytree': 0.9419682397805931, 'reg_alpha': 8.97573097030888e-06, 'reg_lambda': 0.004571551229239351, 'min_data_in_leaf': 71, 'feature_fraction': 0.5467301872793251, 'bagging_fraction': 0.9105528289184642, 'bagging_freq': 1, 'min_child_weight': 0.020169108029984395, 'cat_smooth': 87.9550363117174}. Best is trial 1 with value: 72602.94034168847.\n"
     ]
    },
    {
     "name": "stdout",
     "output_type": "stream",
     "text": [
      "Early stopping, best iteration is:\n",
      "[14]\tvalid_0's l2: 5.31222e+09\n",
      "Training until validation scores don't improve for 50 rounds\n",
      "Early stopping, best iteration is:\n",
      "[584]\tvalid_0's l2: 5.29072e+09\n",
      "Training until validation scores don't improve for 50 rounds\n",
      "Early stopping, best iteration is:\n",
      "[490]\tvalid_0's l2: 5.27157e+09\n",
      "Training until validation scores don't improve for 50 rounds\n",
      "Early stopping, best iteration is:\n",
      "[467]\tvalid_0's l2: 5.26775e+09\n",
      "Training until validation scores don't improve for 50 rounds\n",
      "Early stopping, best iteration is:\n",
      "[519]\tvalid_0's l2: 5.25683e+09\n",
      "Training until validation scores don't improve for 50 rounds\n",
      "Early stopping, best iteration is:\n",
      "[484]\tvalid_0's l2: 5.2513e+09\n"
     ]
    },
    {
     "name": "stderr",
     "output_type": "stream",
     "text": [
      "[I 2024-09-23 17:26:59,578] Trial 4 finished with value: 72578.47205046941 and parameters: {'n_estimators': 1192, 'num_leaves': 482, 'max_depth': 52, 'learning_rate': 0.005677045861147304, 'subsample': 0.7986858241154422, 'colsample_bytree': 0.9514158801658137, 'reg_alpha': 0.00016119356219527467, 'reg_lambda': 0.2295120287772858, 'min_data_in_leaf': 43, 'feature_fraction': 0.6785908793172681, 'bagging_fraction': 0.5398065450779821, 'bagging_freq': 2, 'min_child_weight': 0.009645302925851532, 'cat_smooth': 59.405997991322664}. Best is trial 4 with value: 72578.47205046941.\n"
     ]
    },
    {
     "name": "stdout",
     "output_type": "stream",
     "text": [
      "Training until validation scores don't improve for 50 rounds\n",
      "Early stopping, best iteration is:\n",
      "[29]\tvalid_0's l2: 5.31469e+09\n",
      "Training until validation scores don't improve for 50 rounds\n",
      "Early stopping, best iteration is:\n",
      "[37]\tvalid_0's l2: 5.27534e+09\n",
      "Training until validation scores don't improve for 50 rounds\n",
      "Early stopping, best iteration is:\n",
      "[31]\tvalid_0's l2: 5.28761e+09\n",
      "Training until validation scores don't improve for 50 rounds\n",
      "Early stopping, best iteration is:\n",
      "[33]\tvalid_0's l2: 5.27181e+09\n",
      "Training until validation scores don't improve for 50 rounds\n"
     ]
    },
    {
     "name": "stderr",
     "output_type": "stream",
     "text": [
      "[I 2024-09-23 17:27:17,544] Trial 5 finished with value: 72669.90828644761 and parameters: {'n_estimators': 528, 'num_leaves': 472, 'max_depth': 26, 'learning_rate': 0.08118455774682055, 'subsample': 0.6731735750400165, 'colsample_bytree': 0.5215486781024972, 'reg_alpha': 0.01903229002492754, 'reg_lambda': 1.1296979705718802, 'min_data_in_leaf': 111, 'feature_fraction': 0.7087545719196335, 'bagging_fraction': 0.8027887821968784, 'bagging_freq': 3, 'min_child_weight': 0.38638467047838265, 'cat_smooth': 18.290082361212804}. Best is trial 4 with value: 72578.47205046941.\n"
     ]
    },
    {
     "name": "stdout",
     "output_type": "stream",
     "text": [
      "Early stopping, best iteration is:\n",
      "[30]\tvalid_0's l2: 5.25512e+09\n",
      "Training until validation scores don't improve for 50 rounds\n",
      "Early stopping, best iteration is:\n",
      "[533]\tvalid_0's l2: 5.29141e+09\n",
      "Training until validation scores don't improve for 50 rounds\n",
      "Early stopping, best iteration is:\n",
      "[550]\tvalid_0's l2: 5.26889e+09\n",
      "Training until validation scores don't improve for 50 rounds\n",
      "Early stopping, best iteration is:\n",
      "[603]\tvalid_0's l2: 5.27204e+09\n",
      "Training until validation scores don't improve for 50 rounds\n",
      "Early stopping, best iteration is:\n",
      "[576]\tvalid_0's l2: 5.26887e+09\n",
      "Training until validation scores don't improve for 50 rounds\n",
      "Early stopping, best iteration is:\n",
      "[508]\tvalid_0's l2: 5.25711e+09\n"
     ]
    },
    {
     "name": "stderr",
     "output_type": "stream",
     "text": [
      "[I 2024-09-23 17:29:11,700] Trial 6 finished with value: 72606.22646139759 and parameters: {'n_estimators': 710, 'num_leaves': 310, 'max_depth': 25, 'learning_rate': 0.005323872255879759, 'subsample': 0.778789094331322, 'colsample_bytree': 0.7827535099440838, 'reg_alpha': 7.092404300854912e-05, 'reg_lambda': 0.01483173321964085, 'min_data_in_leaf': 45, 'feature_fraction': 0.9894095728788213, 'bagging_fraction': 0.6698539218189319, 'bagging_freq': 3, 'min_child_weight': 72.85919281852098, 'cat_smooth': 27.591405563189507}. Best is trial 4 with value: 72578.47205046941.\n"
     ]
    },
    {
     "name": "stdout",
     "output_type": "stream",
     "text": [
      "Training until validation scores don't improve for 50 rounds\n",
      "Early stopping, best iteration is:\n",
      "[6]\tvalid_0's l2: 5.38456e+09\n",
      "Training until validation scores don't improve for 50 rounds\n",
      "Early stopping, best iteration is:\n",
      "[6]\tvalid_0's l2: 5.38618e+09\n",
      "Training until validation scores don't improve for 50 rounds\n",
      "Early stopping, best iteration is:\n",
      "[6]\tvalid_0's l2: 5.33482e+09\n",
      "Training until validation scores don't improve for 50 rounds\n",
      "Early stopping, best iteration is:\n",
      "[5]\tvalid_0's l2: 5.33459e+09\n",
      "Training until validation scores don't improve for 50 rounds\n"
     ]
    },
    {
     "name": "stderr",
     "output_type": "stream",
     "text": [
      "[I 2024-09-23 17:29:26,678] Trial 7 finished with value: 73181.88139077615 and parameters: {'n_estimators': 723, 'num_leaves': 508, 'max_depth': 39, 'learning_rate': 0.3645870608221405, 'subsample': 0.534048636768975, 'colsample_bytree': 0.7322654038896663, 'reg_alpha': 0.004916937769207978, 'reg_lambda': 0.7488782916686476, 'min_data_in_leaf': 87, 'feature_fraction': 0.5185472066172039, 'bagging_fraction': 0.6753281956415664, 'bagging_freq': 3, 'min_child_weight': 0.006286070313385454, 'cat_smooth': 32.53375211168362}. Best is trial 4 with value: 72578.47205046941.\n"
     ]
    },
    {
     "name": "stdout",
     "output_type": "stream",
     "text": [
      "Early stopping, best iteration is:\n",
      "[6]\tvalid_0's l2: 5.33779e+09\n",
      "Training until validation scores don't improve for 50 rounds\n",
      "Early stopping, best iteration is:\n",
      "[272]\tvalid_0's l2: 5.27845e+09\n",
      "Training until validation scores don't improve for 50 rounds\n",
      "Early stopping, best iteration is:\n",
      "[284]\tvalid_0's l2: 5.26955e+09\n",
      "Training until validation scores don't improve for 50 rounds\n",
      "Early stopping, best iteration is:\n",
      "[281]\tvalid_0's l2: 5.26111e+09\n",
      "Training until validation scores don't improve for 50 rounds\n",
      "Early stopping, best iteration is:\n",
      "[268]\tvalid_0's l2: 5.25906e+09\n",
      "Training until validation scores don't improve for 50 rounds\n",
      "Early stopping, best iteration is:\n",
      "[328]\tvalid_0's l2: 5.25144e+09\n"
     ]
    },
    {
     "name": "stderr",
     "output_type": "stream",
     "text": [
      "[I 2024-09-23 17:30:16,025] Trial 8 finished with value: 72552.89635175034 and parameters: {'n_estimators': 972, 'num_leaves': 363, 'max_depth': 12, 'learning_rate': 0.010314487673603769, 'subsample': 0.5540318863897262, 'colsample_bytree': 0.5894514042855452, 'reg_alpha': 0.02065202190439409, 'reg_lambda': 0.02893742513973448, 'min_data_in_leaf': 57, 'feature_fraction': 0.8762480851093014, 'bagging_fraction': 0.5534397921967846, 'bagging_freq': 4, 'min_child_weight': 0.06587365495478886, 'cat_smooth': 39.651139374964735}. Best is trial 8 with value: 72552.89635175034.\n"
     ]
    },
    {
     "name": "stdout",
     "output_type": "stream",
     "text": [
      "Training until validation scores don't improve for 50 rounds\n",
      "Did not meet early stopping. Best iteration is:\n",
      "[603]\tvalid_0's l2: 5.47449e+09\n",
      "Training until validation scores don't improve for 50 rounds\n",
      "Did not meet early stopping. Best iteration is:\n",
      "[603]\tvalid_0's l2: 5.45052e+09\n",
      "Training until validation scores don't improve for 50 rounds\n",
      "Did not meet early stopping. Best iteration is:\n",
      "[603]\tvalid_0's l2: 5.42898e+09\n",
      "Training until validation scores don't improve for 50 rounds\n",
      "Did not meet early stopping. Best iteration is:\n",
      "[603]\tvalid_0's l2: 5.44585e+09\n",
      "Training until validation scores don't improve for 50 rounds\n",
      "Did not meet early stopping. Best iteration is:\n",
      "[603]\tvalid_0's l2: 5.41448e+09\n"
     ]
    },
    {
     "name": "stderr",
     "output_type": "stream",
     "text": [
      "[I 2024-09-23 17:32:22,260] Trial 9 finished with value: 73775.76532852974 and parameters: {'n_estimators': 603, 'num_leaves': 373, 'max_depth': 42, 'learning_rate': 0.0013992136034385533, 'subsample': 0.6243062539013847, 'colsample_bytree': 0.7712042581140022, 'reg_alpha': 2.294246403767406e-06, 'reg_lambda': 0.03354641687863073, 'min_data_in_leaf': 114, 'feature_fraction': 0.9626784364338884, 'bagging_fraction': 0.7833749622874999, 'bagging_freq': 3, 'min_child_weight': 0.00012278919376690123, 'cat_smooth': 95.03843220828843}. Best is trial 8 with value: 72552.89635175034.\n",
      "c:\\Users\\lerch\\miniconda3\\envs\\cars\\Lib\\site-packages\\lightgbm\\engine.py:204: UserWarning: Found `n_estimators` in params. Will use it instead of argument\n",
      "  _log_warning(f\"Found `{alias}` in params. Will use it instead of argument\")\n"
     ]
    },
    {
     "name": "stdout",
     "output_type": "stream",
     "text": [
      "Training until validation scores don't improve for 50 rounds\n",
      "Early stopping, best iteration is:\n",
      "[332]\tvalid_0's l2: 5.28443e+09\n"
     ]
    },
    {
     "name": "stderr",
     "output_type": "stream",
     "text": [
      "c:\\Users\\lerch\\miniconda3\\envs\\cars\\Lib\\site-packages\\lightgbm\\engine.py:204: UserWarning: Found `n_estimators` in params. Will use it instead of argument\n",
      "  _log_warning(f\"Found `{alias}` in params. Will use it instead of argument\")\n"
     ]
    },
    {
     "name": "stdout",
     "output_type": "stream",
     "text": [
      "Training until validation scores don't improve for 50 rounds\n",
      "Early stopping, best iteration is:\n",
      "[248]\tvalid_0's l2: 5.27476e+09\n"
     ]
    },
    {
     "name": "stderr",
     "output_type": "stream",
     "text": [
      "c:\\Users\\lerch\\miniconda3\\envs\\cars\\Lib\\site-packages\\lightgbm\\engine.py:204: UserWarning: Found `n_estimators` in params. Will use it instead of argument\n",
      "  _log_warning(f\"Found `{alias}` in params. Will use it instead of argument\")\n"
     ]
    },
    {
     "name": "stdout",
     "output_type": "stream",
     "text": [
      "Training until validation scores don't improve for 50 rounds\n",
      "Early stopping, best iteration is:\n",
      "[288]\tvalid_0's l2: 5.26521e+09\n"
     ]
    },
    {
     "name": "stderr",
     "output_type": "stream",
     "text": [
      "c:\\Users\\lerch\\miniconda3\\envs\\cars\\Lib\\site-packages\\lightgbm\\engine.py:204: UserWarning: Found `n_estimators` in params. Will use it instead of argument\n",
      "  _log_warning(f\"Found `{alias}` in params. Will use it instead of argument\")\n"
     ]
    },
    {
     "name": "stdout",
     "output_type": "stream",
     "text": [
      "Training until validation scores don't improve for 50 rounds\n",
      "Early stopping, best iteration is:\n",
      "[256]\tvalid_0's l2: 5.26023e+09\n"
     ]
    },
    {
     "name": "stderr",
     "output_type": "stream",
     "text": [
      "c:\\Users\\lerch\\miniconda3\\envs\\cars\\Lib\\site-packages\\lightgbm\\engine.py:204: UserWarning: Found `n_estimators` in params. Will use it instead of argument\n",
      "  _log_warning(f\"Found `{alias}` in params. Will use it instead of argument\")\n"
     ]
    },
    {
     "name": "stdout",
     "output_type": "stream",
     "text": [
      "Training until validation scores don't improve for 50 rounds\n",
      "Early stopping, best iteration is:\n",
      "[312]\tvalid_0's l2: 5.24734e+09\n"
     ]
    },
    {
     "name": "stderr",
     "output_type": "stream",
     "text": [
      "[I 2024-09-23 17:33:15,204] A new study created in memory with name: no-name-12b61124-e856-4698-bedd-971fd8a7697a\n"
     ]
    },
    {
     "name": "stdout",
     "output_type": "stream",
     "text": [
      "Training until validation scores don't improve for 50 rounds\n",
      "Early stopping, best iteration is:\n",
      "[12]\tvalid_0's l2: 5.35503e+09\n",
      "Training until validation scores don't improve for 50 rounds\n",
      "Early stopping, best iteration is:\n",
      "[12]\tvalid_0's l2: 5.32203e+09\n",
      "Training until validation scores don't improve for 50 rounds\n",
      "Early stopping, best iteration is:\n",
      "[14]\tvalid_0's l2: 5.30152e+09\n",
      "Training until validation scores don't improve for 50 rounds\n",
      "Early stopping, best iteration is:\n",
      "[15]\tvalid_0's l2: 5.33669e+09\n",
      "Training until validation scores don't improve for 50 rounds\n"
     ]
    },
    {
     "name": "stderr",
     "output_type": "stream",
     "text": [
      "[I 2024-09-23 17:33:26,686] Trial 0 finished with value: 72966.0283878167 and parameters: {'n_estimators': 1040, 'num_leaves': 308, 'max_depth': 42, 'learning_rate': 0.17636469336159113, 'subsample': 0.7492535061512953, 'colsample_bytree': 0.6123983227654238, 'reg_alpha': 1.54304001490974e-06, 'reg_lambda': 1.1018509458263566, 'min_data_in_leaf': 53, 'feature_fraction': 0.5441699070870052, 'bagging_fraction': 0.8426799091838986, 'bagging_freq': 5, 'min_child_weight': 0.00010560624429728648, 'cat_smooth': 32.52312463051321}. Best is trial 0 with value: 72966.0283878167.\n"
     ]
    },
    {
     "name": "stdout",
     "output_type": "stream",
     "text": [
      "Early stopping, best iteration is:\n",
      "[14]\tvalid_0's l2: 5.30493e+09\n",
      "Training until validation scores don't improve for 50 rounds\n",
      "Early stopping, best iteration is:\n",
      "[315]\tvalid_0's l2: 5.3172e+09\n",
      "Training until validation scores don't improve for 50 rounds\n",
      "Early stopping, best iteration is:\n",
      "[343]\tvalid_0's l2: 5.25625e+09\n",
      "Training until validation scores don't improve for 50 rounds\n",
      "Early stopping, best iteration is:\n",
      "[359]\tvalid_0's l2: 5.25822e+09\n",
      "Training until validation scores don't improve for 50 rounds\n",
      "Early stopping, best iteration is:\n",
      "[382]\tvalid_0's l2: 5.27731e+09\n",
      "Training until validation scores don't improve for 50 rounds\n",
      "Early stopping, best iteration is:\n",
      "[307]\tvalid_0's l2: 5.25536e+09\n"
     ]
    },
    {
     "name": "stderr",
     "output_type": "stream",
     "text": [
      "[I 2024-09-23 17:35:26,593] Trial 1 finished with value: 72614.52095336831 and parameters: {'n_estimators': 1069, 'num_leaves': 545, 'max_depth': 46, 'learning_rate': 0.007509797119626296, 'subsample': 0.9588870612564717, 'colsample_bytree': 0.8572878916988453, 'reg_alpha': 0.0001799973901160094, 'reg_lambda': 0.0037040785712895334, 'min_data_in_leaf': 70, 'feature_fraction': 0.8370668075331726, 'bagging_fraction': 0.720916587211498, 'bagging_freq': 3, 'min_child_weight': 0.5088641679920515, 'cat_smooth': 32.59404363006922}. Best is trial 1 with value: 72614.52095336831.\n"
     ]
    },
    {
     "name": "stdout",
     "output_type": "stream",
     "text": [
      "Training until validation scores don't improve for 50 rounds\n",
      "Early stopping, best iteration is:\n",
      "[59]\tvalid_0's l2: 5.32777e+09\n",
      "Training until validation scores don't improve for 50 rounds\n",
      "Early stopping, best iteration is:\n",
      "[72]\tvalid_0's l2: 5.26392e+09\n",
      "Training until validation scores don't improve for 50 rounds\n",
      "Early stopping, best iteration is:\n",
      "[61]\tvalid_0's l2: 5.26767e+09\n",
      "Training until validation scores don't improve for 50 rounds\n",
      "Early stopping, best iteration is:\n",
      "[74]\tvalid_0's l2: 5.27939e+09\n",
      "Training until validation scores don't improve for 50 rounds\n"
     ]
    },
    {
     "name": "stderr",
     "output_type": "stream",
     "text": [
      "[I 2024-09-23 17:36:00,045] Trial 2 finished with value: 72676.42767540645 and parameters: {'n_estimators': 955, 'num_leaves': 541, 'max_depth': 51, 'learning_rate': 0.036723279424594156, 'subsample': 0.9543244404043341, 'colsample_bytree': 0.6596180444942726, 'reg_alpha': 3.4894428963481334e-07, 'reg_lambda': 0.015951452190168802, 'min_data_in_leaf': 49, 'feature_fraction': 0.9143406631538383, 'bagging_fraction': 0.5234481596946249, 'bagging_freq': 4, 'min_child_weight': 0.1929820588974466, 'cat_smooth': 65.96096423779524}. Best is trial 1 with value: 72614.52095336831.\n"
     ]
    },
    {
     "name": "stdout",
     "output_type": "stream",
     "text": [
      "Early stopping, best iteration is:\n",
      "[57]\tvalid_0's l2: 5.27058e+09\n",
      "Training until validation scores don't improve for 50 rounds\n",
      "Early stopping, best iteration is:\n",
      "[11]\tvalid_0's l2: 5.34124e+09\n",
      "Training until validation scores don't improve for 50 rounds\n",
      "Early stopping, best iteration is:\n",
      "[12]\tvalid_0's l2: 5.29839e+09\n",
      "Training until validation scores don't improve for 50 rounds\n",
      "Early stopping, best iteration is:\n",
      "[11]\tvalid_0's l2: 5.29368e+09\n",
      "Training until validation scores don't improve for 50 rounds\n",
      "Early stopping, best iteration is:\n",
      "[13]\tvalid_0's l2: 5.31124e+09\n",
      "Training until validation scores don't improve for 50 rounds\n"
     ]
    },
    {
     "name": "stderr",
     "output_type": "stream",
     "text": [
      "[I 2024-09-23 17:36:16,841] Trial 3 finished with value: 72879.08448681537 and parameters: {'n_estimators': 639, 'num_leaves': 643, 'max_depth': 27, 'learning_rate': 0.18362976337563003, 'subsample': 0.6479808534398394, 'colsample_bytree': 0.9419682397805931, 'reg_alpha': 8.97573097030888e-06, 'reg_lambda': 0.004571551229239351, 'min_data_in_leaf': 71, 'feature_fraction': 0.5467301872793251, 'bagging_fraction': 0.9105528289184642, 'bagging_freq': 1, 'min_child_weight': 0.020169108029984395, 'cat_smooth': 87.9550363117174}. Best is trial 1 with value: 72614.52095336831.\n"
     ]
    },
    {
     "name": "stdout",
     "output_type": "stream",
     "text": [
      "Early stopping, best iteration is:\n",
      "[11]\tvalid_0's l2: 5.31224e+09\n",
      "Training until validation scores don't improve for 50 rounds\n",
      "Early stopping, best iteration is:\n",
      "[414]\tvalid_0's l2: 5.3099e+09\n",
      "Training until validation scores don't improve for 50 rounds\n",
      "Early stopping, best iteration is:\n",
      "[578]\tvalid_0's l2: 5.25631e+09\n",
      "Training until validation scores don't improve for 50 rounds\n",
      "Early stopping, best iteration is:\n",
      "[468]\tvalid_0's l2: 5.2565e+09\n",
      "Training until validation scores don't improve for 50 rounds\n",
      "Early stopping, best iteration is:\n",
      "[500]\tvalid_0's l2: 5.26645e+09\n",
      "Training until validation scores don't improve for 50 rounds\n",
      "Early stopping, best iteration is:\n",
      "[459]\tvalid_0's l2: 5.25516e+09\n"
     ]
    },
    {
     "name": "stderr",
     "output_type": "stream",
     "text": [
      "[I 2024-09-23 17:38:35,594] Trial 4 finished with value: 72586.92579146106 and parameters: {'n_estimators': 1192, 'num_leaves': 482, 'max_depth': 52, 'learning_rate': 0.005677045861147304, 'subsample': 0.7986858241154422, 'colsample_bytree': 0.9514158801658137, 'reg_alpha': 0.00016119356219527467, 'reg_lambda': 0.2295120287772858, 'min_data_in_leaf': 43, 'feature_fraction': 0.6785908793172681, 'bagging_fraction': 0.5398065450779821, 'bagging_freq': 2, 'min_child_weight': 0.009645302925851532, 'cat_smooth': 59.405997991322664}. Best is trial 4 with value: 72586.92579146106.\n"
     ]
    },
    {
     "name": "stdout",
     "output_type": "stream",
     "text": [
      "Training until validation scores don't improve for 50 rounds\n",
      "Early stopping, best iteration is:\n",
      "[29]\tvalid_0's l2: 5.32233e+09\n",
      "Training until validation scores don't improve for 50 rounds\n",
      "Early stopping, best iteration is:\n",
      "[44]\tvalid_0's l2: 5.26363e+09\n",
      "Training until validation scores don't improve for 50 rounds\n",
      "Early stopping, best iteration is:\n",
      "[41]\tvalid_0's l2: 5.27006e+09\n",
      "Training until validation scores don't improve for 50 rounds\n",
      "Early stopping, best iteration is:\n",
      "[36]\tvalid_0's l2: 5.29205e+09\n",
      "Training until validation scores don't improve for 50 rounds\n"
     ]
    },
    {
     "name": "stderr",
     "output_type": "stream",
     "text": [
      "[I 2024-09-23 17:38:55,296] Trial 5 finished with value: 72668.4122669567 and parameters: {'n_estimators': 528, 'num_leaves': 472, 'max_depth': 26, 'learning_rate': 0.08118455774682055, 'subsample': 0.6731735750400165, 'colsample_bytree': 0.5215486781024972, 'reg_alpha': 0.01903229002492754, 'reg_lambda': 1.1296979705718802, 'min_data_in_leaf': 111, 'feature_fraction': 0.7087545719196335, 'bagging_fraction': 0.8027887821968784, 'bagging_freq': 3, 'min_child_weight': 0.38638467047838265, 'cat_smooth': 18.290082361212804}. Best is trial 4 with value: 72586.92579146106.\n"
     ]
    },
    {
     "name": "stdout",
     "output_type": "stream",
     "text": [
      "Early stopping, best iteration is:\n",
      "[37]\tvalid_0's l2: 5.25542e+09\n",
      "Training until validation scores don't improve for 50 rounds\n",
      "Early stopping, best iteration is:\n",
      "[429]\tvalid_0's l2: 5.31232e+09\n",
      "Training until validation scores don't improve for 50 rounds\n",
      "Early stopping, best iteration is:\n",
      "[546]\tvalid_0's l2: 5.25443e+09\n",
      "Training until validation scores don't improve for 50 rounds\n",
      "Early stopping, best iteration is:\n",
      "[501]\tvalid_0's l2: 5.26545e+09\n",
      "Training until validation scores don't improve for 50 rounds\n",
      "Early stopping, best iteration is:\n",
      "[513]\tvalid_0's l2: 5.27898e+09\n",
      "Training until validation scores don't improve for 50 rounds\n",
      "Early stopping, best iteration is:\n",
      "[453]\tvalid_0's l2: 5.25863e+09\n"
     ]
    },
    {
     "name": "stderr",
     "output_type": "stream",
     "text": [
      "[I 2024-09-23 17:40:43,446] Trial 6 finished with value: 72622.05313035139 and parameters: {'n_estimators': 710, 'num_leaves': 310, 'max_depth': 25, 'learning_rate': 0.005323872255879759, 'subsample': 0.778789094331322, 'colsample_bytree': 0.7827535099440838, 'reg_alpha': 7.092404300854912e-05, 'reg_lambda': 0.01483173321964085, 'min_data_in_leaf': 45, 'feature_fraction': 0.9894095728788213, 'bagging_fraction': 0.6698539218189319, 'bagging_freq': 3, 'min_child_weight': 72.85919281852098, 'cat_smooth': 27.591405563189507}. Best is trial 4 with value: 72586.92579146106.\n"
     ]
    },
    {
     "name": "stdout",
     "output_type": "stream",
     "text": [
      "Training until validation scores don't improve for 50 rounds\n",
      "Early stopping, best iteration is:\n",
      "[4]\tvalid_0's l2: 5.38599e+09\n",
      "Training until validation scores don't improve for 50 rounds\n",
      "Early stopping, best iteration is:\n",
      "[5]\tvalid_0's l2: 5.34804e+09\n",
      "Training until validation scores don't improve for 50 rounds\n",
      "Early stopping, best iteration is:\n",
      "[5]\tvalid_0's l2: 5.32865e+09\n",
      "Training until validation scores don't improve for 50 rounds\n",
      "Early stopping, best iteration is:\n",
      "[5]\tvalid_0's l2: 5.36347e+09\n",
      "Training until validation scores don't improve for 50 rounds\n"
     ]
    },
    {
     "name": "stderr",
     "output_type": "stream",
     "text": [
      "[I 2024-09-23 17:40:58,747] Trial 7 finished with value: 73117.61939989265 and parameters: {'n_estimators': 723, 'num_leaves': 508, 'max_depth': 39, 'learning_rate': 0.3645870608221405, 'subsample': 0.534048636768975, 'colsample_bytree': 0.7322654038896663, 'reg_alpha': 0.004916937769207978, 'reg_lambda': 0.7488782916686476, 'min_data_in_leaf': 87, 'feature_fraction': 0.5185472066172039, 'bagging_fraction': 0.6753281956415664, 'bagging_freq': 3, 'min_child_weight': 0.006286070313385454, 'cat_smooth': 32.53375211168362}. Best is trial 4 with value: 72586.92579146106.\n"
     ]
    },
    {
     "name": "stdout",
     "output_type": "stream",
     "text": [
      "Early stopping, best iteration is:\n",
      "[5]\tvalid_0's l2: 5.30478e+09\n",
      "Training until validation scores don't improve for 50 rounds\n",
      "Early stopping, best iteration is:\n",
      "[224]\tvalid_0's l2: 5.30794e+09\n",
      "Training until validation scores don't improve for 50 rounds\n",
      "Early stopping, best iteration is:\n",
      "[338]\tvalid_0's l2: 5.25793e+09\n",
      "Training until validation scores don't improve for 50 rounds\n",
      "Early stopping, best iteration is:\n",
      "[272]\tvalid_0's l2: 5.25456e+09\n",
      "Training until validation scores don't improve for 50 rounds\n",
      "Early stopping, best iteration is:\n",
      "[292]\tvalid_0's l2: 5.26286e+09\n",
      "Training until validation scores don't improve for 50 rounds\n",
      "Early stopping, best iteration is:\n",
      "[262]\tvalid_0's l2: 5.25617e+09\n"
     ]
    },
    {
     "name": "stderr",
     "output_type": "stream",
     "text": [
      "[I 2024-09-23 17:41:48,055] Trial 8 finished with value: 72580.25023190174 and parameters: {'n_estimators': 972, 'num_leaves': 363, 'max_depth': 12, 'learning_rate': 0.010314487673603769, 'subsample': 0.5540318863897262, 'colsample_bytree': 0.5894514042855452, 'reg_alpha': 0.02065202190439409, 'reg_lambda': 0.02893742513973448, 'min_data_in_leaf': 57, 'feature_fraction': 0.8762480851093014, 'bagging_fraction': 0.5534397921967846, 'bagging_freq': 4, 'min_child_weight': 0.06587365495478886, 'cat_smooth': 39.651139374964735}. Best is trial 8 with value: 72580.25023190174.\n"
     ]
    },
    {
     "name": "stdout",
     "output_type": "stream",
     "text": [
      "Training until validation scores don't improve for 50 rounds\n",
      "Did not meet early stopping. Best iteration is:\n",
      "[603]\tvalid_0's l2: 5.47257e+09\n",
      "Training until validation scores don't improve for 50 rounds\n",
      "Did not meet early stopping. Best iteration is:\n",
      "[603]\tvalid_0's l2: 5.44795e+09\n",
      "Training until validation scores don't improve for 50 rounds\n",
      "Did not meet early stopping. Best iteration is:\n",
      "[603]\tvalid_0's l2: 5.42547e+09\n",
      "Training until validation scores don't improve for 50 rounds\n",
      "Did not meet early stopping. Best iteration is:\n",
      "[603]\tvalid_0's l2: 5.4543e+09\n",
      "Training until validation scores don't improve for 50 rounds\n",
      "Did not meet early stopping. Best iteration is:\n",
      "[603]\tvalid_0's l2: 5.4123e+09\n"
     ]
    },
    {
     "name": "stderr",
     "output_type": "stream",
     "text": [
      "[I 2024-09-23 17:43:50,861] Trial 9 finished with value: 73773.41592548373 and parameters: {'n_estimators': 603, 'num_leaves': 373, 'max_depth': 42, 'learning_rate': 0.0013992136034385533, 'subsample': 0.6243062539013847, 'colsample_bytree': 0.7712042581140022, 'reg_alpha': 2.294246403767406e-06, 'reg_lambda': 0.03354641687863073, 'min_data_in_leaf': 114, 'feature_fraction': 0.9626784364338884, 'bagging_fraction': 0.7833749622874999, 'bagging_freq': 3, 'min_child_weight': 0.00012278919376690123, 'cat_smooth': 95.03843220828843}. Best is trial 8 with value: 72580.25023190174.\n",
      "c:\\Users\\lerch\\miniconda3\\envs\\cars\\Lib\\site-packages\\lightgbm\\engine.py:204: UserWarning: Found `n_estimators` in params. Will use it instead of argument\n",
      "  _log_warning(f\"Found `{alias}` in params. Will use it instead of argument\")\n"
     ]
    },
    {
     "name": "stdout",
     "output_type": "stream",
     "text": [
      "Training until validation scores don't improve for 50 rounds\n",
      "Early stopping, best iteration is:\n",
      "[241]\tvalid_0's l2: 5.30903e+09\n"
     ]
    },
    {
     "name": "stderr",
     "output_type": "stream",
     "text": [
      "c:\\Users\\lerch\\miniconda3\\envs\\cars\\Lib\\site-packages\\lightgbm\\engine.py:204: UserWarning: Found `n_estimators` in params. Will use it instead of argument\n",
      "  _log_warning(f\"Found `{alias}` in params. Will use it instead of argument\")\n"
     ]
    },
    {
     "name": "stdout",
     "output_type": "stream",
     "text": [
      "Training until validation scores don't improve for 50 rounds\n",
      "Early stopping, best iteration is:\n",
      "[298]\tvalid_0's l2: 5.25029e+09\n"
     ]
    },
    {
     "name": "stderr",
     "output_type": "stream",
     "text": [
      "c:\\Users\\lerch\\miniconda3\\envs\\cars\\Lib\\site-packages\\lightgbm\\engine.py:204: UserWarning: Found `n_estimators` in params. Will use it instead of argument\n",
      "  _log_warning(f\"Found `{alias}` in params. Will use it instead of argument\")\n"
     ]
    },
    {
     "name": "stdout",
     "output_type": "stream",
     "text": [
      "Training until validation scores don't improve for 50 rounds\n",
      "Early stopping, best iteration is:\n",
      "[269]\tvalid_0's l2: 5.25489e+09\n"
     ]
    },
    {
     "name": "stderr",
     "output_type": "stream",
     "text": [
      "c:\\Users\\lerch\\miniconda3\\envs\\cars\\Lib\\site-packages\\lightgbm\\engine.py:204: UserWarning: Found `n_estimators` in params. Will use it instead of argument\n",
      "  _log_warning(f\"Found `{alias}` in params. Will use it instead of argument\")\n"
     ]
    },
    {
     "name": "stdout",
     "output_type": "stream",
     "text": [
      "Training until validation scores don't improve for 50 rounds\n",
      "Early stopping, best iteration is:\n",
      "[290]\tvalid_0's l2: 5.27076e+09\n"
     ]
    },
    {
     "name": "stderr",
     "output_type": "stream",
     "text": [
      "c:\\Users\\lerch\\miniconda3\\envs\\cars\\Lib\\site-packages\\lightgbm\\engine.py:204: UserWarning: Found `n_estimators` in params. Will use it instead of argument\n",
      "  _log_warning(f\"Found `{alias}` in params. Will use it instead of argument\")\n"
     ]
    },
    {
     "name": "stdout",
     "output_type": "stream",
     "text": [
      "Training until validation scores don't improve for 50 rounds\n",
      "Early stopping, best iteration is:\n",
      "[275]\tvalid_0's l2: 5.25187e+09\n"
     ]
    },
    {
     "name": "stderr",
     "output_type": "stream",
     "text": [
      "[I 2024-09-23 17:44:42,908] A new study created in memory with name: no-name-615a7e57-2db6-4e3b-a7bf-07264e956c8d\n"
     ]
    },
    {
     "name": "stdout",
     "output_type": "stream",
     "text": [
      "Training until validation scores don't improve for 50 rounds\n",
      "Early stopping, best iteration is:\n",
      "[11]\tvalid_0's l2: 5.33624e+09\n",
      "Training until validation scores don't improve for 50 rounds\n",
      "Early stopping, best iteration is:\n",
      "[17]\tvalid_0's l2: 5.30536e+09\n",
      "Training until validation scores don't improve for 50 rounds\n",
      "Early stopping, best iteration is:\n",
      "[12]\tvalid_0's l2: 5.30552e+09\n",
      "Training until validation scores don't improve for 50 rounds\n",
      "Early stopping, best iteration is:\n",
      "[12]\tvalid_0's l2: 5.29735e+09\n",
      "Training until validation scores don't improve for 50 rounds\n"
     ]
    },
    {
     "name": "stderr",
     "output_type": "stream",
     "text": [
      "[I 2024-09-23 17:44:54,460] Trial 0 finished with value: 72823.62148169563 and parameters: {'n_estimators': 1040, 'num_leaves': 308, 'max_depth': 42, 'learning_rate': 0.17636469336159113, 'subsample': 0.7492535061512953, 'colsample_bytree': 0.6123983227654238, 'reg_alpha': 1.54304001490974e-06, 'reg_lambda': 1.1018509458263566, 'min_data_in_leaf': 53, 'feature_fraction': 0.5441699070870052, 'bagging_fraction': 0.8426799091838986, 'bagging_freq': 5, 'min_child_weight': 0.00010560624429728648, 'cat_smooth': 32.52312463051321}. Best is trial 0 with value: 72823.62148169563.\n"
     ]
    },
    {
     "name": "stdout",
     "output_type": "stream",
     "text": [
      "Early stopping, best iteration is:\n",
      "[12]\tvalid_0's l2: 5.27192e+09\n",
      "Training until validation scores don't improve for 50 rounds\n",
      "Early stopping, best iteration is:\n",
      "[305]\tvalid_0's l2: 5.31265e+09\n",
      "Training until validation scores don't improve for 50 rounds\n",
      "Early stopping, best iteration is:\n",
      "[387]\tvalid_0's l2: 5.25009e+09\n",
      "Training until validation scores don't improve for 50 rounds\n",
      "Early stopping, best iteration is:\n",
      "[402]\tvalid_0's l2: 5.2469e+09\n",
      "Training until validation scores don't improve for 50 rounds\n",
      "Early stopping, best iteration is:\n",
      "[387]\tvalid_0's l2: 5.25391e+09\n",
      "Training until validation scores don't improve for 50 rounds\n",
      "Early stopping, best iteration is:\n",
      "[444]\tvalid_0's l2: 5.23249e+09\n"
     ]
    },
    {
     "name": "stderr",
     "output_type": "stream",
     "text": [
      "[I 2024-09-23 17:47:06,192] Trial 1 finished with value: 72520.39512514007 and parameters: {'n_estimators': 1069, 'num_leaves': 545, 'max_depth': 46, 'learning_rate': 0.007509797119626296, 'subsample': 0.9588870612564717, 'colsample_bytree': 0.8572878916988453, 'reg_alpha': 0.0001799973901160094, 'reg_lambda': 0.0037040785712895334, 'min_data_in_leaf': 70, 'feature_fraction': 0.8370668075331726, 'bagging_fraction': 0.720916587211498, 'bagging_freq': 3, 'min_child_weight': 0.5088641679920515, 'cat_smooth': 32.59404363006922}. Best is trial 1 with value: 72520.39512514007.\n"
     ]
    },
    {
     "name": "stdout",
     "output_type": "stream",
     "text": [
      "Training until validation scores don't improve for 50 rounds\n",
      "Early stopping, best iteration is:\n",
      "[58]\tvalid_0's l2: 5.3255e+09\n",
      "Training until validation scores don't improve for 50 rounds\n",
      "Early stopping, best iteration is:\n",
      "[67]\tvalid_0's l2: 5.25399e+09\n",
      "Training until validation scores don't improve for 50 rounds\n",
      "Early stopping, best iteration is:\n",
      "[60]\tvalid_0's l2: 5.26767e+09\n",
      "Training until validation scores don't improve for 50 rounds\n",
      "Early stopping, best iteration is:\n",
      "[82]\tvalid_0's l2: 5.27544e+09\n",
      "Training until validation scores don't improve for 50 rounds\n"
     ]
    },
    {
     "name": "stderr",
     "output_type": "stream",
     "text": [
      "[I 2024-09-23 17:47:38,101] Trial 2 finished with value: 72644.08185947908 and parameters: {'n_estimators': 955, 'num_leaves': 541, 'max_depth': 51, 'learning_rate': 0.036723279424594156, 'subsample': 0.9543244404043341, 'colsample_bytree': 0.6596180444942726, 'reg_alpha': 3.4894428963481334e-07, 'reg_lambda': 0.015951452190168802, 'min_data_in_leaf': 49, 'feature_fraction': 0.9143406631538383, 'bagging_fraction': 0.5234481596946249, 'bagging_freq': 4, 'min_child_weight': 0.1929820588974466, 'cat_smooth': 65.96096423779524}. Best is trial 1 with value: 72520.39512514007.\n"
     ]
    },
    {
     "name": "stdout",
     "output_type": "stream",
     "text": [
      "Early stopping, best iteration is:\n",
      "[57]\tvalid_0's l2: 5.26322e+09\n",
      "Training until validation scores don't improve for 50 rounds\n",
      "Early stopping, best iteration is:\n",
      "[11]\tvalid_0's l2: 5.34961e+09\n",
      "Training until validation scores don't improve for 50 rounds\n",
      "Early stopping, best iteration is:\n",
      "[11]\tvalid_0's l2: 5.30708e+09\n",
      "Training until validation scores don't improve for 50 rounds\n",
      "Early stopping, best iteration is:\n",
      "[12]\tvalid_0's l2: 5.28314e+09\n",
      "Training until validation scores don't improve for 50 rounds\n",
      "Early stopping, best iteration is:\n",
      "[14]\tvalid_0's l2: 5.29667e+09\n",
      "Training until validation scores don't improve for 50 rounds\n"
     ]
    },
    {
     "name": "stderr",
     "output_type": "stream",
     "text": [
      "[I 2024-09-23 17:47:54,843] Trial 3 finished with value: 72835.13106600623 and parameters: {'n_estimators': 639, 'num_leaves': 643, 'max_depth': 27, 'learning_rate': 0.18362976337563003, 'subsample': 0.6479808534398394, 'colsample_bytree': 0.9419682397805931, 'reg_alpha': 8.97573097030888e-06, 'reg_lambda': 0.004571551229239351, 'min_data_in_leaf': 71, 'feature_fraction': 0.5467301872793251, 'bagging_fraction': 0.9105528289184642, 'bagging_freq': 1, 'min_child_weight': 0.020169108029984395, 'cat_smooth': 87.9550363117174}. Best is trial 1 with value: 72520.39512514007.\n"
     ]
    },
    {
     "name": "stdout",
     "output_type": "stream",
     "text": [
      "Early stopping, best iteration is:\n",
      "[12]\tvalid_0's l2: 5.28828e+09\n",
      "Training until validation scores don't improve for 50 rounds\n",
      "Early stopping, best iteration is:\n",
      "[419]\tvalid_0's l2: 5.31666e+09\n",
      "Training until validation scores don't improve for 50 rounds\n",
      "Early stopping, best iteration is:\n",
      "[538]\tvalid_0's l2: 5.25195e+09\n",
      "Training until validation scores don't improve for 50 rounds\n",
      "Early stopping, best iteration is:\n",
      "[493]\tvalid_0's l2: 5.24292e+09\n",
      "Training until validation scores don't improve for 50 rounds\n",
      "Early stopping, best iteration is:\n",
      "[497]\tvalid_0's l2: 5.25733e+09\n",
      "Training until validation scores don't improve for 50 rounds\n",
      "Early stopping, best iteration is:\n",
      "[423]\tvalid_0's l2: 5.22911e+09\n"
     ]
    },
    {
     "name": "stderr",
     "output_type": "stream",
     "text": [
      "[I 2024-09-23 17:50:14,106] Trial 4 finished with value: 72523.05665226732 and parameters: {'n_estimators': 1192, 'num_leaves': 482, 'max_depth': 52, 'learning_rate': 0.005677045861147304, 'subsample': 0.7986858241154422, 'colsample_bytree': 0.9514158801658137, 'reg_alpha': 0.00016119356219527467, 'reg_lambda': 0.2295120287772858, 'min_data_in_leaf': 43, 'feature_fraction': 0.6785908793172681, 'bagging_fraction': 0.5398065450779821, 'bagging_freq': 2, 'min_child_weight': 0.009645302925851532, 'cat_smooth': 59.405997991322664}. Best is trial 1 with value: 72520.39512514007.\n"
     ]
    },
    {
     "name": "stdout",
     "output_type": "stream",
     "text": [
      "Training until validation scores don't improve for 50 rounds\n",
      "Early stopping, best iteration is:\n",
      "[34]\tvalid_0's l2: 5.31377e+09\n",
      "Training until validation scores don't improve for 50 rounds\n",
      "Early stopping, best iteration is:\n",
      "[34]\tvalid_0's l2: 5.2681e+09\n",
      "Training until validation scores don't improve for 50 rounds\n",
      "Early stopping, best iteration is:\n",
      "[35]\tvalid_0's l2: 5.25661e+09\n",
      "Training until validation scores don't improve for 50 rounds\n",
      "Early stopping, best iteration is:\n",
      "[33]\tvalid_0's l2: 5.25419e+09\n",
      "Training until validation scores don't improve for 50 rounds\n"
     ]
    },
    {
     "name": "stderr",
     "output_type": "stream",
     "text": [
      "[I 2024-09-23 17:50:32,764] Trial 5 finished with value: 72586.97646930242 and parameters: {'n_estimators': 528, 'num_leaves': 472, 'max_depth': 26, 'learning_rate': 0.08118455774682055, 'subsample': 0.6731735750400165, 'colsample_bytree': 0.5215486781024972, 'reg_alpha': 0.01903229002492754, 'reg_lambda': 1.1296979705718802, 'min_data_in_leaf': 111, 'feature_fraction': 0.7087545719196335, 'bagging_fraction': 0.8027887821968784, 'bagging_freq': 3, 'min_child_weight': 0.38638467047838265, 'cat_smooth': 18.290082361212804}. Best is trial 1 with value: 72520.39512514007.\n"
     ]
    },
    {
     "name": "stdout",
     "output_type": "stream",
     "text": [
      "Early stopping, best iteration is:\n",
      "[35]\tvalid_0's l2: 5.25168e+09\n",
      "Training until validation scores don't improve for 50 rounds\n",
      "Early stopping, best iteration is:\n",
      "[456]\tvalid_0's l2: 5.31893e+09\n",
      "Training until validation scores don't improve for 50 rounds\n",
      "Early stopping, best iteration is:\n",
      "[534]\tvalid_0's l2: 5.24625e+09\n",
      "Training until validation scores don't improve for 50 rounds\n",
      "Early stopping, best iteration is:\n",
      "[513]\tvalid_0's l2: 5.26127e+09\n",
      "Training until validation scores don't improve for 50 rounds\n",
      "Early stopping, best iteration is:\n",
      "[514]\tvalid_0's l2: 5.2637e+09\n",
      "Training until validation scores don't improve for 50 rounds\n",
      "Early stopping, best iteration is:\n",
      "[579]\tvalid_0's l2: 5.23222e+09\n"
     ]
    },
    {
     "name": "stderr",
     "output_type": "stream",
     "text": [
      "[I 2024-09-23 17:52:18,637] Trial 6 finished with value: 72556.69380950756 and parameters: {'n_estimators': 710, 'num_leaves': 310, 'max_depth': 25, 'learning_rate': 0.005323872255879759, 'subsample': 0.778789094331322, 'colsample_bytree': 0.7827535099440838, 'reg_alpha': 7.092404300854912e-05, 'reg_lambda': 0.01483173321964085, 'min_data_in_leaf': 45, 'feature_fraction': 0.9894095728788213, 'bagging_fraction': 0.6698539218189319, 'bagging_freq': 3, 'min_child_weight': 72.85919281852098, 'cat_smooth': 27.591405563189507}. Best is trial 1 with value: 72520.39512514007.\n"
     ]
    },
    {
     "name": "stdout",
     "output_type": "stream",
     "text": [
      "Training until validation scores don't improve for 50 rounds\n",
      "Early stopping, best iteration is:\n",
      "[5]\tvalid_0's l2: 5.39794e+09\n",
      "Training until validation scores don't improve for 50 rounds\n",
      "Early stopping, best iteration is:\n",
      "[5]\tvalid_0's l2: 5.35088e+09\n",
      "Training until validation scores don't improve for 50 rounds\n",
      "Early stopping, best iteration is:\n",
      "[5]\tvalid_0's l2: 5.33828e+09\n",
      "Training until validation scores don't improve for 50 rounds\n",
      "Early stopping, best iteration is:\n",
      "[5]\tvalid_0's l2: 5.34168e+09\n",
      "Training until validation scores don't improve for 50 rounds\n"
     ]
    },
    {
     "name": "stderr",
     "output_type": "stream",
     "text": [
      "[I 2024-09-23 17:52:34,991] Trial 7 finished with value: 73134.90840172318 and parameters: {'n_estimators': 723, 'num_leaves': 508, 'max_depth': 39, 'learning_rate': 0.3645870608221405, 'subsample': 0.534048636768975, 'colsample_bytree': 0.7322654038896663, 'reg_alpha': 0.004916937769207978, 'reg_lambda': 0.7488782916686476, 'min_data_in_leaf': 87, 'feature_fraction': 0.5185472066172039, 'bagging_fraction': 0.6753281956415664, 'bagging_freq': 3, 'min_child_weight': 0.006286070313385454, 'cat_smooth': 32.53375211168362}. Best is trial 1 with value: 72520.39512514007.\n"
     ]
    },
    {
     "name": "stdout",
     "output_type": "stream",
     "text": [
      "Early stopping, best iteration is:\n",
      "[5]\tvalid_0's l2: 5.31479e+09\n",
      "Training until validation scores don't improve for 50 rounds\n",
      "Early stopping, best iteration is:\n",
      "[245]\tvalid_0's l2: 5.3105e+09\n",
      "Training until validation scores don't improve for 50 rounds\n",
      "Early stopping, best iteration is:\n",
      "[340]\tvalid_0's l2: 5.24913e+09\n",
      "Training until validation scores don't improve for 50 rounds\n",
      "Early stopping, best iteration is:\n",
      "[278]\tvalid_0's l2: 5.24569e+09\n",
      "Training until validation scores don't improve for 50 rounds\n",
      "Early stopping, best iteration is:\n",
      "[353]\tvalid_0's l2: 5.25057e+09\n",
      "Training until validation scores don't improve for 50 rounds\n",
      "Early stopping, best iteration is:\n",
      "[292]\tvalid_0's l2: 5.22423e+09\n"
     ]
    },
    {
     "name": "stderr",
     "output_type": "stream",
     "text": [
      "[I 2024-09-23 17:53:23,627] Trial 8 finished with value: 72498.45191982217 and parameters: {'n_estimators': 972, 'num_leaves': 363, 'max_depth': 12, 'learning_rate': 0.010314487673603769, 'subsample': 0.5540318863897262, 'colsample_bytree': 0.5894514042855452, 'reg_alpha': 0.02065202190439409, 'reg_lambda': 0.02893742513973448, 'min_data_in_leaf': 57, 'feature_fraction': 0.8762480851093014, 'bagging_fraction': 0.5534397921967846, 'bagging_freq': 4, 'min_child_weight': 0.06587365495478886, 'cat_smooth': 39.651139374964735}. Best is trial 8 with value: 72498.45191982217.\n"
     ]
    },
    {
     "name": "stdout",
     "output_type": "stream",
     "text": [
      "Training until validation scores don't improve for 50 rounds\n",
      "Did not meet early stopping. Best iteration is:\n",
      "[603]\tvalid_0's l2: 5.47725e+09\n",
      "Training until validation scores don't improve for 50 rounds\n",
      "Did not meet early stopping. Best iteration is:\n",
      "[603]\tvalid_0's l2: 5.44239e+09\n",
      "Training until validation scores don't improve for 50 rounds\n",
      "Did not meet early stopping. Best iteration is:\n",
      "[603]\tvalid_0's l2: 5.4191e+09\n",
      "Training until validation scores don't improve for 50 rounds\n",
      "Did not meet early stopping. Best iteration is:\n",
      "[603]\tvalid_0's l2: 5.43963e+09\n",
      "Training until validation scores don't improve for 50 rounds\n",
      "Did not meet early stopping. Best iteration is:\n",
      "[603]\tvalid_0's l2: 5.4035e+09\n"
     ]
    },
    {
     "name": "stderr",
     "output_type": "stream",
     "text": [
      "[I 2024-09-23 17:55:31,760] Trial 9 finished with value: 73731.78008820178 and parameters: {'n_estimators': 603, 'num_leaves': 373, 'max_depth': 42, 'learning_rate': 0.0013992136034385533, 'subsample': 0.6243062539013847, 'colsample_bytree': 0.7712042581140022, 'reg_alpha': 2.294246403767406e-06, 'reg_lambda': 0.03354641687863073, 'min_data_in_leaf': 114, 'feature_fraction': 0.9626784364338884, 'bagging_fraction': 0.7833749622874999, 'bagging_freq': 3, 'min_child_weight': 0.00012278919376690123, 'cat_smooth': 95.03843220828843}. Best is trial 8 with value: 72498.45191982217.\n",
      "c:\\Users\\lerch\\miniconda3\\envs\\cars\\Lib\\site-packages\\lightgbm\\engine.py:204: UserWarning: Found `n_estimators` in params. Will use it instead of argument\n",
      "  _log_warning(f\"Found `{alias}` in params. Will use it instead of argument\")\n"
     ]
    },
    {
     "name": "stdout",
     "output_type": "stream",
     "text": [
      "Training until validation scores don't improve for 50 rounds\n",
      "Early stopping, best iteration is:\n",
      "[323]\tvalid_0's l2: 5.31795e+09\n"
     ]
    },
    {
     "name": "stderr",
     "output_type": "stream",
     "text": [
      "c:\\Users\\lerch\\miniconda3\\envs\\cars\\Lib\\site-packages\\lightgbm\\engine.py:204: UserWarning: Found `n_estimators` in params. Will use it instead of argument\n",
      "  _log_warning(f\"Found `{alias}` in params. Will use it instead of argument\")\n"
     ]
    },
    {
     "name": "stdout",
     "output_type": "stream",
     "text": [
      "Training until validation scores don't improve for 50 rounds\n",
      "Early stopping, best iteration is:\n",
      "[316]\tvalid_0's l2: 5.25219e+09\n"
     ]
    },
    {
     "name": "stderr",
     "output_type": "stream",
     "text": [
      "c:\\Users\\lerch\\miniconda3\\envs\\cars\\Lib\\site-packages\\lightgbm\\engine.py:204: UserWarning: Found `n_estimators` in params. Will use it instead of argument\n",
      "  _log_warning(f\"Found `{alias}` in params. Will use it instead of argument\")\n"
     ]
    },
    {
     "name": "stdout",
     "output_type": "stream",
     "text": [
      "Training until validation scores don't improve for 50 rounds\n",
      "Early stopping, best iteration is:\n",
      "[404]\tvalid_0's l2: 5.24666e+09\n"
     ]
    },
    {
     "name": "stderr",
     "output_type": "stream",
     "text": [
      "c:\\Users\\lerch\\miniconda3\\envs\\cars\\Lib\\site-packages\\lightgbm\\engine.py:204: UserWarning: Found `n_estimators` in params. Will use it instead of argument\n",
      "  _log_warning(f\"Found `{alias}` in params. Will use it instead of argument\")\n"
     ]
    },
    {
     "name": "stdout",
     "output_type": "stream",
     "text": [
      "Training until validation scores don't improve for 50 rounds\n",
      "Early stopping, best iteration is:\n",
      "[284]\tvalid_0's l2: 5.25144e+09\n"
     ]
    },
    {
     "name": "stderr",
     "output_type": "stream",
     "text": [
      "c:\\Users\\lerch\\miniconda3\\envs\\cars\\Lib\\site-packages\\lightgbm\\engine.py:204: UserWarning: Found `n_estimators` in params. Will use it instead of argument\n",
      "  _log_warning(f\"Found `{alias}` in params. Will use it instead of argument\")\n"
     ]
    },
    {
     "name": "stdout",
     "output_type": "stream",
     "text": [
      "Training until validation scores don't improve for 50 rounds\n",
      "Early stopping, best iteration is:\n",
      "[312]\tvalid_0's l2: 5.2263e+09\n"
     ]
    },
    {
     "name": "stderr",
     "output_type": "stream",
     "text": [
      "[I 2024-09-23 17:56:27,837] A new study created in memory with name: no-name-470bcc7f-16a0-4edc-9322-4a2743269971\n"
     ]
    },
    {
     "name": "stdout",
     "output_type": "stream",
     "text": [
      "Training until validation scores don't improve for 50 rounds\n",
      "Early stopping, best iteration is:\n",
      "[13]\tvalid_0's l2: 5.34596e+09\n",
      "Training until validation scores don't improve for 50 rounds\n",
      "Early stopping, best iteration is:\n",
      "[14]\tvalid_0's l2: 5.32861e+09\n",
      "Training until validation scores don't improve for 50 rounds\n",
      "Early stopping, best iteration is:\n",
      "[13]\tvalid_0's l2: 5.30064e+09\n",
      "Training until validation scores don't improve for 50 rounds\n",
      "Early stopping, best iteration is:\n",
      "[16]\tvalid_0's l2: 5.30224e+09\n",
      "Training until validation scores don't improve for 50 rounds\n"
     ]
    },
    {
     "name": "stderr",
     "output_type": "stream",
     "text": [
      "[I 2024-09-23 17:56:39,486] Trial 0 finished with value: 72863.75108672184 and parameters: {'n_estimators': 1040, 'num_leaves': 308, 'max_depth': 42, 'learning_rate': 0.17636469336159113, 'subsample': 0.7492535061512953, 'colsample_bytree': 0.6123983227654238, 'reg_alpha': 1.54304001490974e-06, 'reg_lambda': 1.1018509458263566, 'min_data_in_leaf': 53, 'feature_fraction': 0.5441699070870052, 'bagging_fraction': 0.8426799091838986, 'bagging_freq': 5, 'min_child_weight': 0.00010560624429728648, 'cat_smooth': 32.52312463051321}. Best is trial 0 with value: 72863.75108672184.\n"
     ]
    },
    {
     "name": "stdout",
     "output_type": "stream",
     "text": [
      "Early stopping, best iteration is:\n",
      "[11]\tvalid_0's l2: 5.26818e+09\n",
      "Training until validation scores don't improve for 50 rounds\n",
      "Early stopping, best iteration is:\n",
      "[351]\tvalid_0's l2: 5.30986e+09\n",
      "Training until validation scores don't improve for 50 rounds\n",
      "Early stopping, best iteration is:\n",
      "[372]\tvalid_0's l2: 5.27386e+09\n",
      "Training until validation scores don't improve for 50 rounds\n",
      "Early stopping, best iteration is:\n",
      "[378]\tvalid_0's l2: 5.26802e+09\n",
      "Training until validation scores don't improve for 50 rounds\n",
      "Early stopping, best iteration is:\n",
      "[438]\tvalid_0's l2: 5.24399e+09\n",
      "Training until validation scores don't improve for 50 rounds\n",
      "Early stopping, best iteration is:\n",
      "[398]\tvalid_0's l2: 5.24117e+09\n"
     ]
    },
    {
     "name": "stderr",
     "output_type": "stream",
     "text": [
      "[I 2024-09-23 17:58:45,924] Trial 1 finished with value: 72576.7093905701 and parameters: {'n_estimators': 1069, 'num_leaves': 545, 'max_depth': 46, 'learning_rate': 0.007509797119626296, 'subsample': 0.9588870612564717, 'colsample_bytree': 0.8572878916988453, 'reg_alpha': 0.0001799973901160094, 'reg_lambda': 0.0037040785712895334, 'min_data_in_leaf': 70, 'feature_fraction': 0.8370668075331726, 'bagging_fraction': 0.720916587211498, 'bagging_freq': 3, 'min_child_weight': 0.5088641679920515, 'cat_smooth': 32.59404363006922}. Best is trial 1 with value: 72576.7093905701.\n"
     ]
    },
    {
     "name": "stdout",
     "output_type": "stream",
     "text": [
      "Training until validation scores don't improve for 50 rounds\n",
      "Early stopping, best iteration is:\n",
      "[89]\tvalid_0's l2: 5.33425e+09\n",
      "Training until validation scores don't improve for 50 rounds\n",
      "Early stopping, best iteration is:\n",
      "[63]\tvalid_0's l2: 5.28356e+09\n",
      "Training until validation scores don't improve for 50 rounds\n",
      "Early stopping, best iteration is:\n",
      "[59]\tvalid_0's l2: 5.27775e+09\n",
      "Training until validation scores don't improve for 50 rounds\n",
      "Early stopping, best iteration is:\n",
      "[67]\tvalid_0's l2: 5.25662e+09\n",
      "Training until validation scores don't improve for 50 rounds\n"
     ]
    },
    {
     "name": "stderr",
     "output_type": "stream",
     "text": [
      "[I 2024-09-23 17:59:19,842] Trial 2 finished with value: 72651.55104511666 and parameters: {'n_estimators': 955, 'num_leaves': 541, 'max_depth': 51, 'learning_rate': 0.036723279424594156, 'subsample': 0.9543244404043341, 'colsample_bytree': 0.6596180444942726, 'reg_alpha': 3.4894428963481334e-07, 'reg_lambda': 0.015951452190168802, 'min_data_in_leaf': 49, 'feature_fraction': 0.9143406631538383, 'bagging_fraction': 0.5234481596946249, 'bagging_freq': 4, 'min_child_weight': 0.1929820588974466, 'cat_smooth': 65.96096423779524}. Best is trial 1 with value: 72576.7093905701.\n"
     ]
    },
    {
     "name": "stdout",
     "output_type": "stream",
     "text": [
      "Early stopping, best iteration is:\n",
      "[68]\tvalid_0's l2: 5.23905e+09\n",
      "Training until validation scores don't improve for 50 rounds\n",
      "Early stopping, best iteration is:\n",
      "[10]\tvalid_0's l2: 5.34417e+09\n",
      "Training until validation scores don't improve for 50 rounds\n",
      "Early stopping, best iteration is:\n",
      "[10]\tvalid_0's l2: 5.33845e+09\n",
      "Training until validation scores don't improve for 50 rounds\n",
      "Early stopping, best iteration is:\n",
      "[11]\tvalid_0's l2: 5.29345e+09\n",
      "Training until validation scores don't improve for 50 rounds\n",
      "Early stopping, best iteration is:\n",
      "[13]\tvalid_0's l2: 5.30079e+09\n",
      "Training until validation scores don't improve for 50 rounds\n"
     ]
    },
    {
     "name": "stderr",
     "output_type": "stream",
     "text": [
      "[I 2024-09-23 17:59:37,551] Trial 3 finished with value: 72866.39716080605 and parameters: {'n_estimators': 639, 'num_leaves': 643, 'max_depth': 27, 'learning_rate': 0.18362976337563003, 'subsample': 0.6479808534398394, 'colsample_bytree': 0.9419682397805931, 'reg_alpha': 8.97573097030888e-06, 'reg_lambda': 0.004571551229239351, 'min_data_in_leaf': 71, 'feature_fraction': 0.5467301872793251, 'bagging_fraction': 0.9105528289184642, 'bagging_freq': 1, 'min_child_weight': 0.020169108029984395, 'cat_smooth': 87.9550363117174}. Best is trial 1 with value: 72576.7093905701.\n"
     ]
    },
    {
     "name": "stdout",
     "output_type": "stream",
     "text": [
      "Early stopping, best iteration is:\n",
      "[12]\tvalid_0's l2: 5.27069e+09\n",
      "Training until validation scores don't improve for 50 rounds\n",
      "Early stopping, best iteration is:\n",
      "[491]\tvalid_0's l2: 5.30792e+09\n",
      "Training until validation scores don't improve for 50 rounds\n",
      "Early stopping, best iteration is:\n",
      "[555]\tvalid_0's l2: 5.2698e+09\n",
      "Training until validation scores don't improve for 50 rounds\n",
      "Early stopping, best iteration is:\n",
      "[446]\tvalid_0's l2: 5.26686e+09\n",
      "Training until validation scores don't improve for 50 rounds\n",
      "Early stopping, best iteration is:\n",
      "[559]\tvalid_0's l2: 5.2506e+09\n",
      "Training until validation scores don't improve for 50 rounds\n",
      "Early stopping, best iteration is:\n",
      "[496]\tvalid_0's l2: 5.23606e+09\n"
     ]
    },
    {
     "name": "stderr",
     "output_type": "stream",
     "text": [
      "[I 2024-09-23 18:02:00,868] Trial 4 finished with value: 72568.9231743165 and parameters: {'n_estimators': 1192, 'num_leaves': 482, 'max_depth': 52, 'learning_rate': 0.005677045861147304, 'subsample': 0.7986858241154422, 'colsample_bytree': 0.9514158801658137, 'reg_alpha': 0.00016119356219527467, 'reg_lambda': 0.2295120287772858, 'min_data_in_leaf': 43, 'feature_fraction': 0.6785908793172681, 'bagging_fraction': 0.5398065450779821, 'bagging_freq': 2, 'min_child_weight': 0.009645302925851532, 'cat_smooth': 59.405997991322664}. Best is trial 4 with value: 72568.9231743165.\n"
     ]
    },
    {
     "name": "stdout",
     "output_type": "stream",
     "text": [
      "Training until validation scores don't improve for 50 rounds\n",
      "Early stopping, best iteration is:\n",
      "[35]\tvalid_0's l2: 5.32573e+09\n",
      "Training until validation scores don't improve for 50 rounds\n",
      "Early stopping, best iteration is:\n",
      "[48]\tvalid_0's l2: 5.30073e+09\n",
      "Training until validation scores don't improve for 50 rounds\n",
      "Early stopping, best iteration is:\n",
      "[30]\tvalid_0's l2: 5.27233e+09\n",
      "Training until validation scores don't improve for 50 rounds\n",
      "Early stopping, best iteration is:\n",
      "[43]\tvalid_0's l2: 5.25834e+09\n",
      "Training until validation scores don't improve for 50 rounds\n"
     ]
    },
    {
     "name": "stderr",
     "output_type": "stream",
     "text": [
      "[I 2024-09-23 18:02:21,299] Trial 5 finished with value: 72659.89762236216 and parameters: {'n_estimators': 528, 'num_leaves': 472, 'max_depth': 26, 'learning_rate': 0.08118455774682055, 'subsample': 0.6731735750400165, 'colsample_bytree': 0.5215486781024972, 'reg_alpha': 0.01903229002492754, 'reg_lambda': 1.1296979705718802, 'min_data_in_leaf': 111, 'feature_fraction': 0.7087545719196335, 'bagging_fraction': 0.8027887821968784, 'bagging_freq': 3, 'min_child_weight': 0.38638467047838265, 'cat_smooth': 18.290082361212804}. Best is trial 4 with value: 72568.9231743165.\n"
     ]
    },
    {
     "name": "stdout",
     "output_type": "stream",
     "text": [
      "Early stopping, best iteration is:\n",
      "[38]\tvalid_0's l2: 5.24016e+09\n",
      "Training until validation scores don't improve for 50 rounds\n",
      "Early stopping, best iteration is:\n",
      "[507]\tvalid_0's l2: 5.3125e+09\n",
      "Training until validation scores don't improve for 50 rounds\n",
      "Early stopping, best iteration is:\n",
      "[552]\tvalid_0's l2: 5.27169e+09\n",
      "Training until validation scores don't improve for 50 rounds\n",
      "Early stopping, best iteration is:\n",
      "[497]\tvalid_0's l2: 5.26636e+09\n",
      "Training until validation scores don't improve for 50 rounds\n",
      "Did not meet early stopping. Best iteration is:\n",
      "[681]\tvalid_0's l2: 5.24302e+09\n",
      "Training until validation scores don't improve for 50 rounds\n",
      "Early stopping, best iteration is:\n",
      "[546]\tvalid_0's l2: 5.23272e+09\n"
     ]
    },
    {
     "name": "stderr",
     "output_type": "stream",
     "text": [
      "[I 2024-09-23 18:04:26,659] Trial 6 finished with value: 72562.11179718412 and parameters: {'n_estimators': 710, 'num_leaves': 310, 'max_depth': 25, 'learning_rate': 0.005323872255879759, 'subsample': 0.778789094331322, 'colsample_bytree': 0.7827535099440838, 'reg_alpha': 7.092404300854912e-05, 'reg_lambda': 0.01483173321964085, 'min_data_in_leaf': 45, 'feature_fraction': 0.9894095728788213, 'bagging_fraction': 0.6698539218189319, 'bagging_freq': 3, 'min_child_weight': 72.85919281852098, 'cat_smooth': 27.591405563189507}. Best is trial 6 with value: 72562.11179718412.\n"
     ]
    },
    {
     "name": "stdout",
     "output_type": "stream",
     "text": [
      "Training until validation scores don't improve for 50 rounds\n",
      "Early stopping, best iteration is:\n",
      "[5]\tvalid_0's l2: 5.40702e+09\n",
      "Training until validation scores don't improve for 50 rounds\n",
      "Early stopping, best iteration is:\n",
      "[5]\tvalid_0's l2: 5.34915e+09\n",
      "Training until validation scores don't improve for 50 rounds\n",
      "Early stopping, best iteration is:\n",
      "[5]\tvalid_0's l2: 5.34536e+09\n",
      "Training until validation scores don't improve for 50 rounds\n",
      "Early stopping, best iteration is:\n",
      "[8]\tvalid_0's l2: 5.34502e+09\n",
      "Training until validation scores don't improve for 50 rounds\n"
     ]
    },
    {
     "name": "stderr",
     "output_type": "stream",
     "text": [
      "[I 2024-09-23 18:04:44,122] Trial 7 finished with value: 73147.44870575145 and parameters: {'n_estimators': 723, 'num_leaves': 508, 'max_depth': 39, 'learning_rate': 0.3645870608221405, 'subsample': 0.534048636768975, 'colsample_bytree': 0.7322654038896663, 'reg_alpha': 0.004916937769207978, 'reg_lambda': 0.7488782916686476, 'min_data_in_leaf': 87, 'feature_fraction': 0.5185472066172039, 'bagging_fraction': 0.6753281956415664, 'bagging_freq': 3, 'min_child_weight': 0.006286070313385454, 'cat_smooth': 32.53375211168362}. Best is trial 6 with value: 72562.11179718412.\n"
     ]
    },
    {
     "name": "stdout",
     "output_type": "stream",
     "text": [
      "Early stopping, best iteration is:\n",
      "[7]\tvalid_0's l2: 5.3062e+09\n",
      "Training until validation scores don't improve for 50 rounds\n",
      "Early stopping, best iteration is:\n",
      "[292]\tvalid_0's l2: 5.3086e+09\n",
      "Training until validation scores don't improve for 50 rounds\n",
      "Early stopping, best iteration is:\n",
      "[348]\tvalid_0's l2: 5.2658e+09\n",
      "Training until validation scores don't improve for 50 rounds\n",
      "Early stopping, best iteration is:\n",
      "[322]\tvalid_0's l2: 5.25947e+09\n",
      "Training until validation scores don't improve for 50 rounds\n",
      "Early stopping, best iteration is:\n",
      "[482]\tvalid_0's l2: 5.22881e+09\n",
      "Training until validation scores don't improve for 50 rounds\n",
      "Early stopping, best iteration is:\n",
      "[248]\tvalid_0's l2: 5.23253e+09\n"
     ]
    },
    {
     "name": "stderr",
     "output_type": "stream",
     "text": [
      "[I 2024-09-23 18:05:36,400] Trial 8 finished with value: 72519.26259982499 and parameters: {'n_estimators': 972, 'num_leaves': 363, 'max_depth': 12, 'learning_rate': 0.010314487673603769, 'subsample': 0.5540318863897262, 'colsample_bytree': 0.5894514042855452, 'reg_alpha': 0.02065202190439409, 'reg_lambda': 0.02893742513973448, 'min_data_in_leaf': 57, 'feature_fraction': 0.8762480851093014, 'bagging_fraction': 0.5534397921967846, 'bagging_freq': 4, 'min_child_weight': 0.06587365495478886, 'cat_smooth': 39.651139374964735}. Best is trial 8 with value: 72519.26259982499.\n"
     ]
    },
    {
     "name": "stdout",
     "output_type": "stream",
     "text": [
      "Training until validation scores don't improve for 50 rounds\n",
      "Did not meet early stopping. Best iteration is:\n",
      "[603]\tvalid_0's l2: 5.49003e+09\n",
      "Training until validation scores don't improve for 50 rounds\n",
      "Did not meet early stopping. Best iteration is:\n",
      "[603]\tvalid_0's l2: 5.46131e+09\n",
      "Training until validation scores don't improve for 50 rounds\n",
      "Did not meet early stopping. Best iteration is:\n",
      "[603]\tvalid_0's l2: 5.42644e+09\n",
      "Training until validation scores don't improve for 50 rounds\n",
      "Did not meet early stopping. Best iteration is:\n",
      "[603]\tvalid_0's l2: 5.44765e+09\n",
      "Training until validation scores don't improve for 50 rounds\n",
      "Did not meet early stopping. Best iteration is:\n",
      "[603]\tvalid_0's l2: 5.40822e+09\n"
     ]
    },
    {
     "name": "stderr",
     "output_type": "stream",
     "text": [
      "[I 2024-09-23 18:07:24,461] Trial 9 finished with value: 73801.9796072034 and parameters: {'n_estimators': 603, 'num_leaves': 373, 'max_depth': 42, 'learning_rate': 0.0013992136034385533, 'subsample': 0.6243062539013847, 'colsample_bytree': 0.7712042581140022, 'reg_alpha': 2.294246403767406e-06, 'reg_lambda': 0.03354641687863073, 'min_data_in_leaf': 114, 'feature_fraction': 0.9626784364338884, 'bagging_fraction': 0.7833749622874999, 'bagging_freq': 3, 'min_child_weight': 0.00012278919376690123, 'cat_smooth': 95.03843220828843}. Best is trial 8 with value: 72519.26259982499.\n",
      "c:\\Users\\lerch\\miniconda3\\envs\\cars\\Lib\\site-packages\\lightgbm\\engine.py:204: UserWarning: Found `n_estimators` in params. Will use it instead of argument\n",
      "  _log_warning(f\"Found `{alias}` in params. Will use it instead of argument\")\n"
     ]
    },
    {
     "name": "stdout",
     "output_type": "stream",
     "text": [
      "Training until validation scores don't improve for 50 rounds\n",
      "Early stopping, best iteration is:\n",
      "[280]\tvalid_0's l2: 5.30106e+09\n"
     ]
    },
    {
     "name": "stderr",
     "output_type": "stream",
     "text": [
      "c:\\Users\\lerch\\miniconda3\\envs\\cars\\Lib\\site-packages\\lightgbm\\engine.py:204: UserWarning: Found `n_estimators` in params. Will use it instead of argument\n",
      "  _log_warning(f\"Found `{alias}` in params. Will use it instead of argument\")\n"
     ]
    },
    {
     "name": "stdout",
     "output_type": "stream",
     "text": [
      "Training until validation scores don't improve for 50 rounds\n",
      "Early stopping, best iteration is:\n",
      "[248]\tvalid_0's l2: 5.27837e+09\n"
     ]
    },
    {
     "name": "stderr",
     "output_type": "stream",
     "text": [
      "c:\\Users\\lerch\\miniconda3\\envs\\cars\\Lib\\site-packages\\lightgbm\\engine.py:204: UserWarning: Found `n_estimators` in params. Will use it instead of argument\n",
      "  _log_warning(f\"Found `{alias}` in params. Will use it instead of argument\")\n"
     ]
    },
    {
     "name": "stdout",
     "output_type": "stream",
     "text": [
      "Training until validation scores don't improve for 50 rounds\n",
      "Early stopping, best iteration is:\n",
      "[273]\tvalid_0's l2: 5.25706e+09\n"
     ]
    },
    {
     "name": "stderr",
     "output_type": "stream",
     "text": [
      "c:\\Users\\lerch\\miniconda3\\envs\\cars\\Lib\\site-packages\\lightgbm\\engine.py:204: UserWarning: Found `n_estimators` in params. Will use it instead of argument\n",
      "  _log_warning(f\"Found `{alias}` in params. Will use it instead of argument\")\n"
     ]
    },
    {
     "name": "stdout",
     "output_type": "stream",
     "text": [
      "Training until validation scores don't improve for 50 rounds\n",
      "Early stopping, best iteration is:\n",
      "[400]\tvalid_0's l2: 5.2387e+09\n"
     ]
    },
    {
     "name": "stderr",
     "output_type": "stream",
     "text": [
      "c:\\Users\\lerch\\miniconda3\\envs\\cars\\Lib\\site-packages\\lightgbm\\engine.py:204: UserWarning: Found `n_estimators` in params. Will use it instead of argument\n",
      "  _log_warning(f\"Found `{alias}` in params. Will use it instead of argument\")\n"
     ]
    },
    {
     "name": "stdout",
     "output_type": "stream",
     "text": [
      "Training until validation scores don't improve for 50 rounds\n",
      "Early stopping, best iteration is:\n",
      "[306]\tvalid_0's l2: 5.21998e+09\n"
     ]
    },
    {
     "name": "stderr",
     "output_type": "stream",
     "text": [
      "[I 2024-09-23 18:08:10,365] A new study created in memory with name: no-name-b3be8588-84e0-4591-996b-c70ce9bc3797\n"
     ]
    },
    {
     "name": "stdout",
     "output_type": "stream",
     "text": [
      "Training until validation scores don't improve for 50 rounds\n",
      "Early stopping, best iteration is:\n",
      "[14]\tvalid_0's l2: 5.33352e+09\n",
      "Training until validation scores don't improve for 50 rounds\n",
      "Early stopping, best iteration is:\n",
      "[16]\tvalid_0's l2: 5.34211e+09\n",
      "Training until validation scores don't improve for 50 rounds\n",
      "Early stopping, best iteration is:\n",
      "[14]\tvalid_0's l2: 5.29572e+09\n",
      "Training until validation scores don't improve for 50 rounds\n",
      "Early stopping, best iteration is:\n",
      "[13]\tvalid_0's l2: 5.3387e+09\n",
      "Training until validation scores don't improve for 50 rounds\n"
     ]
    },
    {
     "name": "stderr",
     "output_type": "stream",
     "text": [
      "[I 2024-09-23 18:08:20,771] Trial 0 finished with value: 72939.02673924294 and parameters: {'n_estimators': 1040, 'num_leaves': 308, 'max_depth': 42, 'learning_rate': 0.17636469336159113, 'subsample': 0.7492535061512953, 'colsample_bytree': 0.6123983227654238, 'reg_alpha': 1.54304001490974e-06, 'reg_lambda': 1.1018509458263566, 'min_data_in_leaf': 53, 'feature_fraction': 0.5441699070870052, 'bagging_fraction': 0.8426799091838986, 'bagging_freq': 5, 'min_child_weight': 0.00010560624429728648, 'cat_smooth': 32.52312463051321}. Best is trial 0 with value: 72939.02673924294.\n"
     ]
    },
    {
     "name": "stdout",
     "output_type": "stream",
     "text": [
      "Early stopping, best iteration is:\n",
      "[10]\tvalid_0's l2: 5.29045e+09\n",
      "Training until validation scores don't improve for 50 rounds\n",
      "Early stopping, best iteration is:\n",
      "[365]\tvalid_0's l2: 5.30684e+09\n",
      "Training until validation scores don't improve for 50 rounds\n",
      "Early stopping, best iteration is:\n",
      "[332]\tvalid_0's l2: 5.28102e+09\n",
      "Training until validation scores don't improve for 50 rounds\n",
      "Early stopping, best iteration is:\n",
      "[346]\tvalid_0's l2: 5.24862e+09\n",
      "Training until validation scores don't improve for 50 rounds\n",
      "Early stopping, best iteration is:\n",
      "[395]\tvalid_0's l2: 5.26295e+09\n",
      "Training until validation scores don't improve for 50 rounds\n",
      "Early stopping, best iteration is:\n",
      "[318]\tvalid_0's l2: 5.22449e+09\n"
     ]
    },
    {
     "name": "stderr",
     "output_type": "stream",
     "text": [
      "[I 2024-09-23 18:10:00,356] Trial 1 finished with value: 72558.82876302957 and parameters: {'n_estimators': 1069, 'num_leaves': 545, 'max_depth': 46, 'learning_rate': 0.007509797119626296, 'subsample': 0.9588870612564717, 'colsample_bytree': 0.8572878916988453, 'reg_alpha': 0.0001799973901160094, 'reg_lambda': 0.0037040785712895334, 'min_data_in_leaf': 70, 'feature_fraction': 0.8370668075331726, 'bagging_fraction': 0.720916587211498, 'bagging_freq': 3, 'min_child_weight': 0.5088641679920515, 'cat_smooth': 32.59404363006922}. Best is trial 1 with value: 72558.82876302957.\n"
     ]
    },
    {
     "name": "stdout",
     "output_type": "stream",
     "text": [
      "Training until validation scores don't improve for 50 rounds\n",
      "Early stopping, best iteration is:\n",
      "[75]\tvalid_0's l2: 5.32836e+09\n",
      "Training until validation scores don't improve for 50 rounds\n",
      "Early stopping, best iteration is:\n",
      "[62]\tvalid_0's l2: 5.29917e+09\n",
      "Training until validation scores don't improve for 50 rounds\n",
      "Early stopping, best iteration is:\n",
      "[72]\tvalid_0's l2: 5.264e+09\n",
      "Training until validation scores don't improve for 50 rounds\n",
      "Early stopping, best iteration is:\n",
      "[79]\tvalid_0's l2: 5.28691e+09\n",
      "Training until validation scores don't improve for 50 rounds\n"
     ]
    },
    {
     "name": "stderr",
     "output_type": "stream",
     "text": [
      "[I 2024-09-23 18:10:31,395] Trial 2 finished with value: 72711.33598509636 and parameters: {'n_estimators': 955, 'num_leaves': 541, 'max_depth': 51, 'learning_rate': 0.036723279424594156, 'subsample': 0.9543244404043341, 'colsample_bytree': 0.6596180444942726, 'reg_alpha': 3.4894428963481334e-07, 'reg_lambda': 0.015951452190168802, 'min_data_in_leaf': 49, 'feature_fraction': 0.9143406631538383, 'bagging_fraction': 0.5234481596946249, 'bagging_freq': 4, 'min_child_weight': 0.1929820588974466, 'cat_smooth': 65.96096423779524}. Best is trial 1 with value: 72558.82876302957.\n"
     ]
    },
    {
     "name": "stdout",
     "output_type": "stream",
     "text": [
      "Early stopping, best iteration is:\n",
      "[56]\tvalid_0's l2: 5.25625e+09\n",
      "Training until validation scores don't improve for 50 rounds\n",
      "Early stopping, best iteration is:\n",
      "[11]\tvalid_0's l2: 5.34279e+09\n",
      "Training until validation scores don't improve for 50 rounds\n",
      "Early stopping, best iteration is:\n",
      "[15]\tvalid_0's l2: 5.31541e+09\n",
      "Training until validation scores don't improve for 50 rounds\n",
      "Early stopping, best iteration is:\n",
      "[12]\tvalid_0's l2: 5.30849e+09\n",
      "Training until validation scores don't improve for 50 rounds\n",
      "Early stopping, best iteration is:\n",
      "[11]\tvalid_0's l2: 5.32893e+09\n",
      "Training until validation scores don't improve for 50 rounds\n"
     ]
    },
    {
     "name": "stderr",
     "output_type": "stream",
     "text": [
      "[I 2024-09-23 18:10:46,465] Trial 3 finished with value: 72881.9383080607 and parameters: {'n_estimators': 639, 'num_leaves': 643, 'max_depth': 27, 'learning_rate': 0.18362976337563003, 'subsample': 0.6479808534398394, 'colsample_bytree': 0.9419682397805931, 'reg_alpha': 8.97573097030888e-06, 'reg_lambda': 0.004571551229239351, 'min_data_in_leaf': 71, 'feature_fraction': 0.5467301872793251, 'bagging_fraction': 0.9105528289184642, 'bagging_freq': 1, 'min_child_weight': 0.020169108029984395, 'cat_smooth': 87.9550363117174}. Best is trial 1 with value: 72558.82876302957.\n"
     ]
    },
    {
     "name": "stdout",
     "output_type": "stream",
     "text": [
      "Early stopping, best iteration is:\n",
      "[12]\tvalid_0's l2: 5.26326e+09\n",
      "Training until validation scores don't improve for 50 rounds\n",
      "Early stopping, best iteration is:\n",
      "[414]\tvalid_0's l2: 5.30193e+09\n",
      "Training until validation scores don't improve for 50 rounds\n",
      "Early stopping, best iteration is:\n",
      "[485]\tvalid_0's l2: 5.28523e+09\n",
      "Training until validation scores don't improve for 50 rounds\n",
      "Early stopping, best iteration is:\n",
      "[535]\tvalid_0's l2: 5.24791e+09\n",
      "Training until validation scores don't improve for 50 rounds\n",
      "Early stopping, best iteration is:\n",
      "[555]\tvalid_0's l2: 5.25903e+09\n",
      "Training until validation scores don't improve for 50 rounds\n",
      "Early stopping, best iteration is:\n",
      "[428]\tvalid_0's l2: 5.22498e+09\n"
     ]
    },
    {
     "name": "stderr",
     "output_type": "stream",
     "text": [
      "[I 2024-09-23 18:12:44,764] Trial 4 finished with value: 72552.18114900606 and parameters: {'n_estimators': 1192, 'num_leaves': 482, 'max_depth': 52, 'learning_rate': 0.005677045861147304, 'subsample': 0.7986858241154422, 'colsample_bytree': 0.9514158801658137, 'reg_alpha': 0.00016119356219527467, 'reg_lambda': 0.2295120287772858, 'min_data_in_leaf': 43, 'feature_fraction': 0.6785908793172681, 'bagging_fraction': 0.5398065450779821, 'bagging_freq': 2, 'min_child_weight': 0.009645302925851532, 'cat_smooth': 59.405997991322664}. Best is trial 4 with value: 72552.18114900606.\n"
     ]
    },
    {
     "name": "stdout",
     "output_type": "stream",
     "text": [
      "Training until validation scores don't improve for 50 rounds\n",
      "Early stopping, best iteration is:\n",
      "[31]\tvalid_0's l2: 5.31063e+09\n",
      "Training until validation scores don't improve for 50 rounds\n",
      "Early stopping, best iteration is:\n",
      "[32]\tvalid_0's l2: 5.28999e+09\n",
      "Training until validation scores don't improve for 50 rounds\n",
      "Early stopping, best iteration is:\n",
      "[36]\tvalid_0's l2: 5.26913e+09\n",
      "Training until validation scores don't improve for 50 rounds\n",
      "Early stopping, best iteration is:\n",
      "[39]\tvalid_0's l2: 5.26365e+09\n",
      "Training until validation scores don't improve for 50 rounds\n"
     ]
    },
    {
     "name": "stderr",
     "output_type": "stream",
     "text": [
      "[I 2024-09-23 18:13:00,513] Trial 5 finished with value: 72614.42375853751 and parameters: {'n_estimators': 528, 'num_leaves': 472, 'max_depth': 26, 'learning_rate': 0.08118455774682055, 'subsample': 0.6731735750400165, 'colsample_bytree': 0.5215486781024972, 'reg_alpha': 0.01903229002492754, 'reg_lambda': 1.1296979705718802, 'min_data_in_leaf': 111, 'feature_fraction': 0.7087545719196335, 'bagging_fraction': 0.8027887821968784, 'bagging_freq': 3, 'min_child_weight': 0.38638467047838265, 'cat_smooth': 18.290082361212804}. Best is trial 4 with value: 72552.18114900606.\n"
     ]
    },
    {
     "name": "stdout",
     "output_type": "stream",
     "text": [
      "Early stopping, best iteration is:\n",
      "[32]\tvalid_0's l2: 5.23087e+09\n",
      "Training until validation scores don't improve for 50 rounds\n",
      "Early stopping, best iteration is:\n",
      "[495]\tvalid_0's l2: 5.30392e+09\n",
      "Training until validation scores don't improve for 50 rounds\n",
      "Early stopping, best iteration is:\n",
      "[498]\tvalid_0's l2: 5.28804e+09\n",
      "Training until validation scores don't improve for 50 rounds\n",
      "Did not meet early stopping. Best iteration is:\n",
      "[690]\tvalid_0's l2: 5.25645e+09\n",
      "Training until validation scores don't improve for 50 rounds\n",
      "Early stopping, best iteration is:\n",
      "[585]\tvalid_0's l2: 5.26111e+09\n",
      "Training until validation scores don't improve for 50 rounds\n",
      "Early stopping, best iteration is:\n",
      "[465]\tvalid_0's l2: 5.22454e+09\n"
     ]
    },
    {
     "name": "stderr",
     "output_type": "stream",
     "text": [
      "[I 2024-09-23 18:14:32,622] Trial 6 finished with value: 72572.81047153694 and parameters: {'n_estimators': 710, 'num_leaves': 310, 'max_depth': 25, 'learning_rate': 0.005323872255879759, 'subsample': 0.778789094331322, 'colsample_bytree': 0.7827535099440838, 'reg_alpha': 7.092404300854912e-05, 'reg_lambda': 0.01483173321964085, 'min_data_in_leaf': 45, 'feature_fraction': 0.9894095728788213, 'bagging_fraction': 0.6698539218189319, 'bagging_freq': 3, 'min_child_weight': 72.85919281852098, 'cat_smooth': 27.591405563189507}. Best is trial 4 with value: 72552.18114900606.\n"
     ]
    },
    {
     "name": "stdout",
     "output_type": "stream",
     "text": [
      "Training until validation scores don't improve for 50 rounds\n",
      "Early stopping, best iteration is:\n",
      "[5]\tvalid_0's l2: 5.39886e+09\n",
      "Training until validation scores don't improve for 50 rounds\n",
      "Early stopping, best iteration is:\n",
      "[6]\tvalid_0's l2: 5.36918e+09\n",
      "Training until validation scores don't improve for 50 rounds\n",
      "Early stopping, best iteration is:\n",
      "[7]\tvalid_0's l2: 5.29177e+09\n",
      "Training until validation scores don't improve for 50 rounds\n",
      "Early stopping, best iteration is:\n",
      "[5]\tvalid_0's l2: 5.34338e+09\n",
      "Training until validation scores don't improve for 50 rounds\n"
     ]
    },
    {
     "name": "stderr",
     "output_type": "stream",
     "text": [
      "[I 2024-09-23 18:14:46,846] Trial 7 finished with value: 73065.67382550066 and parameters: {'n_estimators': 723, 'num_leaves': 508, 'max_depth': 39, 'learning_rate': 0.3645870608221405, 'subsample': 0.534048636768975, 'colsample_bytree': 0.7322654038896663, 'reg_alpha': 0.004916937769207978, 'reg_lambda': 0.7488782916686476, 'min_data_in_leaf': 87, 'feature_fraction': 0.5185472066172039, 'bagging_fraction': 0.6753281956415664, 'bagging_freq': 3, 'min_child_weight': 0.006286070313385454, 'cat_smooth': 32.53375211168362}. Best is trial 4 with value: 72552.18114900606.\n"
     ]
    },
    {
     "name": "stdout",
     "output_type": "stream",
     "text": [
      "Early stopping, best iteration is:\n",
      "[6]\tvalid_0's l2: 5.28978e+09\n",
      "Training until validation scores don't improve for 50 rounds\n",
      "Early stopping, best iteration is:\n",
      "[259]\tvalid_0's l2: 5.29824e+09\n",
      "Training until validation scores don't improve for 50 rounds\n",
      "Early stopping, best iteration is:\n",
      "[332]\tvalid_0's l2: 5.27507e+09\n",
      "Training until validation scores don't improve for 50 rounds\n",
      "Early stopping, best iteration is:\n",
      "[284]\tvalid_0's l2: 5.24763e+09\n",
      "Training until validation scores don't improve for 50 rounds\n",
      "Early stopping, best iteration is:\n",
      "[320]\tvalid_0's l2: 5.25535e+09\n",
      "Training until validation scores don't improve for 50 rounds\n",
      "Early stopping, best iteration is:\n",
      "[307]\tvalid_0's l2: 5.2171e+09\n"
     ]
    },
    {
     "name": "stderr",
     "output_type": "stream",
     "text": [
      "[I 2024-09-23 18:15:26,757] Trial 8 finished with value: 72516.76151638155 and parameters: {'n_estimators': 972, 'num_leaves': 363, 'max_depth': 12, 'learning_rate': 0.010314487673603769, 'subsample': 0.5540318863897262, 'colsample_bytree': 0.5894514042855452, 'reg_alpha': 0.02065202190439409, 'reg_lambda': 0.02893742513973448, 'min_data_in_leaf': 57, 'feature_fraction': 0.8762480851093014, 'bagging_fraction': 0.5534397921967846, 'bagging_freq': 4, 'min_child_weight': 0.06587365495478886, 'cat_smooth': 39.651139374964735}. Best is trial 8 with value: 72516.76151638155.\n"
     ]
    },
    {
     "name": "stdout",
     "output_type": "stream",
     "text": [
      "Training until validation scores don't improve for 50 rounds\n",
      "Did not meet early stopping. Best iteration is:\n",
      "[603]\tvalid_0's l2: 5.47618e+09\n",
      "Training until validation scores don't improve for 50 rounds\n",
      "Did not meet early stopping. Best iteration is:\n",
      "[603]\tvalid_0's l2: 5.46427e+09\n",
      "Training until validation scores don't improve for 50 rounds\n",
      "Did not meet early stopping. Best iteration is:\n",
      "[603]\tvalid_0's l2: 5.42074e+09\n",
      "Training until validation scores don't improve for 50 rounds\n",
      "Did not meet early stopping. Best iteration is:\n",
      "[603]\tvalid_0's l2: 5.45631e+09\n",
      "Training until validation scores don't improve for 50 rounds\n",
      "Did not meet early stopping. Best iteration is:\n",
      "[603]\tvalid_0's l2: 5.40288e+09\n"
     ]
    },
    {
     "name": "stderr",
     "output_type": "stream",
     "text": [
      "[I 2024-09-23 18:17:13,314] Trial 9 finished with value: 73783.98200833272 and parameters: {'n_estimators': 603, 'num_leaves': 373, 'max_depth': 42, 'learning_rate': 0.0013992136034385533, 'subsample': 0.6243062539013847, 'colsample_bytree': 0.7712042581140022, 'reg_alpha': 2.294246403767406e-06, 'reg_lambda': 0.03354641687863073, 'min_data_in_leaf': 114, 'feature_fraction': 0.9626784364338884, 'bagging_fraction': 0.7833749622874999, 'bagging_freq': 3, 'min_child_weight': 0.00012278919376690123, 'cat_smooth': 95.03843220828843}. Best is trial 8 with value: 72516.76151638155.\n",
      "c:\\Users\\lerch\\miniconda3\\envs\\cars\\Lib\\site-packages\\lightgbm\\engine.py:204: UserWarning: Found `n_estimators` in params. Will use it instead of argument\n",
      "  _log_warning(f\"Found `{alias}` in params. Will use it instead of argument\")\n"
     ]
    },
    {
     "name": "stdout",
     "output_type": "stream",
     "text": [
      "Training until validation scores don't improve for 50 rounds\n",
      "Early stopping, best iteration is:\n",
      "[300]\tvalid_0's l2: 5.29818e+09\n"
     ]
    },
    {
     "name": "stderr",
     "output_type": "stream",
     "text": [
      "c:\\Users\\lerch\\miniconda3\\envs\\cars\\Lib\\site-packages\\lightgbm\\engine.py:204: UserWarning: Found `n_estimators` in params. Will use it instead of argument\n",
      "  _log_warning(f\"Found `{alias}` in params. Will use it instead of argument\")\n"
     ]
    },
    {
     "name": "stdout",
     "output_type": "stream",
     "text": [
      "Training until validation scores don't improve for 50 rounds\n",
      "Early stopping, best iteration is:\n",
      "[274]\tvalid_0's l2: 5.27558e+09\n"
     ]
    },
    {
     "name": "stderr",
     "output_type": "stream",
     "text": [
      "c:\\Users\\lerch\\miniconda3\\envs\\cars\\Lib\\site-packages\\lightgbm\\engine.py:204: UserWarning: Found `n_estimators` in params. Will use it instead of argument\n",
      "  _log_warning(f\"Found `{alias}` in params. Will use it instead of argument\")\n"
     ]
    },
    {
     "name": "stdout",
     "output_type": "stream",
     "text": [
      "Training until validation scores don't improve for 50 rounds\n",
      "Early stopping, best iteration is:\n",
      "[300]\tvalid_0's l2: 5.25745e+09\n"
     ]
    },
    {
     "name": "stderr",
     "output_type": "stream",
     "text": [
      "c:\\Users\\lerch\\miniconda3\\envs\\cars\\Lib\\site-packages\\lightgbm\\engine.py:204: UserWarning: Found `n_estimators` in params. Will use it instead of argument\n",
      "  _log_warning(f\"Found `{alias}` in params. Will use it instead of argument\")\n"
     ]
    },
    {
     "name": "stdout",
     "output_type": "stream",
     "text": [
      "Training until validation scores don't improve for 50 rounds\n",
      "Early stopping, best iteration is:\n",
      "[315]\tvalid_0's l2: 5.2609e+09\n"
     ]
    },
    {
     "name": "stderr",
     "output_type": "stream",
     "text": [
      "c:\\Users\\lerch\\miniconda3\\envs\\cars\\Lib\\site-packages\\lightgbm\\engine.py:204: UserWarning: Found `n_estimators` in params. Will use it instead of argument\n",
      "  _log_warning(f\"Found `{alias}` in params. Will use it instead of argument\")\n"
     ]
    },
    {
     "name": "stdout",
     "output_type": "stream",
     "text": [
      "Training until validation scores don't improve for 50 rounds\n",
      "Early stopping, best iteration is:\n",
      "[312]\tvalid_0's l2: 5.20861e+09\n"
     ]
    },
    {
     "name": "stderr",
     "output_type": "stream",
     "text": [
      "[I 2024-09-23 18:17:55,768] A new study created in memory with name: no-name-6366a1a9-e169-4c40-8cd7-b3ef86f930ea\n"
     ]
    },
    {
     "name": "stdout",
     "output_type": "stream",
     "text": [
      "Training until validation scores don't improve for 50 rounds\n",
      "Early stopping, best iteration is:\n",
      "[12]\tvalid_0's l2: 5.37237e+09\n",
      "Training until validation scores don't improve for 50 rounds\n",
      "Early stopping, best iteration is:\n",
      "[14]\tvalid_0's l2: 5.35799e+09\n",
      "Training until validation scores don't improve for 50 rounds\n",
      "Early stopping, best iteration is:\n",
      "[12]\tvalid_0's l2: 5.31446e+09\n",
      "Training until validation scores don't improve for 50 rounds\n",
      "Early stopping, best iteration is:\n",
      "[13]\tvalid_0's l2: 5.32993e+09\n",
      "Training until validation scores don't improve for 50 rounds\n"
     ]
    },
    {
     "name": "stderr",
     "output_type": "stream",
     "text": [
      "[I 2024-09-23 18:18:05,934] Trial 0 finished with value: 73038.11483143756 and parameters: {'n_estimators': 1040, 'num_leaves': 308, 'max_depth': 42, 'learning_rate': 0.17636469336159113, 'subsample': 0.7492535061512953, 'colsample_bytree': 0.6123983227654238, 'reg_alpha': 1.54304001490974e-06, 'reg_lambda': 1.1018509458263566, 'min_data_in_leaf': 53, 'feature_fraction': 0.5441699070870052, 'bagging_fraction': 0.8426799091838986, 'bagging_freq': 5, 'min_child_weight': 0.00010560624429728648, 'cat_smooth': 32.52312463051321}. Best is trial 0 with value: 73038.11483143756.\n"
     ]
    },
    {
     "name": "stdout",
     "output_type": "stream",
     "text": [
      "Early stopping, best iteration is:\n",
      "[12]\tvalid_0's l2: 5.29808e+09\n",
      "Training until validation scores don't improve for 50 rounds\n",
      "Early stopping, best iteration is:\n",
      "[320]\tvalid_0's l2: 5.31933e+09\n",
      "Training until validation scores don't improve for 50 rounds\n",
      "Early stopping, best iteration is:\n",
      "[373]\tvalid_0's l2: 5.27481e+09\n",
      "Training until validation scores don't improve for 50 rounds\n",
      "Early stopping, best iteration is:\n",
      "[313]\tvalid_0's l2: 5.26153e+09\n",
      "Training until validation scores don't improve for 50 rounds\n",
      "Early stopping, best iteration is:\n",
      "[368]\tvalid_0's l2: 5.27571e+09\n",
      "Training until validation scores don't improve for 50 rounds\n",
      "Early stopping, best iteration is:\n",
      "[361]\tvalid_0's l2: 5.239e+09\n"
     ]
    },
    {
     "name": "stderr",
     "output_type": "stream",
     "text": [
      "[I 2024-09-23 18:19:44,120] Trial 1 finished with value: 72622.82051619477 and parameters: {'n_estimators': 1069, 'num_leaves': 545, 'max_depth': 46, 'learning_rate': 0.007509797119626296, 'subsample': 0.9588870612564717, 'colsample_bytree': 0.8572878916988453, 'reg_alpha': 0.0001799973901160094, 'reg_lambda': 0.0037040785712895334, 'min_data_in_leaf': 70, 'feature_fraction': 0.8370668075331726, 'bagging_fraction': 0.720916587211498, 'bagging_freq': 3, 'min_child_weight': 0.5088641679920515, 'cat_smooth': 32.59404363006922}. Best is trial 1 with value: 72622.82051619477.\n"
     ]
    },
    {
     "name": "stdout",
     "output_type": "stream",
     "text": [
      "Training until validation scores don't improve for 50 rounds\n",
      "Early stopping, best iteration is:\n",
      "[76]\tvalid_0's l2: 5.32005e+09\n",
      "Training until validation scores don't improve for 50 rounds\n",
      "Early stopping, best iteration is:\n",
      "[76]\tvalid_0's l2: 5.29603e+09\n",
      "Training until validation scores don't improve for 50 rounds\n",
      "Early stopping, best iteration is:\n",
      "[75]\tvalid_0's l2: 5.26334e+09\n",
      "Training until validation scores don't improve for 50 rounds\n",
      "Early stopping, best iteration is:\n",
      "[76]\tvalid_0's l2: 5.28207e+09\n",
      "Training until validation scores don't improve for 50 rounds\n"
     ]
    },
    {
     "name": "stderr",
     "output_type": "stream",
     "text": [
      "[I 2024-09-23 18:20:15,016] Trial 2 finished with value: 72647.01659426109 and parameters: {'n_estimators': 955, 'num_leaves': 541, 'max_depth': 51, 'learning_rate': 0.036723279424594156, 'subsample': 0.9543244404043341, 'colsample_bytree': 0.6596180444942726, 'reg_alpha': 3.4894428963481334e-07, 'reg_lambda': 0.015951452190168802, 'min_data_in_leaf': 49, 'feature_fraction': 0.9143406631538383, 'bagging_fraction': 0.5234481596946249, 'bagging_freq': 4, 'min_child_weight': 0.1929820588974466, 'cat_smooth': 65.96096423779524}. Best is trial 1 with value: 72622.82051619477.\n"
     ]
    },
    {
     "name": "stdout",
     "output_type": "stream",
     "text": [
      "Early stopping, best iteration is:\n",
      "[73]\tvalid_0's l2: 5.22646e+09\n",
      "Training until validation scores don't improve for 50 rounds\n",
      "Early stopping, best iteration is:\n",
      "[11]\tvalid_0's l2: 5.36182e+09\n",
      "Training until validation scores don't improve for 50 rounds\n",
      "Early stopping, best iteration is:\n",
      "[15]\tvalid_0's l2: 5.33265e+09\n",
      "Training until validation scores don't improve for 50 rounds\n",
      "Early stopping, best iteration is:\n",
      "[14]\tvalid_0's l2: 5.29799e+09\n",
      "Training until validation scores don't improve for 50 rounds\n",
      "Early stopping, best iteration is:\n",
      "[13]\tvalid_0's l2: 5.32473e+09\n",
      "Training until validation scores don't improve for 50 rounds\n"
     ]
    },
    {
     "name": "stderr",
     "output_type": "stream",
     "text": [
      "[I 2024-09-23 18:20:29,703] Trial 3 finished with value: 72939.80031641544 and parameters: {'n_estimators': 639, 'num_leaves': 643, 'max_depth': 27, 'learning_rate': 0.18362976337563003, 'subsample': 0.6479808534398394, 'colsample_bytree': 0.9419682397805931, 'reg_alpha': 8.97573097030888e-06, 'reg_lambda': 0.004571551229239351, 'min_data_in_leaf': 71, 'feature_fraction': 0.5467301872793251, 'bagging_fraction': 0.9105528289184642, 'bagging_freq': 1, 'min_child_weight': 0.020169108029984395, 'cat_smooth': 87.9550363117174}. Best is trial 1 with value: 72622.82051619477.\n"
     ]
    },
    {
     "name": "stdout",
     "output_type": "stream",
     "text": [
      "Early stopping, best iteration is:\n",
      "[15]\tvalid_0's l2: 5.28388e+09\n",
      "Training until validation scores don't improve for 50 rounds\n",
      "Early stopping, best iteration is:\n",
      "[432]\tvalid_0's l2: 5.30818e+09\n",
      "Training until validation scores don't improve for 50 rounds\n",
      "Early stopping, best iteration is:\n",
      "[579]\tvalid_0's l2: 5.27467e+09\n",
      "Training until validation scores don't improve for 50 rounds\n",
      "Early stopping, best iteration is:\n",
      "[512]\tvalid_0's l2: 5.2541e+09\n",
      "Training until validation scores don't improve for 50 rounds\n",
      "Early stopping, best iteration is:\n",
      "[470]\tvalid_0's l2: 5.26885e+09\n",
      "Training until validation scores don't improve for 50 rounds\n",
      "Early stopping, best iteration is:\n",
      "[440]\tvalid_0's l2: 5.23147e+09\n"
     ]
    },
    {
     "name": "stderr",
     "output_type": "stream",
     "text": [
      "[I 2024-09-23 18:22:29,729] Trial 4 finished with value: 72577.24147962485 and parameters: {'n_estimators': 1192, 'num_leaves': 482, 'max_depth': 52, 'learning_rate': 0.005677045861147304, 'subsample': 0.7986858241154422, 'colsample_bytree': 0.9514158801658137, 'reg_alpha': 0.00016119356219527467, 'reg_lambda': 0.2295120287772858, 'min_data_in_leaf': 43, 'feature_fraction': 0.6785908793172681, 'bagging_fraction': 0.5398065450779821, 'bagging_freq': 2, 'min_child_weight': 0.009645302925851532, 'cat_smooth': 59.405997991322664}. Best is trial 4 with value: 72577.24147962485.\n"
     ]
    },
    {
     "name": "stdout",
     "output_type": "stream",
     "text": [
      "Training until validation scores don't improve for 50 rounds\n",
      "Early stopping, best iteration is:\n",
      "[31]\tvalid_0's l2: 5.32811e+09\n",
      "Training until validation scores don't improve for 50 rounds\n",
      "Early stopping, best iteration is:\n",
      "[34]\tvalid_0's l2: 5.29937e+09\n",
      "Training until validation scores don't improve for 50 rounds\n",
      "Early stopping, best iteration is:\n",
      "[33]\tvalid_0's l2: 5.27591e+09\n",
      "Training until validation scores don't improve for 50 rounds\n",
      "Early stopping, best iteration is:\n",
      "[37]\tvalid_0's l2: 5.27516e+09\n",
      "Training until validation scores don't improve for 50 rounds\n"
     ]
    },
    {
     "name": "stderr",
     "output_type": "stream",
     "text": [
      "[I 2024-09-23 18:22:46,009] Trial 5 finished with value: 72676.64960000919 and parameters: {'n_estimators': 528, 'num_leaves': 472, 'max_depth': 26, 'learning_rate': 0.08118455774682055, 'subsample': 0.6731735750400165, 'colsample_bytree': 0.5215486781024972, 'reg_alpha': 0.01903229002492754, 'reg_lambda': 1.1296979705718802, 'min_data_in_leaf': 111, 'feature_fraction': 0.7087545719196335, 'bagging_fraction': 0.8027887821968784, 'bagging_freq': 3, 'min_child_weight': 0.38638467047838265, 'cat_smooth': 18.290082361212804}. Best is trial 4 with value: 72577.24147962485.\n"
     ]
    },
    {
     "name": "stdout",
     "output_type": "stream",
     "text": [
      "Early stopping, best iteration is:\n",
      "[42]\tvalid_0's l2: 5.23093e+09\n",
      "Training until validation scores don't improve for 50 rounds\n",
      "Early stopping, best iteration is:\n",
      "[477]\tvalid_0's l2: 5.31658e+09\n",
      "Training until validation scores don't improve for 50 rounds\n",
      "Early stopping, best iteration is:\n",
      "[483]\tvalid_0's l2: 5.27705e+09\n",
      "Training until validation scores don't improve for 50 rounds\n",
      "Early stopping, best iteration is:\n",
      "[534]\tvalid_0's l2: 5.25925e+09\n",
      "Training until validation scores don't improve for 50 rounds\n",
      "Early stopping, best iteration is:\n",
      "[609]\tvalid_0's l2: 5.26878e+09\n",
      "Training until validation scores don't improve for 50 rounds\n",
      "Early stopping, best iteration is:\n",
      "[552]\tvalid_0's l2: 5.23469e+09\n"
     ]
    },
    {
     "name": "stderr",
     "output_type": "stream",
     "text": [
      "[I 2024-09-23 18:24:18,828] Trial 6 finished with value: 72603.51089392697 and parameters: {'n_estimators': 710, 'num_leaves': 310, 'max_depth': 25, 'learning_rate': 0.005323872255879759, 'subsample': 0.778789094331322, 'colsample_bytree': 0.7827535099440838, 'reg_alpha': 7.092404300854912e-05, 'reg_lambda': 0.01483173321964085, 'min_data_in_leaf': 45, 'feature_fraction': 0.9894095728788213, 'bagging_fraction': 0.6698539218189319, 'bagging_freq': 3, 'min_child_weight': 72.85919281852098, 'cat_smooth': 27.591405563189507}. Best is trial 4 with value: 72577.24147962485.\n"
     ]
    },
    {
     "name": "stdout",
     "output_type": "stream",
     "text": [
      "Training until validation scores don't improve for 50 rounds\n",
      "Early stopping, best iteration is:\n",
      "[5]\tvalid_0's l2: 5.36346e+09\n",
      "Training until validation scores don't improve for 50 rounds\n",
      "Early stopping, best iteration is:\n",
      "[5]\tvalid_0's l2: 5.38396e+09\n",
      "Training until validation scores don't improve for 50 rounds\n",
      "Early stopping, best iteration is:\n",
      "[6]\tvalid_0's l2: 5.34081e+09\n",
      "Training until validation scores don't improve for 50 rounds\n",
      "Early stopping, best iteration is:\n",
      "[5]\tvalid_0's l2: 5.3473e+09\n",
      "Training until validation scores don't improve for 50 rounds\n"
     ]
    },
    {
     "name": "stderr",
     "output_type": "stream",
     "text": [
      "[I 2024-09-23 18:24:32,250] Trial 7 finished with value: 73147.9743582909 and parameters: {'n_estimators': 723, 'num_leaves': 508, 'max_depth': 39, 'learning_rate': 0.3645870608221405, 'subsample': 0.534048636768975, 'colsample_bytree': 0.7322654038896663, 'reg_alpha': 0.004916937769207978, 'reg_lambda': 0.7488782916686476, 'min_data_in_leaf': 87, 'feature_fraction': 0.5185472066172039, 'bagging_fraction': 0.6753281956415664, 'bagging_freq': 3, 'min_child_weight': 0.006286070313385454, 'cat_smooth': 32.53375211168362}. Best is trial 4 with value: 72577.24147962485.\n"
     ]
    },
    {
     "name": "stdout",
     "output_type": "stream",
     "text": [
      "Early stopping, best iteration is:\n",
      "[5]\tvalid_0's l2: 5.31761e+09\n",
      "Training until validation scores don't improve for 50 rounds\n",
      "Early stopping, best iteration is:\n",
      "[231]\tvalid_0's l2: 5.30342e+09\n",
      "Training until validation scores don't improve for 50 rounds\n",
      "Early stopping, best iteration is:\n",
      "[281]\tvalid_0's l2: 5.27228e+09\n",
      "Training until validation scores don't improve for 50 rounds\n",
      "Early stopping, best iteration is:\n",
      "[284]\tvalid_0's l2: 5.25667e+09\n",
      "Training until validation scores don't improve for 50 rounds\n",
      "Early stopping, best iteration is:\n",
      "[276]\tvalid_0's l2: 5.26164e+09\n",
      "Training until validation scores don't improve for 50 rounds\n",
      "Early stopping, best iteration is:\n",
      "[274]\tvalid_0's l2: 5.2279e+09\n"
     ]
    },
    {
     "name": "stderr",
     "output_type": "stream",
     "text": [
      "[I 2024-09-23 18:25:12,541] Trial 8 finished with value: 72556.06760203016 and parameters: {'n_estimators': 972, 'num_leaves': 363, 'max_depth': 12, 'learning_rate': 0.010314487673603769, 'subsample': 0.5540318863897262, 'colsample_bytree': 0.5894514042855452, 'reg_alpha': 0.02065202190439409, 'reg_lambda': 0.02893742513973448, 'min_data_in_leaf': 57, 'feature_fraction': 0.8762480851093014, 'bagging_fraction': 0.5534397921967846, 'bagging_freq': 4, 'min_child_weight': 0.06587365495478886, 'cat_smooth': 39.651139374964735}. Best is trial 8 with value: 72556.06760203016.\n"
     ]
    },
    {
     "name": "stdout",
     "output_type": "stream",
     "text": [
      "Training until validation scores don't improve for 50 rounds\n",
      "Did not meet early stopping. Best iteration is:\n",
      "[603]\tvalid_0's l2: 5.48084e+09\n",
      "Training until validation scores don't improve for 50 rounds\n",
      "Did not meet early stopping. Best iteration is:\n",
      "[603]\tvalid_0's l2: 5.46075e+09\n",
      "Training until validation scores don't improve for 50 rounds\n",
      "Did not meet early stopping. Best iteration is:\n",
      "[603]\tvalid_0's l2: 5.42304e+09\n",
      "Training until validation scores don't improve for 50 rounds\n",
      "Did not meet early stopping. Best iteration is:\n",
      "[603]\tvalid_0's l2: 5.45775e+09\n",
      "Training until validation scores don't improve for 50 rounds\n",
      "Did not meet early stopping. Best iteration is:\n",
      "[603]\tvalid_0's l2: 5.40469e+09\n"
     ]
    },
    {
     "name": "stderr",
     "output_type": "stream",
     "text": [
      "[I 2024-09-23 18:27:00,261] Trial 9 finished with value: 73793.05751557346 and parameters: {'n_estimators': 603, 'num_leaves': 373, 'max_depth': 42, 'learning_rate': 0.0013992136034385533, 'subsample': 0.6243062539013847, 'colsample_bytree': 0.7712042581140022, 'reg_alpha': 2.294246403767406e-06, 'reg_lambda': 0.03354641687863073, 'min_data_in_leaf': 114, 'feature_fraction': 0.9626784364338884, 'bagging_fraction': 0.7833749622874999, 'bagging_freq': 3, 'min_child_weight': 0.00012278919376690123, 'cat_smooth': 95.03843220828843}. Best is trial 8 with value: 72556.06760203016.\n",
      "c:\\Users\\lerch\\miniconda3\\envs\\cars\\Lib\\site-packages\\lightgbm\\engine.py:204: UserWarning: Found `n_estimators` in params. Will use it instead of argument\n",
      "  _log_warning(f\"Found `{alias}` in params. Will use it instead of argument\")\n"
     ]
    },
    {
     "name": "stdout",
     "output_type": "stream",
     "text": [
      "Training until validation scores don't improve for 50 rounds\n",
      "Early stopping, best iteration is:\n",
      "[296]\tvalid_0's l2: 5.30343e+09\n"
     ]
    },
    {
     "name": "stderr",
     "output_type": "stream",
     "text": [
      "c:\\Users\\lerch\\miniconda3\\envs\\cars\\Lib\\site-packages\\lightgbm\\engine.py:204: UserWarning: Found `n_estimators` in params. Will use it instead of argument\n",
      "  _log_warning(f\"Found `{alias}` in params. Will use it instead of argument\")\n"
     ]
    },
    {
     "name": "stdout",
     "output_type": "stream",
     "text": [
      "Training until validation scores don't improve for 50 rounds\n",
      "Early stopping, best iteration is:\n",
      "[309]\tvalid_0's l2: 5.27677e+09\n"
     ]
    },
    {
     "name": "stderr",
     "output_type": "stream",
     "text": [
      "c:\\Users\\lerch\\miniconda3\\envs\\cars\\Lib\\site-packages\\lightgbm\\engine.py:204: UserWarning: Found `n_estimators` in params. Will use it instead of argument\n",
      "  _log_warning(f\"Found `{alias}` in params. Will use it instead of argument\")\n"
     ]
    },
    {
     "name": "stdout",
     "output_type": "stream",
     "text": [
      "Training until validation scores don't improve for 50 rounds\n",
      "Early stopping, best iteration is:\n",
      "[362]\tvalid_0's l2: 5.25183e+09\n"
     ]
    },
    {
     "name": "stderr",
     "output_type": "stream",
     "text": [
      "c:\\Users\\lerch\\miniconda3\\envs\\cars\\Lib\\site-packages\\lightgbm\\engine.py:204: UserWarning: Found `n_estimators` in params. Will use it instead of argument\n",
      "  _log_warning(f\"Found `{alias}` in params. Will use it instead of argument\")\n"
     ]
    },
    {
     "name": "stdout",
     "output_type": "stream",
     "text": [
      "Training until validation scores don't improve for 50 rounds\n",
      "Early stopping, best iteration is:\n",
      "[325]\tvalid_0's l2: 5.26109e+09\n"
     ]
    },
    {
     "name": "stderr",
     "output_type": "stream",
     "text": [
      "c:\\Users\\lerch\\miniconda3\\envs\\cars\\Lib\\site-packages\\lightgbm\\engine.py:204: UserWarning: Found `n_estimators` in params. Will use it instead of argument\n",
      "  _log_warning(f\"Found `{alias}` in params. Will use it instead of argument\")\n"
     ]
    },
    {
     "name": "stdout",
     "output_type": "stream",
     "text": [
      "Training until validation scores don't improve for 50 rounds\n",
      "Early stopping, best iteration is:\n",
      "[312]\tvalid_0's l2: 5.22837e+09\n"
     ]
    },
    {
     "name": "stderr",
     "output_type": "stream",
     "text": [
      "[I 2024-09-23 18:27:47,800] A new study created in memory with name: no-name-7fe71a94-6999-4cc8-b1e9-0252430ec561\n"
     ]
    },
    {
     "name": "stdout",
     "output_type": "stream",
     "text": [
      "Training until validation scores don't improve for 50 rounds\n",
      "Early stopping, best iteration is:\n",
      "[16]\tvalid_0's l2: 5.37327e+09\n",
      "Training until validation scores don't improve for 50 rounds\n",
      "Early stopping, best iteration is:\n",
      "[13]\tvalid_0's l2: 5.3585e+09\n",
      "Training until validation scores don't improve for 50 rounds\n",
      "Early stopping, best iteration is:\n",
      "[13]\tvalid_0's l2: 5.31213e+09\n",
      "Training until validation scores don't improve for 50 rounds\n",
      "Early stopping, best iteration is:\n",
      "[13]\tvalid_0's l2: 5.34132e+09\n",
      "Training until validation scores don't improve for 50 rounds\n"
     ]
    },
    {
     "name": "stderr",
     "output_type": "stream",
     "text": [
      "[I 2024-09-23 18:27:58,108] Trial 0 finished with value: 73027.3529094728 and parameters: {'n_estimators': 1040, 'num_leaves': 308, 'max_depth': 42, 'learning_rate': 0.17636469336159113, 'subsample': 0.7492535061512953, 'colsample_bytree': 0.6123983227654238, 'reg_alpha': 1.54304001490974e-06, 'reg_lambda': 1.1018509458263566, 'min_data_in_leaf': 53, 'feature_fraction': 0.5441699070870052, 'bagging_fraction': 0.8426799091838986, 'bagging_freq': 5, 'min_child_weight': 0.00010560624429728648, 'cat_smooth': 32.52312463051321}. Best is trial 0 with value: 73027.3529094728.\n"
     ]
    },
    {
     "name": "stdout",
     "output_type": "stream",
     "text": [
      "Early stopping, best iteration is:\n",
      "[13]\tvalid_0's l2: 5.27975e+09\n",
      "Training until validation scores don't improve for 50 rounds\n",
      "Early stopping, best iteration is:\n",
      "[318]\tvalid_0's l2: 5.32071e+09\n",
      "Training until validation scores don't improve for 50 rounds\n",
      "Early stopping, best iteration is:\n",
      "[357]\tvalid_0's l2: 5.2781e+09\n",
      "Training until validation scores don't improve for 50 rounds\n",
      "Early stopping, best iteration is:\n",
      "[324]\tvalid_0's l2: 5.2649e+09\n",
      "Training until validation scores don't improve for 50 rounds\n",
      "Early stopping, best iteration is:\n",
      "[362]\tvalid_0's l2: 5.26725e+09\n",
      "Training until validation scores don't improve for 50 rounds\n",
      "Early stopping, best iteration is:\n",
      "[328]\tvalid_0's l2: 5.23937e+09\n"
     ]
    },
    {
     "name": "stderr",
     "output_type": "stream",
     "text": [
      "[I 2024-09-23 18:29:33,623] Trial 1 finished with value: 72622.76349107274 and parameters: {'n_estimators': 1069, 'num_leaves': 545, 'max_depth': 46, 'learning_rate': 0.007509797119626296, 'subsample': 0.9588870612564717, 'colsample_bytree': 0.8572878916988453, 'reg_alpha': 0.0001799973901160094, 'reg_lambda': 0.0037040785712895334, 'min_data_in_leaf': 70, 'feature_fraction': 0.8370668075331726, 'bagging_fraction': 0.720916587211498, 'bagging_freq': 3, 'min_child_weight': 0.5088641679920515, 'cat_smooth': 32.59404363006922}. Best is trial 1 with value: 72622.76349107274.\n"
     ]
    },
    {
     "name": "stdout",
     "output_type": "stream",
     "text": [
      "Training until validation scores don't improve for 50 rounds\n",
      "Early stopping, best iteration is:\n",
      "[60]\tvalid_0's l2: 5.32544e+09\n",
      "Training until validation scores don't improve for 50 rounds\n",
      "Early stopping, best iteration is:\n",
      "[75]\tvalid_0's l2: 5.27955e+09\n",
      "Training until validation scores don't improve for 50 rounds\n",
      "Early stopping, best iteration is:\n",
      "[59]\tvalid_0's l2: 5.28104e+09\n",
      "Training until validation scores don't improve for 50 rounds\n",
      "Early stopping, best iteration is:\n",
      "[65]\tvalid_0's l2: 5.284e+09\n",
      "Training until validation scores don't improve for 50 rounds\n"
     ]
    },
    {
     "name": "stderr",
     "output_type": "stream",
     "text": [
      "[I 2024-09-23 18:30:02,849] Trial 2 finished with value: 72685.83638388086 and parameters: {'n_estimators': 955, 'num_leaves': 541, 'max_depth': 51, 'learning_rate': 0.036723279424594156, 'subsample': 0.9543244404043341, 'colsample_bytree': 0.6596180444942726, 'reg_alpha': 3.4894428963481334e-07, 'reg_lambda': 0.015951452190168802, 'min_data_in_leaf': 49, 'feature_fraction': 0.9143406631538383, 'bagging_fraction': 0.5234481596946249, 'bagging_freq': 4, 'min_child_weight': 0.1929820588974466, 'cat_smooth': 65.96096423779524}. Best is trial 1 with value: 72622.76349107274.\n"
     ]
    },
    {
     "name": "stdout",
     "output_type": "stream",
     "text": [
      "Early stopping, best iteration is:\n",
      "[85]\tvalid_0's l2: 5.24611e+09\n",
      "Training until validation scores don't improve for 50 rounds\n",
      "Early stopping, best iteration is:\n",
      "[13]\tvalid_0's l2: 5.37325e+09\n",
      "Training until validation scores don't improve for 50 rounds\n",
      "Early stopping, best iteration is:\n",
      "[13]\tvalid_0's l2: 5.33227e+09\n",
      "Training until validation scores don't improve for 50 rounds\n",
      "Early stopping, best iteration is:\n",
      "[13]\tvalid_0's l2: 5.30816e+09\n",
      "Training until validation scores don't improve for 50 rounds\n",
      "Early stopping, best iteration is:\n",
      "[13]\tvalid_0's l2: 5.31937e+09\n",
      "Training until validation scores don't improve for 50 rounds\n"
     ]
    },
    {
     "name": "stderr",
     "output_type": "stream",
     "text": [
      "[I 2024-09-23 18:30:17,956] Trial 3 finished with value: 72944.33306823419 and parameters: {'n_estimators': 639, 'num_leaves': 643, 'max_depth': 27, 'learning_rate': 0.18362976337563003, 'subsample': 0.6479808534398394, 'colsample_bytree': 0.9419682397805931, 'reg_alpha': 8.97573097030888e-06, 'reg_lambda': 0.004571551229239351, 'min_data_in_leaf': 71, 'feature_fraction': 0.5467301872793251, 'bagging_fraction': 0.9105528289184642, 'bagging_freq': 1, 'min_child_weight': 0.020169108029984395, 'cat_smooth': 87.9550363117174}. Best is trial 1 with value: 72622.76349107274.\n"
     ]
    },
    {
     "name": "stdout",
     "output_type": "stream",
     "text": [
      "Early stopping, best iteration is:\n",
      "[13]\tvalid_0's l2: 5.27132e+09\n",
      "Training until validation scores don't improve for 50 rounds\n",
      "Early stopping, best iteration is:\n",
      "[413]\tvalid_0's l2: 5.31915e+09\n",
      "Training until validation scores don't improve for 50 rounds\n",
      "Early stopping, best iteration is:\n",
      "[469]\tvalid_0's l2: 5.28426e+09\n",
      "Training until validation scores don't improve for 50 rounds\n",
      "Early stopping, best iteration is:\n",
      "[512]\tvalid_0's l2: 5.26398e+09\n",
      "Training until validation scores don't improve for 50 rounds\n",
      "Early stopping, best iteration is:\n",
      "[464]\tvalid_0's l2: 5.26008e+09\n",
      "Training until validation scores don't improve for 50 rounds\n",
      "Early stopping, best iteration is:\n",
      "[452]\tvalid_0's l2: 5.23738e+09\n"
     ]
    },
    {
     "name": "stderr",
     "output_type": "stream",
     "text": [
      "[I 2024-09-23 18:32:11,591] Trial 4 finished with value: 72615.21979414298 and parameters: {'n_estimators': 1192, 'num_leaves': 482, 'max_depth': 52, 'learning_rate': 0.005677045861147304, 'subsample': 0.7986858241154422, 'colsample_bytree': 0.9514158801658137, 'reg_alpha': 0.00016119356219527467, 'reg_lambda': 0.2295120287772858, 'min_data_in_leaf': 43, 'feature_fraction': 0.6785908793172681, 'bagging_fraction': 0.5398065450779821, 'bagging_freq': 2, 'min_child_weight': 0.009645302925851532, 'cat_smooth': 59.405997991322664}. Best is trial 4 with value: 72615.21979414298.\n"
     ]
    },
    {
     "name": "stdout",
     "output_type": "stream",
     "text": [
      "Training until validation scores don't improve for 50 rounds\n",
      "Early stopping, best iteration is:\n",
      "[29]\tvalid_0's l2: 5.33183e+09\n",
      "Training until validation scores don't improve for 50 rounds\n",
      "Early stopping, best iteration is:\n",
      "[31]\tvalid_0's l2: 5.27508e+09\n",
      "Training until validation scores don't improve for 50 rounds\n",
      "Early stopping, best iteration is:\n",
      "[44]\tvalid_0's l2: 5.274e+09\n",
      "Training until validation scores don't improve for 50 rounds\n",
      "Early stopping, best iteration is:\n",
      "[34]\tvalid_0's l2: 5.25815e+09\n",
      "Training until validation scores don't improve for 50 rounds\n"
     ]
    },
    {
     "name": "stderr",
     "output_type": "stream",
     "text": [
      "[I 2024-09-23 18:32:27,982] Trial 5 finished with value: 72650.29940940348 and parameters: {'n_estimators': 528, 'num_leaves': 472, 'max_depth': 26, 'learning_rate': 0.08118455774682055, 'subsample': 0.6731735750400165, 'colsample_bytree': 0.5215486781024972, 'reg_alpha': 0.01903229002492754, 'reg_lambda': 1.1296979705718802, 'min_data_in_leaf': 111, 'feature_fraction': 0.7087545719196335, 'bagging_fraction': 0.8027887821968784, 'bagging_freq': 3, 'min_child_weight': 0.38638467047838265, 'cat_smooth': 18.290082361212804}. Best is trial 4 with value: 72615.21979414298.\n"
     ]
    },
    {
     "name": "stdout",
     "output_type": "stream",
     "text": [
      "Early stopping, best iteration is:\n",
      "[38]\tvalid_0's l2: 5.25126e+09\n",
      "Training until validation scores don't improve for 50 rounds\n",
      "Early stopping, best iteration is:\n",
      "[489]\tvalid_0's l2: 5.323e+09\n",
      "Training until validation scores don't improve for 50 rounds\n",
      "Early stopping, best iteration is:\n",
      "[531]\tvalid_0's l2: 5.28593e+09\n",
      "Training until validation scores don't improve for 50 rounds\n",
      "Early stopping, best iteration is:\n",
      "[492]\tvalid_0's l2: 5.27113e+09\n",
      "Training until validation scores don't improve for 50 rounds\n",
      "Early stopping, best iteration is:\n",
      "[534]\tvalid_0's l2: 5.26403e+09\n",
      "Training until validation scores don't improve for 50 rounds\n",
      "Early stopping, best iteration is:\n",
      "[474]\tvalid_0's l2: 5.24133e+09\n"
     ]
    },
    {
     "name": "stderr",
     "output_type": "stream",
     "text": [
      "[I 2024-09-23 18:33:53,900] Trial 6 finished with value: 72643.53257295403 and parameters: {'n_estimators': 710, 'num_leaves': 310, 'max_depth': 25, 'learning_rate': 0.005323872255879759, 'subsample': 0.778789094331322, 'colsample_bytree': 0.7827535099440838, 'reg_alpha': 7.092404300854912e-05, 'reg_lambda': 0.01483173321964085, 'min_data_in_leaf': 45, 'feature_fraction': 0.9894095728788213, 'bagging_fraction': 0.6698539218189319, 'bagging_freq': 3, 'min_child_weight': 72.85919281852098, 'cat_smooth': 27.591405563189507}. Best is trial 4 with value: 72615.21979414298.\n"
     ]
    },
    {
     "name": "stdout",
     "output_type": "stream",
     "text": [
      "Training until validation scores don't improve for 50 rounds\n",
      "Early stopping, best iteration is:\n",
      "[6]\tvalid_0's l2: 5.38894e+09\n",
      "Training until validation scores don't improve for 50 rounds\n",
      "Early stopping, best iteration is:\n",
      "[6]\tvalid_0's l2: 5.37056e+09\n",
      "Training until validation scores don't improve for 50 rounds\n",
      "Early stopping, best iteration is:\n",
      "[7]\tvalid_0's l2: 5.3866e+09\n",
      "Training until validation scores don't improve for 50 rounds\n",
      "Early stopping, best iteration is:\n",
      "[6]\tvalid_0's l2: 5.35239e+09\n",
      "Training until validation scores don't improve for 50 rounds\n"
     ]
    },
    {
     "name": "stderr",
     "output_type": "stream",
     "text": [
      "[I 2024-09-23 18:34:07,294] Trial 7 finished with value: 73251.28794023386 and parameters: {'n_estimators': 723, 'num_leaves': 508, 'max_depth': 39, 'learning_rate': 0.3645870608221405, 'subsample': 0.534048636768975, 'colsample_bytree': 0.7322654038896663, 'reg_alpha': 0.004916937769207978, 'reg_lambda': 0.7488782916686476, 'min_data_in_leaf': 87, 'feature_fraction': 0.5185472066172039, 'bagging_fraction': 0.6753281956415664, 'bagging_freq': 3, 'min_child_weight': 0.006286070313385454, 'cat_smooth': 32.53375211168362}. Best is trial 4 with value: 72615.21979414298.\n"
     ]
    },
    {
     "name": "stdout",
     "output_type": "stream",
     "text": [
      "Early stopping, best iteration is:\n",
      "[5]\tvalid_0's l2: 5.33026e+09\n",
      "Training until validation scores don't improve for 50 rounds\n",
      "Early stopping, best iteration is:\n",
      "[224]\tvalid_0's l2: 5.31661e+09\n",
      "Training until validation scores don't improve for 50 rounds\n",
      "Early stopping, best iteration is:\n",
      "[284]\tvalid_0's l2: 5.2821e+09\n",
      "Training until validation scores don't improve for 50 rounds\n",
      "Early stopping, best iteration is:\n",
      "[306]\tvalid_0's l2: 5.26571e+09\n",
      "Training until validation scores don't improve for 50 rounds\n",
      "Early stopping, best iteration is:\n",
      "[286]\tvalid_0's l2: 5.25921e+09\n",
      "Training until validation scores don't improve for 50 rounds\n",
      "Early stopping, best iteration is:\n",
      "[285]\tvalid_0's l2: 5.22921e+09\n"
     ]
    },
    {
     "name": "stderr",
     "output_type": "stream",
     "text": [
      "[I 2024-09-23 18:34:47,186] Trial 8 finished with value: 72598.68834861966 and parameters: {'n_estimators': 972, 'num_leaves': 363, 'max_depth': 12, 'learning_rate': 0.010314487673603769, 'subsample': 0.5540318863897262, 'colsample_bytree': 0.5894514042855452, 'reg_alpha': 0.02065202190439409, 'reg_lambda': 0.02893742513973448, 'min_data_in_leaf': 57, 'feature_fraction': 0.8762480851093014, 'bagging_fraction': 0.5534397921967846, 'bagging_freq': 4, 'min_child_weight': 0.06587365495478886, 'cat_smooth': 39.651139374964735}. Best is trial 8 with value: 72598.68834861966.\n"
     ]
    },
    {
     "name": "stdout",
     "output_type": "stream",
     "text": [
      "Training until validation scores don't improve for 50 rounds\n",
      "Did not meet early stopping. Best iteration is:\n",
      "[603]\tvalid_0's l2: 5.48515e+09\n",
      "Training until validation scores don't improve for 50 rounds\n"
     ]
    },
    {
     "name": "stderr",
     "output_type": "stream",
     "text": [
      "[W 2024-09-23 18:35:13,918] Trial 9 failed with parameters: {'n_estimators': 603, 'num_leaves': 373, 'max_depth': 42, 'learning_rate': 0.0013992136034385533, 'subsample': 0.6243062539013847, 'colsample_bytree': 0.7712042581140022, 'reg_alpha': 2.294246403767406e-06, 'reg_lambda': 0.03354641687863073, 'min_data_in_leaf': 114, 'feature_fraction': 0.9626784364338884, 'bagging_fraction': 0.7833749622874999, 'bagging_freq': 3, 'min_child_weight': 0.00012278919376690123, 'cat_smooth': 95.03843220828843} because of the following error: KeyboardInterrupt().\n",
      "Traceback (most recent call last):\n",
      "  File \"c:\\Users\\lerch\\miniconda3\\envs\\cars\\Lib\\site-packages\\optuna\\study\\_optimize.py\", line 197, in _run_trial\n",
      "    value_or_values = func(trial)\n",
      "                      ^^^^^^^^^^^\n",
      "  File \"C:\\Users\\lerch\\AppData\\Local\\Temp\\ipykernel_10548\\1393310619.py\", line 40, in objective\n",
      "    model = lgb.train(\n",
      "            ^^^^^^^^^^\n",
      "  File \"c:\\Users\\lerch\\miniconda3\\envs\\cars\\Lib\\site-packages\\lightgbm\\engine.py\", line 307, in train\n",
      "    booster.update(fobj=fobj)\n",
      "  File \"c:\\Users\\lerch\\miniconda3\\envs\\cars\\Lib\\site-packages\\lightgbm\\basic.py\", line 4136, in update\n",
      "    _LIB.LGBM_BoosterUpdateOneIter(\n",
      "KeyboardInterrupt\n",
      "[W 2024-09-23 18:35:13,923] Trial 9 failed with value None.\n"
     ]
    },
    {
     "ename": "KeyboardInterrupt",
     "evalue": "",
     "output_type": "error",
     "traceback": [
      "\u001b[1;31m---------------------------------------------------------------------------\u001b[0m",
      "\u001b[1;31mKeyboardInterrupt\u001b[0m                         Traceback (most recent call last)",
      "Cell \u001b[1;32mIn[12], line 55\u001b[0m\n\u001b[0;32m     53\u001b[0m sampler \u001b[38;5;241m=\u001b[39m RandomSampler(seed\u001b[38;5;241m=\u001b[39m\u001b[38;5;241m10\u001b[39m) \n\u001b[0;32m     54\u001b[0m study \u001b[38;5;241m=\u001b[39m optuna\u001b[38;5;241m.\u001b[39mcreate_study(sampler\u001b[38;5;241m=\u001b[39msampler, direction\u001b[38;5;241m=\u001b[39m\u001b[38;5;124m'\u001b[39m\u001b[38;5;124mminimize\u001b[39m\u001b[38;5;124m'\u001b[39m)\n\u001b[1;32m---> 55\u001b[0m \u001b[43mstudy\u001b[49m\u001b[38;5;241;43m.\u001b[39;49m\u001b[43moptimize\u001b[49m\u001b[43m(\u001b[49m\u001b[43mobjective\u001b[49m\u001b[43m,\u001b[49m\u001b[43m \u001b[49m\u001b[43mn_trials\u001b[49m\u001b[43m \u001b[49m\u001b[38;5;241;43m=\u001b[39;49m\u001b[43m \u001b[49m\u001b[38;5;241;43m10\u001b[39;49m\u001b[43m)\u001b[49m\n\u001b[0;32m     56\u001b[0m best_trial \u001b[38;5;241m=\u001b[39m study\u001b[38;5;241m.\u001b[39mbest_trial\n\u001b[0;32m     57\u001b[0m best_params \u001b[38;5;241m=\u001b[39m best_trial\u001b[38;5;241m.\u001b[39mparams\n",
      "File \u001b[1;32mc:\\Users\\lerch\\miniconda3\\envs\\cars\\Lib\\site-packages\\optuna\\study\\study.py:475\u001b[0m, in \u001b[0;36mStudy.optimize\u001b[1;34m(self, func, n_trials, timeout, n_jobs, catch, callbacks, gc_after_trial, show_progress_bar)\u001b[0m\n\u001b[0;32m    373\u001b[0m \u001b[38;5;28;01mdef\u001b[39;00m \u001b[38;5;21moptimize\u001b[39m(\n\u001b[0;32m    374\u001b[0m     \u001b[38;5;28mself\u001b[39m,\n\u001b[0;32m    375\u001b[0m     func: ObjectiveFuncType,\n\u001b[1;32m   (...)\u001b[0m\n\u001b[0;32m    382\u001b[0m     show_progress_bar: \u001b[38;5;28mbool\u001b[39m \u001b[38;5;241m=\u001b[39m \u001b[38;5;28;01mFalse\u001b[39;00m,\n\u001b[0;32m    383\u001b[0m ) \u001b[38;5;241m-\u001b[39m\u001b[38;5;241m>\u001b[39m \u001b[38;5;28;01mNone\u001b[39;00m:\n\u001b[0;32m    384\u001b[0m \u001b[38;5;250m    \u001b[39m\u001b[38;5;124;03m\"\"\"Optimize an objective function.\u001b[39;00m\n\u001b[0;32m    385\u001b[0m \n\u001b[0;32m    386\u001b[0m \u001b[38;5;124;03m    Optimization is done by choosing a suitable set of hyperparameter values from a given\u001b[39;00m\n\u001b[1;32m   (...)\u001b[0m\n\u001b[0;32m    473\u001b[0m \u001b[38;5;124;03m            If nested invocation of this method occurs.\u001b[39;00m\n\u001b[0;32m    474\u001b[0m \u001b[38;5;124;03m    \"\"\"\u001b[39;00m\n\u001b[1;32m--> 475\u001b[0m     \u001b[43m_optimize\u001b[49m\u001b[43m(\u001b[49m\n\u001b[0;32m    476\u001b[0m \u001b[43m        \u001b[49m\u001b[43mstudy\u001b[49m\u001b[38;5;241;43m=\u001b[39;49m\u001b[38;5;28;43mself\u001b[39;49m\u001b[43m,\u001b[49m\n\u001b[0;32m    477\u001b[0m \u001b[43m        \u001b[49m\u001b[43mfunc\u001b[49m\u001b[38;5;241;43m=\u001b[39;49m\u001b[43mfunc\u001b[49m\u001b[43m,\u001b[49m\n\u001b[0;32m    478\u001b[0m \u001b[43m        \u001b[49m\u001b[43mn_trials\u001b[49m\u001b[38;5;241;43m=\u001b[39;49m\u001b[43mn_trials\u001b[49m\u001b[43m,\u001b[49m\n\u001b[0;32m    479\u001b[0m \u001b[43m        \u001b[49m\u001b[43mtimeout\u001b[49m\u001b[38;5;241;43m=\u001b[39;49m\u001b[43mtimeout\u001b[49m\u001b[43m,\u001b[49m\n\u001b[0;32m    480\u001b[0m \u001b[43m        \u001b[49m\u001b[43mn_jobs\u001b[49m\u001b[38;5;241;43m=\u001b[39;49m\u001b[43mn_jobs\u001b[49m\u001b[43m,\u001b[49m\n\u001b[0;32m    481\u001b[0m \u001b[43m        \u001b[49m\u001b[43mcatch\u001b[49m\u001b[38;5;241;43m=\u001b[39;49m\u001b[38;5;28;43mtuple\u001b[39;49m\u001b[43m(\u001b[49m\u001b[43mcatch\u001b[49m\u001b[43m)\u001b[49m\u001b[43m \u001b[49m\u001b[38;5;28;43;01mif\u001b[39;49;00m\u001b[43m \u001b[49m\u001b[38;5;28;43misinstance\u001b[39;49m\u001b[43m(\u001b[49m\u001b[43mcatch\u001b[49m\u001b[43m,\u001b[49m\u001b[43m \u001b[49m\u001b[43mIterable\u001b[49m\u001b[43m)\u001b[49m\u001b[43m \u001b[49m\u001b[38;5;28;43;01melse\u001b[39;49;00m\u001b[43m \u001b[49m\u001b[43m(\u001b[49m\u001b[43mcatch\u001b[49m\u001b[43m,\u001b[49m\u001b[43m)\u001b[49m\u001b[43m,\u001b[49m\n\u001b[0;32m    482\u001b[0m \u001b[43m        \u001b[49m\u001b[43mcallbacks\u001b[49m\u001b[38;5;241;43m=\u001b[39;49m\u001b[43mcallbacks\u001b[49m\u001b[43m,\u001b[49m\n\u001b[0;32m    483\u001b[0m \u001b[43m        \u001b[49m\u001b[43mgc_after_trial\u001b[49m\u001b[38;5;241;43m=\u001b[39;49m\u001b[43mgc_after_trial\u001b[49m\u001b[43m,\u001b[49m\n\u001b[0;32m    484\u001b[0m \u001b[43m        \u001b[49m\u001b[43mshow_progress_bar\u001b[49m\u001b[38;5;241;43m=\u001b[39;49m\u001b[43mshow_progress_bar\u001b[49m\u001b[43m,\u001b[49m\n\u001b[0;32m    485\u001b[0m \u001b[43m    \u001b[49m\u001b[43m)\u001b[49m\n",
      "File \u001b[1;32mc:\\Users\\lerch\\miniconda3\\envs\\cars\\Lib\\site-packages\\optuna\\study\\_optimize.py:63\u001b[0m, in \u001b[0;36m_optimize\u001b[1;34m(study, func, n_trials, timeout, n_jobs, catch, callbacks, gc_after_trial, show_progress_bar)\u001b[0m\n\u001b[0;32m     61\u001b[0m \u001b[38;5;28;01mtry\u001b[39;00m:\n\u001b[0;32m     62\u001b[0m     \u001b[38;5;28;01mif\u001b[39;00m n_jobs \u001b[38;5;241m==\u001b[39m \u001b[38;5;241m1\u001b[39m:\n\u001b[1;32m---> 63\u001b[0m         \u001b[43m_optimize_sequential\u001b[49m\u001b[43m(\u001b[49m\n\u001b[0;32m     64\u001b[0m \u001b[43m            \u001b[49m\u001b[43mstudy\u001b[49m\u001b[43m,\u001b[49m\n\u001b[0;32m     65\u001b[0m \u001b[43m            \u001b[49m\u001b[43mfunc\u001b[49m\u001b[43m,\u001b[49m\n\u001b[0;32m     66\u001b[0m \u001b[43m            \u001b[49m\u001b[43mn_trials\u001b[49m\u001b[43m,\u001b[49m\n\u001b[0;32m     67\u001b[0m \u001b[43m            \u001b[49m\u001b[43mtimeout\u001b[49m\u001b[43m,\u001b[49m\n\u001b[0;32m     68\u001b[0m \u001b[43m            \u001b[49m\u001b[43mcatch\u001b[49m\u001b[43m,\u001b[49m\n\u001b[0;32m     69\u001b[0m \u001b[43m            \u001b[49m\u001b[43mcallbacks\u001b[49m\u001b[43m,\u001b[49m\n\u001b[0;32m     70\u001b[0m \u001b[43m            \u001b[49m\u001b[43mgc_after_trial\u001b[49m\u001b[43m,\u001b[49m\n\u001b[0;32m     71\u001b[0m \u001b[43m            \u001b[49m\u001b[43mreseed_sampler_rng\u001b[49m\u001b[38;5;241;43m=\u001b[39;49m\u001b[38;5;28;43;01mFalse\u001b[39;49;00m\u001b[43m,\u001b[49m\n\u001b[0;32m     72\u001b[0m \u001b[43m            \u001b[49m\u001b[43mtime_start\u001b[49m\u001b[38;5;241;43m=\u001b[39;49m\u001b[38;5;28;43;01mNone\u001b[39;49;00m\u001b[43m,\u001b[49m\n\u001b[0;32m     73\u001b[0m \u001b[43m            \u001b[49m\u001b[43mprogress_bar\u001b[49m\u001b[38;5;241;43m=\u001b[39;49m\u001b[43mprogress_bar\u001b[49m\u001b[43m,\u001b[49m\n\u001b[0;32m     74\u001b[0m \u001b[43m        \u001b[49m\u001b[43m)\u001b[49m\n\u001b[0;32m     75\u001b[0m     \u001b[38;5;28;01melse\u001b[39;00m:\n\u001b[0;32m     76\u001b[0m         \u001b[38;5;28;01mif\u001b[39;00m n_jobs \u001b[38;5;241m==\u001b[39m \u001b[38;5;241m-\u001b[39m\u001b[38;5;241m1\u001b[39m:\n",
      "File \u001b[1;32mc:\\Users\\lerch\\miniconda3\\envs\\cars\\Lib\\site-packages\\optuna\\study\\_optimize.py:160\u001b[0m, in \u001b[0;36m_optimize_sequential\u001b[1;34m(study, func, n_trials, timeout, catch, callbacks, gc_after_trial, reseed_sampler_rng, time_start, progress_bar)\u001b[0m\n\u001b[0;32m    157\u001b[0m         \u001b[38;5;28;01mbreak\u001b[39;00m\n\u001b[0;32m    159\u001b[0m \u001b[38;5;28;01mtry\u001b[39;00m:\n\u001b[1;32m--> 160\u001b[0m     frozen_trial \u001b[38;5;241m=\u001b[39m \u001b[43m_run_trial\u001b[49m\u001b[43m(\u001b[49m\u001b[43mstudy\u001b[49m\u001b[43m,\u001b[49m\u001b[43m \u001b[49m\u001b[43mfunc\u001b[49m\u001b[43m,\u001b[49m\u001b[43m \u001b[49m\u001b[43mcatch\u001b[49m\u001b[43m)\u001b[49m\n\u001b[0;32m    161\u001b[0m \u001b[38;5;28;01mfinally\u001b[39;00m:\n\u001b[0;32m    162\u001b[0m     \u001b[38;5;66;03m# The following line mitigates memory problems that can be occurred in some\u001b[39;00m\n\u001b[0;32m    163\u001b[0m     \u001b[38;5;66;03m# environments (e.g., services that use computing containers such as GitHub Actions).\u001b[39;00m\n\u001b[0;32m    164\u001b[0m     \u001b[38;5;66;03m# Please refer to the following PR for further details:\u001b[39;00m\n\u001b[0;32m    165\u001b[0m     \u001b[38;5;66;03m# https://github.com/optuna/optuna/pull/325.\u001b[39;00m\n\u001b[0;32m    166\u001b[0m     \u001b[38;5;28;01mif\u001b[39;00m gc_after_trial:\n",
      "File \u001b[1;32mc:\\Users\\lerch\\miniconda3\\envs\\cars\\Lib\\site-packages\\optuna\\study\\_optimize.py:248\u001b[0m, in \u001b[0;36m_run_trial\u001b[1;34m(study, func, catch)\u001b[0m\n\u001b[0;32m    241\u001b[0m         \u001b[38;5;28;01massert\u001b[39;00m \u001b[38;5;28;01mFalse\u001b[39;00m, \u001b[38;5;124m\"\u001b[39m\u001b[38;5;124mShould not reach.\u001b[39m\u001b[38;5;124m\"\u001b[39m\n\u001b[0;32m    243\u001b[0m \u001b[38;5;28;01mif\u001b[39;00m (\n\u001b[0;32m    244\u001b[0m     frozen_trial\u001b[38;5;241m.\u001b[39mstate \u001b[38;5;241m==\u001b[39m TrialState\u001b[38;5;241m.\u001b[39mFAIL\n\u001b[0;32m    245\u001b[0m     \u001b[38;5;129;01mand\u001b[39;00m func_err \u001b[38;5;129;01mis\u001b[39;00m \u001b[38;5;129;01mnot\u001b[39;00m \u001b[38;5;28;01mNone\u001b[39;00m\n\u001b[0;32m    246\u001b[0m     \u001b[38;5;129;01mand\u001b[39;00m \u001b[38;5;129;01mnot\u001b[39;00m \u001b[38;5;28misinstance\u001b[39m(func_err, catch)\n\u001b[0;32m    247\u001b[0m ):\n\u001b[1;32m--> 248\u001b[0m     \u001b[38;5;28;01mraise\u001b[39;00m func_err\n\u001b[0;32m    249\u001b[0m \u001b[38;5;28;01mreturn\u001b[39;00m frozen_trial\n",
      "File \u001b[1;32mc:\\Users\\lerch\\miniconda3\\envs\\cars\\Lib\\site-packages\\optuna\\study\\_optimize.py:197\u001b[0m, in \u001b[0;36m_run_trial\u001b[1;34m(study, func, catch)\u001b[0m\n\u001b[0;32m    195\u001b[0m \u001b[38;5;28;01mwith\u001b[39;00m get_heartbeat_thread(trial\u001b[38;5;241m.\u001b[39m_trial_id, study\u001b[38;5;241m.\u001b[39m_storage):\n\u001b[0;32m    196\u001b[0m     \u001b[38;5;28;01mtry\u001b[39;00m:\n\u001b[1;32m--> 197\u001b[0m         value_or_values \u001b[38;5;241m=\u001b[39m \u001b[43mfunc\u001b[49m\u001b[43m(\u001b[49m\u001b[43mtrial\u001b[49m\u001b[43m)\u001b[49m\n\u001b[0;32m    198\u001b[0m     \u001b[38;5;28;01mexcept\u001b[39;00m exceptions\u001b[38;5;241m.\u001b[39mTrialPruned \u001b[38;5;28;01mas\u001b[39;00m e:\n\u001b[0;32m    199\u001b[0m         \u001b[38;5;66;03m# TODO(mamu): Handle multi-objective cases.\u001b[39;00m\n\u001b[0;32m    200\u001b[0m         state \u001b[38;5;241m=\u001b[39m TrialState\u001b[38;5;241m.\u001b[39mPRUNED\n",
      "Cell \u001b[1;32mIn[12], line 40\u001b[0m, in \u001b[0;36mobjective\u001b[1;34m(trial)\u001b[0m\n\u001b[0;32m     37\u001b[0m     train_data \u001b[38;5;241m=\u001b[39m lgb\u001b[38;5;241m.\u001b[39mDataset(X_train_fold, label\u001b[38;5;241m=\u001b[39my_train_fold)\n\u001b[0;32m     38\u001b[0m     valid_data \u001b[38;5;241m=\u001b[39m lgb\u001b[38;5;241m.\u001b[39mDataset(X_val_fold, label\u001b[38;5;241m=\u001b[39my_val_fold, reference\u001b[38;5;241m=\u001b[39mtrain_data)\n\u001b[1;32m---> 40\u001b[0m     model \u001b[38;5;241m=\u001b[39m \u001b[43mlgb\u001b[49m\u001b[38;5;241;43m.\u001b[39;49m\u001b[43mtrain\u001b[49m\u001b[43m(\u001b[49m\n\u001b[0;32m     41\u001b[0m \u001b[43m        \u001b[49m\u001b[43mparams\u001b[49m\u001b[43m,\u001b[49m\n\u001b[0;32m     42\u001b[0m \u001b[43m        \u001b[49m\u001b[43mtrain_data\u001b[49m\u001b[43m,\u001b[49m\n\u001b[0;32m     43\u001b[0m \u001b[43m        \u001b[49m\u001b[43mnum_boost_round\u001b[49m\u001b[38;5;241;43m=\u001b[39;49m\u001b[43mn_estimator\u001b[49m\u001b[43m,\u001b[49m\n\u001b[0;32m     44\u001b[0m \u001b[43m        \u001b[49m\u001b[43mvalid_sets\u001b[49m\u001b[38;5;241;43m=\u001b[39;49m\u001b[43m[\u001b[49m\u001b[43mvalid_data\u001b[49m\u001b[43m]\u001b[49m\u001b[43m,\u001b[49m\n\u001b[0;32m     45\u001b[0m \u001b[43m        \u001b[49m\u001b[43mcallbacks\u001b[49m\u001b[38;5;241;43m=\u001b[39;49m\u001b[43m[\u001b[49m\u001b[43mlgb\u001b[49m\u001b[38;5;241;43m.\u001b[39;49m\u001b[43mearly_stopping\u001b[49m\u001b[43m(\u001b[49m\u001b[43mstopping_rounds\u001b[49m\u001b[38;5;241;43m=\u001b[39;49m\u001b[38;5;241;43m50\u001b[39;49m\u001b[43m)\u001b[49m\u001b[43m]\u001b[49m\n\u001b[0;32m     46\u001b[0m \u001b[43m    \u001b[49m\u001b[43m)\u001b[49m\n\u001b[0;32m     48\u001b[0m     train_predictions[val_indices] \u001b[38;5;241m=\u001b[39m model\u001b[38;5;241m.\u001b[39mpredict(X_val_fold, num_iteration\u001b[38;5;241m=\u001b[39mmodel\u001b[38;5;241m.\u001b[39mbest_iteration)\n\u001b[0;32m     50\u001b[0m rmse \u001b[38;5;241m=\u001b[39m mean_squared_error(train_predictions, y_data) \u001b[38;5;241m*\u001b[39m\u001b[38;5;241m*\u001b[39m \u001b[38;5;241m0.5\u001b[39m\n",
      "File \u001b[1;32mc:\\Users\\lerch\\miniconda3\\envs\\cars\\Lib\\site-packages\\lightgbm\\engine.py:307\u001b[0m, in \u001b[0;36mtrain\u001b[1;34m(params, train_set, num_boost_round, valid_sets, valid_names, feval, init_model, feature_name, categorical_feature, keep_training_booster, callbacks)\u001b[0m\n\u001b[0;32m    295\u001b[0m \u001b[38;5;28;01mfor\u001b[39;00m cb \u001b[38;5;129;01min\u001b[39;00m callbacks_before_iter:\n\u001b[0;32m    296\u001b[0m     cb(\n\u001b[0;32m    297\u001b[0m         callback\u001b[38;5;241m.\u001b[39mCallbackEnv(\n\u001b[0;32m    298\u001b[0m             model\u001b[38;5;241m=\u001b[39mbooster,\n\u001b[1;32m   (...)\u001b[0m\n\u001b[0;32m    304\u001b[0m         )\n\u001b[0;32m    305\u001b[0m     )\n\u001b[1;32m--> 307\u001b[0m \u001b[43mbooster\u001b[49m\u001b[38;5;241;43m.\u001b[39;49m\u001b[43mupdate\u001b[49m\u001b[43m(\u001b[49m\u001b[43mfobj\u001b[49m\u001b[38;5;241;43m=\u001b[39;49m\u001b[43mfobj\u001b[49m\u001b[43m)\u001b[49m\n\u001b[0;32m    309\u001b[0m evaluation_result_list: List[_LGBM_BoosterEvalMethodResultType] \u001b[38;5;241m=\u001b[39m []\n\u001b[0;32m    310\u001b[0m \u001b[38;5;66;03m# check evaluation result.\u001b[39;00m\n",
      "File \u001b[1;32mc:\\Users\\lerch\\miniconda3\\envs\\cars\\Lib\\site-packages\\lightgbm\\basic.py:4136\u001b[0m, in \u001b[0;36mBooster.update\u001b[1;34m(self, train_set, fobj)\u001b[0m\n\u001b[0;32m   4133\u001b[0m \u001b[38;5;28;01mif\u001b[39;00m \u001b[38;5;28mself\u001b[39m\u001b[38;5;241m.\u001b[39m__set_objective_to_none:\n\u001b[0;32m   4134\u001b[0m     \u001b[38;5;28;01mraise\u001b[39;00m LightGBMError(\u001b[38;5;124m\"\u001b[39m\u001b[38;5;124mCannot update due to null objective function.\u001b[39m\u001b[38;5;124m\"\u001b[39m)\n\u001b[0;32m   4135\u001b[0m _safe_call(\n\u001b[1;32m-> 4136\u001b[0m     \u001b[43m_LIB\u001b[49m\u001b[38;5;241;43m.\u001b[39;49m\u001b[43mLGBM_BoosterUpdateOneIter\u001b[49m\u001b[43m(\u001b[49m\n\u001b[0;32m   4137\u001b[0m \u001b[43m        \u001b[49m\u001b[38;5;28;43mself\u001b[39;49m\u001b[38;5;241;43m.\u001b[39;49m\u001b[43m_handle\u001b[49m\u001b[43m,\u001b[49m\n\u001b[0;32m   4138\u001b[0m \u001b[43m        \u001b[49m\u001b[43mctypes\u001b[49m\u001b[38;5;241;43m.\u001b[39;49m\u001b[43mbyref\u001b[49m\u001b[43m(\u001b[49m\u001b[43mis_finished\u001b[49m\u001b[43m)\u001b[49m\u001b[43m,\u001b[49m\n\u001b[0;32m   4139\u001b[0m \u001b[43m    \u001b[49m\u001b[43m)\u001b[49m\n\u001b[0;32m   4140\u001b[0m )\n\u001b[0;32m   4141\u001b[0m \u001b[38;5;28mself\u001b[39m\u001b[38;5;241m.\u001b[39m__is_predicted_cur_iter \u001b[38;5;241m=\u001b[39m [\u001b[38;5;28;01mFalse\u001b[39;00m \u001b[38;5;28;01mfor\u001b[39;00m _ \u001b[38;5;129;01min\u001b[39;00m \u001b[38;5;28mrange\u001b[39m(\u001b[38;5;28mself\u001b[39m\u001b[38;5;241m.\u001b[39m__num_dataset)]\n\u001b[0;32m   4142\u001b[0m \u001b[38;5;28;01mreturn\u001b[39;00m is_finished\u001b[38;5;241m.\u001b[39mvalue \u001b[38;5;241m==\u001b[39m \u001b[38;5;241m1\u001b[39m\n",
      "\u001b[1;31mKeyboardInterrupt\u001b[0m: "
     ]
    }
   ],
   "source": [
    "model_preds_train = np.zeros(shape=(num_models, 188533))\n",
    "model_preds_test = np.zeros(shape=(num_models, 125690))\n",
    "\n",
    "for model_number in range(num_models):\n",
    "    A = np.random.randn(X_data.shape[1], X_data.shape[1])\n",
    "    Q, R = np.linalg.qr(A)\n",
    "    X_data = X_data  @ Q\n",
    "        \n",
    "    def objective(trial):\n",
    "        n_estimator = trial.suggest_int(\"n_estimators\", 500, 1200)\n",
    "        params = {\n",
    "            \"num_leaves\" : trial.suggest_int(\"num_leaves\", 300, 700),\n",
    "            \"max_depth\" : trial.suggest_int(\"max_depth\", 10, 60),\n",
    "            \"learning_rate\" : trial.suggest_float(\"learning_rate\", 0.001, 1.0, log=True),\n",
    "            \"subsample\" : trial.suggest_float(\"subsample\", 0.5, 1.0),\n",
    "            \"colsample_bytree\" : trial.suggest_float(\"colsample_bytree\", 0.5, 1.0),\n",
    "            \"reg_alpha\" : trial.suggest_float(\"reg_alpha\", 1e-7, 0.1, log=True),\n",
    "            \"reg_lambda\" : trial.suggest_float(\"reg_lambda\", 1e-3, 1e1, log=True),\n",
    "            \"min_data_in_leaf\" : trial.suggest_int(\"min_data_in_leaf\", 40, 120),\n",
    "            \"feature_fraction\" : trial.suggest_float(\"feature_fraction\", 0.5, 1.0),\n",
    "            \"data_sample_strategy\" : \"bagging\",\n",
    "            \"bagging_fraction\" : trial.suggest_float(\"bagging_fraction\", 0.5, 1.0),\n",
    "            \"bagging_freq\" : trial.suggest_int(\"bagging_freq\", 1, 5),\n",
    "            'min_child_weight': trial.suggest_float('min_child_weight', 1e-4, 1e2, log=True),\n",
    "            'cat_smooth': trial.suggest_float('cat_smooth', 10, 100, log=True),\n",
    "            \"log_period\" : 1000,\n",
    "            \"random_state\" : 129,\n",
    "            \"verbose\" : -1}\n",
    "        train_predictions = np.zeros(188533)\n",
    "\n",
    "        skf = StratifiedKFold(n_splits=fold_number, shuffle=True, random_state=42)\n",
    "\n",
    "        for fold_idx, (train_indices, val_indices) in enumerate(skf.split(X_data.head(188533), y_data)):\n",
    "            X_train_fold, y_train_fold = X_data.iloc[train_indices], y_data.iloc[train_indices]\n",
    "            X_val_fold, y_val_fold = X_data.iloc[val_indices], y_data.iloc[val_indices]\n",
    "\n",
    "            train_data = lgb.Dataset(X_train_fold, label=y_train_fold)\n",
    "            valid_data = lgb.Dataset(X_val_fold, label=y_val_fold, reference=train_data)\n",
    "\n",
    "            model = lgb.train(\n",
    "                params,\n",
    "                train_data,\n",
    "                num_boost_round=n_estimator,\n",
    "                valid_sets=[valid_data],\n",
    "                callbacks=[lgb.early_stopping(stopping_rounds=50)]\n",
    "            )\n",
    "\n",
    "            train_predictions[val_indices] = model.predict(X_val_fold, num_iteration=model.best_iteration)\n",
    "\n",
    "        rmse = mean_squared_error(train_predictions, y_data) ** 0.5\n",
    "\n",
    "        return(rmse)\n",
    "    sampler = RandomSampler(seed=10) \n",
    "    study = optuna.create_study(sampler=sampler, direction='minimize')\n",
    "    study.optimize(objective, n_trials = 10)\n",
    "    best_trial = study.best_trial\n",
    "    best_params = best_trial.params\n",
    "    n_estimators = best_params['n_estimators']\n",
    "    skf = StratifiedKFold(n_splits=fold_number, shuffle=True, random_state=42)\n",
    "    train_predictions = np.zeros(188533)\n",
    "    test_predictions = np.zeros(125690)\n",
    "    for fold_idx, (train_indices, val_indices) in enumerate(skf.split(X_data.head(188533), y_data)):\n",
    "        X_train_fold, y_train_fold = X_data.iloc[train_indices], y_data.iloc[train_indices]\n",
    "        X_val_fold, y_val_fold = X_data.iloc[val_indices], y_data.iloc[val_indices]\n",
    "\n",
    "        train_data = lgb.Dataset(X_train_fold, label=y_train_fold)\n",
    "        valid_data = lgb.Dataset(X_val_fold, label=y_val_fold, reference=train_data)\n",
    "\n",
    "        model = lgb.train(\n",
    "            best_params,\n",
    "            train_data,\n",
    "            num_boost_round=n_estimators,\n",
    "            valid_sets=[valid_data],\n",
    "            callbacks=[lgb.early_stopping(stopping_rounds=50)]\n",
    "        )\n",
    "\n",
    "        train_predictions[val_indices] = model.predict(X_val_fold, num_iteration=model.best_iteration)\n",
    "        test_predictions += model.predict(X_data[188533 : (188533+125690)], num_iteration = model.best_iteration) * (1 / 5)\n",
    "    \n",
    "    model_preds_train[model_number] = train_predictions\n",
    "    model_preds_test[model_number] = test_predictions"
   ]
  }
 ],
 "metadata": {
  "kernelspec": {
   "display_name": "cars",
   "language": "python",
   "name": "python3"
  },
  "language_info": {
   "codemirror_mode": {
    "name": "ipython",
    "version": 3
   },
   "file_extension": ".py",
   "mimetype": "text/x-python",
   "name": "python",
   "nbconvert_exporter": "python",
   "pygments_lexer": "ipython3",
   "version": "3.12.3"
  }
 },
 "nbformat": 4,
 "nbformat_minor": 2
}
