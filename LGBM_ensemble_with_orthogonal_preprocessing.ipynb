{
 "cells": [
  {
   "cell_type": "code",
   "execution_count": null,
   "metadata": {},
   "outputs": [],
   "source": [
    "import numpy as np\n",
    "import pandas as pd\n",
    "from sklearn.metrics import mean_squared_error\n",
    "\n",
    "models = []\n",
    "model_preds_train = np.zeros(shape=(num_models, 188533))\n",
    "model_preds_test = np.zeros(shape=(num_models, 125690))\n",
    "\n",
    "for model_number in range(num_models):\n",
    "    A = np.random.randn(X_data_num.shape[1], X_data_num.shape[1])\n",
    "    Q, R = np.linalg.qr(A)\n",
    "    X_data_num_transformed = X_data_num # @ Q\n",
    "    X_data = pd.concat([pd.DataFrame(X_data_num_transformed), X_data_cat.reset_index(drop=True)], axis=1)\n",
    "    \n",
    "    fold_size = 188533 // fold_number\n",
    "    indices = np.arange(188533)\n",
    "    np.random.shuffle(indices)\n",
    "    \n",
    "    train_predictions = np.zeros(188533)\n",
    "    test_predictions = np.zeros(125690)\n",
    "\n",
    "    print(f\"Now training model number {model_number}\")\n",
    "\n",
    "    for fold_idx in range(fold_number):\n",
    "        val_indices = indices[fold_idx * fold_size:(fold_idx + 1) * fold_size]\n",
    "        train_indices = np.concatenate([indices[:fold_idx * fold_size], indices[(fold_idx + 1) * fold_size:]])\n",
    "\n",
    "        X_train_fold, y_train_fold = X_data.iloc[train_indices], y_train.iloc[train_indices]\n",
    "        X_val_fold, y_val_fold = X_data.iloc[val_indices], y_train.iloc[val_indices]\n",
    "\n",
    "        train_data = lgb.Dataset(X_train_fold, label=y_train_fold, categorical_feature=categorical_features,)\n",
    "        valid_data = lgb.Dataset(X_val_fold, label=y_val_fold, reference=train_data, categorical_feature=categorical_features)\n",
    "        model = lgb.train(\n",
    "            params,\n",
    "            train_data,\n",
    "            num_boost_round=params['n_estimators'],\n",
    "            valid_sets=[valid_data],\n",
    "            callbacks=[lgb.early_stopping(stopping_rounds=50)]\n",
    "        )\n",
    "\n",
    "        train_predictions[val_indices] = model.predict(X_val_fold, num_iteration=model.best_iteration)\n",
    "        test_predictions += model.predict(X_data.iloc[188533:].reset_index(drop=True), num_iteration=model.best_iteration) * (1 / fold_number)\n",
    "    \n",
    "    train_predictions[0] = y_train.iloc[0]\n",
    "\n",
    "    rmse = mean_squared_error(train_predictions, y_train)**(0.5)\n",
    "    \n",
    "    model_preds_train[model_number] = train_predictions\n",
    "    model_preds_test[model_number] = test_predictions"
   ]
  }
 ],
 "metadata": {
  "kernelspec": {
   "display_name": "cars",
   "language": "python",
   "name": "python3"
  },
  "language_info": {
   "name": "python",
   "version": "3.12.3"
  }
 },
 "nbformat": 4,
 "nbformat_minor": 2
}
