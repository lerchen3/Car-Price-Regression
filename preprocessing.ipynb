{
 "cells": [
  {
   "cell_type": "code",
   "execution_count": 54,
   "metadata": {},
   "outputs": [],
   "source": [
    "import pandas as pd\n",
    "import numpy as np\n",
    "from sklearn.preprocessing import StandardScaler\n",
    "\n",
    "training_data = pd.read_csv('train.csv')  # 188533 rows, 13 columns - last column is price\n",
    "test_data = pd.read_csv('test.csv')  # 125690 rows\n",
    "\n",
    "def encode_columns(df):\n",
    "    df['hp'] = df['engine'].str.extract(r'(\\d+\\.?\\d*)HP').astype(float)\n",
    "    quantiles = [0.04 * cnt for cnt in range(26)]\n",
    "    bin_edges = df['hp'].quantile(quantiles).values\n",
    "    df['hp_bin'] = pd.cut(df['hp'], bins=bin_edges, labels=False, include_lowest=True) #bucket into 11 unique (was originally 348)\n",
    "    df['cylinder'] = df['engine'].str.extract(r'(\\d+\\.?\\d*) Cylinder').astype(float) #7 unique\n",
    "\n",
    "    df = df.drop(columns=['engine', 'hp'])\n",
    "    \n",
    "    df['got_V'] = df['model'].str.extract(r'(\\d+\\.?\\d*) V').notna().astype(int)\n",
    "    \n",
    "    df['clean_title'] = df['clean_title'].fillna('unknown')\n",
    "\n",
    "    df = df.drop(columns = ['id'])\n",
    "    return df\n",
    "\n",
    "training_data = encode_columns(training_data)\n",
    "test_data = encode_columns(test_data)"
   ]
  },
  {
   "cell_type": "code",
   "execution_count": 55,
   "metadata": {},
   "outputs": [],
   "source": [
    "test_data['price'] = 0  \n",
    "all_data = pd.concat([training_data, test_data], ignore_index=True)\n",
    "\n",
    "nan_cols = ['fuel_type', 'accident', 'hp_bin', 'cylinder']\n",
    "all_data['nans'] = 0              \n",
    "for nan_col_idx in range(4):\n",
    "    nan_col = nan_cols[nan_col_idx]\n",
    "    all_data['nans'] += all_data[nan_col].isna().astype(int) * (2 ** nan_col_idx) \n",
    "\n",
    "all_data.fillna({'fuel_type': 'unknown', 'accident': 'unknown', 'hp_bin' : -1, 'cylinder': -1}, inplace=True)\n",
    "\n",
    "categorical_features = ['brand', 'model', 'fuel_type', 'transmission', 'ext_col', 'int_col', 'accident', 'clean_title', 'hp_bin', 'cylinder', 'got_V', 'nans']\n",
    "\n",
    "for column in categorical_features:\n",
    "    all_data[column] = pd.Categorical(all_data[column])\n",
    "\n",
    "X_data_gbdt = all_data.drop(columns = ['price'])\n",
    "y_data_gbdt = all_data.head(188533)['price']"
   ]
  },
  {
   "cell_type": "code",
   "execution_count": 56,
   "metadata": {},
   "outputs": [],
   "source": [
    "for column in categorical_features:\n",
    "    mean_values = all_data.head(188533).groupby(column, observed=False)['price'].mean()\n",
    "    all_data[column + '_num'] = all_data[column].map(mean_values)\n",
    "    all_data = all_data.drop(columns = [column])\n",
    "\n",
    "X_data = all_data.drop(columns=['price'])\n",
    "\n",
    "scaler = StandardScaler()\n",
    "numerical = ['model_year', 'milage', 'brand_num', 'model_num', 'fuel_type_num', 'transmission_num', 'ext_col_num', 'int_col_num', 'accident_num', 'clean_title_num', 'hp_bin_num', 'cylinder_num', 'got_V_num', 'nans_num']\n",
    "X_data = pd.DataFrame(scaler.fit_transform(X_data), columns=X_data.columns)\n",
    "y_data = all_data['price'].head(188533)\n",
    "\n",
    "X_data.to_csv('X_data.csv', index=False)\n",
    "y_data.to_csv('y_data.csv', index=False)"
   ]
  }
 ],
 "metadata": {
  "kernelspec": {
   "display_name": "cars",
   "language": "python",
   "name": "python3"
  },
  "language_info": {
   "codemirror_mode": {
    "name": "ipython",
    "version": 3
   },
   "file_extension": ".py",
   "mimetype": "text/x-python",
   "name": "python",
   "nbconvert_exporter": "python",
   "pygments_lexer": "ipython3",
   "version": "3.12.3"
  }
 },
 "nbformat": 4,
 "nbformat_minor": 2
}
